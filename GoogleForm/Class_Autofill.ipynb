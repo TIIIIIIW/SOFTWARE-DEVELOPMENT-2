{
 "cells": [
  {
   "cell_type": "code",
   "execution_count": 1,
   "id": "e6e03216",
   "metadata": {},
   "outputs": [],
   "source": [
    "from selenium import webdriver\n",
    "import pandas as pd\n",
    "import html5lib\n",
    "from selenium.webdriver.common.by import By\n",
    "import time\n",
    "from selenium.webdriver.support.ui import WebDriverWait\n",
    "from selenium.webdriver.support import expected_conditions as EC\n",
    "import numpy as np\n",
    "from datetime import datetime"
   ]
  },
  {
   "cell_type": "code",
   "execution_count": 2,
   "id": "44ba9bd4",
   "metadata": {},
   "outputs": [],
   "source": [
    "class Autofill_google:\n",
    "    \n",
    "    def __init__(self):\n",
    "\n",
    "        self.driver = webdriver.Chrome(r\"C:/Users/Admin/Desktop/SOFTDEV2/SOFTWARE-DEVELOPMENT-2/GoogleForm/chromedriver.exe\")\n",
    "        self.driver.get(\"https://docs.google.com/forms/d/e/1FAIpQLScodw0_8qRRC4cUV0ushbSVvEqiIc2_ddrzCB8iyXADaMFhlg/formResponse\")\n",
    "        \n",
    "    def login(self,Uemail,Upwd):\n",
    "        \n",
    "        try :\n",
    "            \n",
    "            time.sleep(3)\n",
    "            email = self.driver.find_element(By.XPATH, \"//input[@name='identifier']\")\n",
    "            email.clear()\n",
    "            email.send_keys(Uemail)\n",
    "\n",
    "            self.driver.find_element(By.XPATH, \"//*[@id='identifierNext']/div/button\").click()\n",
    "\n",
    "\n",
    "            time.sleep(3)\n",
    "\n",
    "            pwd = self.driver.find_element(By.XPATH, \"//*[@id='password']/div[1]/div/div[1]/input\")\n",
    "            pwd.clear()\n",
    "            pwd.send_keys(Upwd)\n",
    "            self.driver.find_element(By.XPATH, \"//*[@id='passwordNext']/div/button\").click()\n",
    "        \n",
    "        except :\n",
    "            pass\n",
    "    # PART 1 -------------------------------------------------------------------------------------------------------------------------------------\n",
    "    def fill_email(self,User_email=\"s6401012630124@email.kmutnb.ac.th\"):\n",
    "        \n",
    "        try :\n",
    "            \n",
    "            email = self.driver.find_element(By.XPATH, \"//*[@id='mG61Hd']/div[2]/div/div[2]/div[1]/div/div[1]/div[2]/div[1]/div/div[1]/input\")\n",
    "            email.clear()\n",
    "            email.send_keys(User_email)\n",
    "            \n",
    "        except :\n",
    "            \n",
    "            pass\n",
    "        \n",
    "    def Choice_choose(self,select):\n",
    "  \n",
    "        Choice = {\"one\":\"i9\",\"two\":\"i12\",\"three\":\"i15\",\"four\":\"i18\"}\n",
    "        choice_choose = self.driver.find_element(By.XPATH, '//*[@id=\"{}\"]/div[3]/div'.format(Choice[select]))\n",
    "        choice_choose.click()\n",
    "        time.sleep(1)\n",
    "        \n",
    "    def Multi_choice(self,multichoice_user):\n",
    "        \n",
    "        Choice = {\"one\":\"i26\",\"two\":\"i29\",\"three\":\"i32\",\"four\":\"i35\"}\n",
    "        \n",
    "        for select in multichoice_user:\n",
    "            \n",
    "            self.driver.find_element(\"xpath\", '//*[@id=\"{}\"]/div[2]'.format(Choice[select])).click()\n",
    "            time.sleep(1) \n",
    "            \n",
    "    def Select_Box(self,select):\n",
    "        \n",
    "        Choice = {\"one\":\"3\",\"two\":\"4\",\"three\":\"5\",\"four\":\"6\"}\n",
    "        \n",
    "        select_box = self.driver.find_element(\"xpath\", \"//*[@id='mG61Hd']/div[2]/div/div[2]/div[4]/div/div/div[2]/div/div[1]/div[1]/div[1]\")\n",
    "        select_box.click()\n",
    "        time.sleep(1)\n",
    "        \n",
    "        select_choose = self.driver.find_element(\"xpath\", \"//*[@id='mG61Hd']/div[2]/div/div[2]/div[4]/div/div/div[2]/div/div[2]/div[{}]\".format(Choice[select]))\n",
    "        select_choose.click()\n",
    "        time.sleep(1)\n",
    "        \n",
    "    # PART 2 -------------------------------------------------------------------------------------------------------------------------------------      \n",
    "    \n",
    "    def Short_Ans(self,ans):\n",
    "        \n",
    "        short_box = self.driver.find_element(\"xpath\", \"//*[@id='mG61Hd']/div[2]/div/div[2]/div[3]/div/div/div[2]/div/div[1]/div/div[1]/input\")\n",
    "        short_box.clear()\n",
    "        short_box.send_keys(ans)\n",
    "        time.sleep(1)\n",
    "        \n",
    "    def Paragraph_Ans(self,ans):\n",
    "        \n",
    "        paragraph_box = self.driver.find_element(\"xpath\", \"//*[@id='mG61Hd']/div[2]/div/div[2]/div[4]/div/div/div[2]/div/div[1]/div[2]/textarea\")\n",
    "        paragraph_box.clear()\n",
    "        paragraph_box.send_keys(ans)\n",
    "        time.sleep(1)\n",
    "\n",
    "    # PART 3 -------------------------------------------------------------------------------------------------------------------------------------      \n",
    "\n",
    "    def Choose_Scale(self,ans):\n",
    "        \n",
    "        choose_scale = self.driver.find_element(\"xpath\", '//*[@id=\"mG61Hd\"]/div[2]/div/div[2]/div[3]/div/div/div[2]/div[1]/span/div/label[{}]/div[2]/div/div/div[3]'.format(ans))\n",
    "        choose_scale.click()\n",
    "        time.sleep(1)\n",
    "    \n",
    "    def Choose_Grid(self,tans):\n",
    "        \n",
    "        Choice = {\"1\":\"2\",\"2\":\"3\",\"3\":\"4\",\"4\":\"5\",\"5\":\"6\"}\n",
    "        row = 2\n",
    "        for ans in tans :\n",
    "            \n",
    "            if ans in Choice.keys() :\n",
    "                choose_scale = self.driver.find_element(\"xpath\", \"//*[@id='mG61Hd']/div[2]/div/div[2]/div[4]/div/div/div[2]/div/div[1]/div/div[{}]/span/div[{}]/div/div/div[3]\".format(row,Choice[ans]))\n",
    "                choose_scale.click()\n",
    "                time.sleep(1)\n",
    "                \n",
    "            row += 2\n",
    "        \n",
    "    def Multi_Grid(self,tans):\n",
    "        \n",
    "        try :\n",
    "            \n",
    "            for row in range(1,5):\n",
    "            \n",
    "                r_target = 2*row\n",
    "\n",
    "                for ans in tans[row-1]:\n",
    "\n",
    "                    choose_scale = self.driver.find_element(\"xpath\", \"//*[@id='mG61Hd']/div[2]/div/div[2]/div[5]/div/div/div[2]/div/div[1]/div/div[{}]/label[{}]/div/div/div[2]\".format(str(r_target),ans))\n",
    "                    choose_scale.click()\n",
    "                    time.sleep(1)\n",
    "\n",
    "        except :\n",
    "            \n",
    "            pass\n",
    "            \n",
    "        \n",
    "    # PART 4 -------------------------------------------------------------------------------------------------------------------------------------      \n",
    "\n",
    "    def Date_fill(self,date=datetime.today().strftime('%m-%d-%Y')):\n",
    "        \n",
    "        input_d = self.driver.find_element(By.XPATH, \"//*[@id='mG61Hd']/div[2]/div/div[2]/div[3]/div/div/div[2]/div/div/div[2]/div[1]/div/div[1]/input\")\n",
    "        input_d.clear()\n",
    "        input_d.send_keys(date)\n",
    "        \n",
    "    def Time_fill(self,hours=datetime.today().strftime('%H'),min=datetime.today().strftime('%M')):\n",
    "        \n",
    "        input_h = self.driver.find_element(By.XPATH, '//*[@id=\"mG61Hd\"]/div[2]/div/div[2]/div[4]/div/div/div[2]/div/div[1]/div[2]/div[1]/div/div[1]/input')\n",
    "        input_m = self.driver.find_element(By.XPATH, '//*[@id=\"mG61Hd\"]/div[2]/div/div[2]/div[4]/div/div/div[2]/div/div[3]/div/div[1]/div/div[1]/input')\n",
    "        input_h.clear()\n",
    "        input_m.clear()\n",
    "        input_h.send_keys(hours)\n",
    "        input_m.send_keys(min)\n",
    "    \n",
    "    # BUTTON  -------------------------------------------------------------------------------------------------------------------------------------      \n",
    "    \n",
    "    def Button_one(self):\n",
    "        \n",
    "        self.driver.find_element(By.XPATH, \"//*[@id='mG61Hd']/div[2]/div/div[3]/div[1]/div[1]/div\").click()\n",
    "        time.sleep(3)\n",
    "        \n",
    "    def Button_two(self):\n",
    "        \n",
    "        self.driver.find_element(By.XPATH, \"//*[@id='mG61Hd']/div[2]/div/div[3]/div[1]/div[1]/div[2]\").click()\n",
    "        time.sleep(3)\n",
    "        \n",
    "    def Again_(self):\n",
    "        \n",
    "        self.driver.find_element(By.XPATH, '/html/body/div[1]/div[2]/div[1]/div/div[4]/a').click()\n",
    "        time.sleep(3)\n",
    "        \n",
    "    # RUN  -------------------------------------------------------------------------------------------------------------------------------------      \n",
    "\n",
    "    def run(self,data):\n",
    "        \n",
    "        self.fill_email(data[0])\n",
    "        self.Choice_choose(data[1])\n",
    "        self.Multi_choice(data[2])\n",
    "        self.Select_Box(data[3])\n",
    "        self.Button_one()\n",
    "        \n",
    "        self.Short_Ans(data[4])\n",
    "        self.Paragraph_Ans(data[5])\n",
    "        self.Button_two()\n",
    "        \n",
    "        self.Choose_Scale(data[6])\n",
    "        self.Choose_Grid(data[7])\n",
    "        self.Multi_Grid(data[8])\n",
    "        self.Button_two()\n",
    "        \n",
    "        self.Date_fill(data[9])\n",
    "        self.Time_fill(data[10],data[11])\n",
    "        self.Button_two()"
   ]
  },
  {
   "cell_type": "code",
   "execution_count": 10,
   "id": "93d9ab2a",
   "metadata": {
    "scrolled": true
   },
   "outputs": [
    {
     "name": "stderr",
     "output_type": "stream",
     "text": [
      "C:\\Users\\Admin\\AppData\\Local\\Temp\\ipykernel_12816\\341758854.py:5: DeprecationWarning: executable_path has been deprecated, please pass in a Service object\n",
      "  self.driver = webdriver.Chrome(r\"C:/Users/Admin/Desktop/SOFTDEV2/SOFTWARE-DEVELOPMENT-2/GoogleForm/chromedriver.exe\")\n"
     ]
    }
   ],
   "source": [
    "D = Autofill_google()"
   ]
  },
  {
   "cell_type": "code",
   "execution_count": 11,
   "id": "63cd7072",
   "metadata": {},
   "outputs": [],
   "source": [
    "D.login(\"s6401012630043@email.kmutnb.ac.th\",\"1101501132323\")"
   ]
  },
  {
   "cell_type": "code",
   "execution_count": 8,
   "id": "0fbaa92e",
   "metadata": {},
   "outputs": [],
   "source": [
    "\"\"\"\n",
    "[\n",
    "fill_email,Choice,Multi_choice,Select_Box,\n",
    "Short_Ans,Paragraph_Ans,\n",
    "choose_scale,[grid1,grid2,grid3,grid4],[[multi_grid1],[multi_grid2],..,[multi_grid3]],\n",
    "m-d-Y','Hours','Minutes'\n",
    "\n",
    "สำหรับ [grid1,grid2,grid3,grid4] ใส่เป็น เลข 1-5\n",
    "สำหรับ [[multi_grid1],[multi_grid2],..,[multi_grid3]] ใส่เป็น list ที่ด้านในใส่เลข 1-5\n",
    "]\n",
    "\"\"\"\n",
    "data = [\"s6401012630124@email.kmutnb.ac.th\",\"one\",[\"one\",\"two\"],\"one\",\n",
    "        \"KMUTNB\",'มหาวิทยาลัยเทคโนโลยีพระจอมเกล้าพระนครเหนือ (KMUTNB) เป็นมหาวิทยาลัยในกำกับของรัฐบาล ก่อตั้งโดยความร่วมมือระหว่างรัฐบาลไทยกับรัฐบาลเยอรมนี ในปี พ.ศ. 2502 ในนาม \"โรงเรียนเทคนิคพระนครเหนือ\" ก่อนจะยกฐานะในปี พ.ศ. 2507 เป็น \"วิทยาลัยเทคนิคพระนครเหนือ\" และเป็น \"สถาบันเทคโนโลยีพระจอมเกล้า วิทยาเขตพระนครเหนือ\" ในปี พ.ศ. 2514 ต่อมาสถาบันเทคโนโลยีพระจอมเกล้าทั้งสามได้แยกออกจากกันโดยมีอำนาจบริหารเป็นอิสระ ในปี พ.ศ. 2529 และได้ถูกยกฐานะเป็น มหาวิทยาลัยในปี พ.ศ. 2551 ในปัจจุบันมหาวิทยาลัยฯ ได้แบ่งออกเป็น 3 วิทยาเขต ได้แก่ วิทยาเขตกรุงเทพมหานคร, ปราจีนบุรี และระยอง เปิดทำการเรียนการสอนทั้งหมด 13 คณะ 2 วิทยาลัย 2 บัณฑิตวิทยาลัย ตั้งแต่ระดับประกาศณียบัตรวิชาชีพ (ปวช.) ปริญญาตรี ปริญญาโท และ ปริญญาเอก',\n",
    "       \"2\",['2','1','5','3'],[[\"1\",\"3\",\"5\"],[\"2\",\"4\"],[],[\"1\",\"2\"]],\n",
    "       \"05-25-2022\",\"15\",\"36\"\n",
    "       ]\n",
    "\n",
    "data2 = [\"s6401012630124@email.kmutnb.ac.th\",\"one\",[\"two\",\"three\"],\"four\",\n",
    "        \"นกเขาใหญ่\",'นกเขาใหญ่ หรือ นกเขาหลวง เป็นนกชนิดหนึ่งในวงศ์นกพิราบและนกเขา(Columbidae) มีถิ่นอาศัยในเอเชียทางใต้จากประเทศปากีสถาน อินเดียและศรีลังกาทางตะวันออกถึงตอนใต้ของประเทศจีนและเอเชียตะวันออกเฉียงใต้',\n",
    "       \"1\",['1','2','3','4'],[[\"1\",\"2\",\"3\"],[\"1\",\"2\"],[],[\"2\",\"4\"]],\n",
    "       \"12-17-2022\",\"11\",\"02\"\n",
    "       ]\n",
    "\n",
    "data3 = [\"s6401012630124@email.kmutnb.ac.th\",\"one\",[\"one\",\"two\"],\"one\",\n",
    "        \"นนทบุรี\",'จังหวัดนนทบุรีจัดเป็นพื้นที่ในเขตปริมณฑลของกรุงเทพมหานคร มีขนาดเนื้อที่ใหญ่เป็นอันดับที่ 75 ของประเทศ (รวมกรุงเทพมหานคร) แต่มีประชากรหนาแน่นที่สุดเป็นอันดับที่ 2 รองจากกรุงเทพมหานคร',\n",
    "       \"3\",['4','3','2','1'],[[\"5\",\"4\",\"3\"],[\"2\",\"1\"],['1','2'],[\"3\",\"4\",'5']],\n",
    "       \"12-25-2022\",\"01\",\"01\"\n",
    "       ]"
   ]
  },
  {
   "cell_type": "code",
   "execution_count": 12,
   "id": "e018dd71",
   "metadata": {},
   "outputs": [],
   "source": [
    "datas = [data, data2, data3]\n",
    "\n",
    "for i in datas:\n",
    "    if i == datas[2]:\n",
    "        D.run(i)\n",
    "    else:\n",
    "        D.run(i)\n",
    "        D.Again_()"
   ]
  },
  {
   "cell_type": "markdown",
   "id": "08ff8b13",
   "metadata": {},
   "source": [
    "# Part"
   ]
  },
  {
   "cell_type": "code",
   "execution_count": null,
   "id": "988614f3",
   "metadata": {
    "scrolled": true
   },
   "outputs": [],
   "source": [
    "D.login()"
   ]
  },
  {
   "cell_type": "code",
   "execution_count": null,
   "id": "f1899837",
   "metadata": {},
   "outputs": [],
   "source": [
    "D.fill_email()"
   ]
  },
  {
   "cell_type": "code",
   "execution_count": null,
   "id": "3b40e0af",
   "metadata": {
    "scrolled": true
   },
   "outputs": [],
   "source": [
    "D.Choice_choose(\"one\")"
   ]
  },
  {
   "cell_type": "code",
   "execution_count": null,
   "id": "cf21615c",
   "metadata": {},
   "outputs": [],
   "source": [
    "D.Multi_choice([\"one\",\"two\"])"
   ]
  },
  {
   "cell_type": "code",
   "execution_count": null,
   "id": "1c463067",
   "metadata": {},
   "outputs": [],
   "source": [
    "D.Select_Box(\"one\")"
   ]
  },
  {
   "cell_type": "code",
   "execution_count": null,
   "id": "b5398dfc",
   "metadata": {},
   "outputs": [],
   "source": [
    "D.Button_one()"
   ]
  },
  {
   "cell_type": "code",
   "execution_count": null,
   "id": "b96d9387",
   "metadata": {},
   "outputs": [],
   "source": [
    "D.Short_Ans(\"KMUTNB\")"
   ]
  },
  {
   "cell_type": "code",
   "execution_count": null,
   "id": "fee29363",
   "metadata": {},
   "outputs": [],
   "source": [
    "D.Paragraph_Ans('มหาวิทยาลัยเทคโนโลยีพระจอมเกล้าพระนครเหนือ (KMUTNB) เป็นมหาวิทยาลัยในกำกับของรัฐบาล ก่อตั้งโดยความร่วมมือระหว่างรัฐบาลไทยกับรัฐบาลเยอรมนี ในปี พ.ศ. 2502 ในนาม \"โรงเรียนเทคนิคพระนครเหนือ\" ก่อนจะยกฐานะในปี พ.ศ. 2507 เป็น \"วิทยาลัยเทคนิคพระนครเหนือ\" และเป็น \"สถาบันเทคโนโลยีพระจอมเกล้า วิทยาเขตพระนครเหนือ\" ในปี พ.ศ. 2514 ต่อมาสถาบันเทคโนโลยีพระจอมเกล้าทั้งสามได้แยกออกจากกันโดยมีอำนาจบริหารเป็นอิสระ ในปี พ.ศ. 2529 และได้ถูกยกฐานะเป็น มหาวิทยาลัยในปี พ.ศ. 2551 ในปัจจุบันมหาวิทยาลัยฯ ได้แบ่งออกเป็น 3 วิทยาเขต ได้แก่ วิทยาเขตกรุงเทพมหานคร, ปราจีนบุรี และระยอง เปิดทำการเรียนการสอนทั้งหมด 13 คณะ 2 วิทยาลัย 2 บัณฑิตวิทยาลัย ตั้งแต่ระดับประกาศณียบัตรวิชาชีพ (ปวช.) ปริญญาตรี ปริญญาโท และ ปริญญาเอก')"
   ]
  },
  {
   "cell_type": "code",
   "execution_count": null,
   "id": "1ebaaef7",
   "metadata": {},
   "outputs": [],
   "source": [
    "D.Button_two()"
   ]
  },
  {
   "cell_type": "code",
   "execution_count": null,
   "id": "70d00806",
   "metadata": {},
   "outputs": [],
   "source": [
    "D.Choose_Scale(\"2\")"
   ]
  },
  {
   "cell_type": "code",
   "execution_count": null,
   "id": "f475c21f",
   "metadata": {
    "scrolled": true
   },
   "outputs": [],
   "source": [
    "D.Choose_Grid(['2','1','5','3'])"
   ]
  },
  {
   "cell_type": "code",
   "execution_count": null,
   "id": "1271a979",
   "metadata": {
    "scrolled": true
   },
   "outputs": [],
   "source": [
    "D.Multi_Grid([[\"1\",\"3\",\"5\"],[\"2\",\"4\"],[],[\"1\",\"2\"]])"
   ]
  },
  {
   "cell_type": "code",
   "execution_count": null,
   "id": "e8b29d94",
   "metadata": {},
   "outputs": [],
   "source": [
    "D.Button_two()"
   ]
  },
  {
   "cell_type": "code",
   "execution_count": null,
   "id": "3526cfcf",
   "metadata": {},
   "outputs": [],
   "source": [
    "D.Date_fill()"
   ]
  },
  {
   "cell_type": "code",
   "execution_count": null,
   "id": "43796a73",
   "metadata": {},
   "outputs": [],
   "source": [
    "D.Time_fill()"
   ]
  },
  {
   "cell_type": "code",
   "execution_count": null,
   "id": "cd81b317",
   "metadata": {},
   "outputs": [],
   "source": [
    "D.Button_two()"
   ]
  },
  {
   "cell_type": "code",
   "execution_count": null,
   "id": "6d15cc63",
   "metadata": {},
   "outputs": [],
   "source": []
  }
 ],
 "metadata": {
  "kernelspec": {
   "display_name": "Python 3",
   "language": "python",
   "name": "python3"
  },
  "language_info": {
   "codemirror_mode": {
    "name": "ipython",
    "version": 3
   },
   "file_extension": ".py",
   "mimetype": "text/x-python",
   "name": "python",
   "nbconvert_exporter": "python",
   "pygments_lexer": "ipython3",
   "version": "3.10.6"
  },
  "vscode": {
   "interpreter": {
    "hash": "a42ccb73e7d9bfdf27e036f1d2b8b681e55fc0743cc5586bc2474d4a60f4b886"
   }
  }
 },
 "nbformat": 4,
 "nbformat_minor": 5
}
