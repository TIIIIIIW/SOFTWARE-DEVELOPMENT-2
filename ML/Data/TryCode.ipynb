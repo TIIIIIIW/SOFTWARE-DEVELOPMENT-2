{
 "cells": [
  {
   "cell_type": "code",
   "execution_count": null,
   "metadata": {},
   "outputs": [],
   "source": [
    "import pandas as pd\n",
    "\n",
    "def getStockDetails(name,isAnnual):\n",
    "    sections = ['stock-financial-report','stock-financial-ratio']\n",
    "    url = 'https://www.finnomena.com/stock/' + name\n",
    "    driver.get(url)\n",
    "    # headers = []\n",
    "    quarters = []\n",
    "    data = []\n",
    "    toggled = False\n",
    "    for section in sections:\n",
    "            obj = {}\n",
    "            keys = []\n",
    "            # names = []\n",
    "            headerElements = driver.find_element(By.CSS_SELECTOR,\n",
    "        f'#{section}>div>div>div>div>div.table-overflow-wrapper>div.topic-wrapper.user-select-none.float-left.overflow-shadow')\n",
    "            # if len(headers) == 0:\n",
    "            #     for div in BeautifulSoup(headerElements.get_attribute('innerHTML'), 'html.parser').find_all('div', {'class': 'topic'}):\n",
    "            #         headers.append(div.get_text())\n",
    "            if not toggled and isAnnual:\n",
    "                toggled = True\n",
    "                e = driver.find_element(By.CLASS_NAME,'toggle')\n",
    "                webdriver.ActionChains(driver).move_to_element(e).click(e).perform()\n",
    "            for topic in headerElements.find_elements(By.CLASS_NAME,'topic')[1:]:\n",
    "                key = BeautifulSoup(topic.get_attribute('id')).get_text()\n",
    "                keys.append(key)\n",
    "                # name = BeautifulSoup(topic.get_attribute('innerHTML'), 'html.parser').get_text()\n",
    "                # names.append(name)\n",
    "                \n",
    "            contentElements = driver.find_element(By.CSS_SELECTOR, \n",
    "                                f'#{section}>div>div>div>div>div.table-overflow-wrapper>div.content-wrapper.user-select-none')\n",
    "            contentHTML = BeautifulSoup(contentElements.get_attribute('innerHTML'), 'html.parser')\n",
    "            dataWrapper = contentHTML.find_all('div', {'class': 'data-wrapper'})\n",
    "            \n",
    "            if len(quarters) == 0:\n",
    "                for div in contentHTML.find_all('div', {'class': 'year'}):\n",
    "                    quarters.append(div.get_text())\n",
    "            \n",
    "            for i in range(len(dataWrapper)): \n",
    "                values = [data.get_text() for data in dataWrapper[i].find_all('div', {'class': 'data-each'})]\n",
    "                key = f\"{keys[i]}\"\n",
    "                obj[key] = values\n",
    "                data.append(obj)\n",
    "    # return (headers,quarters,data)\n",
    "    return (quarters,data)\n",
    "\n",
    "def getFinancialDetails(symbol,isAnnual):\n",
    "    # headers,quarterlyOrAnnual,responseData = getStockDetails(name=symbol,isAnnual=isAnnual)\n",
    "    quarterlyOrAnnual,responseData = getStockDetails(name=symbol,isAnnual=isAnnual)\n",
    "    data = {}\n",
    "    for d in responseData:\n",
    "        data = dict(list(data.items()) + list(d.items()))\n",
    "    data['Period'] = quarterlyOrAnnual\n",
    "    data['Symbol'] = symbol\n",
    "    df = pd.DataFrame(data) \n",
    "    df = df.iloc[:-1]\n",
    "    df = df.drop(df.columns[[5, 6, 8, 9, 10, 11, 15, 16, 17, 18, 19]], axis=1)\n",
    "    return df"
   ]
  },
  {
   "cell_type": "code",
   "execution_count": 2,
   "metadata": {},
   "outputs": [],
   "source": [
    "import requests\n",
    "response = requests.get('https://www.finnomena.com/stock/AACI')\n",
    "\n",
    "if response.status_code == 404:\n",
    "    pass\n",
    "else:\n",
    "    print(\"Page exists\")"
   ]
  }
 ],
 "metadata": {
  "kernelspec": {
   "display_name": "Python 3",
   "language": "python",
   "name": "python3"
  },
  "language_info": {
   "codemirror_mode": {
    "name": "ipython",
    "version": 3
   },
   "file_extension": ".py",
   "mimetype": "text/x-python",
   "name": "python",
   "nbconvert_exporter": "python",
   "pygments_lexer": "ipython3",
   "version": "3.10.6"
  },
  "orig_nbformat": 4
 },
 "nbformat": 4,
 "nbformat_minor": 2
}
