{
 "cells": [
  {
   "cell_type": "code",
   "execution_count": 16,
   "metadata": {},
   "outputs": [
    {
     "name": "stderr",
     "output_type": "stream",
     "text": [
      "C:\\Users\\Admin\\AppData\\Local\\Temp\\ipykernel_9764\\1595637895.py:13: DeprecationWarning: executable_path has been deprecated, please pass in a Service object\n",
      "  driver = webdriver.Chrome(r\"C:\\Users\\Admin\\Desktop\\SOFTDEV2\\SOFTWARE-DEVELOPMENT-2\\ML\\Data\\chromedriver.exe\")\n"
     ]
    }
   ],
   "source": [
    "from selenium import webdriver\n",
    "from selenium.webdriver.common.by import By\n",
    "from selenium.webdriver.support import expected_conditions as EC\n",
    "from bs4 import BeautifulSoup \n",
    "import time\n",
    "import pandas as pd\n",
    "import requests\n",
    "import sqlite3\n",
    "import numpy as np\n",
    "\n",
    "chrome_options = webdriver.ChromeOptions()\n",
    "chrome_options.add_argument('--no-sandbox')\n",
    "driver = webdriver.Chrome(r\"C:\\Users\\Admin\\Desktop\\SOFTDEV2\\SOFTWARE-DEVELOPMENT-2\\ML\\Data\\chromedriver.exe\")\n",
    "driver.implicitly_wait(30)\n",
    "driver.maximize_window()\n",
    "\n",
    "def login():\n",
    "    try:\n",
    "        driver.get('https://www.finnomena.com/finno-login/')\n",
    "        time.sleep(1)\n",
    "        driver.find_element(By.NAME,'email').send_keys('bungaern2545@gmail.com')\n",
    "        driver.find_element(By.CLASS_NAME,'custom-button').click()\n",
    "        driver.find_element(By.NAME,'current_password').send_keys('tiwtiwtiw2545')\n",
    "        driver.find_element(By.CLASS_NAME,'custom-button').click()\n",
    "    except Exception as e:\n",
    "        print(e)\n",
    "login()"
   ]
  },
  {
   "cell_type": "code",
   "execution_count": 17,
   "metadata": {},
   "outputs": [],
   "source": [
    "def getStockDetails(name):\n",
    "    sections = ['stock-financial-report','stock-financial-ratio']\n",
    "    url = 'https://www.finnomena.com/stock/' + name\n",
    "    driver.get(url)\n",
    "    quarters = []\n",
    "    data = []\n",
    "    for section in sections:\n",
    "            obj = {}\n",
    "            keys = []\n",
    "            headerElements = driver.find_element(By.CSS_SELECTOR,\n",
    "        f'#{section}>div>div>div>div>div.table-overflow-wrapper>div.topic-wrapper.user-select-none.float-left.overflow-shadow')\n",
    "            for topic in headerElements.find_elements(By.CLASS_NAME,'topic')[1:]:\n",
    "                key = BeautifulSoup(topic.get_attribute('id')).get_text()\n",
    "                keys.append(key)\n",
    "            contentElements = driver.find_element(By.CSS_SELECTOR, \n",
    "                                f'#{section}>div>div>div>div>div.table-overflow-wrapper>div.content-wrapper.user-select-none')\n",
    "            contentHTML = BeautifulSoup(contentElements.get_attribute('innerHTML'), 'html.parser')\n",
    "            dataWrapper = contentHTML.find_all('div', {'class': 'data-wrapper'})\n",
    "            if len(quarters) == 0:\n",
    "                for div in contentHTML.find_all('div', {'class': 'year'}):\n",
    "                    quarters.append(div.get_text())\n",
    "            for i in range(len(dataWrapper)): \n",
    "                values = [data.get_text() for data in dataWrapper[i].find_all('div', {'class': 'data-each'})]\n",
    "                key = f\"{keys[i]}\"\n",
    "                obj[key] = values\n",
    "                data.append(obj)\n",
    "    return (quarters,data)\n",
    "\n",
    "def getFinancialDetails(symbol):\n",
    "    quarterlyOrAnnual,responseData = getStockDetails(name=symbol)\n",
    "    data = {}\n",
    "    for d in responseData:\n",
    "        data = dict(list(data.items()) + list(d.items()))\n",
    "    data = {key: data[key] for key in ['Asset', 'TotalDebt', 'Equity', 'Revenue', 'NetProfit', 'ROA', 'ROE']}\n",
    "    data['Period'] = quarterlyOrAnnual\n",
    "    data['Symbol'] = symbol\n",
    "    df = pd.DataFrame(data)\n",
    "    df = df.replace('', '0')\n",
    "    df = df.iloc[:-1]\n",
    "    # df = df.drop(df.columns[[3,5,6,8,9,10,11,12,15,16,17,18,19]], axis=1)\n",
    "    df.iloc[:, :7] = df.iloc[:, :7].applymap(lambda x: x.replace(',', '')).astype(float)\n",
    "    df = df.replace(0.00, np.nan)\n",
    "    return df"
   ]
  },
  {
   "cell_type": "code",
   "execution_count": 18,
   "metadata": {},
   "outputs": [],
   "source": [
    "# detail = getFinancialDetails('WIN')\n",
    "# detail"
   ]
  },
  {
   "cell_type": "code",
   "execution_count": 19,
   "metadata": {},
   "outputs": [],
   "source": [
    "# detail.dtypes"
   ]
  },
  {
   "cell_type": "code",
   "execution_count": 20,
   "metadata": {},
   "outputs": [],
   "source": [
    "def allSymbolset():\n",
    "    conn = sqlite3.connect('share_V2.sqlite')\n",
    "    cursor = conn.cursor()\n",
    "    cursor.execute(\"\"\"SELECT I.Symbol \n",
    "                        FROM Information as I\n",
    "                        INNER JOIN Market as M ON I.MarketId = M.MarketId\n",
    "                        WHERE Mname = 'SET'\n",
    "                        ORDER BY Symbol ASC\"\"\")\n",
    "    result = cursor.fetchall()\n",
    "    values = [item[0][:-3] for item in result]\n",
    "    return values"
   ]
  },
  {
   "cell_type": "code",
   "execution_count": 21,
   "metadata": {},
   "outputs": [],
   "source": [
    "# def FinnomenaDetail():\n",
    "#     values = allSymbolset()\n",
    "#     nameNoData = ['AURA', 'COMM', 'TRUE']\n",
    "#     details_fin = []\n",
    "#     for name in values:\n",
    "#         response = requests.get('https://www.finnomena.com/stock/' + name)\n",
    "#         if (response.status_code == 404) or (name in nameNoData):\n",
    "#             continue\n",
    "#         elif len(details_fin) == 0:\n",
    "#             df1 = getFinancialDetails(symbol=name)\n",
    "#             details_fin.append(df1)\n",
    "#         else:\n",
    "#             df2 = getFinancialDetails(symbol=name)\n",
    "#             df_old = details_fin[0]\n",
    "#             df_new = pd.concat([df_old, df2])\n",
    "#             details_fin[0] = df_new\n",
    "#     return details_fin[0]\n",
    "\n",
    "def FinnomenaDetail():\n",
    "    values = allSymbolset()\n",
    "    nameNoData = ['AURA', 'COMM', 'TRUE']\n",
    "    details = []\n",
    "    for name in values:\n",
    "        response = requests.get('https://www.finnomena.com/stock/' + name)\n",
    "        if (name in nameNoData):\n",
    "            continue\n",
    "        else:\n",
    "            df = getFinancialDetails(symbol=name)\n",
    "            details.append(df)\n",
    "\n",
    "    df_new = pd.concat(details)\n",
    "    return df_new\n",
    "# (response.status_code == 404) or"
   ]
  },
  {
   "cell_type": "code",
   "execution_count": 22,
   "metadata": {},
   "outputs": [
    {
     "name": "stderr",
     "output_type": "stream",
     "text": [
      "C:\\Users\\Admin\\AppData\\Local\\Temp\\ipykernel_9764\\2374899853.py:41: FutureWarning: In a future version, `df.iloc[:, i] = newvals` will attempt to set the values inplace instead of always setting a new array. To retain the old behavior, use either `df[df.columns[i]] = newvals` or, if columns are non-unique, `df.isetitem(i, newvals)`\n",
      "  df.iloc[:, :7] = df.iloc[:, :7].applymap(lambda x: x.replace(',', '')).astype(float)\n"
     ]
    },
    {
     "ename": "KeyError",
     "evalue": "'Asset'",
     "output_type": "error",
     "traceback": [
      "\u001b[1;31m---------------------------------------------------------------------------\u001b[0m",
      "\u001b[1;31mKeyError\u001b[0m                                  Traceback (most recent call last)",
      "\u001b[1;32mc:\\Users\\Admin\\Desktop\\SOFTDEV2\\SOFTWARE-DEVELOPMENT-2\\ML\\Data\\data_finnomena.ipynb Cell 7\u001b[0m in \u001b[0;36m<cell line: 1>\u001b[1;34m()\u001b[0m\n\u001b[1;32m----> <a href='vscode-notebook-cell:/c%3A/Users/Admin/Desktop/SOFTDEV2/SOFTWARE-DEVELOPMENT-2/ML/Data/data_finnomena.ipynb#W6sZmlsZQ%3D%3D?line=0'>1</a>\u001b[0m allDetail \u001b[39m=\u001b[39m FinnomenaDetail()\n\u001b[0;32m      <a href='vscode-notebook-cell:/c%3A/Users/Admin/Desktop/SOFTDEV2/SOFTWARE-DEVELOPMENT-2/ML/Data/data_finnomena.ipynb#W6sZmlsZQ%3D%3D?line=1'>2</a>\u001b[0m allDetail\n",
      "\u001b[1;32mc:\\Users\\Admin\\Desktop\\SOFTDEV2\\SOFTWARE-DEVELOPMENT-2\\ML\\Data\\data_finnomena.ipynb Cell 7\u001b[0m in \u001b[0;36mFinnomenaDetail\u001b[1;34m()\u001b[0m\n\u001b[0;32m     <a href='vscode-notebook-cell:/c%3A/Users/Admin/Desktop/SOFTDEV2/SOFTWARE-DEVELOPMENT-2/ML/Data/data_finnomena.ipynb#W6sZmlsZQ%3D%3D?line=25'>26</a>\u001b[0m         \u001b[39mcontinue\u001b[39;00m\n\u001b[0;32m     <a href='vscode-notebook-cell:/c%3A/Users/Admin/Desktop/SOFTDEV2/SOFTWARE-DEVELOPMENT-2/ML/Data/data_finnomena.ipynb#W6sZmlsZQ%3D%3D?line=26'>27</a>\u001b[0m     \u001b[39melse\u001b[39;00m:\n\u001b[1;32m---> <a href='vscode-notebook-cell:/c%3A/Users/Admin/Desktop/SOFTDEV2/SOFTWARE-DEVELOPMENT-2/ML/Data/data_finnomena.ipynb#W6sZmlsZQ%3D%3D?line=27'>28</a>\u001b[0m         df \u001b[39m=\u001b[39m getFinancialDetails(symbol\u001b[39m=\u001b[39;49mname)\n\u001b[0;32m     <a href='vscode-notebook-cell:/c%3A/Users/Admin/Desktop/SOFTDEV2/SOFTWARE-DEVELOPMENT-2/ML/Data/data_finnomena.ipynb#W6sZmlsZQ%3D%3D?line=28'>29</a>\u001b[0m         details\u001b[39m.\u001b[39mappend(df)\n\u001b[0;32m     <a href='vscode-notebook-cell:/c%3A/Users/Admin/Desktop/SOFTDEV2/SOFTWARE-DEVELOPMENT-2/ML/Data/data_finnomena.ipynb#W6sZmlsZQ%3D%3D?line=30'>31</a>\u001b[0m df_new \u001b[39m=\u001b[39m pd\u001b[39m.\u001b[39mconcat(details)\n",
      "\u001b[1;32mc:\\Users\\Admin\\Desktop\\SOFTDEV2\\SOFTWARE-DEVELOPMENT-2\\ML\\Data\\data_finnomena.ipynb Cell 7\u001b[0m in \u001b[0;36mgetFinancialDetails\u001b[1;34m(symbol)\u001b[0m\n\u001b[0;32m     <a href='vscode-notebook-cell:/c%3A/Users/Admin/Desktop/SOFTDEV2/SOFTWARE-DEVELOPMENT-2/ML/Data/data_finnomena.ipynb#W6sZmlsZQ%3D%3D?line=31'>32</a>\u001b[0m \u001b[39mfor\u001b[39;00m d \u001b[39min\u001b[39;00m responseData:\n\u001b[0;32m     <a href='vscode-notebook-cell:/c%3A/Users/Admin/Desktop/SOFTDEV2/SOFTWARE-DEVELOPMENT-2/ML/Data/data_finnomena.ipynb#W6sZmlsZQ%3D%3D?line=32'>33</a>\u001b[0m     data \u001b[39m=\u001b[39m \u001b[39mdict\u001b[39m(\u001b[39mlist\u001b[39m(data\u001b[39m.\u001b[39mitems()) \u001b[39m+\u001b[39m \u001b[39mlist\u001b[39m(d\u001b[39m.\u001b[39mitems()))\n\u001b[1;32m---> <a href='vscode-notebook-cell:/c%3A/Users/Admin/Desktop/SOFTDEV2/SOFTWARE-DEVELOPMENT-2/ML/Data/data_finnomena.ipynb#W6sZmlsZQ%3D%3D?line=33'>34</a>\u001b[0m data \u001b[39m=\u001b[39m {key: data[key] \u001b[39mfor\u001b[39;00m key \u001b[39min\u001b[39;00m [\u001b[39m'\u001b[39m\u001b[39mAsset\u001b[39m\u001b[39m'\u001b[39m, \u001b[39m'\u001b[39m\u001b[39mTotalDebt\u001b[39m\u001b[39m'\u001b[39m, \u001b[39m'\u001b[39m\u001b[39mEquity\u001b[39m\u001b[39m'\u001b[39m, \u001b[39m'\u001b[39m\u001b[39mRevenue\u001b[39m\u001b[39m'\u001b[39m, \u001b[39m'\u001b[39m\u001b[39mNetProfit\u001b[39m\u001b[39m'\u001b[39m, \u001b[39m'\u001b[39m\u001b[39mROA\u001b[39m\u001b[39m'\u001b[39m, \u001b[39m'\u001b[39m\u001b[39mROE\u001b[39m\u001b[39m'\u001b[39m]}\n\u001b[0;32m     <a href='vscode-notebook-cell:/c%3A/Users/Admin/Desktop/SOFTDEV2/SOFTWARE-DEVELOPMENT-2/ML/Data/data_finnomena.ipynb#W6sZmlsZQ%3D%3D?line=34'>35</a>\u001b[0m data[\u001b[39m'\u001b[39m\u001b[39mPeriod\u001b[39m\u001b[39m'\u001b[39m] \u001b[39m=\u001b[39m quarterlyOrAnnual\n\u001b[0;32m     <a href='vscode-notebook-cell:/c%3A/Users/Admin/Desktop/SOFTDEV2/SOFTWARE-DEVELOPMENT-2/ML/Data/data_finnomena.ipynb#W6sZmlsZQ%3D%3D?line=35'>36</a>\u001b[0m data[\u001b[39m'\u001b[39m\u001b[39mSymbol\u001b[39m\u001b[39m'\u001b[39m] \u001b[39m=\u001b[39m symbol\n",
      "\u001b[1;32mc:\\Users\\Admin\\Desktop\\SOFTDEV2\\SOFTWARE-DEVELOPMENT-2\\ML\\Data\\data_finnomena.ipynb Cell 7\u001b[0m in \u001b[0;36m<dictcomp>\u001b[1;34m(.0)\u001b[0m\n\u001b[0;32m     <a href='vscode-notebook-cell:/c%3A/Users/Admin/Desktop/SOFTDEV2/SOFTWARE-DEVELOPMENT-2/ML/Data/data_finnomena.ipynb#W6sZmlsZQ%3D%3D?line=31'>32</a>\u001b[0m \u001b[39mfor\u001b[39;00m d \u001b[39min\u001b[39;00m responseData:\n\u001b[0;32m     <a href='vscode-notebook-cell:/c%3A/Users/Admin/Desktop/SOFTDEV2/SOFTWARE-DEVELOPMENT-2/ML/Data/data_finnomena.ipynb#W6sZmlsZQ%3D%3D?line=32'>33</a>\u001b[0m     data \u001b[39m=\u001b[39m \u001b[39mdict\u001b[39m(\u001b[39mlist\u001b[39m(data\u001b[39m.\u001b[39mitems()) \u001b[39m+\u001b[39m \u001b[39mlist\u001b[39m(d\u001b[39m.\u001b[39mitems()))\n\u001b[1;32m---> <a href='vscode-notebook-cell:/c%3A/Users/Admin/Desktop/SOFTDEV2/SOFTWARE-DEVELOPMENT-2/ML/Data/data_finnomena.ipynb#W6sZmlsZQ%3D%3D?line=33'>34</a>\u001b[0m data \u001b[39m=\u001b[39m {key: data[key] \u001b[39mfor\u001b[39;00m key \u001b[39min\u001b[39;00m [\u001b[39m'\u001b[39m\u001b[39mAsset\u001b[39m\u001b[39m'\u001b[39m, \u001b[39m'\u001b[39m\u001b[39mTotalDebt\u001b[39m\u001b[39m'\u001b[39m, \u001b[39m'\u001b[39m\u001b[39mEquity\u001b[39m\u001b[39m'\u001b[39m, \u001b[39m'\u001b[39m\u001b[39mRevenue\u001b[39m\u001b[39m'\u001b[39m, \u001b[39m'\u001b[39m\u001b[39mNetProfit\u001b[39m\u001b[39m'\u001b[39m, \u001b[39m'\u001b[39m\u001b[39mROA\u001b[39m\u001b[39m'\u001b[39m, \u001b[39m'\u001b[39m\u001b[39mROE\u001b[39m\u001b[39m'\u001b[39m]}\n\u001b[0;32m     <a href='vscode-notebook-cell:/c%3A/Users/Admin/Desktop/SOFTDEV2/SOFTWARE-DEVELOPMENT-2/ML/Data/data_finnomena.ipynb#W6sZmlsZQ%3D%3D?line=34'>35</a>\u001b[0m data[\u001b[39m'\u001b[39m\u001b[39mPeriod\u001b[39m\u001b[39m'\u001b[39m] \u001b[39m=\u001b[39m quarterlyOrAnnual\n\u001b[0;32m     <a href='vscode-notebook-cell:/c%3A/Users/Admin/Desktop/SOFTDEV2/SOFTWARE-DEVELOPMENT-2/ML/Data/data_finnomena.ipynb#W6sZmlsZQ%3D%3D?line=35'>36</a>\u001b[0m data[\u001b[39m'\u001b[39m\u001b[39mSymbol\u001b[39m\u001b[39m'\u001b[39m] \u001b[39m=\u001b[39m symbol\n",
      "\u001b[1;31mKeyError\u001b[0m: 'Asset'"
     ]
    }
   ],
   "source": [
    "# allDetail = FinnomenaDetail()\n",
    "# allDetail"
   ]
  },
  {
   "cell_type": "code",
   "execution_count": null,
   "metadata": {},
   "outputs": [],
   "source": [
    "# allDetail.dtypes"
   ]
  }
 ],
 "metadata": {
  "kernelspec": {
   "display_name": "Python 3 (ipykernel)",
   "language": "python",
   "name": "python3"
  },
  "language_info": {
   "codemirror_mode": {
    "name": "ipython",
    "version": 3
   },
   "file_extension": ".py",
   "mimetype": "text/x-python",
   "name": "python",
   "nbconvert_exporter": "python",
   "pygments_lexer": "ipython3",
   "version": "3.10.6"
  },
  "vscode": {
   "interpreter": {
    "hash": "a42ccb73e7d9bfdf27e036f1d2b8b681e55fc0743cc5586bc2474d4a60f4b886"
   }
  }
 },
 "nbformat": 4,
 "nbformat_minor": 2
}
