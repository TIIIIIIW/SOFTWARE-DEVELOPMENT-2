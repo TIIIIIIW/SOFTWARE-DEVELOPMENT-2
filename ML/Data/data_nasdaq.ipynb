{
 "cells": [
  {
   "cell_type": "code",
   "execution_count": 1,
   "metadata": {},
   "outputs": [],
   "source": [
    "from alpha_vantage.fundamentaldata import FundamentalData\n",
    "import pandas as pd\n",
    "import time\n",
    "import sqlite3"
   ]
  },
  {
   "cell_type": "code",
   "execution_count": 2,
   "metadata": {},
   "outputs": [],
   "source": [
    "# apikey = '4YLKM5SFV5RXMQCG'\n",
    "# fd = FundamentalData(apikey, output_format = 'pandas')\n",
    "\n",
    "# symbol = 'ACAD'\n",
    "\n",
    "# data = fd.get_balance_sheet_quarterly(symbol)\n",
    "# data1 = fd.get_income_statement_quarterly(symbol)\n",
    "# data = data[0].T\n",
    "# data1 = data1[0].T"
   ]
  },
  {
   "cell_type": "code",
   "execution_count": 3,
   "metadata": {},
   "outputs": [],
   "source": [
    "# result = pd.concat([data, data1])\n",
    "# result = result.T.reset_index()\n",
    "# new_result = result.loc[:,~result.columns.duplicated(keep='first')]\n",
    "# new_result = new_result.drop(new_result.columns[[0,2]], axis=1)\n",
    "\n",
    "# new_result['netIncome'] = result['netIncome']\n",
    "# new_result.iloc[:, 1:] = new_result.iloc[:, 1:].apply(lambda x: pd.to_numeric(x, errors='coerce')).astype(float)\n",
    "\n",
    "# Equity = (new_result['totalAssets'] - new_result['totalLiabilities'])\n",
    "# NetProfit = (new_result['grossProfit'] - new_result['operatingExpenses'])\n",
    "# ROA_value = (new_result['netIncome'] / new_result['totalAssets']) * 100\n",
    "# ROE_value = (new_result['netIncome'] / new_result['totalShareholderEquity']) * 100\n",
    "\n",
    "# new_result['Equity'] = Equity\n",
    "# new_result['NetProfit'] = NetProfit\n",
    "# new_result['ROA'] = ROA_value\n",
    "# new_result['ROE'] = ROE_value\n",
    "# new_result['Symbol'] = symbol"
   ]
  },
  {
   "cell_type": "code",
   "execution_count": 4,
   "metadata": {},
   "outputs": [],
   "source": [
    "# result_after = new_result.drop(new_result.columns[[2,3,4,5,6,7,8,9,10,11,12,13,14,15,16,17,19,20,21,22,23,24,25,26,27,28,29,30,\n",
    "#                                           31,32,33,34,35,36,37,39,40,41,42,43,44,45,46,47,48,49,50,51,52,53,54,55,56,57,58,59,60]]\n",
    "#                                           , axis=1)\n",
    "# result_after = result_after.round(3)\n",
    "# result_after = result_after.rename(columns={\"fiscalDateEnding\": \"Period\", \"totalAssets\": \"Asset\", \"totalLiabilities\": \"TotalDebt\",\n",
    "#                              \"totalRevenue\": \"Revenue\"})\n",
    "# result_after = result_after[['Asset', 'TotalDebt', 'Equity', 'Revenue', 'NetProfit', 'ROA', 'ROE', 'Period', 'Symbol']]\n",
    "# result_after['Period'] = pd.to_datetime(result_after['Period'])\n",
    "# result_after = result_after[~(result_after['Period'].isna())]\n",
    "# result_after = result_after.sort_values(by=['Period'], ascending=True).reset_index(drop=True)\n",
    "# result_after['Period'] = result_after['Period'].dt.quarter.astype(str) +'Q'+ result_after['Period'].dt.year.astype(str)\n",
    "\n",
    "# result_after"
   ]
  },
  {
   "cell_type": "code",
   "execution_count": 5,
   "metadata": {},
   "outputs": [],
   "source": [
    "# result_after.dtypes"
   ]
  },
  {
   "cell_type": "code",
   "execution_count": 6,
   "metadata": {},
   "outputs": [],
   "source": [
    "def get_symbol_id(market):\n",
    "        con = sqlite3.connect('share_V2.sqlite')\n",
    "        cur = con.cursor()\n",
    "        sql = f\"\"\"select Information.Symbol,Information.SymbolId  \n",
    "                from Information Inner join Market on Market.MarketId = Information.MarketId\n",
    "                where Market.Mname = \"{market}\"\n",
    "                \"\"\"\n",
    "        cur.execute(sql)\n",
    "        records = cur.fetchall()\n",
    "        con.close()\n",
    "        symbol_id = {}\n",
    "        for share in records:\n",
    "            symbol_id[share[0]] = share[1]\n",
    "        return symbol_id"
   ]
  },
  {
   "cell_type": "code",
   "execution_count": 7,
   "metadata": {},
   "outputs": [],
   "source": [
    "def alphaVantage_data(symbol):\n",
    "    apikey = '4YLKM5SFV5RXMQCG'\n",
    "    fd = FundamentalData(apikey, output_format = 'pandas')\n",
    "    balance_sheet = fd.get_balance_sheet_quarterly(symbol)\n",
    "    income_state = fd.get_income_statement_quarterly(symbol)\n",
    "    balance_sheet = balance_sheet[0].T\n",
    "    income_state = income_state[0].T\n",
    "    return (balance_sheet, income_state)\n",
    "\n",
    "def calInfo(data):\n",
    "    Equity = (data['totalAssets'] - data['totalLiabilities'])\n",
    "    NetProfit = (data['grossProfit'] - data['operatingExpenses'])\n",
    "    ROA_value = (data['netIncome'] / data['totalAssets']) * 100\n",
    "    ROE_value = (data['netIncome'] / data['totalShareholderEquity']) * 100\n",
    "    data['Equity'] = Equity\n",
    "    data['NetProfit'] = NetProfit\n",
    "    data['ROA'] = ROA_value\n",
    "    data['ROE'] = ROE_value\n",
    "    return data\n",
    "\n",
    "def arrangeAlphaVantageDetail(symbol):\n",
    "    data_balance, data_income = alphaVantage_data(symbol)\n",
    "    result = pd.concat([data_balance, data_income])\n",
    "    result = result.T.reset_index()\n",
    "    new_result = result.loc[:,~result.columns.duplicated(keep='first')]\n",
    "    new_result = new_result.drop(new_result.columns[[0,2]], axis=1)\n",
    "    new_result['netIncome'] = result['netIncome']\n",
    "    new_result.iloc[:, 1:] = new_result.iloc[:, 1:].apply(pd.to_numeric, errors='coerce')\n",
    "    new_result = calInfo(new_result)\n",
    "    new_result['SymbolId'] = str(int(get_symbol_id(\"NASDAQ\")[symbol]))\n",
    "    result_after = new_result.drop(new_result.columns[[2,3,4,5,6,7,8,9,10,11,12,13,14,15,16,17,19,20,21,22,23,24,25,26,27,28,29,30,\n",
    "                                          31,32,33,34,35,36,37,39,40,41,42,43,44,45,46,47,48,49,50,51,52,53,54,55,56,57,58,59,60]]\n",
    "                                          , axis=1)\n",
    "    result_after = result_after.round(3)\n",
    "    result_after = result_after.rename(columns={\"fiscalDateEnding\": \"Period\", \"totalAssets\": \"Asset\", \"totalLiabilities\": \"TotalDebt\",\n",
    "                                \"totalRevenue\": \"Revenue\"})\n",
    "    result_after = result_after[['Asset', 'TotalDebt', 'Equity', 'Revenue', 'NetProfit', 'ROA', 'ROE', 'Period', 'SymbolId']]\n",
    "    result_after['Period'] = pd.to_datetime(result_after['Period'])\n",
    "    result_after = result_after[~(result_after['Period'].isna())]\n",
    "    result_after = result_after.sort_values(by=['Period'], ascending=True).reset_index(drop=True)\n",
    "    result_after['Period'] = result_after['Period'].dt.quarter.astype(str) +'Q'+ result_after['Period'].dt.year.astype(str)\n",
    "    return result_after"
   ]
  },
  {
   "cell_type": "code",
   "execution_count": 8,
   "metadata": {},
   "outputs": [
    {
     "ename": "NameError",
     "evalue": "name 'get_symbol_id' is not defined",
     "output_type": "error",
     "traceback": [
      "\u001b[1;31m---------------------------------------------------------------------------\u001b[0m",
      "\u001b[1;31mNameError\u001b[0m                                 Traceback (most recent call last)",
      "\u001b[1;32mc:\\Users\\JourneyQ\\OneDrive - kmutnb.ac.th\\Desktop\\Quick_file\\year_2-S_2\\Softdev_2_TIW\\SOFTWARE-DEVELOPMENT-2\\ML\\Data\\data_nasdaq.ipynb Cell 8\u001b[0m in \u001b[0;36m<cell line: 1>\u001b[1;34m()\u001b[0m\n\u001b[1;32m----> <a href='vscode-notebook-cell:/c%3A/Users/JourneyQ/OneDrive%20-%20kmutnb.ac.th/Desktop/Quick_file/year_2-S_2/Softdev_2_TIW/SOFTWARE-DEVELOPMENT-2/ML/Data/data_nasdaq.ipynb#X10sZmlsZQ%3D%3D?line=0'>1</a>\u001b[0m result \u001b[39m=\u001b[39m arrangeAlphaVantageDetail(\u001b[39m'\u001b[39;49m\u001b[39mMETA\u001b[39;49m\u001b[39m'\u001b[39;49m)\n\u001b[0;32m      <a href='vscode-notebook-cell:/c%3A/Users/JourneyQ/OneDrive%20-%20kmutnb.ac.th/Desktop/Quick_file/year_2-S_2/Softdev_2_TIW/SOFTWARE-DEVELOPMENT-2/ML/Data/data_nasdaq.ipynb#X10sZmlsZQ%3D%3D?line=1'>2</a>\u001b[0m result\n",
      "\u001b[1;32mc:\\Users\\JourneyQ\\OneDrive - kmutnb.ac.th\\Desktop\\Quick_file\\year_2-S_2\\Softdev_2_TIW\\SOFTWARE-DEVELOPMENT-2\\ML\\Data\\data_nasdaq.ipynb Cell 8\u001b[0m in \u001b[0;36marrangeAlphaVantageDetail\u001b[1;34m(symbol)\u001b[0m\n\u001b[0;32m     <a href='vscode-notebook-cell:/c%3A/Users/JourneyQ/OneDrive%20-%20kmutnb.ac.th/Desktop/Quick_file/year_2-S_2/Softdev_2_TIW/SOFTWARE-DEVELOPMENT-2/ML/Data/data_nasdaq.ipynb#X10sZmlsZQ%3D%3D?line=27'>28</a>\u001b[0m new_result\u001b[39m.\u001b[39miloc[:, \u001b[39m1\u001b[39m:] \u001b[39m=\u001b[39m new_result\u001b[39m.\u001b[39miloc[:, \u001b[39m1\u001b[39m:]\u001b[39m.\u001b[39mapply(pd\u001b[39m.\u001b[39mto_numeric, errors\u001b[39m=\u001b[39m\u001b[39m'\u001b[39m\u001b[39mcoerce\u001b[39m\u001b[39m'\u001b[39m)\n\u001b[0;32m     <a href='vscode-notebook-cell:/c%3A/Users/JourneyQ/OneDrive%20-%20kmutnb.ac.th/Desktop/Quick_file/year_2-S_2/Softdev_2_TIW/SOFTWARE-DEVELOPMENT-2/ML/Data/data_nasdaq.ipynb#X10sZmlsZQ%3D%3D?line=28'>29</a>\u001b[0m new_result \u001b[39m=\u001b[39m calInfo(new_result)\n\u001b[1;32m---> <a href='vscode-notebook-cell:/c%3A/Users/JourneyQ/OneDrive%20-%20kmutnb.ac.th/Desktop/Quick_file/year_2-S_2/Softdev_2_TIW/SOFTWARE-DEVELOPMENT-2/ML/Data/data_nasdaq.ipynb#X10sZmlsZQ%3D%3D?line=29'>30</a>\u001b[0m new_result[\u001b[39m'\u001b[39m\u001b[39mSymbolId\u001b[39m\u001b[39m'\u001b[39m] \u001b[39m=\u001b[39m \u001b[39mstr\u001b[39m(\u001b[39mint\u001b[39m(get_symbol_id(\u001b[39m\"\u001b[39m\u001b[39mNASDAQ\u001b[39m\u001b[39m\"\u001b[39m)[symbol]))\n\u001b[0;32m     <a href='vscode-notebook-cell:/c%3A/Users/JourneyQ/OneDrive%20-%20kmutnb.ac.th/Desktop/Quick_file/year_2-S_2/Softdev_2_TIW/SOFTWARE-DEVELOPMENT-2/ML/Data/data_nasdaq.ipynb#X10sZmlsZQ%3D%3D?line=30'>31</a>\u001b[0m result_after \u001b[39m=\u001b[39m new_result\u001b[39m.\u001b[39mdrop(new_result\u001b[39m.\u001b[39mcolumns[[\u001b[39m2\u001b[39m,\u001b[39m3\u001b[39m,\u001b[39m4\u001b[39m,\u001b[39m5\u001b[39m,\u001b[39m6\u001b[39m,\u001b[39m7\u001b[39m,\u001b[39m8\u001b[39m,\u001b[39m9\u001b[39m,\u001b[39m10\u001b[39m,\u001b[39m11\u001b[39m,\u001b[39m12\u001b[39m,\u001b[39m13\u001b[39m,\u001b[39m14\u001b[39m,\u001b[39m15\u001b[39m,\u001b[39m16\u001b[39m,\u001b[39m17\u001b[39m,\u001b[39m19\u001b[39m,\u001b[39m20\u001b[39m,\u001b[39m21\u001b[39m,\u001b[39m22\u001b[39m,\u001b[39m23\u001b[39m,\u001b[39m24\u001b[39m,\u001b[39m25\u001b[39m,\u001b[39m26\u001b[39m,\u001b[39m27\u001b[39m,\u001b[39m28\u001b[39m,\u001b[39m29\u001b[39m,\u001b[39m30\u001b[39m,\n\u001b[0;32m     <a href='vscode-notebook-cell:/c%3A/Users/JourneyQ/OneDrive%20-%20kmutnb.ac.th/Desktop/Quick_file/year_2-S_2/Softdev_2_TIW/SOFTWARE-DEVELOPMENT-2/ML/Data/data_nasdaq.ipynb#X10sZmlsZQ%3D%3D?line=31'>32</a>\u001b[0m                                       \u001b[39m31\u001b[39m,\u001b[39m32\u001b[39m,\u001b[39m33\u001b[39m,\u001b[39m34\u001b[39m,\u001b[39m35\u001b[39m,\u001b[39m36\u001b[39m,\u001b[39m37\u001b[39m,\u001b[39m39\u001b[39m,\u001b[39m40\u001b[39m,\u001b[39m41\u001b[39m,\u001b[39m42\u001b[39m,\u001b[39m43\u001b[39m,\u001b[39m44\u001b[39m,\u001b[39m45\u001b[39m,\u001b[39m46\u001b[39m,\u001b[39m47\u001b[39m,\u001b[39m48\u001b[39m,\u001b[39m49\u001b[39m,\u001b[39m50\u001b[39m,\u001b[39m51\u001b[39m,\u001b[39m52\u001b[39m,\u001b[39m53\u001b[39m,\u001b[39m54\u001b[39m,\u001b[39m55\u001b[39m,\u001b[39m56\u001b[39m,\u001b[39m57\u001b[39m,\u001b[39m58\u001b[39m,\u001b[39m59\u001b[39m,\u001b[39m60\u001b[39m]]\n\u001b[0;32m     <a href='vscode-notebook-cell:/c%3A/Users/JourneyQ/OneDrive%20-%20kmutnb.ac.th/Desktop/Quick_file/year_2-S_2/Softdev_2_TIW/SOFTWARE-DEVELOPMENT-2/ML/Data/data_nasdaq.ipynb#X10sZmlsZQ%3D%3D?line=32'>33</a>\u001b[0m                                       , axis\u001b[39m=\u001b[39m\u001b[39m1\u001b[39m)\n\u001b[0;32m     <a href='vscode-notebook-cell:/c%3A/Users/JourneyQ/OneDrive%20-%20kmutnb.ac.th/Desktop/Quick_file/year_2-S_2/Softdev_2_TIW/SOFTWARE-DEVELOPMENT-2/ML/Data/data_nasdaq.ipynb#X10sZmlsZQ%3D%3D?line=33'>34</a>\u001b[0m result_after \u001b[39m=\u001b[39m result_after\u001b[39m.\u001b[39mround(\u001b[39m3\u001b[39m)\n",
      "\u001b[1;31mNameError\u001b[0m: name 'get_symbol_id' is not defined"
     ]
    }
   ],
   "source": [
    "result = arrangeAlphaVantageDetail('META')\n",
    "result"
   ]
  },
  {
   "cell_type": "code",
   "execution_count": null,
   "metadata": {},
   "outputs": [],
   "source": [
    "# def AlphaVantageDetail():\n",
    "#     values = allSymbolnasdaq()[:50]\n",
    "#     details_alpha = []\n",
    "#     count = 0\n",
    "#     for name in values:\n",
    "#         if (count == 2):\n",
    "#             time.sleep(65)\n",
    "#             df = arrangeAlphaVantageDetail(name)\n",
    "#             df_old = details_alpha[0]\n",
    "#             df_new = pd.concat([df_old, df])\n",
    "#             details_alpha[0] = df_new\n",
    "#             count = 0\n",
    "#         elif len(details_alpha) == 0:\n",
    "#             df1 = arrangeAlphaVantageDetail(name)\n",
    "#             details_alpha.append(df1)\n",
    "#         else:\n",
    "#             df2 = arrangeAlphaVantageDetail(name)\n",
    "#             df_old = details_alpha[0]\n",
    "#             df_new = pd.concat([df_old, df2])\n",
    "#             details_alpha[0] = df_new\n",
    "#         count+=1\n",
    "#     return details_alpha[0]"
   ]
  }
 ],
 "metadata": {
  "kernelspec": {
   "display_name": "Python 3",
   "language": "python",
   "name": "python3"
  },
  "language_info": {
   "codemirror_mode": {
    "name": "ipython",
    "version": 3
   },
   "file_extension": ".py",
   "mimetype": "text/x-python",
   "name": "python",
   "nbconvert_exporter": "python",
   "pygments_lexer": "ipython3",
   "version": "3.10.6"
  },
  "orig_nbformat": 4,
  "vscode": {
   "interpreter": {
    "hash": "a42ccb73e7d9bfdf27e036f1d2b8b681e55fc0743cc5586bc2474d4a60f4b886"
   }
  }
 },
 "nbformat": 4,
 "nbformat_minor": 2
}
