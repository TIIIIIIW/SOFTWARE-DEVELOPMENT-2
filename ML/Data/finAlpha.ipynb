{
 "cells": [
  {
   "cell_type": "code",
   "execution_count": 47,
   "metadata": {},
   "outputs": [],
   "source": [
    "from selenium import webdriver\n",
    "from selenium.webdriver.common.by import By\n",
    "from selenium.webdriver.support import expected_conditions as EC\n",
    "from bs4 import BeautifulSoup \n",
    "import time\n",
    "import pandas as pd\n",
    "import requests\n",
    "import sqlite3\n",
    "import numpy as np\n",
    "import warnings\n",
    "warnings.filterwarnings(\"ignore\", message=\"In a future version\")"
   ]
  },
  {
   "cell_type": "code",
   "execution_count": 48,
   "metadata": {},
   "outputs": [],
   "source": [
    "def get_symbol_id(market):\n",
    "        con = sqlite3.connect('share_V2.sqlite')\n",
    "        cur = con.cursor()\n",
    "        sql = f\"\"\"select Information.Symbol,Information.SymbolId  \n",
    "                from Information Inner join Market on Market.MarketId = Information.MarketId\n",
    "                where Market.Mname = \"{market}\"\n",
    "                \"\"\"\n",
    "        cur.execute(sql)\n",
    "        records = cur.fetchall()\n",
    "        con.close()\n",
    "        symbol_id = {}\n",
    "        for share in records:\n",
    "            symbol_id[share[0]] = share[1]\n",
    "        return symbol_id"
   ]
  },
  {
   "cell_type": "code",
   "execution_count": 91,
   "metadata": {},
   "outputs": [],
   "source": [
    "#----------------------------------------------FINNOMENA WEB SCRAPE--------------------------------------------------#"
   ]
  },
  {
   "cell_type": "code",
   "execution_count": 92,
   "metadata": {},
   "outputs": [
    {
     "name": "stderr",
     "output_type": "stream",
     "text": [
      "C:\\Users\\Admin\\AppData\\Local\\Temp\\ipykernel_10076\\2382621731.py:3: DeprecationWarning: executable_path has been deprecated, please pass in a Service object\n",
      "  driver = webdriver.Chrome(r\"C:\\Users\\Admin\\Desktop\\SOFTDEV2\\SOFTWARE-DEVELOPMENT-2\\ML\\Data\\chromedriver.exe\")\n"
     ]
    }
   ],
   "source": [
    "chrome_options = webdriver.ChromeOptions()\n",
    "chrome_options.add_argument('--no-sandbox')\n",
    "driver = webdriver.Chrome(r\"C:\\Users\\Admin\\Desktop\\SOFTDEV2\\SOFTWARE-DEVELOPMENT-2\\ML\\Data\\chromedriver.exe\")\n",
    "driver.implicitly_wait(30)\n",
    "\n",
    "def login():\n",
    "    try:\n",
    "        driver.get('https://www.finnomena.com/finno-login/')\n",
    "        time.sleep(1)\n",
    "        driver.find_element(By.NAME,'email').send_keys('bungaern2545@gmail.com')\n",
    "        driver.find_element(By.CLASS_NAME,'custom-button').click()\n",
    "        driver.find_element(By.NAME,'current_password').send_keys('tiwtiwtiw2545')\n",
    "        driver.find_element(By.CLASS_NAME,'custom-button').click()\n",
    "    except Exception as e:\n",
    "        print(e)\n",
    "login()\n",
    "\n",
    "def getStockDetails(name):\n",
    "    sections = ['stock-financial-report','stock-financial-ratio']\n",
    "    url = 'https://www.finnomena.com/stock/' + name\n",
    "    driver.get(url)\n",
    "    quarters = []\n",
    "    data = []\n",
    "    for section in sections:\n",
    "            obj = {}\n",
    "            keys = []\n",
    "            headerElements = driver.find_element(By.CSS_SELECTOR,\n",
    "        f'#{section}>div>div>div>div>div.table-overflow-wrapper>div.topic-wrapper.user-select-none.float-left.overflow-shadow')\n",
    "            for topic in headerElements.find_elements(By.CLASS_NAME,'topic')[1:]:\n",
    "                key = BeautifulSoup(topic.get_attribute('id')).get_text()\n",
    "                keys.append(key)\n",
    "            contentElements = driver.find_element(By.CSS_SELECTOR, \n",
    "                                f'#{section}>div>div>div>div>div.table-overflow-wrapper>div.content-wrapper.user-select-none')\n",
    "            contentHTML = BeautifulSoup(contentElements.get_attribute('innerHTML'), 'html.parser')\n",
    "            dataWrapper = contentHTML.find_all('div', {'class': 'data-wrapper'})\n",
    "            if len(quarters) == 0:\n",
    "                for div in contentHTML.find_all('div', {'class': 'year'}):\n",
    "                    quarters.append(div.get_text())\n",
    "            for i in range(len(dataWrapper)): \n",
    "                values = [data.get_text() for data in dataWrapper[i].find_all('div', {'class': 'data-each'})]\n",
    "                key = f\"{keys[i]}\"\n",
    "                obj[key] = values\n",
    "                data.append(obj)\n",
    "    return (quarters,data)\n",
    "\n",
    "def getFinancialDetails(symbol):\n",
    "    quarterlyOrAnnual,responseData = getStockDetails(name=symbol)\n",
    "    data = {}\n",
    "    for d in responseData:\n",
    "        data = dict(list(data.items()) + list(d.items()))\n",
    "    data = {key: data[key] for key in ['Asset', 'TotalDebt', 'Equity', 'Revenue', 'NetProfit', 'ROA', 'ROE']}\n",
    "    data['Period'] = quarterlyOrAnnual\n",
    "    data['SymbolId'] = str(int(get_symbol_id('SET')[symbol + '.BK']))\n",
    "    df = pd.DataFrame(data)\n",
    "    df = df.replace('', '0')\n",
    "    df = df.iloc[:-1]\n",
    "    df.iloc[:, :7] = df.iloc[:, :7].applymap(lambda x: x.replace(',', '')).astype(float)\n",
    "    df = df.replace(0.00, np.nan)\n",
    "    return df\n",
    "\n",
    "def allSymbolset():\n",
    "    conn = sqlite3.connect('share_V2.sqlite')\n",
    "    cursor = conn.cursor()\n",
    "    cursor.execute(\"\"\"SELECT I.Symbol \n",
    "                        FROM Information as I\n",
    "                        INNER JOIN Market as M ON I.MarketId = M.MarketId\n",
    "                        WHERE Mname = 'SET'\n",
    "                        ORDER BY Symbol ASC\"\"\")\n",
    "    result = cursor.fetchall()\n",
    "    values = [item[0][:-3] for item in result]\n",
    "    return values\n",
    "\n",
    "def FinnomenaDetail():\n",
    "    values = allSymbolset()\n",
    "    nameNoData = ['AURA', 'COMM', 'TRUE']\n",
    "    details = []\n",
    "    for name in values:\n",
    "        response = requests.get('https://www.finnomena.com/stock/' + name)\n",
    "        if (response.status_code == 404) or (name in nameNoData):\n",
    "            continue\n",
    "        else:\n",
    "            df = getFinancialDetails(symbol=name)\n",
    "            details.append(df)\n",
    "    df_new = pd.concat(details)\n",
    "    return df_new"
   ]
  },
  {
   "cell_type": "code",
   "execution_count": 89,
   "metadata": {},
   "outputs": [],
   "source": [
    "#----------------------------------------------ALPHA VANTAGE API--------------------------------------------------#"
   ]
  },
  {
   "cell_type": "code",
   "execution_count": 90,
   "metadata": {},
   "outputs": [],
   "source": [
    "from alpha_vantage.fundamentaldata import FundamentalData\n",
    "\n",
    "def alphaVantage_data(symbol):\n",
    "    apikey = '4YLKM5SFV5RXMQCG'\n",
    "    fd = FundamentalData(apikey, output_format = 'pandas')\n",
    "    balance_sheet = fd.get_balance_sheet_quarterly(symbol)\n",
    "    income_state = fd.get_income_statement_quarterly(symbol)\n",
    "    balance_sheet = balance_sheet[0].T\n",
    "    income_state = income_state[0].T\n",
    "    return (balance_sheet, income_state)\n",
    "\n",
    "def calInfo(data):\n",
    "    Equity = (data['totalAssets'] - data['totalLiabilities'])\n",
    "    NetProfit = (data['grossProfit'] - data['operatingExpenses'])\n",
    "    ROA_value = (data['netIncome'] / data['totalAssets']) * 100\n",
    "    ROE_value = (data['netIncome'] / data['totalShareholderEquity']) * 100\n",
    "    data['Equity'] = Equity\n",
    "    data['NetProfit'] = NetProfit\n",
    "    data['ROA'] = ROA_value\n",
    "    data['ROE'] = ROE_value\n",
    "    return data\n",
    "\n",
    "def arrangeAlphaVantageDetail(symbol):\n",
    "    data_balance, data_income = alphaVantage_data(symbol)\n",
    "    result = pd.concat([data_balance, data_income])\n",
    "    result = result.T.reset_index()\n",
    "    new_result = result.loc[:,~result.columns.duplicated(keep='first')]\n",
    "    new_result = new_result.drop(new_result.columns[[0,2]], axis=1)\n",
    "    new_result['netIncome'] = result['netIncome']\n",
    "    new_result.iloc[:, 1:] = new_result.iloc[:, 1:].apply(pd.to_numeric, errors='coerce')\n",
    "    new_result = calInfo(new_result)\n",
    "    new_result['SymbolId'] = str(int(get_symbol_id(\"NASDAQ\")[symbol]))\n",
    "    result_after = new_result.drop(new_result.columns[[2,3,4,5,6,7,8,9,10,11,12,13,14,15,16,17,19,20,21,22,23,24,25,26,27,28,29,30,\n",
    "                                          31,32,33,34,35,36,37,39,40,41,42,43,44,45,46,47,48,49,50,51,52,53,54,55,56,57,58,59,60]]\n",
    "                                          , axis=1)\n",
    "    result_after = result_after.round(3)\n",
    "    result_after = result_after.rename(columns={\"fiscalDateEnding\": \"Period\", \"totalAssets\": \"Asset\", \"totalLiabilities\": \"TotalDebt\",\n",
    "                                \"totalRevenue\": \"Revenue\"})\n",
    "    result_after = result_after[['Asset', 'TotalDebt', 'Equity', 'Revenue', 'NetProfit', 'ROA', 'ROE', 'Period', 'SymbolId']]\n",
    "    result_after['Period'] = pd.to_datetime(result_after['Period'])\n",
    "    result_after = result_after[~(result_after['Period'].isna())]\n",
    "    result_after = result_after.sort_values(by=['Period'], ascending=True).reset_index(drop=True)\n",
    "    result_after['Period'] = result_after['Period'].dt.quarter.astype(str) +'Q'+ result_after['Period'].dt.year.astype(str)\n",
    "    return result_after\n",
    "\n",
    "def allSymbolnasdaq():\n",
    "    conn = sqlite3.connect('share_V2.sqlite')\n",
    "    cursor = conn.cursor()\n",
    "    cursor.execute(\"\"\"SELECT I.Symbol \n",
    "                        FROM Information as I\n",
    "                        INNER JOIN Market as M ON I.MarketId = M.MarketId\n",
    "                        WHERE Mname = 'NASDAQ'\n",
    "                        ORDER BY Symbol ASC\"\"\")\n",
    "    result = cursor.fetchall()\n",
    "    values = [item[0] for item in result]\n",
    "    return values\n",
    "\n",
    "def AlphaVantageDetail():\n",
    "    values = allSymbolnasdaq()[:50] #ต่อไป 50-100\n",
    "    nameNoData = ['ACAC', 'ACACU']\n",
    "    details_alpha = []\n",
    "    count = 0\n",
    "    for name in values:\n",
    "        if name in nameNoData:\n",
    "            continue\n",
    "        elif (count == 2):\n",
    "            time.sleep(65)\n",
    "            df = arrangeAlphaVantageDetail(name)\n",
    "            details_alpha.append(df)\n",
    "            count = 0\n",
    "        else:\n",
    "            df2 = arrangeAlphaVantageDetail(name)\n",
    "            details_alpha.append(df2)\n",
    "        count+=1\n",
    "    df_new = pd.concat(details_alpha)\n",
    "    return df_new"
   ]
  },
  {
   "cell_type": "code",
   "execution_count": 53,
   "metadata": {},
   "outputs": [],
   "source": [
    "#-------------------------------------------COMBINE ALL DATA TO DATABASE----------------------------------------------#"
   ]
  },
  {
   "cell_type": "code",
   "execution_count": 54,
   "metadata": {},
   "outputs": [],
   "source": [
    "# finDetail = FinnomenaDetail()"
   ]
  },
  {
   "cell_type": "code",
   "execution_count": 55,
   "metadata": {},
   "outputs": [],
   "source": [
    "# finDetail"
   ]
  },
  {
   "cell_type": "code",
   "execution_count": 56,
   "metadata": {},
   "outputs": [],
   "source": [
    "# alphaDetail = AlphaVantageDetail()"
   ]
  },
  {
   "cell_type": "code",
   "execution_count": 57,
   "metadata": {},
   "outputs": [],
   "source": [
    "# alphaDetail"
   ]
  },
  {
   "cell_type": "code",
   "execution_count": 58,
   "metadata": {},
   "outputs": [],
   "source": [
    "# final_data = pd.concat([finDetail, alphaDetail])\n",
    "# final_data"
   ]
  },
  {
   "cell_type": "code",
   "execution_count": 59,
   "metadata": {},
   "outputs": [],
   "source": [
    "# import sqlite3\n",
    "# table_name = 'Financial_quarterly'\n",
    "\n",
    "# conn = sqlite3.connect('share_V2.sqlite')\n",
    "# query = f'Create table if not Exists {table_name} (Asset number, TotalDebt number, Equity number, Revenue number, NetProfit number, ROA number, ROE number, Period text, SymbolId number)'\n",
    "# conn.execute(query)\n",
    "# final_data.to_sql(table_name,conn,if_exists='replace',index=False)\n",
    "# conn.commit()\n",
    "# conn.close()"
   ]
  },
  {
   "cell_type": "code",
   "execution_count": 60,
   "metadata": {},
   "outputs": [],
   "source": [
    "# def combineFinAlpha():\n",
    "#     finDetail = FinnomenaDetail()\n",
    "#     alphaDetail = AlphaVantageDetail()\n",
    "#     final_data = pd.concat([finDetail, alphaDetail])\n",
    "#     return final_data"
   ]
  },
  {
   "cell_type": "code",
   "execution_count": 61,
   "metadata": {},
   "outputs": [],
   "source": [
    "# all_data = combineFinAlpha()\n",
    "# all_data"
   ]
  },
  {
   "cell_type": "code",
   "execution_count": 62,
   "metadata": {},
   "outputs": [],
   "source": [
    "#-------------------------------------------UPDATE DATA IN DATABASE----------------------------------------------#"
   ]
  },
  {
   "cell_type": "code",
   "execution_count": 81,
   "metadata": {},
   "outputs": [],
   "source": [
    "def updateAlphaVantage(symbol):\n",
    "    conn = sqlite3.connect('share_V2.sqlite')\n",
    "    df_db = pd.read_sql_query(\"\"\"SELECT Asset,TotalDebt,Equity,Revenue,NetProfit,ROA,ROE,Period,Symbol,fq.SymbolId FROM Financial_quarterly as fq INNER JOIN Information as i on i.SymbolId = fq.SymbolId ;\"\"\", conn)\n",
    "    if symbol in ['ACAC','ACACU']:\n",
    "        return 'There is no information for this stock.'\n",
    "    elif symbol not in df_db['Symbol'].unique():\n",
    "        data = arrangeAlphaVantageDetail(symbol)\n",
    "        df_db = df_db.drop(columns=['Symbol'])\n",
    "        df_new = pd.concat([df_db, data])\n",
    "        df_new.to_sql('Financial_quarterly', conn, if_exists='append', index=False)\n",
    "        conn.close()\n",
    "        return 'Update Success.'\n",
    "    else:\n",
    "        df_check = pd.read_sql_query(f\"\"\"SELECT Asset,TotalDebt,Equity,Revenue,NetProfit,ROA,ROE,Period,Symbol,fq.SymbolId FROM Financial_quarterly as fq INNER JOIN Information as i on i.SymbolId = fq.SymbolId WHERE Symbol = '{str(symbol)}' ;\"\"\", conn)\n",
    "        data_put = arrangeAlphaVantageDetail(symbol).tail(1)\n",
    "        df_db = df_db.drop(columns=['Symbol'])\n",
    "        if data_put['Period'].unique() not in df_check['Period'].unique():\n",
    "            data_put.to_sql('Financial_quarterly', conn, if_exists='append', index=False)\n",
    "            conn.close()\n",
    "            return 'Update Success.'\n",
    "        else:\n",
    "            return 'This data is up to date.'"
   ]
  },
  {
   "cell_type": "code",
   "execution_count": 97,
   "metadata": {},
   "outputs": [],
   "source": [
    "def updateFinnomena(symbol):\n",
    "    conn = sqlite3.connect('share_V2.sqlite')\n",
    "    df_db = pd.read_sql_query(\"\"\"SELECT Asset,TotalDebt,Equity,Revenue,NetProfit,ROA,ROE,Period,Symbol,fq.SymbolId FROM Financial_quarterly as fq INNER JOIN Information as i on i.SymbolId = fq.SymbolId\"\"\", conn)\n",
    "    if symbol in ['AURA', 'COMM', 'TRUE']:\n",
    "        return 'There is no information for this stock.'\n",
    "    else:\n",
    "        df_check = pd.read_sql_query(f\"\"\"SELECT Asset,TotalDebt,Equity,Revenue,NetProfit,ROA,ROE,Period,Symbol,fq.SymbolId FROM Financial_quarterly as fq INNER JOIN Information as i on i.SymbolId = fq.SymbolId WHERE Symbol = '{str(symbol)+'.BK'}' \"\"\", conn)\n",
    "        data_put = getFinancialDetails(symbol).tail(1)\n",
    "        df_db = df_db.drop(columns=['Symbol'])\n",
    "        if data_put['Period'].unique() not in df_check['Period'].unique():\n",
    "            data_put.to_sql('Financial_quarterly', conn, if_exists='append', index=False)\n",
    "            conn.close()\n",
    "            return 'Update Success'\n",
    "        else:\n",
    "            return 'This data is up to date.'"
   ]
  },
  {
   "cell_type": "code",
   "execution_count": 99,
   "metadata": {},
   "outputs": [],
   "source": [
    "# conn = sqlite3.connect('share_V2.sqlite')\n",
    "# df_db = pd.read_sql_query(\"\"\"SELECT Asset, TotalDebt, Equity, Revenue, NetProfit, ROA, ROE, Period, Symbol, fq.SymbolId\n",
    "#                                 FROM Financial_quarterly as fq \n",
    "#                                 INNER JOIN Information as i on i.SymbolId = fq.SymbolId ;\"\"\", conn)\n",
    "\n",
    "# df_db = df_db.drop(columns=['Symbol'])\n",
    "# df_db"
   ]
  },
  {
   "cell_type": "code",
   "execution_count": 100,
   "metadata": {},
   "outputs": [],
   "source": [
    "# updateAlphaVantage('META')"
   ]
  },
  {
   "cell_type": "code",
   "execution_count": 101,
   "metadata": {},
   "outputs": [],
   "source": [
    "# updateFinnomena('KBANK')"
   ]
  }
 ],
 "metadata": {
  "kernelspec": {
   "display_name": "Python 3",
   "language": "python",
   "name": "python3"
  },
  "language_info": {
   "codemirror_mode": {
    "name": "ipython",
    "version": 3
   },
   "file_extension": ".py",
   "mimetype": "text/x-python",
   "name": "python",
   "nbconvert_exporter": "python",
   "pygments_lexer": "ipython3",
   "version": "3.10.6"
  },
  "orig_nbformat": 4
 },
 "nbformat": 4,
 "nbformat_minor": 2
}
