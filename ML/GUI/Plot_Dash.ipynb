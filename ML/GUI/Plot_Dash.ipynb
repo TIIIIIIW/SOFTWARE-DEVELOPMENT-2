{
 "cells": [
  {
   "cell_type": "code",
   "execution_count": 2,
   "metadata": {},
   "outputs": [
    {
     "name": "stdout",
     "output_type": "stream",
     "text": [
      "Dash is running on http://127.0.0.1:8050/\n",
      "\n",
      "Dash is running on http://127.0.0.1:8050/\n",
      "\n",
      " * Serving Flask app '__main__'\n",
      " * Debug mode: on\n"
     ]
    },
    {
     "ename": "SystemExit",
     "evalue": "1",
     "output_type": "error",
     "traceback": [
      "An exception has occurred, use %tb to see the full traceback.\n",
      "\u001b[1;31mSystemExit\u001b[0m\u001b[1;31m:\u001b[0m 1\n"
     ]
    },
    {
     "name": "stderr",
     "output_type": "stream",
     "text": [
      "c:\\Users\\Admin\\AppData\\Local\\Programs\\Python\\Python310\\lib\\site-packages\\IPython\\core\\interactiveshell.py:3406: UserWarning: To exit: use 'exit', 'quit', or Ctrl-D.\n",
      "  warn(\"To exit: use 'exit', 'quit', or Ctrl-D.\", stacklevel=1)\n"
     ]
    }
   ],
   "source": [
    "from dash import Dash, html, dcc, Input, Output\n",
    "import plotly.graph_objs as go\n",
    "from plotly.subplots import make_subplots\n",
    "import sqlite3\n",
    "import pandas as pd\n",
    "\n",
    "conn = sqlite3.connect('newshare.sqlite')\n",
    "\n",
    "def get_stock_names():\n",
    "    query = \"\"\"SELECT DISTINCT Symbol \n",
    "                FROM Stock_price_day as SP \n",
    "                INNER JOIN Information as I \n",
    "                on I.SymbolId = SP.SymbolId\"\"\"\n",
    "    cursor = conn.execute(query)\n",
    "    stock_names = [row[0] for row in cursor.fetchall()]\n",
    "    return stock_names\n",
    "\n",
    "df = pd.read_sql(\"\"\"SELECT SP.\"Date\", SP.Open, SP.High, SP.Low, SP.Close, SP.\"Adj Close\", SP.Volume, I.Symbol \n",
    "                     FROM Stock_price_day as SP \n",
    "                     INNER JOIN Information as I \n",
    "                     ON I.SymbolId = SP.SymbolId;\"\"\"\n",
    "                     ,conn)\n",
    "\n",
    "app = Dash()\n",
    "\n",
    "app.layout = html.Div([\n",
    "    html.Div([\n",
    "        html.Label('Choose a stock:'),\n",
    "        dcc.Dropdown(\n",
    "            id='stock_dropdown',\n",
    "            options=[{'label': stock, 'value': stock} for stock in get_stock_names()],\n",
    "            value=get_stock_names()[0]\n",
    "        ),\n",
    "    ], style={'width': '30%', 'display': 'inline-block'}),\n",
    "    dcc.Graph(id='candles')\n",
    "])\n",
    "\n",
    "@app.callback(Output('candles', 'figure'),Input('stock_dropdown', 'value'))\n",
    "def update_candlestick_chart(value):\n",
    "    \n",
    "    df_plot = df[(df['Symbol'] == value)].tail(100)\n",
    "\n",
    "    my_range = pd.date_range(start= min(df_plot['Date']), end= max(df_plot['Date']), freq='D')\n",
    "    missing_date = my_range.difference(df_plot['Date']).strftime(\"%Y-%m-%d\").tolist()\n",
    "\n",
    "    candles = make_subplots(rows=2, cols=1, shared_xaxes=True, vertical_spacing=0.05)\n",
    "    candles.add_trace(go.Candlestick(x=df_plot['Date'],\n",
    "                                         open=df_plot['Open'],\n",
    "                                         high=df_plot['High'],\n",
    "                                         low=df_plot['Low'],\n",
    "                                         close=df_plot['Close']), row=1, col=1)\n",
    "\n",
    "    candles.add_trace(go.Bar(x=df_plot['Date'],\n",
    "                                y=df_plot['Volume'],), row=2, col=1)\n",
    "\n",
    "    candles.update_xaxes(\n",
    "    rangebreaks=[\n",
    "        dict(bounds=[\"sat\", \"mon\"]), dict(values=missing_date)])\n",
    "    candles.update(layout_xaxis_rangeslider_visible=False)\n",
    "\n",
    "    return candles\n",
    "\n",
    "if __name__ == '__main__':\n",
    "    app.run_server(debug=True)"
   ]
  }
 ],
 "metadata": {
  "kernelspec": {
   "display_name": "Python 3",
   "language": "python",
   "name": "python3"
  },
  "language_info": {
   "codemirror_mode": {
    "name": "ipython",
    "version": 3
   },
   "file_extension": ".py",
   "mimetype": "text/x-python",
   "name": "python",
   "nbconvert_exporter": "python",
   "pygments_lexer": "ipython3",
   "version": "3.10.6"
  },
  "orig_nbformat": 4,
  "vscode": {
   "interpreter": {
    "hash": "a42ccb73e7d9bfdf27e036f1d2b8b681e55fc0743cc5586bc2474d4a60f4b886"
   }
  }
 },
 "nbformat": 4,
 "nbformat_minor": 2
}
