{
 "cells": [
  {
   "cell_type": "code",
   "execution_count": 2,
   "metadata": {},
   "outputs": [],
   "source": [
    "import sqlite3\n",
    "import pandas as pd\n",
    "from datetime import datetime, timedelta\n"
   ]
  },
  {
   "cell_type": "code",
   "execution_count": null,
   "metadata": {},
   "outputs": [],
   "source": [
    "conn = sqlite3.connect(r'C:\\Users\\Admin\\Desktop\\SOFTDEV2\\SOFTWARE-DEVELOPMENT-2\\share_V3.sqlite')\n",
    "sqlquery = pd.read_sql(f\"\"\"SELECT spd.Date, spd.Open, spd.High, spd.Low, spd.Close, spd.Volume, i.Symbol FROM Stock_price_day as spd\n",
    "                            INNER JOIN Information as i ON i.SymbolId = spd.SymbolId\n",
    "                            WHERE i.Symbol = 'KBANK.BK'\n",
    "                            ORDER BY Date DESC;\"\"\", conn)\n",
    "\n",
    "sqlquery"
   ]
  }
 ],
 "metadata": {
  "kernelspec": {
   "display_name": "Python 3",
   "language": "python",
   "name": "python3"
  },
  "language_info": {
   "codemirror_mode": {
    "name": "ipython",
    "version": 3
   },
   "file_extension": ".py",
   "mimetype": "text/x-python",
   "name": "python",
   "nbconvert_exporter": "python",
   "pygments_lexer": "ipython3",
   "version": "3.10.6"
  },
  "orig_nbformat": 4,
  "vscode": {
   "interpreter": {
    "hash": "a42ccb73e7d9bfdf27e036f1d2b8b681e55fc0743cc5586bc2474d4a60f4b886"
   }
  }
 },
 "nbformat": 4,
 "nbformat_minor": 2
}
