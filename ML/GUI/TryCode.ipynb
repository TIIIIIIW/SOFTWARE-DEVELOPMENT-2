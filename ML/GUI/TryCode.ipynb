{
 "cells": [
  {
   "cell_type": "code",
   "execution_count": 2,
   "metadata": {},
   "outputs": [],
   "source": [
    "import sqlite3\n",
    "import pandas as pd\n",
    "from datetime import datetime, timedelta\n"
   ]
  },
  {
   "cell_type": "code",
   "execution_count": 1,
   "metadata": {},
   "outputs": [
    {
     "ename": "SystemExit",
     "evalue": "0",
     "output_type": "error",
     "traceback": [
      "An exception has occurred, use %tb to see the full traceback.\n",
      "\u001b[1;31mSystemExit\u001b[0m\u001b[1;31m:\u001b[0m 0\n"
     ]
    },
    {
     "name": "stderr",
     "output_type": "stream",
     "text": [
      "c:\\Users\\Admin\\AppData\\Local\\Programs\\Python\\Python310\\lib\\site-packages\\IPython\\core\\interactiveshell.py:3406: UserWarning: To exit: use 'exit', 'quit', or Ctrl-D.\n",
      "  warn(\"To exit: use 'exit', 'quit', or Ctrl-D.\", stacklevel=1)\n"
     ]
    }
   ],
   "source": [
    "import sys\n",
    "import time\n",
    "from PyQt5.QtCore import QThread, pyqtSignal\n",
    "from PyQt5.QtWidgets import QApplication, QWidget, QVBoxLayout, QLabel, QPushButton, QProgressBar\n",
    "\n",
    "class MyThread(QThread):\n",
    "    progress = pyqtSignal(int)\n",
    "\n",
    "    def __init__(self):\n",
    "        QThread.__init__(self)\n",
    "\n",
    "    def run(self):\n",
    "        for i in range(101):\n",
    "            self.progress.emit(i)\n",
    "            time.sleep(0.1)\n",
    "\n",
    "class MainWindow(QWidget):\n",
    "    def __init__(self):\n",
    "        super().__init__()\n",
    "\n",
    "        self.setWindowTitle(\"Multithreading in PyQt\")\n",
    "        self.setGeometry(100, 100, 300, 200)\n",
    "\n",
    "        self.status_label = QLabel(\"Click the button to start the thread.\")\n",
    "        self.progress_bar = QProgressBar()\n",
    "        self.start_button = QPushButton(\"Start\")\n",
    "\n",
    "        layout = QVBoxLayout()\n",
    "        layout.addWidget(self.status_label)\n",
    "        layout.addWidget(self.progress_bar)\n",
    "        layout.addWidget(self.start_button)\n",
    "\n",
    "        self.setLayout(layout)\n",
    "\n",
    "        self.start_button.clicked.connect(self.start_thread)\n",
    "\n",
    "    def start_thread(self):\n",
    "        self.status_label.setText(\"Thread started\")\n",
    "        self.start_button.setEnabled(False)\n",
    "\n",
    "        self.my_thread = MyThread()\n",
    "        self.my_thread.progress.connect(self.on_thread_progress)\n",
    "        self.my_thread.finished.connect(self.on_thread_finished)\n",
    "\n",
    "        self.my_thread.start()\n",
    "\n",
    "    def on_thread_progress(self, value):\n",
    "        self.progress_bar.setValue(value)\n",
    "\n",
    "    def on_thread_finished(self):\n",
    "        self.status_label.setText(\"Thread finished\")\n",
    "        self.start_button.setEnabled(True)\n",
    "\n",
    "if __name__ == '__main__':\n",
    "    app = QApplication(sys.argv)\n",
    "    main_window = MainWindow()\n",
    "    main_window.show()\n",
    "    sys.exit(app.exec_())"
   ]
  }
 ],
 "metadata": {
  "kernelspec": {
   "display_name": "Python 3",
   "language": "python",
   "name": "python3"
  },
  "language_info": {
   "codemirror_mode": {
    "name": "ipython",
    "version": 3
   },
   "file_extension": ".py",
   "mimetype": "text/x-python",
   "name": "python",
   "nbconvert_exporter": "python",
   "pygments_lexer": "ipython3",
   "version": "3.10.6"
  },
  "orig_nbformat": 4,
  "vscode": {
   "interpreter": {
    "hash": "a42ccb73e7d9bfdf27e036f1d2b8b681e55fc0743cc5586bc2474d4a60f4b886"
   }
  }
 },
 "nbformat": 4,
 "nbformat_minor": 2
}
