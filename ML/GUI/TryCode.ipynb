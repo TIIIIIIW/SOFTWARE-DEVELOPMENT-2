{
 "cells": [
  {
   "cell_type": "code",
   "execution_count": 1,
   "metadata": {},
   "outputs": [],
   "source": [
    "import sqlite3\n",
    "import pandas as pd"
   ]
  },
  {
   "cell_type": "code",
   "execution_count": 2,
   "metadata": {},
   "outputs": [],
   "source": [
    "# from dash import Dash, html, dcc, Input, Output\n",
    "# import plotly.graph_objs as go\n",
    "# from plotly.subplots import make_subplots\n",
    "# import sqlite3\n",
    "# import pandas as pd\n",
    "\n",
    "# conn = sqlite3.connect('share_V3.sqlite')\n",
    "# df = pd.read_sql(\"\"\"SELECT SP.\"Date\", SP.Open, SP.High, SP.Low, SP.Close, SP.\"Adj Close\", SP.Volume, I.Symbol \n",
    "#                      FROM Stock_price_day as SP \n",
    "#                      INNER JOIN Information as I \n",
    "#                      ON I.SymbolId = SP.SymbolId;\"\"\"\n",
    "#                      ,conn)\n",
    "\n",
    "# def get_stock_names():\n",
    "#     query = \"\"\"SELECT DISTINCT i.Symbol FROM Stock_price_day as spd\n",
    "#                 INNER JOIN Information as i on i.SymbolId = spd.SymbolId\n",
    "#                 WHERE i.MarketId = 1\n",
    "#                 ORDER BY i.Symbol ASC;\"\"\"\n",
    "#     cursor = conn.execute(query)\n",
    "#     stock_names = [row[0] for row in cursor.fetchall()]\n",
    "#     return stock_names\n",
    "\n",
    "# app = Dash()\n",
    "# timeframe_options = [{'label': 'Hour', 'value': '1H'},\n",
    "#                     {'label': 'Day', 'value': '1D'},\n",
    "#                     {'label': 'Week', 'value': '1W'},\n",
    "#                     {'label': 'Month', 'value': '1M'},\n",
    "#                     {'label': '3Month', 'value': '3M'}]\n",
    "# app.layout = html.Div([\n",
    "#                 html.Div([\n",
    "#                     html.Label('Choose a stock:'),\n",
    "#                     dcc.Dropdown(id='stock_dropdown',\n",
    "#                                 options=[{'label': stock, 'value': stock} for stock in get_stock_names()],\n",
    "#                                 value=get_stock_names()[0]),\n",
    "#                     dcc.Dropdown(id='timeframe-dropdown',\n",
    "#                                 options=timeframe_options, value='1H', clearable=False),\n",
    "#                         ], style={'width': '30%', 'display': 'inline-block'}),\n",
    "#                 dcc.Graph(id='candles')\n",
    "#             ])\n",
    "\n",
    "# @app.callback(Output('candles', 'figure'),\n",
    "#               [Input('stock_dropdown', 'value')],[Input('timeframe-dropdown', 'value')])\n",
    "# def update_candlestick_chart(value,timeframe):\n",
    "#     if timeframe == '1H':\n",
    "#         pass\n",
    "#     elif timeframe == '1D':\n",
    "#         pass\n",
    "#     elif timeframe == '1W':\n",
    "#         pass\n",
    "#     elif timeframe == '1M':\n",
    "#         pass\n",
    "#     elif timeframe == '3M':\n",
    "#         pass\n",
    "\n",
    "#     df_plot = df[(df['Symbol'] == value)].tail(300)\n",
    "#     my_range = pd.date_range(start= min(df_plot['Date']), end= max(df_plot['Date']), freq='D')\n",
    "#     missing_date = my_range.difference(df_plot['Date']).strftime(\"%Y-%m-%d\").tolist()\n",
    "\n",
    "#     candles = make_subplots(rows=2, cols=1, shared_xaxes=True, vertical_spacing=0.05)\n",
    "#     candles.add_trace(go.Candlestick(x=df_plot['Date'],\n",
    "#                                          open=df_plot['Open'],\n",
    "#                                          high=df_plot['High'],\n",
    "#                                          low=df_plot['Low'],\n",
    "#                                          close=df_plot['Close']), row=1, col=1)\n",
    "\n",
    "#     candles.add_trace(go.Bar(x=df_plot['Date'],\n",
    "#                                 y=df_plot['Volume'],), row=2, col=1)\n",
    "\n",
    "#     candles.update_xaxes(\n",
    "#     rangebreaks=[\n",
    "#         dict(bounds=[\"sat\", \"mon\"]), dict(values=missing_date)])\n",
    "#     candles.update(layout_xaxis_rangeslider_visible=False)\n",
    "#     return candles\n",
    "\n",
    "# if __name__ == '__main__':\n",
    "#     app.run_server(debug=True, port=5000)"
   ]
  },
  {
   "cell_type": "code",
   "execution_count": 3,
   "metadata": {},
   "outputs": [],
   "source": [
    "# candlesticks = go.Candlestick(\n",
    "#         x=df_date,open=df_plot['Open'],high=df_plot['High'],\n",
    "#         low=df_plot['Low'],close=df_plot['Close'],showlegend=False)\n",
    "\n",
    "#     volume_bars = go.Bar(x=df_date,y=df_plot['Volume'],\n",
    "#         showlegend=False,marker={\"color\": \"rgba(128,128,128,0.5)\",})\n",
    "\n",
    "#     candles = go.Figure(candlesticks)\n",
    "#     candles = make_subplots(specs=[[{\"secondary_y\": True}]])\n",
    "#     candles.add_trace(candlesticks, secondary_y=True)\n",
    "#     candles.add_trace(volume_bars, secondary_y=False)\n",
    "#     candles.update_yaxes(title=\"Price\", secondary_y=True, showgrid=True)\n",
    "#     candles.update_yaxes(title=\"Volume\", secondary_y=False, showgrid=False)\n",
    "#     candles.update_xaxes(showticklabels=False)"
   ]
  },
  {
   "cell_type": "code",
   "execution_count": 4,
   "metadata": {},
   "outputs": [],
   "source": [
    "# agg_dict = {'Open': 'first','High': 'max','Low': 'min','Close': 'last','Adj Close': 'last','Volume': 'sum'}\n",
    "\n",
    "# conn = sqlite3.connect('share_V3.sqlite')\n",
    "# df_db = pd.read_sql_query(f\"\"\"SELECT spd.\"Date\", spd.Open, spd.High, spd.Low, spd.Close, spd.\"Adj Close\", spd.Volume, i.Symbol \n",
    "#                      FROM Stock_price_day as spd \n",
    "#                      INNER JOIN Information as i\n",
    "#                      ON i.SymbolId = spd.SymbolId;\"\"\", conn)\n",
    "# df_plot = df_db[(df_db['Symbol'] == 'KBANK.BK')].tail(1000)\n",
    "# df_plot['Date'] = pd.to_datetime(df_plot['Date'])\n",
    "# df_plot.set_index('Date', inplace=True)\n",
    "# df_plot = df_plot.resample('M').agg(agg_dict)\n",
    "\n",
    "# df_plot"
   ]
  },
  {
   "cell_type": "code",
   "execution_count": 15,
   "metadata": {},
   "outputs": [
    {
     "data": {
      "text/html": [
       "<div>\n",
       "<style scoped>\n",
       "    .dataframe tbody tr th:only-of-type {\n",
       "        vertical-align: middle;\n",
       "    }\n",
       "\n",
       "    .dataframe tbody tr th {\n",
       "        vertical-align: top;\n",
       "    }\n",
       "\n",
       "    .dataframe thead th {\n",
       "        text-align: right;\n",
       "    }\n",
       "</style>\n",
       "<table border=\"1\" class=\"dataframe\">\n",
       "  <thead>\n",
       "    <tr style=\"text-align: right;\">\n",
       "      <th></th>\n",
       "      <th>ROA</th>\n",
       "      <th>ROE</th>\n",
       "      <th>Period</th>\n",
       "      <th>Symbol</th>\n",
       "    </tr>\n",
       "  </thead>\n",
       "  <tbody>\n",
       "    <tr>\n",
       "      <th>0</th>\n",
       "      <td>2.64</td>\n",
       "      <td>4.97</td>\n",
       "      <td>1Q2556</td>\n",
       "      <td>2S.BK</td>\n",
       "    </tr>\n",
       "    <tr>\n",
       "      <th>1</th>\n",
       "      <td>0.72</td>\n",
       "      <td>1.17</td>\n",
       "      <td>2Q2556</td>\n",
       "      <td>2S.BK</td>\n",
       "    </tr>\n",
       "    <tr>\n",
       "      <th>2</th>\n",
       "      <td>1.76</td>\n",
       "      <td>3.03</td>\n",
       "      <td>3Q2556</td>\n",
       "      <td>2S.BK</td>\n",
       "    </tr>\n",
       "    <tr>\n",
       "      <th>3</th>\n",
       "      <td>0.61</td>\n",
       "      <td>1.14</td>\n",
       "      <td>4Q2556</td>\n",
       "      <td>2S.BK</td>\n",
       "    </tr>\n",
       "    <tr>\n",
       "      <th>4</th>\n",
       "      <td>2.49</td>\n",
       "      <td>4.53</td>\n",
       "      <td>1Q2557</td>\n",
       "      <td>2S.BK</td>\n",
       "    </tr>\n",
       "    <tr>\n",
       "      <th>...</th>\n",
       "      <td>...</td>\n",
       "      <td>...</td>\n",
       "      <td>...</td>\n",
       "      <td>...</td>\n",
       "    </tr>\n",
       "    <tr>\n",
       "      <th>21397</th>\n",
       "      <td>0.40</td>\n",
       "      <td>0.87</td>\n",
       "      <td>4Q2564</td>\n",
       "      <td>ZEN.BK</td>\n",
       "    </tr>\n",
       "    <tr>\n",
       "      <th>21398</th>\n",
       "      <td>0.32</td>\n",
       "      <td>0.69</td>\n",
       "      <td>1Q2565</td>\n",
       "      <td>ZEN.BK</td>\n",
       "    </tr>\n",
       "    <tr>\n",
       "      <th>21399</th>\n",
       "      <td>1.91</td>\n",
       "      <td>4.09</td>\n",
       "      <td>2Q2565</td>\n",
       "      <td>ZEN.BK</td>\n",
       "    </tr>\n",
       "    <tr>\n",
       "      <th>21400</th>\n",
       "      <td>2.05</td>\n",
       "      <td>4.31</td>\n",
       "      <td>3Q2565</td>\n",
       "      <td>ZEN.BK</td>\n",
       "    </tr>\n",
       "    <tr>\n",
       "      <th>21401</th>\n",
       "      <td>2.20</td>\n",
       "      <td>4.62</td>\n",
       "      <td>4Q2565</td>\n",
       "      <td>ZEN.BK</td>\n",
       "    </tr>\n",
       "  </tbody>\n",
       "</table>\n",
       "<p>21402 rows × 4 columns</p>\n",
       "</div>"
      ],
      "text/plain": [
       "        ROA   ROE  Period  Symbol\n",
       "0      2.64  4.97  1Q2556   2S.BK\n",
       "1      0.72  1.17  2Q2556   2S.BK\n",
       "2      1.76  3.03  3Q2556   2S.BK\n",
       "3      0.61  1.14  4Q2556   2S.BK\n",
       "4      2.49  4.53  1Q2557   2S.BK\n",
       "...     ...   ...     ...     ...\n",
       "21397  0.40  0.87  4Q2564  ZEN.BK\n",
       "21398  0.32  0.69  1Q2565  ZEN.BK\n",
       "21399  1.91  4.09  2Q2565  ZEN.BK\n",
       "21400  2.05  4.31  3Q2565  ZEN.BK\n",
       "21401  2.20  4.62  4Q2565  ZEN.BK\n",
       "\n",
       "[21402 rows x 4 columns]"
      ]
     },
     "execution_count": 15,
     "metadata": {},
     "output_type": "execute_result"
    }
   ],
   "source": [
    "conn = sqlite3.connect('share_V3.sqlite')\n",
    "df_roaroe = pd.read_sql(\"\"\"SELECT fq.ROA,fq.ROE,fq.Period,i.Symbol FROM Financial_quarterly as fq\n",
    "                            INNER JOIN Information as i ON i.SymbolId = fq.SymbolId\n",
    "                            ORDER BY i.Symbol ASC;\"\"\"\n",
    "                     ,conn)\n",
    "\n",
    "df_roaroe"
   ]
  },
  {
   "cell_type": "code",
   "execution_count": 17,
   "metadata": {},
   "outputs": [
    {
     "data": {
      "text/html": [
       "<div>\n",
       "<style scoped>\n",
       "    .dataframe tbody tr th:only-of-type {\n",
       "        vertical-align: middle;\n",
       "    }\n",
       "\n",
       "    .dataframe tbody tr th {\n",
       "        vertical-align: top;\n",
       "    }\n",
       "\n",
       "    .dataframe thead th {\n",
       "        text-align: right;\n",
       "    }\n",
       "</style>\n",
       "<table border=\"1\" class=\"dataframe\">\n",
       "  <thead>\n",
       "    <tr style=\"text-align: right;\">\n",
       "      <th></th>\n",
       "      <th>ROA</th>\n",
       "      <th>ROE</th>\n",
       "      <th>Period</th>\n",
       "    </tr>\n",
       "  </thead>\n",
       "  <tbody>\n",
       "    <tr>\n",
       "      <th>8574</th>\n",
       "      <td>0.52</td>\n",
       "      <td>5.29</td>\n",
       "      <td>1Q2556</td>\n",
       "    </tr>\n",
       "    <tr>\n",
       "      <th>8575</th>\n",
       "      <td>0.55</td>\n",
       "      <td>5.57</td>\n",
       "      <td>2Q2556</td>\n",
       "    </tr>\n",
       "    <tr>\n",
       "      <th>8576</th>\n",
       "      <td>0.52</td>\n",
       "      <td>5.25</td>\n",
       "      <td>3Q2556</td>\n",
       "    </tr>\n",
       "    <tr>\n",
       "      <th>8577</th>\n",
       "      <td>0.45</td>\n",
       "      <td>4.42</td>\n",
       "      <td>4Q2556</td>\n",
       "    </tr>\n",
       "    <tr>\n",
       "      <th>8578</th>\n",
       "      <td>0.57</td>\n",
       "      <td>5.34</td>\n",
       "      <td>1Q2557</td>\n",
       "    </tr>\n",
       "    <tr>\n",
       "      <th>8579</th>\n",
       "      <td>0.55</td>\n",
       "      <td>4.99</td>\n",
       "      <td>2Q2557</td>\n",
       "    </tr>\n",
       "    <tr>\n",
       "      <th>8580</th>\n",
       "      <td>0.57</td>\n",
       "      <td>5.14</td>\n",
       "      <td>3Q2557</td>\n",
       "    </tr>\n",
       "    <tr>\n",
       "      <th>8581</th>\n",
       "      <td>0.45</td>\n",
       "      <td>3.95</td>\n",
       "      <td>4Q2557</td>\n",
       "    </tr>\n",
       "    <tr>\n",
       "      <th>8582</th>\n",
       "      <td>0.56</td>\n",
       "      <td>4.70</td>\n",
       "      <td>1Q2558</td>\n",
       "    </tr>\n",
       "    <tr>\n",
       "      <th>8583</th>\n",
       "      <td>0.52</td>\n",
       "      <td>4.34</td>\n",
       "      <td>2Q2558</td>\n",
       "    </tr>\n",
       "    <tr>\n",
       "      <th>8584</th>\n",
       "      <td>0.45</td>\n",
       "      <td>3.78</td>\n",
       "      <td>3Q2558</td>\n",
       "    </tr>\n",
       "    <tr>\n",
       "      <th>8585</th>\n",
       "      <td>0.24</td>\n",
       "      <td>1.99</td>\n",
       "      <td>4Q2558</td>\n",
       "    </tr>\n",
       "    <tr>\n",
       "      <th>8586</th>\n",
       "      <td>0.42</td>\n",
       "      <td>3.47</td>\n",
       "      <td>1Q2559</td>\n",
       "    </tr>\n",
       "    <tr>\n",
       "      <th>8587</th>\n",
       "      <td>0.41</td>\n",
       "      <td>3.35</td>\n",
       "      <td>2Q2559</td>\n",
       "    </tr>\n",
       "    <tr>\n",
       "      <th>8588</th>\n",
       "      <td>0.45</td>\n",
       "      <td>3.63</td>\n",
       "      <td>3Q2559</td>\n",
       "    </tr>\n",
       "    <tr>\n",
       "      <th>8589</th>\n",
       "      <td>0.41</td>\n",
       "      <td>3.26</td>\n",
       "      <td>4Q2559</td>\n",
       "    </tr>\n",
       "    <tr>\n",
       "      <th>8590</th>\n",
       "      <td>0.41</td>\n",
       "      <td>3.20</td>\n",
       "      <td>1Q2560</td>\n",
       "    </tr>\n",
       "    <tr>\n",
       "      <th>8591</th>\n",
       "      <td>0.36</td>\n",
       "      <td>2.82</td>\n",
       "      <td>2Q2560</td>\n",
       "    </tr>\n",
       "    <tr>\n",
       "      <th>8592</th>\n",
       "      <td>0.38</td>\n",
       "      <td>2.89</td>\n",
       "      <td>3Q2560</td>\n",
       "    </tr>\n",
       "    <tr>\n",
       "      <th>8593</th>\n",
       "      <td>0.24</td>\n",
       "      <td>1.80</td>\n",
       "      <td>4Q2560</td>\n",
       "    </tr>\n",
       "    <tr>\n",
       "      <th>8594</th>\n",
       "      <td>0.41</td>\n",
       "      <td>3.08</td>\n",
       "      <td>1Q2561</td>\n",
       "    </tr>\n",
       "    <tr>\n",
       "      <th>8595</th>\n",
       "      <td>0.43</td>\n",
       "      <td>3.20</td>\n",
       "      <td>2Q2561</td>\n",
       "    </tr>\n",
       "    <tr>\n",
       "      <th>8596</th>\n",
       "      <td>0.36</td>\n",
       "      <td>2.70</td>\n",
       "      <td>3Q2561</td>\n",
       "    </tr>\n",
       "    <tr>\n",
       "      <th>8597</th>\n",
       "      <td>0.26</td>\n",
       "      <td>1.98</td>\n",
       "      <td>4Q2561</td>\n",
       "    </tr>\n",
       "    <tr>\n",
       "      <th>8598</th>\n",
       "      <td>0.36</td>\n",
       "      <td>2.64</td>\n",
       "      <td>1Q2562</td>\n",
       "    </tr>\n",
       "    <tr>\n",
       "      <th>8599</th>\n",
       "      <td>0.36</td>\n",
       "      <td>2.60</td>\n",
       "      <td>2Q2562</td>\n",
       "    </tr>\n",
       "    <tr>\n",
       "      <th>8600</th>\n",
       "      <td>0.35</td>\n",
       "      <td>2.54</td>\n",
       "      <td>3Q2562</td>\n",
       "    </tr>\n",
       "    <tr>\n",
       "      <th>8601</th>\n",
       "      <td>0.29</td>\n",
       "      <td>2.09</td>\n",
       "      <td>4Q2562</td>\n",
       "    </tr>\n",
       "    <tr>\n",
       "      <th>8602</th>\n",
       "      <td>0.16</td>\n",
       "      <td>1.17</td>\n",
       "      <td>1Q2563</td>\n",
       "    </tr>\n",
       "    <tr>\n",
       "      <th>8603</th>\n",
       "      <td>0.18</td>\n",
       "      <td>1.41</td>\n",
       "      <td>2Q2563</td>\n",
       "    </tr>\n",
       "    <tr>\n",
       "      <th>8604</th>\n",
       "      <td>0.21</td>\n",
       "      <td>1.64</td>\n",
       "      <td>3Q2563</td>\n",
       "    </tr>\n",
       "    <tr>\n",
       "      <th>8605</th>\n",
       "      <td>0.41</td>\n",
       "      <td>3.08</td>\n",
       "      <td>4Q2563</td>\n",
       "    </tr>\n",
       "    <tr>\n",
       "      <th>8606</th>\n",
       "      <td>0.32</td>\n",
       "      <td>2.37</td>\n",
       "      <td>1Q2564</td>\n",
       "    </tr>\n",
       "    <tr>\n",
       "      <th>8607</th>\n",
       "      <td>0.27</td>\n",
       "      <td>2.04</td>\n",
       "      <td>2Q2564</td>\n",
       "    </tr>\n",
       "    <tr>\n",
       "      <th>8608</th>\n",
       "      <td>0.24</td>\n",
       "      <td>1.86</td>\n",
       "      <td>3Q2564</td>\n",
       "    </tr>\n",
       "    <tr>\n",
       "      <th>8609</th>\n",
       "      <td>0.25</td>\n",
       "      <td>1.95</td>\n",
       "      <td>4Q2564</td>\n",
       "    </tr>\n",
       "    <tr>\n",
       "      <th>8610</th>\n",
       "      <td>0.27</td>\n",
       "      <td>2.06</td>\n",
       "      <td>1Q2565</td>\n",
       "    </tr>\n",
       "    <tr>\n",
       "      <th>8611</th>\n",
       "      <td>0.27</td>\n",
       "      <td>2.04</td>\n",
       "      <td>2Q2565</td>\n",
       "    </tr>\n",
       "    <tr>\n",
       "      <th>8612</th>\n",
       "      <td>0.26</td>\n",
       "      <td>1.99</td>\n",
       "      <td>3Q2565</td>\n",
       "    </tr>\n",
       "    <tr>\n",
       "      <th>8613</th>\n",
       "      <td>0.11</td>\n",
       "      <td>0.83</td>\n",
       "      <td>4Q2565</td>\n",
       "    </tr>\n",
       "  </tbody>\n",
       "</table>\n",
       "</div>"
      ],
      "text/plain": [
       "       ROA   ROE  Period\n",
       "8574  0.52  5.29  1Q2556\n",
       "8575  0.55  5.57  2Q2556\n",
       "8576  0.52  5.25  3Q2556\n",
       "8577  0.45  4.42  4Q2556\n",
       "8578  0.57  5.34  1Q2557\n",
       "8579  0.55  4.99  2Q2557\n",
       "8580  0.57  5.14  3Q2557\n",
       "8581  0.45  3.95  4Q2557\n",
       "8582  0.56  4.70  1Q2558\n",
       "8583  0.52  4.34  2Q2558\n",
       "8584  0.45  3.78  3Q2558\n",
       "8585  0.24  1.99  4Q2558\n",
       "8586  0.42  3.47  1Q2559\n",
       "8587  0.41  3.35  2Q2559\n",
       "8588  0.45  3.63  3Q2559\n",
       "8589  0.41  3.26  4Q2559\n",
       "8590  0.41  3.20  1Q2560\n",
       "8591  0.36  2.82  2Q2560\n",
       "8592  0.38  2.89  3Q2560\n",
       "8593  0.24  1.80  4Q2560\n",
       "8594  0.41  3.08  1Q2561\n",
       "8595  0.43  3.20  2Q2561\n",
       "8596  0.36  2.70  3Q2561\n",
       "8597  0.26  1.98  4Q2561\n",
       "8598  0.36  2.64  1Q2562\n",
       "8599  0.36  2.60  2Q2562\n",
       "8600  0.35  2.54  3Q2562\n",
       "8601  0.29  2.09  4Q2562\n",
       "8602  0.16  1.17  1Q2563\n",
       "8603  0.18  1.41  2Q2563\n",
       "8604  0.21  1.64  3Q2563\n",
       "8605  0.41  3.08  4Q2563\n",
       "8606  0.32  2.37  1Q2564\n",
       "8607  0.27  2.04  2Q2564\n",
       "8608  0.24  1.86  3Q2564\n",
       "8609  0.25  1.95  4Q2564\n",
       "8610  0.27  2.06  1Q2565\n",
       "8611  0.27  2.04  2Q2565\n",
       "8612  0.26  1.99  3Q2565\n",
       "8613  0.11  0.83  4Q2565"
      ]
     },
     "execution_count": 17,
     "metadata": {},
     "output_type": "execute_result"
    }
   ],
   "source": [
    "data_roaroe = df_roaroe[(df_roaroe['Symbol'] == 'KBANK.BK')].drop(columns=['Symbol'])\n",
    "data_roaroe"
   ]
  },
  {
   "cell_type": "code",
   "execution_count": 19,
   "metadata": {},
   "outputs": [
    {
     "data": {
      "application/vnd.plotly.v1+json": {
       "config": {
        "plotlyServerURL": "https://plot.ly"
       },
       "data": [
        {
         "hovertemplate": "variable=ROA<br>period=%{x}<br>value=%{y}<extra></extra>",
         "legendgroup": "ROA",
         "line": {
          "color": "#636efa",
          "dash": "solid"
         },
         "marker": {
          "symbol": "circle"
         },
         "mode": "lines",
         "name": "ROA",
         "orientation": "v",
         "showlegend": true,
         "type": "scatter",
         "x": [
          "2021-01",
          "2021-02",
          "2021-03",
          "2021-04"
         ],
         "xaxis": "x",
         "y": [
          0.1,
          0.12,
          0.08,
          0.15
         ],
         "yaxis": "y"
        },
        {
         "hovertemplate": "variable=ROE<br>period=%{x}<br>value=%{y}<extra></extra>",
         "legendgroup": "ROE",
         "line": {
          "color": "#EF553B",
          "dash": "solid"
         },
         "marker": {
          "symbol": "circle"
         },
         "mode": "lines",
         "name": "ROE",
         "orientation": "v",
         "showlegend": true,
         "type": "scatter",
         "x": [
          "2021-01",
          "2021-02",
          "2021-03",
          "2021-04"
         ],
         "xaxis": "x",
         "y": [
          0.2,
          0.18,
          0.22,
          0.25
         ],
         "yaxis": "y"
        }
       ],
       "layout": {
        "legend": {
         "title": {
          "text": "variable"
         },
         "tracegroupgap": 0
        },
        "margin": {
         "t": 60
        },
        "template": {
         "data": {
          "bar": [
           {
            "error_x": {
             "color": "#2a3f5f"
            },
            "error_y": {
             "color": "#2a3f5f"
            },
            "marker": {
             "line": {
              "color": "#E5ECF6",
              "width": 0.5
             },
             "pattern": {
              "fillmode": "overlay",
              "size": 10,
              "solidity": 0.2
             }
            },
            "type": "bar"
           }
          ],
          "barpolar": [
           {
            "marker": {
             "line": {
              "color": "#E5ECF6",
              "width": 0.5
             },
             "pattern": {
              "fillmode": "overlay",
              "size": 10,
              "solidity": 0.2
             }
            },
            "type": "barpolar"
           }
          ],
          "carpet": [
           {
            "aaxis": {
             "endlinecolor": "#2a3f5f",
             "gridcolor": "white",
             "linecolor": "white",
             "minorgridcolor": "white",
             "startlinecolor": "#2a3f5f"
            },
            "baxis": {
             "endlinecolor": "#2a3f5f",
             "gridcolor": "white",
             "linecolor": "white",
             "minorgridcolor": "white",
             "startlinecolor": "#2a3f5f"
            },
            "type": "carpet"
           }
          ],
          "choropleth": [
           {
            "colorbar": {
             "outlinewidth": 0,
             "ticks": ""
            },
            "type": "choropleth"
           }
          ],
          "contour": [
           {
            "colorbar": {
             "outlinewidth": 0,
             "ticks": ""
            },
            "colorscale": [
             [
              0,
              "#0d0887"
             ],
             [
              0.1111111111111111,
              "#46039f"
             ],
             [
              0.2222222222222222,
              "#7201a8"
             ],
             [
              0.3333333333333333,
              "#9c179e"
             ],
             [
              0.4444444444444444,
              "#bd3786"
             ],
             [
              0.5555555555555556,
              "#d8576b"
             ],
             [
              0.6666666666666666,
              "#ed7953"
             ],
             [
              0.7777777777777778,
              "#fb9f3a"
             ],
             [
              0.8888888888888888,
              "#fdca26"
             ],
             [
              1,
              "#f0f921"
             ]
            ],
            "type": "contour"
           }
          ],
          "contourcarpet": [
           {
            "colorbar": {
             "outlinewidth": 0,
             "ticks": ""
            },
            "type": "contourcarpet"
           }
          ],
          "heatmap": [
           {
            "colorbar": {
             "outlinewidth": 0,
             "ticks": ""
            },
            "colorscale": [
             [
              0,
              "#0d0887"
             ],
             [
              0.1111111111111111,
              "#46039f"
             ],
             [
              0.2222222222222222,
              "#7201a8"
             ],
             [
              0.3333333333333333,
              "#9c179e"
             ],
             [
              0.4444444444444444,
              "#bd3786"
             ],
             [
              0.5555555555555556,
              "#d8576b"
             ],
             [
              0.6666666666666666,
              "#ed7953"
             ],
             [
              0.7777777777777778,
              "#fb9f3a"
             ],
             [
              0.8888888888888888,
              "#fdca26"
             ],
             [
              1,
              "#f0f921"
             ]
            ],
            "type": "heatmap"
           }
          ],
          "heatmapgl": [
           {
            "colorbar": {
             "outlinewidth": 0,
             "ticks": ""
            },
            "colorscale": [
             [
              0,
              "#0d0887"
             ],
             [
              0.1111111111111111,
              "#46039f"
             ],
             [
              0.2222222222222222,
              "#7201a8"
             ],
             [
              0.3333333333333333,
              "#9c179e"
             ],
             [
              0.4444444444444444,
              "#bd3786"
             ],
             [
              0.5555555555555556,
              "#d8576b"
             ],
             [
              0.6666666666666666,
              "#ed7953"
             ],
             [
              0.7777777777777778,
              "#fb9f3a"
             ],
             [
              0.8888888888888888,
              "#fdca26"
             ],
             [
              1,
              "#f0f921"
             ]
            ],
            "type": "heatmapgl"
           }
          ],
          "histogram": [
           {
            "marker": {
             "pattern": {
              "fillmode": "overlay",
              "size": 10,
              "solidity": 0.2
             }
            },
            "type": "histogram"
           }
          ],
          "histogram2d": [
           {
            "colorbar": {
             "outlinewidth": 0,
             "ticks": ""
            },
            "colorscale": [
             [
              0,
              "#0d0887"
             ],
             [
              0.1111111111111111,
              "#46039f"
             ],
             [
              0.2222222222222222,
              "#7201a8"
             ],
             [
              0.3333333333333333,
              "#9c179e"
             ],
             [
              0.4444444444444444,
              "#bd3786"
             ],
             [
              0.5555555555555556,
              "#d8576b"
             ],
             [
              0.6666666666666666,
              "#ed7953"
             ],
             [
              0.7777777777777778,
              "#fb9f3a"
             ],
             [
              0.8888888888888888,
              "#fdca26"
             ],
             [
              1,
              "#f0f921"
             ]
            ],
            "type": "histogram2d"
           }
          ],
          "histogram2dcontour": [
           {
            "colorbar": {
             "outlinewidth": 0,
             "ticks": ""
            },
            "colorscale": [
             [
              0,
              "#0d0887"
             ],
             [
              0.1111111111111111,
              "#46039f"
             ],
             [
              0.2222222222222222,
              "#7201a8"
             ],
             [
              0.3333333333333333,
              "#9c179e"
             ],
             [
              0.4444444444444444,
              "#bd3786"
             ],
             [
              0.5555555555555556,
              "#d8576b"
             ],
             [
              0.6666666666666666,
              "#ed7953"
             ],
             [
              0.7777777777777778,
              "#fb9f3a"
             ],
             [
              0.8888888888888888,
              "#fdca26"
             ],
             [
              1,
              "#f0f921"
             ]
            ],
            "type": "histogram2dcontour"
           }
          ],
          "mesh3d": [
           {
            "colorbar": {
             "outlinewidth": 0,
             "ticks": ""
            },
            "type": "mesh3d"
           }
          ],
          "parcoords": [
           {
            "line": {
             "colorbar": {
              "outlinewidth": 0,
              "ticks": ""
             }
            },
            "type": "parcoords"
           }
          ],
          "pie": [
           {
            "automargin": true,
            "type": "pie"
           }
          ],
          "scatter": [
           {
            "fillpattern": {
             "fillmode": "overlay",
             "size": 10,
             "solidity": 0.2
            },
            "type": "scatter"
           }
          ],
          "scatter3d": [
           {
            "line": {
             "colorbar": {
              "outlinewidth": 0,
              "ticks": ""
             }
            },
            "marker": {
             "colorbar": {
              "outlinewidth": 0,
              "ticks": ""
             }
            },
            "type": "scatter3d"
           }
          ],
          "scattercarpet": [
           {
            "marker": {
             "colorbar": {
              "outlinewidth": 0,
              "ticks": ""
             }
            },
            "type": "scattercarpet"
           }
          ],
          "scattergeo": [
           {
            "marker": {
             "colorbar": {
              "outlinewidth": 0,
              "ticks": ""
             }
            },
            "type": "scattergeo"
           }
          ],
          "scattergl": [
           {
            "marker": {
             "colorbar": {
              "outlinewidth": 0,
              "ticks": ""
             }
            },
            "type": "scattergl"
           }
          ],
          "scattermapbox": [
           {
            "marker": {
             "colorbar": {
              "outlinewidth": 0,
              "ticks": ""
             }
            },
            "type": "scattermapbox"
           }
          ],
          "scatterpolar": [
           {
            "marker": {
             "colorbar": {
              "outlinewidth": 0,
              "ticks": ""
             }
            },
            "type": "scatterpolar"
           }
          ],
          "scatterpolargl": [
           {
            "marker": {
             "colorbar": {
              "outlinewidth": 0,
              "ticks": ""
             }
            },
            "type": "scatterpolargl"
           }
          ],
          "scatterternary": [
           {
            "marker": {
             "colorbar": {
              "outlinewidth": 0,
              "ticks": ""
             }
            },
            "type": "scatterternary"
           }
          ],
          "surface": [
           {
            "colorbar": {
             "outlinewidth": 0,
             "ticks": ""
            },
            "colorscale": [
             [
              0,
              "#0d0887"
             ],
             [
              0.1111111111111111,
              "#46039f"
             ],
             [
              0.2222222222222222,
              "#7201a8"
             ],
             [
              0.3333333333333333,
              "#9c179e"
             ],
             [
              0.4444444444444444,
              "#bd3786"
             ],
             [
              0.5555555555555556,
              "#d8576b"
             ],
             [
              0.6666666666666666,
              "#ed7953"
             ],
             [
              0.7777777777777778,
              "#fb9f3a"
             ],
             [
              0.8888888888888888,
              "#fdca26"
             ],
             [
              1,
              "#f0f921"
             ]
            ],
            "type": "surface"
           }
          ],
          "table": [
           {
            "cells": {
             "fill": {
              "color": "#EBF0F8"
             },
             "line": {
              "color": "white"
             }
            },
            "header": {
             "fill": {
              "color": "#C8D4E3"
             },
             "line": {
              "color": "white"
             }
            },
            "type": "table"
           }
          ]
         },
         "layout": {
          "annotationdefaults": {
           "arrowcolor": "#2a3f5f",
           "arrowhead": 0,
           "arrowwidth": 1
          },
          "autotypenumbers": "strict",
          "coloraxis": {
           "colorbar": {
            "outlinewidth": 0,
            "ticks": ""
           }
          },
          "colorscale": {
           "diverging": [
            [
             0,
             "#8e0152"
            ],
            [
             0.1,
             "#c51b7d"
            ],
            [
             0.2,
             "#de77ae"
            ],
            [
             0.3,
             "#f1b6da"
            ],
            [
             0.4,
             "#fde0ef"
            ],
            [
             0.5,
             "#f7f7f7"
            ],
            [
             0.6,
             "#e6f5d0"
            ],
            [
             0.7,
             "#b8e186"
            ],
            [
             0.8,
             "#7fbc41"
            ],
            [
             0.9,
             "#4d9221"
            ],
            [
             1,
             "#276419"
            ]
           ],
           "sequential": [
            [
             0,
             "#0d0887"
            ],
            [
             0.1111111111111111,
             "#46039f"
            ],
            [
             0.2222222222222222,
             "#7201a8"
            ],
            [
             0.3333333333333333,
             "#9c179e"
            ],
            [
             0.4444444444444444,
             "#bd3786"
            ],
            [
             0.5555555555555556,
             "#d8576b"
            ],
            [
             0.6666666666666666,
             "#ed7953"
            ],
            [
             0.7777777777777778,
             "#fb9f3a"
            ],
            [
             0.8888888888888888,
             "#fdca26"
            ],
            [
             1,
             "#f0f921"
            ]
           ],
           "sequentialminus": [
            [
             0,
             "#0d0887"
            ],
            [
             0.1111111111111111,
             "#46039f"
            ],
            [
             0.2222222222222222,
             "#7201a8"
            ],
            [
             0.3333333333333333,
             "#9c179e"
            ],
            [
             0.4444444444444444,
             "#bd3786"
            ],
            [
             0.5555555555555556,
             "#d8576b"
            ],
            [
             0.6666666666666666,
             "#ed7953"
            ],
            [
             0.7777777777777778,
             "#fb9f3a"
            ],
            [
             0.8888888888888888,
             "#fdca26"
            ],
            [
             1,
             "#f0f921"
            ]
           ]
          },
          "colorway": [
           "#636efa",
           "#EF553B",
           "#00cc96",
           "#ab63fa",
           "#FFA15A",
           "#19d3f3",
           "#FF6692",
           "#B6E880",
           "#FF97FF",
           "#FECB52"
          ],
          "font": {
           "color": "#2a3f5f"
          },
          "geo": {
           "bgcolor": "white",
           "lakecolor": "white",
           "landcolor": "#E5ECF6",
           "showlakes": true,
           "showland": true,
           "subunitcolor": "white"
          },
          "hoverlabel": {
           "align": "left"
          },
          "hovermode": "closest",
          "mapbox": {
           "style": "light"
          },
          "paper_bgcolor": "white",
          "plot_bgcolor": "#E5ECF6",
          "polar": {
           "angularaxis": {
            "gridcolor": "white",
            "linecolor": "white",
            "ticks": ""
           },
           "bgcolor": "#E5ECF6",
           "radialaxis": {
            "gridcolor": "white",
            "linecolor": "white",
            "ticks": ""
           }
          },
          "scene": {
           "xaxis": {
            "backgroundcolor": "#E5ECF6",
            "gridcolor": "white",
            "gridwidth": 2,
            "linecolor": "white",
            "showbackground": true,
            "ticks": "",
            "zerolinecolor": "white"
           },
           "yaxis": {
            "backgroundcolor": "#E5ECF6",
            "gridcolor": "white",
            "gridwidth": 2,
            "linecolor": "white",
            "showbackground": true,
            "ticks": "",
            "zerolinecolor": "white"
           },
           "zaxis": {
            "backgroundcolor": "#E5ECF6",
            "gridcolor": "white",
            "gridwidth": 2,
            "linecolor": "white",
            "showbackground": true,
            "ticks": "",
            "zerolinecolor": "white"
           }
          },
          "shapedefaults": {
           "line": {
            "color": "#2a3f5f"
           }
          },
          "ternary": {
           "aaxis": {
            "gridcolor": "white",
            "linecolor": "white",
            "ticks": ""
           },
           "baxis": {
            "gridcolor": "white",
            "linecolor": "white",
            "ticks": ""
           },
           "bgcolor": "#E5ECF6",
           "caxis": {
            "gridcolor": "white",
            "linecolor": "white",
            "ticks": ""
           }
          },
          "title": {
           "x": 0.05
          },
          "xaxis": {
           "automargin": true,
           "gridcolor": "white",
           "linecolor": "white",
           "ticks": "",
           "title": {
            "standoff": 15
           },
           "zerolinecolor": "white",
           "zerolinewidth": 2
          },
          "yaxis": {
           "automargin": true,
           "gridcolor": "white",
           "linecolor": "white",
           "ticks": "",
           "title": {
            "standoff": 15
           },
           "zerolinecolor": "white",
           "zerolinewidth": 2
          }
         }
        },
        "xaxis": {
         "anchor": "y",
         "domain": [
          0,
          1
         ],
         "title": {
          "text": "period"
         }
        },
        "yaxis": {
         "anchor": "x",
         "domain": [
          0,
          1
         ],
         "title": {
          "text": "value"
         }
        }
       }
      }
     },
     "metadata": {},
     "output_type": "display_data"
    }
   ],
   "source": [
    "import plotly.express as px\n",
    "import pandas as pd\n",
    "\n",
    "data = pd.DataFrame({\n",
    "    'period': ['2021-01', '2021-02', '2021-03', '2021-04'],\n",
    "    'ROA': [0.10, 0.12, 0.08, 0.15],\n",
    "    'ROE': [0.20, 0.18, 0.22, 0.25]\n",
    "})\n",
    "\n",
    "fig = px.line(data, x='period', y=['ROA', 'ROE'])\n",
    "fig.show()"
   ]
  }
 ],
 "metadata": {
  "kernelspec": {
   "display_name": "Python 3",
   "language": "python",
   "name": "python3"
  },
  "language_info": {
   "codemirror_mode": {
    "name": "ipython",
    "version": 3
   },
   "file_extension": ".py",
   "mimetype": "text/x-python",
   "name": "python",
   "nbconvert_exporter": "python",
   "pygments_lexer": "ipython3",
   "version": "3.10.6"
  },
  "orig_nbformat": 4,
  "vscode": {
   "interpreter": {
    "hash": "a42ccb73e7d9bfdf27e036f1d2b8b681e55fc0743cc5586bc2474d4a60f4b886"
   }
  }
 },
 "nbformat": 4,
 "nbformat_minor": 2
}
