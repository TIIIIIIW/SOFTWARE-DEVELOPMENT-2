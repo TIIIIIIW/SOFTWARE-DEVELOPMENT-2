{
 "cells": [
  {
   "cell_type": "code",
   "execution_count": 1,
   "metadata": {},
   "outputs": [
    {
     "ename": "SystemExit",
     "evalue": "0",
     "output_type": "error",
     "traceback": [
      "An exception has occurred, use %tb to see the full traceback.\n",
      "\u001b[1;31mSystemExit\u001b[0m\u001b[1;31m:\u001b[0m 0\n"
     ]
    },
    {
     "name": "stderr",
     "output_type": "stream",
     "text": [
      "c:\\Users\\Admin\\AppData\\Local\\Programs\\Python\\Python310\\lib\\site-packages\\IPython\\core\\interactiveshell.py:3406: UserWarning: To exit: use 'exit', 'quit', or Ctrl-D.\n",
      "  warn(\"To exit: use 'exit', 'quit', or Ctrl-D.\", stacklevel=1)\n"
     ]
    }
   ],
   "source": [
    "import sys\n",
    "from PyQt5.QtCore import QUrl\n",
    "from PyQt5.QtWidgets import QApplication, QWidget, QVBoxLayout\n",
    "from PyQt5.QtWebEngineWidgets import QWebEngineView\n",
    "\n",
    "app = QApplication(sys.argv)\n",
    "\n",
    "# Create a window and a layout\n",
    "window = QWidget()\n",
    "layout = QVBoxLayout()\n",
    "\n",
    "# Create a QWebEngineView widget\n",
    "view = QWebEngineView()\n",
    "\n",
    "# Add the QWebEngineView widget to the layout\n",
    "layout.addWidget(view)\n",
    "\n",
    "# Set the layout of the window\n",
    "window.setLayout(layout)\n",
    "\n",
    "# Load a webpage\n",
    "view.load(QUrl(\"http://localhost:8050\"))\n",
    "\n",
    "# Show the window\n",
    "window.show()\n",
    "\n",
    "# Run the event loop\n",
    "sys.exit(app.exec_())"
   ]
  }
 ],
 "metadata": {
  "kernelspec": {
   "display_name": "Python 3",
   "language": "python",
   "name": "python3"
  },
  "language_info": {
   "codemirror_mode": {
    "name": "ipython",
    "version": 3
   },
   "file_extension": ".py",
   "mimetype": "text/x-python",
   "name": "python",
   "nbconvert_exporter": "python",
   "pygments_lexer": "ipython3",
   "version": "3.10.6"
  },
  "orig_nbformat": 4,
  "vscode": {
   "interpreter": {
    "hash": "a42ccb73e7d9bfdf27e036f1d2b8b681e55fc0743cc5586bc2474d4a60f4b886"
   }
  }
 },
 "nbformat": 4,
 "nbformat_minor": 2
}
