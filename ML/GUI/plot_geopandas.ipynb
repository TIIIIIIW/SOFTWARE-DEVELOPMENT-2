{
 "cells": [
  {
   "cell_type": "code",
   "execution_count": 7,
   "metadata": {},
   "outputs": [],
   "source": [
    "# import contextily as ctx\n",
    "# from colorcet import palette\n",
    "# import datashader as ds\n",
    "# from datashader.mpl_ext import dsshow\n",
    "# import geopandas as gpd\n",
    "# from geopandas.tools import sjoin\n",
    "# import matplotlib.pyplot as plt\n",
    "# import pandas as pd\n",
    "# from pygeos import Geometry\n",
    "# import numpy as np\n",
    "# from shapely.geometry import Polygon, MultiPolygon"
   ]
  },
  {
   "cell_type": "code",
   "execution_count": 8,
   "metadata": {},
   "outputs": [],
   "source": [
    "# SELECT Inf.Symbol,Lin.Lname,Lin.Country,Lin.point,Sin.NewsId,COUNT(Lin.Lname)\n",
    "# FROM Information as Inf\n",
    "# INNER JOIN Share_in_News as Sin on Inf.SymbolId = Sin.SymbolId\n",
    "# INNER JOIN Location_in_News as Lin on Sin.NewsId = Lin.NewsId \n",
    "# WHERE Inf.Symbol = 'ADVANC.BK'\n",
    "# GROUP BY Lin.Lname;"
   ]
  },
  {
   "cell_type": "code",
   "execution_count": 10,
   "metadata": {},
   "outputs": [],
   "source": [
    "# # {location.latitude}, {location.longitude}\n",
    "# def latitude_label(row):\n",
    "\n",
    "#     n = row.split(',')\n",
    "\n",
    "#     return float(n[0][1:])\n",
    "\n",
    "# def longitude_label(row):\n",
    "\n",
    "#     n = row.split(',')\n",
    "\n",
    "#     return float(n[1][:-1])\n"
   ]
  },
  {
   "cell_type": "code",
   "execution_count": 11,
   "metadata": {},
   "outputs": [],
   "source": [
    "# df['Latitude'] = df['point'].apply (lambda row: latitude_label(row))\n",
    "# df['Longitude'] = df['point'].apply (lambda row: longitude_label(row))"
   ]
  },
  {
   "cell_type": "code",
   "execution_count": 12,
   "metadata": {},
   "outputs": [],
   "source": [
    "# import plotly.express as px\n",
    "# import geopandas as gpd\n",
    "# # import geoplot as gplt\n",
    "\n",
    "# gdf = gpd.GeoDataFrame(\n",
    "#     df, geometry=gpd.points_from_xy(df.Longitude, df.Latitude))\n",
    "\n",
    "\n",
    "# px.set_mapbox_access_token(gdf)\n",
    "# fig = px.scatter_geo(gdf,\n",
    "#                     lat=gdf.geometry.y,\n",
    "#                     lon=gdf.geometry.x,\n",
    "#                     hover_name=\"Lname\")\n",
    "# fig.show()"
   ]
  },
  {
   "cell_type": "code",
   "execution_count": 1,
   "metadata": {},
   "outputs": [
    {
     "name": "stderr",
     "output_type": "stream",
     "text": [
      "c:\\Users\\Admin\\AppData\\Local\\Programs\\Python\\Python310\\lib\\site-packages\\geopandas\\_compat.py:123: UserWarning: The Shapely GEOS version (3.11.1-CAPI-1.17.1) is incompatible with the GEOS version PyGEOS was compiled with (3.10.4-CAPI-1.16.2). Conversions between both will be slow.\n",
      "  warnings.warn(\n",
      "C:\\Users\\Admin\\AppData\\Local\\Temp\\ipykernel_8672\\2044546063.py:2: UserWarning: Shapely 2.0 is installed, but because PyGEOS is also installed, GeoPandas will still use PyGEOS by default for now. To force to use and test Shapely 2.0, you have to set the environment variable USE_PYGEOS=0. You can do this before starting the Python process, or in your code before importing geopandas:\n",
      "\n",
      "import os\n",
      "os.environ['USE_PYGEOS'] = '0'\n",
      "import geopandas\n",
      "\n",
      "In a future release, GeoPandas will switch to using Shapely by default. If you are using PyGEOS directly (calling PyGEOS functions on geometries from GeoPandas), this will then stop working and you are encouraged to migrate from PyGEOS to Shapely 2.0 (https://shapely.readthedocs.io/en/latest/migration_pygeos.html).\n",
      "  import geopandas as gpd\n"
     ]
    },
    {
     "data": {
      "application/vnd.plotly.v1+json": {
       "config": {
        "plotlyServerURL": "https://plot.ly"
       },
       "data": [
        {
         "geo": "geo",
         "hovertemplate": "<b>%{hovertext}</b><br><br>size=%{marker.size}<br>lat=%{lat}<br>lon=%{lon}<extra></extra>",
         "hovertext": [
          "(The Independent",
          "AI",
          "AWS",
          "AXP",
          "Academy",
          "Academy Awards",
          "Academy of Motion Picture Arts",
          "Alphabet",
          "Alphabet\nAlphabet",
          "Amazon",
          "Amazon Web Services",
          "Apple",
          "Apple Inc.",
          "Apple Original",
          "Apple TV",
          "BBC",
          "BRK-A",
          "Berkshire",
          "Berkshire Hathaway",
          "Best Picture",
          "Bing",
          "Broadcom",
          "Buffett",
          "Buy",
          "CHPT",
          "COMP",
          "CVX",
          "Charlie",
          "Concert Orchestra",
          "D.",
          "Deaf",
          "Disney",
          "ELV",
          "Fed",
          "Fox",
          "HD",
          "Hathaway",
          "Horse",
          "Islam",
          "J.J. Abrams",
          "JNJ",
          "JPM",
          "Jony",
          "LG",
          "LLaMA",
          "LMT",
          "LOS ANGELES",
          "Los Angeles",
          "MA",
          "Mac",
          "Mackesy",
          "Mark Zuckerberg",
          "Meta",
          "Microsoft",
          "Missouri",
          "Mole",
          "Motley",
          "Muslim",
          "NYSE",
          "Netflix",
          "OXY",
          "Omaha",
          "OpenAI",
          "Oracle",
          "Oscar",
          "Oscar Best",
          "Oxford Brookes University",
          "Paddington",
          "PlayStation",
          "Roblox",
          "Roku",
          "SNOW",
          "Samsung",
          "Sony",
          "Strip AI",
          "T-PC",
          "TCL",
          "Tech",
          "Tesla",
          "The Academy of Motion Picture Arts",
          "The Boy",
          "Tim Cook",
          "U.S.",
          "UNH",
          "VIZIO",
          "VZ",
          "WMT",
          "Walmart",
          "Warren Buffett",
          "XOM",
          "Xbox",
          "Zahid Khan",
          "Zoom",
          "^DJI",
          "^GSPC",
          "^RUT",
          "eCommerce",
          "iPad",
          "iPhone",
          "iPod",
          "the Academy of Motion Picture Arts",
          "the Federal Reserve",
          "’s"
         ],
         "lat": [
          30.2678018,
          18.1954947,
          48.894939,
          22.44088145,
          38.6584211,
          41.5924486,
          34.0951397,
          37.3398646,
          40.7251022,
          -4.479925,
          53.29565355,
          50.7244737,
          37.3721487,
          46.2671359,
          45.6657419,
          51.46056275,
          40.8654814,
          51.453488899999996,
          45.4075743,
          14.7662079,
          37.870009,
          33.65085265,
          40.2268495,
          58.4816821,
          48.88492385,
          51.12130705,
          44.4134202,
          34.096205,
          39.8689242,
          47.06699155,
          31.746438,
          36.2486899,
          38.8811828,
          58.6671497,
          39.102158149999994,
          20.9443681,
          33.6022008,
          69.0955351,
          14.6822,
          40.613956,
          19.0559456,
          46.582036849999994,
          49.6755874,
          38.9058216,
          -8.9152478,
          54.9005008,
          34.0536909,
          34.0536909,
          42.3788774,
          52.45282885,
          -35.73297,
          52.0461945,
          3.5000086,
          37.3974949,
          38.7604815,
          16.7172784,
          34.0395459,
          1.3977682,
          35.6228213,
          57.5779775,
          37.8664769,
          41.2587459,
          37.7622666,
          32.6099702,
          38.0587301,
          -27.21106375,
          51.7549229,
          51.5170856,
          43.681354,
          37.5442274,
          -9.4595545,
          40.7751912,
          59.92729935,
          8.9230833,
          45.831584,
          27.7982094,
          -22.8626005,
          37.8319425,
          43.7403749,
          34.0951397,
          51.501055,
          48.0351968,
          48.684055799999996,
          43.1391032,
          40.7653274,
          11.1962849,
          27.956382650000002,
          26.04435085,
          38.8242065,
          13.723265,
          4.6275611,
          34.819593100000006,
          27.1450111,
          4.8780127,
          55.89251,
          46.2050803,
          22.2903439,
          38.4399228,
          39.5202078,
          37.7161125,
          34.0951397,
          44.9854069,
          47.7981346
         ],
         "legendgroup": "",
         "lon": [
          -97.75116747097053,
          -63.0750234,
          2.1773979081189236,
          -73.96899321903913,
          -90.2672264,
          -93.6643876,
          -118.327046,
          -121.8844823,
          -73.9795833,
          -63.5185396,
          -6.367900639231333,
          -3.5279205,
          -121.9752102,
          -63.1122223,
          12.2435523,
          -2.607060964910542,
          -87.3635328,
          -1.0318729593399247,
          -123.1486192,
          120.9963748,
          112.5452739,
          -117.73044229191595,
          -76.938491,
          41.532956,
          2.287996500264396,
          -0.9870037504020501,
          8.9475702,
          -98.3156036,
          32.7549683,
          6.235622772820445,
          14.0144603,
          -84.1713136,
          -7.1637495,
          6.656397,
          -84.52553479849549,
          106.3780373,
          -117.1206972,
          -26.8040805,
          8.5313,
          -75.117012,
          73.01824949096462,
          3.321568047315977,
          20.2756321,
          -101.1552381,
          -77.3014615,
          52.2963777,
          -118.242766,
          -118.242766,
          -72.032366,
          -1.9040261773076028,
          174.35324,
          13.5989899,
          -73.0000086,
          -122.0842646,
          -92.5617875,
          74.9213792,
          -100.7744062,
          32.2259798,
          140.1001003,
          -4.5848876,
          22.9466751,
          -95.9383758,
          -122.414777,
          -110.7651843,
          -80.3675766,
          -49.6313626,
          -1.2242411304246317,
          -0.1775422,
          5.147556,
          -122.2934287,
          147.090297,
          -111.9156368,
          30.36144375,
          17.8606833,
          -114.6537092,
          -97.3945288,
          -43.3067943,
          -122.25558103646526,
          -79.32174578471388,
          -118.327046,
          -0.1339603,
          -90.4797627,
          9.009657397144327,
          -70.9362886,
          -73.9833108,
          77.5217144,
          106.43593156796578,
          -80.2587218716443,
          -91.1375057398514,
          100.5842816,
          -74.0659006,
          73.07386302081872,
          88.2633501,
          12.0108247,
          -4.332728,
          13.8908309,
          114.27286382729018,
          -78.8860737,
          54.3540008,
          -122.4408176,
          -118.327046,
          -93.26726313910959,
          13.0464806
         ],
         "marker": {
          "color": "#636efa",
          "size": [
           1,
           1,
           1,
           1,
           1,
           1,
           1,
           1,
           1,
           1,
           1,
           7,
           1,
           1,
           1,
           1,
           2,
           1,
           1,
           1,
           1,
           1,
           1,
           1,
           1,
           1,
           1,
           1,
           1,
           1,
           1,
           1,
           1,
           1,
           1,
           1,
           1,
           1,
           1,
           1,
           1,
           1,
           1,
           1,
           1,
           1,
           1,
           1,
           1,
           1,
           1,
           1,
           1,
           1,
           1,
           1,
           1,
           1,
           1,
           1,
           1,
           2,
           1,
           1,
           1,
           1,
           1,
           1,
           1,
           1,
           1,
           1,
           1,
           1,
           1,
           1,
           1,
           1,
           1,
           1,
           1,
           1,
           1,
           1,
           1,
           2,
           1,
           1,
           1,
           2,
           1,
           1,
           1,
           1,
           2,
           1,
           1,
           1,
           2,
           1,
           1,
           1,
           1
          ],
          "sizemode": "area",
          "sizeref": 0.0175,
          "symbol": "circle"
         },
         "mode": "markers",
         "name": "",
         "showlegend": false,
         "type": "scattergeo"
        }
       ],
       "layout": {
        "geo": {
         "center": {},
         "domain": {
          "x": [
           0,
           1
          ],
          "y": [
           0,
           1
          ]
         },
         "projection": {
          "type": "natural earth"
         }
        },
        "legend": {
         "itemsizing": "constant",
         "tracegroupgap": 0
        },
        "margin": {
         "t": 60
        },
        "template": {
         "data": {
          "bar": [
           {
            "error_x": {
             "color": "#2a3f5f"
            },
            "error_y": {
             "color": "#2a3f5f"
            },
            "marker": {
             "line": {
              "color": "#E5ECF6",
              "width": 0.5
             },
             "pattern": {
              "fillmode": "overlay",
              "size": 10,
              "solidity": 0.2
             }
            },
            "type": "bar"
           }
          ],
          "barpolar": [
           {
            "marker": {
             "line": {
              "color": "#E5ECF6",
              "width": 0.5
             },
             "pattern": {
              "fillmode": "overlay",
              "size": 10,
              "solidity": 0.2
             }
            },
            "type": "barpolar"
           }
          ],
          "carpet": [
           {
            "aaxis": {
             "endlinecolor": "#2a3f5f",
             "gridcolor": "white",
             "linecolor": "white",
             "minorgridcolor": "white",
             "startlinecolor": "#2a3f5f"
            },
            "baxis": {
             "endlinecolor": "#2a3f5f",
             "gridcolor": "white",
             "linecolor": "white",
             "minorgridcolor": "white",
             "startlinecolor": "#2a3f5f"
            },
            "type": "carpet"
           }
          ],
          "choropleth": [
           {
            "colorbar": {
             "outlinewidth": 0,
             "ticks": ""
            },
            "type": "choropleth"
           }
          ],
          "contour": [
           {
            "colorbar": {
             "outlinewidth": 0,
             "ticks": ""
            },
            "colorscale": [
             [
              0,
              "#0d0887"
             ],
             [
              0.1111111111111111,
              "#46039f"
             ],
             [
              0.2222222222222222,
              "#7201a8"
             ],
             [
              0.3333333333333333,
              "#9c179e"
             ],
             [
              0.4444444444444444,
              "#bd3786"
             ],
             [
              0.5555555555555556,
              "#d8576b"
             ],
             [
              0.6666666666666666,
              "#ed7953"
             ],
             [
              0.7777777777777778,
              "#fb9f3a"
             ],
             [
              0.8888888888888888,
              "#fdca26"
             ],
             [
              1,
              "#f0f921"
             ]
            ],
            "type": "contour"
           }
          ],
          "contourcarpet": [
           {
            "colorbar": {
             "outlinewidth": 0,
             "ticks": ""
            },
            "type": "contourcarpet"
           }
          ],
          "heatmap": [
           {
            "colorbar": {
             "outlinewidth": 0,
             "ticks": ""
            },
            "colorscale": [
             [
              0,
              "#0d0887"
             ],
             [
              0.1111111111111111,
              "#46039f"
             ],
             [
              0.2222222222222222,
              "#7201a8"
             ],
             [
              0.3333333333333333,
              "#9c179e"
             ],
             [
              0.4444444444444444,
              "#bd3786"
             ],
             [
              0.5555555555555556,
              "#d8576b"
             ],
             [
              0.6666666666666666,
              "#ed7953"
             ],
             [
              0.7777777777777778,
              "#fb9f3a"
             ],
             [
              0.8888888888888888,
              "#fdca26"
             ],
             [
              1,
              "#f0f921"
             ]
            ],
            "type": "heatmap"
           }
          ],
          "heatmapgl": [
           {
            "colorbar": {
             "outlinewidth": 0,
             "ticks": ""
            },
            "colorscale": [
             [
              0,
              "#0d0887"
             ],
             [
              0.1111111111111111,
              "#46039f"
             ],
             [
              0.2222222222222222,
              "#7201a8"
             ],
             [
              0.3333333333333333,
              "#9c179e"
             ],
             [
              0.4444444444444444,
              "#bd3786"
             ],
             [
              0.5555555555555556,
              "#d8576b"
             ],
             [
              0.6666666666666666,
              "#ed7953"
             ],
             [
              0.7777777777777778,
              "#fb9f3a"
             ],
             [
              0.8888888888888888,
              "#fdca26"
             ],
             [
              1,
              "#f0f921"
             ]
            ],
            "type": "heatmapgl"
           }
          ],
          "histogram": [
           {
            "marker": {
             "pattern": {
              "fillmode": "overlay",
              "size": 10,
              "solidity": 0.2
             }
            },
            "type": "histogram"
           }
          ],
          "histogram2d": [
           {
            "colorbar": {
             "outlinewidth": 0,
             "ticks": ""
            },
            "colorscale": [
             [
              0,
              "#0d0887"
             ],
             [
              0.1111111111111111,
              "#46039f"
             ],
             [
              0.2222222222222222,
              "#7201a8"
             ],
             [
              0.3333333333333333,
              "#9c179e"
             ],
             [
              0.4444444444444444,
              "#bd3786"
             ],
             [
              0.5555555555555556,
              "#d8576b"
             ],
             [
              0.6666666666666666,
              "#ed7953"
             ],
             [
              0.7777777777777778,
              "#fb9f3a"
             ],
             [
              0.8888888888888888,
              "#fdca26"
             ],
             [
              1,
              "#f0f921"
             ]
            ],
            "type": "histogram2d"
           }
          ],
          "histogram2dcontour": [
           {
            "colorbar": {
             "outlinewidth": 0,
             "ticks": ""
            },
            "colorscale": [
             [
              0,
              "#0d0887"
             ],
             [
              0.1111111111111111,
              "#46039f"
             ],
             [
              0.2222222222222222,
              "#7201a8"
             ],
             [
              0.3333333333333333,
              "#9c179e"
             ],
             [
              0.4444444444444444,
              "#bd3786"
             ],
             [
              0.5555555555555556,
              "#d8576b"
             ],
             [
              0.6666666666666666,
              "#ed7953"
             ],
             [
              0.7777777777777778,
              "#fb9f3a"
             ],
             [
              0.8888888888888888,
              "#fdca26"
             ],
             [
              1,
              "#f0f921"
             ]
            ],
            "type": "histogram2dcontour"
           }
          ],
          "mesh3d": [
           {
            "colorbar": {
             "outlinewidth": 0,
             "ticks": ""
            },
            "type": "mesh3d"
           }
          ],
          "parcoords": [
           {
            "line": {
             "colorbar": {
              "outlinewidth": 0,
              "ticks": ""
             }
            },
            "type": "parcoords"
           }
          ],
          "pie": [
           {
            "automargin": true,
            "type": "pie"
           }
          ],
          "scatter": [
           {
            "fillpattern": {
             "fillmode": "overlay",
             "size": 10,
             "solidity": 0.2
            },
            "type": "scatter"
           }
          ],
          "scatter3d": [
           {
            "line": {
             "colorbar": {
              "outlinewidth": 0,
              "ticks": ""
             }
            },
            "marker": {
             "colorbar": {
              "outlinewidth": 0,
              "ticks": ""
             }
            },
            "type": "scatter3d"
           }
          ],
          "scattercarpet": [
           {
            "marker": {
             "colorbar": {
              "outlinewidth": 0,
              "ticks": ""
             }
            },
            "type": "scattercarpet"
           }
          ],
          "scattergeo": [
           {
            "marker": {
             "colorbar": {
              "outlinewidth": 0,
              "ticks": ""
             }
            },
            "type": "scattergeo"
           }
          ],
          "scattergl": [
           {
            "marker": {
             "colorbar": {
              "outlinewidth": 0,
              "ticks": ""
             }
            },
            "type": "scattergl"
           }
          ],
          "scattermapbox": [
           {
            "marker": {
             "colorbar": {
              "outlinewidth": 0,
              "ticks": ""
             }
            },
            "type": "scattermapbox"
           }
          ],
          "scatterpolar": [
           {
            "marker": {
             "colorbar": {
              "outlinewidth": 0,
              "ticks": ""
             }
            },
            "type": "scatterpolar"
           }
          ],
          "scatterpolargl": [
           {
            "marker": {
             "colorbar": {
              "outlinewidth": 0,
              "ticks": ""
             }
            },
            "type": "scatterpolargl"
           }
          ],
          "scatterternary": [
           {
            "marker": {
             "colorbar": {
              "outlinewidth": 0,
              "ticks": ""
             }
            },
            "type": "scatterternary"
           }
          ],
          "surface": [
           {
            "colorbar": {
             "outlinewidth": 0,
             "ticks": ""
            },
            "colorscale": [
             [
              0,
              "#0d0887"
             ],
             [
              0.1111111111111111,
              "#46039f"
             ],
             [
              0.2222222222222222,
              "#7201a8"
             ],
             [
              0.3333333333333333,
              "#9c179e"
             ],
             [
              0.4444444444444444,
              "#bd3786"
             ],
             [
              0.5555555555555556,
              "#d8576b"
             ],
             [
              0.6666666666666666,
              "#ed7953"
             ],
             [
              0.7777777777777778,
              "#fb9f3a"
             ],
             [
              0.8888888888888888,
              "#fdca26"
             ],
             [
              1,
              "#f0f921"
             ]
            ],
            "type": "surface"
           }
          ],
          "table": [
           {
            "cells": {
             "fill": {
              "color": "#EBF0F8"
             },
             "line": {
              "color": "white"
             }
            },
            "header": {
             "fill": {
              "color": "#C8D4E3"
             },
             "line": {
              "color": "white"
             }
            },
            "type": "table"
           }
          ]
         },
         "layout": {
          "annotationdefaults": {
           "arrowcolor": "#2a3f5f",
           "arrowhead": 0,
           "arrowwidth": 1
          },
          "autotypenumbers": "strict",
          "coloraxis": {
           "colorbar": {
            "outlinewidth": 0,
            "ticks": ""
           }
          },
          "colorscale": {
           "diverging": [
            [
             0,
             "#8e0152"
            ],
            [
             0.1,
             "#c51b7d"
            ],
            [
             0.2,
             "#de77ae"
            ],
            [
             0.3,
             "#f1b6da"
            ],
            [
             0.4,
             "#fde0ef"
            ],
            [
             0.5,
             "#f7f7f7"
            ],
            [
             0.6,
             "#e6f5d0"
            ],
            [
             0.7,
             "#b8e186"
            ],
            [
             0.8,
             "#7fbc41"
            ],
            [
             0.9,
             "#4d9221"
            ],
            [
             1,
             "#276419"
            ]
           ],
           "sequential": [
            [
             0,
             "#0d0887"
            ],
            [
             0.1111111111111111,
             "#46039f"
            ],
            [
             0.2222222222222222,
             "#7201a8"
            ],
            [
             0.3333333333333333,
             "#9c179e"
            ],
            [
             0.4444444444444444,
             "#bd3786"
            ],
            [
             0.5555555555555556,
             "#d8576b"
            ],
            [
             0.6666666666666666,
             "#ed7953"
            ],
            [
             0.7777777777777778,
             "#fb9f3a"
            ],
            [
             0.8888888888888888,
             "#fdca26"
            ],
            [
             1,
             "#f0f921"
            ]
           ],
           "sequentialminus": [
            [
             0,
             "#0d0887"
            ],
            [
             0.1111111111111111,
             "#46039f"
            ],
            [
             0.2222222222222222,
             "#7201a8"
            ],
            [
             0.3333333333333333,
             "#9c179e"
            ],
            [
             0.4444444444444444,
             "#bd3786"
            ],
            [
             0.5555555555555556,
             "#d8576b"
            ],
            [
             0.6666666666666666,
             "#ed7953"
            ],
            [
             0.7777777777777778,
             "#fb9f3a"
            ],
            [
             0.8888888888888888,
             "#fdca26"
            ],
            [
             1,
             "#f0f921"
            ]
           ]
          },
          "colorway": [
           "#636efa",
           "#EF553B",
           "#00cc96",
           "#ab63fa",
           "#FFA15A",
           "#19d3f3",
           "#FF6692",
           "#B6E880",
           "#FF97FF",
           "#FECB52"
          ],
          "font": {
           "color": "#2a3f5f"
          },
          "geo": {
           "bgcolor": "white",
           "lakecolor": "white",
           "landcolor": "#E5ECF6",
           "showlakes": true,
           "showland": true,
           "subunitcolor": "white"
          },
          "hoverlabel": {
           "align": "left"
          },
          "hovermode": "closest",
          "mapbox": {
           "style": "light"
          },
          "paper_bgcolor": "white",
          "plot_bgcolor": "#E5ECF6",
          "polar": {
           "angularaxis": {
            "gridcolor": "white",
            "linecolor": "white",
            "ticks": ""
           },
           "bgcolor": "#E5ECF6",
           "radialaxis": {
            "gridcolor": "white",
            "linecolor": "white",
            "ticks": ""
           }
          },
          "scene": {
           "xaxis": {
            "backgroundcolor": "#E5ECF6",
            "gridcolor": "white",
            "gridwidth": 2,
            "linecolor": "white",
            "showbackground": true,
            "ticks": "",
            "zerolinecolor": "white"
           },
           "yaxis": {
            "backgroundcolor": "#E5ECF6",
            "gridcolor": "white",
            "gridwidth": 2,
            "linecolor": "white",
            "showbackground": true,
            "ticks": "",
            "zerolinecolor": "white"
           },
           "zaxis": {
            "backgroundcolor": "#E5ECF6",
            "gridcolor": "white",
            "gridwidth": 2,
            "linecolor": "white",
            "showbackground": true,
            "ticks": "",
            "zerolinecolor": "white"
           }
          },
          "shapedefaults": {
           "line": {
            "color": "#2a3f5f"
           }
          },
          "ternary": {
           "aaxis": {
            "gridcolor": "white",
            "linecolor": "white",
            "ticks": ""
           },
           "baxis": {
            "gridcolor": "white",
            "linecolor": "white",
            "ticks": ""
           },
           "bgcolor": "#E5ECF6",
           "caxis": {
            "gridcolor": "white",
            "linecolor": "white",
            "ticks": ""
           }
          },
          "title": {
           "x": 0.05
          },
          "xaxis": {
           "automargin": true,
           "gridcolor": "white",
           "linecolor": "white",
           "ticks": "",
           "title": {
            "standoff": 15
           },
           "zerolinecolor": "white",
           "zerolinewidth": 2
          },
          "yaxis": {
           "automargin": true,
           "gridcolor": "white",
           "linecolor": "white",
           "ticks": "",
           "title": {
            "standoff": 15
           },
           "zerolinecolor": "white",
           "zerolinewidth": 2
          }
         }
        }
       }
      }
     },
     "metadata": {},
     "output_type": "display_data"
    }
   ],
   "source": [
    "import plotly.express as px\n",
    "import geopandas as gpd\n",
    "import sqlite3\n",
    "import pandas as pd\n",
    "\n",
    "sql = \"\"\" SELECT Inf.Symbol,Lin.Lname,Lin.Country,Lin.Latitude,Lin.Longitude,COUNT(Lin.Lname) as size,N.Date\n",
    "FROM Information as Inf\n",
    "INNER JOIN Share_in_News as Sin on Inf.SymbolId = Sin.SymbolId\n",
    "INNER JOIN News as N on N.NewsId = Sin.NewsId \n",
    "INNER JOIN Location_in_News as Lin on N.NewsId = Lin.NewsId \n",
    "WHERE Inf.Symbol = 'AAPL'\n",
    "GROUP BY Lin.Lname;\n",
    "\"\"\"\n",
    "con = sqlite3.connect('share_V3.sqlite')\n",
    "cur = con.cursor()    \n",
    "df = pd.read_sql(sql, con)\n",
    "con.commit()\n",
    "con.close\n",
    "\n",
    "gdf = gpd.GeoDataFrame(\n",
    "    df, geometry=gpd.points_from_xy(df.Longitude, df.Latitude))\n",
    "\n",
    "fig = px.scatter_geo(gdf,\n",
    "                    lat=gdf.geometry.y,\n",
    "                    lon=gdf.geometry.x,\n",
    "                    hover_name=\"Lname\",\n",
    "                    size=\"size\",\n",
    "                     projection=\"natural earth\")\n",
    "fig.show()\n"
   ]
  }
 ],
 "metadata": {
  "kernelspec": {
   "display_name": "Python 3",
   "language": "python",
   "name": "python3"
  },
  "language_info": {
   "codemirror_mode": {
    "name": "ipython",
    "version": 3
   },
   "file_extension": ".py",
   "mimetype": "text/x-python",
   "name": "python",
   "nbconvert_exporter": "python",
   "pygments_lexer": "ipython3",
   "version": "3.10.6"
  },
  "orig_nbformat": 4
 },
 "nbformat": 4,
 "nbformat_minor": 2
}
