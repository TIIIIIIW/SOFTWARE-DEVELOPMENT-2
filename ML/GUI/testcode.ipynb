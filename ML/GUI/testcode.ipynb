{
 "cells": [
  {
   "cell_type": "code",
   "execution_count": 5,
   "metadata": {},
   "outputs": [],
   "source": [
    "import sqlite3\n",
    "\n",
    "conn = sqlite3.connect('newshare.sqlite')\n",
    "cursor = conn.cursor()\n",
    "sqlquery = f\"\"\"SELECT Ifm.Symbol, Ifm.Market, Idt.Short_Industry, Idt.Full_Industry, st.Short_Sector, st.Full_Sector, Ifm.\"Dividend Policy\", Ifm.\"Business Type\"\n",
    "                FROM Industry as Idt\n",
    "                INNER JOIN Information as Ifm ON Idt.IndustryId = Ifm.IndustryId\n",
    "                INNER JOIN Sector as st ON st.SectorId = Ifm.SectorId\n",
    "                WHERE 'ACE';\n",
    "        \"\"\"\n",
    "result = conn.execute(sqlquery)\n",
    "rows = result.fetchall()\n",
    "for row in rows:\n",
    "        print(row)"
   ]
  }
 ],
 "metadata": {
  "kernelspec": {
   "display_name": "Python 3",
   "language": "python",
   "name": "python3"
  },
  "language_info": {
   "codemirror_mode": {
    "name": "ipython",
    "version": 3
   },
   "file_extension": ".py",
   "mimetype": "text/x-python",
   "name": "python",
   "nbconvert_exporter": "python",
   "pygments_lexer": "ipython3",
   "version": "3.10.6"
  },
  "orig_nbformat": 4,
  "vscode": {
   "interpreter": {
    "hash": "a42ccb73e7d9bfdf27e036f1d2b8b681e55fc0743cc5586bc2474d4a60f4b886"
   }
  }
 },
 "nbformat": 4,
 "nbformat_minor": 2
}
