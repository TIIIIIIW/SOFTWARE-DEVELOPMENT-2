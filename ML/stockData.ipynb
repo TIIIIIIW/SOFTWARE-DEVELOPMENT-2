{
 "cells": [
  {
   "cell_type": "code",
   "execution_count": 10,
   "metadata": {},
   "outputs": [],
   "source": [
    "import pandas as pd\n",
    "import matplotlib.pyplot as plt\n",
    "import yfinance as yf\n",
    "import mplfinance as mpf\n",
    "from datetime import datetime, timedelta\n",
    "import plotly\n",
    "import plotly.graph_objs as go"
   ]
  },
  {
   "cell_type": "code",
   "execution_count": 11,
   "metadata": {},
   "outputs": [],
   "source": [
    "tickers = ['ACE.BK', 'ADVANC.BK', 'AEONTS.BK', 'AMATA.BK', 'AOT.BK', 'AP.BK', 'AWC.BK', 'BAM.BK',\n",
    "       'BANPU.BK', 'BBL.BK', 'BCH.BK', 'BCP.BK', 'BCPG.BK', 'BDMS.BK', 'BEC.BK', 'BEM.BK',\n",
    "       'BGRIM.BK', 'BH.BK', 'BLA.BK', 'BTS.BK', 'CBG.BK', 'CENTEL.BK', 'CHG.BK', 'CK.BK', 'CKP.BK',\n",
    "       'COM7.BK', 'CPALL.BK', 'CPF.BK', 'CPN.BK', 'CRC.BK', 'DOHOME.BK', 'DTAC.BK', 'EA.BK',\n",
    "       'EGCO.BK', 'EPG.BK', 'ESSO.BK', 'FORTH.BK', 'GLOBAL.BK', 'GPSC.BK', 'GULF.BK', 'GUNKUL.BK',\n",
    "       'HANA.BK', 'HMPRO.BK', 'INTUCH.BK', 'IRPC.BK', 'IVL.BK', 'JMART.BK', 'JMT.BK', 'KBANK.BK',\n",
    "       'KCE.BK', 'KEX.BK', 'KKP.BK', 'KTB.BK', 'KTC.BK', 'LH.BK', 'MAJOR.BK', 'MEGA.BK', 'MINT.BK',\n",
    "       'MTC.BK', 'ONEE.BK', 'OR.BK', 'ORI.BK', 'OSP.BK', 'PLANB.BK', 'PSL.BK', 'PTG.BK', 'PTT.BK',\n",
    "       'PTTEP.BK', 'PTTGC.BK', 'QH.BK', 'RATCH.BK', 'RBF.BK', 'RCL.BK', 'SAWAD.BK', 'SCB.BK',\n",
    "       'SCC.BK', 'SCGP.BK', 'SINGER.BK', 'SPALI.BK', 'SPRC.BK', 'STA.BK', 'STARK.BK', 'STEC.BK',\n",
    "       'STGT.BK', 'SUPER.BK', 'SYNEX.BK', 'TASCO.BK', 'TCAP.BK', 'THANI.BK', 'TIDLOR.BK',\n",
    "       'TIPH.BK', 'TISCO.BK', 'TOP.BK', 'TQM.BK', 'TRUE.BK', 'TTA.BK', 'TTB.BK', 'TU.BK', 'VGI.BK',\n",
    "       'WHA.BK']\n",
    "\n",
    "test_tickers = ['WHA.BK']"
   ]
  },
  {
   "cell_type": "code",
   "execution_count": 12,
   "metadata": {},
   "outputs": [],
   "source": [
    "def getData(tickers) :\n",
    "    data = []\n",
    "    if tickers == [] :\n",
    "        return 'No stock name'\n",
    "    for ticker in tickers:\n",
    "        detail = yf.download(ticker, interval='1D')\n",
    "        # detail = yf.download(ticker, interval='1h', start='2022-11-01', end='2022-12-01')\n",
    "        detail['Symbol'] = ticker[:-3]\n",
    "        table_price = detail.reset_index()\n",
    "        data.append(table_price)\n",
    "    return data\n",
    "    \n",
    "\n",
    "def putDataToCsv(datas):\n",
    "    with open('stock_data1D.csv', 'w') as creating_new_csv_file: \n",
    "        pass \n",
    "    count = 0\n",
    "    for data in datas:\n",
    "        if count > 0:\n",
    "            data.to_csv('stock_data1D.csv', mode='a', header=False,index=False)\n",
    "            count+=1\n",
    "        else:\n",
    "            data.to_csv('stock_data1D.csv', mode='a',index=False)\n",
    "            count+=1\n",
    "\n",
    "\n",
    "def readCSV(name):\n",
    "    stock_data = pd.read_csv(name)\n",
    "    stock_data['Datetime'] = pd.to_datetime(stock_data['Datetime'], format='%Y/%m/%d')\n",
    "    start_date = max(stock_data['Datetime'])\n",
    "    return start_date, stock_data\n",
    "\n",
    "def updateData(ticker, start_date):\n",
    "    detail = yf.download(ticker, interval='1h', start=start_date)\n",
    "    detail['Symbol'] = ticker[:-3]\n",
    "    table_price = detail.reset_index()\n",
    "    return table_price\n",
    "\n",
    "def combineData(stock_data, table_price):\n",
    "    new_data = [stock_data]\n",
    "    new_data.append(table_price)\n",
    "    new_table = pd.concat(new_data)\n",
    "    duplicate = new_table[['Datetime','Symbol']].duplicated(keep='first')\n",
    "    new_table = new_table.drop(new_table[duplicate].index)\n",
    "    new_table = new_table.sort_values(by=['Symbol', 'Datetime'], ascending=True)\n",
    "    new_table.to_csv('stock_dataTest.csv', index=False)\n",
    "    return new_table\n"
   ]
  },
  {
   "cell_type": "code",
   "execution_count": 13,
   "metadata": {},
   "outputs": [],
   "source": [
    "# data = getData(tickers)\n",
    "# putDataToCsv(data)"
   ]
  },
  {
   "cell_type": "code",
   "execution_count": 14,
   "metadata": {},
   "outputs": [],
   "source": [
    "# df = pd.read_csv('stock_dataTest.csv')\n",
    "# df.tail(10)"
   ]
  },
  {
   "cell_type": "code",
   "execution_count": 15,
   "metadata": {},
   "outputs": [],
   "source": [
    "# data = readCSV('stock_dataTest.csv')\n",
    "# for i in test_tickers:\n",
    "#     new = updateData(i, data[0])\n",
    "#     new_frame = combineData(data[1], new)\n",
    "# print(type(data[0]))\n",
    "# new_frame"
   ]
  },
  {
   "cell_type": "code",
   "execution_count": 16,
   "metadata": {},
   "outputs": [],
   "source": [
    "# a = pd.DataFrame({\n",
    "#             'Open': [10],\n",
    "#             'High': [15],\n",
    "#             'Low': [5],\n",
    "#             'Close': [10],\n",
    "#             'Adj Close': [10],\n",
    "#             'Volume': [100]}, index=[pd.to_datetime('2020-01-01', format='%Y/%m/%d')])\n",
    "\n",
    "# a.reset_index(names='Datetime')"
   ]
  },
  {
   "cell_type": "code",
   "execution_count": 17,
   "metadata": {},
   "outputs": [],
   "source": [
    "# detail = pd.DataFrame({\n",
    "#             'Open': [10],\n",
    "#             'High': [15],\n",
    "#             'Low': [5],\n",
    "#             'Close': [10],\n",
    "#             'Adj Close': [10],\n",
    "#             'Volume': [100]}, index=[pd.to_datetime('2020-01-01', format='%Y/%m/%d')])\n",
    "# # detail = yf.download(ticker, interval='1h', start=start_date)\n",
    "# detail['Symbol'] = 'test'\n",
    "# table_price = detail.rename_axis('Datetime').reset_index()\n",
    "\n",
    "# table_price"
   ]
  },
  {
   "cell_type": "code",
   "execution_count": 18,
   "metadata": {},
   "outputs": [],
   "source": [
    "# b = pd.DataFrame({\n",
    "#             'Datetime': [pd.to_datetime('2020-01-01', format='%Y/%m/%d')],\n",
    "#             'Open': [10],\n",
    "#             'High': [15],\n",
    "#             'Low': [5],\n",
    "#             'Close': [10],\n",
    "#             'Adj Close': [10],\n",
    "#             'Volume': [100],\n",
    "#             'Symbol': ['test']\n",
    "#         })\n",
    "\n",
    "# b.equals(table_price)"
   ]
  },
  {
   "cell_type": "code",
   "execution_count": 19,
   "metadata": {},
   "outputs": [],
   "source": [
    "# new.tail(10)"
   ]
  },
  {
   "cell_type": "code",
   "execution_count": 20,
   "metadata": {},
   "outputs": [],
   "source": [
    "# df = pd.read_csv(\"stock_data.csv\")\n",
    "# newdf = df[(df.Symbol == 'KBANK')]\n",
    "# newdf"
   ]
  },
  {
   "cell_type": "code",
   "execution_count": 21,
   "metadata": {},
   "outputs": [],
   "source": [
    "# newdf.Date = pd.to_datetime(newdf.Date)\n",
    "# newdf.info()"
   ]
  },
  {
   "cell_type": "code",
   "execution_count": 22,
   "metadata": {},
   "outputs": [],
   "source": [
    "# newdf = newdf.set_index('Date')\n",
    "# newdf"
   ]
  },
  {
   "cell_type": "code",
   "execution_count": 23,
   "metadata": {},
   "outputs": [],
   "source": [
    "# mpf.plot(\n",
    "#     newdf['2022-10':'2022-12'],\n",
    "#     type='candle',\n",
    "#     style='yahoo',\n",
    "#     volume=True,\n",
    "#     title='KBANK Stock Price 2022-10 to 2022-12',\n",
    "#     figratio=(40,15)\n",
    "#  )"
   ]
  },
  {
   "cell_type": "code",
   "execution_count": 101,
   "metadata": {},
   "outputs": [
    {
     "data": {
      "text/plain": [
       "192576   2022-08-16\n",
       "192577   2022-08-17\n",
       "192578   2022-08-18\n",
       "192579   2022-08-19\n",
       "192580   2022-08-22\n",
       "            ...    \n",
       "192671   2023-01-04\n",
       "192672   2023-01-05\n",
       "192673   2023-01-06\n",
       "192674   2023-01-09\n",
       "192675   2023-01-10\n",
       "Name: Date, Length: 100, dtype: datetime64[ns]"
      ]
     },
     "execution_count": 101,
     "metadata": {},
     "output_type": "execute_result"
    }
   ],
   "source": [
    "df1d = pd.read_csv(\"stock_data1D.csv\")\n",
    "df1d = df1d[(df1d.Symbol == 'KBANK')].tail(100)\n",
    "df1d['Date'] = pd.to_datetime(df1d['Date'])\n",
    "my_range = pd.date_range(start= min(df1d['Date']), end= max(df1d['Date']), freq='B')\n",
    "missing_date = my_range.difference(df1d['Date']).strftime(\"%Y-%m-%d\").tolist()\n",
    "df1d['Date']"
   ]
  },
  {
   "cell_type": "code",
   "execution_count": 102,
   "metadata": {},
   "outputs": [
    {
     "data": {
      "text/plain": [
       "['2022-10-13',\n",
       " '2022-10-14',\n",
       " '2022-10-24',\n",
       " '2022-12-05',\n",
       " '2022-12-12',\n",
       " '2023-01-02']"
      ]
     },
     "execution_count": 102,
     "metadata": {},
     "output_type": "execute_result"
    }
   ],
   "source": [
    "missing_date"
   ]
  },
  {
   "cell_type": "code",
   "execution_count": 120,
   "metadata": {},
   "outputs": [
    {
     "data": {
      "application/vnd.plotly.v1+json": {
       "config": {
        "plotlyServerURL": "https://plot.ly"
       },
       "data": [
        {
         "close": [
          151.5,
          154,
          154,
          154,
          153.5,
          155,
          156,
          157.5,
          157,
          155,
          155.5,
          153.5,
          152.5,
          152,
          152.5,
          151,
          148,
          147,
          149,
          151,
          151,
          150,
          148.5,
          148,
          149.5,
          150.5,
          150,
          151,
          151.5,
          149.5,
          145,
          143.5,
          144.5,
          144,
          140.5,
          142.5,
          142,
          142.5,
          143,
          142,
          143.5,
          144,
          145.5,
          146.5,
          148,
          148.5,
          146,
          141.5,
          141.5,
          143,
          142.5,
          146,
          146.5,
          147,
          149.5,
          148.5,
          148,
          148.5,
          147.5,
          148,
          148,
          144.5,
          144.5,
          145,
          143.5,
          143,
          142.5,
          143.5,
          143,
          143.5,
          143.5,
          143.5,
          145.5,
          144.5,
          144,
          142.5,
          142,
          142.5,
          142,
          143,
          143.5,
          142,
          143,
          143.5,
          144,
          143,
          144.5,
          145,
          144,
          144.5,
          145.5,
          146,
          147,
          147.5,
          149,
          151.5,
          151,
          153,
          154.5,
          155.5
         ],
         "high": [
          152.5,
          154.5,
          154.5,
          155.5,
          154,
          155.5,
          157,
          158,
          158.5,
          156,
          156.5,
          156,
          154,
          153.5,
          153,
          152.5,
          150.5,
          149.5,
          150,
          152,
          152,
          151,
          150,
          148.5,
          149.5,
          151.5,
          151,
          152,
          152,
          151.5,
          149,
          145,
          146.5,
          144,
          143.5,
          143,
          143.5,
          144,
          143.5,
          142.5,
          143.5,
          145,
          145.5,
          147,
          148.5,
          149,
          148,
          144.5,
          142,
          143,
          143.5,
          146.5,
          147.5,
          147.5,
          149.5,
          149.5,
          149.5,
          149.5,
          150,
          149,
          149.5,
          147,
          146,
          145,
          145,
          143.5,
          143.5,
          144,
          143.5,
          144,
          144.5,
          143.5,
          146,
          145,
          145,
          144,
          142,
          144,
          143,
          143,
          144,
          144,
          143.5,
          143.5,
          144,
          144,
          144.5,
          145.5,
          144.5,
          144.5,
          146,
          146.5,
          147,
          148.5,
          149.5,
          151.5,
          154,
          154,
          155,
          155.5
         ],
         "low": [
          151,
          151,
          153,
          153.5,
          152.5,
          152,
          154,
          156.5,
          156,
          154,
          155,
          153,
          151.5,
          151.5,
          151,
          150.5,
          147,
          147,
          148,
          150,
          150.5,
          149,
          148.5,
          147,
          148,
          150,
          149.5,
          149,
          149.5,
          149,
          144,
          143.5,
          144,
          142.5,
          140,
          142,
          141.5,
          142.5,
          142,
          141.5,
          141,
          143.5,
          143.5,
          145.5,
          146.5,
          147,
          145.5,
          140.5,
          140,
          141,
          142,
          143,
          145.5,
          145.5,
          146.5,
          148,
          148,
          148,
          147.5,
          146,
          147.5,
          144,
          144.5,
          144,
          143,
          142,
          142,
          142.5,
          142.5,
          143,
          143,
          141.5,
          143,
          144,
          144,
          142.5,
          141,
          142,
          142,
          142,
          143,
          142,
          142,
          142.5,
          143.5,
          143,
          143,
          144,
          143,
          143.5,
          144,
          145,
          145,
          147,
          147,
          149,
          150.5,
          151.5,
          153,
          153.5
         ],
         "open": [
          151.5,
          152,
          153,
          154,
          153.5,
          152.5,
          155,
          157,
          157.5,
          154.5,
          155,
          155.5,
          153,
          153,
          152,
          152.5,
          150.5,
          149,
          148,
          150,
          151.5,
          149.5,
          149.5,
          147.5,
          148,
          150,
          150.5,
          150,
          151,
          151,
          148.5,
          144.5,
          145,
          143.5,
          143,
          142.5,
          143.5,
          142.5,
          143,
          142,
          142,
          143.5,
          144,
          146,
          147,
          147.5,
          146.5,
          144.5,
          142,
          142,
          143,
          143.5,
          147.5,
          147,
          147,
          149,
          149,
          149,
          149.5,
          146.5,
          149,
          146,
          144.5,
          144.5,
          145,
          143.5,
          143,
          142.5,
          143.5,
          143.5,
          143.5,
          142.5,
          143.5,
          145,
          144.5,
          143.5,
          141.5,
          142,
          142.5,
          143,
          144,
          144,
          142.5,
          143,
          144,
          144,
          143.5,
          145,
          144,
          143.5,
          144.5,
          145.5,
          146,
          147.5,
          148,
          149,
          152.5,
          152,
          154.5,
          155
         ],
         "type": "candlestick",
         "x": [
          "2022-08-16T00:00:00",
          "2022-08-17T00:00:00",
          "2022-08-18T00:00:00",
          "2022-08-19T00:00:00",
          "2022-08-22T00:00:00",
          "2022-08-23T00:00:00",
          "2022-08-24T00:00:00",
          "2022-08-25T00:00:00",
          "2022-08-26T00:00:00",
          "2022-08-29T00:00:00",
          "2022-08-30T00:00:00",
          "2022-08-31T00:00:00",
          "2022-09-01T00:00:00",
          "2022-09-02T00:00:00",
          "2022-09-05T00:00:00",
          "2022-09-06T00:00:00",
          "2022-09-07T00:00:00",
          "2022-09-08T00:00:00",
          "2022-09-09T00:00:00",
          "2022-09-12T00:00:00",
          "2022-09-13T00:00:00",
          "2022-09-14T00:00:00",
          "2022-09-15T00:00:00",
          "2022-09-16T00:00:00",
          "2022-09-19T00:00:00",
          "2022-09-20T00:00:00",
          "2022-09-21T00:00:00",
          "2022-09-22T00:00:00",
          "2022-09-23T00:00:00",
          "2022-09-26T00:00:00",
          "2022-09-27T00:00:00",
          "2022-09-28T00:00:00",
          "2022-09-29T00:00:00",
          "2022-09-30T00:00:00",
          "2022-10-03T00:00:00",
          "2022-10-04T00:00:00",
          "2022-10-05T00:00:00",
          "2022-10-06T00:00:00",
          "2022-10-07T00:00:00",
          "2022-10-10T00:00:00",
          "2022-10-11T00:00:00",
          "2022-10-12T00:00:00",
          "2022-10-17T00:00:00",
          "2022-10-18T00:00:00",
          "2022-10-19T00:00:00",
          "2022-10-20T00:00:00",
          "2022-10-21T00:00:00",
          "2022-10-25T00:00:00",
          "2022-10-26T00:00:00",
          "2022-10-27T00:00:00",
          "2022-10-28T00:00:00",
          "2022-10-31T00:00:00",
          "2022-11-01T00:00:00",
          "2022-11-02T00:00:00",
          "2022-11-03T00:00:00",
          "2022-11-04T00:00:00",
          "2022-11-07T00:00:00",
          "2022-11-08T00:00:00",
          "2022-11-09T00:00:00",
          "2022-11-10T00:00:00",
          "2022-11-11T00:00:00",
          "2022-11-14T00:00:00",
          "2022-11-15T00:00:00",
          "2022-11-16T00:00:00",
          "2022-11-17T00:00:00",
          "2022-11-18T00:00:00",
          "2022-11-21T00:00:00",
          "2022-11-22T00:00:00",
          "2022-11-23T00:00:00",
          "2022-11-24T00:00:00",
          "2022-11-25T00:00:00",
          "2022-11-28T00:00:00",
          "2022-11-29T00:00:00",
          "2022-11-30T00:00:00",
          "2022-12-01T00:00:00",
          "2022-12-02T00:00:00",
          "2022-12-06T00:00:00",
          "2022-12-07T00:00:00",
          "2022-12-08T00:00:00",
          "2022-12-09T00:00:00",
          "2022-12-13T00:00:00",
          "2022-12-14T00:00:00",
          "2022-12-15T00:00:00",
          "2022-12-16T00:00:00",
          "2022-12-19T00:00:00",
          "2022-12-20T00:00:00",
          "2022-12-21T00:00:00",
          "2022-12-22T00:00:00",
          "2022-12-23T00:00:00",
          "2022-12-26T00:00:00",
          "2022-12-27T00:00:00",
          "2022-12-28T00:00:00",
          "2022-12-29T00:00:00",
          "2022-12-30T00:00:00",
          "2023-01-03T00:00:00",
          "2023-01-04T00:00:00",
          "2023-01-05T00:00:00",
          "2023-01-06T00:00:00",
          "2023-01-09T00:00:00",
          "2023-01-10T00:00:00"
         ]
        }
       ],
       "layout": {
        "template": {
         "data": {
          "bar": [
           {
            "error_x": {
             "color": "#2a3f5f"
            },
            "error_y": {
             "color": "#2a3f5f"
            },
            "marker": {
             "line": {
              "color": "#E5ECF6",
              "width": 0.5
             },
             "pattern": {
              "fillmode": "overlay",
              "size": 10,
              "solidity": 0.2
             }
            },
            "type": "bar"
           }
          ],
          "barpolar": [
           {
            "marker": {
             "line": {
              "color": "#E5ECF6",
              "width": 0.5
             },
             "pattern": {
              "fillmode": "overlay",
              "size": 10,
              "solidity": 0.2
             }
            },
            "type": "barpolar"
           }
          ],
          "carpet": [
           {
            "aaxis": {
             "endlinecolor": "#2a3f5f",
             "gridcolor": "white",
             "linecolor": "white",
             "minorgridcolor": "white",
             "startlinecolor": "#2a3f5f"
            },
            "baxis": {
             "endlinecolor": "#2a3f5f",
             "gridcolor": "white",
             "linecolor": "white",
             "minorgridcolor": "white",
             "startlinecolor": "#2a3f5f"
            },
            "type": "carpet"
           }
          ],
          "choropleth": [
           {
            "colorbar": {
             "outlinewidth": 0,
             "ticks": ""
            },
            "type": "choropleth"
           }
          ],
          "contour": [
           {
            "colorbar": {
             "outlinewidth": 0,
             "ticks": ""
            },
            "colorscale": [
             [
              0,
              "#0d0887"
             ],
             [
              0.1111111111111111,
              "#46039f"
             ],
             [
              0.2222222222222222,
              "#7201a8"
             ],
             [
              0.3333333333333333,
              "#9c179e"
             ],
             [
              0.4444444444444444,
              "#bd3786"
             ],
             [
              0.5555555555555556,
              "#d8576b"
             ],
             [
              0.6666666666666666,
              "#ed7953"
             ],
             [
              0.7777777777777778,
              "#fb9f3a"
             ],
             [
              0.8888888888888888,
              "#fdca26"
             ],
             [
              1,
              "#f0f921"
             ]
            ],
            "type": "contour"
           }
          ],
          "contourcarpet": [
           {
            "colorbar": {
             "outlinewidth": 0,
             "ticks": ""
            },
            "type": "contourcarpet"
           }
          ],
          "heatmap": [
           {
            "colorbar": {
             "outlinewidth": 0,
             "ticks": ""
            },
            "colorscale": [
             [
              0,
              "#0d0887"
             ],
             [
              0.1111111111111111,
              "#46039f"
             ],
             [
              0.2222222222222222,
              "#7201a8"
             ],
             [
              0.3333333333333333,
              "#9c179e"
             ],
             [
              0.4444444444444444,
              "#bd3786"
             ],
             [
              0.5555555555555556,
              "#d8576b"
             ],
             [
              0.6666666666666666,
              "#ed7953"
             ],
             [
              0.7777777777777778,
              "#fb9f3a"
             ],
             [
              0.8888888888888888,
              "#fdca26"
             ],
             [
              1,
              "#f0f921"
             ]
            ],
            "type": "heatmap"
           }
          ],
          "heatmapgl": [
           {
            "colorbar": {
             "outlinewidth": 0,
             "ticks": ""
            },
            "colorscale": [
             [
              0,
              "#0d0887"
             ],
             [
              0.1111111111111111,
              "#46039f"
             ],
             [
              0.2222222222222222,
              "#7201a8"
             ],
             [
              0.3333333333333333,
              "#9c179e"
             ],
             [
              0.4444444444444444,
              "#bd3786"
             ],
             [
              0.5555555555555556,
              "#d8576b"
             ],
             [
              0.6666666666666666,
              "#ed7953"
             ],
             [
              0.7777777777777778,
              "#fb9f3a"
             ],
             [
              0.8888888888888888,
              "#fdca26"
             ],
             [
              1,
              "#f0f921"
             ]
            ],
            "type": "heatmapgl"
           }
          ],
          "histogram": [
           {
            "marker": {
             "pattern": {
              "fillmode": "overlay",
              "size": 10,
              "solidity": 0.2
             }
            },
            "type": "histogram"
           }
          ],
          "histogram2d": [
           {
            "colorbar": {
             "outlinewidth": 0,
             "ticks": ""
            },
            "colorscale": [
             [
              0,
              "#0d0887"
             ],
             [
              0.1111111111111111,
              "#46039f"
             ],
             [
              0.2222222222222222,
              "#7201a8"
             ],
             [
              0.3333333333333333,
              "#9c179e"
             ],
             [
              0.4444444444444444,
              "#bd3786"
             ],
             [
              0.5555555555555556,
              "#d8576b"
             ],
             [
              0.6666666666666666,
              "#ed7953"
             ],
             [
              0.7777777777777778,
              "#fb9f3a"
             ],
             [
              0.8888888888888888,
              "#fdca26"
             ],
             [
              1,
              "#f0f921"
             ]
            ],
            "type": "histogram2d"
           }
          ],
          "histogram2dcontour": [
           {
            "colorbar": {
             "outlinewidth": 0,
             "ticks": ""
            },
            "colorscale": [
             [
              0,
              "#0d0887"
             ],
             [
              0.1111111111111111,
              "#46039f"
             ],
             [
              0.2222222222222222,
              "#7201a8"
             ],
             [
              0.3333333333333333,
              "#9c179e"
             ],
             [
              0.4444444444444444,
              "#bd3786"
             ],
             [
              0.5555555555555556,
              "#d8576b"
             ],
             [
              0.6666666666666666,
              "#ed7953"
             ],
             [
              0.7777777777777778,
              "#fb9f3a"
             ],
             [
              0.8888888888888888,
              "#fdca26"
             ],
             [
              1,
              "#f0f921"
             ]
            ],
            "type": "histogram2dcontour"
           }
          ],
          "mesh3d": [
           {
            "colorbar": {
             "outlinewidth": 0,
             "ticks": ""
            },
            "type": "mesh3d"
           }
          ],
          "parcoords": [
           {
            "line": {
             "colorbar": {
              "outlinewidth": 0,
              "ticks": ""
             }
            },
            "type": "parcoords"
           }
          ],
          "pie": [
           {
            "automargin": true,
            "type": "pie"
           }
          ],
          "scatter": [
           {
            "fillpattern": {
             "fillmode": "overlay",
             "size": 10,
             "solidity": 0.2
            },
            "type": "scatter"
           }
          ],
          "scatter3d": [
           {
            "line": {
             "colorbar": {
              "outlinewidth": 0,
              "ticks": ""
             }
            },
            "marker": {
             "colorbar": {
              "outlinewidth": 0,
              "ticks": ""
             }
            },
            "type": "scatter3d"
           }
          ],
          "scattercarpet": [
           {
            "marker": {
             "colorbar": {
              "outlinewidth": 0,
              "ticks": ""
             }
            },
            "type": "scattercarpet"
           }
          ],
          "scattergeo": [
           {
            "marker": {
             "colorbar": {
              "outlinewidth": 0,
              "ticks": ""
             }
            },
            "type": "scattergeo"
           }
          ],
          "scattergl": [
           {
            "marker": {
             "colorbar": {
              "outlinewidth": 0,
              "ticks": ""
             }
            },
            "type": "scattergl"
           }
          ],
          "scattermapbox": [
           {
            "marker": {
             "colorbar": {
              "outlinewidth": 0,
              "ticks": ""
             }
            },
            "type": "scattermapbox"
           }
          ],
          "scatterpolar": [
           {
            "marker": {
             "colorbar": {
              "outlinewidth": 0,
              "ticks": ""
             }
            },
            "type": "scatterpolar"
           }
          ],
          "scatterpolargl": [
           {
            "marker": {
             "colorbar": {
              "outlinewidth": 0,
              "ticks": ""
             }
            },
            "type": "scatterpolargl"
           }
          ],
          "scatterternary": [
           {
            "marker": {
             "colorbar": {
              "outlinewidth": 0,
              "ticks": ""
             }
            },
            "type": "scatterternary"
           }
          ],
          "surface": [
           {
            "colorbar": {
             "outlinewidth": 0,
             "ticks": ""
            },
            "colorscale": [
             [
              0,
              "#0d0887"
             ],
             [
              0.1111111111111111,
              "#46039f"
             ],
             [
              0.2222222222222222,
              "#7201a8"
             ],
             [
              0.3333333333333333,
              "#9c179e"
             ],
             [
              0.4444444444444444,
              "#bd3786"
             ],
             [
              0.5555555555555556,
              "#d8576b"
             ],
             [
              0.6666666666666666,
              "#ed7953"
             ],
             [
              0.7777777777777778,
              "#fb9f3a"
             ],
             [
              0.8888888888888888,
              "#fdca26"
             ],
             [
              1,
              "#f0f921"
             ]
            ],
            "type": "surface"
           }
          ],
          "table": [
           {
            "cells": {
             "fill": {
              "color": "#EBF0F8"
             },
             "line": {
              "color": "white"
             }
            },
            "header": {
             "fill": {
              "color": "#C8D4E3"
             },
             "line": {
              "color": "white"
             }
            },
            "type": "table"
           }
          ]
         },
         "layout": {
          "annotationdefaults": {
           "arrowcolor": "#2a3f5f",
           "arrowhead": 0,
           "arrowwidth": 1
          },
          "autotypenumbers": "strict",
          "coloraxis": {
           "colorbar": {
            "outlinewidth": 0,
            "ticks": ""
           }
          },
          "colorscale": {
           "diverging": [
            [
             0,
             "#8e0152"
            ],
            [
             0.1,
             "#c51b7d"
            ],
            [
             0.2,
             "#de77ae"
            ],
            [
             0.3,
             "#f1b6da"
            ],
            [
             0.4,
             "#fde0ef"
            ],
            [
             0.5,
             "#f7f7f7"
            ],
            [
             0.6,
             "#e6f5d0"
            ],
            [
             0.7,
             "#b8e186"
            ],
            [
             0.8,
             "#7fbc41"
            ],
            [
             0.9,
             "#4d9221"
            ],
            [
             1,
             "#276419"
            ]
           ],
           "sequential": [
            [
             0,
             "#0d0887"
            ],
            [
             0.1111111111111111,
             "#46039f"
            ],
            [
             0.2222222222222222,
             "#7201a8"
            ],
            [
             0.3333333333333333,
             "#9c179e"
            ],
            [
             0.4444444444444444,
             "#bd3786"
            ],
            [
             0.5555555555555556,
             "#d8576b"
            ],
            [
             0.6666666666666666,
             "#ed7953"
            ],
            [
             0.7777777777777778,
             "#fb9f3a"
            ],
            [
             0.8888888888888888,
             "#fdca26"
            ],
            [
             1,
             "#f0f921"
            ]
           ],
           "sequentialminus": [
            [
             0,
             "#0d0887"
            ],
            [
             0.1111111111111111,
             "#46039f"
            ],
            [
             0.2222222222222222,
             "#7201a8"
            ],
            [
             0.3333333333333333,
             "#9c179e"
            ],
            [
             0.4444444444444444,
             "#bd3786"
            ],
            [
             0.5555555555555556,
             "#d8576b"
            ],
            [
             0.6666666666666666,
             "#ed7953"
            ],
            [
             0.7777777777777778,
             "#fb9f3a"
            ],
            [
             0.8888888888888888,
             "#fdca26"
            ],
            [
             1,
             "#f0f921"
            ]
           ]
          },
          "colorway": [
           "#636efa",
           "#EF553B",
           "#00cc96",
           "#ab63fa",
           "#FFA15A",
           "#19d3f3",
           "#FF6692",
           "#B6E880",
           "#FF97FF",
           "#FECB52"
          ],
          "font": {
           "color": "#2a3f5f"
          },
          "geo": {
           "bgcolor": "white",
           "lakecolor": "white",
           "landcolor": "#E5ECF6",
           "showlakes": true,
           "showland": true,
           "subunitcolor": "white"
          },
          "hoverlabel": {
           "align": "left"
          },
          "hovermode": "closest",
          "mapbox": {
           "style": "light"
          },
          "paper_bgcolor": "white",
          "plot_bgcolor": "#E5ECF6",
          "polar": {
           "angularaxis": {
            "gridcolor": "white",
            "linecolor": "white",
            "ticks": ""
           },
           "bgcolor": "#E5ECF6",
           "radialaxis": {
            "gridcolor": "white",
            "linecolor": "white",
            "ticks": ""
           }
          },
          "scene": {
           "xaxis": {
            "backgroundcolor": "#E5ECF6",
            "gridcolor": "white",
            "gridwidth": 2,
            "linecolor": "white",
            "showbackground": true,
            "ticks": "",
            "zerolinecolor": "white"
           },
           "yaxis": {
            "backgroundcolor": "#E5ECF6",
            "gridcolor": "white",
            "gridwidth": 2,
            "linecolor": "white",
            "showbackground": true,
            "ticks": "",
            "zerolinecolor": "white"
           },
           "zaxis": {
            "backgroundcolor": "#E5ECF6",
            "gridcolor": "white",
            "gridwidth": 2,
            "linecolor": "white",
            "showbackground": true,
            "ticks": "",
            "zerolinecolor": "white"
           }
          },
          "shapedefaults": {
           "line": {
            "color": "#2a3f5f"
           }
          },
          "ternary": {
           "aaxis": {
            "gridcolor": "white",
            "linecolor": "white",
            "ticks": ""
           },
           "baxis": {
            "gridcolor": "white",
            "linecolor": "white",
            "ticks": ""
           },
           "bgcolor": "#E5ECF6",
           "caxis": {
            "gridcolor": "white",
            "linecolor": "white",
            "ticks": ""
           }
          },
          "title": {
           "x": 0.05
          },
          "xaxis": {
           "automargin": true,
           "gridcolor": "white",
           "linecolor": "white",
           "ticks": "",
           "title": {
            "standoff": 15
           },
           "zerolinecolor": "white",
           "zerolinewidth": 2
          },
          "yaxis": {
           "automargin": true,
           "gridcolor": "white",
           "linecolor": "white",
           "ticks": "",
           "title": {
            "standoff": 15
           },
           "zerolinecolor": "white",
           "zerolinewidth": 2
          }
         }
        },
        "xaxis": {
         "rangebreaks": [
          {
           "bounds": [
            "sat",
            "mon"
           ]
          },
          {
           "values": [
            "2023-01-02 12:00:00"
           ]
          }
         ]
        }
       }
      }
     },
     "metadata": {},
     "output_type": "display_data"
    }
   ],
   "source": [
    "fig = go.Figure(data=[go.Candlestick(\n",
    "                        x=df1d['Date'],\n",
    "                        open=df1d['Open'],\n",
    "                        high=df1d['High'],\n",
    "                        low=df1d['Low'],\n",
    "                        close=df1d['Close']\n",
    ")])\n",
    "\n",
    "fig.update_xaxes(\n",
    "    rangebreaks=[\n",
    "        dict(bounds=[\"sat\", \"mon\"]),\n",
    "        dict(values=missing_date) \n",
    "])\n",
    "\n",
    "fig.show()"
   ]
  },
  {
   "cell_type": "code",
   "execution_count": 121,
   "metadata": {},
   "outputs": [
    {
     "name": "stdout",
     "output_type": "stream",
     "text": [
      "2022-12-16 12:00:00\n",
      "2023-01-10 16:00:00\n"
     ]
    }
   ],
   "source": [
    "df1h = pd.read_csv(\"stock_data1H.csv\")\n",
    "df1h = df1h[(df1h.Symbol == 'KBANK')].tail(100)\n",
    "df1h['Datetime'] = pd.to_datetime(df1h['Datetime'])\n",
    "my_range = pd.date_range(start= min(df1h['Datetime']), end= max(df1h['Datetime']), freq='B')\n",
    "missing_datetime = my_range.difference(df1h['Datetime']).strftime(\"%Y-%m-%d H%:m%:s%\").tolist()\n",
    "print(min(df1h['Datetime']))\n",
    "print(max(df1h['Datetime']))"
   ]
  },
  {
   "cell_type": "code",
   "execution_count": 119,
   "metadata": {},
   "outputs": [
    {
     "data": {
      "text/plain": [
       "['2023-01-02 12:00:00']"
      ]
     },
     "execution_count": 119,
     "metadata": {},
     "output_type": "execute_result"
    }
   ],
   "source": [
    "missing_datetime"
   ]
  },
  {
   "cell_type": "code",
   "execution_count": 116,
   "metadata": {},
   "outputs": [
    {
     "data": {
      "application/vnd.plotly.v1+json": {
       "config": {
        "plotlyServerURL": "https://plot.ly"
       },
       "data": [
        {
         "close": [
          143,
          143,
          143,
          143,
          143.5,
          143.5,
          143.5,
          144,
          144,
          144,
          143.5,
          143,
          144,
          143.5,
          143.5,
          143,
          144,
          144.5,
          144.5,
          144,
          144.5,
          144.5,
          145.5,
          144.5,
          145,
          145,
          144.5,
          144.5,
          144,
          144.5,
          144,
          144,
          144,
          144,
          144,
          144.5,
          144.5,
          144.5,
          144,
          144,
          144.5,
          145,
          145,
          145.5,
          145.5,
          146,
          146,
          145.5,
          146,
          146.5,
          146.5,
          146,
          145.5,
          146,
          146.5,
          146,
          146,
          147,
          148,
          148,
          148,
          148.5,
          147.5,
          148,
          148,
          147.5,
          147.5,
          148.5,
          148.5,
          149.5,
          150.5,
          151,
          151,
          150.5,
          151.5,
          151.5,
          152.5,
          152.5,
          152.5,
          151.5,
          151.5,
          151,
          153,
          153.5,
          153.5,
          153,
          153.5,
          153.5,
          154,
          154,
          154.5,
          154.5,
          154.5,
          154.5,
          153.5,
          155,
          155,
          155,
          155,
          155.5
         ],
         "high": [
          143.5,
          143.5,
          143.5,
          143.5,
          144,
          144,
          144,
          144,
          144,
          144,
          144,
          144,
          144,
          144,
          144,
          143.5,
          144,
          144.5,
          144.5,
          144.5,
          144.5,
          144.5,
          145.5,
          145.5,
          145,
          145,
          145,
          145,
          144,
          144.5,
          144.5,
          144.5,
          144.5,
          144,
          144.5,
          144.5,
          144.5,
          144.5,
          144.5,
          144.5,
          145,
          145,
          145,
          146,
          146,
          146,
          146,
          146,
          146.5,
          146.5,
          146.5,
          146.5,
          146,
          146,
          146.5,
          146.5,
          146.5,
          147,
          148.5,
          148.5,
          148.5,
          148.5,
          148.5,
          148,
          148.5,
          148,
          148,
          149,
          149.5,
          149.5,
          150.5,
          151.5,
          151.5,
          151,
          151.5,
          151.5,
          154,
          153,
          152.5,
          153,
          151.5,
          151.5,
          153.5,
          153.5,
          153.5,
          153.5,
          153.5,
          154,
          155,
          154,
          154.5,
          154.5,
          154.5,
          154.5,
          155,
          155,
          155,
          155,
          155,
          155.5
         ],
         "low": [
          143,
          143,
          143,
          143,
          143.5,
          143.5,
          143.5,
          143.5,
          143.5,
          143.5,
          143.5,
          143,
          143,
          143.5,
          143,
          143,
          143,
          143.5,
          144,
          144,
          144,
          144,
          144.5,
          144.5,
          144.5,
          144.5,
          144.5,
          144,
          143,
          143.5,
          144,
          143.5,
          143.5,
          143.5,
          143.5,
          144,
          144,
          144,
          144,
          144,
          144,
          144.5,
          144.5,
          145,
          145,
          145.5,
          145,
          145.5,
          145.5,
          146,
          146,
          145.5,
          145,
          145.5,
          145.5,
          146,
          146,
          146,
          147,
          148,
          148,
          148,
          147.5,
          147,
          147.5,
          147,
          147.5,
          147.5,
          148.5,
          148.5,
          149,
          150,
          150.5,
          150.5,
          150.5,
          151,
          152,
          152,
          152,
          151,
          150.5,
          151,
          151.5,
          153,
          153,
          152.5,
          153,
          153,
          153.5,
          153,
          153.5,
          154,
          154,
          154,
          153.5,
          153.5,
          154.5,
          154.5,
          154.5,
          154.5
         ],
         "open": [
          143,
          143,
          143.5,
          143.5,
          143.5,
          143.5,
          143.5,
          143.5,
          144,
          144,
          143.5,
          143.5,
          143,
          144,
          144,
          143.5,
          143.5,
          144,
          144.5,
          144.5,
          144.5,
          144.5,
          144.5,
          145,
          145,
          145,
          145,
          144.5,
          144,
          144,
          144.5,
          144,
          144,
          144,
          144,
          144.5,
          144,
          144.5,
          144,
          144.5,
          144,
          144.5,
          145,
          145,
          145.5,
          145.5,
          145,
          146,
          145.5,
          146,
          146,
          146,
          146,
          146,
          145.5,
          146.5,
          146,
          146.5,
          147.5,
          148,
          148.5,
          148.5,
          148.5,
          148,
          148.5,
          148,
          147.5,
          148,
          148.5,
          148.5,
          149.5,
          150.5,
          151,
          151,
          150.5,
          151.5,
          153,
          152.5,
          152,
          152.5,
          151.5,
          151.5,
          151.5,
          153,
          153,
          153,
          153,
          153,
          154.5,
          154,
          154,
          154.5,
          154.5,
          154.5,
          154.5,
          153.5,
          155,
          155,
          155,
          155
         ],
         "type": "candlestick",
         "x": [
          "2022-12-16T12:00:00",
          "2022-12-16T14:00:00",
          "2022-12-16T15:00:00",
          "2022-12-16T16:00:00",
          "2022-12-19T10:00:00",
          "2022-12-19T11:00:00",
          "2022-12-19T12:00:00",
          "2022-12-19T14:00:00",
          "2022-12-19T15:00:00",
          "2022-12-19T16:00:00",
          "2022-12-20T10:00:00",
          "2022-12-20T11:00:00",
          "2022-12-20T12:00:00",
          "2022-12-20T14:00:00",
          "2022-12-20T15:00:00",
          "2022-12-20T16:00:00",
          "2022-12-21T10:00:00",
          "2022-12-21T11:00:00",
          "2022-12-21T12:00:00",
          "2022-12-21T14:00:00",
          "2022-12-21T15:00:00",
          "2022-12-21T16:00:00",
          "2022-12-22T10:00:00",
          "2022-12-22T11:00:00",
          "2022-12-22T12:00:00",
          "2022-12-22T14:00:00",
          "2022-12-22T15:00:00",
          "2022-12-22T16:00:00",
          "2022-12-23T10:00:00",
          "2022-12-23T11:00:00",
          "2022-12-23T12:00:00",
          "2022-12-23T14:00:00",
          "2022-12-23T15:00:00",
          "2022-12-23T16:00:00",
          "2022-12-26T10:00:00",
          "2022-12-26T11:00:00",
          "2022-12-26T12:00:00",
          "2022-12-26T14:00:00",
          "2022-12-26T15:00:00",
          "2022-12-26T16:00:00",
          "2022-12-27T10:00:00",
          "2022-12-27T11:00:00",
          "2022-12-27T12:00:00",
          "2022-12-27T14:00:00",
          "2022-12-27T15:00:00",
          "2022-12-27T16:00:00",
          "2022-12-28T10:00:00",
          "2022-12-28T11:00:00",
          "2022-12-28T12:00:00",
          "2022-12-28T14:00:00",
          "2022-12-28T15:00:00",
          "2022-12-28T16:00:00",
          "2022-12-29T10:00:00",
          "2022-12-29T11:00:00",
          "2022-12-29T12:00:00",
          "2022-12-29T14:00:00",
          "2022-12-29T15:00:00",
          "2022-12-29T16:00:00",
          "2022-12-30T10:00:00",
          "2022-12-30T11:00:00",
          "2022-12-30T12:00:00",
          "2022-12-30T14:00:00",
          "2022-12-30T15:00:00",
          "2022-12-30T16:00:00",
          "2023-01-03T10:00:00",
          "2023-01-03T11:00:00",
          "2023-01-03T12:00:00",
          "2023-01-03T14:00:00",
          "2023-01-03T15:00:00",
          "2023-01-03T16:00:00",
          "2023-01-04T10:00:00",
          "2023-01-04T11:00:00",
          "2023-01-04T12:00:00",
          "2023-01-04T14:00:00",
          "2023-01-04T15:00:00",
          "2023-01-04T16:00:00",
          "2023-01-05T10:00:00",
          "2023-01-05T11:00:00",
          "2023-01-05T12:00:00",
          "2023-01-05T14:00:00",
          "2023-01-05T15:00:00",
          "2023-01-05T16:00:00",
          "2023-01-06T10:00:00",
          "2023-01-06T11:00:00",
          "2023-01-06T12:00:00",
          "2023-01-06T14:00:00",
          "2023-01-06T15:00:00",
          "2023-01-06T16:00:00",
          "2023-01-09T10:00:00",
          "2023-01-09T11:00:00",
          "2023-01-09T12:00:00",
          "2023-01-09T14:00:00",
          "2023-01-09T15:00:00",
          "2023-01-09T16:00:00",
          "2023-01-10T10:00:00",
          "2023-01-10T11:00:00",
          "2023-01-10T12:00:00",
          "2023-01-10T14:00:00",
          "2023-01-10T15:00:00",
          "2023-01-10T16:00:00"
         ]
        }
       ],
       "layout": {
        "template": {
         "data": {
          "bar": [
           {
            "error_x": {
             "color": "#2a3f5f"
            },
            "error_y": {
             "color": "#2a3f5f"
            },
            "marker": {
             "line": {
              "color": "#E5ECF6",
              "width": 0.5
             },
             "pattern": {
              "fillmode": "overlay",
              "size": 10,
              "solidity": 0.2
             }
            },
            "type": "bar"
           }
          ],
          "barpolar": [
           {
            "marker": {
             "line": {
              "color": "#E5ECF6",
              "width": 0.5
             },
             "pattern": {
              "fillmode": "overlay",
              "size": 10,
              "solidity": 0.2
             }
            },
            "type": "barpolar"
           }
          ],
          "carpet": [
           {
            "aaxis": {
             "endlinecolor": "#2a3f5f",
             "gridcolor": "white",
             "linecolor": "white",
             "minorgridcolor": "white",
             "startlinecolor": "#2a3f5f"
            },
            "baxis": {
             "endlinecolor": "#2a3f5f",
             "gridcolor": "white",
             "linecolor": "white",
             "minorgridcolor": "white",
             "startlinecolor": "#2a3f5f"
            },
            "type": "carpet"
           }
          ],
          "choropleth": [
           {
            "colorbar": {
             "outlinewidth": 0,
             "ticks": ""
            },
            "type": "choropleth"
           }
          ],
          "contour": [
           {
            "colorbar": {
             "outlinewidth": 0,
             "ticks": ""
            },
            "colorscale": [
             [
              0,
              "#0d0887"
             ],
             [
              0.1111111111111111,
              "#46039f"
             ],
             [
              0.2222222222222222,
              "#7201a8"
             ],
             [
              0.3333333333333333,
              "#9c179e"
             ],
             [
              0.4444444444444444,
              "#bd3786"
             ],
             [
              0.5555555555555556,
              "#d8576b"
             ],
             [
              0.6666666666666666,
              "#ed7953"
             ],
             [
              0.7777777777777778,
              "#fb9f3a"
             ],
             [
              0.8888888888888888,
              "#fdca26"
             ],
             [
              1,
              "#f0f921"
             ]
            ],
            "type": "contour"
           }
          ],
          "contourcarpet": [
           {
            "colorbar": {
             "outlinewidth": 0,
             "ticks": ""
            },
            "type": "contourcarpet"
           }
          ],
          "heatmap": [
           {
            "colorbar": {
             "outlinewidth": 0,
             "ticks": ""
            },
            "colorscale": [
             [
              0,
              "#0d0887"
             ],
             [
              0.1111111111111111,
              "#46039f"
             ],
             [
              0.2222222222222222,
              "#7201a8"
             ],
             [
              0.3333333333333333,
              "#9c179e"
             ],
             [
              0.4444444444444444,
              "#bd3786"
             ],
             [
              0.5555555555555556,
              "#d8576b"
             ],
             [
              0.6666666666666666,
              "#ed7953"
             ],
             [
              0.7777777777777778,
              "#fb9f3a"
             ],
             [
              0.8888888888888888,
              "#fdca26"
             ],
             [
              1,
              "#f0f921"
             ]
            ],
            "type": "heatmap"
           }
          ],
          "heatmapgl": [
           {
            "colorbar": {
             "outlinewidth": 0,
             "ticks": ""
            },
            "colorscale": [
             [
              0,
              "#0d0887"
             ],
             [
              0.1111111111111111,
              "#46039f"
             ],
             [
              0.2222222222222222,
              "#7201a8"
             ],
             [
              0.3333333333333333,
              "#9c179e"
             ],
             [
              0.4444444444444444,
              "#bd3786"
             ],
             [
              0.5555555555555556,
              "#d8576b"
             ],
             [
              0.6666666666666666,
              "#ed7953"
             ],
             [
              0.7777777777777778,
              "#fb9f3a"
             ],
             [
              0.8888888888888888,
              "#fdca26"
             ],
             [
              1,
              "#f0f921"
             ]
            ],
            "type": "heatmapgl"
           }
          ],
          "histogram": [
           {
            "marker": {
             "pattern": {
              "fillmode": "overlay",
              "size": 10,
              "solidity": 0.2
             }
            },
            "type": "histogram"
           }
          ],
          "histogram2d": [
           {
            "colorbar": {
             "outlinewidth": 0,
             "ticks": ""
            },
            "colorscale": [
             [
              0,
              "#0d0887"
             ],
             [
              0.1111111111111111,
              "#46039f"
             ],
             [
              0.2222222222222222,
              "#7201a8"
             ],
             [
              0.3333333333333333,
              "#9c179e"
             ],
             [
              0.4444444444444444,
              "#bd3786"
             ],
             [
              0.5555555555555556,
              "#d8576b"
             ],
             [
              0.6666666666666666,
              "#ed7953"
             ],
             [
              0.7777777777777778,
              "#fb9f3a"
             ],
             [
              0.8888888888888888,
              "#fdca26"
             ],
             [
              1,
              "#f0f921"
             ]
            ],
            "type": "histogram2d"
           }
          ],
          "histogram2dcontour": [
           {
            "colorbar": {
             "outlinewidth": 0,
             "ticks": ""
            },
            "colorscale": [
             [
              0,
              "#0d0887"
             ],
             [
              0.1111111111111111,
              "#46039f"
             ],
             [
              0.2222222222222222,
              "#7201a8"
             ],
             [
              0.3333333333333333,
              "#9c179e"
             ],
             [
              0.4444444444444444,
              "#bd3786"
             ],
             [
              0.5555555555555556,
              "#d8576b"
             ],
             [
              0.6666666666666666,
              "#ed7953"
             ],
             [
              0.7777777777777778,
              "#fb9f3a"
             ],
             [
              0.8888888888888888,
              "#fdca26"
             ],
             [
              1,
              "#f0f921"
             ]
            ],
            "type": "histogram2dcontour"
           }
          ],
          "mesh3d": [
           {
            "colorbar": {
             "outlinewidth": 0,
             "ticks": ""
            },
            "type": "mesh3d"
           }
          ],
          "parcoords": [
           {
            "line": {
             "colorbar": {
              "outlinewidth": 0,
              "ticks": ""
             }
            },
            "type": "parcoords"
           }
          ],
          "pie": [
           {
            "automargin": true,
            "type": "pie"
           }
          ],
          "scatter": [
           {
            "fillpattern": {
             "fillmode": "overlay",
             "size": 10,
             "solidity": 0.2
            },
            "type": "scatter"
           }
          ],
          "scatter3d": [
           {
            "line": {
             "colorbar": {
              "outlinewidth": 0,
              "ticks": ""
             }
            },
            "marker": {
             "colorbar": {
              "outlinewidth": 0,
              "ticks": ""
             }
            },
            "type": "scatter3d"
           }
          ],
          "scattercarpet": [
           {
            "marker": {
             "colorbar": {
              "outlinewidth": 0,
              "ticks": ""
             }
            },
            "type": "scattercarpet"
           }
          ],
          "scattergeo": [
           {
            "marker": {
             "colorbar": {
              "outlinewidth": 0,
              "ticks": ""
             }
            },
            "type": "scattergeo"
           }
          ],
          "scattergl": [
           {
            "marker": {
             "colorbar": {
              "outlinewidth": 0,
              "ticks": ""
             }
            },
            "type": "scattergl"
           }
          ],
          "scattermapbox": [
           {
            "marker": {
             "colorbar": {
              "outlinewidth": 0,
              "ticks": ""
             }
            },
            "type": "scattermapbox"
           }
          ],
          "scatterpolar": [
           {
            "marker": {
             "colorbar": {
              "outlinewidth": 0,
              "ticks": ""
             }
            },
            "type": "scatterpolar"
           }
          ],
          "scatterpolargl": [
           {
            "marker": {
             "colorbar": {
              "outlinewidth": 0,
              "ticks": ""
             }
            },
            "type": "scatterpolargl"
           }
          ],
          "scatterternary": [
           {
            "marker": {
             "colorbar": {
              "outlinewidth": 0,
              "ticks": ""
             }
            },
            "type": "scatterternary"
           }
          ],
          "surface": [
           {
            "colorbar": {
             "outlinewidth": 0,
             "ticks": ""
            },
            "colorscale": [
             [
              0,
              "#0d0887"
             ],
             [
              0.1111111111111111,
              "#46039f"
             ],
             [
              0.2222222222222222,
              "#7201a8"
             ],
             [
              0.3333333333333333,
              "#9c179e"
             ],
             [
              0.4444444444444444,
              "#bd3786"
             ],
             [
              0.5555555555555556,
              "#d8576b"
             ],
             [
              0.6666666666666666,
              "#ed7953"
             ],
             [
              0.7777777777777778,
              "#fb9f3a"
             ],
             [
              0.8888888888888888,
              "#fdca26"
             ],
             [
              1,
              "#f0f921"
             ]
            ],
            "type": "surface"
           }
          ],
          "table": [
           {
            "cells": {
             "fill": {
              "color": "#EBF0F8"
             },
             "line": {
              "color": "white"
             }
            },
            "header": {
             "fill": {
              "color": "#C8D4E3"
             },
             "line": {
              "color": "white"
             }
            },
            "type": "table"
           }
          ]
         },
         "layout": {
          "annotationdefaults": {
           "arrowcolor": "#2a3f5f",
           "arrowhead": 0,
           "arrowwidth": 1
          },
          "autotypenumbers": "strict",
          "coloraxis": {
           "colorbar": {
            "outlinewidth": 0,
            "ticks": ""
           }
          },
          "colorscale": {
           "diverging": [
            [
             0,
             "#8e0152"
            ],
            [
             0.1,
             "#c51b7d"
            ],
            [
             0.2,
             "#de77ae"
            ],
            [
             0.3,
             "#f1b6da"
            ],
            [
             0.4,
             "#fde0ef"
            ],
            [
             0.5,
             "#f7f7f7"
            ],
            [
             0.6,
             "#e6f5d0"
            ],
            [
             0.7,
             "#b8e186"
            ],
            [
             0.8,
             "#7fbc41"
            ],
            [
             0.9,
             "#4d9221"
            ],
            [
             1,
             "#276419"
            ]
           ],
           "sequential": [
            [
             0,
             "#0d0887"
            ],
            [
             0.1111111111111111,
             "#46039f"
            ],
            [
             0.2222222222222222,
             "#7201a8"
            ],
            [
             0.3333333333333333,
             "#9c179e"
            ],
            [
             0.4444444444444444,
             "#bd3786"
            ],
            [
             0.5555555555555556,
             "#d8576b"
            ],
            [
             0.6666666666666666,
             "#ed7953"
            ],
            [
             0.7777777777777778,
             "#fb9f3a"
            ],
            [
             0.8888888888888888,
             "#fdca26"
            ],
            [
             1,
             "#f0f921"
            ]
           ],
           "sequentialminus": [
            [
             0,
             "#0d0887"
            ],
            [
             0.1111111111111111,
             "#46039f"
            ],
            [
             0.2222222222222222,
             "#7201a8"
            ],
            [
             0.3333333333333333,
             "#9c179e"
            ],
            [
             0.4444444444444444,
             "#bd3786"
            ],
            [
             0.5555555555555556,
             "#d8576b"
            ],
            [
             0.6666666666666666,
             "#ed7953"
            ],
            [
             0.7777777777777778,
             "#fb9f3a"
            ],
            [
             0.8888888888888888,
             "#fdca26"
            ],
            [
             1,
             "#f0f921"
            ]
           ]
          },
          "colorway": [
           "#636efa",
           "#EF553B",
           "#00cc96",
           "#ab63fa",
           "#FFA15A",
           "#19d3f3",
           "#FF6692",
           "#B6E880",
           "#FF97FF",
           "#FECB52"
          ],
          "font": {
           "color": "#2a3f5f"
          },
          "geo": {
           "bgcolor": "white",
           "lakecolor": "white",
           "landcolor": "#E5ECF6",
           "showlakes": true,
           "showland": true,
           "subunitcolor": "white"
          },
          "hoverlabel": {
           "align": "left"
          },
          "hovermode": "closest",
          "mapbox": {
           "style": "light"
          },
          "paper_bgcolor": "white",
          "plot_bgcolor": "#E5ECF6",
          "polar": {
           "angularaxis": {
            "gridcolor": "white",
            "linecolor": "white",
            "ticks": ""
           },
           "bgcolor": "#E5ECF6",
           "radialaxis": {
            "gridcolor": "white",
            "linecolor": "white",
            "ticks": ""
           }
          },
          "scene": {
           "xaxis": {
            "backgroundcolor": "#E5ECF6",
            "gridcolor": "white",
            "gridwidth": 2,
            "linecolor": "white",
            "showbackground": true,
            "ticks": "",
            "zerolinecolor": "white"
           },
           "yaxis": {
            "backgroundcolor": "#E5ECF6",
            "gridcolor": "white",
            "gridwidth": 2,
            "linecolor": "white",
            "showbackground": true,
            "ticks": "",
            "zerolinecolor": "white"
           },
           "zaxis": {
            "backgroundcolor": "#E5ECF6",
            "gridcolor": "white",
            "gridwidth": 2,
            "linecolor": "white",
            "showbackground": true,
            "ticks": "",
            "zerolinecolor": "white"
           }
          },
          "shapedefaults": {
           "line": {
            "color": "#2a3f5f"
           }
          },
          "ternary": {
           "aaxis": {
            "gridcolor": "white",
            "linecolor": "white",
            "ticks": ""
           },
           "baxis": {
            "gridcolor": "white",
            "linecolor": "white",
            "ticks": ""
           },
           "bgcolor": "#E5ECF6",
           "caxis": {
            "gridcolor": "white",
            "linecolor": "white",
            "ticks": ""
           }
          },
          "title": {
           "x": 0.05
          },
          "xaxis": {
           "automargin": true,
           "gridcolor": "white",
           "linecolor": "white",
           "ticks": "",
           "title": {
            "standoff": 15
           },
           "zerolinecolor": "white",
           "zerolinewidth": 2
          },
          "yaxis": {
           "automargin": true,
           "gridcolor": "white",
           "linecolor": "white",
           "ticks": "",
           "title": {
            "standoff": 15
           },
           "zerolinecolor": "white",
           "zerolinewidth": 2
          }
         }
        },
        "xaxis": {
         "rangebreaks": [
          {
           "bounds": [
            17,
            10
           ],
           "pattern": "hour"
          },
          {
           "values": [
            "2023-01-02 12:00:00"
           ]
          },
          {
           "values": [
            "2023-01-02 12:00:00"
           ]
          }
         ]
        }
       }
      }
     },
     "metadata": {},
     "output_type": "display_data"
    }
   ],
   "source": [
    "fig = go.Figure(data=[go.Candlestick(\n",
    "                        x=df1h['Datetime'],\n",
    "                        open=df1h['Open'],\n",
    "                        high=df1h['High'],\n",
    "                        low=df1h['Low'],\n",
    "                        close=df1h['Close']\n",
    ")])\n",
    "\n",
    "fig.update_xaxes(\n",
    "    rangebreaks=[\n",
    "        dict(bounds=[17, 10], pattern=\"hour\"),\n",
    "        dict(values=missing_datetime),\n",
    "        dict(values=missing_date)\n",
    "    ])\n",
    "\n",
    "fig.show()"
   ]
  }
 ],
 "metadata": {
  "kernelspec": {
   "display_name": "Python 3",
   "language": "python",
   "name": "python3"
  },
  "language_info": {
   "codemirror_mode": {
    "name": "ipython",
    "version": 3
   },
   "file_extension": ".py",
   "mimetype": "text/x-python",
   "name": "python",
   "nbconvert_exporter": "python",
   "pygments_lexer": "ipython3",
   "version": "3.10.6"
  },
  "orig_nbformat": 4,
  "vscode": {
   "interpreter": {
    "hash": "a42ccb73e7d9bfdf27e036f1d2b8b681e55fc0743cc5586bc2474d4a60f4b886"
   }
  }
 },
 "nbformat": 4,
 "nbformat_minor": 2
}
