{
 "cells": [
  {
   "cell_type": "code",
   "execution_count": 1,
   "metadata": {},
   "outputs": [],
   "source": [
    "import pandas as pd\n",
    "import matplotlib.pyplot as plt\n",
    "import yfinance as yf\n",
    "import mplfinance as mpf"
   ]
  },
  {
   "cell_type": "code",
   "execution_count": 2,
   "metadata": {},
   "outputs": [],
   "source": [
    "tickers = ['ACE.BK', 'ADVANC.BK', 'AEONTS.BK', 'AMATA.BK', 'AOT.BK', 'AP.BK', 'AWC.BK', 'BAM.BK',\n",
    "       'BANPU.BK', 'BBL.BK', 'BCH.BK', 'BCP.BK', 'BCPG.BK', 'BDMS.BK', 'BEC.BK', 'BEM.BK',\n",
    "       'BGRIM.BK', 'BH.BK', 'BLA.BK', 'BTS.BK', 'CBG.BK', 'CENTEL.BK', 'CHG.BK', 'CK.BK', 'CKP.BK',\n",
    "       'COM7.BK', 'CPALL.BK', 'CPF.BK', 'CPN.BK', 'CRC.BK', 'DOHOME.BK', 'DTAC.BK', 'EA.BK',\n",
    "       'EGCO.BK', 'EPG.BK', 'ESSO.BK', 'FORTH.BK', 'GLOBAL.BK', 'GPSC.BK', 'GULF.BK', 'GUNKUL.BK',\n",
    "       'HANA.BK', 'HMPRO.BK', 'INTUCH.BK', 'IRPC.BK', 'IVL.BK', 'JMART.BK', 'JMT.BK', 'KBANK.BK',\n",
    "       'KCE.BK', 'KEX.BK', 'KKP.BK', 'KTB.BK', 'KTC.BK', 'LH.BK', 'MAJOR.BK', 'MEGA.BK', 'MINT.BK',\n",
    "       'MTC.BK', 'ONEE.BK', 'OR.BK', 'ORI.BK', 'OSP.BK', 'PLANB.BK', 'PSL.BK', 'PTG.BK', 'PTT.BK',\n",
    "       'PTTEP.BK', 'PTTGC.BK', 'QH.BK', 'RATCH.BK', 'RBF.BK', 'RCL.BK', 'SAWAD.BK', 'SCB.BK',\n",
    "       'SCC.BK', 'SCGP.BK', 'SINGER.BK', 'SPALI.BK', 'SPRC.BK', 'STA.BK', 'STARK.BK', 'STEC.BK',\n",
    "       'STGT.BK', 'SUPER.BK', 'SYNEX.BK', 'TASCO.BK', 'TCAP.BK', 'THANI.BK', 'TIDLOR.BK',\n",
    "       'TIPH.BK', 'TISCO.BK', 'TOP.BK', 'TQM.BK', 'TRUE.BK', 'TTA.BK', 'TTB.BK', 'TU.BK', 'VGI.BK',\n",
    "       'WHA.BK']\n",
    "\n",
    "ticker_test = ['ACE.BK']"
   ]
  },
  {
   "cell_type": "code",
   "execution_count": 3,
   "metadata": {},
   "outputs": [],
   "source": [
    "def getData(tickers) :\n",
    "    data = []\n",
    "    for ticker in tickers:\n",
    "        detail = yf.download(ticker, interval='1d')\n",
    "        detail['Symbol'] = ticker[:-3]\n",
    "        table_price = detail.reset_index()\n",
    "        data.append(table_price)\n",
    "    return data\n",
    "\n",
    "# data = getData(tickers)"
   ]
  },
  {
   "cell_type": "code",
   "execution_count": 4,
   "metadata": {},
   "outputs": [],
   "source": [
    "# data[0]"
   ]
  },
  {
   "cell_type": "code",
   "execution_count": 5,
   "metadata": {},
   "outputs": [],
   "source": [
    "def putDataToCsv(datas):\n",
    "    with open('stock_data.csv', 'w') as creating_new_csv_file: \n",
    "        pass \n",
    "    count = 0\n",
    "    for data in datas:\n",
    "        if count > 0:\n",
    "            data.to_csv(\"stock_data.csv\", mode='a', header=False,index=False)\n",
    "            count+=1\n",
    "        else:\n",
    "            data.to_csv(\"stock_data.csv\", mode='a',index=False)\n",
    "            count+=1\n",
    "        \n",
    "# putDataToCsv(data)"
   ]
  },
  {
   "cell_type": "code",
   "execution_count": 6,
   "metadata": {},
   "outputs": [],
   "source": [
    "df = pd.read_csv(\"stock_data.csv\")\n",
    "newdf = df[(df.Symbol == 'KBANK')]"
   ]
  },
  {
   "cell_type": "code",
   "execution_count": 7,
   "metadata": {},
   "outputs": [
    {
     "name": "stdout",
     "output_type": "stream",
     "text": [
      "<class 'pandas.core.frame.DataFrame'>\n",
      "Int64Index: 5714 entries, 186717 to 192430\n",
      "Data columns (total 8 columns):\n",
      " #   Column     Non-Null Count  Dtype         \n",
      "---  ------     --------------  -----         \n",
      " 0   Date       5714 non-null   datetime64[ns]\n",
      " 1   Open       5714 non-null   float64       \n",
      " 2   High       5714 non-null   float64       \n",
      " 3   Low        5714 non-null   float64       \n",
      " 4   Close      5714 non-null   float64       \n",
      " 5   Adj Close  5714 non-null   float64       \n",
      " 6   Volume     5714 non-null   int64         \n",
      " 7   Symbol     5714 non-null   object        \n",
      "dtypes: datetime64[ns](1), float64(5), int64(1), object(1)\n",
      "memory usage: 401.8+ KB\n"
     ]
    },
    {
     "name": "stderr",
     "output_type": "stream",
     "text": [
      "C:\\Users\\Admin\\AppData\\Local\\Temp\\ipykernel_11284\\613473781.py:1: SettingWithCopyWarning: \n",
      "A value is trying to be set on a copy of a slice from a DataFrame.\n",
      "Try using .loc[row_indexer,col_indexer] = value instead\n",
      "\n",
      "See the caveats in the documentation: https://pandas.pydata.org/pandas-docs/stable/user_guide/indexing.html#returning-a-view-versus-a-copy\n",
      "  newdf.Date = pd.to_datetime(newdf.Date)\n"
     ]
    }
   ],
   "source": [
    "newdf.Date = pd.to_datetime(newdf.Date)\n",
    "newdf.info()"
   ]
  },
  {
   "cell_type": "code",
   "execution_count": 8,
   "metadata": {},
   "outputs": [
    {
     "data": {
      "text/html": [
       "<div>\n",
       "<style scoped>\n",
       "    .dataframe tbody tr th:only-of-type {\n",
       "        vertical-align: middle;\n",
       "    }\n",
       "\n",
       "    .dataframe tbody tr th {\n",
       "        vertical-align: top;\n",
       "    }\n",
       "\n",
       "    .dataframe thead th {\n",
       "        text-align: right;\n",
       "    }\n",
       "</style>\n",
       "<table border=\"1\" class=\"dataframe\">\n",
       "  <thead>\n",
       "    <tr style=\"text-align: right;\">\n",
       "      <th></th>\n",
       "      <th>Open</th>\n",
       "      <th>High</th>\n",
       "      <th>Low</th>\n",
       "      <th>Close</th>\n",
       "      <th>Adj Close</th>\n",
       "      <th>Volume</th>\n",
       "      <th>Symbol</th>\n",
       "    </tr>\n",
       "    <tr>\n",
       "      <th>Date</th>\n",
       "      <th></th>\n",
       "      <th></th>\n",
       "      <th></th>\n",
       "      <th></th>\n",
       "      <th></th>\n",
       "      <th></th>\n",
       "      <th></th>\n",
       "    </tr>\n",
       "  </thead>\n",
       "  <tbody>\n",
       "    <tr>\n",
       "      <th>2000-01-04</th>\n",
       "      <td>44.25</td>\n",
       "      <td>44.75</td>\n",
       "      <td>44.0</td>\n",
       "      <td>44.50</td>\n",
       "      <td>29.177219</td>\n",
       "      <td>10659200</td>\n",
       "      <td>KBANK</td>\n",
       "    </tr>\n",
       "    <tr>\n",
       "      <th>2000-01-05</th>\n",
       "      <td>42.25</td>\n",
       "      <td>43.00</td>\n",
       "      <td>41.5</td>\n",
       "      <td>41.75</td>\n",
       "      <td>27.374128</td>\n",
       "      <td>16305600</td>\n",
       "      <td>KBANK</td>\n",
       "    </tr>\n",
       "    <tr>\n",
       "      <th>2000-01-06</th>\n",
       "      <td>42.00</td>\n",
       "      <td>42.00</td>\n",
       "      <td>40.5</td>\n",
       "      <td>40.75</td>\n",
       "      <td>26.718462</td>\n",
       "      <td>8241300</td>\n",
       "      <td>KBANK</td>\n",
       "    </tr>\n",
       "    <tr>\n",
       "      <th>2000-01-07</th>\n",
       "      <td>41.25</td>\n",
       "      <td>43.00</td>\n",
       "      <td>41.0</td>\n",
       "      <td>42.75</td>\n",
       "      <td>28.029795</td>\n",
       "      <td>6058600</td>\n",
       "      <td>KBANK</td>\n",
       "    </tr>\n",
       "    <tr>\n",
       "      <th>2000-01-10</th>\n",
       "      <td>43.75</td>\n",
       "      <td>44.25</td>\n",
       "      <td>42.5</td>\n",
       "      <td>42.75</td>\n",
       "      <td>28.029795</td>\n",
       "      <td>7774300</td>\n",
       "      <td>KBANK</td>\n",
       "    </tr>\n",
       "    <tr>\n",
       "      <th>...</th>\n",
       "      <td>...</td>\n",
       "      <td>...</td>\n",
       "      <td>...</td>\n",
       "      <td>...</td>\n",
       "      <td>...</td>\n",
       "      <td>...</td>\n",
       "      <td>...</td>\n",
       "    </tr>\n",
       "    <tr>\n",
       "      <th>2022-12-27</th>\n",
       "      <td>144.50</td>\n",
       "      <td>146.00</td>\n",
       "      <td>144.0</td>\n",
       "      <td>145.50</td>\n",
       "      <td>145.500000</td>\n",
       "      <td>10670900</td>\n",
       "      <td>KBANK</td>\n",
       "    </tr>\n",
       "    <tr>\n",
       "      <th>2022-12-28</th>\n",
       "      <td>145.50</td>\n",
       "      <td>146.50</td>\n",
       "      <td>145.0</td>\n",
       "      <td>146.00</td>\n",
       "      <td>146.000000</td>\n",
       "      <td>7965800</td>\n",
       "      <td>KBANK</td>\n",
       "    </tr>\n",
       "    <tr>\n",
       "      <th>2022-12-29</th>\n",
       "      <td>146.00</td>\n",
       "      <td>147.00</td>\n",
       "      <td>145.0</td>\n",
       "      <td>147.00</td>\n",
       "      <td>147.000000</td>\n",
       "      <td>7432000</td>\n",
       "      <td>KBANK</td>\n",
       "    </tr>\n",
       "    <tr>\n",
       "      <th>2022-12-30</th>\n",
       "      <td>147.50</td>\n",
       "      <td>148.50</td>\n",
       "      <td>147.0</td>\n",
       "      <td>147.50</td>\n",
       "      <td>147.500000</td>\n",
       "      <td>11883900</td>\n",
       "      <td>KBANK</td>\n",
       "    </tr>\n",
       "    <tr>\n",
       "      <th>2023-01-03</th>\n",
       "      <td>148.00</td>\n",
       "      <td>149.50</td>\n",
       "      <td>147.0</td>\n",
       "      <td>149.00</td>\n",
       "      <td>149.000000</td>\n",
       "      <td>12843555</td>\n",
       "      <td>KBANK</td>\n",
       "    </tr>\n",
       "  </tbody>\n",
       "</table>\n",
       "<p>5714 rows × 7 columns</p>\n",
       "</div>"
      ],
      "text/plain": [
       "              Open    High    Low   Close   Adj Close    Volume Symbol\n",
       "Date                                                                  \n",
       "2000-01-04   44.25   44.75   44.0   44.50   29.177219  10659200  KBANK\n",
       "2000-01-05   42.25   43.00   41.5   41.75   27.374128  16305600  KBANK\n",
       "2000-01-06   42.00   42.00   40.5   40.75   26.718462   8241300  KBANK\n",
       "2000-01-07   41.25   43.00   41.0   42.75   28.029795   6058600  KBANK\n",
       "2000-01-10   43.75   44.25   42.5   42.75   28.029795   7774300  KBANK\n",
       "...            ...     ...    ...     ...         ...       ...    ...\n",
       "2022-12-27  144.50  146.00  144.0  145.50  145.500000  10670900  KBANK\n",
       "2022-12-28  145.50  146.50  145.0  146.00  146.000000   7965800  KBANK\n",
       "2022-12-29  146.00  147.00  145.0  147.00  147.000000   7432000  KBANK\n",
       "2022-12-30  147.50  148.50  147.0  147.50  147.500000  11883900  KBANK\n",
       "2023-01-03  148.00  149.50  147.0  149.00  149.000000  12843555  KBANK\n",
       "\n",
       "[5714 rows x 7 columns]"
      ]
     },
     "execution_count": 8,
     "metadata": {},
     "output_type": "execute_result"
    }
   ],
   "source": [
    "newdf = newdf.set_index('Date')\n",
    "newdf"
   ]
  },
  {
   "cell_type": "code",
   "execution_count": 9,
   "metadata": {},
   "outputs": [
    {
     "data": {
      "image/png": "[encoded data removed]",
      "text/plain": [
       "<Figure size 1104x414 with 4 Axes>"
      ]
     },
     "metadata": {
      "needs_background": "light"
     },
     "output_type": "display_data"
    }
   ],
   "source": [
    "mpf.plot(\n",
    "    newdf['2022-10':'2022-12'],\n",
    "    type='candle',\n",
    "    style='yahoo',\n",
    "    volume=True,\n",
    "    title='KBANK Stock Price 2022-10 to 2022-12',\n",
    "    figratio=(40,15)\n",
    " )"
   ]
  }
 ],
 "metadata": {
  "kernelspec": {
   "display_name": "Python 3",
   "language": "python",
   "name": "python3"
  },
  "language_info": {
   "codemirror_mode": {
    "name": "ipython",
    "version": 3
   },
   "file_extension": ".py",
   "mimetype": "text/x-python",
   "name": "python",
   "nbconvert_exporter": "python",
   "pygments_lexer": "ipython3",
   "version": "3.10.6"
  },
  "orig_nbformat": 4,
  "vscode": {
   "interpreter": {
    "hash": "a42ccb73e7d9bfdf27e036f1d2b8b681e55fc0743cc5586bc2474d4a60f4b886"
   }
  }
 },
 "nbformat": 4,
 "nbformat_minor": 2
}
