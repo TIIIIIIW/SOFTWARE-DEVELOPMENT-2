{
 "cells": [
  {
   "cell_type": "code",
   "execution_count": 32,
   "metadata": {},
   "outputs": [],
   "source": [
    "import pandas as pd\n",
    "import matplotlib.pyplot as plt\n",
    "import yfinance as yf\n",
    "import mplfinance as mpf\n",
    "from datetime import datetime"
   ]
  },
  {
   "cell_type": "code",
   "execution_count": 33,
   "metadata": {},
   "outputs": [],
   "source": [
    "tickers = ['ACE.BK', 'ADVANC.BK', 'AEONTS.BK', 'AMATA.BK', 'AOT.BK', 'AP.BK', 'AWC.BK', 'BAM.BK',\n",
    "       'BANPU.BK', 'BBL.BK', 'BCH.BK', 'BCP.BK', 'BCPG.BK', 'BDMS.BK', 'BEC.BK', 'BEM.BK',\n",
    "       'BGRIM.BK', 'BH.BK', 'BLA.BK', 'BTS.BK', 'CBG.BK', 'CENTEL.BK', 'CHG.BK', 'CK.BK', 'CKP.BK',\n",
    "       'COM7.BK', 'CPALL.BK', 'CPF.BK', 'CPN.BK', 'CRC.BK', 'DOHOME.BK', 'DTAC.BK', 'EA.BK',\n",
    "       'EGCO.BK', 'EPG.BK', 'ESSO.BK', 'FORTH.BK', 'GLOBAL.BK', 'GPSC.BK', 'GULF.BK', 'GUNKUL.BK',\n",
    "       'HANA.BK', 'HMPRO.BK', 'INTUCH.BK', 'IRPC.BK', 'IVL.BK', 'JMART.BK', 'JMT.BK', 'KBANK.BK',\n",
    "       'KCE.BK', 'KEX.BK', 'KKP.BK', 'KTB.BK', 'KTC.BK', 'LH.BK', 'MAJOR.BK', 'MEGA.BK', 'MINT.BK',\n",
    "       'MTC.BK', 'ONEE.BK', 'OR.BK', 'ORI.BK', 'OSP.BK', 'PLANB.BK', 'PSL.BK', 'PTG.BK', 'PTT.BK',\n",
    "       'PTTEP.BK', 'PTTGC.BK', 'QH.BK', 'RATCH.BK', 'RBF.BK', 'RCL.BK', 'SAWAD.BK', 'SCB.BK',\n",
    "       'SCC.BK', 'SCGP.BK', 'SINGER.BK', 'SPALI.BK', 'SPRC.BK', 'STA.BK', 'STARK.BK', 'STEC.BK',\n",
    "       'STGT.BK', 'SUPER.BK', 'SYNEX.BK', 'TASCO.BK', 'TCAP.BK', 'THANI.BK', 'TIDLOR.BK',\n",
    "       'TIPH.BK', 'TISCO.BK', 'TOP.BK', 'TQM.BK', 'TRUE.BK', 'TTA.BK', 'TTB.BK', 'TU.BK', 'VGI.BK',\n",
    "       'WHA.BK']\n",
    "\n",
    "test_tickers = ['WHA.BK']"
   ]
  },
  {
   "cell_type": "code",
   "execution_count": 34,
   "metadata": {},
   "outputs": [],
   "source": [
    "def getData(tickers) :\n",
    "    data = []\n",
    "    if tickers == [] :\n",
    "        return 'No stock name'\n",
    "    for ticker in tickers:\n",
    "        # detail = yf.download(ticker, interval='1h', period='2y')\n",
    "        detail = yf.download(ticker, interval='1h', start='2022-11-01', end='2022-12-01')\n",
    "        detail['Symbol'] = ticker[:-3]\n",
    "        table_price = detail.reset_index()\n",
    "        data.append(table_price)\n",
    "    return data\n",
    "    \n",
    "\n",
    "def putDataToCsv(datas):\n",
    "    with open('stock_dataTest.csv', 'w') as creating_new_csv_file: \n",
    "        pass \n",
    "    count = 0\n",
    "    for data in datas:\n",
    "        if count > 0:\n",
    "            data.to_csv('stock_dataTest.csv', mode='a', header=False,index=False)\n",
    "            count+=1\n",
    "        else:\n",
    "            data.to_csv('stock_dataTest.csv', mode='a',index=False)\n",
    "            count+=1\n",
    "\n",
    "\n",
    "def updateData(tickers):\n",
    "    if tickers == []:\n",
    "        return 'No stock name'\n",
    "    stock_data = pd.read_csv('stock_dataTest.csv')\n",
    "    new_data = [stock_data]\n",
    "    stock_data['Datetime'] = pd.to_datetime(stock_data['Datetime'], format='%Y/%m/%d')\n",
    "    start_date = max(stock_data['Datetime'])\n",
    "    today_date = datetime.now()\n",
    "    for ticker in tickers:\n",
    "        detail = yf.download(ticker, interval='1h', start=start_date, end=today_date)\n",
    "        detail['Symbol'] = ticker[:-3]\n",
    "        table_price = detail.reset_index()\n",
    "        new_data.append(table_price)\n",
    "    new_table = pd.concat(new_data)\n",
    "    duplicate = new_table[['Datetime','Symbol']].duplicated(keep='first')\n",
    "    new_table = new_table.drop(new_table[duplicate].index)\n",
    "    new_table = new_table.sort_values(by=['Symbol', 'Datetime'], ascending=True)\n",
    "    new_table.to_csv('stock_dataTest.csv', index=False)\n",
    "    return new_table"
   ]
  },
  {
   "cell_type": "code",
   "execution_count": 35,
   "metadata": {},
   "outputs": [],
   "source": [
    "# data = getData(tickers)\n",
    "# putDataToCsv(data)"
   ]
  },
  {
   "cell_type": "code",
   "execution_count": 36,
   "metadata": {},
   "outputs": [],
   "source": [
    "# df = pd.read_csv('stock_dataTest.csv')\n",
    "# df.tail(10)"
   ]
  },
  {
   "cell_type": "code",
   "execution_count": 37,
   "metadata": {},
   "outputs": [
    {
     "name": "stdout",
     "output_type": "stream",
     "text": [
      "[*********************100%***********************]  1 of 1 completed\n"
     ]
    }
   ],
   "source": [
    "new = updateData(test_tickers) "
   ]
  },
  {
   "cell_type": "code",
   "execution_count": 43,
   "metadata": {},
   "outputs": [
    {
     "data": {
      "text/html": [
       "<div>\n",
       "<style scoped>\n",
       "    .dataframe tbody tr th:only-of-type {\n",
       "        vertical-align: middle;\n",
       "    }\n",
       "\n",
       "    .dataframe tbody tr th {\n",
       "        vertical-align: top;\n",
       "    }\n",
       "\n",
       "    .dataframe thead th {\n",
       "        text-align: right;\n",
       "    }\n",
       "</style>\n",
       "<table border=\"1\" class=\"dataframe\">\n",
       "  <thead>\n",
       "    <tr style=\"text-align: right;\">\n",
       "      <th></th>\n",
       "      <th>Datetime</th>\n",
       "      <th>Open</th>\n",
       "      <th>High</th>\n",
       "      <th>Low</th>\n",
       "      <th>Close</th>\n",
       "      <th>Adj Close</th>\n",
       "      <th>Volume</th>\n",
       "      <th>Symbol</th>\n",
       "    </tr>\n",
       "  </thead>\n",
       "  <tbody>\n",
       "    <tr>\n",
       "      <th>13306</th>\n",
       "      <td>2023-01-05 12:00:00</td>\n",
       "      <td>4.02</td>\n",
       "      <td>4.02</td>\n",
       "      <td>4.00</td>\n",
       "      <td>4.00</td>\n",
       "      <td>4.00</td>\n",
       "      <td>12984846</td>\n",
       "      <td>WHA</td>\n",
       "    </tr>\n",
       "    <tr>\n",
       "      <th>13307</th>\n",
       "      <td>2023-01-05 14:00:00</td>\n",
       "      <td>4.02</td>\n",
       "      <td>4.04</td>\n",
       "      <td>3.96</td>\n",
       "      <td>3.98</td>\n",
       "      <td>3.98</td>\n",
       "      <td>46646013</td>\n",
       "      <td>WHA</td>\n",
       "    </tr>\n",
       "    <tr>\n",
       "      <th>13308</th>\n",
       "      <td>2023-01-05 15:00:00</td>\n",
       "      <td>3.98</td>\n",
       "      <td>4.04</td>\n",
       "      <td>3.98</td>\n",
       "      <td>4.02</td>\n",
       "      <td>4.02</td>\n",
       "      <td>25460842</td>\n",
       "      <td>WHA</td>\n",
       "    </tr>\n",
       "    <tr>\n",
       "      <th>13309</th>\n",
       "      <td>2023-01-05 16:00:00</td>\n",
       "      <td>4.02</td>\n",
       "      <td>4.04</td>\n",
       "      <td>4.00</td>\n",
       "      <td>4.02</td>\n",
       "      <td>4.02</td>\n",
       "      <td>9420750</td>\n",
       "      <td>WHA</td>\n",
       "    </tr>\n",
       "    <tr>\n",
       "      <th>13310</th>\n",
       "      <td>2023-01-06 10:00:00</td>\n",
       "      <td>4.00</td>\n",
       "      <td>4.04</td>\n",
       "      <td>4.00</td>\n",
       "      <td>4.02</td>\n",
       "      <td>4.02</td>\n",
       "      <td>0</td>\n",
       "      <td>WHA</td>\n",
       "    </tr>\n",
       "    <tr>\n",
       "      <th>13311</th>\n",
       "      <td>2023-01-06 11:00:00</td>\n",
       "      <td>4.02</td>\n",
       "      <td>4.06</td>\n",
       "      <td>4.02</td>\n",
       "      <td>4.02</td>\n",
       "      <td>4.02</td>\n",
       "      <td>33092991</td>\n",
       "      <td>WHA</td>\n",
       "    </tr>\n",
       "    <tr>\n",
       "      <th>13312</th>\n",
       "      <td>2023-01-06 12:00:00</td>\n",
       "      <td>4.02</td>\n",
       "      <td>4.06</td>\n",
       "      <td>4.02</td>\n",
       "      <td>4.04</td>\n",
       "      <td>4.04</td>\n",
       "      <td>7454130</td>\n",
       "      <td>WHA</td>\n",
       "    </tr>\n",
       "    <tr>\n",
       "      <th>13313</th>\n",
       "      <td>2023-01-06 14:00:00</td>\n",
       "      <td>4.04</td>\n",
       "      <td>4.08</td>\n",
       "      <td>4.04</td>\n",
       "      <td>4.08</td>\n",
       "      <td>4.08</td>\n",
       "      <td>8064758</td>\n",
       "      <td>WHA</td>\n",
       "    </tr>\n",
       "    <tr>\n",
       "      <th>13314</th>\n",
       "      <td>2023-01-06 15:00:00</td>\n",
       "      <td>4.08</td>\n",
       "      <td>4.08</td>\n",
       "      <td>4.04</td>\n",
       "      <td>4.06</td>\n",
       "      <td>4.06</td>\n",
       "      <td>16710135</td>\n",
       "      <td>WHA</td>\n",
       "    </tr>\n",
       "    <tr>\n",
       "      <th>13315</th>\n",
       "      <td>2023-01-06 16:00:00</td>\n",
       "      <td>4.06</td>\n",
       "      <td>4.08</td>\n",
       "      <td>4.04</td>\n",
       "      <td>4.06</td>\n",
       "      <td>4.06</td>\n",
       "      <td>12858025</td>\n",
       "      <td>WHA</td>\n",
       "    </tr>\n",
       "  </tbody>\n",
       "</table>\n",
       "</div>"
      ],
      "text/plain": [
       "                 Datetime  Open  High   Low  Close  Adj Close    Volume Symbol\n",
       "13306 2023-01-05 12:00:00  4.02  4.02  4.00   4.00       4.00  12984846    WHA\n",
       "13307 2023-01-05 14:00:00  4.02  4.04  3.96   3.98       3.98  46646013    WHA\n",
       "13308 2023-01-05 15:00:00  3.98  4.04  3.98   4.02       4.02  25460842    WHA\n",
       "13309 2023-01-05 16:00:00  4.02  4.04  4.00   4.02       4.02   9420750    WHA\n",
       "13310 2023-01-06 10:00:00  4.00  4.04  4.00   4.02       4.02         0    WHA\n",
       "13311 2023-01-06 11:00:00  4.02  4.06  4.02   4.02       4.02  33092991    WHA\n",
       "13312 2023-01-06 12:00:00  4.02  4.06  4.02   4.04       4.04   7454130    WHA\n",
       "13313 2023-01-06 14:00:00  4.04  4.08  4.04   4.08       4.08   8064758    WHA\n",
       "13314 2023-01-06 15:00:00  4.08  4.08  4.04   4.06       4.06  16710135    WHA\n",
       "13315 2023-01-06 16:00:00  4.06  4.08  4.04   4.06       4.06  12858025    WHA"
      ]
     },
     "execution_count": 43,
     "metadata": {},
     "output_type": "execute_result"
    }
   ],
   "source": [
    "new.tail(10)"
   ]
  },
  {
   "cell_type": "code",
   "execution_count": 39,
   "metadata": {},
   "outputs": [],
   "source": [
    "# df = pd.read_csv(\"stock_data.csv\")\n",
    "# newdf = df[(df.Symbol == 'KBANK')]\n",
    "# newdf"
   ]
  },
  {
   "cell_type": "code",
   "execution_count": 40,
   "metadata": {},
   "outputs": [],
   "source": [
    "# newdf.Date = pd.to_datetime(newdf.Date)\n",
    "# newdf.info()"
   ]
  },
  {
   "cell_type": "code",
   "execution_count": 41,
   "metadata": {},
   "outputs": [],
   "source": [
    "# newdf = newdf.set_index('Date')\n",
    "# newdf"
   ]
  },
  {
   "cell_type": "code",
   "execution_count": 42,
   "metadata": {},
   "outputs": [],
   "source": [
    "# mpf.plot(\n",
    "#     newdf['2022-10':'2022-12'],\n",
    "#     type='candle',\n",
    "#     style='yahoo',\n",
    "#     volume=True,\n",
    "#     title='KBANK Stock Price 2022-10 to 2022-12',\n",
    "#     figratio=(40,15)\n",
    "#  )"
   ]
  }
 ],
 "metadata": {
  "kernelspec": {
   "display_name": "Python 3",
   "language": "python",
   "name": "python3"
  },
  "language_info": {
   "codemirror_mode": {
    "name": "ipython",
    "version": 3
   },
   "file_extension": ".py",
   "mimetype": "text/x-python",
   "name": "python",
   "nbconvert_exporter": "python",
   "pygments_lexer": "ipython3",
   "version": "3.10.6"
  },
  "orig_nbformat": 4,
  "vscode": {
   "interpreter": {
    "hash": "a42ccb73e7d9bfdf27e036f1d2b8b681e55fc0743cc5586bc2474d4a60f4b886"
   }
  }
 },
 "nbformat": 4,
 "nbformat_minor": 2
}
