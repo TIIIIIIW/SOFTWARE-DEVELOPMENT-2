{
 "cells": [
  {
   "cell_type": "code",
   "execution_count": 1,
   "metadata": {},
   "outputs": [],
   "source": [
    "import pandas as pd\n",
    "import matplotlib.pyplot as plt\n",
    "import yfinance as yf\n",
    "import mplfinance as mpf\n",
    "from datetime import datetime, timedelta\n",
    "import plotly\n",
    "import plotly.graph_objs as go"
   ]
  },
  {
   "cell_type": "code",
   "execution_count": 2,
   "metadata": {},
   "outputs": [],
   "source": [
    "tickers = ['ACE.BK', 'ADVANC.BK', 'AEONTS.BK', 'AMATA.BK', 'AOT.BK', 'AP.BK', 'AWC.BK', 'BAM.BK',\n",
    "       'BANPU.BK', 'BBL.BK', 'BCH.BK', 'BCP.BK', 'BCPG.BK', 'BDMS.BK', 'BEC.BK', 'BEM.BK',\n",
    "       'BGRIM.BK', 'BH.BK', 'BLA.BK', 'BTS.BK', 'CBG.BK', 'CENTEL.BK', 'CHG.BK', 'CK.BK', 'CKP.BK',\n",
    "       'COM7.BK', 'CPALL.BK', 'CPF.BK', 'CPN.BK', 'CRC.BK', 'DOHOME.BK', 'DTAC.BK', 'EA.BK',\n",
    "       'EGCO.BK', 'EPG.BK', 'ESSO.BK', 'FORTH.BK', 'GLOBAL.BK', 'GPSC.BK', 'GULF.BK', 'GUNKUL.BK',\n",
    "       'HANA.BK', 'HMPRO.BK', 'INTUCH.BK', 'IRPC.BK', 'IVL.BK', 'JMART.BK', 'JMT.BK', 'KBANK.BK',\n",
    "       'KCE.BK', 'KEX.BK', 'KKP.BK', 'KTB.BK', 'KTC.BK', 'LH.BK', 'MAJOR.BK', 'MEGA.BK', 'MINT.BK',\n",
    "       'MTC.BK', 'ONEE.BK', 'OR.BK', 'ORI.BK', 'OSP.BK', 'PLANB.BK', 'PSL.BK', 'PTG.BK', 'PTT.BK',\n",
    "       'PTTEP.BK', 'PTTGC.BK', 'QH.BK', 'RATCH.BK', 'RBF.BK', 'RCL.BK', 'SAWAD.BK', 'SCB.BK',\n",
    "       'SCC.BK', 'SCGP.BK', 'SINGER.BK', 'SPALI.BK', 'SPRC.BK', 'STA.BK', 'STARK.BK', 'STEC.BK',\n",
    "       'STGT.BK', 'SUPER.BK', 'SYNEX.BK', 'TASCO.BK', 'TCAP.BK', 'THANI.BK', 'TIDLOR.BK',\n",
    "       'TIPH.BK', 'TISCO.BK', 'TOP.BK', 'TQM.BK', 'TRUE.BK', 'TTA.BK', 'TTB.BK', 'TU.BK', 'VGI.BK',\n",
    "       'WHA.BK']\n",
    "\n",
    "test_tickers = ['WHA.BK']"
   ]
  },
  {
   "cell_type": "code",
   "execution_count": 3,
   "metadata": {},
   "outputs": [],
   "source": [
    "def getData(tickers) :\n",
    "    data = []\n",
    "    if tickers == [] :\n",
    "        return 'No stock name'\n",
    "    for ticker in tickers:\n",
    "        detail = yf.download(ticker, interval='1D')\n",
    "        # detail = yf.download(ticker, interval='1h', start='2022-11-01', end='2022-12-01')\n",
    "        detail['Symbol'] = ticker[:-3]\n",
    "        table_price = detail.reset_index()\n",
    "        data.append(table_price)\n",
    "    return data\n",
    "    \n",
    "\n",
    "def putDataToCsv(datas):\n",
    "    with open('stock_data1D.csv', 'w') as creating_new_csv_file: \n",
    "        pass \n",
    "    count = 0\n",
    "    for data in datas:\n",
    "        if count > 0:\n",
    "            data.to_csv('stock_data1D.csv', mode='a', header=False,index=False)\n",
    "            count+=1\n",
    "        else:\n",
    "            data.to_csv('stock_data1D.csv', mode='a',index=False)\n",
    "            count+=1\n",
    "\n",
    "\n",
    "def readCSV(name):\n",
    "    stock_data = pd.read_csv(name)\n",
    "    stock_data['Datetime'] = pd.to_datetime(stock_data['Datetime'], format='%Y/%m/%d')\n",
    "    start_date = max(stock_data['Datetime'])\n",
    "    return start_date, stock_data\n",
    "\n",
    "def updateData(ticker, start_date):\n",
    "    detail = yf.download(ticker, interval='1h', start=start_date)\n",
    "    detail['Symbol'] = ticker[:-3]\n",
    "    table_price = detail.reset_index()\n",
    "    return table_price\n",
    "\n",
    "def combineData(stock_data, table_price):\n",
    "    new_data = [stock_data]\n",
    "    new_data.append(table_price)\n",
    "    new_table = pd.concat(new_data)\n",
    "    duplicate = new_table[['Datetime','Symbol']].duplicated(keep='first')\n",
    "    new_table = new_table.drop(new_table[duplicate].index)\n",
    "    new_table = new_table.sort_values(by=['Symbol', 'Datetime'], ascending=True)\n",
    "    new_table.to_csv('stock_dataTest.csv', index=False)\n",
    "    return new_table\n"
   ]
  },
  {
   "cell_type": "code",
   "execution_count": 4,
   "metadata": {},
   "outputs": [],
   "source": [
    "# data = getData(tickers)\n",
    "# putDataToCsv(data)"
   ]
  },
  {
   "cell_type": "code",
   "execution_count": 5,
   "metadata": {},
   "outputs": [],
   "source": [
    "# df = pd.read_csv('stock_dataTest.csv')\n",
    "# df.tail(10)"
   ]
  },
  {
   "cell_type": "code",
   "execution_count": 6,
   "metadata": {},
   "outputs": [],
   "source": [
    "# data = readCSV('stock_dataTest.csv')\n",
    "# for i in test_tickers:\n",
    "#     new = updateData(i, data[0])\n",
    "#     new_frame = combineData(data[1], new)\n",
    "# print(type(data[0]))\n",
    "# new_frame"
   ]
  },
  {
   "cell_type": "code",
   "execution_count": 7,
   "metadata": {},
   "outputs": [],
   "source": [
    "# a = pd.DataFrame({\n",
    "#             'Open': [10],\n",
    "#             'High': [15],\n",
    "#             'Low': [5],\n",
    "#             'Close': [10],\n",
    "#             'Adj Close': [10],\n",
    "#             'Volume': [100]}, index=[pd.to_datetime('2020-01-01', format='%Y/%m/%d')])\n",
    "\n",
    "# a.reset_index(names='Datetime')"
   ]
  },
  {
   "cell_type": "code",
   "execution_count": 8,
   "metadata": {},
   "outputs": [],
   "source": [
    "# detail = pd.DataFrame({\n",
    "#             'Open': [10],\n",
    "#             'High': [15],\n",
    "#             'Low': [5],\n",
    "#             'Close': [10],\n",
    "#             'Adj Close': [10],\n",
    "#             'Volume': [100]}, index=[pd.to_datetime('2020-01-01', format='%Y/%m/%d')])\n",
    "# # detail = yf.download(ticker, interval='1h', start=start_date)\n",
    "# detail['Symbol'] = 'test'\n",
    "# table_price = detail.rename_axis('Datetime').reset_index()\n",
    "\n",
    "# table_price"
   ]
  },
  {
   "cell_type": "code",
   "execution_count": 9,
   "metadata": {},
   "outputs": [],
   "source": [
    "# b = pd.DataFrame({\n",
    "#             'Datetime': [pd.to_datetime('2020-01-01', format='%Y/%m/%d')],\n",
    "#             'Open': [10],\n",
    "#             'High': [15],\n",
    "#             'Low': [5],\n",
    "#             'Close': [10],\n",
    "#             'Adj Close': [10],\n",
    "#             'Volume': [100],\n",
    "#             'Symbol': ['test']\n",
    "#         })\n",
    "\n",
    "# b.equals(table_price)"
   ]
  },
  {
   "cell_type": "code",
   "execution_count": 10,
   "metadata": {},
   "outputs": [],
   "source": [
    "# new.tail(10)"
   ]
  },
  {
   "cell_type": "code",
   "execution_count": 11,
   "metadata": {},
   "outputs": [],
   "source": [
    "# df = pd.read_csv(\"stock_data.csv\")\n",
    "# newdf = df[(df.Symbol == 'KBANK')]\n",
    "# newdf"
   ]
  },
  {
   "cell_type": "code",
   "execution_count": 12,
   "metadata": {},
   "outputs": [],
   "source": [
    "# newdf.Date = pd.to_datetime(newdf.Date)\n",
    "# newdf.info()"
   ]
  },
  {
   "cell_type": "code",
   "execution_count": 13,
   "metadata": {},
   "outputs": [],
   "source": [
    "# newdf = newdf.set_index('Date')\n",
    "# newdf"
   ]
  },
  {
   "cell_type": "code",
   "execution_count": 14,
   "metadata": {},
   "outputs": [],
   "source": [
    "# mpf.plot(\n",
    "#     newdf['2022-10':'2022-12'],\n",
    "#     type='candle',\n",
    "#     style='yahoo',\n",
    "#     volume=True,\n",
    "#     title='KBANK Stock Price 2022-10 to 2022-12',\n",
    "#     figratio=(40,15)\n",
    "#  )"
   ]
  },
  {
   "cell_type": "code",
   "execution_count": 15,
   "metadata": {},
   "outputs": [],
   "source": [
    "df1d = pd.read_csv(\"stock_data1D.csv\")\n",
    "df1d = df1d[(df1d.Symbol == 'KBANK')].tail(100)\n",
    "df1d['Date'] = pd.to_datetime(df1d['Date'])\n",
    "my_range = pd.date_range(start= min(df1d['Date']), end= max(df1d['Date']), freq='B')\n",
    "missing_date = my_range.difference(df1d['Date']).strftime(\"%Y-%m-%d\").tolist()"
   ]
  },
  {
   "cell_type": "code",
   "execution_count": 16,
   "metadata": {},
   "outputs": [
    {
     "data": {
      "application/vnd.plotly.v1+json": {
       "config": {
        "plotlyServerURL": "https://plot.ly"
       },
       "data": [
        {
         "close": [
          151.5,
          154,
          154,
          154,
          153.5,
          155,
          156,
          157.5,
          157,
          155,
          155.5,
          153.5,
          152.5,
          152,
          152.5,
          151,
          148,
          147,
          149,
          151,
          151,
          150,
          148.5,
          148,
          149.5,
          150.5,
          150,
          151,
          151.5,
          149.5,
          145,
          143.5,
          144.5,
          144,
          140.5,
          142.5,
          142,
          142.5,
          143,
          142,
          143.5,
          144,
          145.5,
          146.5,
          148,
          148.5,
          146,
          141.5,
          141.5,
          143,
          142.5,
          146,
          146.5,
          147,
          149.5,
          148.5,
          148,
          148.5,
          147.5,
          148,
          148,
          144.5,
          144.5,
          145,
          143.5,
          143,
          142.5,
          143.5,
          143,
          143.5,
          143.5,
          143.5,
          145.5,
          144.5,
          144,
          142.5,
          142,
          142.5,
          142,
          143,
          143.5,
          142,
          143,
          143.5,
          144,
          143,
          144.5,
          145,
          144,
          144.5,
          145.5,
          146,
          147,
          147.5,
          149,
          151.5,
          151,
          153,
          154.5,
          155.5
         ],
         "high": [
          152.5,
          154.5,
          154.5,
          155.5,
          154,
          155.5,
          157,
          158,
          158.5,
          156,
          156.5,
          156,
          154,
          153.5,
          153,
          152.5,
          150.5,
          149.5,
          150,
          152,
          152,
          151,
          150,
          148.5,
          149.5,
          151.5,
          151,
          152,
          152,
          151.5,
          149,
          145,
          146.5,
          144,
          143.5,
          143,
          143.5,
          144,
          143.5,
          142.5,
          143.5,
          145,
          145.5,
          147,
          148.5,
          149,
          148,
          144.5,
          142,
          143,
          143.5,
          146.5,
          147.5,
          147.5,
          149.5,
          149.5,
          149.5,
          149.5,
          150,
          149,
          149.5,
          147,
          146,
          145,
          145,
          143.5,
          143.5,
          144,
          143.5,
          144,
          144.5,
          143.5,
          146,
          145,
          145,
          144,
          142,
          144,
          143,
          143,
          144,
          144,
          143.5,
          143.5,
          144,
          144,
          144.5,
          145.5,
          144.5,
          144.5,
          146,
          146.5,
          147,
          148.5,
          149.5,
          151.5,
          154,
          154,
          155,
          155.5
         ],
         "low": [
          151,
          151,
          153,
          153.5,
          152.5,
          152,
          154,
          156.5,
          156,
          154,
          155,
          153,
          151.5,
          151.5,
          151,
          150.5,
          147,
          147,
          148,
          150,
          150.5,
          149,
          148.5,
          147,
          148,
          150,
          149.5,
          149,
          149.5,
          149,
          144,
          143.5,
          144,
          142.5,
          140,
          142,
          141.5,
          142.5,
          142,
          141.5,
          141,
          143.5,
          143.5,
          145.5,
          146.5,
          147,
          145.5,
          140.5,
          140,
          141,
          142,
          143,
          145.5,
          145.5,
          146.5,
          148,
          148,
          148,
          147.5,
          146,
          147.5,
          144,
          144.5,
          144,
          143,
          142,
          142,
          142.5,
          142.5,
          143,
          143,
          141.5,
          143,
          144,
          144,
          142.5,
          141,
          142,
          142,
          142,
          143,
          142,
          142,
          142.5,
          143.5,
          143,
          143,
          144,
          143,
          143.5,
          144,
          145,
          145,
          147,
          147,
          149,
          150.5,
          151.5,
          153,
          153.5
         ],
         "open": [
          151.5,
          152,
          153,
          154,
          153.5,
          152.5,
          155,
          157,
          157.5,
          154.5,
          155,
          155.5,
          153,
          153,
          152,
          152.5,
          150.5,
          149,
          148,
          150,
          151.5,
          149.5,
          149.5,
          147.5,
          148,
          150,
          150.5,
          150,
          151,
          151,
          148.5,
          144.5,
          145,
          143.5,
          143,
          142.5,
          143.5,
          142.5,
          143,
          142,
          142,
          143.5,
          144,
          146,
          147,
          147.5,
          146.5,
          144.5,
          142,
          142,
          143,
          143.5,
          147.5,
          147,
          147,
          149,
          149,
          149,
          149.5,
          146.5,
          149,
          146,
          144.5,
          144.5,
          145,
          143.5,
          143,
          142.5,
          143.5,
          143.5,
          143.5,
          142.5,
          143.5,
          145,
          144.5,
          143.5,
          141.5,
          142,
          142.5,
          143,
          144,
          144,
          142.5,
          143,
          144,
          144,
          143.5,
          145,
          144,
          143.5,
          144.5,
          145.5,
          146,
          147.5,
          148,
          149,
          152.5,
          152,
          154.5,
          155
         ],
         "type": "candlestick",
         "x": [
          "2022-08-16T00:00:00",
          "2022-08-17T00:00:00",
          "2022-08-18T00:00:00",
          "2022-08-19T00:00:00",
          "2022-08-22T00:00:00",
          "2022-08-23T00:00:00",
          "2022-08-24T00:00:00",
          "2022-08-25T00:00:00",
          "2022-08-26T00:00:00",
          "2022-08-29T00:00:00",
          "2022-08-30T00:00:00",
          "2022-08-31T00:00:00",
          "2022-09-01T00:00:00",
          "2022-09-02T00:00:00",
          "2022-09-05T00:00:00",
          "2022-09-06T00:00:00",
          "2022-09-07T00:00:00",
          "2022-09-08T00:00:00",
          "2022-09-09T00:00:00",
          "2022-09-12T00:00:00",
          "2022-09-13T00:00:00",
          "2022-09-14T00:00:00",
          "2022-09-15T00:00:00",
          "2022-09-16T00:00:00",
          "2022-09-19T00:00:00",
          "2022-09-20T00:00:00",
          "2022-09-21T00:00:00",
          "2022-09-22T00:00:00",
          "2022-09-23T00:00:00",
          "2022-09-26T00:00:00",
          "2022-09-27T00:00:00",
          "2022-09-28T00:00:00",
          "2022-09-29T00:00:00",
          "2022-09-30T00:00:00",
          "2022-10-03T00:00:00",
          "2022-10-04T00:00:00",
          "2022-10-05T00:00:00",
          "2022-10-06T00:00:00",
          "2022-10-07T00:00:00",
          "2022-10-10T00:00:00",
          "2022-10-11T00:00:00",
          "2022-10-12T00:00:00",
          "2022-10-17T00:00:00",
          "2022-10-18T00:00:00",
          "2022-10-19T00:00:00",
          "2022-10-20T00:00:00",
          "2022-10-21T00:00:00",
          "2022-10-25T00:00:00",
          "2022-10-26T00:00:00",
          "2022-10-27T00:00:00",
          "2022-10-28T00:00:00",
          "2022-10-31T00:00:00",
          "2022-11-01T00:00:00",
          "2022-11-02T00:00:00",
          "2022-11-03T00:00:00",
          "2022-11-04T00:00:00",
          "2022-11-07T00:00:00",
          "2022-11-08T00:00:00",
          "2022-11-09T00:00:00",
          "2022-11-10T00:00:00",
          "2022-11-11T00:00:00",
          "2022-11-14T00:00:00",
          "2022-11-15T00:00:00",
          "2022-11-16T00:00:00",
          "2022-11-17T00:00:00",
          "2022-11-18T00:00:00",
          "2022-11-21T00:00:00",
          "2022-11-22T00:00:00",
          "2022-11-23T00:00:00",
          "2022-11-24T00:00:00",
          "2022-11-25T00:00:00",
          "2022-11-28T00:00:00",
          "2022-11-29T00:00:00",
          "2022-11-30T00:00:00",
          "2022-12-01T00:00:00",
          "2022-12-02T00:00:00",
          "2022-12-06T00:00:00",
          "2022-12-07T00:00:00",
          "2022-12-08T00:00:00",
          "2022-12-09T00:00:00",
          "2022-12-13T00:00:00",
          "2022-12-14T00:00:00",
          "2022-12-15T00:00:00",
          "2022-12-16T00:00:00",
          "2022-12-19T00:00:00",
          "2022-12-20T00:00:00",
          "2022-12-21T00:00:00",
          "2022-12-22T00:00:00",
          "2022-12-23T00:00:00",
          "2022-12-26T00:00:00",
          "2022-12-27T00:00:00",
          "2022-12-28T00:00:00",
          "2022-12-29T00:00:00",
          "2022-12-30T00:00:00",
          "2023-01-03T00:00:00",
          "2023-01-04T00:00:00",
          "2023-01-05T00:00:00",
          "2023-01-06T00:00:00",
          "2023-01-09T00:00:00",
          "2023-01-10T00:00:00"
         ]
        }
       ],
       "layout": {
        "template": {
         "data": {
          "bar": [
           {
            "error_x": {
             "color": "#2a3f5f"
            },
            "error_y": {
             "color": "#2a3f5f"
            },
            "marker": {
             "line": {
              "color": "#E5ECF6",
              "width": 0.5
             },
             "pattern": {
              "fillmode": "overlay",
              "size": 10,
              "solidity": 0.2
             }
            },
            "type": "bar"
           }
          ],
          "barpolar": [
           {
            "marker": {
             "line": {
              "color": "#E5ECF6",
              "width": 0.5
             },
             "pattern": {
              "fillmode": "overlay",
              "size": 10,
              "solidity": 0.2
             }
            },
            "type": "barpolar"
           }
          ],
          "carpet": [
           {
            "aaxis": {
             "endlinecolor": "#2a3f5f",
             "gridcolor": "white",
             "linecolor": "white",
             "minorgridcolor": "white",
             "startlinecolor": "#2a3f5f"
            },
            "baxis": {
             "endlinecolor": "#2a3f5f",
             "gridcolor": "white",
             "linecolor": "white",
             "minorgridcolor": "white",
             "startlinecolor": "#2a3f5f"
            },
            "type": "carpet"
           }
          ],
          "choropleth": [
           {
            "colorbar": {
             "outlinewidth": 0,
             "ticks": ""
            },
            "type": "choropleth"
           }
          ],
          "contour": [
           {
            "colorbar": {
             "outlinewidth": 0,
             "ticks": ""
            },
            "colorscale": [
             [
              0,
              "#0d0887"
             ],
             [
              0.1111111111111111,
              "#46039f"
             ],
             [
              0.2222222222222222,
              "#7201a8"
             ],
             [
              0.3333333333333333,
              "#9c179e"
             ],
             [
              0.4444444444444444,
              "#bd3786"
             ],
             [
              0.5555555555555556,
              "#d8576b"
             ],
             [
              0.6666666666666666,
              "#ed7953"
             ],
             [
              0.7777777777777778,
              "#fb9f3a"
             ],
             [
              0.8888888888888888,
              "#fdca26"
             ],
             [
              1,
              "#f0f921"
             ]
            ],
            "type": "contour"
           }
          ],
          "contourcarpet": [
           {
            "colorbar": {
             "outlinewidth": 0,
             "ticks": ""
            },
            "type": "contourcarpet"
           }
          ],
          "heatmap": [
           {
            "colorbar": {
             "outlinewidth": 0,
             "ticks": ""
            },
            "colorscale": [
             [
              0,
              "#0d0887"
             ],
             [
              0.1111111111111111,
              "#46039f"
             ],
             [
              0.2222222222222222,
              "#7201a8"
             ],
             [
              0.3333333333333333,
              "#9c179e"
             ],
             [
              0.4444444444444444,
              "#bd3786"
             ],
             [
              0.5555555555555556,
              "#d8576b"
             ],
             [
              0.6666666666666666,
              "#ed7953"
             ],
             [
              0.7777777777777778,
              "#fb9f3a"
             ],
             [
              0.8888888888888888,
              "#fdca26"
             ],
             [
              1,
              "#f0f921"
             ]
            ],
            "type": "heatmap"
           }
          ],
          "heatmapgl": [
           {
            "colorbar": {
             "outlinewidth": 0,
             "ticks": ""
            },
            "colorscale": [
             [
              0,
              "#0d0887"
             ],
             [
              0.1111111111111111,
              "#46039f"
             ],
             [
              0.2222222222222222,
              "#7201a8"
             ],
             [
              0.3333333333333333,
              "#9c179e"
             ],
             [
              0.4444444444444444,
              "#bd3786"
             ],
             [
              0.5555555555555556,
              "#d8576b"
             ],
             [
              0.6666666666666666,
              "#ed7953"
             ],
             [
              0.7777777777777778,
              "#fb9f3a"
             ],
             [
              0.8888888888888888,
              "#fdca26"
             ],
             [
              1,
              "#f0f921"
             ]
            ],
            "type": "heatmapgl"
           }
          ],
          "histogram": [
           {
            "marker": {
             "pattern": {
              "fillmode": "overlay",
              "size": 10,
              "solidity": 0.2
             }
            },
            "type": "histogram"
           }
          ],
          "histogram2d": [
           {
            "colorbar": {
             "outlinewidth": 0,
             "ticks": ""
            },
            "colorscale": [
             [
              0,
              "#0d0887"
             ],
             [
              0.1111111111111111,
              "#46039f"
             ],
             [
              0.2222222222222222,
              "#7201a8"
             ],
             [
              0.3333333333333333,
              "#9c179e"
             ],
             [
              0.4444444444444444,
              "#bd3786"
             ],
             [
              0.5555555555555556,
              "#d8576b"
             ],
             [
              0.6666666666666666,
              "#ed7953"
             ],
             [
              0.7777777777777778,
              "#fb9f3a"
             ],
             [
              0.8888888888888888,
              "#fdca26"
             ],
             [
              1,
              "#f0f921"
             ]
            ],
            "type": "histogram2d"
           }
          ],
          "histogram2dcontour": [
           {
            "colorbar": {
             "outlinewidth": 0,
             "ticks": ""
            },
            "colorscale": [
             [
              0,
              "#0d0887"
             ],
             [
              0.1111111111111111,
              "#46039f"
             ],
             [
              0.2222222222222222,
              "#7201a8"
             ],
             [
              0.3333333333333333,
              "#9c179e"
             ],
             [
              0.4444444444444444,
              "#bd3786"
             ],
             [
              0.5555555555555556,
              "#d8576b"
             ],
             [
              0.6666666666666666,
              "#ed7953"
             ],
             [
              0.7777777777777778,
              "#fb9f3a"
             ],
             [
              0.8888888888888888,
              "#fdca26"
             ],
             [
              1,
              "#f0f921"
             ]
            ],
            "type": "histogram2dcontour"
           }
          ],
          "mesh3d": [
           {
            "colorbar": {
             "outlinewidth": 0,
             "ticks": ""
            },
            "type": "mesh3d"
           }
          ],
          "parcoords": [
           {
            "line": {
             "colorbar": {
              "outlinewidth": 0,
              "ticks": ""
             }
            },
            "type": "parcoords"
           }
          ],
          "pie": [
           {
            "automargin": true,
            "type": "pie"
           }
          ],
          "scatter": [
           {
            "fillpattern": {
             "fillmode": "overlay",
             "size": 10,
             "solidity": 0.2
            },
            "type": "scatter"
           }
          ],
          "scatter3d": [
           {
            "line": {
             "colorbar": {
              "outlinewidth": 0,
              "ticks": ""
             }
            },
            "marker": {
             "colorbar": {
              "outlinewidth": 0,
              "ticks": ""
             }
            },
            "type": "scatter3d"
           }
          ],
          "scattercarpet": [
           {
            "marker": {
             "colorbar": {
              "outlinewidth": 0,
              "ticks": ""
             }
            },
            "type": "scattercarpet"
           }
          ],
          "scattergeo": [
           {
            "marker": {
             "colorbar": {
              "outlinewidth": 0,
              "ticks": ""
             }
            },
            "type": "scattergeo"
           }
          ],
          "scattergl": [
           {
            "marker": {
             "colorbar": {
              "outlinewidth": 0,
              "ticks": ""
             }
            },
            "type": "scattergl"
           }
          ],
          "scattermapbox": [
           {
            "marker": {
             "colorbar": {
              "outlinewidth": 0,
              "ticks": ""
             }
            },
            "type": "scattermapbox"
           }
          ],
          "scatterpolar": [
           {
            "marker": {
             "colorbar": {
              "outlinewidth": 0,
              "ticks": ""
             }
            },
            "type": "scatterpolar"
           }
          ],
          "scatterpolargl": [
           {
            "marker": {
             "colorbar": {
              "outlinewidth": 0,
              "ticks": ""
             }
            },
            "type": "scatterpolargl"
           }
          ],
          "scatterternary": [
           {
            "marker": {
             "colorbar": {
              "outlinewidth": 0,
              "ticks": ""
             }
            },
            "type": "scatterternary"
           }
          ],
          "surface": [
           {
            "colorbar": {
             "outlinewidth": 0,
             "ticks": ""
            },
            "colorscale": [
             [
              0,
              "#0d0887"
             ],
             [
              0.1111111111111111,
              "#46039f"
             ],
             [
              0.2222222222222222,
              "#7201a8"
             ],
             [
              0.3333333333333333,
              "#9c179e"
             ],
             [
              0.4444444444444444,
              "#bd3786"
             ],
             [
              0.5555555555555556,
              "#d8576b"
             ],
             [
              0.6666666666666666,
              "#ed7953"
             ],
             [
              0.7777777777777778,
              "#fb9f3a"
             ],
             [
              0.8888888888888888,
              "#fdca26"
             ],
             [
              1,
              "#f0f921"
             ]
            ],
            "type": "surface"
           }
          ],
          "table": [
           {
            "cells": {
             "fill": {
              "color": "#EBF0F8"
             },
             "line": {
              "color": "white"
             }
            },
            "header": {
             "fill": {
              "color": "#C8D4E3"
             },
             "line": {
              "color": "white"
             }
            },
            "type": "table"
           }
          ]
         },
         "layout": {
          "annotationdefaults": {
           "arrowcolor": "#2a3f5f",
           "arrowhead": 0,
           "arrowwidth": 1
          },
          "autotypenumbers": "strict",
          "coloraxis": {
           "colorbar": {
            "outlinewidth": 0,
            "ticks": ""
           }
          },
          "colorscale": {
           "diverging": [
            [
             0,
             "#8e0152"
            ],
            [
             0.1,
             "#c51b7d"
            ],
            [
             0.2,
             "#de77ae"
            ],
            [
             0.3,
             "#f1b6da"
            ],
            [
             0.4,
             "#fde0ef"
            ],
            [
             0.5,
             "#f7f7f7"
            ],
            [
             0.6,
             "#e6f5d0"
            ],
            [
             0.7,
             "#b8e186"
            ],
            [
             0.8,
             "#7fbc41"
            ],
            [
             0.9,
             "#4d9221"
            ],
            [
             1,
             "#276419"
            ]
           ],
           "sequential": [
            [
             0,
             "#0d0887"
            ],
            [
             0.1111111111111111,
             "#46039f"
            ],
            [
             0.2222222222222222,
             "#7201a8"
            ],
            [
             0.3333333333333333,
             "#9c179e"
            ],
            [
             0.4444444444444444,
             "#bd3786"
            ],
            [
             0.5555555555555556,
             "#d8576b"
            ],
            [
             0.6666666666666666,
             "#ed7953"
            ],
            [
             0.7777777777777778,
             "#fb9f3a"
            ],
            [
             0.8888888888888888,
             "#fdca26"
            ],
            [
             1,
             "#f0f921"
            ]
           ],
           "sequentialminus": [
            [
             0,
             "#0d0887"
            ],
            [
             0.1111111111111111,
             "#46039f"
            ],
            [
             0.2222222222222222,
             "#7201a8"
            ],
            [
             0.3333333333333333,
             "#9c179e"
            ],
            [
             0.4444444444444444,
             "#bd3786"
            ],
            [
             0.5555555555555556,
             "#d8576b"
            ],
            [
             0.6666666666666666,
             "#ed7953"
            ],
            [
             0.7777777777777778,
             "#fb9f3a"
            ],
            [
             0.8888888888888888,
             "#fdca26"
            ],
            [
             1,
             "#f0f921"
            ]
           ]
          },
          "colorway": [
           "#636efa",
           "#EF553B",
           "#00cc96",
           "#ab63fa",
           "#FFA15A",
           "#19d3f3",
           "#FF6692",
           "#B6E880",
           "#FF97FF",
           "#FECB52"
          ],
          "font": {
           "color": "#2a3f5f"
          },
          "geo": {
           "bgcolor": "white",
           "lakecolor": "white",
           "landcolor": "#E5ECF6",
           "showlakes": true,
           "showland": true,
           "subunitcolor": "white"
          },
          "hoverlabel": {
           "align": "left"
          },
          "hovermode": "closest",
          "mapbox": {
           "style": "light"
          },
          "paper_bgcolor": "white",
          "plot_bgcolor": "#E5ECF6",
          "polar": {
           "angularaxis": {
            "gridcolor": "white",
            "linecolor": "white",
            "ticks": ""
           },
           "bgcolor": "#E5ECF6",
           "radialaxis": {
            "gridcolor": "white",
            "linecolor": "white",
            "ticks": ""
           }
          },
          "scene": {
           "xaxis": {
            "backgroundcolor": "#E5ECF6",
            "gridcolor": "white",
            "gridwidth": 2,
            "linecolor": "white",
            "showbackground": true,
            "ticks": "",
            "zerolinecolor": "white"
           },
           "yaxis": {
            "backgroundcolor": "#E5ECF6",
            "gridcolor": "white",
            "gridwidth": 2,
            "linecolor": "white",
            "showbackground": true,
            "ticks": "",
            "zerolinecolor": "white"
           },
           "zaxis": {
            "backgroundcolor": "#E5ECF6",
            "gridcolor": "white",
            "gridwidth": 2,
            "linecolor": "white",
            "showbackground": true,
            "ticks": "",
            "zerolinecolor": "white"
           }
          },
          "shapedefaults": {
           "line": {
            "color": "#2a3f5f"
           }
          },
          "ternary": {
           "aaxis": {
            "gridcolor": "white",
            "linecolor": "white",
            "ticks": ""
           },
           "baxis": {
            "gridcolor": "white",
            "linecolor": "white",
            "ticks": ""
           },
           "bgcolor": "#E5ECF6",
           "caxis": {
            "gridcolor": "white",
            "linecolor": "white",
            "ticks": ""
           }
          },
          "title": {
           "x": 0.05
          },
          "xaxis": {
           "automargin": true,
           "gridcolor": "white",
           "linecolor": "white",
           "ticks": "",
           "title": {
            "standoff": 15
           },
           "zerolinecolor": "white",
           "zerolinewidth": 2
          },
          "yaxis": {
           "automargin": true,
           "gridcolor": "white",
           "linecolor": "white",
           "ticks": "",
           "title": {
            "standoff": 15
           },
           "zerolinecolor": "white",
           "zerolinewidth": 2
          }
         }
        },
        "xaxis": {
         "rangebreaks": [
          {
           "bounds": [
            "sat",
            "mon"
           ]
          },
          {
           "values": [
            "2022-10-13",
            "2022-10-14",
            "2022-10-24",
            "2022-12-05",
            "2022-12-12",
            "2023-01-02"
           ]
          }
         ]
        }
       }
      }
     },
     "metadata": {},
     "output_type": "display_data"
    }
   ],
   "source": [
    "fig = go.Figure(data=[go.Candlestick(\n",
    "                        x=df1d['Date'],\n",
    "                        open=df1d['Open'],\n",
    "                        high=df1d['High'],\n",
    "                        low=df1d['Low'],\n",
    "                        close=df1d['Close']\n",
    ")])\n",
    "\n",
    "fig.update_xaxes(\n",
    "    rangebreaks=[\n",
    "        dict(bounds=[\"sat\", \"mon\"]),\n",
    "        dict(values=missing_date) \n",
    "])\n",
    "\n",
    "fig.show()"
   ]
  },
  {
   "cell_type": "code",
   "execution_count": 17,
   "metadata": {},
   "outputs": [],
   "source": [
    "df1h = pd.read_csv(\"stock_data1H.csv\")\n",
    "df1h = df1h[(df1h.Symbol == 'KBANK')].tail(100)\n",
    "df1h['Datetime'] = pd.to_datetime(df1h['Datetime'])\n",
    "my_range = pd.date_range(start= min(df1h['Datetime']), end= max(df1h['Datetime']), freq='H')\n",
    "missing_datetime = my_range.difference(df1h['Datetime']).strftime(\"%Y-%m-%d H%:m%:s%\").tolist()"
   ]
  },
  {
   "cell_type": "code",
   "execution_count": 18,
   "metadata": {},
   "outputs": [
    {
     "data": {
      "application/vnd.plotly.v1+json": {
       "config": {
        "plotlyServerURL": "https://plot.ly"
       },
       "data": [
        {
         "close": [
          143,
          143,
          143,
          143,
          143.5,
          143.5,
          143.5,
          144,
          144,
          144,
          143.5,
          143,
          144,
          143.5,
          143.5,
          143,
          144,
          144.5,
          144.5,
          144,
          144.5,
          144.5,
          145.5,
          144.5,
          145,
          145,
          144.5,
          144.5,
          144,
          144.5,
          144,
          144,
          144,
          144,
          144,
          144.5,
          144.5,
          144.5,
          144,
          144,
          144.5,
          145,
          145,
          145.5,
          145.5,
          146,
          146,
          145.5,
          146,
          146.5,
          146.5,
          146,
          145.5,
          146,
          146.5,
          146,
          146,
          147,
          148,
          148,
          148,
          148.5,
          147.5,
          148,
          148,
          147.5,
          147.5,
          148.5,
          148.5,
          149.5,
          150.5,
          151,
          151,
          150.5,
          151.5,
          151.5,
          152.5,
          152.5,
          152.5,
          151.5,
          151.5,
          151,
          153,
          153.5,
          153.5,
          153,
          153.5,
          153.5,
          154,
          154,
          154.5,
          154.5,
          154.5,
          154.5,
          153.5,
          155,
          155,
          155,
          155,
          155.5
         ],
         "high": [
          143.5,
          143.5,
          143.5,
          143.5,
          144,
          144,
          144,
          144,
          144,
          144,
          144,
          144,
          144,
          144,
          144,
          143.5,
          144,
          144.5,
          144.5,
          144.5,
          144.5,
          144.5,
          145.5,
          145.5,
          145,
          145,
          145,
          145,
          144,
          144.5,
          144.5,
          144.5,
          144.5,
          144,
          144.5,
          144.5,
          144.5,
          144.5,
          144.5,
          144.5,
          145,
          145,
          145,
          146,
          146,
          146,
          146,
          146,
          146.5,
          146.5,
          146.5,
          146.5,
          146,
          146,
          146.5,
          146.5,
          146.5,
          147,
          148.5,
          148.5,
          148.5,
          148.5,
          148.5,
          148,
          148.5,
          148,
          148,
          149,
          149.5,
          149.5,
          150.5,
          151.5,
          151.5,
          151,
          151.5,
          151.5,
          154,
          153,
          152.5,
          153,
          151.5,
          151.5,
          153.5,
          153.5,
          153.5,
          153.5,
          153.5,
          154,
          155,
          154,
          154.5,
          154.5,
          154.5,
          154.5,
          155,
          155,
          155,
          155,
          155,
          155.5
         ],
         "low": [
          143,
          143,
          143,
          143,
          143.5,
          143.5,
          143.5,
          143.5,
          143.5,
          143.5,
          143.5,
          143,
          143,
          143.5,
          143,
          143,
          143,
          143.5,
          144,
          144,
          144,
          144,
          144.5,
          144.5,
          144.5,
          144.5,
          144.5,
          144,
          143,
          143.5,
          144,
          143.5,
          143.5,
          143.5,
          143.5,
          144,
          144,
          144,
          144,
          144,
          144,
          144.5,
          144.5,
          145,
          145,
          145.5,
          145,
          145.5,
          145.5,
          146,
          146,
          145.5,
          145,
          145.5,
          145.5,
          146,
          146,
          146,
          147,
          148,
          148,
          148,
          147.5,
          147,
          147.5,
          147,
          147.5,
          147.5,
          148.5,
          148.5,
          149,
          150,
          150.5,
          150.5,
          150.5,
          151,
          152,
          152,
          152,
          151,
          150.5,
          151,
          151.5,
          153,
          153,
          152.5,
          153,
          153,
          153.5,
          153,
          153.5,
          154,
          154,
          154,
          153.5,
          153.5,
          154.5,
          154.5,
          154.5,
          154.5
         ],
         "open": [
          143,
          143,
          143.5,
          143.5,
          143.5,
          143.5,
          143.5,
          143.5,
          144,
          144,
          143.5,
          143.5,
          143,
          144,
          144,
          143.5,
          143.5,
          144,
          144.5,
          144.5,
          144.5,
          144.5,
          144.5,
          145,
          145,
          145,
          145,
          144.5,
          144,
          144,
          144.5,
          144,
          144,
          144,
          144,
          144.5,
          144,
          144.5,
          144,
          144.5,
          144,
          144.5,
          145,
          145,
          145.5,
          145.5,
          145,
          146,
          145.5,
          146,
          146,
          146,
          146,
          146,
          145.5,
          146.5,
          146,
          146.5,
          147.5,
          148,
          148.5,
          148.5,
          148.5,
          148,
          148.5,
          148,
          147.5,
          148,
          148.5,
          148.5,
          149.5,
          150.5,
          151,
          151,
          150.5,
          151.5,
          153,
          152.5,
          152,
          152.5,
          151.5,
          151.5,
          151.5,
          153,
          153,
          153,
          153,
          153,
          154.5,
          154,
          154,
          154.5,
          154.5,
          154.5,
          154.5,
          153.5,
          155,
          155,
          155,
          155
         ],
         "type": "candlestick",
         "x": [
          "2022-12-16T12:00:00",
          "2022-12-16T14:00:00",
          "2022-12-16T15:00:00",
          "2022-12-16T16:00:00",
          "2022-12-19T10:00:00",
          "2022-12-19T11:00:00",
          "2022-12-19T12:00:00",
          "2022-12-19T14:00:00",
          "2022-12-19T15:00:00",
          "2022-12-19T16:00:00",
          "2022-12-20T10:00:00",
          "2022-12-20T11:00:00",
          "2022-12-20T12:00:00",
          "2022-12-20T14:00:00",
          "2022-12-20T15:00:00",
          "2022-12-20T16:00:00",
          "2022-12-21T10:00:00",
          "2022-12-21T11:00:00",
          "2022-12-21T12:00:00",
          "2022-12-21T14:00:00",
          "2022-12-21T15:00:00",
          "2022-12-21T16:00:00",
          "2022-12-22T10:00:00",
          "2022-12-22T11:00:00",
          "2022-12-22T12:00:00",
          "2022-12-22T14:00:00",
          "2022-12-22T15:00:00",
          "2022-12-22T16:00:00",
          "2022-12-23T10:00:00",
          "2022-12-23T11:00:00",
          "2022-12-23T12:00:00",
          "2022-12-23T14:00:00",
          "2022-12-23T15:00:00",
          "2022-12-23T16:00:00",
          "2022-12-26T10:00:00",
          "2022-12-26T11:00:00",
          "2022-12-26T12:00:00",
          "2022-12-26T14:00:00",
          "2022-12-26T15:00:00",
          "2022-12-26T16:00:00",
          "2022-12-27T10:00:00",
          "2022-12-27T11:00:00",
          "2022-12-27T12:00:00",
          "2022-12-27T14:00:00",
          "2022-12-27T15:00:00",
          "2022-12-27T16:00:00",
          "2022-12-28T10:00:00",
          "2022-12-28T11:00:00",
          "2022-12-28T12:00:00",
          "2022-12-28T14:00:00",
          "2022-12-28T15:00:00",
          "2022-12-28T16:00:00",
          "2022-12-29T10:00:00",
          "2022-12-29T11:00:00",
          "2022-12-29T12:00:00",
          "2022-12-29T14:00:00",
          "2022-12-29T15:00:00",
          "2022-12-29T16:00:00",
          "2022-12-30T10:00:00",
          "2022-12-30T11:00:00",
          "2022-12-30T12:00:00",
          "2022-12-30T14:00:00",
          "2022-12-30T15:00:00",
          "2022-12-30T16:00:00",
          "2023-01-03T10:00:00",
          "2023-01-03T11:00:00",
          "2023-01-03T12:00:00",
          "2023-01-03T14:00:00",
          "2023-01-03T15:00:00",
          "2023-01-03T16:00:00",
          "2023-01-04T10:00:00",
          "2023-01-04T11:00:00",
          "2023-01-04T12:00:00",
          "2023-01-04T14:00:00",
          "2023-01-04T15:00:00",
          "2023-01-04T16:00:00",
          "2023-01-05T10:00:00",
          "2023-01-05T11:00:00",
          "2023-01-05T12:00:00",
          "2023-01-05T14:00:00",
          "2023-01-05T15:00:00",
          "2023-01-05T16:00:00",
          "2023-01-06T10:00:00",
          "2023-01-06T11:00:00",
          "2023-01-06T12:00:00",
          "2023-01-06T14:00:00",
          "2023-01-06T15:00:00",
          "2023-01-06T16:00:00",
          "2023-01-09T10:00:00",
          "2023-01-09T11:00:00",
          "2023-01-09T12:00:00",
          "2023-01-09T14:00:00",
          "2023-01-09T15:00:00",
          "2023-01-09T16:00:00",
          "2023-01-10T10:00:00",
          "2023-01-10T11:00:00",
          "2023-01-10T12:00:00",
          "2023-01-10T14:00:00",
          "2023-01-10T15:00:00",
          "2023-01-10T16:00:00"
         ]
        }
       ],
       "layout": {
        "template": {
         "data": {
          "bar": [
           {
            "error_x": {
             "color": "#2a3f5f"
            },
            "error_y": {
             "color": "#2a3f5f"
            },
            "marker": {
             "line": {
              "color": "#E5ECF6",
              "width": 0.5
             },
             "pattern": {
              "fillmode": "overlay",
              "size": 10,
              "solidity": 0.2
             }
            },
            "type": "bar"
           }
          ],
          "barpolar": [
           {
            "marker": {
             "line": {
              "color": "#E5ECF6",
              "width": 0.5
             },
             "pattern": {
              "fillmode": "overlay",
              "size": 10,
              "solidity": 0.2
             }
            },
            "type": "barpolar"
           }
          ],
          "carpet": [
           {
            "aaxis": {
             "endlinecolor": "#2a3f5f",
             "gridcolor": "white",
             "linecolor": "white",
             "minorgridcolor": "white",
             "startlinecolor": "#2a3f5f"
            },
            "baxis": {
             "endlinecolor": "#2a3f5f",
             "gridcolor": "white",
             "linecolor": "white",
             "minorgridcolor": "white",
             "startlinecolor": "#2a3f5f"
            },
            "type": "carpet"
           }
          ],
          "choropleth": [
           {
            "colorbar": {
             "outlinewidth": 0,
             "ticks": ""
            },
            "type": "choropleth"
           }
          ],
          "contour": [
           {
            "colorbar": {
             "outlinewidth": 0,
             "ticks": ""
            },
            "colorscale": [
             [
              0,
              "#0d0887"
             ],
             [
              0.1111111111111111,
              "#46039f"
             ],
             [
              0.2222222222222222,
              "#7201a8"
             ],
             [
              0.3333333333333333,
              "#9c179e"
             ],
             [
              0.4444444444444444,
              "#bd3786"
             ],
             [
              0.5555555555555556,
              "#d8576b"
             ],
             [
              0.6666666666666666,
              "#ed7953"
             ],
             [
              0.7777777777777778,
              "#fb9f3a"
             ],
             [
              0.8888888888888888,
              "#fdca26"
             ],
             [
              1,
              "#f0f921"
             ]
            ],
            "type": "contour"
           }
          ],
          "contourcarpet": [
           {
            "colorbar": {
             "outlinewidth": 0,
             "ticks": ""
            },
            "type": "contourcarpet"
           }
          ],
          "heatmap": [
           {
            "colorbar": {
             "outlinewidth": 0,
             "ticks": ""
            },
            "colorscale": [
             [
              0,
              "#0d0887"
             ],
             [
              0.1111111111111111,
              "#46039f"
             ],
             [
              0.2222222222222222,
              "#7201a8"
             ],
             [
              0.3333333333333333,
              "#9c179e"
             ],
             [
              0.4444444444444444,
              "#bd3786"
             ],
             [
              0.5555555555555556,
              "#d8576b"
             ],
             [
              0.6666666666666666,
              "#ed7953"
             ],
             [
              0.7777777777777778,
              "#fb9f3a"
             ],
             [
              0.8888888888888888,
              "#fdca26"
             ],
             [
              1,
              "#f0f921"
             ]
            ],
            "type": "heatmap"
           }
          ],
          "heatmapgl": [
           {
            "colorbar": {
             "outlinewidth": 0,
             "ticks": ""
            },
            "colorscale": [
             [
              0,
              "#0d0887"
             ],
             [
              0.1111111111111111,
              "#46039f"
             ],
             [
              0.2222222222222222,
              "#7201a8"
             ],
             [
              0.3333333333333333,
              "#9c179e"
             ],
             [
              0.4444444444444444,
              "#bd3786"
             ],
             [
              0.5555555555555556,
              "#d8576b"
             ],
             [
              0.6666666666666666,
              "#ed7953"
             ],
             [
              0.7777777777777778,
              "#fb9f3a"
             ],
             [
              0.8888888888888888,
              "#fdca26"
             ],
             [
              1,
              "#f0f921"
             ]
            ],
            "type": "heatmapgl"
           }
          ],
          "histogram": [
           {
            "marker": {
             "pattern": {
              "fillmode": "overlay",
              "size": 10,
              "solidity": 0.2
             }
            },
            "type": "histogram"
           }
          ],
          "histogram2d": [
           {
            "colorbar": {
             "outlinewidth": 0,
             "ticks": ""
            },
            "colorscale": [
             [
              0,
              "#0d0887"
             ],
             [
              0.1111111111111111,
              "#46039f"
             ],
             [
              0.2222222222222222,
              "#7201a8"
             ],
             [
              0.3333333333333333,
              "#9c179e"
             ],
             [
              0.4444444444444444,
              "#bd3786"
             ],
             [
              0.5555555555555556,
              "#d8576b"
             ],
             [
              0.6666666666666666,
              "#ed7953"
             ],
             [
              0.7777777777777778,
              "#fb9f3a"
             ],
             [
              0.8888888888888888,
              "#fdca26"
             ],
             [
              1,
              "#f0f921"
             ]
            ],
            "type": "histogram2d"
           }
          ],
          "histogram2dcontour": [
           {
            "colorbar": {
             "outlinewidth": 0,
             "ticks": ""
            },
            "colorscale": [
             [
              0,
              "#0d0887"
             ],
             [
              0.1111111111111111,
              "#46039f"
             ],
             [
              0.2222222222222222,
              "#7201a8"
             ],
             [
              0.3333333333333333,
              "#9c179e"
             ],
             [
              0.4444444444444444,
              "#bd3786"
             ],
             [
              0.5555555555555556,
              "#d8576b"
             ],
             [
              0.6666666666666666,
              "#ed7953"
             ],
             [
              0.7777777777777778,
              "#fb9f3a"
             ],
             [
              0.8888888888888888,
              "#fdca26"
             ],
             [
              1,
              "#f0f921"
             ]
            ],
            "type": "histogram2dcontour"
           }
          ],
          "mesh3d": [
           {
            "colorbar": {
             "outlinewidth": 0,
             "ticks": ""
            },
            "type": "mesh3d"
           }
          ],
          "parcoords": [
           {
            "line": {
             "colorbar": {
              "outlinewidth": 0,
              "ticks": ""
             }
            },
            "type": "parcoords"
           }
          ],
          "pie": [
           {
            "automargin": true,
            "type": "pie"
           }
          ],
          "scatter": [
           {
            "fillpattern": {
             "fillmode": "overlay",
             "size": 10,
             "solidity": 0.2
            },
            "type": "scatter"
           }
          ],
          "scatter3d": [
           {
            "line": {
             "colorbar": {
              "outlinewidth": 0,
              "ticks": ""
             }
            },
            "marker": {
             "colorbar": {
              "outlinewidth": 0,
              "ticks": ""
             }
            },
            "type": "scatter3d"
           }
          ],
          "scattercarpet": [
           {
            "marker": {
             "colorbar": {
              "outlinewidth": 0,
              "ticks": ""
             }
            },
            "type": "scattercarpet"
           }
          ],
          "scattergeo": [
           {
            "marker": {
             "colorbar": {
              "outlinewidth": 0,
              "ticks": ""
             }
            },
            "type": "scattergeo"
           }
          ],
          "scattergl": [
           {
            "marker": {
             "colorbar": {
              "outlinewidth": 0,
              "ticks": ""
             }
            },
            "type": "scattergl"
           }
          ],
          "scattermapbox": [
           {
            "marker": {
             "colorbar": {
              "outlinewidth": 0,
              "ticks": ""
             }
            },
            "type": "scattermapbox"
           }
          ],
          "scatterpolar": [
           {
            "marker": {
             "colorbar": {
              "outlinewidth": 0,
              "ticks": ""
             }
            },
            "type": "scatterpolar"
           }
          ],
          "scatterpolargl": [
           {
            "marker": {
             "colorbar": {
              "outlinewidth": 0,
              "ticks": ""
             }
            },
            "type": "scatterpolargl"
           }
          ],
          "scatterternary": [
           {
            "marker": {
             "colorbar": {
              "outlinewidth": 0,
              "ticks": ""
             }
            },
            "type": "scatterternary"
           }
          ],
          "surface": [
           {
            "colorbar": {
             "outlinewidth": 0,
             "ticks": ""
            },
            "colorscale": [
             [
              0,
              "#0d0887"
             ],
             [
              0.1111111111111111,
              "#46039f"
             ],
             [
              0.2222222222222222,
              "#7201a8"
             ],
             [
              0.3333333333333333,
              "#9c179e"
             ],
             [
              0.4444444444444444,
              "#bd3786"
             ],
             [
              0.5555555555555556,
              "#d8576b"
             ],
             [
              0.6666666666666666,
              "#ed7953"
             ],
             [
              0.7777777777777778,
              "#fb9f3a"
             ],
             [
              0.8888888888888888,
              "#fdca26"
             ],
             [
              1,
              "#f0f921"
             ]
            ],
            "type": "surface"
           }
          ],
          "table": [
           {
            "cells": {
             "fill": {
              "color": "#EBF0F8"
             },
             "line": {
              "color": "white"
             }
            },
            "header": {
             "fill": {
              "color": "#C8D4E3"
             },
             "line": {
              "color": "white"
             }
            },
            "type": "table"
           }
          ]
         },
         "layout": {
          "annotationdefaults": {
           "arrowcolor": "#2a3f5f",
           "arrowhead": 0,
           "arrowwidth": 1
          },
          "autotypenumbers": "strict",
          "coloraxis": {
           "colorbar": {
            "outlinewidth": 0,
            "ticks": ""
           }
          },
          "colorscale": {
           "diverging": [
            [
             0,
             "#8e0152"
            ],
            [
             0.1,
             "#c51b7d"
            ],
            [
             0.2,
             "#de77ae"
            ],
            [
             0.3,
             "#f1b6da"
            ],
            [
             0.4,
             "#fde0ef"
            ],
            [
             0.5,
             "#f7f7f7"
            ],
            [
             0.6,
             "#e6f5d0"
            ],
            [
             0.7,
             "#b8e186"
            ],
            [
             0.8,
             "#7fbc41"
            ],
            [
             0.9,
             "#4d9221"
            ],
            [
             1,
             "#276419"
            ]
           ],
           "sequential": [
            [
             0,
             "#0d0887"
            ],
            [
             0.1111111111111111,
             "#46039f"
            ],
            [
             0.2222222222222222,
             "#7201a8"
            ],
            [
             0.3333333333333333,
             "#9c179e"
            ],
            [
             0.4444444444444444,
             "#bd3786"
            ],
            [
             0.5555555555555556,
             "#d8576b"
            ],
            [
             0.6666666666666666,
             "#ed7953"
            ],
            [
             0.7777777777777778,
             "#fb9f3a"
            ],
            [
             0.8888888888888888,
             "#fdca26"
            ],
            [
             1,
             "#f0f921"
            ]
           ],
           "sequentialminus": [
            [
             0,
             "#0d0887"
            ],
            [
             0.1111111111111111,
             "#46039f"
            ],
            [
             0.2222222222222222,
             "#7201a8"
            ],
            [
             0.3333333333333333,
             "#9c179e"
            ],
            [
             0.4444444444444444,
             "#bd3786"
            ],
            [
             0.5555555555555556,
             "#d8576b"
            ],
            [
             0.6666666666666666,
             "#ed7953"
            ],
            [
             0.7777777777777778,
             "#fb9f3a"
            ],
            [
             0.8888888888888888,
             "#fdca26"
            ],
            [
             1,
             "#f0f921"
            ]
           ]
          },
          "colorway": [
           "#636efa",
           "#EF553B",
           "#00cc96",
           "#ab63fa",
           "#FFA15A",
           "#19d3f3",
           "#FF6692",
           "#B6E880",
           "#FF97FF",
           "#FECB52"
          ],
          "font": {
           "color": "#2a3f5f"
          },
          "geo": {
           "bgcolor": "white",
           "lakecolor": "white",
           "landcolor": "#E5ECF6",
           "showlakes": true,
           "showland": true,
           "subunitcolor": "white"
          },
          "hoverlabel": {
           "align": "left"
          },
          "hovermode": "closest",
          "mapbox": {
           "style": "light"
          },
          "paper_bgcolor": "white",
          "plot_bgcolor": "#E5ECF6",
          "polar": {
           "angularaxis": {
            "gridcolor": "white",
            "linecolor": "white",
            "ticks": ""
           },
           "bgcolor": "#E5ECF6",
           "radialaxis": {
            "gridcolor": "white",
            "linecolor": "white",
            "ticks": ""
           }
          },
          "scene": {
           "xaxis": {
            "backgroundcolor": "#E5ECF6",
            "gridcolor": "white",
            "gridwidth": 2,
            "linecolor": "white",
            "showbackground": true,
            "ticks": "",
            "zerolinecolor": "white"
           },
           "yaxis": {
            "backgroundcolor": "#E5ECF6",
            "gridcolor": "white",
            "gridwidth": 2,
            "linecolor": "white",
            "showbackground": true,
            "ticks": "",
            "zerolinecolor": "white"
           },
           "zaxis": {
            "backgroundcolor": "#E5ECF6",
            "gridcolor": "white",
            "gridwidth": 2,
            "linecolor": "white",
            "showbackground": true,
            "ticks": "",
            "zerolinecolor": "white"
           }
          },
          "shapedefaults": {
           "line": {
            "color": "#2a3f5f"
           }
          },
          "ternary": {
           "aaxis": {
            "gridcolor": "white",
            "linecolor": "white",
            "ticks": ""
           },
           "baxis": {
            "gridcolor": "white",
            "linecolor": "white",
            "ticks": ""
           },
           "bgcolor": "#E5ECF6",
           "caxis": {
            "gridcolor": "white",
            "linecolor": "white",
            "ticks": ""
           }
          },
          "title": {
           "x": 0.05
          },
          "xaxis": {
           "automargin": true,
           "gridcolor": "white",
           "linecolor": "white",
           "ticks": "",
           "title": {
            "standoff": 15
           },
           "zerolinecolor": "white",
           "zerolinewidth": 2
          },
          "yaxis": {
           "automargin": true,
           "gridcolor": "white",
           "linecolor": "white",
           "ticks": "",
           "title": {
            "standoff": 15
           },
           "zerolinecolor": "white",
           "zerolinewidth": 2
          }
         }
        },
        "xaxis": {
         "rangebreaks": [
          {
           "bounds": [
            17,
            10
           ],
           "pattern": "hour"
          },
          {
           "dvalue": 3600000,
           "values": [
            "2022-12-16 13:00:00",
            "2022-12-16 17:00:00",
            "2022-12-16 18:00:00",
            "2022-12-16 19:00:00",
            "2022-12-16 20:00:00",
            "2022-12-16 21:00:00",
            "2022-12-16 22:00:00",
            "2022-12-16 23:00:00",
            "2022-12-17 00:00:00",
            "2022-12-17 01:00:00",
            "2022-12-17 02:00:00",
            "2022-12-17 03:00:00",
            "2022-12-17 04:00:00",
            "2022-12-17 05:00:00",
            "2022-12-17 06:00:00",
            "2022-12-17 07:00:00",
            "2022-12-17 08:00:00",
            "2022-12-17 09:00:00",
            "2022-12-17 10:00:00",
            "2022-12-17 11:00:00",
            "2022-12-17 12:00:00",
            "2022-12-17 13:00:00",
            "2022-12-17 14:00:00",
            "2022-12-17 15:00:00",
            "2022-12-17 16:00:00",
            "2022-12-17 17:00:00",
            "2022-12-17 18:00:00",
            "2022-12-17 19:00:00",
            "2022-12-17 20:00:00",
            "2022-12-17 21:00:00",
            "2022-12-17 22:00:00",
            "2022-12-17 23:00:00",
            "2022-12-18 00:00:00",
            "2022-12-18 01:00:00",
            "2022-12-18 02:00:00",
            "2022-12-18 03:00:00",
            "2022-12-18 04:00:00",
            "2022-12-18 05:00:00",
            "2022-12-18 06:00:00",
            "2022-12-18 07:00:00",
            "2022-12-18 08:00:00",
            "2022-12-18 09:00:00",
            "2022-12-18 10:00:00",
            "2022-12-18 11:00:00",
            "2022-12-18 12:00:00",
            "2022-12-18 13:00:00",
            "2022-12-18 14:00:00",
            "2022-12-18 15:00:00",
            "2022-12-18 16:00:00",
            "2022-12-18 17:00:00",
            "2022-12-18 18:00:00",
            "2022-12-18 19:00:00",
            "2022-12-18 20:00:00",
            "2022-12-18 21:00:00",
            "2022-12-18 22:00:00",
            "2022-12-18 23:00:00",
            "2022-12-19 00:00:00",
            "2022-12-19 01:00:00",
            "2022-12-19 02:00:00",
            "2022-12-19 03:00:00",
            "2022-12-19 04:00:00",
            "2022-12-19 05:00:00",
            "2022-12-19 06:00:00",
            "2022-12-19 07:00:00",
            "2022-12-19 08:00:00",
            "2022-12-19 09:00:00",
            "2022-12-19 13:00:00",
            "2022-12-19 17:00:00",
            "2022-12-19 18:00:00",
            "2022-12-19 19:00:00",
            "2022-12-19 20:00:00",
            "2022-12-19 21:00:00",
            "2022-12-19 22:00:00",
            "2022-12-19 23:00:00",
            "2022-12-20 00:00:00",
            "2022-12-20 01:00:00",
            "2022-12-20 02:00:00",
            "2022-12-20 03:00:00",
            "2022-12-20 04:00:00",
            "2022-12-20 05:00:00",
            "2022-12-20 06:00:00",
            "2022-12-20 07:00:00",
            "2022-12-20 08:00:00",
            "2022-12-20 09:00:00",
            "2022-12-20 13:00:00",
            "2022-12-20 17:00:00",
            "2022-12-20 18:00:00",
            "2022-12-20 19:00:00",
            "2022-12-20 20:00:00",
            "2022-12-20 21:00:00",
            "2022-12-20 22:00:00",
            "2022-12-20 23:00:00",
            "2022-12-21 00:00:00",
            "2022-12-21 01:00:00",
            "2022-12-21 02:00:00",
            "2022-12-21 03:00:00",
            "2022-12-21 04:00:00",
            "2022-12-21 05:00:00",
            "2022-12-21 06:00:00",
            "2022-12-21 07:00:00",
            "2022-12-21 08:00:00",
            "2022-12-21 09:00:00",
            "2022-12-21 13:00:00",
            "2022-12-21 17:00:00",
            "2022-12-21 18:00:00",
            "2022-12-21 19:00:00",
            "2022-12-21 20:00:00",
            "2022-12-21 21:00:00",
            "2022-12-21 22:00:00",
            "2022-12-21 23:00:00",
            "2022-12-22 00:00:00",
            "2022-12-22 01:00:00",
            "2022-12-22 02:00:00",
            "2022-12-22 03:00:00",
            "2022-12-22 04:00:00",
            "2022-12-22 05:00:00",
            "2022-12-22 06:00:00",
            "2022-12-22 07:00:00",
            "2022-12-22 08:00:00",
            "2022-12-22 09:00:00",
            "2022-12-22 13:00:00",
            "2022-12-22 17:00:00",
            "2022-12-22 18:00:00",
            "2022-12-22 19:00:00",
            "2022-12-22 20:00:00",
            "2022-12-22 21:00:00",
            "2022-12-22 22:00:00",
            "2022-12-22 23:00:00",
            "2022-12-23 00:00:00",
            "2022-12-23 01:00:00",
            "2022-12-23 02:00:00",
            "2022-12-23 03:00:00",
            "2022-12-23 04:00:00",
            "2022-12-23 05:00:00",
            "2022-12-23 06:00:00",
            "2022-12-23 07:00:00",
            "2022-12-23 08:00:00",
            "2022-12-23 09:00:00",
            "2022-12-23 13:00:00",
            "2022-12-23 17:00:00",
            "2022-12-23 18:00:00",
            "2022-12-23 19:00:00",
            "2022-12-23 20:00:00",
            "2022-12-23 21:00:00",
            "2022-12-23 22:00:00",
            "2022-12-23 23:00:00",
            "2022-12-24 00:00:00",
            "2022-12-24 01:00:00",
            "2022-12-24 02:00:00",
            "2022-12-24 03:00:00",
            "2022-12-24 04:00:00",
            "2022-12-24 05:00:00",
            "2022-12-24 06:00:00",
            "2022-12-24 07:00:00",
            "2022-12-24 08:00:00",
            "2022-12-24 09:00:00",
            "2022-12-24 10:00:00",
            "2022-12-24 11:00:00",
            "2022-12-24 12:00:00",
            "2022-12-24 13:00:00",
            "2022-12-24 14:00:00",
            "2022-12-24 15:00:00",
            "2022-12-24 16:00:00",
            "2022-12-24 17:00:00",
            "2022-12-24 18:00:00",
            "2022-12-24 19:00:00",
            "2022-12-24 20:00:00",
            "2022-12-24 21:00:00",
            "2022-12-24 22:00:00",
            "2022-12-24 23:00:00",
            "2022-12-25 00:00:00",
            "2022-12-25 01:00:00",
            "2022-12-25 02:00:00",
            "2022-12-25 03:00:00",
            "2022-12-25 04:00:00",
            "2022-12-25 05:00:00",
            "2022-12-25 06:00:00",
            "2022-12-25 07:00:00",
            "2022-12-25 08:00:00",
            "2022-12-25 09:00:00",
            "2022-12-25 10:00:00",
            "2022-12-25 11:00:00",
            "2022-12-25 12:00:00",
            "2022-12-25 13:00:00",
            "2022-12-25 14:00:00",
            "2022-12-25 15:00:00",
            "2022-12-25 16:00:00",
            "2022-12-25 17:00:00",
            "2022-12-25 18:00:00",
            "2022-12-25 19:00:00",
            "2022-12-25 20:00:00",
            "2022-12-25 21:00:00",
            "2022-12-25 22:00:00",
            "2022-12-25 23:00:00",
            "2022-12-26 00:00:00",
            "2022-12-26 01:00:00",
            "2022-12-26 02:00:00",
            "2022-12-26 03:00:00",
            "2022-12-26 04:00:00",
            "2022-12-26 05:00:00",
            "2022-12-26 06:00:00",
            "2022-12-26 07:00:00",
            "2022-12-26 08:00:00",
            "2022-12-26 09:00:00",
            "2022-12-26 13:00:00",
            "2022-12-26 17:00:00",
            "2022-12-26 18:00:00",
            "2022-12-26 19:00:00",
            "2022-12-26 20:00:00",
            "2022-12-26 21:00:00",
            "2022-12-26 22:00:00",
            "2022-12-26 23:00:00",
            "2022-12-27 00:00:00",
            "2022-12-27 01:00:00",
            "2022-12-27 02:00:00",
            "2022-12-27 03:00:00",
            "2022-12-27 04:00:00",
            "2022-12-27 05:00:00",
            "2022-12-27 06:00:00",
            "2022-12-27 07:00:00",
            "2022-12-27 08:00:00",
            "2022-12-27 09:00:00",
            "2022-12-27 13:00:00",
            "2022-12-27 17:00:00",
            "2022-12-27 18:00:00",
            "2022-12-27 19:00:00",
            "2022-12-27 20:00:00",
            "2022-12-27 21:00:00",
            "2022-12-27 22:00:00",
            "2022-12-27 23:00:00",
            "2022-12-28 00:00:00",
            "2022-12-28 01:00:00",
            "2022-12-28 02:00:00",
            "2022-12-28 03:00:00",
            "2022-12-28 04:00:00",
            "2022-12-28 05:00:00",
            "2022-12-28 06:00:00",
            "2022-12-28 07:00:00",
            "2022-12-28 08:00:00",
            "2022-12-28 09:00:00",
            "2022-12-28 13:00:00",
            "2022-12-28 17:00:00",
            "2022-12-28 18:00:00",
            "2022-12-28 19:00:00",
            "2022-12-28 20:00:00",
            "2022-12-28 21:00:00",
            "2022-12-28 22:00:00",
            "2022-12-28 23:00:00",
            "2022-12-29 00:00:00",
            "2022-12-29 01:00:00",
            "2022-12-29 02:00:00",
            "2022-12-29 03:00:00",
            "2022-12-29 04:00:00",
            "2022-12-29 05:00:00",
            "2022-12-29 06:00:00",
            "2022-12-29 07:00:00",
            "2022-12-29 08:00:00",
            "2022-12-29 09:00:00",
            "2022-12-29 13:00:00",
            "2022-12-29 17:00:00",
            "2022-12-29 18:00:00",
            "2022-12-29 19:00:00",
            "2022-12-29 20:00:00",
            "2022-12-29 21:00:00",
            "2022-12-29 22:00:00",
            "2022-12-29 23:00:00",
            "2022-12-30 00:00:00",
            "2022-12-30 01:00:00",
            "2022-12-30 02:00:00",
            "2022-12-30 03:00:00",
            "2022-12-30 04:00:00",
            "2022-12-30 05:00:00",
            "2022-12-30 06:00:00",
            "2022-12-30 07:00:00",
            "2022-12-30 08:00:00",
            "2022-12-30 09:00:00",
            "2022-12-30 13:00:00",
            "2022-12-30 17:00:00",
            "2022-12-30 18:00:00",
            "2022-12-30 19:00:00",
            "2022-12-30 20:00:00",
            "2022-12-30 21:00:00",
            "2022-12-30 22:00:00",
            "2022-12-30 23:00:00",
            "2022-12-31 00:00:00",
            "2022-12-31 01:00:00",
            "2022-12-31 02:00:00",
            "2022-12-31 03:00:00",
            "2022-12-31 04:00:00",
            "2022-12-31 05:00:00",
            "2022-12-31 06:00:00",
            "2022-12-31 07:00:00",
            "2022-12-31 08:00:00",
            "2022-12-31 09:00:00",
            "2022-12-31 10:00:00",
            "2022-12-31 11:00:00",
            "2022-12-31 12:00:00",
            "2022-12-31 13:00:00",
            "2022-12-31 14:00:00",
            "2022-12-31 15:00:00",
            "2022-12-31 16:00:00",
            "2022-12-31 17:00:00",
            "2022-12-31 18:00:00",
            "2022-12-31 19:00:00",
            "2022-12-31 20:00:00",
            "2022-12-31 21:00:00",
            "2022-12-31 22:00:00",
            "2022-12-31 23:00:00",
            "2023-01-01 00:00:00",
            "2023-01-01 01:00:00",
            "2023-01-01 02:00:00",
            "2023-01-01 03:00:00",
            "2023-01-01 04:00:00",
            "2023-01-01 05:00:00",
            "2023-01-01 06:00:00",
            "2023-01-01 07:00:00",
            "2023-01-01 08:00:00",
            "2023-01-01 09:00:00",
            "2023-01-01 10:00:00",
            "2023-01-01 11:00:00",
            "2023-01-01 12:00:00",
            "2023-01-01 13:00:00",
            "2023-01-01 14:00:00",
            "2023-01-01 15:00:00",
            "2023-01-01 16:00:00",
            "2023-01-01 17:00:00",
            "2023-01-01 18:00:00",
            "2023-01-01 19:00:00",
            "2023-01-01 20:00:00",
            "2023-01-01 21:00:00",
            "2023-01-01 22:00:00",
            "2023-01-01 23:00:00",
            "2023-01-02 00:00:00",
            "2023-01-02 01:00:00",
            "2023-01-02 02:00:00",
            "2023-01-02 03:00:00",
            "2023-01-02 04:00:00",
            "2023-01-02 05:00:00",
            "2023-01-02 06:00:00",
            "2023-01-02 07:00:00",
            "2023-01-02 08:00:00",
            "2023-01-02 09:00:00",
            "2023-01-02 10:00:00",
            "2023-01-02 11:00:00",
            "2023-01-02 12:00:00",
            "2023-01-02 13:00:00",
            "2023-01-02 14:00:00",
            "2023-01-02 15:00:00",
            "2023-01-02 16:00:00",
            "2023-01-02 17:00:00",
            "2023-01-02 18:00:00",
            "2023-01-02 19:00:00",
            "2023-01-02 20:00:00",
            "2023-01-02 21:00:00",
            "2023-01-02 22:00:00",
            "2023-01-02 23:00:00",
            "2023-01-03 00:00:00",
            "2023-01-03 01:00:00",
            "2023-01-03 02:00:00",
            "2023-01-03 03:00:00",
            "2023-01-03 04:00:00",
            "2023-01-03 05:00:00",
            "2023-01-03 06:00:00",
            "2023-01-03 07:00:00",
            "2023-01-03 08:00:00",
            "2023-01-03 09:00:00",
            "2023-01-03 13:00:00",
            "2023-01-03 17:00:00",
            "2023-01-03 18:00:00",
            "2023-01-03 19:00:00",
            "2023-01-03 20:00:00",
            "2023-01-03 21:00:00",
            "2023-01-03 22:00:00",
            "2023-01-03 23:00:00",
            "2023-01-04 00:00:00",
            "2023-01-04 01:00:00",
            "2023-01-04 02:00:00",
            "2023-01-04 03:00:00",
            "2023-01-04 04:00:00",
            "2023-01-04 05:00:00",
            "2023-01-04 06:00:00",
            "2023-01-04 07:00:00",
            "2023-01-04 08:00:00",
            "2023-01-04 09:00:00",
            "2023-01-04 13:00:00",
            "2023-01-04 17:00:00",
            "2023-01-04 18:00:00",
            "2023-01-04 19:00:00",
            "2023-01-04 20:00:00",
            "2023-01-04 21:00:00",
            "2023-01-04 22:00:00",
            "2023-01-04 23:00:00",
            "2023-01-05 00:00:00",
            "2023-01-05 01:00:00",
            "2023-01-05 02:00:00",
            "2023-01-05 03:00:00",
            "2023-01-05 04:00:00",
            "2023-01-05 05:00:00",
            "2023-01-05 06:00:00",
            "2023-01-05 07:00:00",
            "2023-01-05 08:00:00",
            "2023-01-05 09:00:00",
            "2023-01-05 13:00:00",
            "2023-01-05 17:00:00",
            "2023-01-05 18:00:00",
            "2023-01-05 19:00:00",
            "2023-01-05 20:00:00",
            "2023-01-05 21:00:00",
            "2023-01-05 22:00:00",
            "2023-01-05 23:00:00",
            "2023-01-06 00:00:00",
            "2023-01-06 01:00:00",
            "2023-01-06 02:00:00",
            "2023-01-06 03:00:00",
            "2023-01-06 04:00:00",
            "2023-01-06 05:00:00",
            "2023-01-06 06:00:00",
            "2023-01-06 07:00:00",
            "2023-01-06 08:00:00",
            "2023-01-06 09:00:00",
            "2023-01-06 13:00:00",
            "2023-01-06 17:00:00",
            "2023-01-06 18:00:00",
            "2023-01-06 19:00:00",
            "2023-01-06 20:00:00",
            "2023-01-06 21:00:00",
            "2023-01-06 22:00:00",
            "2023-01-06 23:00:00",
            "2023-01-07 00:00:00",
            "2023-01-07 01:00:00",
            "2023-01-07 02:00:00",
            "2023-01-07 03:00:00",
            "2023-01-07 04:00:00",
            "2023-01-07 05:00:00",
            "2023-01-07 06:00:00",
            "2023-01-07 07:00:00",
            "2023-01-07 08:00:00",
            "2023-01-07 09:00:00",
            "2023-01-07 10:00:00",
            "2023-01-07 11:00:00",
            "2023-01-07 12:00:00",
            "2023-01-07 13:00:00",
            "2023-01-07 14:00:00",
            "2023-01-07 15:00:00",
            "2023-01-07 16:00:00",
            "2023-01-07 17:00:00",
            "2023-01-07 18:00:00",
            "2023-01-07 19:00:00",
            "2023-01-07 20:00:00",
            "2023-01-07 21:00:00",
            "2023-01-07 22:00:00",
            "2023-01-07 23:00:00",
            "2023-01-08 00:00:00",
            "2023-01-08 01:00:00",
            "2023-01-08 02:00:00",
            "2023-01-08 03:00:00",
            "2023-01-08 04:00:00",
            "2023-01-08 05:00:00",
            "2023-01-08 06:00:00",
            "2023-01-08 07:00:00",
            "2023-01-08 08:00:00",
            "2023-01-08 09:00:00",
            "2023-01-08 10:00:00",
            "2023-01-08 11:00:00",
            "2023-01-08 12:00:00",
            "2023-01-08 13:00:00",
            "2023-01-08 14:00:00",
            "2023-01-08 15:00:00",
            "2023-01-08 16:00:00",
            "2023-01-08 17:00:00",
            "2023-01-08 18:00:00",
            "2023-01-08 19:00:00",
            "2023-01-08 20:00:00",
            "2023-01-08 21:00:00",
            "2023-01-08 22:00:00",
            "2023-01-08 23:00:00",
            "2023-01-09 00:00:00",
            "2023-01-09 01:00:00",
            "2023-01-09 02:00:00",
            "2023-01-09 03:00:00",
            "2023-01-09 04:00:00",
            "2023-01-09 05:00:00",
            "2023-01-09 06:00:00",
            "2023-01-09 07:00:00",
            "2023-01-09 08:00:00",
            "2023-01-09 09:00:00",
            "2023-01-09 13:00:00",
            "2023-01-09 17:00:00",
            "2023-01-09 18:00:00",
            "2023-01-09 19:00:00",
            "2023-01-09 20:00:00",
            "2023-01-09 21:00:00",
            "2023-01-09 22:00:00",
            "2023-01-09 23:00:00",
            "2023-01-10 00:00:00",
            "2023-01-10 01:00:00",
            "2023-01-10 02:00:00",
            "2023-01-10 03:00:00",
            "2023-01-10 04:00:00",
            "2023-01-10 05:00:00",
            "2023-01-10 06:00:00",
            "2023-01-10 07:00:00",
            "2023-01-10 08:00:00",
            "2023-01-10 09:00:00",
            "2023-01-10 13:00:00"
           ]
          }
         ]
        }
       }
      }
     },
     "metadata": {},
     "output_type": "display_data"
    }
   ],
   "source": [
    "fig = go.Figure(data=[go.Candlestick(\n",
    "                        x=df1h['Datetime'],\n",
    "                        open=df1h['Open'],\n",
    "                        high=df1h['High'],\n",
    "                        low=df1h['Low'],\n",
    "                        close=df1h['Close']\n",
    ")])\n",
    "\n",
    "fig.update_xaxes(\n",
    "    rangebreaks=[\n",
    "        dict(bounds=[17, 10], pattern=\"hour\"),\n",
    "        dict(values=missing_datetime, dvalue=3600000)\n",
    "    ])\n",
    "\n",
    "fig.show()"
   ]
  },
  {
   "cell_type": "code",
   "execution_count": 19,
   "metadata": {},
   "outputs": [],
   "source": [
    "agg_dict = {'Open': 'first',\n",
    "          'High': 'max',\n",
    "          'Low': 'min',\n",
    "          'Close': 'last',\n",
    "          'Adj Close': 'last',\n",
    "          'Volume': 'sum'}\n",
    "\n",
    "df1d = pd.read_csv(\"stock_data1D.csv\")\n",
    "df1d['Date'] = pd.to_datetime(df1d['Date'])\n",
    "df1d.set_index('Date', inplace=True)\n",
    "df1d = df1d[(df1d.Symbol == 'KBANK')].tail(100)\n",
    "re_df1w = df1d.resample('W').agg(agg_dict)\n",
    "re_df1w = re_df1w.reset_index()"
   ]
  },
  {
   "cell_type": "code",
   "execution_count": 20,
   "metadata": {},
   "outputs": [
    {
     "data": {
      "application/vnd.plotly.v1+json": {
       "config": {
        "plotlyServerURL": "https://plot.ly"
       },
       "data": [
        {
         "close": [
          154,
          157,
          152,
          149,
          148,
          151.5,
          144,
          143,
          144,
          146,
          142.5,
          148.5,
          148,
          143,
          143.5,
          142.5,
          143,
          143.5,
          144,
          147.5,
          153,
          155.5
         ],
         "high": [
          155.5,
          158.5,
          156.5,
          153,
          152,
          152,
          151.5,
          144,
          145,
          149,
          144.5,
          149.5,
          150,
          147,
          144.5,
          146,
          144,
          144,
          145.5,
          148.5,
          154,
          155.5
         ],
         "low": [
          151,
          152,
          151.5,
          147,
          147,
          148,
          142.5,
          140,
          141,
          143.5,
          140,
          143,
          146,
          142,
          142,
          141.5,
          141,
          142,
          143,
          143.5,
          147,
          153
         ],
         "open": [
          151.5,
          153.5,
          154.5,
          152,
          150,
          148,
          151,
          143,
          142,
          144,
          144.5,
          143.5,
          149,
          146,
          143,
          142.5,
          141.5,
          144,
          144,
          143.5,
          148,
          154.5
         ],
         "type": "candlestick",
         "x": [
          "2022-08-21T00:00:00",
          "2022-08-28T00:00:00",
          "2022-09-04T00:00:00",
          "2022-09-11T00:00:00",
          "2022-09-18T00:00:00",
          "2022-09-25T00:00:00",
          "2022-10-02T00:00:00",
          "2022-10-09T00:00:00",
          "2022-10-16T00:00:00",
          "2022-10-23T00:00:00",
          "2022-10-30T00:00:00",
          "2022-11-06T00:00:00",
          "2022-11-13T00:00:00",
          "2022-11-20T00:00:00",
          "2022-11-27T00:00:00",
          "2022-12-04T00:00:00",
          "2022-12-11T00:00:00",
          "2022-12-18T00:00:00",
          "2022-12-25T00:00:00",
          "2023-01-01T00:00:00",
          "2023-01-08T00:00:00",
          "2023-01-15T00:00:00"
         ]
        }
       ],
       "layout": {
        "template": {
         "data": {
          "bar": [
           {
            "error_x": {
             "color": "#2a3f5f"
            },
            "error_y": {
             "color": "#2a3f5f"
            },
            "marker": {
             "line": {
              "color": "#E5ECF6",
              "width": 0.5
             },
             "pattern": {
              "fillmode": "overlay",
              "size": 10,
              "solidity": 0.2
             }
            },
            "type": "bar"
           }
          ],
          "barpolar": [
           {
            "marker": {
             "line": {
              "color": "#E5ECF6",
              "width": 0.5
             },
             "pattern": {
              "fillmode": "overlay",
              "size": 10,
              "solidity": 0.2
             }
            },
            "type": "barpolar"
           }
          ],
          "carpet": [
           {
            "aaxis": {
             "endlinecolor": "#2a3f5f",
             "gridcolor": "white",
             "linecolor": "white",
             "minorgridcolor": "white",
             "startlinecolor": "#2a3f5f"
            },
            "baxis": {
             "endlinecolor": "#2a3f5f",
             "gridcolor": "white",
             "linecolor": "white",
             "minorgridcolor": "white",
             "startlinecolor": "#2a3f5f"
            },
            "type": "carpet"
           }
          ],
          "choropleth": [
           {
            "colorbar": {
             "outlinewidth": 0,
             "ticks": ""
            },
            "type": "choropleth"
           }
          ],
          "contour": [
           {
            "colorbar": {
             "outlinewidth": 0,
             "ticks": ""
            },
            "colorscale": [
             [
              0,
              "#0d0887"
             ],
             [
              0.1111111111111111,
              "#46039f"
             ],
             [
              0.2222222222222222,
              "#7201a8"
             ],
             [
              0.3333333333333333,
              "#9c179e"
             ],
             [
              0.4444444444444444,
              "#bd3786"
             ],
             [
              0.5555555555555556,
              "#d8576b"
             ],
             [
              0.6666666666666666,
              "#ed7953"
             ],
             [
              0.7777777777777778,
              "#fb9f3a"
             ],
             [
              0.8888888888888888,
              "#fdca26"
             ],
             [
              1,
              "#f0f921"
             ]
            ],
            "type": "contour"
           }
          ],
          "contourcarpet": [
           {
            "colorbar": {
             "outlinewidth": 0,
             "ticks": ""
            },
            "type": "contourcarpet"
           }
          ],
          "heatmap": [
           {
            "colorbar": {
             "outlinewidth": 0,
             "ticks": ""
            },
            "colorscale": [
             [
              0,
              "#0d0887"
             ],
             [
              0.1111111111111111,
              "#46039f"
             ],
             [
              0.2222222222222222,
              "#7201a8"
             ],
             [
              0.3333333333333333,
              "#9c179e"
             ],
             [
              0.4444444444444444,
              "#bd3786"
             ],
             [
              0.5555555555555556,
              "#d8576b"
             ],
             [
              0.6666666666666666,
              "#ed7953"
             ],
             [
              0.7777777777777778,
              "#fb9f3a"
             ],
             [
              0.8888888888888888,
              "#fdca26"
             ],
             [
              1,
              "#f0f921"
             ]
            ],
            "type": "heatmap"
           }
          ],
          "heatmapgl": [
           {
            "colorbar": {
             "outlinewidth": 0,
             "ticks": ""
            },
            "colorscale": [
             [
              0,
              "#0d0887"
             ],
             [
              0.1111111111111111,
              "#46039f"
             ],
             [
              0.2222222222222222,
              "#7201a8"
             ],
             [
              0.3333333333333333,
              "#9c179e"
             ],
             [
              0.4444444444444444,
              "#bd3786"
             ],
             [
              0.5555555555555556,
              "#d8576b"
             ],
             [
              0.6666666666666666,
              "#ed7953"
             ],
             [
              0.7777777777777778,
              "#fb9f3a"
             ],
             [
              0.8888888888888888,
              "#fdca26"
             ],
             [
              1,
              "#f0f921"
             ]
            ],
            "type": "heatmapgl"
           }
          ],
          "histogram": [
           {
            "marker": {
             "pattern": {
              "fillmode": "overlay",
              "size": 10,
              "solidity": 0.2
             }
            },
            "type": "histogram"
           }
          ],
          "histogram2d": [
           {
            "colorbar": {
             "outlinewidth": 0,
             "ticks": ""
            },
            "colorscale": [
             [
              0,
              "#0d0887"
             ],
             [
              0.1111111111111111,
              "#46039f"
             ],
             [
              0.2222222222222222,
              "#7201a8"
             ],
             [
              0.3333333333333333,
              "#9c179e"
             ],
             [
              0.4444444444444444,
              "#bd3786"
             ],
             [
              0.5555555555555556,
              "#d8576b"
             ],
             [
              0.6666666666666666,
              "#ed7953"
             ],
             [
              0.7777777777777778,
              "#fb9f3a"
             ],
             [
              0.8888888888888888,
              "#fdca26"
             ],
             [
              1,
              "#f0f921"
             ]
            ],
            "type": "histogram2d"
           }
          ],
          "histogram2dcontour": [
           {
            "colorbar": {
             "outlinewidth": 0,
             "ticks": ""
            },
            "colorscale": [
             [
              0,
              "#0d0887"
             ],
             [
              0.1111111111111111,
              "#46039f"
             ],
             [
              0.2222222222222222,
              "#7201a8"
             ],
             [
              0.3333333333333333,
              "#9c179e"
             ],
             [
              0.4444444444444444,
              "#bd3786"
             ],
             [
              0.5555555555555556,
              "#d8576b"
             ],
             [
              0.6666666666666666,
              "#ed7953"
             ],
             [
              0.7777777777777778,
              "#fb9f3a"
             ],
             [
              0.8888888888888888,
              "#fdca26"
             ],
             [
              1,
              "#f0f921"
             ]
            ],
            "type": "histogram2dcontour"
           }
          ],
          "mesh3d": [
           {
            "colorbar": {
             "outlinewidth": 0,
             "ticks": ""
            },
            "type": "mesh3d"
           }
          ],
          "parcoords": [
           {
            "line": {
             "colorbar": {
              "outlinewidth": 0,
              "ticks": ""
             }
            },
            "type": "parcoords"
           }
          ],
          "pie": [
           {
            "automargin": true,
            "type": "pie"
           }
          ],
          "scatter": [
           {
            "fillpattern": {
             "fillmode": "overlay",
             "size": 10,
             "solidity": 0.2
            },
            "type": "scatter"
           }
          ],
          "scatter3d": [
           {
            "line": {
             "colorbar": {
              "outlinewidth": 0,
              "ticks": ""
             }
            },
            "marker": {
             "colorbar": {
              "outlinewidth": 0,
              "ticks": ""
             }
            },
            "type": "scatter3d"
           }
          ],
          "scattercarpet": [
           {
            "marker": {
             "colorbar": {
              "outlinewidth": 0,
              "ticks": ""
             }
            },
            "type": "scattercarpet"
           }
          ],
          "scattergeo": [
           {
            "marker": {
             "colorbar": {
              "outlinewidth": 0,
              "ticks": ""
             }
            },
            "type": "scattergeo"
           }
          ],
          "scattergl": [
           {
            "marker": {
             "colorbar": {
              "outlinewidth": 0,
              "ticks": ""
             }
            },
            "type": "scattergl"
           }
          ],
          "scattermapbox": [
           {
            "marker": {
             "colorbar": {
              "outlinewidth": 0,
              "ticks": ""
             }
            },
            "type": "scattermapbox"
           }
          ],
          "scatterpolar": [
           {
            "marker": {
             "colorbar": {
              "outlinewidth": 0,
              "ticks": ""
             }
            },
            "type": "scatterpolar"
           }
          ],
          "scatterpolargl": [
           {
            "marker": {
             "colorbar": {
              "outlinewidth": 0,
              "ticks": ""
             }
            },
            "type": "scatterpolargl"
           }
          ],
          "scatterternary": [
           {
            "marker": {
             "colorbar": {
              "outlinewidth": 0,
              "ticks": ""
             }
            },
            "type": "scatterternary"
           }
          ],
          "surface": [
           {
            "colorbar": {
             "outlinewidth": 0,
             "ticks": ""
            },
            "colorscale": [
             [
              0,
              "#0d0887"
             ],
             [
              0.1111111111111111,
              "#46039f"
             ],
             [
              0.2222222222222222,
              "#7201a8"
             ],
             [
              0.3333333333333333,
              "#9c179e"
             ],
             [
              0.4444444444444444,
              "#bd3786"
             ],
             [
              0.5555555555555556,
              "#d8576b"
             ],
             [
              0.6666666666666666,
              "#ed7953"
             ],
             [
              0.7777777777777778,
              "#fb9f3a"
             ],
             [
              0.8888888888888888,
              "#fdca26"
             ],
             [
              1,
              "#f0f921"
             ]
            ],
            "type": "surface"
           }
          ],
          "table": [
           {
            "cells": {
             "fill": {
              "color": "#EBF0F8"
             },
             "line": {
              "color": "white"
             }
            },
            "header": {
             "fill": {
              "color": "#C8D4E3"
             },
             "line": {
              "color": "white"
             }
            },
            "type": "table"
           }
          ]
         },
         "layout": {
          "annotationdefaults": {
           "arrowcolor": "#2a3f5f",
           "arrowhead": 0,
           "arrowwidth": 1
          },
          "autotypenumbers": "strict",
          "coloraxis": {
           "colorbar": {
            "outlinewidth": 0,
            "ticks": ""
           }
          },
          "colorscale": {
           "diverging": [
            [
             0,
             "#8e0152"
            ],
            [
             0.1,
             "#c51b7d"
            ],
            [
             0.2,
             "#de77ae"
            ],
            [
             0.3,
             "#f1b6da"
            ],
            [
             0.4,
             "#fde0ef"
            ],
            [
             0.5,
             "#f7f7f7"
            ],
            [
             0.6,
             "#e6f5d0"
            ],
            [
             0.7,
             "#b8e186"
            ],
            [
             0.8,
             "#7fbc41"
            ],
            [
             0.9,
             "#4d9221"
            ],
            [
             1,
             "#276419"
            ]
           ],
           "sequential": [
            [
             0,
             "#0d0887"
            ],
            [
             0.1111111111111111,
             "#46039f"
            ],
            [
             0.2222222222222222,
             "#7201a8"
            ],
            [
             0.3333333333333333,
             "#9c179e"
            ],
            [
             0.4444444444444444,
             "#bd3786"
            ],
            [
             0.5555555555555556,
             "#d8576b"
            ],
            [
             0.6666666666666666,
             "#ed7953"
            ],
            [
             0.7777777777777778,
             "#fb9f3a"
            ],
            [
             0.8888888888888888,
             "#fdca26"
            ],
            [
             1,
             "#f0f921"
            ]
           ],
           "sequentialminus": [
            [
             0,
             "#0d0887"
            ],
            [
             0.1111111111111111,
             "#46039f"
            ],
            [
             0.2222222222222222,
             "#7201a8"
            ],
            [
             0.3333333333333333,
             "#9c179e"
            ],
            [
             0.4444444444444444,
             "#bd3786"
            ],
            [
             0.5555555555555556,
             "#d8576b"
            ],
            [
             0.6666666666666666,
             "#ed7953"
            ],
            [
             0.7777777777777778,
             "#fb9f3a"
            ],
            [
             0.8888888888888888,
             "#fdca26"
            ],
            [
             1,
             "#f0f921"
            ]
           ]
          },
          "colorway": [
           "#636efa",
           "#EF553B",
           "#00cc96",
           "#ab63fa",
           "#FFA15A",
           "#19d3f3",
           "#FF6692",
           "#B6E880",
           "#FF97FF",
           "#FECB52"
          ],
          "font": {
           "color": "#2a3f5f"
          },
          "geo": {
           "bgcolor": "white",
           "lakecolor": "white",
           "landcolor": "#E5ECF6",
           "showlakes": true,
           "showland": true,
           "subunitcolor": "white"
          },
          "hoverlabel": {
           "align": "left"
          },
          "hovermode": "closest",
          "mapbox": {
           "style": "light"
          },
          "paper_bgcolor": "white",
          "plot_bgcolor": "#E5ECF6",
          "polar": {
           "angularaxis": {
            "gridcolor": "white",
            "linecolor": "white",
            "ticks": ""
           },
           "bgcolor": "#E5ECF6",
           "radialaxis": {
            "gridcolor": "white",
            "linecolor": "white",
            "ticks": ""
           }
          },
          "scene": {
           "xaxis": {
            "backgroundcolor": "#E5ECF6",
            "gridcolor": "white",
            "gridwidth": 2,
            "linecolor": "white",
            "showbackground": true,
            "ticks": "",
            "zerolinecolor": "white"
           },
           "yaxis": {
            "backgroundcolor": "#E5ECF6",
            "gridcolor": "white",
            "gridwidth": 2,
            "linecolor": "white",
            "showbackground": true,
            "ticks": "",
            "zerolinecolor": "white"
           },
           "zaxis": {
            "backgroundcolor": "#E5ECF6",
            "gridcolor": "white",
            "gridwidth": 2,
            "linecolor": "white",
            "showbackground": true,
            "ticks": "",
            "zerolinecolor": "white"
           }
          },
          "shapedefaults": {
           "line": {
            "color": "#2a3f5f"
           }
          },
          "ternary": {
           "aaxis": {
            "gridcolor": "white",
            "linecolor": "white",
            "ticks": ""
           },
           "baxis": {
            "gridcolor": "white",
            "linecolor": "white",
            "ticks": ""
           },
           "bgcolor": "#E5ECF6",
           "caxis": {
            "gridcolor": "white",
            "linecolor": "white",
            "ticks": ""
           }
          },
          "title": {
           "x": 0.05
          },
          "xaxis": {
           "automargin": true,
           "gridcolor": "white",
           "linecolor": "white",
           "ticks": "",
           "title": {
            "standoff": 15
           },
           "zerolinecolor": "white",
           "zerolinewidth": 2
          },
          "yaxis": {
           "automargin": true,
           "gridcolor": "white",
           "linecolor": "white",
           "ticks": "",
           "title": {
            "standoff": 15
           },
           "zerolinecolor": "white",
           "zerolinewidth": 2
          }
         }
        }
       }
      }
     },
     "metadata": {},
     "output_type": "display_data"
    }
   ],
   "source": [
    "fig = go.Figure(data=[go.Candlestick(\n",
    "                        x=re_df1w['Date'],\n",
    "                        open=re_df1w['Open'],\n",
    "                        high=re_df1w['High'],\n",
    "                        low=re_df1w['Low'],\n",
    "                        close=re_df1w['Close']\n",
    ")])\n",
    "\n",
    "fig.show()"
   ]
  },
  {
   "cell_type": "code",
   "execution_count": 21,
   "metadata": {},
   "outputs": [],
   "source": [
    "re_df1m = df1d.resample('M').agg(agg_dict)\n",
    "re_df1m = re_df1m.reset_index()"
   ]
  },
  {
   "cell_type": "code",
   "execution_count": 22,
   "metadata": {},
   "outputs": [
    {
     "data": {
      "application/vnd.plotly.v1+json": {
       "config": {
        "plotlyServerURL": "https://plot.ly"
       },
       "data": [
        {
         "close": [
          153.5,
          144,
          146,
          144.5,
          147.5,
          155.5
         ],
         "high": [
          158.5,
          154,
          149,
          150,
          148.5,
          155.5
         ],
         "low": [
          151,
          142.5,
          140,
          141.5,
          141,
          147
         ],
         "open": [
          151.5,
          153,
          143,
          147.5,
          144.5,
          148
         ],
         "type": "candlestick",
         "x": [
          "2022-08-31T00:00:00",
          "2022-09-30T00:00:00",
          "2022-10-31T00:00:00",
          "2022-11-30T00:00:00",
          "2022-12-31T00:00:00",
          "2023-01-31T00:00:00"
         ]
        }
       ],
       "layout": {
        "template": {
         "data": {
          "bar": [
           {
            "error_x": {
             "color": "#2a3f5f"
            },
            "error_y": {
             "color": "#2a3f5f"
            },
            "marker": {
             "line": {
              "color": "#E5ECF6",
              "width": 0.5
             },
             "pattern": {
              "fillmode": "overlay",
              "size": 10,
              "solidity": 0.2
             }
            },
            "type": "bar"
           }
          ],
          "barpolar": [
           {
            "marker": {
             "line": {
              "color": "#E5ECF6",
              "width": 0.5
             },
             "pattern": {
              "fillmode": "overlay",
              "size": 10,
              "solidity": 0.2
             }
            },
            "type": "barpolar"
           }
          ],
          "carpet": [
           {
            "aaxis": {
             "endlinecolor": "#2a3f5f",
             "gridcolor": "white",
             "linecolor": "white",
             "minorgridcolor": "white",
             "startlinecolor": "#2a3f5f"
            },
            "baxis": {
             "endlinecolor": "#2a3f5f",
             "gridcolor": "white",
             "linecolor": "white",
             "minorgridcolor": "white",
             "startlinecolor": "#2a3f5f"
            },
            "type": "carpet"
           }
          ],
          "choropleth": [
           {
            "colorbar": {
             "outlinewidth": 0,
             "ticks": ""
            },
            "type": "choropleth"
           }
          ],
          "contour": [
           {
            "colorbar": {
             "outlinewidth": 0,
             "ticks": ""
            },
            "colorscale": [
             [
              0,
              "#0d0887"
             ],
             [
              0.1111111111111111,
              "#46039f"
             ],
             [
              0.2222222222222222,
              "#7201a8"
             ],
             [
              0.3333333333333333,
              "#9c179e"
             ],
             [
              0.4444444444444444,
              "#bd3786"
             ],
             [
              0.5555555555555556,
              "#d8576b"
             ],
             [
              0.6666666666666666,
              "#ed7953"
             ],
             [
              0.7777777777777778,
              "#fb9f3a"
             ],
             [
              0.8888888888888888,
              "#fdca26"
             ],
             [
              1,
              "#f0f921"
             ]
            ],
            "type": "contour"
           }
          ],
          "contourcarpet": [
           {
            "colorbar": {
             "outlinewidth": 0,
             "ticks": ""
            },
            "type": "contourcarpet"
           }
          ],
          "heatmap": [
           {
            "colorbar": {
             "outlinewidth": 0,
             "ticks": ""
            },
            "colorscale": [
             [
              0,
              "#0d0887"
             ],
             [
              0.1111111111111111,
              "#46039f"
             ],
             [
              0.2222222222222222,
              "#7201a8"
             ],
             [
              0.3333333333333333,
              "#9c179e"
             ],
             [
              0.4444444444444444,
              "#bd3786"
             ],
             [
              0.5555555555555556,
              "#d8576b"
             ],
             [
              0.6666666666666666,
              "#ed7953"
             ],
             [
              0.7777777777777778,
              "#fb9f3a"
             ],
             [
              0.8888888888888888,
              "#fdca26"
             ],
             [
              1,
              "#f0f921"
             ]
            ],
            "type": "heatmap"
           }
          ],
          "heatmapgl": [
           {
            "colorbar": {
             "outlinewidth": 0,
             "ticks": ""
            },
            "colorscale": [
             [
              0,
              "#0d0887"
             ],
             [
              0.1111111111111111,
              "#46039f"
             ],
             [
              0.2222222222222222,
              "#7201a8"
             ],
             [
              0.3333333333333333,
              "#9c179e"
             ],
             [
              0.4444444444444444,
              "#bd3786"
             ],
             [
              0.5555555555555556,
              "#d8576b"
             ],
             [
              0.6666666666666666,
              "#ed7953"
             ],
             [
              0.7777777777777778,
              "#fb9f3a"
             ],
             [
              0.8888888888888888,
              "#fdca26"
             ],
             [
              1,
              "#f0f921"
             ]
            ],
            "type": "heatmapgl"
           }
          ],
          "histogram": [
           {
            "marker": {
             "pattern": {
              "fillmode": "overlay",
              "size": 10,
              "solidity": 0.2
             }
            },
            "type": "histogram"
           }
          ],
          "histogram2d": [
           {
            "colorbar": {
             "outlinewidth": 0,
             "ticks": ""
            },
            "colorscale": [
             [
              0,
              "#0d0887"
             ],
             [
              0.1111111111111111,
              "#46039f"
             ],
             [
              0.2222222222222222,
              "#7201a8"
             ],
             [
              0.3333333333333333,
              "#9c179e"
             ],
             [
              0.4444444444444444,
              "#bd3786"
             ],
             [
              0.5555555555555556,
              "#d8576b"
             ],
             [
              0.6666666666666666,
              "#ed7953"
             ],
             [
              0.7777777777777778,
              "#fb9f3a"
             ],
             [
              0.8888888888888888,
              "#fdca26"
             ],
             [
              1,
              "#f0f921"
             ]
            ],
            "type": "histogram2d"
           }
          ],
          "histogram2dcontour": [
           {
            "colorbar": {
             "outlinewidth": 0,
             "ticks": ""
            },
            "colorscale": [
             [
              0,
              "#0d0887"
             ],
             [
              0.1111111111111111,
              "#46039f"
             ],
             [
              0.2222222222222222,
              "#7201a8"
             ],
             [
              0.3333333333333333,
              "#9c179e"
             ],
             [
              0.4444444444444444,
              "#bd3786"
             ],
             [
              0.5555555555555556,
              "#d8576b"
             ],
             [
              0.6666666666666666,
              "#ed7953"
             ],
             [
              0.7777777777777778,
              "#fb9f3a"
             ],
             [
              0.8888888888888888,
              "#fdca26"
             ],
             [
              1,
              "#f0f921"
             ]
            ],
            "type": "histogram2dcontour"
           }
          ],
          "mesh3d": [
           {
            "colorbar": {
             "outlinewidth": 0,
             "ticks": ""
            },
            "type": "mesh3d"
           }
          ],
          "parcoords": [
           {
            "line": {
             "colorbar": {
              "outlinewidth": 0,
              "ticks": ""
             }
            },
            "type": "parcoords"
           }
          ],
          "pie": [
           {
            "automargin": true,
            "type": "pie"
           }
          ],
          "scatter": [
           {
            "fillpattern": {
             "fillmode": "overlay",
             "size": 10,
             "solidity": 0.2
            },
            "type": "scatter"
           }
          ],
          "scatter3d": [
           {
            "line": {
             "colorbar": {
              "outlinewidth": 0,
              "ticks": ""
             }
            },
            "marker": {
             "colorbar": {
              "outlinewidth": 0,
              "ticks": ""
             }
            },
            "type": "scatter3d"
           }
          ],
          "scattercarpet": [
           {
            "marker": {
             "colorbar": {
              "outlinewidth": 0,
              "ticks": ""
             }
            },
            "type": "scattercarpet"
           }
          ],
          "scattergeo": [
           {
            "marker": {
             "colorbar": {
              "outlinewidth": 0,
              "ticks": ""
             }
            },
            "type": "scattergeo"
           }
          ],
          "scattergl": [
           {
            "marker": {
             "colorbar": {
              "outlinewidth": 0,
              "ticks": ""
             }
            },
            "type": "scattergl"
           }
          ],
          "scattermapbox": [
           {
            "marker": {
             "colorbar": {
              "outlinewidth": 0,
              "ticks": ""
             }
            },
            "type": "scattermapbox"
           }
          ],
          "scatterpolar": [
           {
            "marker": {
             "colorbar": {
              "outlinewidth": 0,
              "ticks": ""
             }
            },
            "type": "scatterpolar"
           }
          ],
          "scatterpolargl": [
           {
            "marker": {
             "colorbar": {
              "outlinewidth": 0,
              "ticks": ""
             }
            },
            "type": "scatterpolargl"
           }
          ],
          "scatterternary": [
           {
            "marker": {
             "colorbar": {
              "outlinewidth": 0,
              "ticks": ""
             }
            },
            "type": "scatterternary"
           }
          ],
          "surface": [
           {
            "colorbar": {
             "outlinewidth": 0,
             "ticks": ""
            },
            "colorscale": [
             [
              0,
              "#0d0887"
             ],
             [
              0.1111111111111111,
              "#46039f"
             ],
             [
              0.2222222222222222,
              "#7201a8"
             ],
             [
              0.3333333333333333,
              "#9c179e"
             ],
             [
              0.4444444444444444,
              "#bd3786"
             ],
             [
              0.5555555555555556,
              "#d8576b"
             ],
             [
              0.6666666666666666,
              "#ed7953"
             ],
             [
              0.7777777777777778,
              "#fb9f3a"
             ],
             [
              0.8888888888888888,
              "#fdca26"
             ],
             [
              1,
              "#f0f921"
             ]
            ],
            "type": "surface"
           }
          ],
          "table": [
           {
            "cells": {
             "fill": {
              "color": "#EBF0F8"
             },
             "line": {
              "color": "white"
             }
            },
            "header": {
             "fill": {
              "color": "#C8D4E3"
             },
             "line": {
              "color": "white"
             }
            },
            "type": "table"
           }
          ]
         },
         "layout": {
          "annotationdefaults": {
           "arrowcolor": "#2a3f5f",
           "arrowhead": 0,
           "arrowwidth": 1
          },
          "autotypenumbers": "strict",
          "coloraxis": {
           "colorbar": {
            "outlinewidth": 0,
            "ticks": ""
           }
          },
          "colorscale": {
           "diverging": [
            [
             0,
             "#8e0152"
            ],
            [
             0.1,
             "#c51b7d"
            ],
            [
             0.2,
             "#de77ae"
            ],
            [
             0.3,
             "#f1b6da"
            ],
            [
             0.4,
             "#fde0ef"
            ],
            [
             0.5,
             "#f7f7f7"
            ],
            [
             0.6,
             "#e6f5d0"
            ],
            [
             0.7,
             "#b8e186"
            ],
            [
             0.8,
             "#7fbc41"
            ],
            [
             0.9,
             "#4d9221"
            ],
            [
             1,
             "#276419"
            ]
           ],
           "sequential": [
            [
             0,
             "#0d0887"
            ],
            [
             0.1111111111111111,
             "#46039f"
            ],
            [
             0.2222222222222222,
             "#7201a8"
            ],
            [
             0.3333333333333333,
             "#9c179e"
            ],
            [
             0.4444444444444444,
             "#bd3786"
            ],
            [
             0.5555555555555556,
             "#d8576b"
            ],
            [
             0.6666666666666666,
             "#ed7953"
            ],
            [
             0.7777777777777778,
             "#fb9f3a"
            ],
            [
             0.8888888888888888,
             "#fdca26"
            ],
            [
             1,
             "#f0f921"
            ]
           ],
           "sequentialminus": [
            [
             0,
             "#0d0887"
            ],
            [
             0.1111111111111111,
             "#46039f"
            ],
            [
             0.2222222222222222,
             "#7201a8"
            ],
            [
             0.3333333333333333,
             "#9c179e"
            ],
            [
             0.4444444444444444,
             "#bd3786"
            ],
            [
             0.5555555555555556,
             "#d8576b"
            ],
            [
             0.6666666666666666,
             "#ed7953"
            ],
            [
             0.7777777777777778,
             "#fb9f3a"
            ],
            [
             0.8888888888888888,
             "#fdca26"
            ],
            [
             1,
             "#f0f921"
            ]
           ]
          },
          "colorway": [
           "#636efa",
           "#EF553B",
           "#00cc96",
           "#ab63fa",
           "#FFA15A",
           "#19d3f3",
           "#FF6692",
           "#B6E880",
           "#FF97FF",
           "#FECB52"
          ],
          "font": {
           "color": "#2a3f5f"
          },
          "geo": {
           "bgcolor": "white",
           "lakecolor": "white",
           "landcolor": "#E5ECF6",
           "showlakes": true,
           "showland": true,
           "subunitcolor": "white"
          },
          "hoverlabel": {
           "align": "left"
          },
          "hovermode": "closest",
          "mapbox": {
           "style": "light"
          },
          "paper_bgcolor": "white",
          "plot_bgcolor": "#E5ECF6",
          "polar": {
           "angularaxis": {
            "gridcolor": "white",
            "linecolor": "white",
            "ticks": ""
           },
           "bgcolor": "#E5ECF6",
           "radialaxis": {
            "gridcolor": "white",
            "linecolor": "white",
            "ticks": ""
           }
          },
          "scene": {
           "xaxis": {
            "backgroundcolor": "#E5ECF6",
            "gridcolor": "white",
            "gridwidth": 2,
            "linecolor": "white",
            "showbackground": true,
            "ticks": "",
            "zerolinecolor": "white"
           },
           "yaxis": {
            "backgroundcolor": "#E5ECF6",
            "gridcolor": "white",
            "gridwidth": 2,
            "linecolor": "white",
            "showbackground": true,
            "ticks": "",
            "zerolinecolor": "white"
           },
           "zaxis": {
            "backgroundcolor": "#E5ECF6",
            "gridcolor": "white",
            "gridwidth": 2,
            "linecolor": "white",
            "showbackground": true,
            "ticks": "",
            "zerolinecolor": "white"
           }
          },
          "shapedefaults": {
           "line": {
            "color": "#2a3f5f"
           }
          },
          "ternary": {
           "aaxis": {
            "gridcolor": "white",
            "linecolor": "white",
            "ticks": ""
           },
           "baxis": {
            "gridcolor": "white",
            "linecolor": "white",
            "ticks": ""
           },
           "bgcolor": "#E5ECF6",
           "caxis": {
            "gridcolor": "white",
            "linecolor": "white",
            "ticks": ""
           }
          },
          "title": {
           "x": 0.05
          },
          "xaxis": {
           "automargin": true,
           "gridcolor": "white",
           "linecolor": "white",
           "ticks": "",
           "title": {
            "standoff": 15
           },
           "zerolinecolor": "white",
           "zerolinewidth": 2
          },
          "yaxis": {
           "automargin": true,
           "gridcolor": "white",
           "linecolor": "white",
           "ticks": "",
           "title": {
            "standoff": 15
           },
           "zerolinecolor": "white",
           "zerolinewidth": 2
          }
         }
        }
       }
      }
     },
     "metadata": {},
     "output_type": "display_data"
    }
   ],
   "source": [
    "fig = go.Figure(data=[go.Candlestick(\n",
    "                        x=re_df1m['Date'],\n",
    "                        open=re_df1m['Open'],\n",
    "                        high=re_df1m['High'],\n",
    "                        low=re_df1m['Low'],\n",
    "                        close=re_df1m['Close']\n",
    ")])\n",
    "\n",
    "fig.show()"
   ]
  },
  {
   "cell_type": "code",
   "execution_count": 28,
   "metadata": {},
   "outputs": [
    {
     "data": {
      "application/vnd.plotly.v1+json": {
       "config": {
        "plotlyServerURL": "https://plot.ly"
       },
       "data": [
        {
         "close": [
          154,
          157,
          152,
          149,
          148,
          151.5,
          144,
          143,
          144,
          146,
          142.5,
          148.5,
          148,
          143,
          143.5,
          142.5,
          143,
          143.5,
          144,
          147.5,
          153,
          155.5
         ],
         "high": [
          155.5,
          158.5,
          156.5,
          153,
          152,
          152,
          151.5,
          144,
          145,
          149,
          144.5,
          149.5,
          150,
          147,
          144.5,
          146,
          144,
          144,
          145.5,
          148.5,
          154,
          155.5
         ],
         "low": [
          151,
          152,
          151.5,
          147,
          147,
          148,
          142.5,
          140,
          141,
          143.5,
          140,
          143,
          146,
          142,
          142,
          141.5,
          141,
          142,
          143,
          143.5,
          147,
          153
         ],
         "open": [
          151.5,
          153.5,
          154.5,
          152,
          150,
          148,
          151,
          143,
          142,
          144,
          144.5,
          143.5,
          149,
          146,
          143,
          142.5,
          141.5,
          144,
          144,
          143.5,
          148,
          154.5
         ],
         "type": "candlestick",
         "x": [
          "2022-08-21T00:00:00",
          "2022-08-28T00:00:00",
          "2022-09-04T00:00:00",
          "2022-09-11T00:00:00",
          "2022-09-18T00:00:00",
          "2022-09-25T00:00:00",
          "2022-10-02T00:00:00",
          "2022-10-09T00:00:00",
          "2022-10-16T00:00:00",
          "2022-10-23T00:00:00",
          "2022-10-30T00:00:00",
          "2022-11-06T00:00:00",
          "2022-11-13T00:00:00",
          "2022-11-20T00:00:00",
          "2022-11-27T00:00:00",
          "2022-12-04T00:00:00",
          "2022-12-11T00:00:00",
          "2022-12-18T00:00:00",
          "2022-12-25T00:00:00",
          "2023-01-01T00:00:00",
          "2023-01-08T00:00:00",
          "2023-01-15T00:00:00"
         ]
        }
       ],
       "layout": {
        "template": {
         "data": {
          "bar": [
           {
            "error_x": {
             "color": "#2a3f5f"
            },
            "error_y": {
             "color": "#2a3f5f"
            },
            "marker": {
             "line": {
              "color": "#E5ECF6",
              "width": 0.5
             },
             "pattern": {
              "fillmode": "overlay",
              "size": 10,
              "solidity": 0.2
             }
            },
            "type": "bar"
           }
          ],
          "barpolar": [
           {
            "marker": {
             "line": {
              "color": "#E5ECF6",
              "width": 0.5
             },
             "pattern": {
              "fillmode": "overlay",
              "size": 10,
              "solidity": 0.2
             }
            },
            "type": "barpolar"
           }
          ],
          "carpet": [
           {
            "aaxis": {
             "endlinecolor": "#2a3f5f",
             "gridcolor": "white",
             "linecolor": "white",
             "minorgridcolor": "white",
             "startlinecolor": "#2a3f5f"
            },
            "baxis": {
             "endlinecolor": "#2a3f5f",
             "gridcolor": "white",
             "linecolor": "white",
             "minorgridcolor": "white",
             "startlinecolor": "#2a3f5f"
            },
            "type": "carpet"
           }
          ],
          "choropleth": [
           {
            "colorbar": {
             "outlinewidth": 0,
             "ticks": ""
            },
            "type": "choropleth"
           }
          ],
          "contour": [
           {
            "colorbar": {
             "outlinewidth": 0,
             "ticks": ""
            },
            "colorscale": [
             [
              0,
              "#0d0887"
             ],
             [
              0.1111111111111111,
              "#46039f"
             ],
             [
              0.2222222222222222,
              "#7201a8"
             ],
             [
              0.3333333333333333,
              "#9c179e"
             ],
             [
              0.4444444444444444,
              "#bd3786"
             ],
             [
              0.5555555555555556,
              "#d8576b"
             ],
             [
              0.6666666666666666,
              "#ed7953"
             ],
             [
              0.7777777777777778,
              "#fb9f3a"
             ],
             [
              0.8888888888888888,
              "#fdca26"
             ],
             [
              1,
              "#f0f921"
             ]
            ],
            "type": "contour"
           }
          ],
          "contourcarpet": [
           {
            "colorbar": {
             "outlinewidth": 0,
             "ticks": ""
            },
            "type": "contourcarpet"
           }
          ],
          "heatmap": [
           {
            "colorbar": {
             "outlinewidth": 0,
             "ticks": ""
            },
            "colorscale": [
             [
              0,
              "#0d0887"
             ],
             [
              0.1111111111111111,
              "#46039f"
             ],
             [
              0.2222222222222222,
              "#7201a8"
             ],
             [
              0.3333333333333333,
              "#9c179e"
             ],
             [
              0.4444444444444444,
              "#bd3786"
             ],
             [
              0.5555555555555556,
              "#d8576b"
             ],
             [
              0.6666666666666666,
              "#ed7953"
             ],
             [
              0.7777777777777778,
              "#fb9f3a"
             ],
             [
              0.8888888888888888,
              "#fdca26"
             ],
             [
              1,
              "#f0f921"
             ]
            ],
            "type": "heatmap"
           }
          ],
          "heatmapgl": [
           {
            "colorbar": {
             "outlinewidth": 0,
             "ticks": ""
            },
            "colorscale": [
             [
              0,
              "#0d0887"
             ],
             [
              0.1111111111111111,
              "#46039f"
             ],
             [
              0.2222222222222222,
              "#7201a8"
             ],
             [
              0.3333333333333333,
              "#9c179e"
             ],
             [
              0.4444444444444444,
              "#bd3786"
             ],
             [
              0.5555555555555556,
              "#d8576b"
             ],
             [
              0.6666666666666666,
              "#ed7953"
             ],
             [
              0.7777777777777778,
              "#fb9f3a"
             ],
             [
              0.8888888888888888,
              "#fdca26"
             ],
             [
              1,
              "#f0f921"
             ]
            ],
            "type": "heatmapgl"
           }
          ],
          "histogram": [
           {
            "marker": {
             "pattern": {
              "fillmode": "overlay",
              "size": 10,
              "solidity": 0.2
             }
            },
            "type": "histogram"
           }
          ],
          "histogram2d": [
           {
            "colorbar": {
             "outlinewidth": 0,
             "ticks": ""
            },
            "colorscale": [
             [
              0,
              "#0d0887"
             ],
             [
              0.1111111111111111,
              "#46039f"
             ],
             [
              0.2222222222222222,
              "#7201a8"
             ],
             [
              0.3333333333333333,
              "#9c179e"
             ],
             [
              0.4444444444444444,
              "#bd3786"
             ],
             [
              0.5555555555555556,
              "#d8576b"
             ],
             [
              0.6666666666666666,
              "#ed7953"
             ],
             [
              0.7777777777777778,
              "#fb9f3a"
             ],
             [
              0.8888888888888888,
              "#fdca26"
             ],
             [
              1,
              "#f0f921"
             ]
            ],
            "type": "histogram2d"
           }
          ],
          "histogram2dcontour": [
           {
            "colorbar": {
             "outlinewidth": 0,
             "ticks": ""
            },
            "colorscale": [
             [
              0,
              "#0d0887"
             ],
             [
              0.1111111111111111,
              "#46039f"
             ],
             [
              0.2222222222222222,
              "#7201a8"
             ],
             [
              0.3333333333333333,
              "#9c179e"
             ],
             [
              0.4444444444444444,
              "#bd3786"
             ],
             [
              0.5555555555555556,
              "#d8576b"
             ],
             [
              0.6666666666666666,
              "#ed7953"
             ],
             [
              0.7777777777777778,
              "#fb9f3a"
             ],
             [
              0.8888888888888888,
              "#fdca26"
             ],
             [
              1,
              "#f0f921"
             ]
            ],
            "type": "histogram2dcontour"
           }
          ],
          "mesh3d": [
           {
            "colorbar": {
             "outlinewidth": 0,
             "ticks": ""
            },
            "type": "mesh3d"
           }
          ],
          "parcoords": [
           {
            "line": {
             "colorbar": {
              "outlinewidth": 0,
              "ticks": ""
             }
            },
            "type": "parcoords"
           }
          ],
          "pie": [
           {
            "automargin": true,
            "type": "pie"
           }
          ],
          "scatter": [
           {
            "fillpattern": {
             "fillmode": "overlay",
             "size": 10,
             "solidity": 0.2
            },
            "type": "scatter"
           }
          ],
          "scatter3d": [
           {
            "line": {
             "colorbar": {
              "outlinewidth": 0,
              "ticks": ""
             }
            },
            "marker": {
             "colorbar": {
              "outlinewidth": 0,
              "ticks": ""
             }
            },
            "type": "scatter3d"
           }
          ],
          "scattercarpet": [
           {
            "marker": {
             "colorbar": {
              "outlinewidth": 0,
              "ticks": ""
             }
            },
            "type": "scattercarpet"
           }
          ],
          "scattergeo": [
           {
            "marker": {
             "colorbar": {
              "outlinewidth": 0,
              "ticks": ""
             }
            },
            "type": "scattergeo"
           }
          ],
          "scattergl": [
           {
            "marker": {
             "colorbar": {
              "outlinewidth": 0,
              "ticks": ""
             }
            },
            "type": "scattergl"
           }
          ],
          "scattermapbox": [
           {
            "marker": {
             "colorbar": {
              "outlinewidth": 0,
              "ticks": ""
             }
            },
            "type": "scattermapbox"
           }
          ],
          "scatterpolar": [
           {
            "marker": {
             "colorbar": {
              "outlinewidth": 0,
              "ticks": ""
             }
            },
            "type": "scatterpolar"
           }
          ],
          "scatterpolargl": [
           {
            "marker": {
             "colorbar": {
              "outlinewidth": 0,
              "ticks": ""
             }
            },
            "type": "scatterpolargl"
           }
          ],
          "scatterternary": [
           {
            "marker": {
             "colorbar": {
              "outlinewidth": 0,
              "ticks": ""
             }
            },
            "type": "scatterternary"
           }
          ],
          "surface": [
           {
            "colorbar": {
             "outlinewidth": 0,
             "ticks": ""
            },
            "colorscale": [
             [
              0,
              "#0d0887"
             ],
             [
              0.1111111111111111,
              "#46039f"
             ],
             [
              0.2222222222222222,
              "#7201a8"
             ],
             [
              0.3333333333333333,
              "#9c179e"
             ],
             [
              0.4444444444444444,
              "#bd3786"
             ],
             [
              0.5555555555555556,
              "#d8576b"
             ],
             [
              0.6666666666666666,
              "#ed7953"
             ],
             [
              0.7777777777777778,
              "#fb9f3a"
             ],
             [
              0.8888888888888888,
              "#fdca26"
             ],
             [
              1,
              "#f0f921"
             ]
            ],
            "type": "surface"
           }
          ],
          "table": [
           {
            "cells": {
             "fill": {
              "color": "#EBF0F8"
             },
             "line": {
              "color": "white"
             }
            },
            "header": {
             "fill": {
              "color": "#C8D4E3"
             },
             "line": {
              "color": "white"
             }
            },
            "type": "table"
           }
          ]
         },
         "layout": {
          "annotationdefaults": {
           "arrowcolor": "#2a3f5f",
           "arrowhead": 0,
           "arrowwidth": 1
          },
          "autotypenumbers": "strict",
          "coloraxis": {
           "colorbar": {
            "outlinewidth": 0,
            "ticks": ""
           }
          },
          "colorscale": {
           "diverging": [
            [
             0,
             "#8e0152"
            ],
            [
             0.1,
             "#c51b7d"
            ],
            [
             0.2,
             "#de77ae"
            ],
            [
             0.3,
             "#f1b6da"
            ],
            [
             0.4,
             "#fde0ef"
            ],
            [
             0.5,
             "#f7f7f7"
            ],
            [
             0.6,
             "#e6f5d0"
            ],
            [
             0.7,
             "#b8e186"
            ],
            [
             0.8,
             "#7fbc41"
            ],
            [
             0.9,
             "#4d9221"
            ],
            [
             1,
             "#276419"
            ]
           ],
           "sequential": [
            [
             0,
             "#0d0887"
            ],
            [
             0.1111111111111111,
             "#46039f"
            ],
            [
             0.2222222222222222,
             "#7201a8"
            ],
            [
             0.3333333333333333,
             "#9c179e"
            ],
            [
             0.4444444444444444,
             "#bd3786"
            ],
            [
             0.5555555555555556,
             "#d8576b"
            ],
            [
             0.6666666666666666,
             "#ed7953"
            ],
            [
             0.7777777777777778,
             "#fb9f3a"
            ],
            [
             0.8888888888888888,
             "#fdca26"
            ],
            [
             1,
             "#f0f921"
            ]
           ],
           "sequentialminus": [
            [
             0,
             "#0d0887"
            ],
            [
             0.1111111111111111,
             "#46039f"
            ],
            [
             0.2222222222222222,
             "#7201a8"
            ],
            [
             0.3333333333333333,
             "#9c179e"
            ],
            [
             0.4444444444444444,
             "#bd3786"
            ],
            [
             0.5555555555555556,
             "#d8576b"
            ],
            [
             0.6666666666666666,
             "#ed7953"
            ],
            [
             0.7777777777777778,
             "#fb9f3a"
            ],
            [
             0.8888888888888888,
             "#fdca26"
            ],
            [
             1,
             "#f0f921"
            ]
           ]
          },
          "colorway": [
           "#636efa",
           "#EF553B",
           "#00cc96",
           "#ab63fa",
           "#FFA15A",
           "#19d3f3",
           "#FF6692",
           "#B6E880",
           "#FF97FF",
           "#FECB52"
          ],
          "font": {
           "color": "#2a3f5f"
          },
          "geo": {
           "bgcolor": "white",
           "lakecolor": "white",
           "landcolor": "#E5ECF6",
           "showlakes": true,
           "showland": true,
           "subunitcolor": "white"
          },
          "hoverlabel": {
           "align": "left"
          },
          "hovermode": "closest",
          "mapbox": {
           "style": "light"
          },
          "paper_bgcolor": "white",
          "plot_bgcolor": "#E5ECF6",
          "polar": {
           "angularaxis": {
            "gridcolor": "white",
            "linecolor": "white",
            "ticks": ""
           },
           "bgcolor": "#E5ECF6",
           "radialaxis": {
            "gridcolor": "white",
            "linecolor": "white",
            "ticks": ""
           }
          },
          "scene": {
           "xaxis": {
            "backgroundcolor": "#E5ECF6",
            "gridcolor": "white",
            "gridwidth": 2,
            "linecolor": "white",
            "showbackground": true,
            "ticks": "",
            "zerolinecolor": "white"
           },
           "yaxis": {
            "backgroundcolor": "#E5ECF6",
            "gridcolor": "white",
            "gridwidth": 2,
            "linecolor": "white",
            "showbackground": true,
            "ticks": "",
            "zerolinecolor": "white"
           },
           "zaxis": {
            "backgroundcolor": "#E5ECF6",
            "gridcolor": "white",
            "gridwidth": 2,
            "linecolor": "white",
            "showbackground": true,
            "ticks": "",
            "zerolinecolor": "white"
           }
          },
          "shapedefaults": {
           "line": {
            "color": "#2a3f5f"
           }
          },
          "ternary": {
           "aaxis": {
            "gridcolor": "white",
            "linecolor": "white",
            "ticks": ""
           },
           "baxis": {
            "gridcolor": "white",
            "linecolor": "white",
            "ticks": ""
           },
           "bgcolor": "#E5ECF6",
           "caxis": {
            "gridcolor": "white",
            "linecolor": "white",
            "ticks": ""
           }
          },
          "title": {
           "x": 0.05
          },
          "xaxis": {
           "automargin": true,
           "gridcolor": "white",
           "linecolor": "white",
           "ticks": "",
           "title": {
            "standoff": 15
           },
           "zerolinecolor": "white",
           "zerolinewidth": 2
          },
          "yaxis": {
           "automargin": true,
           "gridcolor": "white",
           "linecolor": "white",
           "ticks": "",
           "title": {
            "standoff": 15
           },
           "zerolinecolor": "white",
           "zerolinewidth": 2
          }
         }
        },
        "updatemenus": [
         {
          "buttons": [
           {
            "args": [
             {
              "data": {
               "close": [
                154,
                157,
                152,
                149,
                148,
                151.5,
                144,
                143,
                144,
                146,
                142.5,
                148.5,
                148,
                143,
                143.5,
                142.5,
                143,
                143.5,
                144,
                147.5,
                153,
                155.5
               ],
               "high": [
                155.5,
                158.5,
                156.5,
                153,
                152,
                152,
                151.5,
                144,
                145,
                149,
                144.5,
                149.5,
                150,
                147,
                144.5,
                146,
                144,
                144,
                145.5,
                148.5,
                154,
                155.5
               ],
               "low": [
                151,
                152,
                151.5,
                147,
                147,
                148,
                142.5,
                140,
                141,
                143.5,
                140,
                143,
                146,
                142,
                142,
                141.5,
                141,
                142,
                143,
                143.5,
                147,
                153
               ],
               "open": [
                151.5,
                153.5,
                154.5,
                152,
                150,
                148,
                151,
                143,
                142,
                144,
                144.5,
                143.5,
                149,
                146,
                143,
                142.5,
                141.5,
                144,
                144,
                143.5,
                148,
                154.5
               ],
               "type": "candlestick",
               "x": [
                "2022-08-21T00:00:00",
                "2022-08-28T00:00:00",
                "2022-09-04T00:00:00",
                "2022-09-11T00:00:00",
                "2022-09-18T00:00:00",
                "2022-09-25T00:00:00",
                "2022-10-02T00:00:00",
                "2022-10-09T00:00:00",
                "2022-10-16T00:00:00",
                "2022-10-23T00:00:00",
                "2022-10-30T00:00:00",
                "2022-11-06T00:00:00",
                "2022-11-13T00:00:00",
                "2022-11-20T00:00:00",
                "2022-11-27T00:00:00",
                "2022-12-04T00:00:00",
                "2022-12-11T00:00:00",
                "2022-12-18T00:00:00",
                "2022-12-25T00:00:00",
                "2023-01-01T00:00:00",
                "2023-01-08T00:00:00",
                "2023-01-15T00:00:00"
               ]
              }
             }
            ],
            "label": "1 Week",
            "method": "update"
           },
           {
            "args": [
             {
              "data": {
               "close": [
                153.5,
                144,
                146,
                144.5,
                147.5,
                155.5
               ],
               "high": [
                158.5,
                154,
                149,
                150,
                148.5,
                155.5
               ],
               "low": [
                151,
                142.5,
                140,
                141.5,
                141,
                147
               ],
               "open": [
                151.5,
                153,
                143,
                147.5,
                144.5,
                148
               ],
               "type": "candlestick",
               "x": [
                "2022-08-31T00:00:00",
                "2022-09-30T00:00:00",
                "2022-10-31T00:00:00",
                "2022-11-30T00:00:00",
                "2022-12-31T00:00:00",
                "2023-01-31T00:00:00"
               ]
              }
             }
            ],
            "label": "1 Month",
            "method": "update"
           }
          ],
          "type": "buttons"
         }
        ]
       }
      }
     },
     "metadata": {},
     "output_type": "display_data"
    }
   ],
   "source": [
    "trace1 = go.Candlestick(x=re_df1w['Date'],\n",
    "                        open=re_df1w['Open'],\n",
    "                        high=re_df1w['High'],\n",
    "                        low=re_df1w['Low'],\n",
    "                        close=re_df1w['Close'])\n",
    "\n",
    "trace2 = go.Candlestick(x=re_df1m['Date'],\n",
    "                        open=re_df1m['Open'],\n",
    "                        high=re_df1m['High'],\n",
    "                        low=re_df1m['Low'],\n",
    "                        close=re_df1m['Close'])\n",
    "\n",
    "data1 = [trace1]\n",
    "data2 = [trace2]\n",
    "layout = go.Layout()\n",
    "fig = go.Figure(data=data1, layout=layout)\n",
    "\n",
    "fig.update_layout(\n",
    "    updatemenus=[\n",
    "        dict(\n",
    "            type='buttons',\n",
    "            buttons=[\n",
    "                dict(\n",
    "                    label='1 Week',\n",
    "                    method='update',\n",
    "                    args=[{'data': trace1}]\n",
    "                ),\n",
    "                dict(\n",
    "                    label='1 Month',\n",
    "                    method='update',\n",
    "                    args=[{'data': trace2}]\n",
    "                )])])\n",
    "\n",
    "fig.show()"
   ]
  }
 ],
 "metadata": {
  "kernelspec": {
   "display_name": "Python 3",
   "language": "python",
   "name": "python3"
  },
  "language_info": {
   "codemirror_mode": {
    "name": "ipython",
    "version": 3
   },
   "file_extension": ".py",
   "mimetype": "text/x-python",
   "name": "python",
   "nbconvert_exporter": "python",
   "pygments_lexer": "ipython3",
   "version": "3.10.6 (tags/v3.10.6:9c7b4bd, Aug  1 2022, 21:53:49) [MSC v.1932 64 bit (AMD64)]"
  },
  "orig_nbformat": 4,
  "vscode": {
   "interpreter": {
    "hash": "a42ccb73e7d9bfdf27e036f1d2b8b681e55fc0743cc5586bc2474d4a60f4b886"
   }
  }
 },
 "nbformat": 4,
 "nbformat_minor": 2
}
