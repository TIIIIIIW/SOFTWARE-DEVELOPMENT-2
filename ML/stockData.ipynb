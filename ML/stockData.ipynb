{
 "cells": [
  {
   "cell_type": "code",
   "execution_count": 6,
   "metadata": {},
   "outputs": [],
   "source": [
    "import pandas as pd\n",
    "import matplotlib.pyplot as plt\n",
    "import yfinance as yf"
   ]
  },
  {
   "cell_type": "code",
   "execution_count": 7,
   "metadata": {},
   "outputs": [
    {
     "data": {
      "text/html": [
       "<div>\n",
       "<style scoped>\n",
       "    .dataframe tbody tr th:only-of-type {\n",
       "        vertical-align: middle;\n",
       "    }\n",
       "\n",
       "    .dataframe tbody tr th {\n",
       "        vertical-align: top;\n",
       "    }\n",
       "\n",
       "    .dataframe thead th {\n",
       "        text-align: right;\n",
       "    }\n",
       "</style>\n",
       "<table border=\"1\" class=\"dataframe\">\n",
       "  <thead>\n",
       "    <tr style=\"text-align: right;\">\n",
       "      <th></th>\n",
       "      <th>Open</th>\n",
       "      <th>High</th>\n",
       "      <th>Low</th>\n",
       "      <th>Close</th>\n",
       "      <th>Volume</th>\n",
       "      <th>Dividends</th>\n",
       "      <th>Stock Splits</th>\n",
       "    </tr>\n",
       "    <tr>\n",
       "      <th>Date</th>\n",
       "      <th></th>\n",
       "      <th></th>\n",
       "      <th></th>\n",
       "      <th></th>\n",
       "      <th></th>\n",
       "      <th></th>\n",
       "      <th></th>\n",
       "    </tr>\n",
       "  </thead>\n",
       "  <tbody>\n",
       "    <tr>\n",
       "      <th>2020-01-01 00:00:00+00:00</th>\n",
       "      <td>7194.892090</td>\n",
       "      <td>7254.330566</td>\n",
       "      <td>7174.944336</td>\n",
       "      <td>7200.174316</td>\n",
       "      <td>18565664997</td>\n",
       "      <td>0.0</td>\n",
       "      <td>0.0</td>\n",
       "    </tr>\n",
       "    <tr>\n",
       "      <th>2020-01-02 00:00:00+00:00</th>\n",
       "      <td>7202.551270</td>\n",
       "      <td>7212.155273</td>\n",
       "      <td>6935.270020</td>\n",
       "      <td>6985.470215</td>\n",
       "      <td>20802083465</td>\n",
       "      <td>0.0</td>\n",
       "      <td>0.0</td>\n",
       "    </tr>\n",
       "    <tr>\n",
       "      <th>2020-01-03 00:00:00+00:00</th>\n",
       "      <td>6984.428711</td>\n",
       "      <td>7413.715332</td>\n",
       "      <td>6914.996094</td>\n",
       "      <td>7344.884277</td>\n",
       "      <td>28111481032</td>\n",
       "      <td>0.0</td>\n",
       "      <td>0.0</td>\n",
       "    </tr>\n",
       "    <tr>\n",
       "      <th>2020-01-04 00:00:00+00:00</th>\n",
       "      <td>7345.375488</td>\n",
       "      <td>7427.385742</td>\n",
       "      <td>7309.514160</td>\n",
       "      <td>7410.656738</td>\n",
       "      <td>18444271275</td>\n",
       "      <td>0.0</td>\n",
       "      <td>0.0</td>\n",
       "    </tr>\n",
       "    <tr>\n",
       "      <th>2020-01-05 00:00:00+00:00</th>\n",
       "      <td>7410.451660</td>\n",
       "      <td>7544.497070</td>\n",
       "      <td>7400.535645</td>\n",
       "      <td>7411.317383</td>\n",
       "      <td>19725074095</td>\n",
       "      <td>0.0</td>\n",
       "      <td>0.0</td>\n",
       "    </tr>\n",
       "    <tr>\n",
       "      <th>...</th>\n",
       "      <td>...</td>\n",
       "      <td>...</td>\n",
       "      <td>...</td>\n",
       "      <td>...</td>\n",
       "      <td>...</td>\n",
       "      <td>...</td>\n",
       "      <td>...</td>\n",
       "    </tr>\n",
       "    <tr>\n",
       "      <th>2022-11-26 00:00:00+00:00</th>\n",
       "      <td>16521.576172</td>\n",
       "      <td>16666.863281</td>\n",
       "      <td>16416.228516</td>\n",
       "      <td>16464.281250</td>\n",
       "      <td>18000008764</td>\n",
       "      <td>0.0</td>\n",
       "      <td>0.0</td>\n",
       "    </tr>\n",
       "    <tr>\n",
       "      <th>2022-11-27 00:00:00+00:00</th>\n",
       "      <td>16463.882812</td>\n",
       "      <td>16594.406250</td>\n",
       "      <td>16437.025391</td>\n",
       "      <td>16444.626953</td>\n",
       "      <td>20443898509</td>\n",
       "      <td>0.0</td>\n",
       "      <td>0.0</td>\n",
       "    </tr>\n",
       "    <tr>\n",
       "      <th>2022-11-28 00:00:00+00:00</th>\n",
       "      <td>16440.222656</td>\n",
       "      <td>16482.933594</td>\n",
       "      <td>16054.530273</td>\n",
       "      <td>16217.322266</td>\n",
       "      <td>27743025156</td>\n",
       "      <td>0.0</td>\n",
       "      <td>0.0</td>\n",
       "    </tr>\n",
       "    <tr>\n",
       "      <th>2022-11-29 00:00:00+00:00</th>\n",
       "      <td>16217.639648</td>\n",
       "      <td>16522.257812</td>\n",
       "      <td>16139.396484</td>\n",
       "      <td>16444.982422</td>\n",
       "      <td>23581685468</td>\n",
       "      <td>0.0</td>\n",
       "      <td>0.0</td>\n",
       "    </tr>\n",
       "    <tr>\n",
       "      <th>2022-11-30 00:00:00+00:00</th>\n",
       "      <td>16445.476562</td>\n",
       "      <td>17190.937500</td>\n",
       "      <td>16445.476562</td>\n",
       "      <td>17168.566406</td>\n",
       "      <td>29523576583</td>\n",
       "      <td>0.0</td>\n",
       "      <td>0.0</td>\n",
       "    </tr>\n",
       "  </tbody>\n",
       "</table>\n",
       "<p>1065 rows × 7 columns</p>\n",
       "</div>"
      ],
      "text/plain": [
       "                                   Open          High           Low  \\\n",
       "Date                                                                  \n",
       "2020-01-01 00:00:00+00:00   7194.892090   7254.330566   7174.944336   \n",
       "2020-01-02 00:00:00+00:00   7202.551270   7212.155273   6935.270020   \n",
       "2020-01-03 00:00:00+00:00   6984.428711   7413.715332   6914.996094   \n",
       "2020-01-04 00:00:00+00:00   7345.375488   7427.385742   7309.514160   \n",
       "2020-01-05 00:00:00+00:00   7410.451660   7544.497070   7400.535645   \n",
       "...                                 ...           ...           ...   \n",
       "2022-11-26 00:00:00+00:00  16521.576172  16666.863281  16416.228516   \n",
       "2022-11-27 00:00:00+00:00  16463.882812  16594.406250  16437.025391   \n",
       "2022-11-28 00:00:00+00:00  16440.222656  16482.933594  16054.530273   \n",
       "2022-11-29 00:00:00+00:00  16217.639648  16522.257812  16139.396484   \n",
       "2022-11-30 00:00:00+00:00  16445.476562  17190.937500  16445.476562   \n",
       "\n",
       "                                  Close       Volume  Dividends  Stock Splits  \n",
       "Date                                                                           \n",
       "2020-01-01 00:00:00+00:00   7200.174316  18565664997        0.0           0.0  \n",
       "2020-01-02 00:00:00+00:00   6985.470215  20802083465        0.0           0.0  \n",
       "2020-01-03 00:00:00+00:00   7344.884277  28111481032        0.0           0.0  \n",
       "2020-01-04 00:00:00+00:00   7410.656738  18444271275        0.0           0.0  \n",
       "2020-01-05 00:00:00+00:00   7411.317383  19725074095        0.0           0.0  \n",
       "...                                 ...          ...        ...           ...  \n",
       "2022-11-26 00:00:00+00:00  16464.281250  18000008764        0.0           0.0  \n",
       "2022-11-27 00:00:00+00:00  16444.626953  20443898509        0.0           0.0  \n",
       "2022-11-28 00:00:00+00:00  16217.322266  27743025156        0.0           0.0  \n",
       "2022-11-29 00:00:00+00:00  16444.982422  23581685468        0.0           0.0  \n",
       "2022-11-30 00:00:00+00:00  17168.566406  29523576583        0.0           0.0  \n",
       "\n",
       "[1065 rows x 7 columns]"
      ]
     },
     "execution_count": 7,
     "metadata": {},
     "output_type": "execute_result"
    }
   ],
   "source": [
    "kbank = yf.Ticker('BTC-USD')\n",
    "data = kbank.history(interval='1d', start='2020-01-01', end='2022-12-01')\n",
    "data"
   ]
  },
  {
   "cell_type": "code",
   "execution_count": 8,
   "metadata": {},
   "outputs": [],
   "source": [
    "# data.to_csv(\"stock_data.csv\")"
   ]
  },
  {
   "cell_type": "code",
   "execution_count": 9,
   "metadata": {},
   "outputs": [
    {
     "data": {
      "text/plain": [
       "0      140.309647\n",
       "1      139.395569\n",
       "2      131.168945\n",
       "3      130.711899\n",
       "4      127.969704\n",
       "          ...    \n",
       "700    143.500000\n",
       "701    143.500000\n",
       "702    143.500000\n",
       "703    145.500000\n",
       "704    144.500000\n",
       "Name: Close, Length: 705, dtype: float64"
      ]
     },
     "execution_count": 9,
     "metadata": {},
     "output_type": "execute_result"
    }
   ],
   "source": [
    "df =pd.read_csv('stock_data.csv')\n",
    "df1=df.reset_index()['Close']\n",
    "df1"
   ]
  },
  {
   "cell_type": "code",
   "execution_count": 10,
   "metadata": {},
   "outputs": [
    {
     "data": {
      "text/plain": [
       "[<matplotlib.lines.Line2D at 0x212f25ccca0>]"
      ]
     },
     "execution_count": 10,
     "metadata": {},
     "output_type": "execute_result"
    },
    {
     "data": {
      "image/png": "[encoded data removed]",
      "text/plain": [
       "<Figure size 432x288 with 1 Axes>"
      ]
     },
     "metadata": {
      "needs_background": "light"
     },
     "output_type": "display_data"
    }
   ],
   "source": [
    "plt.plot(df1)"
   ]
  }
 ],
 "metadata": {
  "kernelspec": {
   "display_name": "Python 3",
   "language": "python",
   "name": "python3"
  },
  "language_info": {
   "codemirror_mode": {
    "name": "ipython",
    "version": 3
   },
   "file_extension": ".py",
   "mimetype": "text/x-python",
   "name": "python",
   "nbconvert_exporter": "python",
   "pygments_lexer": "ipython3",
   "version": "3.10.6"
  },
  "orig_nbformat": 4,
  "vscode": {
   "interpreter": {
    "hash": "a42ccb73e7d9bfdf27e036f1d2b8b681e55fc0743cc5586bc2474d4a60f4b886"
   }
  }
 },
 "nbformat": 4,
 "nbformat_minor": 2
}
