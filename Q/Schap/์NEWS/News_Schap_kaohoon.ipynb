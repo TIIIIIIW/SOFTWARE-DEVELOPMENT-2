{
 "cells": [
  {
   "cell_type": "code",
   "execution_count": 1,
   "metadata": {},
   "outputs": [],
   "source": [
    "from selenium import webdriver\n",
    "from selenium.webdriver.common.by import By\n",
    "import time\n",
    "from selenium.webdriver.support.ui import WebDriverWait\n",
    "from selenium.webdriver.support import expected_conditions as EC\n",
    "import pandas as pd\n",
    "import html5lib"
   ]
  },
  {
   "cell_type": "code",
   "execution_count": 2,
   "metadata": {},
   "outputs": [],
   "source": [
    "def Set_up_WebScraping(url):\n",
    "    \n",
    "    driver = webdriver.Chrome(r\"C:\\Users\\JourneyQ\\OneDrive - kmutnb.ac.th\\Desktop\\Quick_file\\year_2-S_2\\Project_sofedev_2\\Schap\\chromedriver.exe\")\n",
    "    driver.get(url)\n",
    "    \n",
    "    return driver"
   ]
  },
  {
   "cell_type": "code",
   "execution_count": 31,
   "metadata": {},
   "outputs": [
    {
     "name": "stderr",
     "output_type": "stream",
     "text": [
      "C:\\Users\\JourneyQ\\AppData\\Local\\Temp\\ipykernel_18880\\2832632796.py:3: DeprecationWarning: executable_path has been deprecated, please pass in a Service object\n",
      "  driver = webdriver.Chrome(r\"C:\\Users\\JourneyQ\\OneDrive - kmutnb.ac.th\\Desktop\\Quick_file\\year_2-S_2\\Project_sofedev_2\\Schap\\chromedriver.exe\")\n"
     ]
    }
   ],
   "source": [
    "driver = Set_up_WebScraping(\"https://www.kaohoon.com/latest-news\")"
   ]
  },
  {
   "cell_type": "code",
   "execution_count": 32,
   "metadata": {},
   "outputs": [],
   "source": [
    "data = driver.page_source"
   ]
  },
  {
   "cell_type": "code",
   "execution_count": 58,
   "metadata": {},
   "outputs": [
    {
     "data": {
      "text/plain": [
       "'THCOM ชงผู้ถือหุ้น 7 เม.ย. จัดหนัก 1.5 หมื่นลบ. ยิง 3 ดาวเทียม'"
      ]
     },
     "execution_count": 58,
     "metadata": {},
     "output_type": "execute_result"
    }
   ],
   "source": [
    "data = driver.find_element(By.XPATH, '//*[@id=\"tie-block_1874\"]/div/div[1]/ul/div[1]/div[2]')\n",
    "data.text"
   ]
  },
  {
   "cell_type": "code",
   "execution_count": 55,
   "metadata": {},
   "outputs": [],
   "source": [
    "movienames = driver.find_element(By.CLASS_NAME, 'tie-col-md-11.tie-col-sm-10.tie-col-xs-10')"
   ]
  },
  {
   "cell_type": "code",
   "execution_count": 56,
   "metadata": {},
   "outputs": [
    {
     "data": {
      "text/plain": [
       "'THCOM ชงผู้ถือหุ้น 7 เม.ย. จัดหนัก 1.5 หมื่นลบ. ยิง 3 ดาวเทียม'"
      ]
     },
     "execution_count": 56,
     "metadata": {},
     "output_type": "execute_result"
    }
   ],
   "source": [
    "movienames.text"
   ]
  },
  {
   "cell_type": "code",
   "execution_count": 92,
   "metadata": {},
   "outputs": [
    {
     "name": "stdout",
     "output_type": "stream",
     "text": [
      "THCOM ชงผู้ถือหุ้น 7 เม.ย. จัดหนัก 1.5 หมื่นลบ. ยิง 3 ดาวเทียม\n",
      "CPF ปลื้มติดอันดับดัชนีความยั่งยืน S&P Global ต่อเนื่อง 3 ปี\n",
      "“นายก” กำชับ 3 แนวทางฟันโทษ “ข้าราชการ” ทำผิดวินัยร้ายแรง\n",
      "เอาจริง! เบี้ยวจ่ายค่าปรับ-ใบสั่ง ไม่ได้ป้ายภาษี เริ่ม 1 เม.ย.นี้\n",
      "จุดเปลี่ยนหุ้น “ก่อสร้าง” งานล้นมือหลังเลือกตั้ง โชว์ตัวท็อป CK-PYLON\n",
      "“อุตุ” เตือน “เหนือ-อีสาน” อากาศแปรปรวน 14-17 ก.พ.นี้\n",
      "GPI รุกคืบงานอีเวนต์ปั้นกำไร\n",
      "เปิดโผ 14 หุ้นปันผลต่อเนื่อง 4 ปี ยีลด์เกิน 4%\n",
      "ระวัง DELTA เสี่ยงสูง\n",
      "30 หุ้นฝรั่งไล่ซื้อ – ขายทิ้ง (NVDR) ประจำวันที่ 10 ก.พ.66\n"
     ]
    }
   ],
   "source": [
    "title = []\n",
    "for i in range(10):\n",
    "\n",
    "    data = driver.find_element(By.XPATH, f'//*[@id=\"tie-block_1874\"]/div/div[1]/ul/div[{i+1}]/div[2]')\n",
    "    title.append(data.text)\n",
    "    print(data.text)"
   ]
  },
  {
   "cell_type": "code",
   "execution_count": 91,
   "metadata": {},
   "outputs": [
    {
     "name": "stdout",
     "output_type": "stream",
     "text": [
      "https://www.kaohoon.com/news/588004\n",
      "https://www.kaohoon.com/pr/587985\n",
      "https://www.kaohoon.com/news/587981\n",
      "https://www.kaohoon.com/news/587971\n",
      "https://www.kaohoon.com/news/587911\n",
      "https://www.kaohoon.com/news/587974\n",
      "https://www.kaohoon.com/column/587972\n",
      "https://www.kaohoon.com/news/587955\n",
      "https://www.kaohoon.com/column/587969\n",
      "https://www.kaohoon.com/summary/587703\n"
     ]
    }
   ],
   "source": [
    "links = []\n",
    "\n",
    "for i in range(10):\n",
    "\n",
    "    data = driver.find_element(By.XPATH, f'//*[@id=\"tie-block_1874\"]/div/div[1]/ul/div[{i+1}]/div[2]/a')\n",
    "    \n",
    "    print(data.get_attribute('href'))\n",
    "    links.append(data.get_attribute('href'))\n"
   ]
  },
  {
   "cell_type": "code",
   "execution_count": 69,
   "metadata": {},
   "outputs": [
    {
     "data": {
      "text/plain": [
       "'https://www.kaohoon.com/summary/587703'"
      ]
     },
     "execution_count": 69,
     "metadata": {},
     "output_type": "execute_result"
    }
   ],
   "source": [
    "movienames.get_attribute('href')"
   ]
  },
  {
   "cell_type": "code",
   "execution_count": 89,
   "metadata": {},
   "outputs": [],
   "source": [
    "date = []\n",
    "for i in range(10):\n",
    "\n",
    "    data = driver.find_element(By.XPATH, f'//*[@id=\"tie-block_1874\"]/div/div[1]/ul/div[{i+1}]/div[1]')\n",
    "    \n",
    "    t = (data.text).split('\\n')\n",
    "    date.append(t[1]+' '+t[0])"
   ]
  },
  {
   "cell_type": "code",
   "execution_count": 93,
   "metadata": {},
   "outputs": [
    {
     "data": {
      "text/plain": [
       "['12/02/2023 20:02',\n",
       " '12/02/2023 16:38',\n",
       " '12/02/2023 11:56',\n",
       " '12/02/2023 11:43',\n",
       " '12/02/2023 11:30',\n",
       " '12/02/2023 09:53',\n",
       " '12/02/2023 09:35',\n",
       " '12/02/2023 09:30',\n",
       " '12/02/2023 09:28',\n",
       " '12/02/2023 09:15']"
      ]
     },
     "execution_count": 93,
     "metadata": {},
     "output_type": "execute_result"
    }
   ],
   "source": [
    "date"
   ]
  },
  {
   "cell_type": "code",
   "execution_count": 94,
   "metadata": {},
   "outputs": [],
   "source": [
    "DF = pd.DataFrame({'Date':date , 'title':title,'links':links})"
   ]
  },
  {
   "cell_type": "code",
   "execution_count": 95,
   "metadata": {},
   "outputs": [
    {
     "data": {
      "text/html": [
       "<div>\n",
       "<style scoped>\n",
       "    .dataframe tbody tr th:only-of-type {\n",
       "        vertical-align: middle;\n",
       "    }\n",
       "\n",
       "    .dataframe tbody tr th {\n",
       "        vertical-align: top;\n",
       "    }\n",
       "\n",
       "    .dataframe thead th {\n",
       "        text-align: right;\n",
       "    }\n",
       "</style>\n",
       "<table border=\"1\" class=\"dataframe\">\n",
       "  <thead>\n",
       "    <tr style=\"text-align: right;\">\n",
       "      <th></th>\n",
       "      <th>Date</th>\n",
       "      <th>title</th>\n",
       "      <th>links</th>\n",
       "    </tr>\n",
       "  </thead>\n",
       "  <tbody>\n",
       "    <tr>\n",
       "      <th>0</th>\n",
       "      <td>12/02/2023 20:02</td>\n",
       "      <td>THCOM ชงผู้ถือหุ้น 7 เม.ย. จัดหนัก 1.5 หมื่นลบ...</td>\n",
       "      <td>https://www.kaohoon.com/news/588004</td>\n",
       "    </tr>\n",
       "    <tr>\n",
       "      <th>1</th>\n",
       "      <td>12/02/2023 16:38</td>\n",
       "      <td>CPF ปลื้มติดอันดับดัชนีความยั่งยืน S&amp;P Global ...</td>\n",
       "      <td>https://www.kaohoon.com/pr/587985</td>\n",
       "    </tr>\n",
       "    <tr>\n",
       "      <th>2</th>\n",
       "      <td>12/02/2023 11:56</td>\n",
       "      <td>“นายก” กำชับ 3 แนวทางฟันโทษ “ข้าราชการ” ทำผิดว...</td>\n",
       "      <td>https://www.kaohoon.com/news/587981</td>\n",
       "    </tr>\n",
       "    <tr>\n",
       "      <th>3</th>\n",
       "      <td>12/02/2023 11:43</td>\n",
       "      <td>เอาจริง! เบี้ยวจ่ายค่าปรับ-ใบสั่ง ไม่ได้ป้ายภา...</td>\n",
       "      <td>https://www.kaohoon.com/news/587971</td>\n",
       "    </tr>\n",
       "    <tr>\n",
       "      <th>4</th>\n",
       "      <td>12/02/2023 11:30</td>\n",
       "      <td>จุดเปลี่ยนหุ้น “ก่อสร้าง” งานล้นมือหลังเลือกตั...</td>\n",
       "      <td>https://www.kaohoon.com/news/587911</td>\n",
       "    </tr>\n",
       "    <tr>\n",
       "      <th>5</th>\n",
       "      <td>12/02/2023 09:53</td>\n",
       "      <td>“อุตุ” เตือน “เหนือ-อีสาน” อากาศแปรปรวน 14-17 ...</td>\n",
       "      <td>https://www.kaohoon.com/news/587974</td>\n",
       "    </tr>\n",
       "    <tr>\n",
       "      <th>6</th>\n",
       "      <td>12/02/2023 09:35</td>\n",
       "      <td>GPI รุกคืบงานอีเวนต์ปั้นกำไร</td>\n",
       "      <td>https://www.kaohoon.com/column/587972</td>\n",
       "    </tr>\n",
       "    <tr>\n",
       "      <th>7</th>\n",
       "      <td>12/02/2023 09:30</td>\n",
       "      <td>เปิดโผ 14 หุ้นปันผลต่อเนื่อง 4 ปี ยีลด์เกิน 4%</td>\n",
       "      <td>https://www.kaohoon.com/news/587955</td>\n",
       "    </tr>\n",
       "    <tr>\n",
       "      <th>8</th>\n",
       "      <td>12/02/2023 09:28</td>\n",
       "      <td>ระวัง DELTA เสี่ยงสูง</td>\n",
       "      <td>https://www.kaohoon.com/column/587969</td>\n",
       "    </tr>\n",
       "    <tr>\n",
       "      <th>9</th>\n",
       "      <td>12/02/2023 09:15</td>\n",
       "      <td>30 หุ้นฝรั่งไล่ซื้อ – ขายทิ้ง (NVDR) ประจำวันท...</td>\n",
       "      <td>https://www.kaohoon.com/summary/587703</td>\n",
       "    </tr>\n",
       "  </tbody>\n",
       "</table>\n",
       "</div>"
      ],
      "text/plain": [
       "               Date                                              title  \\\n",
       "0  12/02/2023 20:02  THCOM ชงผู้ถือหุ้น 7 เม.ย. จัดหนัก 1.5 หมื่นลบ...   \n",
       "1  12/02/2023 16:38  CPF ปลื้มติดอันดับดัชนีความยั่งยืน S&P Global ...   \n",
       "2  12/02/2023 11:56  “นายก” กำชับ 3 แนวทางฟันโทษ “ข้าราชการ” ทำผิดว...   \n",
       "3  12/02/2023 11:43  เอาจริง! เบี้ยวจ่ายค่าปรับ-ใบสั่ง ไม่ได้ป้ายภา...   \n",
       "4  12/02/2023 11:30  จุดเปลี่ยนหุ้น “ก่อสร้าง” งานล้นมือหลังเลือกตั...   \n",
       "5  12/02/2023 09:53  “อุตุ” เตือน “เหนือ-อีสาน” อากาศแปรปรวน 14-17 ...   \n",
       "6  12/02/2023 09:35                       GPI รุกคืบงานอีเวนต์ปั้นกำไร   \n",
       "7  12/02/2023 09:30     เปิดโผ 14 หุ้นปันผลต่อเนื่อง 4 ปี ยีลด์เกิน 4%   \n",
       "8  12/02/2023 09:28                              ระวัง DELTA เสี่ยงสูง   \n",
       "9  12/02/2023 09:15  30 หุ้นฝรั่งไล่ซื้อ – ขายทิ้ง (NVDR) ประจำวันท...   \n",
       "\n",
       "                                    links  \n",
       "0     https://www.kaohoon.com/news/588004  \n",
       "1       https://www.kaohoon.com/pr/587985  \n",
       "2     https://www.kaohoon.com/news/587981  \n",
       "3     https://www.kaohoon.com/news/587971  \n",
       "4     https://www.kaohoon.com/news/587911  \n",
       "5     https://www.kaohoon.com/news/587974  \n",
       "6   https://www.kaohoon.com/column/587972  \n",
       "7     https://www.kaohoon.com/news/587955  \n",
       "8   https://www.kaohoon.com/column/587969  \n",
       "9  https://www.kaohoon.com/summary/587703  "
      ]
     },
     "execution_count": 95,
     "metadata": {},
     "output_type": "execute_result"
    }
   ],
   "source": [
    "DF"
   ]
  },
  {
   "cell_type": "code",
   "execution_count": null,
   "metadata": {},
   "outputs": [],
   "source": []
  },
  {
   "attachments": {},
   "cell_type": "markdown",
   "metadata": {},
   "source": [
    "Schap -------------------------SET news"
   ]
  },
  {
   "cell_type": "code",
   "execution_count": 27,
   "metadata": {},
   "outputs": [
    {
     "name": "stderr",
     "output_type": "stream",
     "text": [
      "C:\\Users\\JourneyQ\\AppData\\Local\\Temp\\ipykernel_16776\\2832632796.py:3: DeprecationWarning: executable_path has been deprecated, please pass in a Service object\n",
      "  driver = webdriver.Chrome(r\"C:\\Users\\JourneyQ\\OneDrive - kmutnb.ac.th\\Desktop\\Quick_file\\year_2-S_2\\Project_sofedev_2\\Schap\\chromedriver.exe\")\n"
     ]
    }
   ],
   "source": [
    "driver = Set_up_WebScraping(\"https://www.set.or.th/en/search-result?keyword=News\")"
   ]
  },
  {
   "cell_type": "code",
   "execution_count": 36,
   "metadata": {},
   "outputs": [],
   "source": [
    "text = []\n",
    "date = []\n",
    "source = []\n",
    "symbol = []\n",
    "links = []\n",
    "for i in range(20):\n",
    "\n",
    "    data = driver.find_element(By.XPATH, f'/html/body/div/div/div/div[2]/div[2]/div/div/div[2]/div[2]/div[3]/div/div/div[2]/div[{i+1}]')\n",
    "    link = driver.find_element(By.XPATH, f'/html/body/div/div/div/div[2]/div[2]/div/div/div[2]/div[2]/div[3]/div/div/div[2]/div[{i+1}]/div/div[2]/div[2]/a')\n",
    "    t = (data.text).split('\\n')\n",
    "    text.append(t[3])\n",
    "    date.append(t[0])\n",
    "    source.append(t[2])\n",
    "    symbol.append(t[-1])\n",
    "    links.append(link.get_attribute('href'))\n",
    "    # date.append(t[1]+' '+t[0])"
   ]
  },
  {
   "cell_type": "code",
   "execution_count": 18,
   "metadata": {},
   "outputs": [
    {
     "data": {
      "text/plain": [
       "'09 ก.พ. 2566 18:27\\nแหล่งข่าว\\nNUSA\\nชี้แจงข่าวหรือข้อมูลตามที่ตลาดหลักทรัพย์ฯ สอบถาม\\nNUSA'"
      ]
     },
     "execution_count": 18,
     "metadata": {},
     "output_type": "execute_result"
    }
   ],
   "source": [
    "(driver.find_element(By.XPATH, f'/html/body/div/div/div/div[2]/div[2]/div/div/div[2]/div[2]/div[3]/div/div/div[2]/div[1]')).text"
   ]
  },
  {
   "cell_type": "code",
   "execution_count": 33,
   "metadata": {},
   "outputs": [
    {
     "data": {
      "text/plain": [
       "'https://www.set.or.th/en/market/news-and-alert/newsdetails?id=16759861805530'"
      ]
     },
     "execution_count": 33,
     "metadata": {},
     "output_type": "execute_result"
    }
   ],
   "source": [
    "(driver.find_element(By.XPATH, f'/html/body/div/div/div/div[2]/div[2]/div/div/div[2]/div[2]/div[3]/div/div/div[2]/div[1]/div/div[2]/div[2]/a')).get_attribute('href')"
   ]
  },
  {
   "cell_type": "code",
   "execution_count": 37,
   "metadata": {},
   "outputs": [],
   "source": [
    "DF = pd.DataFrame({'Date':date ,'Source':source, 'Title':text,'Symbol':symbol,'Links':links})"
   ]
  },
  {
   "cell_type": "code",
   "execution_count": 38,
   "metadata": {},
   "outputs": [
    {
     "data": {
      "text/html": [
       "<div>\n",
       "<style scoped>\n",
       "    .dataframe tbody tr th:only-of-type {\n",
       "        vertical-align: middle;\n",
       "    }\n",
       "\n",
       "    .dataframe tbody tr th {\n",
       "        vertical-align: top;\n",
       "    }\n",
       "\n",
       "    .dataframe thead th {\n",
       "        text-align: right;\n",
       "    }\n",
       "</style>\n",
       "<table border=\"1\" class=\"dataframe\">\n",
       "  <thead>\n",
       "    <tr style=\"text-align: right;\">\n",
       "      <th></th>\n",
       "      <th>Date</th>\n",
       "      <th>Source</th>\n",
       "      <th>Title</th>\n",
       "      <th>Symbol</th>\n",
       "      <th>Links</th>\n",
       "    </tr>\n",
       "  </thead>\n",
       "  <tbody>\n",
       "    <tr>\n",
       "      <th>0</th>\n",
       "      <td>10 Feb 2023 08:57</td>\n",
       "      <td>BLS</td>\n",
       "      <td>Disclosure of the DR Monthly Newsletter of CNT...</td>\n",
       "      <td>CNTECH01</td>\n",
       "      <td>https://www.set.or.th/en/market/news-and-alert...</td>\n",
       "    </tr>\n",
       "    <tr>\n",
       "      <th>1</th>\n",
       "      <td>10 Feb 2023 08:56</td>\n",
       "      <td>BLS</td>\n",
       "      <td>Disclosure of the DR Monthly Newsletter of CN01</td>\n",
       "      <td>CN01</td>\n",
       "      <td>https://www.set.or.th/en/market/news-and-alert...</td>\n",
       "    </tr>\n",
       "    <tr>\n",
       "      <th>2</th>\n",
       "      <td>10 Feb 2023 08:44</td>\n",
       "      <td>BLS</td>\n",
       "      <td>Disclosure of the DR Monthly Newsletter of STA...</td>\n",
       "      <td>STAR5001</td>\n",
       "      <td>https://www.set.or.th/en/market/news-and-alert...</td>\n",
       "    </tr>\n",
       "    <tr>\n",
       "      <th>3</th>\n",
       "      <td>10 Feb 2023 08:44</td>\n",
       "      <td>BLS</td>\n",
       "      <td>Disclosure of the DR Monthly Newsletter of NDX01</td>\n",
       "      <td>NDX01</td>\n",
       "      <td>https://www.set.or.th/en/market/news-and-alert...</td>\n",
       "    </tr>\n",
       "    <tr>\n",
       "      <th>4</th>\n",
       "      <td>10 Feb 2023 08:43</td>\n",
       "      <td>BLS</td>\n",
       "      <td>Disclosure of the DR Monthly Newsletter of FUE...</td>\n",
       "      <td>FUEVFVND01</td>\n",
       "      <td>https://www.set.or.th/en/market/news-and-alert...</td>\n",
       "    </tr>\n",
       "    <tr>\n",
       "      <th>5</th>\n",
       "      <td>10 Feb 2023 08:42</td>\n",
       "      <td>BLS</td>\n",
       "      <td>Disclosure of the DR Monthly Newsletter of E1V...</td>\n",
       "      <td>E1VFVN3001</td>\n",
       "      <td>https://www.set.or.th/en/market/news-and-alert...</td>\n",
       "    </tr>\n",
       "    <tr>\n",
       "      <th>6</th>\n",
       "      <td>09 Feb 2023 18:27</td>\n",
       "      <td>NUSA</td>\n",
       "      <td>Clarification of news or information requested...</td>\n",
       "      <td>NUSA</td>\n",
       "      <td>https://www.set.or.th/en/market/news-and-alert...</td>\n",
       "    </tr>\n",
       "    <tr>\n",
       "      <th>7</th>\n",
       "      <td>08 Feb 2023 13:41</td>\n",
       "      <td>SET</td>\n",
       "      <td>mai News :mai welcomes food additive supplier ...</td>\n",
       "      <td>SET</td>\n",
       "      <td>https://www.set.or.th/en/market/news-and-alert...</td>\n",
       "    </tr>\n",
       "    <tr>\n",
       "      <th>8</th>\n",
       "      <td>07 Feb 2023 17:57</td>\n",
       "      <td>SET</td>\n",
       "      <td>SET News :SET market report for January 2023</td>\n",
       "      <td>SET</td>\n",
       "      <td>https://www.set.or.th/en/market/news-and-alert...</td>\n",
       "    </tr>\n",
       "    <tr>\n",
       "      <th>9</th>\n",
       "      <td>07 Feb 2023 13:48</td>\n",
       "      <td>SET</td>\n",
       "      <td>mai News :mai welcomes property developer SVR ...</td>\n",
       "      <td>SET</td>\n",
       "      <td>https://www.set.or.th/en/market/news-and-alert...</td>\n",
       "    </tr>\n",
       "    <tr>\n",
       "      <th>10</th>\n",
       "      <td>01 Feb 2023 13:59</td>\n",
       "      <td>SET</td>\n",
       "      <td>SET News : TSD expands e-Service to cater to n...</td>\n",
       "      <td>SET</td>\n",
       "      <td>https://www.set.or.th/en/market/news-and-alert...</td>\n",
       "    </tr>\n",
       "    <tr>\n",
       "      <th>11</th>\n",
       "      <td>01 Feb 2023 12:31</td>\n",
       "      <td>TRC</td>\n",
       "      <td>Clarification of news or information requested...</td>\n",
       "      <td>TRC</td>\n",
       "      <td>https://www.set.or.th/en/market/news-and-alert...</td>\n",
       "    </tr>\n",
       "    <tr>\n",
       "      <th>12</th>\n",
       "      <td>31 Jan 2023 19:09</td>\n",
       "      <td>EA</td>\n",
       "      <td>Clarification on news in media</td>\n",
       "      <td>EA</td>\n",
       "      <td>https://www.set.or.th/en/market/news-and-alert...</td>\n",
       "    </tr>\n",
       "    <tr>\n",
       "      <th>13</th>\n",
       "      <td>31 Jan 2023 17:21</td>\n",
       "      <td>TH</td>\n",
       "      <td>Clarification of news or information requested...</td>\n",
       "      <td>TH</td>\n",
       "      <td>https://www.set.or.th/en/market/news-and-alert...</td>\n",
       "    </tr>\n",
       "    <tr>\n",
       "      <th>14</th>\n",
       "      <td>27 Jan 2023 17:00</td>\n",
       "      <td>SCB</td>\n",
       "      <td>Clarification of News Report Concerning SCB As...</td>\n",
       "      <td>SCB</td>\n",
       "      <td>https://www.set.or.th/en/market/news-and-alert...</td>\n",
       "    </tr>\n",
       "    <tr>\n",
       "      <th>15</th>\n",
       "      <td>27 Jan 2023 08:51</td>\n",
       "      <td>KBANK</td>\n",
       "      <td>CLARIFICATION OF NEWS REPORTS CONCERNING KAsset</td>\n",
       "      <td>KBANK</td>\n",
       "      <td>https://www.set.or.th/en/market/news-and-alert...</td>\n",
       "    </tr>\n",
       "    <tr>\n",
       "      <th>16</th>\n",
       "      <td>26 Jan 2023 13:11</td>\n",
       "      <td>EASTW</td>\n",
       "      <td>Clarification for news in media</td>\n",
       "      <td>EASTW</td>\n",
       "      <td>https://www.set.or.th/en/market/news-and-alert...</td>\n",
       "    </tr>\n",
       "    <tr>\n",
       "      <th>17</th>\n",
       "      <td>24 Jan 2023 12:49</td>\n",
       "      <td>SET</td>\n",
       "      <td>mai News :mai welcomes aesthetic hospital oper...</td>\n",
       "      <td>SET</td>\n",
       "      <td>https://www.set.or.th/en/market/news-and-alert...</td>\n",
       "    </tr>\n",
       "    <tr>\n",
       "      <th>18</th>\n",
       "      <td>20 Jan 2023 13:29</td>\n",
       "      <td>TH</td>\n",
       "      <td>Clarification of news or information requested...</td>\n",
       "      <td>TH</td>\n",
       "      <td>https://www.set.or.th/en/market/news-and-alert...</td>\n",
       "    </tr>\n",
       "    <tr>\n",
       "      <th>19</th>\n",
       "      <td>20 Jan 2023 12:49</td>\n",
       "      <td>OR</td>\n",
       "      <td>Clarification on news</td>\n",
       "      <td>OR</td>\n",
       "      <td>https://www.set.or.th/en/market/news-and-alert...</td>\n",
       "    </tr>\n",
       "  </tbody>\n",
       "</table>\n",
       "</div>"
      ],
      "text/plain": [
       "                 Date Source  \\\n",
       "0   10 Feb 2023 08:57    BLS   \n",
       "1   10 Feb 2023 08:56    BLS   \n",
       "2   10 Feb 2023 08:44    BLS   \n",
       "3   10 Feb 2023 08:44    BLS   \n",
       "4   10 Feb 2023 08:43    BLS   \n",
       "5   10 Feb 2023 08:42    BLS   \n",
       "6   09 Feb 2023 18:27   NUSA   \n",
       "7   08 Feb 2023 13:41    SET   \n",
       "8   07 Feb 2023 17:57    SET   \n",
       "9   07 Feb 2023 13:48    SET   \n",
       "10  01 Feb 2023 13:59    SET   \n",
       "11  01 Feb 2023 12:31    TRC   \n",
       "12  31 Jan 2023 19:09     EA   \n",
       "13  31 Jan 2023 17:21     TH   \n",
       "14  27 Jan 2023 17:00    SCB   \n",
       "15  27 Jan 2023 08:51  KBANK   \n",
       "16  26 Jan 2023 13:11  EASTW   \n",
       "17  24 Jan 2023 12:49    SET   \n",
       "18  20 Jan 2023 13:29     TH   \n",
       "19  20 Jan 2023 12:49     OR   \n",
       "\n",
       "                                                Title      Symbol  \\\n",
       "0   Disclosure of the DR Monthly Newsletter of CNT...    CNTECH01   \n",
       "1     Disclosure of the DR Monthly Newsletter of CN01        CN01   \n",
       "2   Disclosure of the DR Monthly Newsletter of STA...    STAR5001   \n",
       "3    Disclosure of the DR Monthly Newsletter of NDX01       NDX01   \n",
       "4   Disclosure of the DR Monthly Newsletter of FUE...  FUEVFVND01   \n",
       "5   Disclosure of the DR Monthly Newsletter of E1V...  E1VFVN3001   \n",
       "6   Clarification of news or information requested...        NUSA   \n",
       "7   mai News :mai welcomes food additive supplier ...         SET   \n",
       "8        SET News :SET market report for January 2023         SET   \n",
       "9   mai News :mai welcomes property developer SVR ...         SET   \n",
       "10  SET News : TSD expands e-Service to cater to n...         SET   \n",
       "11  Clarification of news or information requested...         TRC   \n",
       "12                     Clarification on news in media          EA   \n",
       "13  Clarification of news or information requested...          TH   \n",
       "14  Clarification of News Report Concerning SCB As...         SCB   \n",
       "15    CLARIFICATION OF NEWS REPORTS CONCERNING KAsset       KBANK   \n",
       "16                    Clarification for news in media       EASTW   \n",
       "17  mai News :mai welcomes aesthetic hospital oper...         SET   \n",
       "18  Clarification of news or information requested...          TH   \n",
       "19                              Clarification on news          OR   \n",
       "\n",
       "                                                Links  \n",
       "0   https://www.set.or.th/en/market/news-and-alert...  \n",
       "1   https://www.set.or.th/en/market/news-and-alert...  \n",
       "2   https://www.set.or.th/en/market/news-and-alert...  \n",
       "3   https://www.set.or.th/en/market/news-and-alert...  \n",
       "4   https://www.set.or.th/en/market/news-and-alert...  \n",
       "5   https://www.set.or.th/en/market/news-and-alert...  \n",
       "6   https://www.set.or.th/en/market/news-and-alert...  \n",
       "7   https://www.set.or.th/en/market/news-and-alert...  \n",
       "8   https://www.set.or.th/en/market/news-and-alert...  \n",
       "9   https://www.set.or.th/en/market/news-and-alert...  \n",
       "10  https://www.set.or.th/en/market/news-and-alert...  \n",
       "11  https://www.set.or.th/en/market/news-and-alert...  \n",
       "12  https://www.set.or.th/en/market/news-and-alert...  \n",
       "13  https://www.set.or.th/en/market/news-and-alert...  \n",
       "14  https://www.set.or.th/en/market/news-and-alert...  \n",
       "15  https://www.set.or.th/en/market/news-and-alert...  \n",
       "16  https://www.set.or.th/en/market/news-and-alert...  \n",
       "17  https://www.set.or.th/en/market/news-and-alert...  \n",
       "18  https://www.set.or.th/en/market/news-and-alert...  \n",
       "19  https://www.set.or.th/en/market/news-and-alert...  "
      ]
     },
     "execution_count": 38,
     "metadata": {},
     "output_type": "execute_result"
    }
   ],
   "source": [
    "DF"
   ]
  },
  {
   "cell_type": "code",
   "execution_count": null,
   "metadata": {},
   "outputs": [],
   "source": []
  },
  {
   "attachments": {},
   "cell_type": "markdown",
   "metadata": {},
   "source": []
  }
 ],
 "metadata": {
  "kernelspec": {
   "display_name": "base",
   "language": "python",
   "name": "python3"
  },
  "language_info": {
   "codemirror_mode": {
    "name": "ipython",
    "version": 3
   },
   "file_extension": ".py",
   "mimetype": "text/x-python",
   "name": "python",
   "nbconvert_exporter": "python",
   "pygments_lexer": "ipython3",
   "version": "3.9.12"
  },
  "orig_nbformat": 4,
  "vscode": {
   "interpreter": {
    "hash": "9ea22d1d3e790d75f76cb29b65eb717056d85f07a0f86a1e85e289439e0ad71b"
   }
  }
 },
 "nbformat": 4,
 "nbformat_minor": 2
}
