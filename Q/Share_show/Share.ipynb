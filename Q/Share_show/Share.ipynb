{
 "cells": [
  {
   "cell_type": "code",
   "execution_count": 1,
   "id": "47c0d127",
   "metadata": {},
   "outputs": [],
   "source": [
    "import pandas as pd\n",
    "import html5lib\n",
    "import time\n",
    "import sqlite3\n",
    "import pandas as pd\n",
    "import matplotlib.pyplot as plt\n",
    "import yfinance as yf\n",
    "import mplfinance as mpf\n",
    "from datetime import datetime, timedelta\n",
    "import plotly\n",
    "import plotly.graph_objs as go\n",
    "import datetime\n",
    "from selenium import webdriver\n",
    "from selenium.webdriver.common.by import By\n",
    "from selenium.webdriver.support.ui import WebDriverWait\n",
    "from selenium.webdriver.support import expected_conditions as EC\n",
    "import pandas as pd\n",
    "from selenium.webdriver.chrome.options import Options"
   ]
  },
  {
   "cell_type": "code",
   "execution_count": 2,
   "id": "3df472ee",
   "metadata": {},
   "outputs": [],
   "source": [
    "class Stock_Share():\n",
    "    \n",
    "    def __init__(self):\n",
    "        \n",
    "        self.location_db = r'C:\\Users\\JourneyQ\\OneDrive - kmutnb.ac.th\\Desktop\\Quick_file\\year_2-S_2\\softdev-2\\Set_dataframe_to_sqlite3\\share.sqlite'\n",
    "        self.symbol_id =  self.get_symbol_id()\n",
    "        \n",
    "    def get_symbol_id(self):\n",
    "        \n",
    "        con = sqlite3.connect(self.location_db)\n",
    "        cur = con.cursor()\n",
    "\n",
    "        sql = \"\"\"select Symbol,SymbolId \n",
    "                from Information\n",
    "                \"\"\"\n",
    "        cur.execute(sql)\n",
    "        records = cur.fetchall()\n",
    "        con.close()\n",
    "        symbol_id = {}\n",
    "        \n",
    "        for share in records:\n",
    "            \n",
    "            symbol_id[share[0]] = share[1]\n",
    "        \n",
    "        \n",
    "        return symbol_id\n",
    "    \n",
    "    def get_set50_100_from_web(self,amoung):\n",
    "\n",
    "        options = Options()\n",
    "        options.add_argument('--headless')\n",
    "        driver = webdriver.Chrome(r\"C:\\Users\\JourneyQ\\OneDrive - kmutnb.ac.th\\Desktop\\Quick_file\\year_2-S_2\\softdev-2\\week2\\chromedriver.exe\", chrome_options=options)\n",
    "        driver.get(\"https://www.set.or.th/en/market/index/set{}/overview\".format(amoung))\n",
    "        data = driver.page_source\n",
    "        data_df = pd.read_html(data)[2]\n",
    "\n",
    "        return data_df['Symbol  (Click to sort Ascending)'].tolist()\n",
    "\n",
    "    def get_set50_100(self,amoung):\n",
    "\n",
    "        datas = self.get_set50_100_from_web(amoung)\n",
    "        share = []\n",
    "\n",
    "        for data in datas:\n",
    "\n",
    "            share.append(data.split()[0])\n",
    "\n",
    "        return share\n",
    "    \n",
    "    def get_share_info(self,share):\n",
    "        \n",
    "        con = sqlite3.connect(self.location_db)\n",
    "        cur = con.cursor()\n",
    "        \n",
    "        sql = \"\"\"select I.Symbol,I.Market,I.\"Dividend Policy\",I.\"Business Type\",Ind.Full_Industry,S.Full_Sector\n",
    "                from ((Information as I\n",
    "                inner join Sector as S on I.SectorId = S.SectorId)\n",
    "                inner join Industry as Ind on I.IndustryId = Ind.IndustryId)\n",
    "                where Symbol = \"{}\"\n",
    "                \"\"\".format(share)\n",
    "        \n",
    "        cur.execute(sql)\n",
    "        records = cur.fetchall()\n",
    "        con.close()\n",
    "        \n",
    "        if records != [] :\n",
    "            \n",
    "            return records[0]\n",
    "        \n",
    "        return 'Stock information not found.'\n",
    "    \n",
    "    def get_share_Financial(self,share):\n",
    "        \n",
    "        con = sqlite3.connect(self.location_db)\n",
    "        cur = con.cursor()\n",
    "        \n",
    "        sql = \"\"\"select F.\"Period as of\",F.\"Assets\",F.\"Liabilities\",F.\"Equity\" ,F.\"Paid-up Capital\",F.\"Revenue\",\n",
    "                F.\"Profit (Loss) from Other Activities\",F.\"Net Profit\",F.\"EPS (Baht)\",F.\"ROA (%)\",F.\"ROE (%)\",F.\"Net Profit Margin (%)\",Ind.Symbol\n",
    "                from (Financial as F \n",
    "                inner join Information as Ind on F.SymbolId = Ind.SymbolId )\n",
    "                where Symbol = '{}'\n",
    "                \"\"\".format(share)\n",
    "        \n",
    "        stock_data = pd.read_sql(sql,con)\n",
    "        con.close()\n",
    "        return stock_data\n",
    "    \n",
    "    def get_share_Satistics(self,share):\n",
    "\n",
    "        con = sqlite3.connect(self.location_db)\n",
    "        cur = con.cursor()\n",
    "        \n",
    "        sql = \"\"\"select S.\"Statistics as of\",S.\"Last Price (Baht)\",S.\"Market Cap. (M.Baht)\",S.\"F/S Period (As of date)\",S.\"P/E\",\n",
    "                S.\"P/BV\",S.\"Book Value per share (Baht)\",S.\"Dividend Yield (%)\",Ind.\"Symbol\"\n",
    "                from (Satistics as S\n",
    "                inner join Information as Ind on S.SymbolId = Ind.SymbolId )\n",
    "                where Symbol = '{}'\n",
    "                \"\"\".format(share)\n",
    "        \n",
    "        stock_data = pd.read_sql(sql,con)\n",
    "    \n",
    "        con.close()\n",
    "        return stock_data\n",
    "    \n",
    "    # plot --------------------------------------------------------------------------\n",
    "    \n",
    "    def Plot_Candle_hours(self,share):\n",
    "        \n",
    "        con = sqlite3.connect(self.location_db)\n",
    "        cur = con.cursor()\n",
    "        \n",
    "        sql = \"\"\"\n",
    "        select * From Stock_price_hours\n",
    "        Inner join Information\n",
    "        on Information.SymbolId = Stock_price_hours.SymbolId\n",
    "        Where Symbol = \"{}\"\n",
    "        ORDER BY Datetime DESC\n",
    "        LIMIT 100;\n",
    "        \"\"\".format(share)\n",
    "\n",
    "        df1h = pd.read_sql(sql,con)\n",
    "        con.close()\n",
    "        \n",
    "        df1h['Datetime'] = pd.to_datetime(df1h['Datetime'])\n",
    "        my_range = pd.date_range(start= min(df1h['Datetime']), end= max(df1h['Datetime']), freq='H')\n",
    "        missing_datetime = my_range.difference(df1h['Datetime']).strftime(\"%Y-%m-%d H%:m%:s%\").tolist()\n",
    "        fig = go.Figure(data=[go.Candlestick(\n",
    "                                x=df1h['Datetime'],\n",
    "                                open=df1h['Open'],\n",
    "                                high=df1h['High'],\n",
    "                                low=df1h['Low'],\n",
    "                                close=df1h['Close']\n",
    "        )])\n",
    "\n",
    "        fig.update_xaxes(\n",
    "            rangebreaks=[\n",
    "                dict(bounds=[17, 10], pattern=\"hour\"),\n",
    "                dict(values=missing_datetime, dvalue=3600000)\n",
    "            ])\n",
    "\n",
    "        fig.show()\n",
    "        \n",
    "    def Plot_Candle_Day(self,share):\n",
    "        \n",
    "        \n",
    "        con = sqlite3.connect(self.location_db)\n",
    "        cur = con.cursor()\n",
    "\n",
    "        sql = \"\"\"\n",
    "        select * From Stock_price_day\n",
    "        Inner join Information\n",
    "        on Information.SymbolId = Stock_price_day.SymbolId\n",
    "        Where Symbol = \"{}\"\n",
    "        ORDER BY Date DESC\n",
    "        LIMIT 100;\n",
    "        \"\"\".format(share)\n",
    "        df1d = pd.read_sql(sql,con)\n",
    "        con.close()\n",
    "        \n",
    "        df1d['Date'] = pd.to_datetime(df1d['Date'])\n",
    "        my_range = pd.date_range(start= min(df1d['Date']), end= max(df1d['Date']), freq='B')\n",
    "        missing_date = my_range.difference(df1d['Date']).strftime(\"%Y-%m-%d\").tolist()\n",
    "\n",
    "        fig = go.Figure(data=[go.Candlestick(\n",
    "                                x=df1d['Date'],\n",
    "                                open=df1d['Open'],\n",
    "                                high=df1d['High'],\n",
    "                                low=df1d['Low'],\n",
    "                                close=df1d['Close']\n",
    "        )])\n",
    "\n",
    "        fig.update_xaxes(\n",
    "            rangebreaks=[\n",
    "                dict(bounds=[\"sat\", \"mon\"]),\n",
    "                dict(values=missing_date) \n",
    "        ])\n",
    "\n",
    "        fig.show()"
   ]
  },
  {
   "cell_type": "code",
   "execution_count": 3,
   "id": "6c5f03e9",
   "metadata": {},
   "outputs": [],
   "source": [
    "share = Stock_Share()"
   ]
  },
  {
   "cell_type": "code",
   "execution_count": 4,
   "id": "b612b4d8",
   "metadata": {},
   "outputs": [
    {
     "data": {
      "text/plain": [
       "('TU',\n",
       " 'SET',\n",
       " 'At least 50% of its net profit twice a year',\n",
       " 'The Company engages in the manufacture and export of frozen and canned seafood. Its comprehensive business is completed with snack foods such as canned food, frozen food and snacks of various types especially seafood. Also, its businesses include packaging and publishing business, domestic market business, animal feed and development of shrimp species for sale business and commercial shrimp hatchery and nursery.',\n",
       " 'Agro & Food Industry',\n",
       " 'Food & Beverage')"
      ]
     },
     "execution_count": 4,
     "metadata": {},
     "output_type": "execute_result"
    }
   ],
   "source": [
    "share.get_share_info('TU')"
   ]
  },
  {
   "cell_type": "code",
   "execution_count": 5,
   "id": "302ebebb",
   "metadata": {
    "scrolled": true
   },
   "outputs": [
    {
     "ename": "DatabaseError",
     "evalue": "Execution failed on sql 'select F.\"Period as of\",F.\"Assets\",F.\"Liabilities\",F.\"Equity\" ,F.\"Paid-up Capital\",F.\"Revenue\",\n                F.\"Profit (Loss) from Other Activities\",F.\"Net Profit\",F.\"EPS (Baht)\",F.\"ROA (%)\",F.\"ROE (%)\",F.\"Net Profit Margin (%)\",Ind.Symbol\n                from (Financial as F \n                inner join Information as Ind on F.SymbolId = Ind.SymbolId )\n                where Symbol = 'TU'\n                ': no such table: Financial",
     "output_type": "error",
     "traceback": [
      "\u001b[1;31m---------------------------------------------------------------------------\u001b[0m",
      "\u001b[1;31mOperationalError\u001b[0m                          Traceback (most recent call last)",
      "File \u001b[1;32m~\\anaconda3\\lib\\site-packages\\pandas\\io\\sql.py:2020\u001b[0m, in \u001b[0;36mSQLiteDatabase.execute\u001b[1;34m(self, *args, **kwargs)\u001b[0m\n\u001b[0;32m   2019\u001b[0m \u001b[38;5;28;01mtry\u001b[39;00m:\n\u001b[1;32m-> 2020\u001b[0m     cur\u001b[38;5;241m.\u001b[39mexecute(\u001b[38;5;241m*\u001b[39margs, \u001b[38;5;241m*\u001b[39m\u001b[38;5;241m*\u001b[39mkwargs)\n\u001b[0;32m   2021\u001b[0m     \u001b[38;5;28;01mreturn\u001b[39;00m cur\n",
      "\u001b[1;31mOperationalError\u001b[0m: no such table: Financial",
      "\nThe above exception was the direct cause of the following exception:\n",
      "\u001b[1;31mDatabaseError\u001b[0m                             Traceback (most recent call last)",
      "Input \u001b[1;32mIn [5]\u001b[0m, in \u001b[0;36m<cell line: 1>\u001b[1;34m()\u001b[0m\n\u001b[1;32m----> 1\u001b[0m \u001b[43mshare\u001b[49m\u001b[38;5;241;43m.\u001b[39;49m\u001b[43mget_share_Financial\u001b[49m\u001b[43m(\u001b[49m\u001b[38;5;124;43m'\u001b[39;49m\u001b[38;5;124;43mTU\u001b[39;49m\u001b[38;5;124;43m'\u001b[39;49m\u001b[43m)\u001b[49m\n",
      "Input \u001b[1;32mIn [2]\u001b[0m, in \u001b[0;36mStock_Share.get_share_Financial\u001b[1;34m(self, share)\u001b[0m\n\u001b[0;32m     75\u001b[0m cur \u001b[38;5;241m=\u001b[39m con\u001b[38;5;241m.\u001b[39mcursor()\n\u001b[0;32m     77\u001b[0m sql \u001b[38;5;241m=\u001b[39m \u001b[38;5;124m\"\"\"\u001b[39m\u001b[38;5;124mselect F.\u001b[39m\u001b[38;5;124m\"\u001b[39m\u001b[38;5;124mPeriod as of\u001b[39m\u001b[38;5;124m\"\u001b[39m\u001b[38;5;124m,F.\u001b[39m\u001b[38;5;124m\"\u001b[39m\u001b[38;5;124mAssets\u001b[39m\u001b[38;5;124m\"\u001b[39m\u001b[38;5;124m,F.\u001b[39m\u001b[38;5;124m\"\u001b[39m\u001b[38;5;124mLiabilities\u001b[39m\u001b[38;5;124m\"\u001b[39m\u001b[38;5;124m,F.\u001b[39m\u001b[38;5;124m\"\u001b[39m\u001b[38;5;124mEquity\u001b[39m\u001b[38;5;124m\"\u001b[39m\u001b[38;5;124m ,F.\u001b[39m\u001b[38;5;124m\"\u001b[39m\u001b[38;5;124mPaid-up Capital\u001b[39m\u001b[38;5;124m\"\u001b[39m\u001b[38;5;124m,F.\u001b[39m\u001b[38;5;124m\"\u001b[39m\u001b[38;5;124mRevenue\u001b[39m\u001b[38;5;124m\"\u001b[39m\u001b[38;5;124m,\u001b[39m\n\u001b[0;32m     78\u001b[0m \u001b[38;5;124m        F.\u001b[39m\u001b[38;5;124m\"\u001b[39m\u001b[38;5;124mProfit (Loss) from Other Activities\u001b[39m\u001b[38;5;124m\"\u001b[39m\u001b[38;5;124m,F.\u001b[39m\u001b[38;5;124m\"\u001b[39m\u001b[38;5;124mNet Profit\u001b[39m\u001b[38;5;124m\"\u001b[39m\u001b[38;5;124m,F.\u001b[39m\u001b[38;5;124m\"\u001b[39m\u001b[38;5;124mEPS (Baht)\u001b[39m\u001b[38;5;124m\"\u001b[39m\u001b[38;5;124m,F.\u001b[39m\u001b[38;5;124m\"\u001b[39m\u001b[38;5;124mROA (\u001b[39m\u001b[38;5;124m%\u001b[39m\u001b[38;5;124m)\u001b[39m\u001b[38;5;124m\"\u001b[39m\u001b[38;5;124m,F.\u001b[39m\u001b[38;5;124m\"\u001b[39m\u001b[38;5;124mROE (\u001b[39m\u001b[38;5;124m%\u001b[39m\u001b[38;5;124m)\u001b[39m\u001b[38;5;124m\"\u001b[39m\u001b[38;5;124m,F.\u001b[39m\u001b[38;5;124m\"\u001b[39m\u001b[38;5;124mNet Profit Margin (\u001b[39m\u001b[38;5;124m%\u001b[39m\u001b[38;5;124m)\u001b[39m\u001b[38;5;124m\"\u001b[39m\u001b[38;5;124m,Ind.Symbol\u001b[39m\n\u001b[0;32m     79\u001b[0m \u001b[38;5;124m        from (Financial as F \u001b[39m\n\u001b[0;32m     80\u001b[0m \u001b[38;5;124m        inner join Information as Ind on F.SymbolId = Ind.SymbolId )\u001b[39m\n\u001b[0;32m     81\u001b[0m \u001b[38;5;124m        where Symbol = \u001b[39m\u001b[38;5;124m'\u001b[39m\u001b[38;5;132;01m{}\u001b[39;00m\u001b[38;5;124m'\u001b[39m\n\u001b[0;32m     82\u001b[0m \u001b[38;5;124m        \u001b[39m\u001b[38;5;124m\"\"\"\u001b[39m\u001b[38;5;241m.\u001b[39mformat(share)\n\u001b[1;32m---> 84\u001b[0m stock_data \u001b[38;5;241m=\u001b[39m \u001b[43mpd\u001b[49m\u001b[38;5;241;43m.\u001b[39;49m\u001b[43mread_sql\u001b[49m\u001b[43m(\u001b[49m\u001b[43msql\u001b[49m\u001b[43m,\u001b[49m\u001b[43mcon\u001b[49m\u001b[43m)\u001b[49m\n\u001b[0;32m     85\u001b[0m con\u001b[38;5;241m.\u001b[39mclose()\n\u001b[0;32m     86\u001b[0m \u001b[38;5;28;01mreturn\u001b[39;00m stock_data\n",
      "File \u001b[1;32m~\\anaconda3\\lib\\site-packages\\pandas\\io\\sql.py:566\u001b[0m, in \u001b[0;36mread_sql\u001b[1;34m(sql, con, index_col, coerce_float, params, parse_dates, columns, chunksize)\u001b[0m\n\u001b[0;32m    563\u001b[0m pandas_sql \u001b[38;5;241m=\u001b[39m pandasSQL_builder(con)\n\u001b[0;32m    565\u001b[0m \u001b[38;5;28;01mif\u001b[39;00m \u001b[38;5;28misinstance\u001b[39m(pandas_sql, SQLiteDatabase):\n\u001b[1;32m--> 566\u001b[0m     \u001b[38;5;28;01mreturn\u001b[39;00m \u001b[43mpandas_sql\u001b[49m\u001b[38;5;241;43m.\u001b[39;49m\u001b[43mread_query\u001b[49m\u001b[43m(\u001b[49m\n\u001b[0;32m    567\u001b[0m \u001b[43m        \u001b[49m\u001b[43msql\u001b[49m\u001b[43m,\u001b[49m\n\u001b[0;32m    568\u001b[0m \u001b[43m        \u001b[49m\u001b[43mindex_col\u001b[49m\u001b[38;5;241;43m=\u001b[39;49m\u001b[43mindex_col\u001b[49m\u001b[43m,\u001b[49m\n\u001b[0;32m    569\u001b[0m \u001b[43m        \u001b[49m\u001b[43mparams\u001b[49m\u001b[38;5;241;43m=\u001b[39;49m\u001b[43mparams\u001b[49m\u001b[43m,\u001b[49m\n\u001b[0;32m    570\u001b[0m \u001b[43m        \u001b[49m\u001b[43mcoerce_float\u001b[49m\u001b[38;5;241;43m=\u001b[39;49m\u001b[43mcoerce_float\u001b[49m\u001b[43m,\u001b[49m\n\u001b[0;32m    571\u001b[0m \u001b[43m        \u001b[49m\u001b[43mparse_dates\u001b[49m\u001b[38;5;241;43m=\u001b[39;49m\u001b[43mparse_dates\u001b[49m\u001b[43m,\u001b[49m\n\u001b[0;32m    572\u001b[0m \u001b[43m        \u001b[49m\u001b[43mchunksize\u001b[49m\u001b[38;5;241;43m=\u001b[39;49m\u001b[43mchunksize\u001b[49m\u001b[43m,\u001b[49m\n\u001b[0;32m    573\u001b[0m \u001b[43m    \u001b[49m\u001b[43m)\u001b[49m\n\u001b[0;32m    575\u001b[0m \u001b[38;5;28;01mtry\u001b[39;00m:\n\u001b[0;32m    576\u001b[0m     _is_table_name \u001b[38;5;241m=\u001b[39m pandas_sql\u001b[38;5;241m.\u001b[39mhas_table(sql)\n",
      "File \u001b[1;32m~\\anaconda3\\lib\\site-packages\\pandas\\io\\sql.py:2080\u001b[0m, in \u001b[0;36mSQLiteDatabase.read_query\u001b[1;34m(self, sql, index_col, coerce_float, params, parse_dates, chunksize, dtype)\u001b[0m\n\u001b[0;32m   2068\u001b[0m \u001b[38;5;28;01mdef\u001b[39;00m \u001b[38;5;21mread_query\u001b[39m(\n\u001b[0;32m   2069\u001b[0m     \u001b[38;5;28mself\u001b[39m,\n\u001b[0;32m   2070\u001b[0m     sql,\n\u001b[1;32m   (...)\u001b[0m\n\u001b[0;32m   2076\u001b[0m     dtype: DtypeArg \u001b[38;5;241m|\u001b[39m \u001b[38;5;28;01mNone\u001b[39;00m \u001b[38;5;241m=\u001b[39m \u001b[38;5;28;01mNone\u001b[39;00m,\n\u001b[0;32m   2077\u001b[0m ):\n\u001b[0;32m   2079\u001b[0m     args \u001b[38;5;241m=\u001b[39m _convert_params(sql, params)\n\u001b[1;32m-> 2080\u001b[0m     cursor \u001b[38;5;241m=\u001b[39m \u001b[38;5;28;43mself\u001b[39;49m\u001b[38;5;241;43m.\u001b[39;49m\u001b[43mexecute\u001b[49m\u001b[43m(\u001b[49m\u001b[38;5;241;43m*\u001b[39;49m\u001b[43margs\u001b[49m\u001b[43m)\u001b[49m\n\u001b[0;32m   2081\u001b[0m     columns \u001b[38;5;241m=\u001b[39m [col_desc[\u001b[38;5;241m0\u001b[39m] \u001b[38;5;28;01mfor\u001b[39;00m col_desc \u001b[38;5;129;01min\u001b[39;00m cursor\u001b[38;5;241m.\u001b[39mdescription]\n\u001b[0;32m   2083\u001b[0m     \u001b[38;5;28;01mif\u001b[39;00m chunksize \u001b[38;5;129;01mis\u001b[39;00m \u001b[38;5;129;01mnot\u001b[39;00m \u001b[38;5;28;01mNone\u001b[39;00m:\n",
      "File \u001b[1;32m~\\anaconda3\\lib\\site-packages\\pandas\\io\\sql.py:2032\u001b[0m, in \u001b[0;36mSQLiteDatabase.execute\u001b[1;34m(self, *args, **kwargs)\u001b[0m\n\u001b[0;32m   2029\u001b[0m     \u001b[38;5;28;01mraise\u001b[39;00m ex \u001b[38;5;28;01mfrom\u001b[39;00m \u001b[38;5;21;01minner_exc\u001b[39;00m\n\u001b[0;32m   2031\u001b[0m ex \u001b[38;5;241m=\u001b[39m DatabaseError(\u001b[38;5;124mf\u001b[39m\u001b[38;5;124m\"\u001b[39m\u001b[38;5;124mExecution failed on sql \u001b[39m\u001b[38;5;124m'\u001b[39m\u001b[38;5;132;01m{\u001b[39;00margs[\u001b[38;5;241m0\u001b[39m]\u001b[38;5;132;01m}\u001b[39;00m\u001b[38;5;124m'\u001b[39m\u001b[38;5;124m: \u001b[39m\u001b[38;5;132;01m{\u001b[39;00mexc\u001b[38;5;132;01m}\u001b[39;00m\u001b[38;5;124m\"\u001b[39m)\n\u001b[1;32m-> 2032\u001b[0m \u001b[38;5;28;01mraise\u001b[39;00m ex \u001b[38;5;28;01mfrom\u001b[39;00m \u001b[38;5;21;01mexc\u001b[39;00m\n",
      "\u001b[1;31mDatabaseError\u001b[0m: Execution failed on sql 'select F.\"Period as of\",F.\"Assets\",F.\"Liabilities\",F.\"Equity\" ,F.\"Paid-up Capital\",F.\"Revenue\",\n                F.\"Profit (Loss) from Other Activities\",F.\"Net Profit\",F.\"EPS (Baht)\",F.\"ROA (%)\",F.\"ROE (%)\",F.\"Net Profit Margin (%)\",Ind.Symbol\n                from (Financial as F \n                inner join Information as Ind on F.SymbolId = Ind.SymbolId )\n                where Symbol = 'TU'\n                ': no such table: Financial"
     ]
    }
   ],
   "source": [
    "share.get_share_Financial('TU')"
   ]
  },
  {
   "cell_type": "code",
   "execution_count": 6,
   "id": "51104a68",
   "metadata": {},
   "outputs": [
    {
     "ename": "DatabaseError",
     "evalue": "Execution failed on sql 'select S.\"Statistics as of\",S.\"Last Price (Baht)\",S.\"Market Cap. (M.Baht)\",S.\"F/S Period (As of date)\",S.\"P/E\",\n                S.\"P/BV\",S.\"Book Value per share (Baht)\",S.\"Dividend Yield (%)\",Ind.\"Symbol\"\n                from (Satistics as S\n                inner join Information as Ind on S.SymbolId = Ind.SymbolId )\n                where Symbol = 'TU'\n                ': no such table: Satistics",
     "output_type": "error",
     "traceback": [
      "\u001b[1;31m---------------------------------------------------------------------------\u001b[0m",
      "\u001b[1;31mOperationalError\u001b[0m                          Traceback (most recent call last)",
      "File \u001b[1;32m~\\anaconda3\\lib\\site-packages\\pandas\\io\\sql.py:2020\u001b[0m, in \u001b[0;36mSQLiteDatabase.execute\u001b[1;34m(self, *args, **kwargs)\u001b[0m\n\u001b[0;32m   2019\u001b[0m \u001b[38;5;28;01mtry\u001b[39;00m:\n\u001b[1;32m-> 2020\u001b[0m     cur\u001b[38;5;241m.\u001b[39mexecute(\u001b[38;5;241m*\u001b[39margs, \u001b[38;5;241m*\u001b[39m\u001b[38;5;241m*\u001b[39mkwargs)\n\u001b[0;32m   2021\u001b[0m     \u001b[38;5;28;01mreturn\u001b[39;00m cur\n",
      "\u001b[1;31mOperationalError\u001b[0m: no such table: Satistics",
      "\nThe above exception was the direct cause of the following exception:\n",
      "\u001b[1;31mDatabaseError\u001b[0m                             Traceback (most recent call last)",
      "Input \u001b[1;32mIn [6]\u001b[0m, in \u001b[0;36m<cell line: 1>\u001b[1;34m()\u001b[0m\n\u001b[1;32m----> 1\u001b[0m \u001b[43mshare\u001b[49m\u001b[38;5;241;43m.\u001b[39;49m\u001b[43mget_share_Satistics\u001b[49m\u001b[43m(\u001b[49m\u001b[38;5;124;43m'\u001b[39;49m\u001b[38;5;124;43mTU\u001b[39;49m\u001b[38;5;124;43m'\u001b[39;49m\u001b[43m)\u001b[49m\n",
      "Input \u001b[1;32mIn [2]\u001b[0m, in \u001b[0;36mStock_Share.get_share_Satistics\u001b[1;34m(self, share)\u001b[0m\n\u001b[0;32m     91\u001b[0m cur \u001b[38;5;241m=\u001b[39m con\u001b[38;5;241m.\u001b[39mcursor()\n\u001b[0;32m     93\u001b[0m sql \u001b[38;5;241m=\u001b[39m \u001b[38;5;124m\"\"\"\u001b[39m\u001b[38;5;124mselect S.\u001b[39m\u001b[38;5;124m\"\u001b[39m\u001b[38;5;124mStatistics as of\u001b[39m\u001b[38;5;124m\"\u001b[39m\u001b[38;5;124m,S.\u001b[39m\u001b[38;5;124m\"\u001b[39m\u001b[38;5;124mLast Price (Baht)\u001b[39m\u001b[38;5;124m\"\u001b[39m\u001b[38;5;124m,S.\u001b[39m\u001b[38;5;124m\"\u001b[39m\u001b[38;5;124mMarket Cap. (M.Baht)\u001b[39m\u001b[38;5;124m\"\u001b[39m\u001b[38;5;124m,S.\u001b[39m\u001b[38;5;124m\"\u001b[39m\u001b[38;5;124mF/S Period (As of date)\u001b[39m\u001b[38;5;124m\"\u001b[39m\u001b[38;5;124m,S.\u001b[39m\u001b[38;5;124m\"\u001b[39m\u001b[38;5;124mP/E\u001b[39m\u001b[38;5;124m\"\u001b[39m\u001b[38;5;124m,\u001b[39m\n\u001b[0;32m     94\u001b[0m \u001b[38;5;124m        S.\u001b[39m\u001b[38;5;124m\"\u001b[39m\u001b[38;5;124mP/BV\u001b[39m\u001b[38;5;124m\"\u001b[39m\u001b[38;5;124m,S.\u001b[39m\u001b[38;5;124m\"\u001b[39m\u001b[38;5;124mBook Value per share (Baht)\u001b[39m\u001b[38;5;124m\"\u001b[39m\u001b[38;5;124m,S.\u001b[39m\u001b[38;5;124m\"\u001b[39m\u001b[38;5;124mDividend Yield (\u001b[39m\u001b[38;5;124m%\u001b[39m\u001b[38;5;124m)\u001b[39m\u001b[38;5;124m\"\u001b[39m\u001b[38;5;124m,Ind.\u001b[39m\u001b[38;5;124m\"\u001b[39m\u001b[38;5;124mSymbol\u001b[39m\u001b[38;5;124m\"\u001b[39m\n\u001b[0;32m     95\u001b[0m \u001b[38;5;124m        from (Satistics as S\u001b[39m\n\u001b[0;32m     96\u001b[0m \u001b[38;5;124m        inner join Information as Ind on S.SymbolId = Ind.SymbolId )\u001b[39m\n\u001b[0;32m     97\u001b[0m \u001b[38;5;124m        where Symbol = \u001b[39m\u001b[38;5;124m'\u001b[39m\u001b[38;5;132;01m{}\u001b[39;00m\u001b[38;5;124m'\u001b[39m\n\u001b[0;32m     98\u001b[0m \u001b[38;5;124m        \u001b[39m\u001b[38;5;124m\"\"\"\u001b[39m\u001b[38;5;241m.\u001b[39mformat(share)\n\u001b[1;32m--> 100\u001b[0m stock_data \u001b[38;5;241m=\u001b[39m \u001b[43mpd\u001b[49m\u001b[38;5;241;43m.\u001b[39;49m\u001b[43mread_sql\u001b[49m\u001b[43m(\u001b[49m\u001b[43msql\u001b[49m\u001b[43m,\u001b[49m\u001b[43mcon\u001b[49m\u001b[43m)\u001b[49m\n\u001b[0;32m    102\u001b[0m con\u001b[38;5;241m.\u001b[39mclose()\n\u001b[0;32m    103\u001b[0m \u001b[38;5;28;01mreturn\u001b[39;00m stock_data\n",
      "File \u001b[1;32m~\\anaconda3\\lib\\site-packages\\pandas\\io\\sql.py:566\u001b[0m, in \u001b[0;36mread_sql\u001b[1;34m(sql, con, index_col, coerce_float, params, parse_dates, columns, chunksize)\u001b[0m\n\u001b[0;32m    563\u001b[0m pandas_sql \u001b[38;5;241m=\u001b[39m pandasSQL_builder(con)\n\u001b[0;32m    565\u001b[0m \u001b[38;5;28;01mif\u001b[39;00m \u001b[38;5;28misinstance\u001b[39m(pandas_sql, SQLiteDatabase):\n\u001b[1;32m--> 566\u001b[0m     \u001b[38;5;28;01mreturn\u001b[39;00m \u001b[43mpandas_sql\u001b[49m\u001b[38;5;241;43m.\u001b[39;49m\u001b[43mread_query\u001b[49m\u001b[43m(\u001b[49m\n\u001b[0;32m    567\u001b[0m \u001b[43m        \u001b[49m\u001b[43msql\u001b[49m\u001b[43m,\u001b[49m\n\u001b[0;32m    568\u001b[0m \u001b[43m        \u001b[49m\u001b[43mindex_col\u001b[49m\u001b[38;5;241;43m=\u001b[39;49m\u001b[43mindex_col\u001b[49m\u001b[43m,\u001b[49m\n\u001b[0;32m    569\u001b[0m \u001b[43m        \u001b[49m\u001b[43mparams\u001b[49m\u001b[38;5;241;43m=\u001b[39;49m\u001b[43mparams\u001b[49m\u001b[43m,\u001b[49m\n\u001b[0;32m    570\u001b[0m \u001b[43m        \u001b[49m\u001b[43mcoerce_float\u001b[49m\u001b[38;5;241;43m=\u001b[39;49m\u001b[43mcoerce_float\u001b[49m\u001b[43m,\u001b[49m\n\u001b[0;32m    571\u001b[0m \u001b[43m        \u001b[49m\u001b[43mparse_dates\u001b[49m\u001b[38;5;241;43m=\u001b[39;49m\u001b[43mparse_dates\u001b[49m\u001b[43m,\u001b[49m\n\u001b[0;32m    572\u001b[0m \u001b[43m        \u001b[49m\u001b[43mchunksize\u001b[49m\u001b[38;5;241;43m=\u001b[39;49m\u001b[43mchunksize\u001b[49m\u001b[43m,\u001b[49m\n\u001b[0;32m    573\u001b[0m \u001b[43m    \u001b[49m\u001b[43m)\u001b[49m\n\u001b[0;32m    575\u001b[0m \u001b[38;5;28;01mtry\u001b[39;00m:\n\u001b[0;32m    576\u001b[0m     _is_table_name \u001b[38;5;241m=\u001b[39m pandas_sql\u001b[38;5;241m.\u001b[39mhas_table(sql)\n",
      "File \u001b[1;32m~\\anaconda3\\lib\\site-packages\\pandas\\io\\sql.py:2080\u001b[0m, in \u001b[0;36mSQLiteDatabase.read_query\u001b[1;34m(self, sql, index_col, coerce_float, params, parse_dates, chunksize, dtype)\u001b[0m\n\u001b[0;32m   2068\u001b[0m \u001b[38;5;28;01mdef\u001b[39;00m \u001b[38;5;21mread_query\u001b[39m(\n\u001b[0;32m   2069\u001b[0m     \u001b[38;5;28mself\u001b[39m,\n\u001b[0;32m   2070\u001b[0m     sql,\n\u001b[1;32m   (...)\u001b[0m\n\u001b[0;32m   2076\u001b[0m     dtype: DtypeArg \u001b[38;5;241m|\u001b[39m \u001b[38;5;28;01mNone\u001b[39;00m \u001b[38;5;241m=\u001b[39m \u001b[38;5;28;01mNone\u001b[39;00m,\n\u001b[0;32m   2077\u001b[0m ):\n\u001b[0;32m   2079\u001b[0m     args \u001b[38;5;241m=\u001b[39m _convert_params(sql, params)\n\u001b[1;32m-> 2080\u001b[0m     cursor \u001b[38;5;241m=\u001b[39m \u001b[38;5;28;43mself\u001b[39;49m\u001b[38;5;241;43m.\u001b[39;49m\u001b[43mexecute\u001b[49m\u001b[43m(\u001b[49m\u001b[38;5;241;43m*\u001b[39;49m\u001b[43margs\u001b[49m\u001b[43m)\u001b[49m\n\u001b[0;32m   2081\u001b[0m     columns \u001b[38;5;241m=\u001b[39m [col_desc[\u001b[38;5;241m0\u001b[39m] \u001b[38;5;28;01mfor\u001b[39;00m col_desc \u001b[38;5;129;01min\u001b[39;00m cursor\u001b[38;5;241m.\u001b[39mdescription]\n\u001b[0;32m   2083\u001b[0m     \u001b[38;5;28;01mif\u001b[39;00m chunksize \u001b[38;5;129;01mis\u001b[39;00m \u001b[38;5;129;01mnot\u001b[39;00m \u001b[38;5;28;01mNone\u001b[39;00m:\n",
      "File \u001b[1;32m~\\anaconda3\\lib\\site-packages\\pandas\\io\\sql.py:2032\u001b[0m, in \u001b[0;36mSQLiteDatabase.execute\u001b[1;34m(self, *args, **kwargs)\u001b[0m\n\u001b[0;32m   2029\u001b[0m     \u001b[38;5;28;01mraise\u001b[39;00m ex \u001b[38;5;28;01mfrom\u001b[39;00m \u001b[38;5;21;01minner_exc\u001b[39;00m\n\u001b[0;32m   2031\u001b[0m ex \u001b[38;5;241m=\u001b[39m DatabaseError(\u001b[38;5;124mf\u001b[39m\u001b[38;5;124m\"\u001b[39m\u001b[38;5;124mExecution failed on sql \u001b[39m\u001b[38;5;124m'\u001b[39m\u001b[38;5;132;01m{\u001b[39;00margs[\u001b[38;5;241m0\u001b[39m]\u001b[38;5;132;01m}\u001b[39;00m\u001b[38;5;124m'\u001b[39m\u001b[38;5;124m: \u001b[39m\u001b[38;5;132;01m{\u001b[39;00mexc\u001b[38;5;132;01m}\u001b[39;00m\u001b[38;5;124m\"\u001b[39m)\n\u001b[1;32m-> 2032\u001b[0m \u001b[38;5;28;01mraise\u001b[39;00m ex \u001b[38;5;28;01mfrom\u001b[39;00m \u001b[38;5;21;01mexc\u001b[39;00m\n",
      "\u001b[1;31mDatabaseError\u001b[0m: Execution failed on sql 'select S.\"Statistics as of\",S.\"Last Price (Baht)\",S.\"Market Cap. (M.Baht)\",S.\"F/S Period (As of date)\",S.\"P/E\",\n                S.\"P/BV\",S.\"Book Value per share (Baht)\",S.\"Dividend Yield (%)\",Ind.\"Symbol\"\n                from (Satistics as S\n                inner join Information as Ind on S.SymbolId = Ind.SymbolId )\n                where Symbol = 'TU'\n                ': no such table: Satistics"
     ]
    }
   ],
   "source": [
    "share.get_share_Satistics('TU')"
   ]
  },
  {
   "cell_type": "code",
   "execution_count": 123,
   "id": "b0dd9635",
   "metadata": {},
   "outputs": [
    {
     "data": {
      "application/vnd.plotly.v1+json": {
       "config": {
        "plotlyServerURL": "https://plot.ly"
       },
       "data": [
        {
         "close": [
          153,
          155,
          155,
          156.5,
          155,
          155.5,
          154.5,
          153,
          151,
          151.5,
          149,
          147.5,
          147,
          146,
          145.5,
          144.5,
          144,
          145,
          144.5,
          143,
          144,
          143.5,
          143,
          142,
          143.5,
          143,
          142,
          142.5,
          142,
          142.5,
          144,
          144.5,
          145.5,
          143.5,
          143.5,
          143.5,
          143,
          143.5,
          142.5,
          143,
          143.5,
          145,
          144.5,
          144.5,
          148,
          148,
          147.5,
          148.5,
          148,
          148.5,
          149.5,
          147,
          146.5,
          146,
          142.5,
          143,
          141.5,
          141.5,
          146,
          148.5,
          148,
          146.5,
          145.5,
          144,
          143.5,
          142,
          143,
          142.5,
          142,
          142.5,
          140.5,
          144,
          144.5,
          143.5,
          145,
          149.5,
          151.5,
          151,
          150,
          150.5,
          149.5,
          148,
          148.5,
          150,
          151,
          151,
          149,
          147,
          148,
          151,
          152.5,
          152,
          152.5,
          153.5,
          155.5,
          155,
          157,
          157.5,
          156,
          155
         ],
         "high": [
          156,
          156,
          157.5,
          157.5,
          155.5,
          155.5,
          155,
          154,
          154,
          151.5,
          149.5,
          148.5,
          147,
          146.5,
          146,
          144.5,
          144.5,
          145.5,
          144.5,
          144,
          144,
          143.5,
          143.5,
          144,
          144,
          143,
          143,
          144,
          142,
          144,
          145,
          145,
          146,
          143.5,
          144.5,
          144,
          143.5,
          144,
          143.5,
          143.5,
          145,
          145,
          146,
          147,
          149.5,
          149,
          150,
          149.5,
          149.5,
          149.5,
          149.5,
          147.5,
          147.5,
          146.5,
          143.5,
          143,
          142,
          144.5,
          148,
          149,
          148.5,
          147,
          145.5,
          145,
          143.5,
          142.5,
          143.5,
          144,
          143.5,
          143,
          143.5,
          144,
          146.5,
          145,
          149,
          151.5,
          152,
          152,
          151,
          151.5,
          149.5,
          148.5,
          150,
          151,
          152,
          152,
          150,
          149.5,
          150.5,
          152.5,
          153,
          153.5,
          154,
          156,
          156.5,
          156,
          158.5,
          158,
          157,
          155.5
         ],
         "low": [
          152.5,
          154.5,
          155,
          155.5,
          154,
          153.5,
          153,
          151.5,
          150.5,
          149,
          147,
          147,
          145,
          145,
          144,
          143.5,
          143,
          144,
          143,
          143,
          143.5,
          142.5,
          142,
          142,
          143,
          142,
          142,
          142,
          141,
          142.5,
          144,
          144,
          143,
          141.5,
          143,
          143,
          142.5,
          142.5,
          142,
          142,
          143,
          144,
          144.5,
          144,
          147.5,
          146,
          147.5,
          148,
          148,
          148,
          146.5,
          145.5,
          145.5,
          143,
          142,
          141,
          140,
          140.5,
          145.5,
          147,
          146.5,
          145.5,
          143.5,
          143.5,
          141,
          141.5,
          142,
          142.5,
          141.5,
          142,
          140,
          142.5,
          144,
          143.5,
          144,
          149,
          149.5,
          149,
          149.5,
          150,
          148,
          147,
          148.5,
          149,
          150.5,
          150,
          148,
          147,
          147,
          150.5,
          151,
          151.5,
          151.5,
          153,
          155,
          154,
          156,
          156.5,
          154,
          152
         ],
         "open": [
          155,
          155,
          157,
          156,
          155,
          155,
          154.5,
          152,
          152.5,
          149,
          148,
          147.5,
          146,
          145.5,
          144.5,
          143.5,
          144,
          145,
          143.5,
          144,
          144,
          143,
          142.5,
          144,
          144,
          143,
          142.5,
          142,
          141.5,
          143.5,
          144.5,
          145,
          143.5,
          142.5,
          143.5,
          143.5,
          143.5,
          142.5,
          143,
          143.5,
          145,
          144.5,
          144.5,
          146,
          149,
          146.5,
          149.5,
          149,
          149,
          149,
          147,
          147,
          147.5,
          143.5,
          143,
          142,
          142,
          144.5,
          146.5,
          147.5,
          147,
          146,
          144,
          143.5,
          142,
          142,
          143,
          142.5,
          143.5,
          142.5,
          143,
          143.5,
          145,
          144.5,
          148.5,
          151,
          151,
          150,
          150.5,
          150,
          148,
          147.5,
          149.5,
          149.5,
          151.5,
          150,
          148,
          149,
          150.5,
          152.5,
          152,
          153,
          153,
          155.5,
          155,
          154.5,
          157.5,
          157,
          155,
          152.5
         ],
         "type": "candlestick",
         "x": [
          "2023-01-17T00:00:00",
          "2023-01-16T00:00:00",
          "2023-01-13T00:00:00",
          "2023-01-12T00:00:00",
          "2023-01-11T00:00:00",
          "2023-01-10T00:00:00",
          "2023-01-09T00:00:00",
          "2023-01-06T00:00:00",
          "2023-01-05T00:00:00",
          "2023-01-04T00:00:00",
          "2023-01-03T00:00:00",
          "2022-12-30T00:00:00",
          "2022-12-29T00:00:00",
          "2022-12-28T00:00:00",
          "2022-12-27T00:00:00",
          "2022-12-26T00:00:00",
          "2022-12-23T00:00:00",
          "2022-12-22T00:00:00",
          "2022-12-21T00:00:00",
          "2022-12-20T00:00:00",
          "2022-12-19T00:00:00",
          "2022-12-16T00:00:00",
          "2022-12-15T00:00:00",
          "2022-12-14T00:00:00",
          "2022-12-13T00:00:00",
          "2022-12-09T00:00:00",
          "2022-12-08T00:00:00",
          "2022-12-07T00:00:00",
          "2022-12-06T00:00:00",
          "2022-12-02T00:00:00",
          "2022-12-01T00:00:00",
          "2022-11-30T00:00:00",
          "2022-11-29T00:00:00",
          "2022-11-28T00:00:00",
          "2022-11-25T00:00:00",
          "2022-11-24T00:00:00",
          "2022-11-23T00:00:00",
          "2022-11-22T00:00:00",
          "2022-11-21T00:00:00",
          "2022-11-18T00:00:00",
          "2022-11-17T00:00:00",
          "2022-11-16T00:00:00",
          "2022-11-15T00:00:00",
          "2022-11-14T00:00:00",
          "2022-11-11T00:00:00",
          "2022-11-10T00:00:00",
          "2022-11-09T00:00:00",
          "2022-11-08T00:00:00",
          "2022-11-07T00:00:00",
          "2022-11-04T00:00:00",
          "2022-11-03T00:00:00",
          "2022-11-02T00:00:00",
          "2022-11-01T00:00:00",
          "2022-10-31T00:00:00",
          "2022-10-28T00:00:00",
          "2022-10-27T00:00:00",
          "2022-10-26T00:00:00",
          "2022-10-25T00:00:00",
          "2022-10-21T00:00:00",
          "2022-10-20T00:00:00",
          "2022-10-19T00:00:00",
          "2022-10-18T00:00:00",
          "2022-10-17T00:00:00",
          "2022-10-12T00:00:00",
          "2022-10-11T00:00:00",
          "2022-10-10T00:00:00",
          "2022-10-07T00:00:00",
          "2022-10-06T00:00:00",
          "2022-10-05T00:00:00",
          "2022-10-04T00:00:00",
          "2022-10-03T00:00:00",
          "2022-09-30T00:00:00",
          "2022-09-29T00:00:00",
          "2022-09-28T00:00:00",
          "2022-09-27T00:00:00",
          "2022-09-26T00:00:00",
          "2022-09-23T00:00:00",
          "2022-09-22T00:00:00",
          "2022-09-21T00:00:00",
          "2022-09-20T00:00:00",
          "2022-09-19T00:00:00",
          "2022-09-16T00:00:00",
          "2022-09-15T00:00:00",
          "2022-09-14T00:00:00",
          "2022-09-13T00:00:00",
          "2022-09-12T00:00:00",
          "2022-09-09T00:00:00",
          "2022-09-08T00:00:00",
          "2022-09-07T00:00:00",
          "2022-09-06T00:00:00",
          "2022-09-05T00:00:00",
          "2022-09-02T00:00:00",
          "2022-09-01T00:00:00",
          "2022-08-31T00:00:00",
          "2022-08-30T00:00:00",
          "2022-08-29T00:00:00",
          "2022-08-26T00:00:00",
          "2022-08-25T00:00:00",
          "2022-08-24T00:00:00",
          "2022-08-23T00:00:00"
         ]
        }
       ],
       "layout": {
        "template": {
         "data": {
          "bar": [
           {
            "error_x": {
             "color": "#2a3f5f"
            },
            "error_y": {
             "color": "#2a3f5f"
            },
            "marker": {
             "line": {
              "color": "#E5ECF6",
              "width": 0.5
             },
             "pattern": {
              "fillmode": "overlay",
              "size": 10,
              "solidity": 0.2
             }
            },
            "type": "bar"
           }
          ],
          "barpolar": [
           {
            "marker": {
             "line": {
              "color": "#E5ECF6",
              "width": 0.5
             },
             "pattern": {
              "fillmode": "overlay",
              "size": 10,
              "solidity": 0.2
             }
            },
            "type": "barpolar"
           }
          ],
          "carpet": [
           {
            "aaxis": {
             "endlinecolor": "#2a3f5f",
             "gridcolor": "white",
             "linecolor": "white",
             "minorgridcolor": "white",
             "startlinecolor": "#2a3f5f"
            },
            "baxis": {
             "endlinecolor": "#2a3f5f",
             "gridcolor": "white",
             "linecolor": "white",
             "minorgridcolor": "white",
             "startlinecolor": "#2a3f5f"
            },
            "type": "carpet"
           }
          ],
          "choropleth": [
           {
            "colorbar": {
             "outlinewidth": 0,
             "ticks": ""
            },
            "type": "choropleth"
           }
          ],
          "contour": [
           {
            "colorbar": {
             "outlinewidth": 0,
             "ticks": ""
            },
            "colorscale": [
             [
              0,
              "#0d0887"
             ],
             [
              0.1111111111111111,
              "#46039f"
             ],
             [
              0.2222222222222222,
              "#7201a8"
             ],
             [
              0.3333333333333333,
              "#9c179e"
             ],
             [
              0.4444444444444444,
              "#bd3786"
             ],
             [
              0.5555555555555556,
              "#d8576b"
             ],
             [
              0.6666666666666666,
              "#ed7953"
             ],
             [
              0.7777777777777778,
              "#fb9f3a"
             ],
             [
              0.8888888888888888,
              "#fdca26"
             ],
             [
              1,
              "#f0f921"
             ]
            ],
            "type": "contour"
           }
          ],
          "contourcarpet": [
           {
            "colorbar": {
             "outlinewidth": 0,
             "ticks": ""
            },
            "type": "contourcarpet"
           }
          ],
          "heatmap": [
           {
            "colorbar": {
             "outlinewidth": 0,
             "ticks": ""
            },
            "colorscale": [
             [
              0,
              "#0d0887"
             ],
             [
              0.1111111111111111,
              "#46039f"
             ],
             [
              0.2222222222222222,
              "#7201a8"
             ],
             [
              0.3333333333333333,
              "#9c179e"
             ],
             [
              0.4444444444444444,
              "#bd3786"
             ],
             [
              0.5555555555555556,
              "#d8576b"
             ],
             [
              0.6666666666666666,
              "#ed7953"
             ],
             [
              0.7777777777777778,
              "#fb9f3a"
             ],
             [
              0.8888888888888888,
              "#fdca26"
             ],
             [
              1,
              "#f0f921"
             ]
            ],
            "type": "heatmap"
           }
          ],
          "heatmapgl": [
           {
            "colorbar": {
             "outlinewidth": 0,
             "ticks": ""
            },
            "colorscale": [
             [
              0,
              "#0d0887"
             ],
             [
              0.1111111111111111,
              "#46039f"
             ],
             [
              0.2222222222222222,
              "#7201a8"
             ],
             [
              0.3333333333333333,
              "#9c179e"
             ],
             [
              0.4444444444444444,
              "#bd3786"
             ],
             [
              0.5555555555555556,
              "#d8576b"
             ],
             [
              0.6666666666666666,
              "#ed7953"
             ],
             [
              0.7777777777777778,
              "#fb9f3a"
             ],
             [
              0.8888888888888888,
              "#fdca26"
             ],
             [
              1,
              "#f0f921"
             ]
            ],
            "type": "heatmapgl"
           }
          ],
          "histogram": [
           {
            "marker": {
             "pattern": {
              "fillmode": "overlay",
              "size": 10,
              "solidity": 0.2
             }
            },
            "type": "histogram"
           }
          ],
          "histogram2d": [
           {
            "colorbar": {
             "outlinewidth": 0,
             "ticks": ""
            },
            "colorscale": [
             [
              0,
              "#0d0887"
             ],
             [
              0.1111111111111111,
              "#46039f"
             ],
             [
              0.2222222222222222,
              "#7201a8"
             ],
             [
              0.3333333333333333,
              "#9c179e"
             ],
             [
              0.4444444444444444,
              "#bd3786"
             ],
             [
              0.5555555555555556,
              "#d8576b"
             ],
             [
              0.6666666666666666,
              "#ed7953"
             ],
             [
              0.7777777777777778,
              "#fb9f3a"
             ],
             [
              0.8888888888888888,
              "#fdca26"
             ],
             [
              1,
              "#f0f921"
             ]
            ],
            "type": "histogram2d"
           }
          ],
          "histogram2dcontour": [
           {
            "colorbar": {
             "outlinewidth": 0,
             "ticks": ""
            },
            "colorscale": [
             [
              0,
              "#0d0887"
             ],
             [
              0.1111111111111111,
              "#46039f"
             ],
             [
              0.2222222222222222,
              "#7201a8"
             ],
             [
              0.3333333333333333,
              "#9c179e"
             ],
             [
              0.4444444444444444,
              "#bd3786"
             ],
             [
              0.5555555555555556,
              "#d8576b"
             ],
             [
              0.6666666666666666,
              "#ed7953"
             ],
             [
              0.7777777777777778,
              "#fb9f3a"
             ],
             [
              0.8888888888888888,
              "#fdca26"
             ],
             [
              1,
              "#f0f921"
             ]
            ],
            "type": "histogram2dcontour"
           }
          ],
          "mesh3d": [
           {
            "colorbar": {
             "outlinewidth": 0,
             "ticks": ""
            },
            "type": "mesh3d"
           }
          ],
          "parcoords": [
           {
            "line": {
             "colorbar": {
              "outlinewidth": 0,
              "ticks": ""
             }
            },
            "type": "parcoords"
           }
          ],
          "pie": [
           {
            "automargin": true,
            "type": "pie"
           }
          ],
          "scatter": [
           {
            "marker": {
             "colorbar": {
              "outlinewidth": 0,
              "ticks": ""
             }
            },
            "type": "scatter"
           }
          ],
          "scatter3d": [
           {
            "line": {
             "colorbar": {
              "outlinewidth": 0,
              "ticks": ""
             }
            },
            "marker": {
             "colorbar": {
              "outlinewidth": 0,
              "ticks": ""
             }
            },
            "type": "scatter3d"
           }
          ],
          "scattercarpet": [
           {
            "marker": {
             "colorbar": {
              "outlinewidth": 0,
              "ticks": ""
             }
            },
            "type": "scattercarpet"
           }
          ],
          "scattergeo": [
           {
            "marker": {
             "colorbar": {
              "outlinewidth": 0,
              "ticks": ""
             }
            },
            "type": "scattergeo"
           }
          ],
          "scattergl": [
           {
            "marker": {
             "colorbar": {
              "outlinewidth": 0,
              "ticks": ""
             }
            },
            "type": "scattergl"
           }
          ],
          "scattermapbox": [
           {
            "marker": {
             "colorbar": {
              "outlinewidth": 0,
              "ticks": ""
             }
            },
            "type": "scattermapbox"
           }
          ],
          "scatterpolar": [
           {
            "marker": {
             "colorbar": {
              "outlinewidth": 0,
              "ticks": ""
             }
            },
            "type": "scatterpolar"
           }
          ],
          "scatterpolargl": [
           {
            "marker": {
             "colorbar": {
              "outlinewidth": 0,
              "ticks": ""
             }
            },
            "type": "scatterpolargl"
           }
          ],
          "scatterternary": [
           {
            "marker": {
             "colorbar": {
              "outlinewidth": 0,
              "ticks": ""
             }
            },
            "type": "scatterternary"
           }
          ],
          "surface": [
           {
            "colorbar": {
             "outlinewidth": 0,
             "ticks": ""
            },
            "colorscale": [
             [
              0,
              "#0d0887"
             ],
             [
              0.1111111111111111,
              "#46039f"
             ],
             [
              0.2222222222222222,
              "#7201a8"
             ],
             [
              0.3333333333333333,
              "#9c179e"
             ],
             [
              0.4444444444444444,
              "#bd3786"
             ],
             [
              0.5555555555555556,
              "#d8576b"
             ],
             [
              0.6666666666666666,
              "#ed7953"
             ],
             [
              0.7777777777777778,
              "#fb9f3a"
             ],
             [
              0.8888888888888888,
              "#fdca26"
             ],
             [
              1,
              "#f0f921"
             ]
            ],
            "type": "surface"
           }
          ],
          "table": [
           {
            "cells": {
             "fill": {
              "color": "#EBF0F8"
             },
             "line": {
              "color": "white"
             }
            },
            "header": {
             "fill": {
              "color": "#C8D4E3"
             },
             "line": {
              "color": "white"
             }
            },
            "type": "table"
           }
          ]
         },
         "layout": {
          "annotationdefaults": {
           "arrowcolor": "#2a3f5f",
           "arrowhead": 0,
           "arrowwidth": 1
          },
          "autotypenumbers": "strict",
          "coloraxis": {
           "colorbar": {
            "outlinewidth": 0,
            "ticks": ""
           }
          },
          "colorscale": {
           "diverging": [
            [
             0,
             "#8e0152"
            ],
            [
             0.1,
             "#c51b7d"
            ],
            [
             0.2,
             "#de77ae"
            ],
            [
             0.3,
             "#f1b6da"
            ],
            [
             0.4,
             "#fde0ef"
            ],
            [
             0.5,
             "#f7f7f7"
            ],
            [
             0.6,
             "#e6f5d0"
            ],
            [
             0.7,
             "#b8e186"
            ],
            [
             0.8,
             "#7fbc41"
            ],
            [
             0.9,
             "#4d9221"
            ],
            [
             1,
             "#276419"
            ]
           ],
           "sequential": [
            [
             0,
             "#0d0887"
            ],
            [
             0.1111111111111111,
             "#46039f"
            ],
            [
             0.2222222222222222,
             "#7201a8"
            ],
            [
             0.3333333333333333,
             "#9c179e"
            ],
            [
             0.4444444444444444,
             "#bd3786"
            ],
            [
             0.5555555555555556,
             "#d8576b"
            ],
            [
             0.6666666666666666,
             "#ed7953"
            ],
            [
             0.7777777777777778,
             "#fb9f3a"
            ],
            [
             0.8888888888888888,
             "#fdca26"
            ],
            [
             1,
             "#f0f921"
            ]
           ],
           "sequentialminus": [
            [
             0,
             "#0d0887"
            ],
            [
             0.1111111111111111,
             "#46039f"
            ],
            [
             0.2222222222222222,
             "#7201a8"
            ],
            [
             0.3333333333333333,
             "#9c179e"
            ],
            [
             0.4444444444444444,
             "#bd3786"
            ],
            [
             0.5555555555555556,
             "#d8576b"
            ],
            [
             0.6666666666666666,
             "#ed7953"
            ],
            [
             0.7777777777777778,
             "#fb9f3a"
            ],
            [
             0.8888888888888888,
             "#fdca26"
            ],
            [
             1,
             "#f0f921"
            ]
           ]
          },
          "colorway": [
           "#636efa",
           "#EF553B",
           "#00cc96",
           "#ab63fa",
           "#FFA15A",
           "#19d3f3",
           "#FF6692",
           "#B6E880",
           "#FF97FF",
           "#FECB52"
          ],
          "font": {
           "color": "#2a3f5f"
          },
          "geo": {
           "bgcolor": "white",
           "lakecolor": "white",
           "landcolor": "#E5ECF6",
           "showlakes": true,
           "showland": true,
           "subunitcolor": "white"
          },
          "hoverlabel": {
           "align": "left"
          },
          "hovermode": "closest",
          "mapbox": {
           "style": "light"
          },
          "paper_bgcolor": "white",
          "plot_bgcolor": "#E5ECF6",
          "polar": {
           "angularaxis": {
            "gridcolor": "white",
            "linecolor": "white",
            "ticks": ""
           },
           "bgcolor": "#E5ECF6",
           "radialaxis": {
            "gridcolor": "white",
            "linecolor": "white",
            "ticks": ""
           }
          },
          "scene": {
           "xaxis": {
            "backgroundcolor": "#E5ECF6",
            "gridcolor": "white",
            "gridwidth": 2,
            "linecolor": "white",
            "showbackground": true,
            "ticks": "",
            "zerolinecolor": "white"
           },
           "yaxis": {
            "backgroundcolor": "#E5ECF6",
            "gridcolor": "white",
            "gridwidth": 2,
            "linecolor": "white",
            "showbackground": true,
            "ticks": "",
            "zerolinecolor": "white"
           },
           "zaxis": {
            "backgroundcolor": "#E5ECF6",
            "gridcolor": "white",
            "gridwidth": 2,
            "linecolor": "white",
            "showbackground": true,
            "ticks": "",
            "zerolinecolor": "white"
           }
          },
          "shapedefaults": {
           "line": {
            "color": "#2a3f5f"
           }
          },
          "ternary": {
           "aaxis": {
            "gridcolor": "white",
            "linecolor": "white",
            "ticks": ""
           },
           "baxis": {
            "gridcolor": "white",
            "linecolor": "white",
            "ticks": ""
           },
           "bgcolor": "#E5ECF6",
           "caxis": {
            "gridcolor": "white",
            "linecolor": "white",
            "ticks": ""
           }
          },
          "title": {
           "x": 0.05
          },
          "xaxis": {
           "automargin": true,
           "gridcolor": "white",
           "linecolor": "white",
           "ticks": "",
           "title": {
            "standoff": 15
           },
           "zerolinecolor": "white",
           "zerolinewidth": 2
          },
          "yaxis": {
           "automargin": true,
           "gridcolor": "white",
           "linecolor": "white",
           "ticks": "",
           "title": {
            "standoff": 15
           },
           "zerolinecolor": "white",
           "zerolinewidth": 2
          }
         }
        },
        "xaxis": {
         "rangebreaks": [
          {
           "bounds": [
            "sat",
            "mon"
           ]
          },
          {
           "values": [
            "2022-10-13",
            "2022-10-14",
            "2022-10-24",
            "2022-12-05",
            "2022-12-12",
            "2023-01-02"
           ]
          }
         ]
        }
       }
      },
      "text/html": [
       "<div>                            <div id=\"575dd152-1689-43a0-a092-c8e2cf7d7469\" class=\"plotly-graph-div\" style=\"height:525px; width:100%;\"></div>            <script type=\"text/javascript\">                require([\"plotly\"], function(Plotly) {                    window.PLOTLYENV=window.PLOTLYENV || {};                                    if (document.getElementById(\"575dd152-1689-43a0-a092-c8e2cf7d7469\")) {                    Plotly.newPlot(                        \"575dd152-1689-43a0-a092-c8e2cf7d7469\",                        [{\"close\":[153.0,155.0,155.0,156.5,155.0,155.5,154.5,153.0,151.0,151.5,149.0,147.5,147.0,146.0,145.5,144.5,144.0,145.0,144.5,143.0,144.0,143.5,143.0,142.0,143.5,143.0,142.0,142.5,142.0,142.5,144.0,144.5,145.5,143.5,143.5,143.5,143.0,143.5,142.5,143.0,143.5,145.0,144.5,144.5,148.0,148.0,147.5,148.5,148.0,148.5,149.5,147.0,146.5,146.0,142.5,143.0,141.5,141.5,146.0,148.5,148.0,146.5,145.5,144.0,143.5,142.0,143.0,142.5,142.0,142.5,140.5,144.0,144.5,143.5,145.0,149.5,151.5,151.0,150.0,150.5,149.5,148.0,148.5,150.0,151.0,151.0,149.0,147.0,148.0,151.0,152.5,152.0,152.5,153.5,155.5,155.0,157.0,157.5,156.0,155.0],\"high\":[156.0,156.0,157.5,157.5,155.5,155.5,155.0,154.0,154.0,151.5,149.5,148.5,147.0,146.5,146.0,144.5,144.5,145.5,144.5,144.0,144.0,143.5,143.5,144.0,144.0,143.0,143.0,144.0,142.0,144.0,145.0,145.0,146.0,143.5,144.5,144.0,143.5,144.0,143.5,143.5,145.0,145.0,146.0,147.0,149.5,149.0,150.0,149.5,149.5,149.5,149.5,147.5,147.5,146.5,143.5,143.0,142.0,144.5,148.0,149.0,148.5,147.0,145.5,145.0,143.5,142.5,143.5,144.0,143.5,143.0,143.5,144.0,146.5,145.0,149.0,151.5,152.0,152.0,151.0,151.5,149.5,148.5,150.0,151.0,152.0,152.0,150.0,149.5,150.5,152.5,153.0,153.5,154.0,156.0,156.5,156.0,158.5,158.0,157.0,155.5],\"low\":[152.5,154.5,155.0,155.5,154.0,153.5,153.0,151.5,150.5,149.0,147.0,147.0,145.0,145.0,144.0,143.5,143.0,144.0,143.0,143.0,143.5,142.5,142.0,142.0,143.0,142.0,142.0,142.0,141.0,142.5,144.0,144.0,143.0,141.5,143.0,143.0,142.5,142.5,142.0,142.0,143.0,144.0,144.5,144.0,147.5,146.0,147.5,148.0,148.0,148.0,146.5,145.5,145.5,143.0,142.0,141.0,140.0,140.5,145.5,147.0,146.5,145.5,143.5,143.5,141.0,141.5,142.0,142.5,141.5,142.0,140.0,142.5,144.0,143.5,144.0,149.0,149.5,149.0,149.5,150.0,148.0,147.0,148.5,149.0,150.5,150.0,148.0,147.0,147.0,150.5,151.0,151.5,151.5,153.0,155.0,154.0,156.0,156.5,154.0,152.0],\"open\":[155.0,155.0,157.0,156.0,155.0,155.0,154.5,152.0,152.5,149.0,148.0,147.5,146.0,145.5,144.5,143.5,144.0,145.0,143.5,144.0,144.0,143.0,142.5,144.0,144.0,143.0,142.5,142.0,141.5,143.5,144.5,145.0,143.5,142.5,143.5,143.5,143.5,142.5,143.0,143.5,145.0,144.5,144.5,146.0,149.0,146.5,149.5,149.0,149.0,149.0,147.0,147.0,147.5,143.5,143.0,142.0,142.0,144.5,146.5,147.5,147.0,146.0,144.0,143.5,142.0,142.0,143.0,142.5,143.5,142.5,143.0,143.5,145.0,144.5,148.5,151.0,151.0,150.0,150.5,150.0,148.0,147.5,149.5,149.5,151.5,150.0,148.0,149.0,150.5,152.5,152.0,153.0,153.0,155.5,155.0,154.5,157.5,157.0,155.0,152.5],\"x\":[\"2023-01-17T00:00:00\",\"2023-01-16T00:00:00\",\"2023-01-13T00:00:00\",\"2023-01-12T00:00:00\",\"2023-01-11T00:00:00\",\"2023-01-10T00:00:00\",\"2023-01-09T00:00:00\",\"2023-01-06T00:00:00\",\"2023-01-05T00:00:00\",\"2023-01-04T00:00:00\",\"2023-01-03T00:00:00\",\"2022-12-30T00:00:00\",\"2022-12-29T00:00:00\",\"2022-12-28T00:00:00\",\"2022-12-27T00:00:00\",\"2022-12-26T00:00:00\",\"2022-12-23T00:00:00\",\"2022-12-22T00:00:00\",\"2022-12-21T00:00:00\",\"2022-12-20T00:00:00\",\"2022-12-19T00:00:00\",\"2022-12-16T00:00:00\",\"2022-12-15T00:00:00\",\"2022-12-14T00:00:00\",\"2022-12-13T00:00:00\",\"2022-12-09T00:00:00\",\"2022-12-08T00:00:00\",\"2022-12-07T00:00:00\",\"2022-12-06T00:00:00\",\"2022-12-02T00:00:00\",\"2022-12-01T00:00:00\",\"2022-11-30T00:00:00\",\"2022-11-29T00:00:00\",\"2022-11-28T00:00:00\",\"2022-11-25T00:00:00\",\"2022-11-24T00:00:00\",\"2022-11-23T00:00:00\",\"2022-11-22T00:00:00\",\"2022-11-21T00:00:00\",\"2022-11-18T00:00:00\",\"2022-11-17T00:00:00\",\"2022-11-16T00:00:00\",\"2022-11-15T00:00:00\",\"2022-11-14T00:00:00\",\"2022-11-11T00:00:00\",\"2022-11-10T00:00:00\",\"2022-11-09T00:00:00\",\"2022-11-08T00:00:00\",\"2022-11-07T00:00:00\",\"2022-11-04T00:00:00\",\"2022-11-03T00:00:00\",\"2022-11-02T00:00:00\",\"2022-11-01T00:00:00\",\"2022-10-31T00:00:00\",\"2022-10-28T00:00:00\",\"2022-10-27T00:00:00\",\"2022-10-26T00:00:00\",\"2022-10-25T00:00:00\",\"2022-10-21T00:00:00\",\"2022-10-20T00:00:00\",\"2022-10-19T00:00:00\",\"2022-10-18T00:00:00\",\"2022-10-17T00:00:00\",\"2022-10-12T00:00:00\",\"2022-10-11T00:00:00\",\"2022-10-10T00:00:00\",\"2022-10-07T00:00:00\",\"2022-10-06T00:00:00\",\"2022-10-05T00:00:00\",\"2022-10-04T00:00:00\",\"2022-10-03T00:00:00\",\"2022-09-30T00:00:00\",\"2022-09-29T00:00:00\",\"2022-09-28T00:00:00\",\"2022-09-27T00:00:00\",\"2022-09-26T00:00:00\",\"2022-09-23T00:00:00\",\"2022-09-22T00:00:00\",\"2022-09-21T00:00:00\",\"2022-09-20T00:00:00\",\"2022-09-19T00:00:00\",\"2022-09-16T00:00:00\",\"2022-09-15T00:00:00\",\"2022-09-14T00:00:00\",\"2022-09-13T00:00:00\",\"2022-09-12T00:00:00\",\"2022-09-09T00:00:00\",\"2022-09-08T00:00:00\",\"2022-09-07T00:00:00\",\"2022-09-06T00:00:00\",\"2022-09-05T00:00:00\",\"2022-09-02T00:00:00\",\"2022-09-01T00:00:00\",\"2022-08-31T00:00:00\",\"2022-08-30T00:00:00\",\"2022-08-29T00:00:00\",\"2022-08-26T00:00:00\",\"2022-08-25T00:00:00\",\"2022-08-24T00:00:00\",\"2022-08-23T00:00:00\"],\"type\":\"candlestick\"}],                        {\"template\":{\"data\":{\"bar\":[{\"error_x\":{\"color\":\"#2a3f5f\"},\"error_y\":{\"color\":\"#2a3f5f\"},\"marker\":{\"line\":{\"color\":\"#E5ECF6\",\"width\":0.5},\"pattern\":{\"fillmode\":\"overlay\",\"size\":10,\"solidity\":0.2}},\"type\":\"bar\"}],\"barpolar\":[{\"marker\":{\"line\":{\"color\":\"#E5ECF6\",\"width\":0.5},\"pattern\":{\"fillmode\":\"overlay\",\"size\":10,\"solidity\":0.2}},\"type\":\"barpolar\"}],\"carpet\":[{\"aaxis\":{\"endlinecolor\":\"#2a3f5f\",\"gridcolor\":\"white\",\"linecolor\":\"white\",\"minorgridcolor\":\"white\",\"startlinecolor\":\"#2a3f5f\"},\"baxis\":{\"endlinecolor\":\"#2a3f5f\",\"gridcolor\":\"white\",\"linecolor\":\"white\",\"minorgridcolor\":\"white\",\"startlinecolor\":\"#2a3f5f\"},\"type\":\"carpet\"}],\"choropleth\":[{\"colorbar\":{\"outlinewidth\":0,\"ticks\":\"\"},\"type\":\"choropleth\"}],\"contour\":[{\"colorbar\":{\"outlinewidth\":0,\"ticks\":\"\"},\"colorscale\":[[0.0,\"#0d0887\"],[0.1111111111111111,\"#46039f\"],[0.2222222222222222,\"#7201a8\"],[0.3333333333333333,\"#9c179e\"],[0.4444444444444444,\"#bd3786\"],[0.5555555555555556,\"#d8576b\"],[0.6666666666666666,\"#ed7953\"],[0.7777777777777778,\"#fb9f3a\"],[0.8888888888888888,\"#fdca26\"],[1.0,\"#f0f921\"]],\"type\":\"contour\"}],\"contourcarpet\":[{\"colorbar\":{\"outlinewidth\":0,\"ticks\":\"\"},\"type\":\"contourcarpet\"}],\"heatmap\":[{\"colorbar\":{\"outlinewidth\":0,\"ticks\":\"\"},\"colorscale\":[[0.0,\"#0d0887\"],[0.1111111111111111,\"#46039f\"],[0.2222222222222222,\"#7201a8\"],[0.3333333333333333,\"#9c179e\"],[0.4444444444444444,\"#bd3786\"],[0.5555555555555556,\"#d8576b\"],[0.6666666666666666,\"#ed7953\"],[0.7777777777777778,\"#fb9f3a\"],[0.8888888888888888,\"#fdca26\"],[1.0,\"#f0f921\"]],\"type\":\"heatmap\"}],\"heatmapgl\":[{\"colorbar\":{\"outlinewidth\":0,\"ticks\":\"\"},\"colorscale\":[[0.0,\"#0d0887\"],[0.1111111111111111,\"#46039f\"],[0.2222222222222222,\"#7201a8\"],[0.3333333333333333,\"#9c179e\"],[0.4444444444444444,\"#bd3786\"],[0.5555555555555556,\"#d8576b\"],[0.6666666666666666,\"#ed7953\"],[0.7777777777777778,\"#fb9f3a\"],[0.8888888888888888,\"#fdca26\"],[1.0,\"#f0f921\"]],\"type\":\"heatmapgl\"}],\"histogram\":[{\"marker\":{\"pattern\":{\"fillmode\":\"overlay\",\"size\":10,\"solidity\":0.2}},\"type\":\"histogram\"}],\"histogram2d\":[{\"colorbar\":{\"outlinewidth\":0,\"ticks\":\"\"},\"colorscale\":[[0.0,\"#0d0887\"],[0.1111111111111111,\"#46039f\"],[0.2222222222222222,\"#7201a8\"],[0.3333333333333333,\"#9c179e\"],[0.4444444444444444,\"#bd3786\"],[0.5555555555555556,\"#d8576b\"],[0.6666666666666666,\"#ed7953\"],[0.7777777777777778,\"#fb9f3a\"],[0.8888888888888888,\"#fdca26\"],[1.0,\"#f0f921\"]],\"type\":\"histogram2d\"}],\"histogram2dcontour\":[{\"colorbar\":{\"outlinewidth\":0,\"ticks\":\"\"},\"colorscale\":[[0.0,\"#0d0887\"],[0.1111111111111111,\"#46039f\"],[0.2222222222222222,\"#7201a8\"],[0.3333333333333333,\"#9c179e\"],[0.4444444444444444,\"#bd3786\"],[0.5555555555555556,\"#d8576b\"],[0.6666666666666666,\"#ed7953\"],[0.7777777777777778,\"#fb9f3a\"],[0.8888888888888888,\"#fdca26\"],[1.0,\"#f0f921\"]],\"type\":\"histogram2dcontour\"}],\"mesh3d\":[{\"colorbar\":{\"outlinewidth\":0,\"ticks\":\"\"},\"type\":\"mesh3d\"}],\"parcoords\":[{\"line\":{\"colorbar\":{\"outlinewidth\":0,\"ticks\":\"\"}},\"type\":\"parcoords\"}],\"pie\":[{\"automargin\":true,\"type\":\"pie\"}],\"scatter\":[{\"marker\":{\"colorbar\":{\"outlinewidth\":0,\"ticks\":\"\"}},\"type\":\"scatter\"}],\"scatter3d\":[{\"line\":{\"colorbar\":{\"outlinewidth\":0,\"ticks\":\"\"}},\"marker\":{\"colorbar\":{\"outlinewidth\":0,\"ticks\":\"\"}},\"type\":\"scatter3d\"}],\"scattercarpet\":[{\"marker\":{\"colorbar\":{\"outlinewidth\":0,\"ticks\":\"\"}},\"type\":\"scattercarpet\"}],\"scattergeo\":[{\"marker\":{\"colorbar\":{\"outlinewidth\":0,\"ticks\":\"\"}},\"type\":\"scattergeo\"}],\"scattergl\":[{\"marker\":{\"colorbar\":{\"outlinewidth\":0,\"ticks\":\"\"}},\"type\":\"scattergl\"}],\"scattermapbox\":[{\"marker\":{\"colorbar\":{\"outlinewidth\":0,\"ticks\":\"\"}},\"type\":\"scattermapbox\"}],\"scatterpolar\":[{\"marker\":{\"colorbar\":{\"outlinewidth\":0,\"ticks\":\"\"}},\"type\":\"scatterpolar\"}],\"scatterpolargl\":[{\"marker\":{\"colorbar\":{\"outlinewidth\":0,\"ticks\":\"\"}},\"type\":\"scatterpolargl\"}],\"scatterternary\":[{\"marker\":{\"colorbar\":{\"outlinewidth\":0,\"ticks\":\"\"}},\"type\":\"scatterternary\"}],\"surface\":[{\"colorbar\":{\"outlinewidth\":0,\"ticks\":\"\"},\"colorscale\":[[0.0,\"#0d0887\"],[0.1111111111111111,\"#46039f\"],[0.2222222222222222,\"#7201a8\"],[0.3333333333333333,\"#9c179e\"],[0.4444444444444444,\"#bd3786\"],[0.5555555555555556,\"#d8576b\"],[0.6666666666666666,\"#ed7953\"],[0.7777777777777778,\"#fb9f3a\"],[0.8888888888888888,\"#fdca26\"],[1.0,\"#f0f921\"]],\"type\":\"surface\"}],\"table\":[{\"cells\":{\"fill\":{\"color\":\"#EBF0F8\"},\"line\":{\"color\":\"white\"}},\"header\":{\"fill\":{\"color\":\"#C8D4E3\"},\"line\":{\"color\":\"white\"}},\"type\":\"table\"}]},\"layout\":{\"annotationdefaults\":{\"arrowcolor\":\"#2a3f5f\",\"arrowhead\":0,\"arrowwidth\":1},\"autotypenumbers\":\"strict\",\"coloraxis\":{\"colorbar\":{\"outlinewidth\":0,\"ticks\":\"\"}},\"colorscale\":{\"diverging\":[[0,\"#8e0152\"],[0.1,\"#c51b7d\"],[0.2,\"#de77ae\"],[0.3,\"#f1b6da\"],[0.4,\"#fde0ef\"],[0.5,\"#f7f7f7\"],[0.6,\"#e6f5d0\"],[0.7,\"#b8e186\"],[0.8,\"#7fbc41\"],[0.9,\"#4d9221\"],[1,\"#276419\"]],\"sequential\":[[0.0,\"#0d0887\"],[0.1111111111111111,\"#46039f\"],[0.2222222222222222,\"#7201a8\"],[0.3333333333333333,\"#9c179e\"],[0.4444444444444444,\"#bd3786\"],[0.5555555555555556,\"#d8576b\"],[0.6666666666666666,\"#ed7953\"],[0.7777777777777778,\"#fb9f3a\"],[0.8888888888888888,\"#fdca26\"],[1.0,\"#f0f921\"]],\"sequentialminus\":[[0.0,\"#0d0887\"],[0.1111111111111111,\"#46039f\"],[0.2222222222222222,\"#7201a8\"],[0.3333333333333333,\"#9c179e\"],[0.4444444444444444,\"#bd3786\"],[0.5555555555555556,\"#d8576b\"],[0.6666666666666666,\"#ed7953\"],[0.7777777777777778,\"#fb9f3a\"],[0.8888888888888888,\"#fdca26\"],[1.0,\"#f0f921\"]]},\"colorway\":[\"#636efa\",\"#EF553B\",\"#00cc96\",\"#ab63fa\",\"#FFA15A\",\"#19d3f3\",\"#FF6692\",\"#B6E880\",\"#FF97FF\",\"#FECB52\"],\"font\":{\"color\":\"#2a3f5f\"},\"geo\":{\"bgcolor\":\"white\",\"lakecolor\":\"white\",\"landcolor\":\"#E5ECF6\",\"showlakes\":true,\"showland\":true,\"subunitcolor\":\"white\"},\"hoverlabel\":{\"align\":\"left\"},\"hovermode\":\"closest\",\"mapbox\":{\"style\":\"light\"},\"paper_bgcolor\":\"white\",\"plot_bgcolor\":\"#E5ECF6\",\"polar\":{\"angularaxis\":{\"gridcolor\":\"white\",\"linecolor\":\"white\",\"ticks\":\"\"},\"bgcolor\":\"#E5ECF6\",\"radialaxis\":{\"gridcolor\":\"white\",\"linecolor\":\"white\",\"ticks\":\"\"}},\"scene\":{\"xaxis\":{\"backgroundcolor\":\"#E5ECF6\",\"gridcolor\":\"white\",\"gridwidth\":2,\"linecolor\":\"white\",\"showbackground\":true,\"ticks\":\"\",\"zerolinecolor\":\"white\"},\"yaxis\":{\"backgroundcolor\":\"#E5ECF6\",\"gridcolor\":\"white\",\"gridwidth\":2,\"linecolor\":\"white\",\"showbackground\":true,\"ticks\":\"\",\"zerolinecolor\":\"white\"},\"zaxis\":{\"backgroundcolor\":\"#E5ECF6\",\"gridcolor\":\"white\",\"gridwidth\":2,\"linecolor\":\"white\",\"showbackground\":true,\"ticks\":\"\",\"zerolinecolor\":\"white\"}},\"shapedefaults\":{\"line\":{\"color\":\"#2a3f5f\"}},\"ternary\":{\"aaxis\":{\"gridcolor\":\"white\",\"linecolor\":\"white\",\"ticks\":\"\"},\"baxis\":{\"gridcolor\":\"white\",\"linecolor\":\"white\",\"ticks\":\"\"},\"bgcolor\":\"#E5ECF6\",\"caxis\":{\"gridcolor\":\"white\",\"linecolor\":\"white\",\"ticks\":\"\"}},\"title\":{\"x\":0.05},\"xaxis\":{\"automargin\":true,\"gridcolor\":\"white\",\"linecolor\":\"white\",\"ticks\":\"\",\"title\":{\"standoff\":15},\"zerolinecolor\":\"white\",\"zerolinewidth\":2},\"yaxis\":{\"automargin\":true,\"gridcolor\":\"white\",\"linecolor\":\"white\",\"ticks\":\"\",\"title\":{\"standoff\":15},\"zerolinecolor\":\"white\",\"zerolinewidth\":2}}},\"xaxis\":{\"rangebreaks\":[{\"bounds\":[\"sat\",\"mon\"]},{\"values\":[\"2022-10-13\",\"2022-10-14\",\"2022-10-24\",\"2022-12-05\",\"2022-12-12\",\"2023-01-02\"]}]}},                        {\"responsive\": true}                    ).then(function(){\n",
       "                            \n",
       "var gd = document.getElementById('575dd152-1689-43a0-a092-c8e2cf7d7469');\n",
       "var x = new MutationObserver(function (mutations, observer) {{\n",
       "        var display = window.getComputedStyle(gd).display;\n",
       "        if (!display || display === 'none') {{\n",
       "            console.log([gd, 'removed!']);\n",
       "            Plotly.purge(gd);\n",
       "            observer.disconnect();\n",
       "        }}\n",
       "}});\n",
       "\n",
       "// Listen for the removal of the full notebook cells\n",
       "var notebookContainer = gd.closest('#notebook-container');\n",
       "if (notebookContainer) {{\n",
       "    x.observe(notebookContainer, {childList: true});\n",
       "}}\n",
       "\n",
       "// Listen for the clearing of the current output cell\n",
       "var outputEl = gd.closest('.output');\n",
       "if (outputEl) {{\n",
       "    x.observe(outputEl, {childList: true});\n",
       "}}\n",
       "\n",
       "                        })                };                });            </script>        </div>"
      ]
     },
     "metadata": {},
     "output_type": "display_data"
    }
   ],
   "source": [
    "share.Plot_Candle_Day('KBANK')"
   ]
  },
  {
   "cell_type": "code",
   "execution_count": 125,
   "id": "293bac0e",
   "metadata": {},
   "outputs": [
    {
     "data": {
      "application/vnd.plotly.v1+json": {
       "config": {
        "plotlyServerURL": "https://plot.ly"
       },
       "data": [
        {
         "close": [
          151,
          151.5,
          151.5,
          152.5,
          152.5,
          152.5,
          151.5,
          151.5,
          150.5,
          151,
          151,
          150.5,
          149.5,
          148.5,
          148.5,
          147.5,
          147.5,
          148,
          148,
          147.5,
          148.5,
          148,
          148,
          148,
          147,
          146,
          146,
          146.5,
          146,
          145.5,
          146,
          146.5,
          146.5,
          146,
          145.5,
          146,
          146,
          145.5,
          145.5,
          145,
          145,
          144.5,
          144,
          144,
          144.5,
          144.5,
          144.5,
          144,
          144,
          144,
          144,
          144,
          144.5,
          144,
          144.5,
          144.5,
          145,
          145,
          144.5,
          145.5,
          144.5,
          144.5,
          144,
          144.5,
          144.5,
          144,
          143,
          143.5,
          143.5,
          144,
          143,
          143.5,
          144,
          144,
          144,
          143.5,
          143.5,
          143.5,
          143,
          143,
          143,
          143,
          143.5,
          143.5,
          143.5,
          143,
          142.5,
          143,
          143,
          143.5,
          143,
          142.5,
          143,
          143,
          143,
          143.5,
          143.5,
          143.5,
          143,
          143.5
         ],
         "high": [
          151.5,
          151.5,
          153,
          152.5,
          153,
          154,
          151.5,
          151.5,
          151,
          151.5,
          151.5,
          150.5,
          149.5,
          149.5,
          149,
          148,
          148,
          148.5,
          148,
          148.5,
          148.5,
          148.5,
          148.5,
          148.5,
          147,
          146.5,
          146.5,
          146.5,
          146,
          146,
          146.5,
          146.5,
          146.5,
          146.5,
          146,
          146,
          146,
          146,
          146,
          145,
          145,
          145,
          144.5,
          144.5,
          144.5,
          144.5,
          144.5,
          144.5,
          144,
          144.5,
          144.5,
          144.5,
          144.5,
          144,
          145,
          145,
          145,
          145,
          145.5,
          145.5,
          144.5,
          144.5,
          144.5,
          144.5,
          144.5,
          144,
          143.5,
          144,
          144,
          144,
          144,
          144,
          144,
          144,
          144,
          144,
          144,
          144,
          143.5,
          143.5,
          143.5,
          143.5,
          143.5,
          143.5,
          143.5,
          143.5,
          143.5,
          143.5,
          143.5,
          143.5,
          143,
          143,
          143,
          143,
          143.5,
          144,
          143.5,
          143.5,
          144,
          143.5
         ],
         "low": [
          151,
          150.5,
          151,
          152,
          152,
          152,
          151,
          150.5,
          150.5,
          150.5,
          150,
          149,
          148.5,
          148.5,
          147.5,
          147.5,
          147,
          147.5,
          147,
          147.5,
          148,
          148,
          148,
          147,
          146,
          146,
          146,
          145.5,
          145.5,
          145,
          145.5,
          146,
          146,
          145.5,
          145.5,
          145,
          145.5,
          145,
          145,
          144.5,
          144.5,
          144,
          144,
          144,
          144,
          144,
          144,
          143.5,
          143.5,
          143.5,
          143.5,
          144,
          143.5,
          143,
          144,
          144.5,
          144.5,
          144.5,
          144.5,
          144.5,
          144,
          144,
          144,
          144,
          143.5,
          143,
          143,
          143,
          143.5,
          143,
          143,
          143.5,
          143.5,
          143.5,
          143.5,
          143.5,
          143.5,
          143.5,
          143,
          143,
          143,
          143,
          143,
          142.5,
          142.5,
          142.5,
          142.5,
          143,
          142.5,
          142.5,
          142.5,
          142.5,
          142.5,
          142.5,
          142.5,
          143,
          143,
          143,
          143,
          143
         ],
         "open": [
          151.5,
          151.5,
          152.5,
          152,
          152.5,
          153,
          151.5,
          150.5,
          151,
          151,
          150.5,
          149.5,
          148.5,
          148.5,
          148,
          147.5,
          148,
          148.5,
          148,
          148.5,
          148.5,
          148.5,
          148,
          147.5,
          146.5,
          146,
          146.5,
          145.5,
          146,
          146,
          146,
          146,
          146,
          145.5,
          146,
          145,
          145.5,
          145.5,
          145,
          145,
          144.5,
          144,
          144.5,
          144,
          144.5,
          144,
          144.5,
          144,
          144,
          144,
          144,
          144.5,
          144,
          144,
          144.5,
          145,
          145,
          145,
          145,
          144.5,
          144.5,
          144.5,
          144.5,
          144.5,
          144,
          143.5,
          143.5,
          144,
          144,
          143,
          143.5,
          143.5,
          144,
          144,
          143.5,
          143.5,
          143.5,
          143.5,
          143.5,
          143.5,
          143,
          143,
          143,
          143.5,
          142.5,
          142.5,
          143,
          143,
          143.5,
          143,
          143,
          143,
          143,
          143,
          143.5,
          143.5,
          143.5,
          143.5,
          143,
          143
         ],
         "type": "candlestick",
         "x": [
          "2023-01-05T16:00:00",
          "2023-01-05T15:00:00",
          "2023-01-05T14:00:00",
          "2023-01-05T12:00:00",
          "2023-01-05T11:00:00",
          "2023-01-05T10:00:00",
          "2023-01-04T16:00:00",
          "2023-01-04T15:00:00",
          "2023-01-04T14:00:00",
          "2023-01-04T12:00:00",
          "2023-01-04T11:00:00",
          "2023-01-04T10:00:00",
          "2023-01-03T16:00:00",
          "2023-01-03T15:00:00",
          "2023-01-03T14:00:00",
          "2023-01-03T12:00:00",
          "2023-01-03T11:00:00",
          "2023-01-03T10:00:00",
          "2022-12-30T16:00:00",
          "2022-12-30T15:00:00",
          "2022-12-30T14:00:00",
          "2022-12-30T12:00:00",
          "2022-12-30T11:00:00",
          "2022-12-30T10:00:00",
          "2022-12-29T16:00:00",
          "2022-12-29T15:00:00",
          "2022-12-29T14:00:00",
          "2022-12-29T12:00:00",
          "2022-12-29T11:00:00",
          "2022-12-29T10:00:00",
          "2022-12-28T16:00:00",
          "2022-12-28T15:00:00",
          "2022-12-28T14:00:00",
          "2022-12-28T12:00:00",
          "2022-12-28T11:00:00",
          "2022-12-28T10:00:00",
          "2022-12-27T16:00:00",
          "2022-12-27T15:00:00",
          "2022-12-27T14:00:00",
          "2022-12-27T12:00:00",
          "2022-12-27T11:00:00",
          "2022-12-27T10:00:00",
          "2022-12-26T16:00:00",
          "2022-12-26T15:00:00",
          "2022-12-26T14:00:00",
          "2022-12-26T12:00:00",
          "2022-12-26T11:00:00",
          "2022-12-26T10:00:00",
          "2022-12-23T16:00:00",
          "2022-12-23T15:00:00",
          "2022-12-23T14:00:00",
          "2022-12-23T12:00:00",
          "2022-12-23T11:00:00",
          "2022-12-23T10:00:00",
          "2022-12-22T16:00:00",
          "2022-12-22T15:00:00",
          "2022-12-22T14:00:00",
          "2022-12-22T12:00:00",
          "2022-12-22T11:00:00",
          "2022-12-22T10:00:00",
          "2022-12-21T16:00:00",
          "2022-12-21T15:00:00",
          "2022-12-21T14:00:00",
          "2022-12-21T12:00:00",
          "2022-12-21T11:00:00",
          "2022-12-21T10:00:00",
          "2022-12-20T16:00:00",
          "2022-12-20T15:00:00",
          "2022-12-20T14:00:00",
          "2022-12-20T12:00:00",
          "2022-12-20T11:00:00",
          "2022-12-20T10:00:00",
          "2022-12-19T16:00:00",
          "2022-12-19T15:00:00",
          "2022-12-19T14:00:00",
          "2022-12-19T12:00:00",
          "2022-12-19T11:00:00",
          "2022-12-19T10:00:00",
          "2022-12-16T16:00:00",
          "2022-12-16T15:00:00",
          "2022-12-16T14:00:00",
          "2022-12-16T12:00:00",
          "2022-12-16T11:00:00",
          "2022-12-16T10:00:00",
          "2022-12-15T16:00:00",
          "2022-12-15T15:00:00",
          "2022-12-15T14:00:00",
          "2022-12-15T12:00:00",
          "2022-12-15T11:00:00",
          "2022-12-15T10:00:00",
          "2022-12-14T16:00:00",
          "2022-12-14T15:00:00",
          "2022-12-14T14:00:00",
          "2022-12-14T12:00:00",
          "2022-12-14T11:00:00",
          "2022-12-14T10:00:00",
          "2022-12-13T16:00:00",
          "2022-12-13T15:00:00",
          "2022-12-13T14:00:00",
          "2022-12-13T12:00:00"
         ]
        }
       ],
       "layout": {
        "template": {
         "data": {
          "bar": [
           {
            "error_x": {
             "color": "#2a3f5f"
            },
            "error_y": {
             "color": "#2a3f5f"
            },
            "marker": {
             "line": {
              "color": "#E5ECF6",
              "width": 0.5
             },
             "pattern": {
              "fillmode": "overlay",
              "size": 10,
              "solidity": 0.2
             }
            },
            "type": "bar"
           }
          ],
          "barpolar": [
           {
            "marker": {
             "line": {
              "color": "#E5ECF6",
              "width": 0.5
             },
             "pattern": {
              "fillmode": "overlay",
              "size": 10,
              "solidity": 0.2
             }
            },
            "type": "barpolar"
           }
          ],
          "carpet": [
           {
            "aaxis": {
             "endlinecolor": "#2a3f5f",
             "gridcolor": "white",
             "linecolor": "white",
             "minorgridcolor": "white",
             "startlinecolor": "#2a3f5f"
            },
            "baxis": {
             "endlinecolor": "#2a3f5f",
             "gridcolor": "white",
             "linecolor": "white",
             "minorgridcolor": "white",
             "startlinecolor": "#2a3f5f"
            },
            "type": "carpet"
           }
          ],
          "choropleth": [
           {
            "colorbar": {
             "outlinewidth": 0,
             "ticks": ""
            },
            "type": "choropleth"
           }
          ],
          "contour": [
           {
            "colorbar": {
             "outlinewidth": 0,
             "ticks": ""
            },
            "colorscale": [
             [
              0,
              "#0d0887"
             ],
             [
              0.1111111111111111,
              "#46039f"
             ],
             [
              0.2222222222222222,
              "#7201a8"
             ],
             [
              0.3333333333333333,
              "#9c179e"
             ],
             [
              0.4444444444444444,
              "#bd3786"
             ],
             [
              0.5555555555555556,
              "#d8576b"
             ],
             [
              0.6666666666666666,
              "#ed7953"
             ],
             [
              0.7777777777777778,
              "#fb9f3a"
             ],
             [
              0.8888888888888888,
              "#fdca26"
             ],
             [
              1,
              "#f0f921"
             ]
            ],
            "type": "contour"
           }
          ],
          "contourcarpet": [
           {
            "colorbar": {
             "outlinewidth": 0,
             "ticks": ""
            },
            "type": "contourcarpet"
           }
          ],
          "heatmap": [
           {
            "colorbar": {
             "outlinewidth": 0,
             "ticks": ""
            },
            "colorscale": [
             [
              0,
              "#0d0887"
             ],
             [
              0.1111111111111111,
              "#46039f"
             ],
             [
              0.2222222222222222,
              "#7201a8"
             ],
             [
              0.3333333333333333,
              "#9c179e"
             ],
             [
              0.4444444444444444,
              "#bd3786"
             ],
             [
              0.5555555555555556,
              "#d8576b"
             ],
             [
              0.6666666666666666,
              "#ed7953"
             ],
             [
              0.7777777777777778,
              "#fb9f3a"
             ],
             [
              0.8888888888888888,
              "#fdca26"
             ],
             [
              1,
              "#f0f921"
             ]
            ],
            "type": "heatmap"
           }
          ],
          "heatmapgl": [
           {
            "colorbar": {
             "outlinewidth": 0,
             "ticks": ""
            },
            "colorscale": [
             [
              0,
              "#0d0887"
             ],
             [
              0.1111111111111111,
              "#46039f"
             ],
             [
              0.2222222222222222,
              "#7201a8"
             ],
             [
              0.3333333333333333,
              "#9c179e"
             ],
             [
              0.4444444444444444,
              "#bd3786"
             ],
             [
              0.5555555555555556,
              "#d8576b"
             ],
             [
              0.6666666666666666,
              "#ed7953"
             ],
             [
              0.7777777777777778,
              "#fb9f3a"
             ],
             [
              0.8888888888888888,
              "#fdca26"
             ],
             [
              1,
              "#f0f921"
             ]
            ],
            "type": "heatmapgl"
           }
          ],
          "histogram": [
           {
            "marker": {
             "pattern": {
              "fillmode": "overlay",
              "size": 10,
              "solidity": 0.2
             }
            },
            "type": "histogram"
           }
          ],
          "histogram2d": [
           {
            "colorbar": {
             "outlinewidth": 0,
             "ticks": ""
            },
            "colorscale": [
             [
              0,
              "#0d0887"
             ],
             [
              0.1111111111111111,
              "#46039f"
             ],
             [
              0.2222222222222222,
              "#7201a8"
             ],
             [
              0.3333333333333333,
              "#9c179e"
             ],
             [
              0.4444444444444444,
              "#bd3786"
             ],
             [
              0.5555555555555556,
              "#d8576b"
             ],
             [
              0.6666666666666666,
              "#ed7953"
             ],
             [
              0.7777777777777778,
              "#fb9f3a"
             ],
             [
              0.8888888888888888,
              "#fdca26"
             ],
             [
              1,
              "#f0f921"
             ]
            ],
            "type": "histogram2d"
           }
          ],
          "histogram2dcontour": [
           {
            "colorbar": {
             "outlinewidth": 0,
             "ticks": ""
            },
            "colorscale": [
             [
              0,
              "#0d0887"
             ],
             [
              0.1111111111111111,
              "#46039f"
             ],
             [
              0.2222222222222222,
              "#7201a8"
             ],
             [
              0.3333333333333333,
              "#9c179e"
             ],
             [
              0.4444444444444444,
              "#bd3786"
             ],
             [
              0.5555555555555556,
              "#d8576b"
             ],
             [
              0.6666666666666666,
              "#ed7953"
             ],
             [
              0.7777777777777778,
              "#fb9f3a"
             ],
             [
              0.8888888888888888,
              "#fdca26"
             ],
             [
              1,
              "#f0f921"
             ]
            ],
            "type": "histogram2dcontour"
           }
          ],
          "mesh3d": [
           {
            "colorbar": {
             "outlinewidth": 0,
             "ticks": ""
            },
            "type": "mesh3d"
           }
          ],
          "parcoords": [
           {
            "line": {
             "colorbar": {
              "outlinewidth": 0,
              "ticks": ""
             }
            },
            "type": "parcoords"
           }
          ],
          "pie": [
           {
            "automargin": true,
            "type": "pie"
           }
          ],
          "scatter": [
           {
            "marker": {
             "colorbar": {
              "outlinewidth": 0,
              "ticks": ""
             }
            },
            "type": "scatter"
           }
          ],
          "scatter3d": [
           {
            "line": {
             "colorbar": {
              "outlinewidth": 0,
              "ticks": ""
             }
            },
            "marker": {
             "colorbar": {
              "outlinewidth": 0,
              "ticks": ""
             }
            },
            "type": "scatter3d"
           }
          ],
          "scattercarpet": [
           {
            "marker": {
             "colorbar": {
              "outlinewidth": 0,
              "ticks": ""
             }
            },
            "type": "scattercarpet"
           }
          ],
          "scattergeo": [
           {
            "marker": {
             "colorbar": {
              "outlinewidth": 0,
              "ticks": ""
             }
            },
            "type": "scattergeo"
           }
          ],
          "scattergl": [
           {
            "marker": {
             "colorbar": {
              "outlinewidth": 0,
              "ticks": ""
             }
            },
            "type": "scattergl"
           }
          ],
          "scattermapbox": [
           {
            "marker": {
             "colorbar": {
              "outlinewidth": 0,
              "ticks": ""
             }
            },
            "type": "scattermapbox"
           }
          ],
          "scatterpolar": [
           {
            "marker": {
             "colorbar": {
              "outlinewidth": 0,
              "ticks": ""
             }
            },
            "type": "scatterpolar"
           }
          ],
          "scatterpolargl": [
           {
            "marker": {
             "colorbar": {
              "outlinewidth": 0,
              "ticks": ""
             }
            },
            "type": "scatterpolargl"
           }
          ],
          "scatterternary": [
           {
            "marker": {
             "colorbar": {
              "outlinewidth": 0,
              "ticks": ""
             }
            },
            "type": "scatterternary"
           }
          ],
          "surface": [
           {
            "colorbar": {
             "outlinewidth": 0,
             "ticks": ""
            },
            "colorscale": [
             [
              0,
              "#0d0887"
             ],
             [
              0.1111111111111111,
              "#46039f"
             ],
             [
              0.2222222222222222,
              "#7201a8"
             ],
             [
              0.3333333333333333,
              "#9c179e"
             ],
             [
              0.4444444444444444,
              "#bd3786"
             ],
             [
              0.5555555555555556,
              "#d8576b"
             ],
             [
              0.6666666666666666,
              "#ed7953"
             ],
             [
              0.7777777777777778,
              "#fb9f3a"
             ],
             [
              0.8888888888888888,
              "#fdca26"
             ],
             [
              1,
              "#f0f921"
             ]
            ],
            "type": "surface"
           }
          ],
          "table": [
           {
            "cells": {
             "fill": {
              "color": "#EBF0F8"
             },
             "line": {
              "color": "white"
             }
            },
            "header": {
             "fill": {
              "color": "#C8D4E3"
             },
             "line": {
              "color": "white"
             }
            },
            "type": "table"
           }
          ]
         },
         "layout": {
          "annotationdefaults": {
           "arrowcolor": "#2a3f5f",
           "arrowhead": 0,
           "arrowwidth": 1
          },
          "autotypenumbers": "strict",
          "coloraxis": {
           "colorbar": {
            "outlinewidth": 0,
            "ticks": ""
           }
          },
          "colorscale": {
           "diverging": [
            [
             0,
             "#8e0152"
            ],
            [
             0.1,
             "#c51b7d"
            ],
            [
             0.2,
             "#de77ae"
            ],
            [
             0.3,
             "#f1b6da"
            ],
            [
             0.4,
             "#fde0ef"
            ],
            [
             0.5,
             "#f7f7f7"
            ],
            [
             0.6,
             "#e6f5d0"
            ],
            [
             0.7,
             "#b8e186"
            ],
            [
             0.8,
             "#7fbc41"
            ],
            [
             0.9,
             "#4d9221"
            ],
            [
             1,
             "#276419"
            ]
           ],
           "sequential": [
            [
             0,
             "#0d0887"
            ],
            [
             0.1111111111111111,
             "#46039f"
            ],
            [
             0.2222222222222222,
             "#7201a8"
            ],
            [
             0.3333333333333333,
             "#9c179e"
            ],
            [
             0.4444444444444444,
             "#bd3786"
            ],
            [
             0.5555555555555556,
             "#d8576b"
            ],
            [
             0.6666666666666666,
             "#ed7953"
            ],
            [
             0.7777777777777778,
             "#fb9f3a"
            ],
            [
             0.8888888888888888,
             "#fdca26"
            ],
            [
             1,
             "#f0f921"
            ]
           ],
           "sequentialminus": [
            [
             0,
             "#0d0887"
            ],
            [
             0.1111111111111111,
             "#46039f"
            ],
            [
             0.2222222222222222,
             "#7201a8"
            ],
            [
             0.3333333333333333,
             "#9c179e"
            ],
            [
             0.4444444444444444,
             "#bd3786"
            ],
            [
             0.5555555555555556,
             "#d8576b"
            ],
            [
             0.6666666666666666,
             "#ed7953"
            ],
            [
             0.7777777777777778,
             "#fb9f3a"
            ],
            [
             0.8888888888888888,
             "#fdca26"
            ],
            [
             1,
             "#f0f921"
            ]
           ]
          },
          "colorway": [
           "#636efa",
           "#EF553B",
           "#00cc96",
           "#ab63fa",
           "#FFA15A",
           "#19d3f3",
           "#FF6692",
           "#B6E880",
           "#FF97FF",
           "#FECB52"
          ],
          "font": {
           "color": "#2a3f5f"
          },
          "geo": {
           "bgcolor": "white",
           "lakecolor": "white",
           "landcolor": "#E5ECF6",
           "showlakes": true,
           "showland": true,
           "subunitcolor": "white"
          },
          "hoverlabel": {
           "align": "left"
          },
          "hovermode": "closest",
          "mapbox": {
           "style": "light"
          },
          "paper_bgcolor": "white",
          "plot_bgcolor": "#E5ECF6",
          "polar": {
           "angularaxis": {
            "gridcolor": "white",
            "linecolor": "white",
            "ticks": ""
           },
           "bgcolor": "#E5ECF6",
           "radialaxis": {
            "gridcolor": "white",
            "linecolor": "white",
            "ticks": ""
           }
          },
          "scene": {
           "xaxis": {
            "backgroundcolor": "#E5ECF6",
            "gridcolor": "white",
            "gridwidth": 2,
            "linecolor": "white",
            "showbackground": true,
            "ticks": "",
            "zerolinecolor": "white"
           },
           "yaxis": {
            "backgroundcolor": "#E5ECF6",
            "gridcolor": "white",
            "gridwidth": 2,
            "linecolor": "white",
            "showbackground": true,
            "ticks": "",
            "zerolinecolor": "white"
           },
           "zaxis": {
            "backgroundcolor": "#E5ECF6",
            "gridcolor": "white",
            "gridwidth": 2,
            "linecolor": "white",
            "showbackground": true,
            "ticks": "",
            "zerolinecolor": "white"
           }
          },
          "shapedefaults": {
           "line": {
            "color": "#2a3f5f"
           }
          },
          "ternary": {
           "aaxis": {
            "gridcolor": "white",
            "linecolor": "white",
            "ticks": ""
           },
           "baxis": {
            "gridcolor": "white",
            "linecolor": "white",
            "ticks": ""
           },
           "bgcolor": "#E5ECF6",
           "caxis": {
            "gridcolor": "white",
            "linecolor": "white",
            "ticks": ""
           }
          },
          "title": {
           "x": 0.05
          },
          "xaxis": {
           "automargin": true,
           "gridcolor": "white",
           "linecolor": "white",
           "ticks": "",
           "title": {
            "standoff": 15
           },
           "zerolinecolor": "white",
           "zerolinewidth": 2
          },
          "yaxis": {
           "automargin": true,
           "gridcolor": "white",
           "linecolor": "white",
           "ticks": "",
           "title": {
            "standoff": 15
           },
           "zerolinecolor": "white",
           "zerolinewidth": 2
          }
         }
        },
        "xaxis": {
         "rangebreaks": [
          {
           "bounds": [
            17,
            10
           ],
           "pattern": "hour"
          },
          {
           "dvalue": 3600000,
           "values": [
            "2022-12-13 13:00:00",
            "2022-12-13 17:00:00",
            "2022-12-13 18:00:00",
            "2022-12-13 19:00:00",
            "2022-12-13 20:00:00",
            "2022-12-13 21:00:00",
            "2022-12-13 22:00:00",
            "2022-12-13 23:00:00",
            "2022-12-14 00:00:00",
            "2022-12-14 01:00:00",
            "2022-12-14 02:00:00",
            "2022-12-14 03:00:00",
            "2022-12-14 04:00:00",
            "2022-12-14 05:00:00",
            "2022-12-14 06:00:00",
            "2022-12-14 07:00:00",
            "2022-12-14 08:00:00",
            "2022-12-14 09:00:00",
            "2022-12-14 13:00:00",
            "2022-12-14 17:00:00",
            "2022-12-14 18:00:00",
            "2022-12-14 19:00:00",
            "2022-12-14 20:00:00",
            "2022-12-14 21:00:00",
            "2022-12-14 22:00:00",
            "2022-12-14 23:00:00",
            "2022-12-15 00:00:00",
            "2022-12-15 01:00:00",
            "2022-12-15 02:00:00",
            "2022-12-15 03:00:00",
            "2022-12-15 04:00:00",
            "2022-12-15 05:00:00",
            "2022-12-15 06:00:00",
            "2022-12-15 07:00:00",
            "2022-12-15 08:00:00",
            "2022-12-15 09:00:00",
            "2022-12-15 13:00:00",
            "2022-12-15 17:00:00",
            "2022-12-15 18:00:00",
            "2022-12-15 19:00:00",
            "2022-12-15 20:00:00",
            "2022-12-15 21:00:00",
            "2022-12-15 22:00:00",
            "2022-12-15 23:00:00",
            "2022-12-16 00:00:00",
            "2022-12-16 01:00:00",
            "2022-12-16 02:00:00",
            "2022-12-16 03:00:00",
            "2022-12-16 04:00:00",
            "2022-12-16 05:00:00",
            "2022-12-16 06:00:00",
            "2022-12-16 07:00:00",
            "2022-12-16 08:00:00",
            "2022-12-16 09:00:00",
            "2022-12-16 13:00:00",
            "2022-12-16 17:00:00",
            "2022-12-16 18:00:00",
            "2022-12-16 19:00:00",
            "2022-12-16 20:00:00",
            "2022-12-16 21:00:00",
            "2022-12-16 22:00:00",
            "2022-12-16 23:00:00",
            "2022-12-17 00:00:00",
            "2022-12-17 01:00:00",
            "2022-12-17 02:00:00",
            "2022-12-17 03:00:00",
            "2022-12-17 04:00:00",
            "2022-12-17 05:00:00",
            "2022-12-17 06:00:00",
            "2022-12-17 07:00:00",
            "2022-12-17 08:00:00",
            "2022-12-17 09:00:00",
            "2022-12-17 10:00:00",
            "2022-12-17 11:00:00",
            "2022-12-17 12:00:00",
            "2022-12-17 13:00:00",
            "2022-12-17 14:00:00",
            "2022-12-17 15:00:00",
            "2022-12-17 16:00:00",
            "2022-12-17 17:00:00",
            "2022-12-17 18:00:00",
            "2022-12-17 19:00:00",
            "2022-12-17 20:00:00",
            "2022-12-17 21:00:00",
            "2022-12-17 22:00:00",
            "2022-12-17 23:00:00",
            "2022-12-18 00:00:00",
            "2022-12-18 01:00:00",
            "2022-12-18 02:00:00",
            "2022-12-18 03:00:00",
            "2022-12-18 04:00:00",
            "2022-12-18 05:00:00",
            "2022-12-18 06:00:00",
            "2022-12-18 07:00:00",
            "2022-12-18 08:00:00",
            "2022-12-18 09:00:00",
            "2022-12-18 10:00:00",
            "2022-12-18 11:00:00",
            "2022-12-18 12:00:00",
            "2022-12-18 13:00:00",
            "2022-12-18 14:00:00",
            "2022-12-18 15:00:00",
            "2022-12-18 16:00:00",
            "2022-12-18 17:00:00",
            "2022-12-18 18:00:00",
            "2022-12-18 19:00:00",
            "2022-12-18 20:00:00",
            "2022-12-18 21:00:00",
            "2022-12-18 22:00:00",
            "2022-12-18 23:00:00",
            "2022-12-19 00:00:00",
            "2022-12-19 01:00:00",
            "2022-12-19 02:00:00",
            "2022-12-19 03:00:00",
            "2022-12-19 04:00:00",
            "2022-12-19 05:00:00",
            "2022-12-19 06:00:00",
            "2022-12-19 07:00:00",
            "2022-12-19 08:00:00",
            "2022-12-19 09:00:00",
            "2022-12-19 13:00:00",
            "2022-12-19 17:00:00",
            "2022-12-19 18:00:00",
            "2022-12-19 19:00:00",
            "2022-12-19 20:00:00",
            "2022-12-19 21:00:00",
            "2022-12-19 22:00:00",
            "2022-12-19 23:00:00",
            "2022-12-20 00:00:00",
            "2022-12-20 01:00:00",
            "2022-12-20 02:00:00",
            "2022-12-20 03:00:00",
            "2022-12-20 04:00:00",
            "2022-12-20 05:00:00",
            "2022-12-20 06:00:00",
            "2022-12-20 07:00:00",
            "2022-12-20 08:00:00",
            "2022-12-20 09:00:00",
            "2022-12-20 13:00:00",
            "2022-12-20 17:00:00",
            "2022-12-20 18:00:00",
            "2022-12-20 19:00:00",
            "2022-12-20 20:00:00",
            "2022-12-20 21:00:00",
            "2022-12-20 22:00:00",
            "2022-12-20 23:00:00",
            "2022-12-21 00:00:00",
            "2022-12-21 01:00:00",
            "2022-12-21 02:00:00",
            "2022-12-21 03:00:00",
            "2022-12-21 04:00:00",
            "2022-12-21 05:00:00",
            "2022-12-21 06:00:00",
            "2022-12-21 07:00:00",
            "2022-12-21 08:00:00",
            "2022-12-21 09:00:00",
            "2022-12-21 13:00:00",
            "2022-12-21 17:00:00",
            "2022-12-21 18:00:00",
            "2022-12-21 19:00:00",
            "2022-12-21 20:00:00",
            "2022-12-21 21:00:00",
            "2022-12-21 22:00:00",
            "2022-12-21 23:00:00",
            "2022-12-22 00:00:00",
            "2022-12-22 01:00:00",
            "2022-12-22 02:00:00",
            "2022-12-22 03:00:00",
            "2022-12-22 04:00:00",
            "2022-12-22 05:00:00",
            "2022-12-22 06:00:00",
            "2022-12-22 07:00:00",
            "2022-12-22 08:00:00",
            "2022-12-22 09:00:00",
            "2022-12-22 13:00:00",
            "2022-12-22 17:00:00",
            "2022-12-22 18:00:00",
            "2022-12-22 19:00:00",
            "2022-12-22 20:00:00",
            "2022-12-22 21:00:00",
            "2022-12-22 22:00:00",
            "2022-12-22 23:00:00",
            "2022-12-23 00:00:00",
            "2022-12-23 01:00:00",
            "2022-12-23 02:00:00",
            "2022-12-23 03:00:00",
            "2022-12-23 04:00:00",
            "2022-12-23 05:00:00",
            "2022-12-23 06:00:00",
            "2022-12-23 07:00:00",
            "2022-12-23 08:00:00",
            "2022-12-23 09:00:00",
            "2022-12-23 13:00:00",
            "2022-12-23 17:00:00",
            "2022-12-23 18:00:00",
            "2022-12-23 19:00:00",
            "2022-12-23 20:00:00",
            "2022-12-23 21:00:00",
            "2022-12-23 22:00:00",
            "2022-12-23 23:00:00",
            "2022-12-24 00:00:00",
            "2022-12-24 01:00:00",
            "2022-12-24 02:00:00",
            "2022-12-24 03:00:00",
            "2022-12-24 04:00:00",
            "2022-12-24 05:00:00",
            "2022-12-24 06:00:00",
            "2022-12-24 07:00:00",
            "2022-12-24 08:00:00",
            "2022-12-24 09:00:00",
            "2022-12-24 10:00:00",
            "2022-12-24 11:00:00",
            "2022-12-24 12:00:00",
            "2022-12-24 13:00:00",
            "2022-12-24 14:00:00",
            "2022-12-24 15:00:00",
            "2022-12-24 16:00:00",
            "2022-12-24 17:00:00",
            "2022-12-24 18:00:00",
            "2022-12-24 19:00:00",
            "2022-12-24 20:00:00",
            "2022-12-24 21:00:00",
            "2022-12-24 22:00:00",
            "2022-12-24 23:00:00",
            "2022-12-25 00:00:00",
            "2022-12-25 01:00:00",
            "2022-12-25 02:00:00",
            "2022-12-25 03:00:00",
            "2022-12-25 04:00:00",
            "2022-12-25 05:00:00",
            "2022-12-25 06:00:00",
            "2022-12-25 07:00:00",
            "2022-12-25 08:00:00",
            "2022-12-25 09:00:00",
            "2022-12-25 10:00:00",
            "2022-12-25 11:00:00",
            "2022-12-25 12:00:00",
            "2022-12-25 13:00:00",
            "2022-12-25 14:00:00",
            "2022-12-25 15:00:00",
            "2022-12-25 16:00:00",
            "2022-12-25 17:00:00",
            "2022-12-25 18:00:00",
            "2022-12-25 19:00:00",
            "2022-12-25 20:00:00",
            "2022-12-25 21:00:00",
            "2022-12-25 22:00:00",
            "2022-12-25 23:00:00",
            "2022-12-26 00:00:00",
            "2022-12-26 01:00:00",
            "2022-12-26 02:00:00",
            "2022-12-26 03:00:00",
            "2022-12-26 04:00:00",
            "2022-12-26 05:00:00",
            "2022-12-26 06:00:00",
            "2022-12-26 07:00:00",
            "2022-12-26 08:00:00",
            "2022-12-26 09:00:00",
            "2022-12-26 13:00:00",
            "2022-12-26 17:00:00",
            "2022-12-26 18:00:00",
            "2022-12-26 19:00:00",
            "2022-12-26 20:00:00",
            "2022-12-26 21:00:00",
            "2022-12-26 22:00:00",
            "2022-12-26 23:00:00",
            "2022-12-27 00:00:00",
            "2022-12-27 01:00:00",
            "2022-12-27 02:00:00",
            "2022-12-27 03:00:00",
            "2022-12-27 04:00:00",
            "2022-12-27 05:00:00",
            "2022-12-27 06:00:00",
            "2022-12-27 07:00:00",
            "2022-12-27 08:00:00",
            "2022-12-27 09:00:00",
            "2022-12-27 13:00:00",
            "2022-12-27 17:00:00",
            "2022-12-27 18:00:00",
            "2022-12-27 19:00:00",
            "2022-12-27 20:00:00",
            "2022-12-27 21:00:00",
            "2022-12-27 22:00:00",
            "2022-12-27 23:00:00",
            "2022-12-28 00:00:00",
            "2022-12-28 01:00:00",
            "2022-12-28 02:00:00",
            "2022-12-28 03:00:00",
            "2022-12-28 04:00:00",
            "2022-12-28 05:00:00",
            "2022-12-28 06:00:00",
            "2022-12-28 07:00:00",
            "2022-12-28 08:00:00",
            "2022-12-28 09:00:00",
            "2022-12-28 13:00:00",
            "2022-12-28 17:00:00",
            "2022-12-28 18:00:00",
            "2022-12-28 19:00:00",
            "2022-12-28 20:00:00",
            "2022-12-28 21:00:00",
            "2022-12-28 22:00:00",
            "2022-12-28 23:00:00",
            "2022-12-29 00:00:00",
            "2022-12-29 01:00:00",
            "2022-12-29 02:00:00",
            "2022-12-29 03:00:00",
            "2022-12-29 04:00:00",
            "2022-12-29 05:00:00",
            "2022-12-29 06:00:00",
            "2022-12-29 07:00:00",
            "2022-12-29 08:00:00",
            "2022-12-29 09:00:00",
            "2022-12-29 13:00:00",
            "2022-12-29 17:00:00",
            "2022-12-29 18:00:00",
            "2022-12-29 19:00:00",
            "2022-12-29 20:00:00",
            "2022-12-29 21:00:00",
            "2022-12-29 22:00:00",
            "2022-12-29 23:00:00",
            "2022-12-30 00:00:00",
            "2022-12-30 01:00:00",
            "2022-12-30 02:00:00",
            "2022-12-30 03:00:00",
            "2022-12-30 04:00:00",
            "2022-12-30 05:00:00",
            "2022-12-30 06:00:00",
            "2022-12-30 07:00:00",
            "2022-12-30 08:00:00",
            "2022-12-30 09:00:00",
            "2022-12-30 13:00:00",
            "2022-12-30 17:00:00",
            "2022-12-30 18:00:00",
            "2022-12-30 19:00:00",
            "2022-12-30 20:00:00",
            "2022-12-30 21:00:00",
            "2022-12-30 22:00:00",
            "2022-12-30 23:00:00",
            "2022-12-31 00:00:00",
            "2022-12-31 01:00:00",
            "2022-12-31 02:00:00",
            "2022-12-31 03:00:00",
            "2022-12-31 04:00:00",
            "2022-12-31 05:00:00",
            "2022-12-31 06:00:00",
            "2022-12-31 07:00:00",
            "2022-12-31 08:00:00",
            "2022-12-31 09:00:00",
            "2022-12-31 10:00:00",
            "2022-12-31 11:00:00",
            "2022-12-31 12:00:00",
            "2022-12-31 13:00:00",
            "2022-12-31 14:00:00",
            "2022-12-31 15:00:00",
            "2022-12-31 16:00:00",
            "2022-12-31 17:00:00",
            "2022-12-31 18:00:00",
            "2022-12-31 19:00:00",
            "2022-12-31 20:00:00",
            "2022-12-31 21:00:00",
            "2022-12-31 22:00:00",
            "2022-12-31 23:00:00",
            "2023-01-01 00:00:00",
            "2023-01-01 01:00:00",
            "2023-01-01 02:00:00",
            "2023-01-01 03:00:00",
            "2023-01-01 04:00:00",
            "2023-01-01 05:00:00",
            "2023-01-01 06:00:00",
            "2023-01-01 07:00:00",
            "2023-01-01 08:00:00",
            "2023-01-01 09:00:00",
            "2023-01-01 10:00:00",
            "2023-01-01 11:00:00",
            "2023-01-01 12:00:00",
            "2023-01-01 13:00:00",
            "2023-01-01 14:00:00",
            "2023-01-01 15:00:00",
            "2023-01-01 16:00:00",
            "2023-01-01 17:00:00",
            "2023-01-01 18:00:00",
            "2023-01-01 19:00:00",
            "2023-01-01 20:00:00",
            "2023-01-01 21:00:00",
            "2023-01-01 22:00:00",
            "2023-01-01 23:00:00",
            "2023-01-02 00:00:00",
            "2023-01-02 01:00:00",
            "2023-01-02 02:00:00",
            "2023-01-02 03:00:00",
            "2023-01-02 04:00:00",
            "2023-01-02 05:00:00",
            "2023-01-02 06:00:00",
            "2023-01-02 07:00:00",
            "2023-01-02 08:00:00",
            "2023-01-02 09:00:00",
            "2023-01-02 10:00:00",
            "2023-01-02 11:00:00",
            "2023-01-02 12:00:00",
            "2023-01-02 13:00:00",
            "2023-01-02 14:00:00",
            "2023-01-02 15:00:00",
            "2023-01-02 16:00:00",
            "2023-01-02 17:00:00",
            "2023-01-02 18:00:00",
            "2023-01-02 19:00:00",
            "2023-01-02 20:00:00",
            "2023-01-02 21:00:00",
            "2023-01-02 22:00:00",
            "2023-01-02 23:00:00",
            "2023-01-03 00:00:00",
            "2023-01-03 01:00:00",
            "2023-01-03 02:00:00",
            "2023-01-03 03:00:00",
            "2023-01-03 04:00:00",
            "2023-01-03 05:00:00",
            "2023-01-03 06:00:00",
            "2023-01-03 07:00:00",
            "2023-01-03 08:00:00",
            "2023-01-03 09:00:00",
            "2023-01-03 13:00:00",
            "2023-01-03 17:00:00",
            "2023-01-03 18:00:00",
            "2023-01-03 19:00:00",
            "2023-01-03 20:00:00",
            "2023-01-03 21:00:00",
            "2023-01-03 22:00:00",
            "2023-01-03 23:00:00",
            "2023-01-04 00:00:00",
            "2023-01-04 01:00:00",
            "2023-01-04 02:00:00",
            "2023-01-04 03:00:00",
            "2023-01-04 04:00:00",
            "2023-01-04 05:00:00",
            "2023-01-04 06:00:00",
            "2023-01-04 07:00:00",
            "2023-01-04 08:00:00",
            "2023-01-04 09:00:00",
            "2023-01-04 13:00:00",
            "2023-01-04 17:00:00",
            "2023-01-04 18:00:00",
            "2023-01-04 19:00:00",
            "2023-01-04 20:00:00",
            "2023-01-04 21:00:00",
            "2023-01-04 22:00:00",
            "2023-01-04 23:00:00",
            "2023-01-05 00:00:00",
            "2023-01-05 01:00:00",
            "2023-01-05 02:00:00",
            "2023-01-05 03:00:00",
            "2023-01-05 04:00:00",
            "2023-01-05 05:00:00",
            "2023-01-05 06:00:00",
            "2023-01-05 07:00:00",
            "2023-01-05 08:00:00",
            "2023-01-05 09:00:00",
            "2023-01-05 13:00:00"
           ]
          }
         ]
        }
       }
      },
      "text/html": [
       "<div>                            <div id=\"ce2b7eaf-320a-4054-a582-24b8da0a8a20\" class=\"plotly-graph-div\" style=\"height:525px; width:100%;\"></div>            <script type=\"text/javascript\">                require([\"plotly\"], function(Plotly) {                    window.PLOTLYENV=window.PLOTLYENV || {};                                    if (document.getElementById(\"ce2b7eaf-320a-4054-a582-24b8da0a8a20\")) {                    Plotly.newPlot(                        \"ce2b7eaf-320a-4054-a582-24b8da0a8a20\",                        [{\"close\":[151.0,151.5,151.5,152.5,152.5,152.5,151.5,151.5,150.5,151.0,151.0,150.5,149.5,148.5,148.5,147.5,147.5,148.0,148.0,147.5,148.5,148.0,148.0,148.0,147.0,146.0,146.0,146.5,146.0,145.5,146.0,146.5,146.5,146.0,145.5,146.0,146.0,145.5,145.5,145.0,145.0,144.5,144.0,144.0,144.5,144.5,144.5,144.0,144.0,144.0,144.0,144.0,144.5,144.0,144.5,144.5,145.0,145.0,144.5,145.5,144.5,144.5,144.0,144.5,144.5,144.0,143.0,143.5,143.5,144.0,143.0,143.5,144.0,144.0,144.0,143.5,143.5,143.5,143.0,143.0,143.0,143.0,143.5,143.5,143.5,143.0,142.5,143.0,143.0,143.5,143.0,142.5,143.0,143.0,143.0,143.5,143.5,143.5,143.0,143.5],\"high\":[151.5,151.5,153.0,152.5,153.0,154.0,151.5,151.5,151.0,151.5,151.5,150.5,149.5,149.5,149.0,148.0,148.0,148.5,148.0,148.5,148.5,148.5,148.5,148.5,147.0,146.5,146.5,146.5,146.0,146.0,146.5,146.5,146.5,146.5,146.0,146.0,146.0,146.0,146.0,145.0,145.0,145.0,144.5,144.5,144.5,144.5,144.5,144.5,144.0,144.5,144.5,144.5,144.5,144.0,145.0,145.0,145.0,145.0,145.5,145.5,144.5,144.5,144.5,144.5,144.5,144.0,143.5,144.0,144.0,144.0,144.0,144.0,144.0,144.0,144.0,144.0,144.0,144.0,143.5,143.5,143.5,143.5,143.5,143.5,143.5,143.5,143.5,143.5,143.5,143.5,143.0,143.0,143.0,143.0,143.5,144.0,143.5,143.5,144.0,143.5],\"low\":[151.0,150.5,151.0,152.0,152.0,152.0,151.0,150.5,150.5,150.5,150.0,149.0,148.5,148.5,147.5,147.5,147.0,147.5,147.0,147.5,148.0,148.0,148.0,147.0,146.0,146.0,146.0,145.5,145.5,145.0,145.5,146.0,146.0,145.5,145.5,145.0,145.5,145.0,145.0,144.5,144.5,144.0,144.0,144.0,144.0,144.0,144.0,143.5,143.5,143.5,143.5,144.0,143.5,143.0,144.0,144.5,144.5,144.5,144.5,144.5,144.0,144.0,144.0,144.0,143.5,143.0,143.0,143.0,143.5,143.0,143.0,143.5,143.5,143.5,143.5,143.5,143.5,143.5,143.0,143.0,143.0,143.0,143.0,142.5,142.5,142.5,142.5,143.0,142.5,142.5,142.5,142.5,142.5,142.5,142.5,143.0,143.0,143.0,143.0,143.0],\"open\":[151.5,151.5,152.5,152.0,152.5,153.0,151.5,150.5,151.0,151.0,150.5,149.5,148.5,148.5,148.0,147.5,148.0,148.5,148.0,148.5,148.5,148.5,148.0,147.5,146.5,146.0,146.5,145.5,146.0,146.0,146.0,146.0,146.0,145.5,146.0,145.0,145.5,145.5,145.0,145.0,144.5,144.0,144.5,144.0,144.5,144.0,144.5,144.0,144.0,144.0,144.0,144.5,144.0,144.0,144.5,145.0,145.0,145.0,145.0,144.5,144.5,144.5,144.5,144.5,144.0,143.5,143.5,144.0,144.0,143.0,143.5,143.5,144.0,144.0,143.5,143.5,143.5,143.5,143.5,143.5,143.0,143.0,143.0,143.5,142.5,142.5,143.0,143.0,143.5,143.0,143.0,143.0,143.0,143.0,143.5,143.5,143.5,143.5,143.0,143.0],\"x\":[\"2023-01-05T16:00:00\",\"2023-01-05T15:00:00\",\"2023-01-05T14:00:00\",\"2023-01-05T12:00:00\",\"2023-01-05T11:00:00\",\"2023-01-05T10:00:00\",\"2023-01-04T16:00:00\",\"2023-01-04T15:00:00\",\"2023-01-04T14:00:00\",\"2023-01-04T12:00:00\",\"2023-01-04T11:00:00\",\"2023-01-04T10:00:00\",\"2023-01-03T16:00:00\",\"2023-01-03T15:00:00\",\"2023-01-03T14:00:00\",\"2023-01-03T12:00:00\",\"2023-01-03T11:00:00\",\"2023-01-03T10:00:00\",\"2022-12-30T16:00:00\",\"2022-12-30T15:00:00\",\"2022-12-30T14:00:00\",\"2022-12-30T12:00:00\",\"2022-12-30T11:00:00\",\"2022-12-30T10:00:00\",\"2022-12-29T16:00:00\",\"2022-12-29T15:00:00\",\"2022-12-29T14:00:00\",\"2022-12-29T12:00:00\",\"2022-12-29T11:00:00\",\"2022-12-29T10:00:00\",\"2022-12-28T16:00:00\",\"2022-12-28T15:00:00\",\"2022-12-28T14:00:00\",\"2022-12-28T12:00:00\",\"2022-12-28T11:00:00\",\"2022-12-28T10:00:00\",\"2022-12-27T16:00:00\",\"2022-12-27T15:00:00\",\"2022-12-27T14:00:00\",\"2022-12-27T12:00:00\",\"2022-12-27T11:00:00\",\"2022-12-27T10:00:00\",\"2022-12-26T16:00:00\",\"2022-12-26T15:00:00\",\"2022-12-26T14:00:00\",\"2022-12-26T12:00:00\",\"2022-12-26T11:00:00\",\"2022-12-26T10:00:00\",\"2022-12-23T16:00:00\",\"2022-12-23T15:00:00\",\"2022-12-23T14:00:00\",\"2022-12-23T12:00:00\",\"2022-12-23T11:00:00\",\"2022-12-23T10:00:00\",\"2022-12-22T16:00:00\",\"2022-12-22T15:00:00\",\"2022-12-22T14:00:00\",\"2022-12-22T12:00:00\",\"2022-12-22T11:00:00\",\"2022-12-22T10:00:00\",\"2022-12-21T16:00:00\",\"2022-12-21T15:00:00\",\"2022-12-21T14:00:00\",\"2022-12-21T12:00:00\",\"2022-12-21T11:00:00\",\"2022-12-21T10:00:00\",\"2022-12-20T16:00:00\",\"2022-12-20T15:00:00\",\"2022-12-20T14:00:00\",\"2022-12-20T12:00:00\",\"2022-12-20T11:00:00\",\"2022-12-20T10:00:00\",\"2022-12-19T16:00:00\",\"2022-12-19T15:00:00\",\"2022-12-19T14:00:00\",\"2022-12-19T12:00:00\",\"2022-12-19T11:00:00\",\"2022-12-19T10:00:00\",\"2022-12-16T16:00:00\",\"2022-12-16T15:00:00\",\"2022-12-16T14:00:00\",\"2022-12-16T12:00:00\",\"2022-12-16T11:00:00\",\"2022-12-16T10:00:00\",\"2022-12-15T16:00:00\",\"2022-12-15T15:00:00\",\"2022-12-15T14:00:00\",\"2022-12-15T12:00:00\",\"2022-12-15T11:00:00\",\"2022-12-15T10:00:00\",\"2022-12-14T16:00:00\",\"2022-12-14T15:00:00\",\"2022-12-14T14:00:00\",\"2022-12-14T12:00:00\",\"2022-12-14T11:00:00\",\"2022-12-14T10:00:00\",\"2022-12-13T16:00:00\",\"2022-12-13T15:00:00\",\"2022-12-13T14:00:00\",\"2022-12-13T12:00:00\"],\"type\":\"candlestick\"}],                        {\"template\":{\"data\":{\"bar\":[{\"error_x\":{\"color\":\"#2a3f5f\"},\"error_y\":{\"color\":\"#2a3f5f\"},\"marker\":{\"line\":{\"color\":\"#E5ECF6\",\"width\":0.5},\"pattern\":{\"fillmode\":\"overlay\",\"size\":10,\"solidity\":0.2}},\"type\":\"bar\"}],\"barpolar\":[{\"marker\":{\"line\":{\"color\":\"#E5ECF6\",\"width\":0.5},\"pattern\":{\"fillmode\":\"overlay\",\"size\":10,\"solidity\":0.2}},\"type\":\"barpolar\"}],\"carpet\":[{\"aaxis\":{\"endlinecolor\":\"#2a3f5f\",\"gridcolor\":\"white\",\"linecolor\":\"white\",\"minorgridcolor\":\"white\",\"startlinecolor\":\"#2a3f5f\"},\"baxis\":{\"endlinecolor\":\"#2a3f5f\",\"gridcolor\":\"white\",\"linecolor\":\"white\",\"minorgridcolor\":\"white\",\"startlinecolor\":\"#2a3f5f\"},\"type\":\"carpet\"}],\"choropleth\":[{\"colorbar\":{\"outlinewidth\":0,\"ticks\":\"\"},\"type\":\"choropleth\"}],\"contour\":[{\"colorbar\":{\"outlinewidth\":0,\"ticks\":\"\"},\"colorscale\":[[0.0,\"#0d0887\"],[0.1111111111111111,\"#46039f\"],[0.2222222222222222,\"#7201a8\"],[0.3333333333333333,\"#9c179e\"],[0.4444444444444444,\"#bd3786\"],[0.5555555555555556,\"#d8576b\"],[0.6666666666666666,\"#ed7953\"],[0.7777777777777778,\"#fb9f3a\"],[0.8888888888888888,\"#fdca26\"],[1.0,\"#f0f921\"]],\"type\":\"contour\"}],\"contourcarpet\":[{\"colorbar\":{\"outlinewidth\":0,\"ticks\":\"\"},\"type\":\"contourcarpet\"}],\"heatmap\":[{\"colorbar\":{\"outlinewidth\":0,\"ticks\":\"\"},\"colorscale\":[[0.0,\"#0d0887\"],[0.1111111111111111,\"#46039f\"],[0.2222222222222222,\"#7201a8\"],[0.3333333333333333,\"#9c179e\"],[0.4444444444444444,\"#bd3786\"],[0.5555555555555556,\"#d8576b\"],[0.6666666666666666,\"#ed7953\"],[0.7777777777777778,\"#fb9f3a\"],[0.8888888888888888,\"#fdca26\"],[1.0,\"#f0f921\"]],\"type\":\"heatmap\"}],\"heatmapgl\":[{\"colorbar\":{\"outlinewidth\":0,\"ticks\":\"\"},\"colorscale\":[[0.0,\"#0d0887\"],[0.1111111111111111,\"#46039f\"],[0.2222222222222222,\"#7201a8\"],[0.3333333333333333,\"#9c179e\"],[0.4444444444444444,\"#bd3786\"],[0.5555555555555556,\"#d8576b\"],[0.6666666666666666,\"#ed7953\"],[0.7777777777777778,\"#fb9f3a\"],[0.8888888888888888,\"#fdca26\"],[1.0,\"#f0f921\"]],\"type\":\"heatmapgl\"}],\"histogram\":[{\"marker\":{\"pattern\":{\"fillmode\":\"overlay\",\"size\":10,\"solidity\":0.2}},\"type\":\"histogram\"}],\"histogram2d\":[{\"colorbar\":{\"outlinewidth\":0,\"ticks\":\"\"},\"colorscale\":[[0.0,\"#0d0887\"],[0.1111111111111111,\"#46039f\"],[0.2222222222222222,\"#7201a8\"],[0.3333333333333333,\"#9c179e\"],[0.4444444444444444,\"#bd3786\"],[0.5555555555555556,\"#d8576b\"],[0.6666666666666666,\"#ed7953\"],[0.7777777777777778,\"#fb9f3a\"],[0.8888888888888888,\"#fdca26\"],[1.0,\"#f0f921\"]],\"type\":\"histogram2d\"}],\"histogram2dcontour\":[{\"colorbar\":{\"outlinewidth\":0,\"ticks\":\"\"},\"colorscale\":[[0.0,\"#0d0887\"],[0.1111111111111111,\"#46039f\"],[0.2222222222222222,\"#7201a8\"],[0.3333333333333333,\"#9c179e\"],[0.4444444444444444,\"#bd3786\"],[0.5555555555555556,\"#d8576b\"],[0.6666666666666666,\"#ed7953\"],[0.7777777777777778,\"#fb9f3a\"],[0.8888888888888888,\"#fdca26\"],[1.0,\"#f0f921\"]],\"type\":\"histogram2dcontour\"}],\"mesh3d\":[{\"colorbar\":{\"outlinewidth\":0,\"ticks\":\"\"},\"type\":\"mesh3d\"}],\"parcoords\":[{\"line\":{\"colorbar\":{\"outlinewidth\":0,\"ticks\":\"\"}},\"type\":\"parcoords\"}],\"pie\":[{\"automargin\":true,\"type\":\"pie\"}],\"scatter\":[{\"marker\":{\"colorbar\":{\"outlinewidth\":0,\"ticks\":\"\"}},\"type\":\"scatter\"}],\"scatter3d\":[{\"line\":{\"colorbar\":{\"outlinewidth\":0,\"ticks\":\"\"}},\"marker\":{\"colorbar\":{\"outlinewidth\":0,\"ticks\":\"\"}},\"type\":\"scatter3d\"}],\"scattercarpet\":[{\"marker\":{\"colorbar\":{\"outlinewidth\":0,\"ticks\":\"\"}},\"type\":\"scattercarpet\"}],\"scattergeo\":[{\"marker\":{\"colorbar\":{\"outlinewidth\":0,\"ticks\":\"\"}},\"type\":\"scattergeo\"}],\"scattergl\":[{\"marker\":{\"colorbar\":{\"outlinewidth\":0,\"ticks\":\"\"}},\"type\":\"scattergl\"}],\"scattermapbox\":[{\"marker\":{\"colorbar\":{\"outlinewidth\":0,\"ticks\":\"\"}},\"type\":\"scattermapbox\"}],\"scatterpolar\":[{\"marker\":{\"colorbar\":{\"outlinewidth\":0,\"ticks\":\"\"}},\"type\":\"scatterpolar\"}],\"scatterpolargl\":[{\"marker\":{\"colorbar\":{\"outlinewidth\":0,\"ticks\":\"\"}},\"type\":\"scatterpolargl\"}],\"scatterternary\":[{\"marker\":{\"colorbar\":{\"outlinewidth\":0,\"ticks\":\"\"}},\"type\":\"scatterternary\"}],\"surface\":[{\"colorbar\":{\"outlinewidth\":0,\"ticks\":\"\"},\"colorscale\":[[0.0,\"#0d0887\"],[0.1111111111111111,\"#46039f\"],[0.2222222222222222,\"#7201a8\"],[0.3333333333333333,\"#9c179e\"],[0.4444444444444444,\"#bd3786\"],[0.5555555555555556,\"#d8576b\"],[0.6666666666666666,\"#ed7953\"],[0.7777777777777778,\"#fb9f3a\"],[0.8888888888888888,\"#fdca26\"],[1.0,\"#f0f921\"]],\"type\":\"surface\"}],\"table\":[{\"cells\":{\"fill\":{\"color\":\"#EBF0F8\"},\"line\":{\"color\":\"white\"}},\"header\":{\"fill\":{\"color\":\"#C8D4E3\"},\"line\":{\"color\":\"white\"}},\"type\":\"table\"}]},\"layout\":{\"annotationdefaults\":{\"arrowcolor\":\"#2a3f5f\",\"arrowhead\":0,\"arrowwidth\":1},\"autotypenumbers\":\"strict\",\"coloraxis\":{\"colorbar\":{\"outlinewidth\":0,\"ticks\":\"\"}},\"colorscale\":{\"diverging\":[[0,\"#8e0152\"],[0.1,\"#c51b7d\"],[0.2,\"#de77ae\"],[0.3,\"#f1b6da\"],[0.4,\"#fde0ef\"],[0.5,\"#f7f7f7\"],[0.6,\"#e6f5d0\"],[0.7,\"#b8e186\"],[0.8,\"#7fbc41\"],[0.9,\"#4d9221\"],[1,\"#276419\"]],\"sequential\":[[0.0,\"#0d0887\"],[0.1111111111111111,\"#46039f\"],[0.2222222222222222,\"#7201a8\"],[0.3333333333333333,\"#9c179e\"],[0.4444444444444444,\"#bd3786\"],[0.5555555555555556,\"#d8576b\"],[0.6666666666666666,\"#ed7953\"],[0.7777777777777778,\"#fb9f3a\"],[0.8888888888888888,\"#fdca26\"],[1.0,\"#f0f921\"]],\"sequentialminus\":[[0.0,\"#0d0887\"],[0.1111111111111111,\"#46039f\"],[0.2222222222222222,\"#7201a8\"],[0.3333333333333333,\"#9c179e\"],[0.4444444444444444,\"#bd3786\"],[0.5555555555555556,\"#d8576b\"],[0.6666666666666666,\"#ed7953\"],[0.7777777777777778,\"#fb9f3a\"],[0.8888888888888888,\"#fdca26\"],[1.0,\"#f0f921\"]]},\"colorway\":[\"#636efa\",\"#EF553B\",\"#00cc96\",\"#ab63fa\",\"#FFA15A\",\"#19d3f3\",\"#FF6692\",\"#B6E880\",\"#FF97FF\",\"#FECB52\"],\"font\":{\"color\":\"#2a3f5f\"},\"geo\":{\"bgcolor\":\"white\",\"lakecolor\":\"white\",\"landcolor\":\"#E5ECF6\",\"showlakes\":true,\"showland\":true,\"subunitcolor\":\"white\"},\"hoverlabel\":{\"align\":\"left\"},\"hovermode\":\"closest\",\"mapbox\":{\"style\":\"light\"},\"paper_bgcolor\":\"white\",\"plot_bgcolor\":\"#E5ECF6\",\"polar\":{\"angularaxis\":{\"gridcolor\":\"white\",\"linecolor\":\"white\",\"ticks\":\"\"},\"bgcolor\":\"#E5ECF6\",\"radialaxis\":{\"gridcolor\":\"white\",\"linecolor\":\"white\",\"ticks\":\"\"}},\"scene\":{\"xaxis\":{\"backgroundcolor\":\"#E5ECF6\",\"gridcolor\":\"white\",\"gridwidth\":2,\"linecolor\":\"white\",\"showbackground\":true,\"ticks\":\"\",\"zerolinecolor\":\"white\"},\"yaxis\":{\"backgroundcolor\":\"#E5ECF6\",\"gridcolor\":\"white\",\"gridwidth\":2,\"linecolor\":\"white\",\"showbackground\":true,\"ticks\":\"\",\"zerolinecolor\":\"white\"},\"zaxis\":{\"backgroundcolor\":\"#E5ECF6\",\"gridcolor\":\"white\",\"gridwidth\":2,\"linecolor\":\"white\",\"showbackground\":true,\"ticks\":\"\",\"zerolinecolor\":\"white\"}},\"shapedefaults\":{\"line\":{\"color\":\"#2a3f5f\"}},\"ternary\":{\"aaxis\":{\"gridcolor\":\"white\",\"linecolor\":\"white\",\"ticks\":\"\"},\"baxis\":{\"gridcolor\":\"white\",\"linecolor\":\"white\",\"ticks\":\"\"},\"bgcolor\":\"#E5ECF6\",\"caxis\":{\"gridcolor\":\"white\",\"linecolor\":\"white\",\"ticks\":\"\"}},\"title\":{\"x\":0.05},\"xaxis\":{\"automargin\":true,\"gridcolor\":\"white\",\"linecolor\":\"white\",\"ticks\":\"\",\"title\":{\"standoff\":15},\"zerolinecolor\":\"white\",\"zerolinewidth\":2},\"yaxis\":{\"automargin\":true,\"gridcolor\":\"white\",\"linecolor\":\"white\",\"ticks\":\"\",\"title\":{\"standoff\":15},\"zerolinecolor\":\"white\",\"zerolinewidth\":2}}},\"xaxis\":{\"rangebreaks\":[{\"bounds\":[17,10],\"pattern\":\"hour\"},{\"dvalue\":3600000,\"values\":[\"2022-12-13 13:00:00\",\"2022-12-13 17:00:00\",\"2022-12-13 18:00:00\",\"2022-12-13 19:00:00\",\"2022-12-13 20:00:00\",\"2022-12-13 21:00:00\",\"2022-12-13 22:00:00\",\"2022-12-13 23:00:00\",\"2022-12-14 00:00:00\",\"2022-12-14 01:00:00\",\"2022-12-14 02:00:00\",\"2022-12-14 03:00:00\",\"2022-12-14 04:00:00\",\"2022-12-14 05:00:00\",\"2022-12-14 06:00:00\",\"2022-12-14 07:00:00\",\"2022-12-14 08:00:00\",\"2022-12-14 09:00:00\",\"2022-12-14 13:00:00\",\"2022-12-14 17:00:00\",\"2022-12-14 18:00:00\",\"2022-12-14 19:00:00\",\"2022-12-14 20:00:00\",\"2022-12-14 21:00:00\",\"2022-12-14 22:00:00\",\"2022-12-14 23:00:00\",\"2022-12-15 00:00:00\",\"2022-12-15 01:00:00\",\"2022-12-15 02:00:00\",\"2022-12-15 03:00:00\",\"2022-12-15 04:00:00\",\"2022-12-15 05:00:00\",\"2022-12-15 06:00:00\",\"2022-12-15 07:00:00\",\"2022-12-15 08:00:00\",\"2022-12-15 09:00:00\",\"2022-12-15 13:00:00\",\"2022-12-15 17:00:00\",\"2022-12-15 18:00:00\",\"2022-12-15 19:00:00\",\"2022-12-15 20:00:00\",\"2022-12-15 21:00:00\",\"2022-12-15 22:00:00\",\"2022-12-15 23:00:00\",\"2022-12-16 00:00:00\",\"2022-12-16 01:00:00\",\"2022-12-16 02:00:00\",\"2022-12-16 03:00:00\",\"2022-12-16 04:00:00\",\"2022-12-16 05:00:00\",\"2022-12-16 06:00:00\",\"2022-12-16 07:00:00\",\"2022-12-16 08:00:00\",\"2022-12-16 09:00:00\",\"2022-12-16 13:00:00\",\"2022-12-16 17:00:00\",\"2022-12-16 18:00:00\",\"2022-12-16 19:00:00\",\"2022-12-16 20:00:00\",\"2022-12-16 21:00:00\",\"2022-12-16 22:00:00\",\"2022-12-16 23:00:00\",\"2022-12-17 00:00:00\",\"2022-12-17 01:00:00\",\"2022-12-17 02:00:00\",\"2022-12-17 03:00:00\",\"2022-12-17 04:00:00\",\"2022-12-17 05:00:00\",\"2022-12-17 06:00:00\",\"2022-12-17 07:00:00\",\"2022-12-17 08:00:00\",\"2022-12-17 09:00:00\",\"2022-12-17 10:00:00\",\"2022-12-17 11:00:00\",\"2022-12-17 12:00:00\",\"2022-12-17 13:00:00\",\"2022-12-17 14:00:00\",\"2022-12-17 15:00:00\",\"2022-12-17 16:00:00\",\"2022-12-17 17:00:00\",\"2022-12-17 18:00:00\",\"2022-12-17 19:00:00\",\"2022-12-17 20:00:00\",\"2022-12-17 21:00:00\",\"2022-12-17 22:00:00\",\"2022-12-17 23:00:00\",\"2022-12-18 00:00:00\",\"2022-12-18 01:00:00\",\"2022-12-18 02:00:00\",\"2022-12-18 03:00:00\",\"2022-12-18 04:00:00\",\"2022-12-18 05:00:00\",\"2022-12-18 06:00:00\",\"2022-12-18 07:00:00\",\"2022-12-18 08:00:00\",\"2022-12-18 09:00:00\",\"2022-12-18 10:00:00\",\"2022-12-18 11:00:00\",\"2022-12-18 12:00:00\",\"2022-12-18 13:00:00\",\"2022-12-18 14:00:00\",\"2022-12-18 15:00:00\",\"2022-12-18 16:00:00\",\"2022-12-18 17:00:00\",\"2022-12-18 18:00:00\",\"2022-12-18 19:00:00\",\"2022-12-18 20:00:00\",\"2022-12-18 21:00:00\",\"2022-12-18 22:00:00\",\"2022-12-18 23:00:00\",\"2022-12-19 00:00:00\",\"2022-12-19 01:00:00\",\"2022-12-19 02:00:00\",\"2022-12-19 03:00:00\",\"2022-12-19 04:00:00\",\"2022-12-19 05:00:00\",\"2022-12-19 06:00:00\",\"2022-12-19 07:00:00\",\"2022-12-19 08:00:00\",\"2022-12-19 09:00:00\",\"2022-12-19 13:00:00\",\"2022-12-19 17:00:00\",\"2022-12-19 18:00:00\",\"2022-12-19 19:00:00\",\"2022-12-19 20:00:00\",\"2022-12-19 21:00:00\",\"2022-12-19 22:00:00\",\"2022-12-19 23:00:00\",\"2022-12-20 00:00:00\",\"2022-12-20 01:00:00\",\"2022-12-20 02:00:00\",\"2022-12-20 03:00:00\",\"2022-12-20 04:00:00\",\"2022-12-20 05:00:00\",\"2022-12-20 06:00:00\",\"2022-12-20 07:00:00\",\"2022-12-20 08:00:00\",\"2022-12-20 09:00:00\",\"2022-12-20 13:00:00\",\"2022-12-20 17:00:00\",\"2022-12-20 18:00:00\",\"2022-12-20 19:00:00\",\"2022-12-20 20:00:00\",\"2022-12-20 21:00:00\",\"2022-12-20 22:00:00\",\"2022-12-20 23:00:00\",\"2022-12-21 00:00:00\",\"2022-12-21 01:00:00\",\"2022-12-21 02:00:00\",\"2022-12-21 03:00:00\",\"2022-12-21 04:00:00\",\"2022-12-21 05:00:00\",\"2022-12-21 06:00:00\",\"2022-12-21 07:00:00\",\"2022-12-21 08:00:00\",\"2022-12-21 09:00:00\",\"2022-12-21 13:00:00\",\"2022-12-21 17:00:00\",\"2022-12-21 18:00:00\",\"2022-12-21 19:00:00\",\"2022-12-21 20:00:00\",\"2022-12-21 21:00:00\",\"2022-12-21 22:00:00\",\"2022-12-21 23:00:00\",\"2022-12-22 00:00:00\",\"2022-12-22 01:00:00\",\"2022-12-22 02:00:00\",\"2022-12-22 03:00:00\",\"2022-12-22 04:00:00\",\"2022-12-22 05:00:00\",\"2022-12-22 06:00:00\",\"2022-12-22 07:00:00\",\"2022-12-22 08:00:00\",\"2022-12-22 09:00:00\",\"2022-12-22 13:00:00\",\"2022-12-22 17:00:00\",\"2022-12-22 18:00:00\",\"2022-12-22 19:00:00\",\"2022-12-22 20:00:00\",\"2022-12-22 21:00:00\",\"2022-12-22 22:00:00\",\"2022-12-22 23:00:00\",\"2022-12-23 00:00:00\",\"2022-12-23 01:00:00\",\"2022-12-23 02:00:00\",\"2022-12-23 03:00:00\",\"2022-12-23 04:00:00\",\"2022-12-23 05:00:00\",\"2022-12-23 06:00:00\",\"2022-12-23 07:00:00\",\"2022-12-23 08:00:00\",\"2022-12-23 09:00:00\",\"2022-12-23 13:00:00\",\"2022-12-23 17:00:00\",\"2022-12-23 18:00:00\",\"2022-12-23 19:00:00\",\"2022-12-23 20:00:00\",\"2022-12-23 21:00:00\",\"2022-12-23 22:00:00\",\"2022-12-23 23:00:00\",\"2022-12-24 00:00:00\",\"2022-12-24 01:00:00\",\"2022-12-24 02:00:00\",\"2022-12-24 03:00:00\",\"2022-12-24 04:00:00\",\"2022-12-24 05:00:00\",\"2022-12-24 06:00:00\",\"2022-12-24 07:00:00\",\"2022-12-24 08:00:00\",\"2022-12-24 09:00:00\",\"2022-12-24 10:00:00\",\"2022-12-24 11:00:00\",\"2022-12-24 12:00:00\",\"2022-12-24 13:00:00\",\"2022-12-24 14:00:00\",\"2022-12-24 15:00:00\",\"2022-12-24 16:00:00\",\"2022-12-24 17:00:00\",\"2022-12-24 18:00:00\",\"2022-12-24 19:00:00\",\"2022-12-24 20:00:00\",\"2022-12-24 21:00:00\",\"2022-12-24 22:00:00\",\"2022-12-24 23:00:00\",\"2022-12-25 00:00:00\",\"2022-12-25 01:00:00\",\"2022-12-25 02:00:00\",\"2022-12-25 03:00:00\",\"2022-12-25 04:00:00\",\"2022-12-25 05:00:00\",\"2022-12-25 06:00:00\",\"2022-12-25 07:00:00\",\"2022-12-25 08:00:00\",\"2022-12-25 09:00:00\",\"2022-12-25 10:00:00\",\"2022-12-25 11:00:00\",\"2022-12-25 12:00:00\",\"2022-12-25 13:00:00\",\"2022-12-25 14:00:00\",\"2022-12-25 15:00:00\",\"2022-12-25 16:00:00\",\"2022-12-25 17:00:00\",\"2022-12-25 18:00:00\",\"2022-12-25 19:00:00\",\"2022-12-25 20:00:00\",\"2022-12-25 21:00:00\",\"2022-12-25 22:00:00\",\"2022-12-25 23:00:00\",\"2022-12-26 00:00:00\",\"2022-12-26 01:00:00\",\"2022-12-26 02:00:00\",\"2022-12-26 03:00:00\",\"2022-12-26 04:00:00\",\"2022-12-26 05:00:00\",\"2022-12-26 06:00:00\",\"2022-12-26 07:00:00\",\"2022-12-26 08:00:00\",\"2022-12-26 09:00:00\",\"2022-12-26 13:00:00\",\"2022-12-26 17:00:00\",\"2022-12-26 18:00:00\",\"2022-12-26 19:00:00\",\"2022-12-26 20:00:00\",\"2022-12-26 21:00:00\",\"2022-12-26 22:00:00\",\"2022-12-26 23:00:00\",\"2022-12-27 00:00:00\",\"2022-12-27 01:00:00\",\"2022-12-27 02:00:00\",\"2022-12-27 03:00:00\",\"2022-12-27 04:00:00\",\"2022-12-27 05:00:00\",\"2022-12-27 06:00:00\",\"2022-12-27 07:00:00\",\"2022-12-27 08:00:00\",\"2022-12-27 09:00:00\",\"2022-12-27 13:00:00\",\"2022-12-27 17:00:00\",\"2022-12-27 18:00:00\",\"2022-12-27 19:00:00\",\"2022-12-27 20:00:00\",\"2022-12-27 21:00:00\",\"2022-12-27 22:00:00\",\"2022-12-27 23:00:00\",\"2022-12-28 00:00:00\",\"2022-12-28 01:00:00\",\"2022-12-28 02:00:00\",\"2022-12-28 03:00:00\",\"2022-12-28 04:00:00\",\"2022-12-28 05:00:00\",\"2022-12-28 06:00:00\",\"2022-12-28 07:00:00\",\"2022-12-28 08:00:00\",\"2022-12-28 09:00:00\",\"2022-12-28 13:00:00\",\"2022-12-28 17:00:00\",\"2022-12-28 18:00:00\",\"2022-12-28 19:00:00\",\"2022-12-28 20:00:00\",\"2022-12-28 21:00:00\",\"2022-12-28 22:00:00\",\"2022-12-28 23:00:00\",\"2022-12-29 00:00:00\",\"2022-12-29 01:00:00\",\"2022-12-29 02:00:00\",\"2022-12-29 03:00:00\",\"2022-12-29 04:00:00\",\"2022-12-29 05:00:00\",\"2022-12-29 06:00:00\",\"2022-12-29 07:00:00\",\"2022-12-29 08:00:00\",\"2022-12-29 09:00:00\",\"2022-12-29 13:00:00\",\"2022-12-29 17:00:00\",\"2022-12-29 18:00:00\",\"2022-12-29 19:00:00\",\"2022-12-29 20:00:00\",\"2022-12-29 21:00:00\",\"2022-12-29 22:00:00\",\"2022-12-29 23:00:00\",\"2022-12-30 00:00:00\",\"2022-12-30 01:00:00\",\"2022-12-30 02:00:00\",\"2022-12-30 03:00:00\",\"2022-12-30 04:00:00\",\"2022-12-30 05:00:00\",\"2022-12-30 06:00:00\",\"2022-12-30 07:00:00\",\"2022-12-30 08:00:00\",\"2022-12-30 09:00:00\",\"2022-12-30 13:00:00\",\"2022-12-30 17:00:00\",\"2022-12-30 18:00:00\",\"2022-12-30 19:00:00\",\"2022-12-30 20:00:00\",\"2022-12-30 21:00:00\",\"2022-12-30 22:00:00\",\"2022-12-30 23:00:00\",\"2022-12-31 00:00:00\",\"2022-12-31 01:00:00\",\"2022-12-31 02:00:00\",\"2022-12-31 03:00:00\",\"2022-12-31 04:00:00\",\"2022-12-31 05:00:00\",\"2022-12-31 06:00:00\",\"2022-12-31 07:00:00\",\"2022-12-31 08:00:00\",\"2022-12-31 09:00:00\",\"2022-12-31 10:00:00\",\"2022-12-31 11:00:00\",\"2022-12-31 12:00:00\",\"2022-12-31 13:00:00\",\"2022-12-31 14:00:00\",\"2022-12-31 15:00:00\",\"2022-12-31 16:00:00\",\"2022-12-31 17:00:00\",\"2022-12-31 18:00:00\",\"2022-12-31 19:00:00\",\"2022-12-31 20:00:00\",\"2022-12-31 21:00:00\",\"2022-12-31 22:00:00\",\"2022-12-31 23:00:00\",\"2023-01-01 00:00:00\",\"2023-01-01 01:00:00\",\"2023-01-01 02:00:00\",\"2023-01-01 03:00:00\",\"2023-01-01 04:00:00\",\"2023-01-01 05:00:00\",\"2023-01-01 06:00:00\",\"2023-01-01 07:00:00\",\"2023-01-01 08:00:00\",\"2023-01-01 09:00:00\",\"2023-01-01 10:00:00\",\"2023-01-01 11:00:00\",\"2023-01-01 12:00:00\",\"2023-01-01 13:00:00\",\"2023-01-01 14:00:00\",\"2023-01-01 15:00:00\",\"2023-01-01 16:00:00\",\"2023-01-01 17:00:00\",\"2023-01-01 18:00:00\",\"2023-01-01 19:00:00\",\"2023-01-01 20:00:00\",\"2023-01-01 21:00:00\",\"2023-01-01 22:00:00\",\"2023-01-01 23:00:00\",\"2023-01-02 00:00:00\",\"2023-01-02 01:00:00\",\"2023-01-02 02:00:00\",\"2023-01-02 03:00:00\",\"2023-01-02 04:00:00\",\"2023-01-02 05:00:00\",\"2023-01-02 06:00:00\",\"2023-01-02 07:00:00\",\"2023-01-02 08:00:00\",\"2023-01-02 09:00:00\",\"2023-01-02 10:00:00\",\"2023-01-02 11:00:00\",\"2023-01-02 12:00:00\",\"2023-01-02 13:00:00\",\"2023-01-02 14:00:00\",\"2023-01-02 15:00:00\",\"2023-01-02 16:00:00\",\"2023-01-02 17:00:00\",\"2023-01-02 18:00:00\",\"2023-01-02 19:00:00\",\"2023-01-02 20:00:00\",\"2023-01-02 21:00:00\",\"2023-01-02 22:00:00\",\"2023-01-02 23:00:00\",\"2023-01-03 00:00:00\",\"2023-01-03 01:00:00\",\"2023-01-03 02:00:00\",\"2023-01-03 03:00:00\",\"2023-01-03 04:00:00\",\"2023-01-03 05:00:00\",\"2023-01-03 06:00:00\",\"2023-01-03 07:00:00\",\"2023-01-03 08:00:00\",\"2023-01-03 09:00:00\",\"2023-01-03 13:00:00\",\"2023-01-03 17:00:00\",\"2023-01-03 18:00:00\",\"2023-01-03 19:00:00\",\"2023-01-03 20:00:00\",\"2023-01-03 21:00:00\",\"2023-01-03 22:00:00\",\"2023-01-03 23:00:00\",\"2023-01-04 00:00:00\",\"2023-01-04 01:00:00\",\"2023-01-04 02:00:00\",\"2023-01-04 03:00:00\",\"2023-01-04 04:00:00\",\"2023-01-04 05:00:00\",\"2023-01-04 06:00:00\",\"2023-01-04 07:00:00\",\"2023-01-04 08:00:00\",\"2023-01-04 09:00:00\",\"2023-01-04 13:00:00\",\"2023-01-04 17:00:00\",\"2023-01-04 18:00:00\",\"2023-01-04 19:00:00\",\"2023-01-04 20:00:00\",\"2023-01-04 21:00:00\",\"2023-01-04 22:00:00\",\"2023-01-04 23:00:00\",\"2023-01-05 00:00:00\",\"2023-01-05 01:00:00\",\"2023-01-05 02:00:00\",\"2023-01-05 03:00:00\",\"2023-01-05 04:00:00\",\"2023-01-05 05:00:00\",\"2023-01-05 06:00:00\",\"2023-01-05 07:00:00\",\"2023-01-05 08:00:00\",\"2023-01-05 09:00:00\",\"2023-01-05 13:00:00\"]}]}},                        {\"responsive\": true}                    ).then(function(){\n",
       "                            \n",
       "var gd = document.getElementById('ce2b7eaf-320a-4054-a582-24b8da0a8a20');\n",
       "var x = new MutationObserver(function (mutations, observer) {{\n",
       "        var display = window.getComputedStyle(gd).display;\n",
       "        if (!display || display === 'none') {{\n",
       "            console.log([gd, 'removed!']);\n",
       "            Plotly.purge(gd);\n",
       "            observer.disconnect();\n",
       "        }}\n",
       "}});\n",
       "\n",
       "// Listen for the removal of the full notebook cells\n",
       "var notebookContainer = gd.closest('#notebook-container');\n",
       "if (notebookContainer) {{\n",
       "    x.observe(notebookContainer, {childList: true});\n",
       "}}\n",
       "\n",
       "// Listen for the clearing of the current output cell\n",
       "var outputEl = gd.closest('.output');\n",
       "if (outputEl) {{\n",
       "    x.observe(outputEl, {childList: true});\n",
       "}}\n",
       "\n",
       "                        })                };                });            </script>        </div>"
      ]
     },
     "metadata": {},
     "output_type": "display_data"
    }
   ],
   "source": [
    "share.Plot_Candle_hours('KBANK')"
   ]
  },
  {
   "cell_type": "code",
   "execution_count": null,
   "id": "1b20e514",
   "metadata": {},
   "outputs": [],
   "source": [
    "SELECT SP.\"Date\",SP.Open,Sp.High,SP.Low,SP.Close,SP.\"Adj Close\",SP.Volume,I.Symbol \n",
    "FROM Stock_price_day as SP \n",
    "INNER JOIN Information as I \n",
    "on I.SymbolId = SP.SymbolId \n",
    "WHERE I.Symbol = 'KBANK';"
   ]
  }
 ],
 "metadata": {
  "kernelspec": {
   "display_name": "base",
   "language": "python",
   "name": "python3"
  },
  "language_info": {
   "codemirror_mode": {
    "name": "ipython",
    "version": 3
   },
   "file_extension": ".py",
   "mimetype": "text/x-python",
   "name": "python",
   "nbconvert_exporter": "python",
   "pygments_lexer": "ipython3",
   "version": "3.9.12"
  },
  "vscode": {
   "interpreter": {
    "hash": "9ea22d1d3e790d75f76cb29b65eb717056d85f07a0f86a1e85e289439e0ad71b"
   }
  }
 },
 "nbformat": 4,
 "nbformat_minor": 5
}
