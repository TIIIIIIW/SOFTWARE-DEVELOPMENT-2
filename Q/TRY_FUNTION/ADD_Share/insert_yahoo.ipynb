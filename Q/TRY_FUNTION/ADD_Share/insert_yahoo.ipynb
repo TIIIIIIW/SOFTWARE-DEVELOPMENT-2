{
 "cells": [
  {
   "cell_type": "code",
   "execution_count": 19,
   "metadata": {},
   "outputs": [],
   "source": [
    "import yfinance as yf\n",
    "from bs4 import BeautifulSoup\n",
    "import requests\n",
    "import pandas as pd\n",
    "import numpy\n",
    "import sqlite3\n",
    "from selenium import webdriver\n",
    "from selenium.webdriver.common.by import By\n",
    "import time\n",
    "from selenium.webdriver.support.ui import WebDriverWait\n",
    "from selenium.webdriver.support import expected_conditions as EC\n",
    "import datetime\n",
    "from selenium.webdriver.chrome.options import Options\n",
    "from selenium.common.exceptions import NoSuchElementException\n"
   ]
  },
  {
   "cell_type": "code",
   "execution_count": 27,
   "metadata": {},
   "outputs": [],
   "source": [
    "def Set_up_WebScraping(url):\n",
    "    \n",
    "    options = Options()\n",
    "    options.add_argument('--headless')\n",
    "    options.add_argument('--disable-gpu')\n",
    "    driver = webdriver.Chrome(r\"C:\\Users\\JourneyQ\\OneDrive - kmutnb.ac.th\\Desktop\\Quick_file\\year_2-S_2\\Project_sofedev_2\\Schap\\chromedriver.exe\", chrome_options=options)\n",
    "    driver.get(url)\n",
    "    \n",
    "    return driver"
   ]
  },
  {
   "cell_type": "code",
   "execution_count": 4,
   "metadata": {},
   "outputs": [
    {
     "name": "stderr",
     "output_type": "stream",
     "text": [
      "C:\\Users\\JourneyQ\\AppData\\Local\\Temp\\ipykernel_13396\\3826833156.py:6: DeprecationWarning: executable_path has been deprecated, please pass in a Service object\n",
      "  driver = webdriver.Chrome(r\"C:\\Users\\JourneyQ\\OneDrive - kmutnb.ac.th\\Desktop\\Quick_file\\year_2-S_2\\Project_sofedev_2\\Schap\\chromedriver.exe\", chrome_options=options)\n",
      "C:\\Users\\JourneyQ\\AppData\\Local\\Temp\\ipykernel_13396\\3826833156.py:6: DeprecationWarning: use options instead of chrome_options\n",
      "  driver = webdriver.Chrome(r\"C:\\Users\\JourneyQ\\OneDrive - kmutnb.ac.th\\Desktop\\Quick_file\\year_2-S_2\\Project_sofedev_2\\Schap\\chromedriver.exe\", chrome_options=options)\n"
     ]
    }
   ],
   "source": [
    "share = 'GE'\n",
    "driver = Set_up_WebScraping(f\"https://finance.yahoo.com/quote/{share}/profile\")"
   ]
  },
  {
   "cell_type": "code",
   "execution_count": 82,
   "metadata": {},
   "outputs": [],
   "source": [
    "# //*[@id=\"myLightboxContainer\"]/section/button[1]/svg/path\n",
    "\n",
    "driver.find_element(By.XPATH, '//*[@id=\"myLightboxContainer\"]/section/button[2]').click()"
   ]
  },
  {
   "cell_type": "code",
   "execution_count": 5,
   "metadata": {},
   "outputs": [
    {
     "name": "stdout",
     "output_type": "stream",
     "text": [
      "<html><head>\n",
      "<title>Access Denied</title>\n",
      "</head><body>\n",
      "<h1>Access Denied</h1>\n",
      " \n",
      "You don't have permission to access \"http://www.nasdaq.com/market-activity/stocks/aapl\" on this server.<p>\n",
      "Reference #18.7ff466ab.1679200452.691f8fdf\n",
      "\n",
      "\n",
      "</p></body></html>\n"
     ]
    }
   ],
   "source": [
    "print(driver.page_source)\n",
    "html = str(driver.page_source)"
   ]
  },
  {
   "cell_type": "code",
   "execution_count": 6,
   "metadata": {},
   "outputs": [],
   "source": [
    "soup = BeautifulSoup(html, 'html')"
   ]
  },
  {
   "cell_type": "code",
   "execution_count": 7,
   "metadata": {},
   "outputs": [
    {
     "data": {
      "text/plain": [
       "<html><head>\n",
       "<title>Access Denied</title>\n",
       "</head><body>\n",
       "<h1>Access Denied</h1>\n",
       " \n",
       "You don't have permission to access \"http://www.nasdaq.com/market-activity/stocks/aapl\" on this server.<p>\n",
       "Reference #18.7ff466ab.1679200452.691f8fdf\n",
       "\n",
       "\n",
       "</p></body></html>"
      ]
     },
     "execution_count": 7,
     "metadata": {},
     "output_type": "execute_result"
    }
   ],
   "source": [
    "soup"
   ]
  },
  {
   "cell_type": "code",
   "execution_count": 87,
   "metadata": {},
   "outputs": [
    {
     "name": "stdout",
     "output_type": "stream",
     "text": [
      "Tesla, Inc. (TSLA)\n",
      "['Tesla, Inc. ', '']\n"
     ]
    }
   ],
   "source": [
    "company = soup.find('h1', {'class': 'D(ib) Fz(18px)'})\n",
    "print(company.text)\n",
    "print((company.text).split(f'({share})'))"
   ]
  },
  {
   "cell_type": "code",
   "execution_count": 94,
   "metadata": {},
   "outputs": [],
   "source": [
    "target =  soup.find('div', {'class': 'Pt(10px) smartphone_Pt(20px) Lh(1.7)'})\n",
    "ind_sec = target.find_all('p',{'class':'D(ib) Va(t)'})[0]"
   ]
  },
  {
   "cell_type": "code",
   "execution_count": 98,
   "metadata": {},
   "outputs": [
    {
     "name": "stdout",
     "output_type": "stream",
     "text": [
      "<span class=\"Fw(600)\">Consumer Cyclical</span>\n",
      "<span class=\"Fw(600)\">Auto Manufacturers</span>\n",
      "['Consumer Cyclical', 'Auto Manufacturers']\n"
     ]
    }
   ],
   "source": [
    "chest = []\n",
    "for i in ind_sec.find_all('span',{'class':'Fw(600)'})[:-1]:\n",
    "    print(i)\n",
    "    chest.append(i.text)\n",
    "print(chest)"
   ]
  },
  {
   "cell_type": "code",
   "execution_count": 26,
   "metadata": {},
   "outputs": [],
   "source": [
    "def Set_up_WebScraping_Info(share):\n",
    "    \n",
    "    options = Options()\n",
    "    options.add_argument('--headless')\n",
    "    options.add_argument('--disable-gpu')\n",
    "    driver = webdriver.Chrome(r\"C:\\Users\\JourneyQ\\OneDrive - kmutnb.ac.th\\Desktop\\Quick_file\\year_2-S_2\\Project_sofedev_2\\Schap\\chromedriver.exe\", chrome_options=options)\n",
    "    driver.get(f\"https://finance.yahoo.com/quote/{str(share)}/profile\")\n",
    "    time.sleep(2)\n",
    "\n",
    "    try :\n",
    "        driver.find_element(By.XPATH, '//*[@id=\"myLightboxContainer\"]/section/button[2]').click()\n",
    "        return str(driver.page_source)\n",
    "    \n",
    "    except NoSuchElementException :\n",
    "\n",
    "        return ''\n",
    "\n",
    "    \n",
    "\n",
    "def get_new_NASDAQ_CRYPTO_info(share):\n",
    "    \n",
    "    info = {}\n",
    "    html = Set_up_WebScraping_Info(share)\n",
    "    soup = BeautifulSoup(html, 'html')\n",
    "    company = soup.find('h1', {'class': 'D(ib) Fz(18px)'})\n",
    "\n",
    "    if str(company) == 'None' : return {}\n",
    "\n",
    "    info['Symbol'],info['Sname'] = share,(company.text).split(f'({share})')[0][:-1]\n",
    "    target =  soup.find('div', {'class': 'Pt(10px) smartphone_Pt(20px) Lh(1.7)'})\n",
    "    info['Market'] = 'CRYPTO'\n",
    "    if str(target) != str(None):\n",
    "\n",
    "        ind_sec = target.find_all('p',{'class':'D(ib) Va(t)'})\n",
    "        chest = ind_sec[0].find_all('span',{'class':'Fw(600)'})[:-1]\n",
    "        info['Sector'] = chest[0].text\n",
    "        info['Industry'] = chest[1].text\n",
    "        info['Market'] = 'NASDAQ'\n",
    "        \n",
    "    return info\n"
   ]
  },
  {
   "cell_type": "code",
   "execution_count": 29,
   "metadata": {},
   "outputs": [
    {
     "name": "stderr",
     "output_type": "stream",
     "text": [
      "C:\\Users\\JourneyQ\\AppData\\Local\\Temp\\ipykernel_5744\\2014421213.py:6: DeprecationWarning: executable_path has been deprecated, please pass in a Service object\n",
      "  driver = webdriver.Chrome(r\"C:\\Users\\JourneyQ\\OneDrive - kmutnb.ac.th\\Desktop\\Quick_file\\year_2-S_2\\Project_sofedev_2\\Schap\\chromedriver.exe\", chrome_options=options)\n",
      "C:\\Users\\JourneyQ\\AppData\\Local\\Temp\\ipykernel_5744\\2014421213.py:6: DeprecationWarning: use options instead of chrome_options\n",
      "  driver = webdriver.Chrome(r\"C:\\Users\\JourneyQ\\OneDrive - kmutnb.ac.th\\Desktop\\Quick_file\\year_2-S_2\\Project_sofedev_2\\Schap\\chromedriver.exe\", chrome_options=options)\n"
     ]
    },
    {
     "data": {
      "text/plain": [
       "{'Symbol': 'AAPL',\n",
       " 'Sname': 'Apple Inc.',\n",
       " 'Market': 'NASDAQ',\n",
       " 'Sector': 'Technology',\n",
       " 'Industry': 'Consumer Electronics'}"
      ]
     },
     "execution_count": 29,
     "metadata": {},
     "output_type": "execute_result"
    }
   ],
   "source": [
    "get_new_NASDAQ_CRYPTO_info('AAPL')"
   ]
  },
  {
   "cell_type": "code",
   "execution_count": null,
   "metadata": {},
   "outputs": [],
   "source": []
  }
 ],
 "metadata": {
  "kernelspec": {
   "display_name": "Python 3",
   "language": "python",
   "name": "python3"
  },
  "language_info": {
   "codemirror_mode": {
    "name": "ipython",
    "version": 3
   },
   "file_extension": ".py",
   "mimetype": "text/x-python",
   "name": "python",
   "nbconvert_exporter": "python",
   "pygments_lexer": "ipython3",
   "version": "3.10.6"
  },
  "orig_nbformat": 4
 },
 "nbformat": 4,
 "nbformat_minor": 2
}
