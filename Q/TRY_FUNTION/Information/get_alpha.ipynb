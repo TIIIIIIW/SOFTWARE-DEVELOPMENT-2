{
 "cells": [
  {
   "cell_type": "code",
   "execution_count": 2,
   "metadata": {},
   "outputs": [],
   "source": [
    "import alpha_vantage\n",
    "import requests"
   ]
  },
  {
   "cell_type": "code",
   "execution_count": 3,
   "metadata": {},
   "outputs": [],
   "source": [
    "API_Key = 'S1W2QM4NOB9CC8K'"
   ]
  },
  {
   "cell_type": "code",
   "execution_count": 28,
   "metadata": {},
   "outputs": [
    {
     "name": "stdout",
     "output_type": "stream",
     "text": [
      "{'Note': 'Thank you for using Alpha Vantage! Our standard API call frequency '\n",
      "         'is 5 calls per minute and 500 calls per day. Please visit '\n",
      "         'https://www.alphavantage.co/premium/ if you would like to target a '\n",
      "         'higher API call frequency.'}\n"
     ]
    }
   ],
   "source": [
    "from pprint import pprint\n",
    "tirker = 'AAME'\n",
    "# There is no metadata in this call\n",
    "url = f'https://www.alphavantage.co/query?function=OVERVIEW&symbol={tirker}&apikey={API_Key}'\n",
    "r = requests.get(url)\n",
    "data = r.json()\n",
    "pprint(data)"
   ]
  },
  {
   "cell_type": "code",
   "execution_count": 22,
   "metadata": {},
   "outputs": [
    {
     "data": {
      "text/plain": [
       "'TRADE & SERVICES'"
      ]
     },
     "execution_count": 22,
     "metadata": {},
     "output_type": "execute_result"
    }
   ],
   "source": [
    "data['Sector']"
   ]
  },
  {
   "cell_type": "code",
   "execution_count": 23,
   "metadata": {},
   "outputs": [
    {
     "data": {
      "text/plain": [
       "'ATA Inc'"
      ]
     },
     "execution_count": 23,
     "metadata": {},
     "output_type": "execute_result"
    }
   ],
   "source": [
    "data['Name']"
   ]
  },
  {
   "cell_type": "code",
   "execution_count": null,
   "metadata": {},
   "outputs": [],
   "source": []
  }
 ],
 "metadata": {
  "kernelspec": {
   "display_name": "base",
   "language": "python",
   "name": "python3"
  },
  "language_info": {
   "codemirror_mode": {
    "name": "ipython",
    "version": 3
   },
   "file_extension": ".py",
   "mimetype": "text/x-python",
   "name": "python",
   "nbconvert_exporter": "python",
   "pygments_lexer": "ipython3",
   "version": "3.9.12"
  },
  "orig_nbformat": 4,
  "vscode": {
   "interpreter": {
    "hash": "9ea22d1d3e790d75f76cb29b65eb717056d85f07a0f86a1e85e289439e0ad71b"
   }
  }
 },
 "nbformat": 4,
 "nbformat_minor": 2
}
