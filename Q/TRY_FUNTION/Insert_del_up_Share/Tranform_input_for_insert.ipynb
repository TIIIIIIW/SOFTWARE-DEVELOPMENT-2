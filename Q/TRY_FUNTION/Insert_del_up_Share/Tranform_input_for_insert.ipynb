{
 "cells": [
  {
   "cell_type": "code",
   "execution_count": 1,
   "metadata": {},
   "outputs": [],
   "source": [
    "import pandas as pd\n",
    "import time\n",
    "import sqlite3\n",
    "import pandas as pd\n",
    "import matplotlib.pyplot as plt\n",
    "from datetime import datetime, timedelta"
   ]
  },
  {
   "cell_type": "code",
   "execution_count": 3,
   "metadata": {},
   "outputs": [],
   "source": [
    "data = {'Symbol':\"ADA\",\"Market\":\"SET\",\"Dividend Policy\":\"reduce\",\"Business Type\":\"make enegy\",\"Industry\":\"Resource\",\"Sector\":\"Ok\"}"
   ]
  },
  {
   "cell_type": "code",
   "execution_count": 6,
   "metadata": {},
   "outputs": [
    {
     "data": {
      "text/plain": [
       "\"SELECT count(*) as Have,CategoryShare.IndustryId,CategoryShare.SectorId FROM Industry INNER JOIN  CategoryShare ON Industry.IndustryId = CategoryShare.IndustryId INNER JOIN Sector on Sector.SectorId = CategoryShare.SectorId \\nWHERE Short_Industry = 'Resource' AND Short_Sector = 'Ok'\""
      ]
     },
     "execution_count": 6,
     "metadata": {},
     "output_type": "execute_result"
    }
   ],
   "source": [
    "check_industry_Sector = f\"\"\"SELECT count(*) as Have,CategoryShare.IndustryId,CategoryShare.SectorId FROM Industry INNER JOIN  CategoryShare ON Industry.IndustryId = CategoryShare.IndustryId INNER JOIN Sector on Sector.SectorId = CategoryShare.SectorId \n",
    "WHERE Short_Industry = '{data['Industry']}' AND Short_Sector = '{data['Sector']}'\"\"\"\n",
    "check_industry_Sector"
   ]
  },
  {
   "cell_type": "code",
   "execution_count": null,
   "metadata": {},
   "outputs": [],
   "source": []
  }
 ],
 "metadata": {
  "kernelspec": {
   "display_name": "base",
   "language": "python",
   "name": "python3"
  },
  "language_info": {
   "codemirror_mode": {
    "name": "ipython",
    "version": 3
   },
   "file_extension": ".py",
   "mimetype": "text/x-python",
   "name": "python",
   "nbconvert_exporter": "python",
   "pygments_lexer": "ipython3",
   "version": "3.9.12"
  },
  "orig_nbformat": 4,
  "vscode": {
   "interpreter": {
    "hash": "9ea22d1d3e790d75f76cb29b65eb717056d85f07a0f86a1e85e289439e0ad71b"
   }
  }
 },
 "nbformat": 4,
 "nbformat_minor": 2
}
