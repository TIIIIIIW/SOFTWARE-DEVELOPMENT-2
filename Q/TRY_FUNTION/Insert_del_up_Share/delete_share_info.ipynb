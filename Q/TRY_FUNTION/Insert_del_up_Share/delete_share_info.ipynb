{
 "cells": [
  {
   "cell_type": "code",
   "execution_count": 1,
   "metadata": {},
   "outputs": [],
   "source": [
    "import pandas as pd\n",
    "import time\n",
    "import sqlite3\n",
    "import pandas as pd\n",
    "import matplotlib.pyplot as plt\n",
    "from datetime import datetime, timedelta"
   ]
  },
  {
   "cell_type": "code",
   "execution_count": 11,
   "metadata": {},
   "outputs": [],
   "source": [
    "conn = sqlite3.connect(r'C:\\Users\\JourneyQ\\OneDrive - kmutnb.ac.th\\Desktop\\Quick_file\\year_2-S_2\\Project_sofedev_2\\Manage_Share\\Database_convert\\share.sqlite')"
   ]
  },
  {
   "cell_type": "code",
   "execution_count": 12,
   "metadata": {},
   "outputs": [],
   "source": [
    "cur = conn.cursor()"
   ]
  },
  {
   "cell_type": "code",
   "execution_count": 13,
   "metadata": {},
   "outputs": [],
   "source": [
    "de_query = \"\"\"DELETE FROM Information WHERE SymbolId='ก';\"\"\""
   ]
  },
  {
   "cell_type": "code",
   "execution_count": 14,
   "metadata": {},
   "outputs": [],
   "source": [
    "cur.execute(de_query)\n",
    "conn.commit()\n",
    "conn.close()"
   ]
  },
  {
   "attachments": {},
   "cell_type": "markdown",
   "metadata": {},
   "source": [
    "Function"
   ]
  },
  {
   "cell_type": "code",
   "execution_count": 21,
   "metadata": {},
   "outputs": [],
   "source": [
    "def delete_share(id):\n",
    "\n",
    "    conn = sqlite3.connect(r'C:\\Users\\JourneyQ\\OneDrive - kmutnb.ac.th\\Desktop\\Quick_file\\year_2-S_2\\Project_sofedev_2\\Manage_Share\\Database_convert\\share.sqlite')\n",
    "    cur = conn.cursor()\n",
    "\n",
    "    cur.execute(f\"\"\"SELECT count(*) FROM Information WHERE SymbolId = '{id}'\"\"\")\n",
    "    records = cur.fetchone()\n",
    "    print(records)\n",
    "    if records[0] == 0 :\n",
    "\n",
    "        return \"SymbolId does not exist in the system.\"\n",
    "\n",
    "    de_query =  f\"\"\"DELETE FROM Information WHERE SymbolId='{id}'\"\"\"\n",
    "\n",
    "    cur.execute(de_query)\n",
    "    conn.commit()\n",
    "    conn.close()\n",
    "\n",
    "    return \"Delete successfully\""
   ]
  },
  {
   "cell_type": "code",
   "execution_count": 23,
   "metadata": {},
   "outputs": [
    {
     "name": "stdout",
     "output_type": "stream",
     "text": [
      "(1,)\n"
     ]
    },
    {
     "data": {
      "text/plain": [
       "'Delete successfully'"
      ]
     },
     "execution_count": 23,
     "metadata": {},
     "output_type": "execute_result"
    }
   ],
   "source": [
    "delete_share('628')"
   ]
  },
  {
   "cell_type": "code",
   "execution_count": null,
   "metadata": {},
   "outputs": [],
   "source": []
  }
 ],
 "metadata": {
  "kernelspec": {
   "display_name": "base",
   "language": "python",
   "name": "python3"
  },
  "language_info": {
   "codemirror_mode": {
    "name": "ipython",
    "version": 3
   },
   "file_extension": ".py",
   "mimetype": "text/x-python",
   "name": "python",
   "nbconvert_exporter": "python",
   "pygments_lexer": "ipython3",
   "version": "3.9.12"
  },
  "orig_nbformat": 4,
  "vscode": {
   "interpreter": {
    "hash": "9ea22d1d3e790d75f76cb29b65eb717056d85f07a0f86a1e85e289439e0ad71b"
   }
  }
 },
 "nbformat": 4,
 "nbformat_minor": 2
}
