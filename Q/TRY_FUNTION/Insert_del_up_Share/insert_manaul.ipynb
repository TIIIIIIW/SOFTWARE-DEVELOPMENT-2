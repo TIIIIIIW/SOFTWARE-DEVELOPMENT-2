{
 "cells": [
  {
   "cell_type": "code",
   "execution_count": 5,
   "metadata": {},
   "outputs": [],
   "source": [
    "import pandas as pd\n",
    "import time\n",
    "import sqlite3\n",
    "import pandas as pd\n",
    "import matplotlib.pyplot as plt\n",
    "from datetime import datetime, timedelta"
   ]
  },
  {
   "cell_type": "code",
   "execution_count": 6,
   "metadata": {},
   "outputs": [],
   "source": [
    "con = sqlite3.connect(r'C:\\Users\\JourneyQ\\OneDrive - kmutnb.ac.th\\Desktop\\Quick_file\\year_2-S_2\\Project_sofedev_2\\Manage_Share\\Database_convert\\share.sqlite')"
   ]
  },
  {
   "cell_type": "code",
   "execution_count": 7,
   "metadata": {},
   "outputs": [],
   "source": [
    "con.close()"
   ]
  },
  {
   "cell_type": "code",
   "execution_count": 18,
   "metadata": {},
   "outputs": [
    {
     "name": "stdout",
     "output_type": "stream",
     "text": [
      "SELECT count(*) FROM Table WHERE Symbol = ? AND industry = ? AND sector = ? \n"
     ]
    }
   ],
   "source": [
    "# สำหรับเขียนคำสั่งตรวจสอบ\n",
    "check_query = f\"SELECT count(*) FROM Table WHERE \"\n",
    "for column in ['Symbol',\"industry\",\"sector\"]:\n",
    "    check_query += f\"{column} = ? AND \"\n",
    "check_query = check_query[:-4]\n",
    "print(check_query)"
   ]
  },
  {
   "cell_type": "code",
   "execution_count": 21,
   "metadata": {},
   "outputs": [
    {
     "name": "stdout",
     "output_type": "stream",
     "text": [
      "['ADA', 'Resource', 'Ok']\n"
     ]
    }
   ],
   "source": [
    "check_data = [data[column] for column in ['Symbol',\"Industry\",\"Sector\"]]\n",
    "print(check_data)\n"
   ]
  },
  {
   "cell_type": "code",
   "execution_count": 22,
   "metadata": {},
   "outputs": [
    {
     "name": "stdout",
     "output_type": "stream",
     "text": [
      "INSERT INTO Table (Symbol, Market, Dividend Policy, Business Type, Industry, Sector) VALUES (ADA, SET, reduce, make enegy, Resource, Ok)\n"
     ]
    }
   ],
   "source": [
    "insert_query = f\"INSERT INTO Table (\"\n",
    "for key in data.keys():\n",
    "    insert_query += f\"{key}, \"\n",
    "insert_query = insert_query[:-2] + \") VALUES (\"\n",
    "for key in data.keys():\n",
    "    insert_query += f\"{data[key]}, \"\n",
    "insert_query = insert_query[:-2] + \")\"\n",
    "print(insert_query)"
   ]
  },
  {
   "cell_type": "code",
   "execution_count": 70,
   "metadata": {},
   "outputs": [],
   "source": [
    "###function ----------------------------------------------------------------------"
   ]
  },
  {
   "cell_type": "code",
   "execution_count": 1,
   "metadata": {},
   "outputs": [],
   "source": [
    "def insert_share(data):\n",
    "\n",
    "    conn = sqlite3.connect(r'C:\\Users\\JourneyQ\\OneDrive - kmutnb.ac.th\\Desktop\\Quick_file\\year_2-S_2\\Project_sofedev_2\\Manage_Share\\Database_convert\\share.sqlite')\n",
    "    cur = conn.cursor()\n",
    "    check_industry_Sector = f\"\"\"SELECT count(*) as Have,CategoryShare.IndustryId,CategoryShare.SectorId FROM Industry INNER JOIN  CategoryShare ON Industry.IndustryId = CategoryShare.IndustryId INNER JOIN Sector on Sector.SectorId = CategoryShare.SectorId WHERE Short_Industry = '{data['Industry']}' AND Short_Sector = '{data['Sector']}';\"\"\"\n",
    "    cur.execute(check_industry_Sector)\n",
    "    records = cur.fetchone()\n",
    "\n",
    "    if records[0] == 0 :\n",
    "\n",
    "        return \"Industry and Sector not match\"\n",
    "\n",
    "    data['IndustryId'],data['SectorId'] = records[1],records[2]\n",
    "    check_query = f\"\"\"SELECT count(*) FROM Information WHERE Symbol = \"{data['Symbol']}\";\"\"\"\n",
    "    cur.execute(check_query)\n",
    "    result = cur.fetchone()\n",
    "\n",
    "    if result[0] == 0:\n",
    "        # Data does not exist, insert it\n",
    "        insert_data = f\"\"\" INSERT INTO Information(\"Symbol\",\"Market\",\"Dividend Policy\",\"Business Type\",\"SectorId\",\"IndustryId\") VALUES(\"{data['Symbol']}\",\"{data['Market']}\",\"{data['Dividend Policy']}\",\"{data['Business Type']}\",\"{data['SectorId']}\",\"{data['IndustryId']}\")\"\"\"\n",
    "        cur.execute(insert_data)\n",
    "        conn.commit()\n",
    "        conn.close()\n",
    "        return \"Create sussces\"\n",
    "        \n",
    "    return \"Symbol already exists\""
   ]
  },
  {
   "cell_type": "code",
   "execution_count": 2,
   "metadata": {},
   "outputs": [],
   "source": [
    "data = {'Symbol':\"QQQ\",\"Market\":\"SET\",\"Dividend Policy\":\"reduce\",\"Business Type\":\"make enegy\",\"Industry\":\"AGRO\",\"Sector\":\"FOOD\"}"
   ]
  },
  {
   "cell_type": "code",
   "execution_count": 8,
   "metadata": {},
   "outputs": [
    {
     "data": {
      "text/plain": [
       "'Create sussces'"
      ]
     },
     "execution_count": 8,
     "metadata": {},
     "output_type": "execute_result"
    }
   ],
   "source": [
    "insert_share(data)"
   ]
  },
  {
   "cell_type": "code",
   "execution_count": null,
   "metadata": {},
   "outputs": [],
   "source": []
  }
 ],
 "metadata": {
  "kernelspec": {
   "display_name": "base",
   "language": "python",
   "name": "python3"
  },
  "language_info": {
   "codemirror_mode": {
    "name": "ipython",
    "version": 3
   },
   "file_extension": ".py",
   "mimetype": "text/x-python",
   "name": "python",
   "nbconvert_exporter": "python",
   "pygments_lexer": "ipython3",
   "version": "3.9.12"
  },
  "orig_nbformat": 4,
  "vscode": {
   "interpreter": {
    "hash": "9ea22d1d3e790d75f76cb29b65eb717056d85f07a0f86a1e85e289439e0ad71b"
   }
  }
 },
 "nbformat": 4,
 "nbformat_minor": 2
}
