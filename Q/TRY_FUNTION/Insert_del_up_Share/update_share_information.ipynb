{
 "cells": [
  {
   "cell_type": "code",
   "execution_count": 23,
   "metadata": {},
   "outputs": [],
   "source": [
    "import pandas as pd\n",
    "import time\n",
    "import sqlite3\n",
    "import pandas as pd\n",
    "import matplotlib.pyplot as plt\n",
    "from datetime import datetime, timedelta\n",
    "from sqlite3 import IntegrityError"
   ]
  },
  {
   "cell_type": "code",
   "execution_count": null,
   "metadata": {},
   "outputs": [],
   "source": [
    "\"\"\"\n",
    "1. อัพเดตข้อมูลที่มี\n",
    "2. อัพเดตแล้วซ้ำ \n",
    "\n",
    "\"\"\""
   ]
  },
  {
   "cell_type": "code",
   "execution_count": 8,
   "metadata": {},
   "outputs": [],
   "source": [
    "conn = sqlite3.connect(r'C:\\Users\\JourneyQ\\OneDrive - kmutnb.ac.th\\Desktop\\Quick_file\\year_2-S_2\\Project_sofedev_2\\Manage_Share\\Database_convert\\share.sqlite')"
   ]
  },
  {
   "cell_type": "code",
   "execution_count": 29,
   "metadata": {},
   "outputs": [],
   "source": [
    "data = {'Symbol':\"AZQsss\",\"Market\":\"SET\",\"Dividend Policy\":\"reduce\",\"Business Type\":\"make enegy\",\"IndustryId\":\"1\",\"SectorId\":\"1\",\"SymbolId\":\"629\"}"
   ]
  },
  {
   "cell_type": "code",
   "execution_count": 6,
   "metadata": {},
   "outputs": [],
   "source": [
    "check_query_sector_industry = f\"\"\"SELECT count(*) ,CategoryShare.IndustryId,CategoryShare.SectorId FROM Industry INNER JOIN  CategoryShare ON Industry.IndustryId = CategoryShare.IndustryId INNER JOIN Sector on Sector.SectorId = CategoryShare.SectorId WHERE Short_Industry = '{data['Industry']}' AND Short_Sector = '{data['Sector']}';\"\"\""
   ]
  },
  {
   "cell_type": "code",
   "execution_count": 30,
   "metadata": {},
   "outputs": [],
   "source": [
    "up_query = f\"\"\"UPDATE Information\n",
    "SET  Symbol = \"{data['Symbol']}\", Market = \"{data['Market']}\", \"Dividend Policy\" = \"{data['Dividend Policy']}\",\"Business Type\" = \"{data['Business Type']}\",\"SectorId\" = \"{data['SectorId']}\",\"IndustryId\" = \"{data['IndustryId']}\"\n",
    "WHERE SymbolId = {data['SymbolId']};\"\"\""
   ]
  },
  {
   "cell_type": "code",
   "execution_count": 9,
   "metadata": {},
   "outputs": [],
   "source": [
    "cur = conn.cursor()"
   ]
  },
  {
   "cell_type": "code",
   "execution_count": 33,
   "metadata": {},
   "outputs": [
    {
     "name": "stdout",
     "output_type": "stream",
     "text": [
      "OK\n"
     ]
    }
   ],
   "source": [
    "\n",
    "try :\n",
    "    \n",
    "    cur.execute(up_query)\n",
    "\n",
    "    text = 'OK'\n",
    "except IntegrityError :\n",
    "\n",
    "    text = \"This Symbol already exist.\" \n",
    "\n",
    "print(text)"
   ]
  },
  {
   "cell_type": "code",
   "execution_count": 32,
   "metadata": {},
   "outputs": [],
   "source": [
    "#------------------------Function-----------------------------------------------"
   ]
  },
  {
   "cell_type": "code",
   "execution_count": 34,
   "metadata": {},
   "outputs": [],
   "source": [
    "def update_share_info(data):\n",
    "    \n",
    "    conn = sqlite3.connect(r'C:\\Users\\JourneyQ\\OneDrive - kmutnb.ac.th\\Desktop\\Quick_file\\year_2-S_2\\Project_sofedev_2\\Manage_Share\\Database_convert\\share.sqlite')\n",
    "    \n",
    "    cur = conn.cursor()\n",
    "    cur.execute(f\"\"\"SELECT count(*) as Have,CategoryShare.IndustryId,CategoryShare.SectorId FROM Industry INNER JOIN  CategoryShare ON Industry.IndustryId = CategoryShare.IndustryId INNER JOIN Sector on Sector.SectorId = CategoryShare.SectorId WHERE Short_Industry = '{data['Industry']}' AND Short_Sector = '{data['Sector']}';\"\"\")\n",
    "    records = cur.fetchone()\n",
    "    if records[0] == 0 :\n",
    "\n",
    "        return \"Industry and Sector not match\"\n",
    "    \n",
    "    data['IndustryId'],data['SectorId'] = records[1],records[2]\n",
    "    cur.execute(f\"\"\"SELECT count(*) FROM Information WHERE SymbolId = {data['SymbolId']}\"\"\")\n",
    "    records = cur.fetchone()\n",
    "    \n",
    "    if records[0] == 0 :\n",
    "\n",
    "        return \"SymbolId does not exist in the system. \"\n",
    "\n",
    "    try :\n",
    "    \n",
    "        cur.execute( f\"\"\"UPDATE Information SET  Symbol = \"{data['Symbol']}\", Market = \"{data['Market']}\", \"Dividend Policy\" = \"{data['Dividend Policy']}\",\"Business Type\" = \"{data['Business Type']}\",\"SectorId\" = \"{data['SectorId']}\",\"IndustryId\" = \"{data['IndustryId']}\" WHERE SymbolId = {data['SymbolId']};\"\"\")\n",
    "        conn.commit()\n",
    "        conn.close()\n",
    "        return \"Update succeed\"\n",
    "        \n",
    "    except IntegrityError :\n",
    "        \n",
    "        conn.close()\n",
    "        return \"This Symbol already exist.\""
   ]
  },
  {
   "cell_type": "code",
   "execution_count": 40,
   "metadata": {},
   "outputs": [],
   "source": [
    "data_Test = {'Symbol':\"AZQsss\",\"Market\":\"SET\",\"Dividend Policy\":\"reduce\",\"Business Type\":\"make enegy\",\"Industry\":\"AGRO\",\"Sector\":\"FOOD\",\"SymbolId\":\"628\"}"
   ]
  },
  {
   "cell_type": "code",
   "execution_count": 108,
   "metadata": {},
   "outputs": [
    {
     "data": {
      "text/plain": [
       "'Update succeed'"
      ]
     },
     "execution_count": 108,
     "metadata": {},
     "output_type": "execute_result"
    }
   ],
   "source": [
    "update_share_info(data_Test)"
   ]
  },
  {
   "cell_type": "code",
   "execution_count": null,
   "metadata": {},
   "outputs": [],
   "source": []
  }
 ],
 "metadata": {
  "kernelspec": {
   "display_name": "base",
   "language": "python",
   "name": "python3"
  },
  "language_info": {
   "codemirror_mode": {
    "name": "ipython",
    "version": 3
   },
   "file_extension": ".py",
   "mimetype": "text/x-python",
   "name": "python",
   "nbconvert_exporter": "python",
   "pygments_lexer": "ipython3",
   "version": "3.9.12"
  },
  "orig_nbformat": 4,
  "vscode": {
   "interpreter": {
    "hash": "9ea22d1d3e790d75f76cb29b65eb717056d85f07a0f86a1e85e289439e0ad71b"
   }
  }
 },
 "nbformat": 4,
 "nbformat_minor": 2
}
