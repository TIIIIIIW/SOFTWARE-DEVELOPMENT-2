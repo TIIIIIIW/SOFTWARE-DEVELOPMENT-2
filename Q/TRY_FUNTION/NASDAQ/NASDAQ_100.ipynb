{
 "cells": [
  {
   "cell_type": "code",
   "execution_count": null,
   "metadata": {},
   "outputs": [],
   "source": [
    "driver = Set_up_WebScraping(\"https://www.nasdaq.com/market-activity/stocks/screener\")\n"
   ]
  },
  {
   "cell_type": "code",
   "execution_count": null,
   "metadata": {},
   "outputs": [],
   "source": [
    "# B1 : /html/body/div[3]/div/main/div[2]/article/div[3]/div[1]/div/div/div[3]/div[5]/div/button[1]\n",
    "# B2 : /html/body/div[3]/div/main/div[2]/article/div[3]/div[1]/div/div/div[3]/div[5]/div/button[2]"
   ]
  },
  {
   "cell_type": "code",
   "execution_count": null,
   "metadata": {},
   "outputs": [],
   "source": [
    "data = driver.page_source\n",
    "df_5 = pd.read_html(data)[0]"
   ]
  }
 ],
 "metadata": {
  "kernelspec": {
   "display_name": "base",
   "language": "python",
   "name": "python3"
  },
  "language_info": {
   "name": "python",
   "version": "3.9.12"
  },
  "orig_nbformat": 4,
  "vscode": {
   "interpreter": {
    "hash": "9ea22d1d3e790d75f76cb29b65eb717056d85f07a0f86a1e85e289439e0ad71b"
   }
  }
 },
 "nbformat": 4,
 "nbformat_minor": 2
}
