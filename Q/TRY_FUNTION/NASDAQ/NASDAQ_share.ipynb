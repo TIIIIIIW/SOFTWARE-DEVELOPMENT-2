{
 "cells": [
  {
   "cell_type": "code",
   "execution_count": 1,
   "metadata": {},
   "outputs": [],
   "source": [
    "import pandas as pd\n",
    "import requests"
   ]
  },
  {
   "cell_type": "code",
   "execution_count": 2,
   "metadata": {},
   "outputs": [],
   "source": [
    "Symbol_NAS = pd.read_csv(r'C:\\Users\\JourneyQ\\OneDrive - kmutnb.ac.th\\Desktop\\Quick_file\\year_2-S_2\\Project_sofedev_2\\TRY_FUNTION\\NASDAQ\\nasdaq_screener_1676646326939.csv')"
   ]
  },
  {
   "cell_type": "code",
   "execution_count": 3,
   "metadata": {},
   "outputs": [],
   "source": [
    "Symbol_NAS = Symbol_NAS[['Symbol','Name','Sector','Industry']]"
   ]
  },
  {
   "cell_type": "code",
   "execution_count": 14,
   "metadata": {},
   "outputs": [],
   "source": [
    "Symbol_NAS['Market'] = 'NASDAQ'"
   ]
  },
  {
   "cell_type": "code",
   "execution_count": 35,
   "metadata": {},
   "outputs": [],
   "source": [
    "Symbol_NAS = Symbol_NAS[(Symbol_NAS.Industry.notnull()) | (Symbol_NAS.Sector.notnull())]"
   ]
  },
  {
   "cell_type": "code",
   "execution_count": 41,
   "metadata": {},
   "outputs": [
    {
     "data": {
      "text/html": [
       "<div>\n",
       "<style scoped>\n",
       "    .dataframe tbody tr th:only-of-type {\n",
       "        vertical-align: middle;\n",
       "    }\n",
       "\n",
       "    .dataframe tbody tr th {\n",
       "        vertical-align: top;\n",
       "    }\n",
       "\n",
       "    .dataframe thead th {\n",
       "        text-align: right;\n",
       "    }\n",
       "</style>\n",
       "<table border=\"1\" class=\"dataframe\">\n",
       "  <thead>\n",
       "    <tr style=\"text-align: right;\">\n",
       "      <th></th>\n",
       "      <th>Symbol</th>\n",
       "      <th>Name</th>\n",
       "      <th>Sector</th>\n",
       "      <th>Industry</th>\n",
       "      <th>Market</th>\n",
       "      <th>Description</th>\n",
       "    </tr>\n",
       "  </thead>\n",
       "  <tbody>\n",
       "    <tr>\n",
       "      <th>0</th>\n",
       "      <td>AACG</td>\n",
       "      <td>ATA Creativity Global American Depositary Shares</td>\n",
       "      <td>Consumer Discretionary</td>\n",
       "      <td>Service to the Health Industry</td>\n",
       "      <td>NASDAQ</td>\n",
       "      <td>American Airlines Group Inc. is an American pu...</td>\n",
       "    </tr>\n",
       "    <tr>\n",
       "      <th>1</th>\n",
       "      <td>AACI</td>\n",
       "      <td>Armada Acquisition Corp. I Common Stock</td>\n",
       "      <td>Industrials</td>\n",
       "      <td>Consumer Electronics/Appliances</td>\n",
       "      <td>NASDAQ</td>\n",
       "      <td>American Airlines Group Inc. is an American pu...</td>\n",
       "    </tr>\n",
       "    <tr>\n",
       "      <th>2</th>\n",
       "      <td>AACIW</td>\n",
       "      <td>Armada Acquisition Corp. I Warrant</td>\n",
       "      <td>Industrials</td>\n",
       "      <td>Consumer Electronics/Appliances</td>\n",
       "      <td>NASDAQ</td>\n",
       "      <td>American Airlines Group Inc. is an American pu...</td>\n",
       "    </tr>\n",
       "    <tr>\n",
       "      <th>3</th>\n",
       "      <td>AADI</td>\n",
       "      <td>Aadi Bioscience Inc. Common Stock</td>\n",
       "      <td>Health Care</td>\n",
       "      <td>Biotechnology: Pharmaceutical Preparations</td>\n",
       "      <td>NASDAQ</td>\n",
       "      <td>American Airlines Group Inc. is an American pu...</td>\n",
       "    </tr>\n",
       "    <tr>\n",
       "      <th>4</th>\n",
       "      <td>AAL</td>\n",
       "      <td>American Airlines Group Inc. Common Stock</td>\n",
       "      <td>Consumer Discretionary</td>\n",
       "      <td>Air Freight/Delivery Services</td>\n",
       "      <td>NASDAQ</td>\n",
       "      <td>American Airlines Group Inc. is an American pu...</td>\n",
       "    </tr>\n",
       "    <tr>\n",
       "      <th>...</th>\n",
       "      <td>...</td>\n",
       "      <td>...</td>\n",
       "      <td>...</td>\n",
       "      <td>...</td>\n",
       "      <td>...</td>\n",
       "      <td>...</td>\n",
       "    </tr>\n",
       "    <tr>\n",
       "      <th>4511</th>\n",
       "      <td>ZTAQW</td>\n",
       "      <td>Zimmer Energy Transition Acquisition Corp. War...</td>\n",
       "      <td>Industrials</td>\n",
       "      <td>Consumer Electronics/Appliances</td>\n",
       "      <td>NASDAQ</td>\n",
       "      <td>American Airlines Group Inc. is an American pu...</td>\n",
       "    </tr>\n",
       "    <tr>\n",
       "      <th>4514</th>\n",
       "      <td>ZVSA</td>\n",
       "      <td>ZyVersa Therapeutics Inc. Common Stock</td>\n",
       "      <td>Health Care</td>\n",
       "      <td>Biotechnology: Pharmaceutical Preparations</td>\n",
       "      <td>NASDAQ</td>\n",
       "      <td>American Airlines Group Inc. is an American pu...</td>\n",
       "    </tr>\n",
       "    <tr>\n",
       "      <th>4515</th>\n",
       "      <td>ZYME</td>\n",
       "      <td>Zymeworks Inc. Common Stock</td>\n",
       "      <td>Health Care</td>\n",
       "      <td>Biotechnology: Biological Products (No Diagnos...</td>\n",
       "      <td>NASDAQ</td>\n",
       "      <td>American Airlines Group Inc. is an American pu...</td>\n",
       "    </tr>\n",
       "    <tr>\n",
       "      <th>4516</th>\n",
       "      <td>ZYNE</td>\n",
       "      <td>Zynerba Pharmaceuticals Inc. Common Stock</td>\n",
       "      <td>Health Care</td>\n",
       "      <td>Biotechnology: Pharmaceutical Preparations</td>\n",
       "      <td>NASDAQ</td>\n",
       "      <td>American Airlines Group Inc. is an American pu...</td>\n",
       "    </tr>\n",
       "    <tr>\n",
       "      <th>4517</th>\n",
       "      <td>ZYXI</td>\n",
       "      <td>Zynex Inc. Common Stock</td>\n",
       "      <td>Health Care</td>\n",
       "      <td>Other Pharmaceuticals</td>\n",
       "      <td>NASDAQ</td>\n",
       "      <td>American Airlines Group Inc. is an American pu...</td>\n",
       "    </tr>\n",
       "  </tbody>\n",
       "</table>\n",
       "<p>4283 rows × 6 columns</p>\n",
       "</div>"
      ],
      "text/plain": [
       "     Symbol                                               Name  \\\n",
       "0      AACG   ATA Creativity Global American Depositary Shares   \n",
       "1      AACI            Armada Acquisition Corp. I Common Stock   \n",
       "2     AACIW                 Armada Acquisition Corp. I Warrant   \n",
       "3      AADI                  Aadi Bioscience Inc. Common Stock   \n",
       "4       AAL          American Airlines Group Inc. Common Stock   \n",
       "...     ...                                                ...   \n",
       "4511  ZTAQW  Zimmer Energy Transition Acquisition Corp. War...   \n",
       "4514   ZVSA             ZyVersa Therapeutics Inc. Common Stock   \n",
       "4515   ZYME                        Zymeworks Inc. Common Stock   \n",
       "4516   ZYNE          Zynerba Pharmaceuticals Inc. Common Stock   \n",
       "4517   ZYXI                            Zynex Inc. Common Stock   \n",
       "\n",
       "                      Sector  \\\n",
       "0     Consumer Discretionary   \n",
       "1                Industrials   \n",
       "2                Industrials   \n",
       "3                Health Care   \n",
       "4     Consumer Discretionary   \n",
       "...                      ...   \n",
       "4511             Industrials   \n",
       "4514             Health Care   \n",
       "4515             Health Care   \n",
       "4516             Health Care   \n",
       "4517             Health Care   \n",
       "\n",
       "                                               Industry  Market  \\\n",
       "0                        Service to the Health Industry  NASDAQ   \n",
       "1                       Consumer Electronics/Appliances  NASDAQ   \n",
       "2                       Consumer Electronics/Appliances  NASDAQ   \n",
       "3            Biotechnology: Pharmaceutical Preparations  NASDAQ   \n",
       "4                         Air Freight/Delivery Services  NASDAQ   \n",
       "...                                                 ...     ...   \n",
       "4511                    Consumer Electronics/Appliances  NASDAQ   \n",
       "4514         Biotechnology: Pharmaceutical Preparations  NASDAQ   \n",
       "4515  Biotechnology: Biological Products (No Diagnos...  NASDAQ   \n",
       "4516         Biotechnology: Pharmaceutical Preparations  NASDAQ   \n",
       "4517                              Other Pharmaceuticals  NASDAQ   \n",
       "\n",
       "                                            Description  \n",
       "0     American Airlines Group Inc. is an American pu...  \n",
       "1     American Airlines Group Inc. is an American pu...  \n",
       "2     American Airlines Group Inc. is an American pu...  \n",
       "3     American Airlines Group Inc. is an American pu...  \n",
       "4     American Airlines Group Inc. is an American pu...  \n",
       "...                                                 ...  \n",
       "4511  American Airlines Group Inc. is an American pu...  \n",
       "4514  American Airlines Group Inc. is an American pu...  \n",
       "4515  American Airlines Group Inc. is an American pu...  \n",
       "4516  American Airlines Group Inc. is an American pu...  \n",
       "4517  American Airlines Group Inc. is an American pu...  \n",
       "\n",
       "[4283 rows x 6 columns]"
      ]
     },
     "execution_count": 41,
     "metadata": {},
     "output_type": "execute_result"
    }
   ],
   "source": [
    "pd.DataFrame(Symbol_NAS)"
   ]
  },
  {
   "cell_type": "code",
   "execution_count": 38,
   "metadata": {},
   "outputs": [],
   "source": [
    "Symbol_NAS.to_csv('NASDAQ.csv')"
   ]
  },
  {
   "attachments": {},
   "cell_type": "markdown",
   "metadata": {},
   "source": [
    "INFO"
   ]
  },
  {
   "cell_type": "code",
   "execution_count": 42,
   "metadata": {},
   "outputs": [],
   "source": [
    "Symbols= pd.read_csv('NASDAQ.csv') "
   ]
  },
  {
   "cell_type": "code",
   "execution_count": 43,
   "metadata": {},
   "outputs": [
    {
     "name": "stdout",
     "output_type": "stream",
     "text": [
      "AACG\n",
      "AACI\n",
      "AACIW\n",
      "AADI\n",
      "AAL\n",
      "AAME\n"
     ]
    },
    {
     "ename": "KeyError",
     "evalue": "'Description'",
     "output_type": "error",
     "traceback": [
      "\u001b[1;31m---------------------------------------------------------------------------\u001b[0m",
      "\u001b[1;31mKeyError\u001b[0m                                  Traceback (most recent call last)",
      "\u001b[1;32mc:\\Users\\JourneyQ\\OneDrive - kmutnb.ac.th\\Desktop\\Quick_file\\year_2-S_2\\Project_sofedev_2\\TRY_FUNTION\\NASDAQ\\NASDAQ_share.ipynb Cell 10\u001b[0m in \u001b[0;36m<cell line: 5>\u001b[1;34m()\u001b[0m\n\u001b[0;32m      <a href='vscode-notebook-cell:/c%3A/Users/JourneyQ/OneDrive%20-%20kmutnb.ac.th/Desktop/Quick_file/year_2-S_2/Project_sofedev_2/TRY_FUNTION/NASDAQ/NASDAQ_share.ipynb#X14sZmlsZQ%3D%3D?line=8'>9</a>\u001b[0m data \u001b[39m=\u001b[39m r\u001b[39m.\u001b[39mjson()\n\u001b[0;32m     <a href='vscode-notebook-cell:/c%3A/Users/JourneyQ/OneDrive%20-%20kmutnb.ac.th/Desktop/Quick_file/year_2-S_2/Project_sofedev_2/TRY_FUNTION/NASDAQ/NASDAQ_share.ipynb#X14sZmlsZQ%3D%3D?line=9'>10</a>\u001b[0m \u001b[39mprint\u001b[39m(symbol)\n\u001b[1;32m---> <a href='vscode-notebook-cell:/c%3A/Users/JourneyQ/OneDrive%20-%20kmutnb.ac.th/Desktop/Quick_file/year_2-S_2/Project_sofedev_2/TRY_FUNTION/NASDAQ/NASDAQ_share.ipynb#X14sZmlsZQ%3D%3D?line=10'>11</a>\u001b[0m Symbol_NAS[\u001b[39m'\u001b[39m\u001b[39mDescription\u001b[39m\u001b[39m'\u001b[39m] \u001b[39m=\u001b[39m data[\u001b[39m'\u001b[39;49m\u001b[39mDescription\u001b[39;49m\u001b[39m'\u001b[39;49m]\n",
      "\u001b[1;31mKeyError\u001b[0m: 'Description'"
     ]
    }
   ],
   "source": [
    "import alpha_vantage\n",
    "import requests\n",
    "API_Key = 'S1W2QM4NOB9CC8K'\n",
    "\n",
    "for symbol in Symbols['Symbol']:\n",
    "\n",
    "    url = f'https://www.alphavantage.co/query?function=OVERVIEW&symbol={symbol}&apikey={API_Key}'\n",
    "    r = requests.get(url)\n",
    "    data = r.json()\n",
    "    print(symbol)\n",
    "    Symbol_NAS['Description'] = data['Description']"
   ]
  },
  {
   "cell_type": "code",
   "execution_count": null,
   "metadata": {},
   "outputs": [],
   "source": [
    "Symbol_NAS['Description']"
   ]
  }
 ],
 "metadata": {
  "kernelspec": {
   "display_name": "base",
   "language": "python",
   "name": "python3"
  },
  "language_info": {
   "codemirror_mode": {
    "name": "ipython",
    "version": 3
   },
   "file_extension": ".py",
   "mimetype": "text/x-python",
   "name": "python",
   "nbconvert_exporter": "python",
   "pygments_lexer": "ipython3",
   "version": "3.10.6"
  },
  "orig_nbformat": 4,
  "vscode": {
   "interpreter": {
    "hash": "9ea22d1d3e790d75f76cb29b65eb717056d85f07a0f86a1e85e289439e0ad71b"
   }
  }
 },
 "nbformat": 4,
 "nbformat_minor": 2
}
