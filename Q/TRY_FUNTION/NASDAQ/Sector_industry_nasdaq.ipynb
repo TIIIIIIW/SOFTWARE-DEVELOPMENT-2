{
 "cells": [
  {
   "cell_type": "code",
   "execution_count": 1,
   "metadata": {},
   "outputs": [],
   "source": [
    "import pandas as pd\n",
    "import requests\n",
    "import sqlite3"
   ]
  },
  {
   "cell_type": "code",
   "execution_count": 2,
   "metadata": {},
   "outputs": [],
   "source": [
    "Symbol_NAS = pd.read_csv(r'C:\\Users\\JourneyQ\\OneDrive - kmutnb.ac.th\\Desktop\\Quick_file\\year_2-S_2\\Project_sofedev_2\\TRY_FUNTION\\NASDAQ\\NASDAQ.csv')"
   ]
  },
  {
   "cell_type": "code",
   "execution_count": 19,
   "metadata": {},
   "outputs": [
    {
     "data": {
      "text/html": [
       "<div>\n",
       "<style scoped>\n",
       "    .dataframe tbody tr th:only-of-type {\n",
       "        vertical-align: middle;\n",
       "    }\n",
       "\n",
       "    .dataframe tbody tr th {\n",
       "        vertical-align: top;\n",
       "    }\n",
       "\n",
       "    .dataframe thead th {\n",
       "        text-align: right;\n",
       "    }\n",
       "</style>\n",
       "<table border=\"1\" class=\"dataframe\">\n",
       "  <thead>\n",
       "    <tr style=\"text-align: right;\">\n",
       "      <th></th>\n",
       "      <th>Unnamed: 0</th>\n",
       "      <th>Symbol</th>\n",
       "      <th>Name</th>\n",
       "      <th>Sector</th>\n",
       "      <th>Industry</th>\n",
       "      <th>Market</th>\n",
       "    </tr>\n",
       "  </thead>\n",
       "  <tbody>\n",
       "    <tr>\n",
       "      <th>0</th>\n",
       "      <td>0</td>\n",
       "      <td>AACG</td>\n",
       "      <td>ATA Creativity Global American Depositary Shares</td>\n",
       "      <td>Consumer Discretionary</td>\n",
       "      <td>Service to the Health Industry</td>\n",
       "      <td>NASDAQ</td>\n",
       "    </tr>\n",
       "    <tr>\n",
       "      <th>1</th>\n",
       "      <td>1</td>\n",
       "      <td>AACI</td>\n",
       "      <td>Armada Acquisition Corp. I Common Stock</td>\n",
       "      <td>Industrials</td>\n",
       "      <td>Consumer Electronics/Appliances</td>\n",
       "      <td>NASDAQ</td>\n",
       "    </tr>\n",
       "    <tr>\n",
       "      <th>2</th>\n",
       "      <td>2</td>\n",
       "      <td>AACIW</td>\n",
       "      <td>Armada Acquisition Corp. I Warrant</td>\n",
       "      <td>Industrials</td>\n",
       "      <td>Consumer Electronics/Appliances</td>\n",
       "      <td>NASDAQ</td>\n",
       "    </tr>\n",
       "    <tr>\n",
       "      <th>3</th>\n",
       "      <td>3</td>\n",
       "      <td>AADI</td>\n",
       "      <td>Aadi Bioscience Inc. Common Stock</td>\n",
       "      <td>Health Care</td>\n",
       "      <td>Biotechnology: Pharmaceutical Preparations</td>\n",
       "      <td>NASDAQ</td>\n",
       "    </tr>\n",
       "    <tr>\n",
       "      <th>4</th>\n",
       "      <td>4</td>\n",
       "      <td>AAL</td>\n",
       "      <td>American Airlines Group Inc. Common Stock</td>\n",
       "      <td>Consumer Discretionary</td>\n",
       "      <td>Air Freight/Delivery Services</td>\n",
       "      <td>NASDAQ</td>\n",
       "    </tr>\n",
       "    <tr>\n",
       "      <th>...</th>\n",
       "      <td>...</td>\n",
       "      <td>...</td>\n",
       "      <td>...</td>\n",
       "      <td>...</td>\n",
       "      <td>...</td>\n",
       "      <td>...</td>\n",
       "    </tr>\n",
       "    <tr>\n",
       "      <th>4278</th>\n",
       "      <td>4511</td>\n",
       "      <td>ZTAQW</td>\n",
       "      <td>Zimmer Energy Transition Acquisition Corp. War...</td>\n",
       "      <td>Industrials</td>\n",
       "      <td>Consumer Electronics/Appliances</td>\n",
       "      <td>NASDAQ</td>\n",
       "    </tr>\n",
       "    <tr>\n",
       "      <th>4279</th>\n",
       "      <td>4514</td>\n",
       "      <td>ZVSA</td>\n",
       "      <td>ZyVersa Therapeutics Inc. Common Stock</td>\n",
       "      <td>Health Care</td>\n",
       "      <td>Biotechnology: Pharmaceutical Preparations</td>\n",
       "      <td>NASDAQ</td>\n",
       "    </tr>\n",
       "    <tr>\n",
       "      <th>4280</th>\n",
       "      <td>4515</td>\n",
       "      <td>ZYME</td>\n",
       "      <td>Zymeworks Inc. Common Stock</td>\n",
       "      <td>Health Care</td>\n",
       "      <td>Biotechnology: Biological Products (No Diagnos...</td>\n",
       "      <td>NASDAQ</td>\n",
       "    </tr>\n",
       "    <tr>\n",
       "      <th>4281</th>\n",
       "      <td>4516</td>\n",
       "      <td>ZYNE</td>\n",
       "      <td>Zynerba Pharmaceuticals Inc. Common Stock</td>\n",
       "      <td>Health Care</td>\n",
       "      <td>Biotechnology: Pharmaceutical Preparations</td>\n",
       "      <td>NASDAQ</td>\n",
       "    </tr>\n",
       "    <tr>\n",
       "      <th>4282</th>\n",
       "      <td>4517</td>\n",
       "      <td>ZYXI</td>\n",
       "      <td>Zynex Inc. Common Stock</td>\n",
       "      <td>Health Care</td>\n",
       "      <td>Other Pharmaceuticals</td>\n",
       "      <td>NASDAQ</td>\n",
       "    </tr>\n",
       "  </tbody>\n",
       "</table>\n",
       "<p>4283 rows × 6 columns</p>\n",
       "</div>"
      ],
      "text/plain": [
       "      Unnamed: 0 Symbol                                               Name  \\\n",
       "0              0   AACG   ATA Creativity Global American Depositary Shares   \n",
       "1              1   AACI            Armada Acquisition Corp. I Common Stock   \n",
       "2              2  AACIW                 Armada Acquisition Corp. I Warrant   \n",
       "3              3   AADI                  Aadi Bioscience Inc. Common Stock   \n",
       "4              4    AAL          American Airlines Group Inc. Common Stock   \n",
       "...          ...    ...                                                ...   \n",
       "4278        4511  ZTAQW  Zimmer Energy Transition Acquisition Corp. War...   \n",
       "4279        4514   ZVSA             ZyVersa Therapeutics Inc. Common Stock   \n",
       "4280        4515   ZYME                        Zymeworks Inc. Common Stock   \n",
       "4281        4516   ZYNE          Zynerba Pharmaceuticals Inc. Common Stock   \n",
       "4282        4517   ZYXI                            Zynex Inc. Common Stock   \n",
       "\n",
       "                      Sector  \\\n",
       "0     Consumer Discretionary   \n",
       "1                Industrials   \n",
       "2                Industrials   \n",
       "3                Health Care   \n",
       "4     Consumer Discretionary   \n",
       "...                      ...   \n",
       "4278             Industrials   \n",
       "4279             Health Care   \n",
       "4280             Health Care   \n",
       "4281             Health Care   \n",
       "4282             Health Care   \n",
       "\n",
       "                                               Industry  Market  \n",
       "0                        Service to the Health Industry  NASDAQ  \n",
       "1                       Consumer Electronics/Appliances  NASDAQ  \n",
       "2                       Consumer Electronics/Appliances  NASDAQ  \n",
       "3            Biotechnology: Pharmaceutical Preparations  NASDAQ  \n",
       "4                         Air Freight/Delivery Services  NASDAQ  \n",
       "...                                                 ...     ...  \n",
       "4278                    Consumer Electronics/Appliances  NASDAQ  \n",
       "4279         Biotechnology: Pharmaceutical Preparations  NASDAQ  \n",
       "4280  Biotechnology: Biological Products (No Diagnos...  NASDAQ  \n",
       "4281         Biotechnology: Pharmaceutical Preparations  NASDAQ  \n",
       "4282                              Other Pharmaceuticals  NASDAQ  \n",
       "\n",
       "[4283 rows x 6 columns]"
      ]
     },
     "execution_count": 19,
     "metadata": {},
     "output_type": "execute_result"
    }
   ],
   "source": [
    "Symbol_NAS"
   ]
  },
  {
   "cell_type": "code",
   "execution_count": 3,
   "metadata": {},
   "outputs": [],
   "source": [
    "in_se = Symbol_NAS[['Sector','Industry']]"
   ]
  },
  {
   "cell_type": "code",
   "execution_count": 4,
   "metadata": {},
   "outputs": [],
   "source": [
    "df = in_se.drop_duplicates(subset = \"Industry\")"
   ]
  },
  {
   "cell_type": "code",
   "execution_count": 5,
   "metadata": {},
   "outputs": [
    {
     "name": "stderr",
     "output_type": "stream",
     "text": [
      "C:\\Users\\JourneyQ\\AppData\\Local\\Temp\\ipykernel_12900\\3320895022.py:1: SettingWithCopyWarning: \n",
      "A value is trying to be set on a copy of a slice from a DataFrame\n",
      "\n",
      "See the caveats in the documentation: https://pandas.pydata.org/pandas-docs/stable/user_guide/indexing.html#returning-a-view-versus-a-copy\n",
      "  df.sort_values(by=['Sector'], inplace=True)\n"
     ]
    }
   ],
   "source": [
    "df.sort_values(by=['Sector'], inplace=True)"
   ]
  },
  {
   "cell_type": "code",
   "execution_count": 6,
   "metadata": {},
   "outputs": [],
   "source": [
    "test = df"
   ]
  },
  {
   "cell_type": "code",
   "execution_count": 7,
   "metadata": {},
   "outputs": [],
   "source": [
    "Sector = list(test.Sector.unique())"
   ]
  },
  {
   "cell_type": "code",
   "execution_count": 8,
   "metadata": {},
   "outputs": [
    {
     "name": "stdout",
     "output_type": "stream",
     "text": [
      "{'Basic Materials': 29, 'Consumer Discretionary': 30, 'Consumer Staples': 31, 'Energy': 32, 'Finance': 33, 'Health Care': 34, 'Industrials': 35, 'Miscellaneous': 36, 'Real Estate': 37, 'Technology': 38, 'Telecommunications': 39, 'Utilities': 40}\n"
     ]
    }
   ],
   "source": [
    "sec = {}\n",
    "start = 29\n",
    "for i in range(len(Sector)):\n",
    "\n",
    "    sec[Sector[i]] = start+i\n",
    "print(sec)"
   ]
  },
  {
   "cell_type": "code",
   "execution_count": 9,
   "metadata": {},
   "outputs": [
    {
     "name": "stderr",
     "output_type": "stream",
     "text": [
      "C:\\Users\\JourneyQ\\AppData\\Local\\Temp\\ipykernel_12900\\1542990054.py:1: SettingWithCopyWarning: \n",
      "A value is trying to be set on a copy of a slice from a DataFrame.\n",
      "Try using .loc[row_indexer,col_indexer] = value instead\n",
      "\n",
      "See the caveats in the documentation: https://pandas.pydata.org/pandas-docs/stable/user_guide/indexing.html#returning-a-view-versus-a-copy\n",
      "  test['SectorId'] = test['Sector'].map(sec)\n"
     ]
    }
   ],
   "source": [
    "test['SectorId'] = test['Sector'].map(sec)"
   ]
  },
  {
   "cell_type": "code",
   "execution_count": 10,
   "metadata": {},
   "outputs": [
    {
     "name": "stdout",
     "output_type": "stream",
     "text": [
      "{'Forest Products': 9, 'Precious Metals': 10, 'Construction Materials': 11, 'Other Metals and Minerals': 12, 'Metal Mining': 13, 'Paper': 14, 'Consumer Specialties': 15, 'Services-Misc. Amusement & Recreation': 16, 'Shoe Manufacturing': 17, 'Broadcasting': 18, 'Other Specialty Stores': 19, 'Specialty Foods': 20, 'Professional Services': 21, 'Home Furnishings': 22, 'Containers/Packaging': 23, 'Electronics Distribution': 24, 'Auto Manufacturing': 25, 'Restaurants': 26, 'Wholesale Distributors': 27, 'Apparel': 28, 'Automotive Aftermarket': 29, 'Movies/Entertainment': 30, 'Recreational Games/Products/Toys': 31, 'Retail-Auto Dealers and Gas Stations': 32, 'Auto Parts:O.E.M.': 33, 'Food Distributors': 34, 'Engineering & Construction': 35, 'Beverages - Non-Alcoholic': 36, 'Publishing': 37, 'Ordnance And Accessories': 38, 'Auto & Home Supply Stores': 39, 'Motor Vehicles': 40, 'Books': 41, 'Rental/Leasing Companies': 42, 'Clothing/Shoe/Accessory Stores': 43, 'Miscellaneous manufacturing industries': 44, 'Newspapers/Magazines': 45, 'Homebuilding': 46, 'Marine Transportation': 47, 'Department/Specialty Retail Stores': 48, 'Consumer Electronics/Video Chains': 49, 'Package Goods/Cosmetics': 50, 'Specialty Chemicals': 51, 'Military/Government/Technical': 52, 'Service to the Health Industry': 53, 'Aerospace': 54, 'Building Products': 55, 'Business Services': 56, 'Durable Goods': 57, 'Catalog/Specialty Distribution': 58, 'Hotels/Resorts': 59, 'Advertising': 60, 'Transportation Services': 61, 'Air Freight/Delivery Services': 62, 'Meat/Poultry/Fish': 63, 'Farming/Seeds/Milling': 64, 'Beverages (Production/Distribution)': 65, 'Retail-Drug Stores and Proprietary Stores': 66, 'Tobacco': 67, 'Diversified Electronic Products': 68, 'Food Chains': 69, 'Packaged Foods': 70, 'Integrated oil Companies': 71, 'Oil & Gas Production': 72, 'Coal Mining': 73, 'Oilfield Services/Equipment': 74, 'Oil Refining/Marketing': 75, 'Real Estate': 76, 'Trusts Except Educational Religious and Charitable': 77, 'Major Banks': 78, 'Banks': 79, 'Savings Institutions': 80, 'Property-Casualty Insurers': 81, 'Diversified Financial Services': 82, 'Life Insurance': 83, 'Blank Checks': 84, 'Specialty Insurers': 85, 'Finance Companies': 86, 'Investment Managers': 87, 'Investment Bankers/Brokers/Service': 88, 'Accident &Health Insurance': 89, 'Finance: Consumer Services': 90, 'Finance/Investors Services': 91, 'Commercial Banks': 92, 'Biotechnology: In Vitro & In Vivo Diagnostic Substances': 93, 'Managed Health Care': 94, 'Ophthalmic Goods': 95, 'Other Pharmaceuticals': 96, 'Medical Electronics': 97, 'Biotechnology: Biological Products (No Diagnostic Substances)': 98, 'Medical/Dental Instruments': 99, 'Biotechnology: Electromedical & Electrotherapeutic Apparatus': 100, 'Biotechnology: Commercial Physical & Biological Resarch': 101, 'Pharmaceuticals and Biotechnology': 102, 'Hospital/Nursing Management': 103, 'Assisted Living Services': 104, 'Medical/Nursing Services': 105, 'Precision Instruments': 106, 'Biotechnology: Pharmaceutical Preparations': 107, ' Medicinal Chemicals and Botanical Products ': 108, 'Medical Specialities': 109, 'Diversified Manufacture': 110, 'Plastic Products': 111, 'Metal Fabrications': 112, 'Railroads': 113, 'Industrial Machinery/Components': 114, 'Construction/Ag Equipment/Trucks': 115, 'Electrical Products': 116, 'Water Sewer Pipeline Comm & Power Line Construction': 117, 'Major Chemicals': 118, 'Building Materials': 119, 'Biotechnology: Laboratory Analytical Instruments': 120, 'Consumer Electronics/Appliances': 121, 'Trucking Freight/Courier Services': 122, 'Agricultural Chemicals': 123, 'Aluminum': 124, 'Pollution Control Equipment': 125, 'Industrial Specialties': 126, 'Office Equipment/Supplies/Services': 127, 'Steel/Iron Ore': 128, 'Multi-Sector Companies': 129, 'Diversified Commercial Services': 130, 'Real Estate Investment Trusts': 131, 'Building operators': 132, 'Other Consumer Services': 133, 'Computer Software: Programming Data Processing': 134, 'Security Systems Services': 135, 'EDP Peripherals': 136, 'Radio And Television Broadcasting And Communications Equipment': 137, 'Semiconductors': 138, 'Interactive Media': 139, 'Computer Software: Prepackaged Software': 140, 'Internet and Information Services': 141, 'Computer peripheral equipment': 142, 'Retail: Computer Software & Peripheral Equipment': 143, 'EDP Services': 144, 'Computer Manufacturing': 145, 'Electronic Components': 146, 'Cable & Other Pay Television Services': 147, 'Computer Communications Equipment': 148, 'Telecommunications Equipment': 149, 'Electric Utilities: Central': 150, 'Environmental Services': 151, 'Water Supply': 152, 'Natural Gas Distribution': 153, 'Oil/Gas Transmission': 154, 'Power Generation': 155}\n"
     ]
    }
   ],
   "source": [
    "Industry = list(test.Industry.unique())\n",
    "Ind = {}\n",
    "start = 9\n",
    "for i in range(len(Industry)):\n",
    "\n",
    "    Ind[Industry[i]] = i + start\n",
    "print(Ind)"
   ]
  },
  {
   "cell_type": "code",
   "execution_count": 11,
   "metadata": {},
   "outputs": [
    {
     "name": "stderr",
     "output_type": "stream",
     "text": [
      "C:\\Users\\JourneyQ\\AppData\\Local\\Temp\\ipykernel_12900\\3662904696.py:1: SettingWithCopyWarning: \n",
      "A value is trying to be set on a copy of a slice from a DataFrame.\n",
      "Try using .loc[row_indexer,col_indexer] = value instead\n",
      "\n",
      "See the caveats in the documentation: https://pandas.pydata.org/pandas-docs/stable/user_guide/indexing.html#returning-a-view-versus-a-copy\n",
      "  test['IndustryId'] = test['Industry'].map(Ind)\n"
     ]
    }
   ],
   "source": [
    "test['IndustryId'] = test['Industry'].map(Ind)"
   ]
  },
  {
   "cell_type": "code",
   "execution_count": 13,
   "metadata": {},
   "outputs": [
    {
     "data": {
      "text/html": [
       "<div>\n",
       "<style scoped>\n",
       "    .dataframe tbody tr th:only-of-type {\n",
       "        vertical-align: middle;\n",
       "    }\n",
       "\n",
       "    .dataframe tbody tr th {\n",
       "        vertical-align: top;\n",
       "    }\n",
       "\n",
       "    .dataframe thead th {\n",
       "        text-align: right;\n",
       "    }\n",
       "</style>\n",
       "<table border=\"1\" class=\"dataframe\">\n",
       "  <thead>\n",
       "    <tr style=\"text-align: right;\">\n",
       "      <th></th>\n",
       "      <th>Sector</th>\n",
       "      <th>Industry</th>\n",
       "      <th>SectorId</th>\n",
       "      <th>IndustryId</th>\n",
       "    </tr>\n",
       "  </thead>\n",
       "  <tbody>\n",
       "    <tr>\n",
       "      <th>3946</th>\n",
       "      <td>Basic Materials</td>\n",
       "      <td>Forest Products</td>\n",
       "      <td>29</td>\n",
       "      <td>9</td>\n",
       "    </tr>\n",
       "    <tr>\n",
       "      <th>379</th>\n",
       "      <td>Basic Materials</td>\n",
       "      <td>Precious Metals</td>\n",
       "      <td>29</td>\n",
       "      <td>10</td>\n",
       "    </tr>\n",
       "    <tr>\n",
       "      <th>1364</th>\n",
       "      <td>Basic Materials</td>\n",
       "      <td>Construction Materials</td>\n",
       "      <td>29</td>\n",
       "      <td>11</td>\n",
       "    </tr>\n",
       "    <tr>\n",
       "      <th>1643</th>\n",
       "      <td>Basic Materials</td>\n",
       "      <td>Other Metals and Minerals</td>\n",
       "      <td>29</td>\n",
       "      <td>12</td>\n",
       "    </tr>\n",
       "    <tr>\n",
       "      <th>815</th>\n",
       "      <td>Basic Materials</td>\n",
       "      <td>Metal Mining</td>\n",
       "      <td>29</td>\n",
       "      <td>13</td>\n",
       "    </tr>\n",
       "    <tr>\n",
       "      <th>...</th>\n",
       "      <td>...</td>\n",
       "      <td>...</td>\n",
       "      <td>...</td>\n",
       "      <td>...</td>\n",
       "    </tr>\n",
       "    <tr>\n",
       "      <th>300</th>\n",
       "      <td>Utilities</td>\n",
       "      <td>Environmental Services</td>\n",
       "      <td>40</td>\n",
       "      <td>151</td>\n",
       "    </tr>\n",
       "    <tr>\n",
       "      <th>339</th>\n",
       "      <td>Utilities</td>\n",
       "      <td>Water Supply</td>\n",
       "      <td>40</td>\n",
       "      <td>152</td>\n",
       "    </tr>\n",
       "    <tr>\n",
       "      <th>863</th>\n",
       "      <td>Utilities</td>\n",
       "      <td>Natural Gas Distribution</td>\n",
       "      <td>40</td>\n",
       "      <td>153</td>\n",
       "    </tr>\n",
       "    <tr>\n",
       "      <th>2661</th>\n",
       "      <td>Utilities</td>\n",
       "      <td>Oil/Gas Transmission</td>\n",
       "      <td>40</td>\n",
       "      <td>154</td>\n",
       "    </tr>\n",
       "    <tr>\n",
       "      <th>80</th>\n",
       "      <td>Utilities</td>\n",
       "      <td>Power Generation</td>\n",
       "      <td>40</td>\n",
       "      <td>155</td>\n",
       "    </tr>\n",
       "  </tbody>\n",
       "</table>\n",
       "<p>147 rows × 4 columns</p>\n",
       "</div>"
      ],
      "text/plain": [
       "               Sector                   Industry  SectorId  IndustryId\n",
       "3946  Basic Materials            Forest Products        29           9\n",
       "379   Basic Materials            Precious Metals        29          10\n",
       "1364  Basic Materials     Construction Materials        29          11\n",
       "1643  Basic Materials  Other Metals and Minerals        29          12\n",
       "815   Basic Materials               Metal Mining        29          13\n",
       "...               ...                        ...       ...         ...\n",
       "300         Utilities     Environmental Services        40         151\n",
       "339         Utilities               Water Supply        40         152\n",
       "863         Utilities   Natural Gas Distribution        40         153\n",
       "2661        Utilities       Oil/Gas Transmission        40         154\n",
       "80          Utilities           Power Generation        40         155\n",
       "\n",
       "[147 rows x 4 columns]"
      ]
     },
     "execution_count": 13,
     "metadata": {},
     "output_type": "execute_result"
    }
   ],
   "source": [
    "test"
   ]
  },
  {
   "attachments": {},
   "cell_type": "markdown",
   "metadata": {},
   "source": [
    "----------------------------------------Database---------------------------------------------"
   ]
  },
  {
   "cell_type": "code",
   "execution_count": 65,
   "metadata": {},
   "outputs": [
    {
     "name": "stderr",
     "output_type": "stream",
     "text": [
      "C:\\Users\\JourneyQ\\AppData\\Local\\Temp\\ipykernel_2936\\353701422.py:5: SettingWithCopyWarning: \n",
      "A value is trying to be set on a copy of a slice from a DataFrame.\n",
      "Try using .loc[row_indexer,col_indexer] = value instead\n",
      "\n",
      "See the caveats in the documentation: https://pandas.pydata.org/pandas-docs/stable/user_guide/indexing.html#returning-a-view-versus-a-copy\n",
      "  table_sector['MarketId'] = 2\n"
     ]
    },
    {
     "data": {
      "text/plain": [
       "<function Connection.close>"
      ]
     },
     "execution_count": 65,
     "metadata": {},
     "output_type": "execute_result"
    }
   ],
   "source": [
    "con = sqlite3.connect(r'C:\\Users\\JourneyQ\\OneDrive - kmutnb.ac.th\\Desktop\\Quick_file\\year_2-S_2\\Project_sofedev_2\\Manage_Share\\Database_convert\\share_V2.sqlite')\n",
    "cur = con.cursor()\n",
    "\n",
    "table_sector = test[['Sector','SectorId']]\n",
    "table_sector['MarketId'] = 2\n",
    "table_sector = table_sector.rename(columns={\"Sector\": \"Full_Sector\"})\n",
    "table_sector = table_sector.drop_duplicates(subset = \"Full_Sector\")\n",
    "# table_sector.to_sql('Sector',con,index=False,if_exists='append')\n",
    "con.commit()\n",
    "con.close\n"
   ]
  },
  {
   "cell_type": "code",
   "execution_count": 14,
   "metadata": {},
   "outputs": [
    {
     "name": "stderr",
     "output_type": "stream",
     "text": [
      "C:\\Users\\JourneyQ\\AppData\\Local\\Temp\\ipykernel_12900\\164320267.py:5: SettingWithCopyWarning: \n",
      "A value is trying to be set on a copy of a slice from a DataFrame.\n",
      "Try using .loc[row_indexer,col_indexer] = value instead\n",
      "\n",
      "See the caveats in the documentation: https://pandas.pydata.org/pandas-docs/stable/user_guide/indexing.html#returning-a-view-versus-a-copy\n",
      "  table_Industry['MarketId'] = 2\n"
     ]
    },
    {
     "data": {
      "text/plain": [
       "<function Connection.close>"
      ]
     },
     "execution_count": 14,
     "metadata": {},
     "output_type": "execute_result"
    }
   ],
   "source": [
    "con = sqlite3.connect(r'C:\\Users\\JourneyQ\\OneDrive - kmutnb.ac.th\\Desktop\\Quick_file\\year_2-S_2\\Project_sofedev_2\\Manage_Share\\Database_convert\\share_V2.sqlite')\n",
    "cur = con.cursor()\n",
    "\n",
    "table_Industry = test[['Industry','IndustryId']]\n",
    "table_Industry['MarketId'] = 2\n",
    "table_Industry = table_Industry.rename(columns={\"Industry\": \"Full_Industry\"})\n",
    "# table_Industry.to_sql('Industry',con,index=False,if_exists='append')\n",
    "\n",
    "con.commit()\n",
    "con.close\n",
    "\n"
   ]
  },
  {
   "cell_type": "code",
   "execution_count": 45,
   "metadata": {},
   "outputs": [
    {
     "name": "stderr",
     "output_type": "stream",
     "text": [
      "C:\\Users\\JourneyQ\\AppData\\Local\\Temp\\ipykernel_12900\\435276127.py:5: SettingWithCopyWarning: \n",
      "A value is trying to be set on a copy of a slice from a DataFrame.\n",
      "Try using .loc[row_indexer,col_indexer] = value instead\n",
      "\n",
      "See the caveats in the documentation: https://pandas.pydata.org/pandas-docs/stable/user_guide/indexing.html#returning-a-view-versus-a-copy\n",
      "  df['SectorId'] = df['Sector'].map(sec)\n",
      "C:\\Users\\JourneyQ\\AppData\\Local\\Temp\\ipykernel_12900\\435276127.py:6: SettingWithCopyWarning: \n",
      "A value is trying to be set on a copy of a slice from a DataFrame.\n",
      "Try using .loc[row_indexer,col_indexer] = value instead\n",
      "\n",
      "See the caveats in the documentation: https://pandas.pydata.org/pandas-docs/stable/user_guide/indexing.html#returning-a-view-versus-a-copy\n",
      "  df['IndustryId'] = df['Industry'].map(Ind)\n"
     ]
    },
    {
     "data": {
      "text/plain": [
       "<function Connection.close>"
      ]
     },
     "execution_count": 45,
     "metadata": {},
     "output_type": "execute_result"
    }
   ],
   "source": [
    "con = sqlite3.connect(r'C:\\Users\\JourneyQ\\OneDrive - kmutnb.ac.th\\Desktop\\Quick_file\\year_2-S_2\\Project_sofedev_2\\Manage_Share\\Database_convert\\share_V2.sqlite')\n",
    "cur = con.cursor()\n",
    "\n",
    "df = Symbol_NAS[['Symbol','Sector','Industry']]\n",
    "df['SectorId'] = df['Sector'].map(sec)\n",
    "df['IndustryId'] = df['Industry'].map(Ind)\n",
    "df['SymbolId'] = range(628,4911)\n",
    "table_Category = df[['SymbolId','SectorId','IndustryId']]\n",
    "table_Category.to_sql('Category',con,index=False,if_exists='append')\n",
    "\n",
    "con.commit()\n",
    "con.close"
   ]
  },
  {
   "cell_type": "code",
   "execution_count": null,
   "metadata": {},
   "outputs": [],
   "source": []
  }
 ],
 "metadata": {
  "kernelspec": {
   "display_name": "base",
   "language": "python",
   "name": "python3"
  },
  "language_info": {
   "codemirror_mode": {
    "name": "ipython",
    "version": 3
   },
   "file_extension": ".py",
   "mimetype": "text/x-python",
   "name": "python",
   "nbconvert_exporter": "python",
   "pygments_lexer": "ipython3",
   "version": "3.10.6"
  },
  "orig_nbformat": 4
 },
 "nbformat": 4,
 "nbformat_minor": 2
}
