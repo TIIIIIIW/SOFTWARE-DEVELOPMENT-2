{
 "cells": [
  {
   "cell_type": "code",
   "execution_count": 1,
   "metadata": {},
   "outputs": [
    {
     "ename": "ModuleNotFoundError",
     "evalue": "No module named 'contextily'",
     "output_type": "error",
     "traceback": [
      "\u001b[1;31m---------------------------------------------------------------------------\u001b[0m",
      "\u001b[1;31mModuleNotFoundError\u001b[0m                       Traceback (most recent call last)",
      "Cell \u001b[1;32mIn[1], line 1\u001b[0m\n\u001b[1;32m----> 1\u001b[0m \u001b[39mimport\u001b[39;00m \u001b[39mcontextily\u001b[39;00m \u001b[39mas\u001b[39;00m \u001b[39mctx\u001b[39;00m\n\u001b[0;32m      2\u001b[0m \u001b[39mfrom\u001b[39;00m \u001b[39mcolorcet\u001b[39;00m \u001b[39mimport\u001b[39;00m palette\n\u001b[0;32m      3\u001b[0m \u001b[39mimport\u001b[39;00m \u001b[39mdatashader\u001b[39;00m \u001b[39mas\u001b[39;00m \u001b[39mds\u001b[39;00m\n",
      "\u001b[1;31mModuleNotFoundError\u001b[0m: No module named 'contextily'"
     ]
    }
   ],
   "source": [
    "import contextily as ctx\n",
    "from colorcet import palette\n",
    "import datashader as ds\n",
    "from datashader.mpl_ext import dsshow\n",
    "import geopandas as gpd\n",
    "from geopandas.tools import sjoin\n",
    "import matplotlib.pyplot as plt\n",
    "import pandas as pd\n",
    "from pygeos import Geometry\n",
    "import numpy as np\n",
    "from shapely.geometry import Polygon, MultiPolygon"
   ]
  },
  {
   "cell_type": "code",
   "execution_count": 2,
   "metadata": {},
   "outputs": [],
   "source": [
    "# conda install -c conda-forge geopandas"
   ]
  },
  {
   "cell_type": "code",
   "execution_count": 6,
   "metadata": {},
   "outputs": [],
   "source": [
    "# SELECT Inf.Symbol,Lin.Lname,Lin.Country,Lin.point,Sin.NewsId,COUNT(Lin.Lname)\n",
    "# FROM Information as Inf\n",
    "# INNER JOIN Share_in_News as Sin on Inf.SymbolId = Sin.SymbolId\n",
    "# INNER JOIN Location_in_News as Lin on Sin.NewsId = Lin.NewsId \n",
    "# WHERE Inf.Symbol = 'ADVANC.BK'\n",
    "# GROUP BY Lin.Lname;"
   ]
  },
  {
   "cell_type": "code",
   "execution_count": 8,
   "metadata": {},
   "outputs": [
    {
     "data": {
      "text/plain": [
       "<function Connection.close>"
      ]
     },
     "execution_count": 8,
     "metadata": {},
     "output_type": "execute_result"
    }
   ],
   "source": [
    "import sqlite3\n",
    "import pandas as pd\n",
    "sql = \"\"\" SELECT Inf.Symbol,Lin.Lname,Lin.Country,Lin.Latitude,Lin.Longitude,COUNT(Lin.Lname) as size,N.Date\n",
    "FROM Information as Inf\n",
    "INNER JOIN Share_in_News as Sin on Inf.SymbolId = Sin.SymbolId\n",
    "INNER JOIN News as N on N.NewsId = Sin.NewsId \n",
    "INNER JOIN Location_in_News as Lin on N.NewsId = Lin.NewsId \n",
    "WHERE Inf.Symbol = 'EE.BK'\n",
    "GROUP BY Lin.Lname;\n",
    "\"\"\"\n",
    "con = sqlite3.connect(r'C:\\Users\\JourneyQ\\OneDrive - kmutnb.ac.th\\Desktop\\Quick_file\\year_2-S_2\\Project_sofedev_2\\Manage_Share\\Database_convert\\share_V3.sqlite')\n",
    "cur = con.cursor()    \n",
    "df = pd.read_sql(sql, con)\n",
    "con.commit()\n",
    "con.close"
   ]
  },
  {
   "cell_type": "code",
   "execution_count": 2,
   "metadata": {},
   "outputs": [
    {
     "data": {
      "text/html": [
       "<div>\n",
       "<style scoped>\n",
       "    .dataframe tbody tr th:only-of-type {\n",
       "        vertical-align: middle;\n",
       "    }\n",
       "\n",
       "    .dataframe tbody tr th {\n",
       "        vertical-align: top;\n",
       "    }\n",
       "\n",
       "    .dataframe thead th {\n",
       "        text-align: right;\n",
       "    }\n",
       "</style>\n",
       "<table border=\"1\" class=\"dataframe\">\n",
       "  <thead>\n",
       "    <tr style=\"text-align: right;\">\n",
       "      <th></th>\n",
       "      <th>Symbol</th>\n",
       "      <th>Lname</th>\n",
       "      <th>Country</th>\n",
       "      <th>Latitude</th>\n",
       "      <th>Longitude</th>\n",
       "      <th>size</th>\n",
       "      <th>Date</th>\n",
       "    </tr>\n",
       "  </thead>\n",
       "  <tbody>\n",
       "    <tr>\n",
       "      <th>0</th>\n",
       "      <td>EE.BK</td>\n",
       "      <td>AI + IoT</td>\n",
       "      <td>Ireland</td>\n",
       "      <td>51.846762</td>\n",
       "      <td>-8.471472</td>\n",
       "      <td>2</td>\n",
       "      <td>29/11/2022</td>\n",
       "    </tr>\n",
       "    <tr>\n",
       "      <th>1</th>\n",
       "      <td>EE.BK</td>\n",
       "      <td>ASPS</td>\n",
       "      <td>Iran</td>\n",
       "      <td>38.001496</td>\n",
       "      <td>46.119767</td>\n",
       "      <td>2</td>\n",
       "      <td>08/06/2022</td>\n",
       "    </tr>\n",
       "    <tr>\n",
       "      <th>2</th>\n",
       "      <td>EE.BK</td>\n",
       "      <td>American</td>\n",
       "      <td>United States</td>\n",
       "      <td>31.951027</td>\n",
       "      <td>-102.167630</td>\n",
       "      <td>2</td>\n",
       "      <td>08/06/2022</td>\n",
       "    </tr>\n",
       "    <tr>\n",
       "      <th>3</th>\n",
       "      <td>EE.BK</td>\n",
       "      <td>BC</td>\n",
       "      <td>Canada</td>\n",
       "      <td>55.001251</td>\n",
       "      <td>-125.002441</td>\n",
       "      <td>2</td>\n",
       "      <td>08/06/2022</td>\n",
       "    </tr>\n",
       "    <tr>\n",
       "      <th>4</th>\n",
       "      <td>EE.BK</td>\n",
       "      <td>Beauty Company</td>\n",
       "      <td>Austria</td>\n",
       "      <td>48.190201</td>\n",
       "      <td>16.337749</td>\n",
       "      <td>2</td>\n",
       "      <td>19/09/2022</td>\n",
       "    </tr>\n",
       "    <tr>\n",
       "      <th>5</th>\n",
       "      <td>EE.BK</td>\n",
       "      <td>CBD</td>\n",
       "      <td>India</td>\n",
       "      <td>9.156225</td>\n",
       "      <td>92.821517</td>\n",
       "      <td>2</td>\n",
       "      <td>08/06/2022</td>\n",
       "    </tr>\n",
       "    <tr>\n",
       "      <th>6</th>\n",
       "      <td>EE.BK</td>\n",
       "      <td>CNS</td>\n",
       "      <td>Australia</td>\n",
       "      <td>-16.877789</td>\n",
       "      <td>145.751550</td>\n",
       "      <td>2</td>\n",
       "      <td>08/06/2022</td>\n",
       "    </tr>\n",
       "    <tr>\n",
       "      <th>7</th>\n",
       "      <td>EE.BK</td>\n",
       "      <td>COVID-19</td>\n",
       "      <td>Serbia</td>\n",
       "      <td>43.858741</td>\n",
       "      <td>19.840092</td>\n",
       "      <td>2</td>\n",
       "      <td>08/06/2022</td>\n",
       "    </tr>\n",
       "    <tr>\n",
       "      <th>8</th>\n",
       "      <td>EE.BK</td>\n",
       "      <td>CW</td>\n",
       "      <td>Indonesia</td>\n",
       "      <td>-6.242439</td>\n",
       "      <td>106.858684</td>\n",
       "      <td>2</td>\n",
       "      <td>29/11/2022</td>\n",
       "    </tr>\n",
       "    <tr>\n",
       "      <th>9</th>\n",
       "      <td>EE.BK</td>\n",
       "      <td>Cannabis</td>\n",
       "      <td>Slovenia</td>\n",
       "      <td>46.560457</td>\n",
       "      <td>15.654405</td>\n",
       "      <td>2</td>\n",
       "      <td>19/09/2022</td>\n",
       "    </tr>\n",
       "    <tr>\n",
       "      <th>10</th>\n",
       "      <td>EE.BK</td>\n",
       "      <td>Cannabiz</td>\n",
       "      <td>United States</td>\n",
       "      <td>43.811451</td>\n",
       "      <td>-91.252016</td>\n",
       "      <td>4</td>\n",
       "      <td>20/06/2022</td>\n",
       "    </tr>\n",
       "    <tr>\n",
       "      <th>11</th>\n",
       "      <td>EE.BK</td>\n",
       "      <td>China</td>\n",
       "      <td>China</td>\n",
       "      <td>35.000074</td>\n",
       "      <td>104.999927</td>\n",
       "      <td>2</td>\n",
       "      <td>08/02/2023</td>\n",
       "    </tr>\n",
       "    <tr>\n",
       "      <th>12</th>\n",
       "      <td>EE.BK</td>\n",
       "      <td>Chinese</td>\n",
       "      <td>Indonesia</td>\n",
       "      <td>-8.430589</td>\n",
       "      <td>115.233686</td>\n",
       "      <td>2</td>\n",
       "      <td>08/02/2023</td>\n",
       "    </tr>\n",
       "    <tr>\n",
       "      <th>13</th>\n",
       "      <td>EE.BK</td>\n",
       "      <td>Company</td>\n",
       "      <td>Thailand</td>\n",
       "      <td>12.372517</td>\n",
       "      <td>99.883757</td>\n",
       "      <td>6</td>\n",
       "      <td>29/11/2022</td>\n",
       "    </tr>\n",
       "    <tr>\n",
       "      <th>14</th>\n",
       "      <td>EE.BK</td>\n",
       "      <td>DOD</td>\n",
       "      <td>India</td>\n",
       "      <td>30.470574</td>\n",
       "      <td>75.015394</td>\n",
       "      <td>2</td>\n",
       "      <td>08/06/2022</td>\n",
       "    </tr>\n",
       "    <tr>\n",
       "      <th>15</th>\n",
       "      <td>EE.BK</td>\n",
       "      <td>EMA</td>\n",
       "      <td>Netherlands</td>\n",
       "      <td>52.337248</td>\n",
       "      <td>4.886219</td>\n",
       "      <td>2</td>\n",
       "      <td>08/11/2022</td>\n",
       "    </tr>\n",
       "    <tr>\n",
       "      <th>16</th>\n",
       "      <td>EE.BK</td>\n",
       "      <td>European</td>\n",
       "      <td>Australia</td>\n",
       "      <td>-37.810937</td>\n",
       "      <td>144.972543</td>\n",
       "      <td>2</td>\n",
       "      <td>08/06/2022</td>\n",
       "    </tr>\n",
       "    <tr>\n",
       "      <th>17</th>\n",
       "      <td>EE.BK</td>\n",
       "      <td>Food Grade</td>\n",
       "      <td>Belgium</td>\n",
       "      <td>51.037608</td>\n",
       "      <td>3.742169</td>\n",
       "      <td>2</td>\n",
       "      <td>29/11/2022</td>\n",
       "    </tr>\n",
       "    <tr>\n",
       "      <th>18</th>\n",
       "      <td>EE.BK</td>\n",
       "      <td>GBS</td>\n",
       "      <td>Tunisia</td>\n",
       "      <td>33.776503</td>\n",
       "      <td>9.793063</td>\n",
       "      <td>2</td>\n",
       "      <td>08/06/2022</td>\n",
       "    </tr>\n",
       "    <tr>\n",
       "      <th>19</th>\n",
       "      <td>EE.BK</td>\n",
       "      <td>Groups</td>\n",
       "      <td>China</td>\n",
       "      <td>22.290302</td>\n",
       "      <td>114.208041</td>\n",
       "      <td>2</td>\n",
       "      <td>08/06/2022</td>\n",
       "    </tr>\n",
       "    <tr>\n",
       "      <th>20</th>\n",
       "      <td>EE.BK</td>\n",
       "      <td>Gui Hai Day</td>\n",
       "      <td>Japan</td>\n",
       "      <td>35.009714</td>\n",
       "      <td>135.763149</td>\n",
       "      <td>2</td>\n",
       "      <td>10/05/2022</td>\n",
       "    </tr>\n",
       "    <tr>\n",
       "      <th>21</th>\n",
       "      <td>EE.BK</td>\n",
       "      <td>Happiness</td>\n",
       "      <td>Philippines</td>\n",
       "      <td>14.735372</td>\n",
       "      <td>121.035277</td>\n",
       "      <td>2</td>\n",
       "      <td>10/05/2022</td>\n",
       "    </tr>\n",
       "    <tr>\n",
       "      <th>22</th>\n",
       "      <td>EE.BK</td>\n",
       "      <td>IFA</td>\n",
       "      <td>Nigeria</td>\n",
       "      <td>5.383333</td>\n",
       "      <td>7.650000</td>\n",
       "      <td>2</td>\n",
       "      <td>19/04/2022</td>\n",
       "    </tr>\n",
       "    <tr>\n",
       "      <th>23</th>\n",
       "      <td>EE.BK</td>\n",
       "      <td>IP</td>\n",
       "      <td>Peru</td>\n",
       "      <td>-6.869970</td>\n",
       "      <td>-75.045851</td>\n",
       "      <td>2</td>\n",
       "      <td>08/06/2022</td>\n",
       "    </tr>\n",
       "    <tr>\n",
       "      <th>24</th>\n",
       "      <td>EE.BK</td>\n",
       "      <td>JP</td>\n",
       "      <td>Japan</td>\n",
       "      <td>36.574844</td>\n",
       "      <td>139.239418</td>\n",
       "      <td>2</td>\n",
       "      <td>19/09/2022</td>\n",
       "    </tr>\n",
       "    <tr>\n",
       "      <th>25</th>\n",
       "      <td>EE.BK</td>\n",
       "      <td>JUTHA</td>\n",
       "      <td>Brazil</td>\n",
       "      <td>-23.988926</td>\n",
       "      <td>-47.235485</td>\n",
       "      <td>2</td>\n",
       "      <td>25/04/2022</td>\n",
       "    </tr>\n",
       "    <tr>\n",
       "      <th>26</th>\n",
       "      <td>EE.BK</td>\n",
       "      <td>K.W. Lew</td>\n",
       "      <td>Uganda</td>\n",
       "      <td>2.599463</td>\n",
       "      <td>30.889749</td>\n",
       "      <td>2</td>\n",
       "      <td>08/06/2022</td>\n",
       "    </tr>\n",
       "    <tr>\n",
       "      <th>27</th>\n",
       "      <td>EE.BK</td>\n",
       "      <td>KWM</td>\n",
       "      <td>Iran</td>\n",
       "      <td>38.146136</td>\n",
       "      <td>44.506862</td>\n",
       "      <td>4</td>\n",
       "      <td>08/06/2022</td>\n",
       "    </tr>\n",
       "    <tr>\n",
       "      <th>28</th>\n",
       "      <td>EE.BK</td>\n",
       "      <td>Lamphun Province</td>\n",
       "      <td>Thailand</td>\n",
       "      <td>18.266142</td>\n",
       "      <td>98.967490</td>\n",
       "      <td>2</td>\n",
       "      <td>08/06/2022</td>\n",
       "    </tr>\n",
       "    <tr>\n",
       "      <th>29</th>\n",
       "      <td>EE.BK</td>\n",
       "      <td>Medical Grade</td>\n",
       "      <td>United States</td>\n",
       "      <td>40.357536</td>\n",
       "      <td>-80.124915</td>\n",
       "      <td>2</td>\n",
       "      <td>29/11/2022</td>\n",
       "    </tr>\n",
       "    <tr>\n",
       "      <th>30</th>\n",
       "      <td>EE.BK</td>\n",
       "      <td>Monica</td>\n",
       "      <td>Brazil</td>\n",
       "      <td>-11.312197</td>\n",
       "      <td>-40.961513</td>\n",
       "      <td>4</td>\n",
       "      <td>25/04/2022</td>\n",
       "    </tr>\n",
       "    <tr>\n",
       "      <th>31</th>\n",
       "      <td>EE.BK</td>\n",
       "      <td>NP</td>\n",
       "      <td>Nepal</td>\n",
       "      <td>28.108393</td>\n",
       "      <td>84.091714</td>\n",
       "      <td>2</td>\n",
       "      <td>25/04/2022</td>\n",
       "    </tr>\n",
       "    <tr>\n",
       "      <th>32</th>\n",
       "      <td>EE.BK</td>\n",
       "      <td>NR</td>\n",
       "      <td>Nauru</td>\n",
       "      <td>-0.525231</td>\n",
       "      <td>166.932443</td>\n",
       "      <td>2</td>\n",
       "      <td>08/06/2022</td>\n",
       "    </tr>\n",
       "    <tr>\n",
       "      <th>33</th>\n",
       "      <td>EE.BK</td>\n",
       "      <td>Noo</td>\n",
       "      <td>Estonia</td>\n",
       "      <td>58.274251</td>\n",
       "      <td>26.536280</td>\n",
       "      <td>2</td>\n",
       "      <td>19/09/2022</td>\n",
       "    </tr>\n",
       "    <tr>\n",
       "      <th>34</th>\n",
       "      <td>EE.BK</td>\n",
       "      <td>Opening</td>\n",
       "      <td>United States</td>\n",
       "      <td>38.512258</td>\n",
       "      <td>-122.104901</td>\n",
       "      <td>2</td>\n",
       "      <td>12/05/2022</td>\n",
       "    </tr>\n",
       "    <tr>\n",
       "      <th>35</th>\n",
       "      <td>EE.BK</td>\n",
       "      <td>Performance</td>\n",
       "      <td>United States</td>\n",
       "      <td>31.866674</td>\n",
       "      <td>-102.326627</td>\n",
       "      <td>2</td>\n",
       "      <td>08/02/2023</td>\n",
       "    </tr>\n",
       "    <tr>\n",
       "      <th>36</th>\n",
       "      <td>EE.BK</td>\n",
       "      <td>Reporters</td>\n",
       "      <td>United States</td>\n",
       "      <td>37.343534</td>\n",
       "      <td>-121.929723</td>\n",
       "      <td>2</td>\n",
       "      <td>08/06/2022</td>\n",
       "    </tr>\n",
       "    <tr>\n",
       "      <th>37</th>\n",
       "      <td>EE.BK</td>\n",
       "      <td>Research Division</td>\n",
       "      <td>Pakistan</td>\n",
       "      <td>24.945416</td>\n",
       "      <td>67.137896</td>\n",
       "      <td>2</td>\n",
       "      <td>08/06/2022</td>\n",
       "    </tr>\n",
       "    <tr>\n",
       "      <th>38</th>\n",
       "      <td>EE.BK</td>\n",
       "      <td>SEC</td>\n",
       "      <td>Czechia</td>\n",
       "      <td>49.847353</td>\n",
       "      <td>15.657111</td>\n",
       "      <td>4</td>\n",
       "      <td>06/05/2022</td>\n",
       "    </tr>\n",
       "    <tr>\n",
       "      <th>39</th>\n",
       "      <td>EE.BK</td>\n",
       "      <td>Saraburi Province</td>\n",
       "      <td>Thailand</td>\n",
       "      <td>14.624056</td>\n",
       "      <td>100.860102</td>\n",
       "      <td>4</td>\n",
       "      <td>20/06/2022</td>\n",
       "    </tr>\n",
       "    <tr>\n",
       "      <th>40</th>\n",
       "      <td>EE.BK</td>\n",
       "      <td>Saraburi province</td>\n",
       "      <td>Thailand</td>\n",
       "      <td>14.624056</td>\n",
       "      <td>100.860102</td>\n",
       "      <td>2</td>\n",
       "      <td>20/06/2022</td>\n",
       "    </tr>\n",
       "    <tr>\n",
       "      <th>41</th>\n",
       "      <td>EE.BK</td>\n",
       "      <td>Southeast Asia</td>\n",
       "      <td>Singapore</td>\n",
       "      <td>1.336455</td>\n",
       "      <td>103.867421</td>\n",
       "      <td>2</td>\n",
       "      <td>20/06/2022</td>\n",
       "    </tr>\n",
       "    <tr>\n",
       "      <th>42</th>\n",
       "      <td>EE.BK</td>\n",
       "      <td>Subsidiary</td>\n",
       "      <td>China</td>\n",
       "      <td>22.459882</td>\n",
       "      <td>114.260568</td>\n",
       "      <td>2</td>\n",
       "      <td>13/05/2022</td>\n",
       "    </tr>\n",
       "    <tr>\n",
       "      <th>43</th>\n",
       "      <td>EE.BK</td>\n",
       "      <td>Support 0.67</td>\n",
       "      <td>Guyana</td>\n",
       "      <td>6.625755</td>\n",
       "      <td>-58.204976</td>\n",
       "      <td>2</td>\n",
       "      <td>08/11/2022</td>\n",
       "    </tr>\n",
       "    <tr>\n",
       "      <th>44</th>\n",
       "      <td>EE.BK</td>\n",
       "      <td>THC</td>\n",
       "      <td>Canada</td>\n",
       "      <td>49.591007</td>\n",
       "      <td>-125.019324</td>\n",
       "      <td>4</td>\n",
       "      <td>19/09/2022</td>\n",
       "    </tr>\n",
       "    <tr>\n",
       "      <th>45</th>\n",
       "      <td>EE.BK</td>\n",
       "      <td>TMC</td>\n",
       "      <td>Portugal</td>\n",
       "      <td>41.173950</td>\n",
       "      <td>-7.052616</td>\n",
       "      <td>2</td>\n",
       "      <td>08/02/2023</td>\n",
       "    </tr>\n",
       "    <tr>\n",
       "      <th>46</th>\n",
       "      <td>EE.BK</td>\n",
       "      <td>Thai</td>\n",
       "      <td>India</td>\n",
       "      <td>30.018988</td>\n",
       "      <td>79.646066</td>\n",
       "      <td>4</td>\n",
       "      <td>25/04/2022</td>\n",
       "    </tr>\n",
       "    <tr>\n",
       "      <th>47</th>\n",
       "      <td>EE.BK</td>\n",
       "      <td>Thailand</td>\n",
       "      <td>Thailand</td>\n",
       "      <td>14.897192</td>\n",
       "      <td>100.832730</td>\n",
       "      <td>10</td>\n",
       "      <td>20/06/2022</td>\n",
       "    </tr>\n",
       "    <tr>\n",
       "      <th>48</th>\n",
       "      <td>EE.BK</td>\n",
       "      <td>UPA</td>\n",
       "      <td>Russia</td>\n",
       "      <td>54.726141</td>\n",
       "      <td>55.947499</td>\n",
       "      <td>2</td>\n",
       "      <td>12/05/2022</td>\n",
       "    </tr>\n",
       "    <tr>\n",
       "      <th>49</th>\n",
       "      <td>EE.BK</td>\n",
       "      <td>Valley</td>\n",
       "      <td>United States</td>\n",
       "      <td>41.559572</td>\n",
       "      <td>-98.980548</td>\n",
       "      <td>2</td>\n",
       "      <td>29/11/2022</td>\n",
       "    </tr>\n",
       "    <tr>\n",
       "      <th>50</th>\n",
       "      <td>EE.BK</td>\n",
       "      <td>Way Valley</td>\n",
       "      <td>Uganda</td>\n",
       "      <td>2.759268</td>\n",
       "      <td>32.223941</td>\n",
       "      <td>2</td>\n",
       "      <td>20/06/2022</td>\n",
       "    </tr>\n",
       "    <tr>\n",
       "      <th>51</th>\n",
       "      <td>EE.BK</td>\n",
       "      <td>Wihan Daeng District</td>\n",
       "      <td>Thailand</td>\n",
       "      <td>14.366146</td>\n",
       "      <td>100.568580</td>\n",
       "      <td>2</td>\n",
       "      <td>29/11/2022</td>\n",
       "    </tr>\n",
       "    <tr>\n",
       "      <th>52</th>\n",
       "      <td>EE.BK</td>\n",
       "      <td>XO</td>\n",
       "      <td>Laos</td>\n",
       "      <td>18.316759</td>\n",
       "      <td>102.108289</td>\n",
       "      <td>2</td>\n",
       "      <td>19/09/2022</td>\n",
       "    </tr>\n",
       "  </tbody>\n",
       "</table>\n",
       "</div>"
      ],
      "text/plain": [
       "   Symbol                 Lname        Country   Latitude   Longitude  size  \\\n",
       "0   EE.BK              AI + IoT        Ireland  51.846762   -8.471472     2   \n",
       "1   EE.BK                  ASPS           Iran  38.001496   46.119767     2   \n",
       "2   EE.BK              American  United States  31.951027 -102.167630     2   \n",
       "3   EE.BK                    BC         Canada  55.001251 -125.002441     2   \n",
       "4   EE.BK        Beauty Company        Austria  48.190201   16.337749     2   \n",
       "5   EE.BK                   CBD          India   9.156225   92.821517     2   \n",
       "6   EE.BK                   CNS      Australia -16.877789  145.751550     2   \n",
       "7   EE.BK              COVID-19         Serbia  43.858741   19.840092     2   \n",
       "8   EE.BK                    CW      Indonesia  -6.242439  106.858684     2   \n",
       "9   EE.BK              Cannabis       Slovenia  46.560457   15.654405     2   \n",
       "10  EE.BK              Cannabiz  United States  43.811451  -91.252016     4   \n",
       "11  EE.BK                 China          China  35.000074  104.999927     2   \n",
       "12  EE.BK               Chinese      Indonesia  -8.430589  115.233686     2   \n",
       "13  EE.BK               Company       Thailand  12.372517   99.883757     6   \n",
       "14  EE.BK                   DOD          India  30.470574   75.015394     2   \n",
       "15  EE.BK                   EMA    Netherlands  52.337248    4.886219     2   \n",
       "16  EE.BK              European      Australia -37.810937  144.972543     2   \n",
       "17  EE.BK            Food Grade        Belgium  51.037608    3.742169     2   \n",
       "18  EE.BK                   GBS        Tunisia  33.776503    9.793063     2   \n",
       "19  EE.BK                Groups          China  22.290302  114.208041     2   \n",
       "20  EE.BK           Gui Hai Day          Japan  35.009714  135.763149     2   \n",
       "21  EE.BK             Happiness    Philippines  14.735372  121.035277     2   \n",
       "22  EE.BK                   IFA        Nigeria   5.383333    7.650000     2   \n",
       "23  EE.BK                    IP           Peru  -6.869970  -75.045851     2   \n",
       "24  EE.BK                    JP          Japan  36.574844  139.239418     2   \n",
       "25  EE.BK                 JUTHA         Brazil -23.988926  -47.235485     2   \n",
       "26  EE.BK              K.W. Lew         Uganda   2.599463   30.889749     2   \n",
       "27  EE.BK                   KWM           Iran  38.146136   44.506862     4   \n",
       "28  EE.BK      Lamphun Province       Thailand  18.266142   98.967490     2   \n",
       "29  EE.BK         Medical Grade  United States  40.357536  -80.124915     2   \n",
       "30  EE.BK                Monica         Brazil -11.312197  -40.961513     4   \n",
       "31  EE.BK                    NP          Nepal  28.108393   84.091714     2   \n",
       "32  EE.BK                    NR          Nauru  -0.525231  166.932443     2   \n",
       "33  EE.BK                   Noo        Estonia  58.274251   26.536280     2   \n",
       "34  EE.BK               Opening  United States  38.512258 -122.104901     2   \n",
       "35  EE.BK           Performance  United States  31.866674 -102.326627     2   \n",
       "36  EE.BK             Reporters  United States  37.343534 -121.929723     2   \n",
       "37  EE.BK     Research Division       Pakistan  24.945416   67.137896     2   \n",
       "38  EE.BK                   SEC        Czechia  49.847353   15.657111     4   \n",
       "39  EE.BK     Saraburi Province       Thailand  14.624056  100.860102     4   \n",
       "40  EE.BK     Saraburi province       Thailand  14.624056  100.860102     2   \n",
       "41  EE.BK        Southeast Asia      Singapore   1.336455  103.867421     2   \n",
       "42  EE.BK            Subsidiary          China  22.459882  114.260568     2   \n",
       "43  EE.BK          Support 0.67         Guyana   6.625755  -58.204976     2   \n",
       "44  EE.BK                   THC         Canada  49.591007 -125.019324     4   \n",
       "45  EE.BK                   TMC       Portugal  41.173950   -7.052616     2   \n",
       "46  EE.BK                  Thai          India  30.018988   79.646066     4   \n",
       "47  EE.BK              Thailand       Thailand  14.897192  100.832730    10   \n",
       "48  EE.BK                   UPA         Russia  54.726141   55.947499     2   \n",
       "49  EE.BK                Valley  United States  41.559572  -98.980548     2   \n",
       "50  EE.BK            Way Valley         Uganda   2.759268   32.223941     2   \n",
       "51  EE.BK  Wihan Daeng District       Thailand  14.366146  100.568580     2   \n",
       "52  EE.BK                    XO           Laos  18.316759  102.108289     2   \n",
       "\n",
       "          Date  \n",
       "0   29/11/2022  \n",
       "1   08/06/2022  \n",
       "2   08/06/2022  \n",
       "3   08/06/2022  \n",
       "4   19/09/2022  \n",
       "5   08/06/2022  \n",
       "6   08/06/2022  \n",
       "7   08/06/2022  \n",
       "8   29/11/2022  \n",
       "9   19/09/2022  \n",
       "10  20/06/2022  \n",
       "11  08/02/2023  \n",
       "12  08/02/2023  \n",
       "13  29/11/2022  \n",
       "14  08/06/2022  \n",
       "15  08/11/2022  \n",
       "16  08/06/2022  \n",
       "17  29/11/2022  \n",
       "18  08/06/2022  \n",
       "19  08/06/2022  \n",
       "20  10/05/2022  \n",
       "21  10/05/2022  \n",
       "22  19/04/2022  \n",
       "23  08/06/2022  \n",
       "24  19/09/2022  \n",
       "25  25/04/2022  \n",
       "26  08/06/2022  \n",
       "27  08/06/2022  \n",
       "28  08/06/2022  \n",
       "29  29/11/2022  \n",
       "30  25/04/2022  \n",
       "31  25/04/2022  \n",
       "32  08/06/2022  \n",
       "33  19/09/2022  \n",
       "34  12/05/2022  \n",
       "35  08/02/2023  \n",
       "36  08/06/2022  \n",
       "37  08/06/2022  \n",
       "38  06/05/2022  \n",
       "39  20/06/2022  \n",
       "40  20/06/2022  \n",
       "41  20/06/2022  \n",
       "42  13/05/2022  \n",
       "43  08/11/2022  \n",
       "44  19/09/2022  \n",
       "45  08/02/2023  \n",
       "46  25/04/2022  \n",
       "47  20/06/2022  \n",
       "48  12/05/2022  \n",
       "49  29/11/2022  \n",
       "50  20/06/2022  \n",
       "51  29/11/2022  \n",
       "52  19/09/2022  "
      ]
     },
     "execution_count": 2,
     "metadata": {},
     "output_type": "execute_result"
    }
   ],
   "source": [
    "df"
   ]
  },
  {
   "cell_type": "code",
   "execution_count": 44,
   "metadata": {},
   "outputs": [],
   "source": [
    "# {location.latitude}, {location.longitude}\n",
    "def latitude_label(row):\n",
    "\n",
    "    n = row.split(',')\n",
    "\n",
    "    return float(n[0][1:])\n",
    "\n",
    "def longitude_label(row):\n",
    "\n",
    "    n = row.split(',')\n",
    "\n",
    "    return float(n[1][:-1])\n"
   ]
  },
  {
   "cell_type": "code",
   "execution_count": 6,
   "metadata": {},
   "outputs": [],
   "source": [
    "df['Latitude'] = df['point'].apply (lambda row: latitude_label(row))\n",
    "df['Longitude'] = df['point'].apply (lambda row: longitude_label(row))"
   ]
  },
  {
   "cell_type": "code",
   "execution_count": 9,
   "metadata": {},
   "outputs": [
    {
     "data": {
      "application/vnd.plotly.v1+json": {
       "config": {
        "plotlyServerURL": "https://plot.ly"
       },
       "data": [
        {
         "geo": "geo",
         "hovertemplate": "<b>%{hovertext}</b><br><br>lat=%{lat}<br>lon=%{lon}<extra></extra>",
         "hovertext": [
          "AI + IoT",
          "ASPS",
          "American",
          "BC",
          "Beauty Company",
          "CBD",
          "CNS",
          "COVID-19",
          "CW",
          "Cannabis",
          "Cannabiz",
          "China",
          "Chinese",
          "Company",
          "DOD",
          "EMA",
          "European",
          "Food Grade",
          "GBS",
          "Groups",
          "Gui Hai Day",
          "Happiness",
          "IFA",
          "IP",
          "JP",
          "JUTHA",
          "K.W. Lew",
          "KWM",
          "Lamphun Province",
          "Medical Grade",
          "Monica",
          "NP",
          "NR",
          "Noo",
          "Opening",
          "Performance",
          "Reporters",
          "Research Division",
          "SEC",
          "Saraburi Province",
          "Saraburi province",
          "Southeast Asia",
          "Subsidiary",
          "Support 0.67",
          "THC",
          "TMC",
          "Thai",
          "Thailand",
          "UPA",
          "Valley",
          "Way Valley",
          "Wihan Daeng District",
          "XO"
         ],
         "lat": [
          51.8467621,
          38.0014958,
          31.9510266,
          55.001251,
          48.1902006,
          9.156225,
          -16.877789200000002,
          43.8587408,
          -6.2424394,
          46.5604565,
          43.8114512,
          35.000074,
          -8.4305889,
          12.372517250000001,
          30.4705741,
          52.3372479,
          -37.810937,
          51.0376078,
          33.7765032,
          22.29030195,
          35.009714,
          14.7353718,
          5.383333,
          -6.8699697,
          36.5748441,
          -23.9889259,
          2.5994626,
          38.1461356,
          18.2661422,
          40.3575362,
          -11.3121972,
          28.1083929,
          -0.5252306,
          58.274251199999995,
          38.51225825,
          31.8666738,
          37.3435336,
          24.9454161,
          49.8473534,
          14.6240563,
          14.6240563,
          1.33645505,
          22.4598815,
          6.62575505,
          49.5910074,
          41.1739499,
          30.018988,
          14.8971921,
          54.7261409,
          41.5595723,
          2.759268,
          14.3661458,
          18.3167587
         ],
         "legendgroup": "",
         "lon": [
          -8.4714723,
          46.1197671,
          -102.16763,
          -125.002441,
          16.3377487,
          92.8215167,
          145.75154952736838,
          19.8400917,
          106.8586843,
          15.6544045,
          -91.2520161,
          104.999927,
          115.23368569206687,
          99.88375680264068,
          75.0153941,
          4.8862188,
          144.972543,
          3.7421693,
          9.793062965576159,
          114.20804070459482,
          135.7631493,
          121.0352773,
          7.65,
          -75.0458515,
          139.2394179,
          -47.2354849,
          30.8897488,
          44.5068619,
          98.96749,
          -80.12491490132254,
          -40.9615134,
          84.0917139,
          166.9324426,
          26.536279847414058,
          -122.10490144272069,
          -102.3266274,
          -121.929723,
          67.1378956,
          15.6571108,
          100.8601022,
          100.8601022,
          103.86742112020298,
          114.26056778957098,
          -58.204976424926315,
          -125.019324,
          -7.0526159,
          79.6460662,
          100.83273,
          55.947499,
          -98.9805484,
          32.2239411,
          100.5685802,
          102.1082886
         ],
         "marker": {
          "color": "#636efa",
          "symbol": "circle"
         },
         "mode": "markers",
         "name": "",
         "showlegend": false,
         "type": "scattergeo"
        }
       ],
       "layout": {
        "geo": {
         "center": {},
         "domain": {
          "x": [
           0,
           1
          ],
          "y": [
           0,
           1
          ]
         }
        },
        "legend": {
         "tracegroupgap": 0
        },
        "margin": {
         "t": 60
        },
        "template": {
         "data": {
          "bar": [
           {
            "error_x": {
             "color": "#2a3f5f"
            },
            "error_y": {
             "color": "#2a3f5f"
            },
            "marker": {
             "line": {
              "color": "#E5ECF6",
              "width": 0.5
             },
             "pattern": {
              "fillmode": "overlay",
              "size": 10,
              "solidity": 0.2
             }
            },
            "type": "bar"
           }
          ],
          "barpolar": [
           {
            "marker": {
             "line": {
              "color": "#E5ECF6",
              "width": 0.5
             },
             "pattern": {
              "fillmode": "overlay",
              "size": 10,
              "solidity": 0.2
             }
            },
            "type": "barpolar"
           }
          ],
          "carpet": [
           {
            "aaxis": {
             "endlinecolor": "#2a3f5f",
             "gridcolor": "white",
             "linecolor": "white",
             "minorgridcolor": "white",
             "startlinecolor": "#2a3f5f"
            },
            "baxis": {
             "endlinecolor": "#2a3f5f",
             "gridcolor": "white",
             "linecolor": "white",
             "minorgridcolor": "white",
             "startlinecolor": "#2a3f5f"
            },
            "type": "carpet"
           }
          ],
          "choropleth": [
           {
            "colorbar": {
             "outlinewidth": 0,
             "ticks": ""
            },
            "type": "choropleth"
           }
          ],
          "contour": [
           {
            "colorbar": {
             "outlinewidth": 0,
             "ticks": ""
            },
            "colorscale": [
             [
              0,
              "#0d0887"
             ],
             [
              0.1111111111111111,
              "#46039f"
             ],
             [
              0.2222222222222222,
              "#7201a8"
             ],
             [
              0.3333333333333333,
              "#9c179e"
             ],
             [
              0.4444444444444444,
              "#bd3786"
             ],
             [
              0.5555555555555556,
              "#d8576b"
             ],
             [
              0.6666666666666666,
              "#ed7953"
             ],
             [
              0.7777777777777778,
              "#fb9f3a"
             ],
             [
              0.8888888888888888,
              "#fdca26"
             ],
             [
              1,
              "#f0f921"
             ]
            ],
            "type": "contour"
           }
          ],
          "contourcarpet": [
           {
            "colorbar": {
             "outlinewidth": 0,
             "ticks": ""
            },
            "type": "contourcarpet"
           }
          ],
          "heatmap": [
           {
            "colorbar": {
             "outlinewidth": 0,
             "ticks": ""
            },
            "colorscale": [
             [
              0,
              "#0d0887"
             ],
             [
              0.1111111111111111,
              "#46039f"
             ],
             [
              0.2222222222222222,
              "#7201a8"
             ],
             [
              0.3333333333333333,
              "#9c179e"
             ],
             [
              0.4444444444444444,
              "#bd3786"
             ],
             [
              0.5555555555555556,
              "#d8576b"
             ],
             [
              0.6666666666666666,
              "#ed7953"
             ],
             [
              0.7777777777777778,
              "#fb9f3a"
             ],
             [
              0.8888888888888888,
              "#fdca26"
             ],
             [
              1,
              "#f0f921"
             ]
            ],
            "type": "heatmap"
           }
          ],
          "heatmapgl": [
           {
            "colorbar": {
             "outlinewidth": 0,
             "ticks": ""
            },
            "colorscale": [
             [
              0,
              "#0d0887"
             ],
             [
              0.1111111111111111,
              "#46039f"
             ],
             [
              0.2222222222222222,
              "#7201a8"
             ],
             [
              0.3333333333333333,
              "#9c179e"
             ],
             [
              0.4444444444444444,
              "#bd3786"
             ],
             [
              0.5555555555555556,
              "#d8576b"
             ],
             [
              0.6666666666666666,
              "#ed7953"
             ],
             [
              0.7777777777777778,
              "#fb9f3a"
             ],
             [
              0.8888888888888888,
              "#fdca26"
             ],
             [
              1,
              "#f0f921"
             ]
            ],
            "type": "heatmapgl"
           }
          ],
          "histogram": [
           {
            "marker": {
             "pattern": {
              "fillmode": "overlay",
              "size": 10,
              "solidity": 0.2
             }
            },
            "type": "histogram"
           }
          ],
          "histogram2d": [
           {
            "colorbar": {
             "outlinewidth": 0,
             "ticks": ""
            },
            "colorscale": [
             [
              0,
              "#0d0887"
             ],
             [
              0.1111111111111111,
              "#46039f"
             ],
             [
              0.2222222222222222,
              "#7201a8"
             ],
             [
              0.3333333333333333,
              "#9c179e"
             ],
             [
              0.4444444444444444,
              "#bd3786"
             ],
             [
              0.5555555555555556,
              "#d8576b"
             ],
             [
              0.6666666666666666,
              "#ed7953"
             ],
             [
              0.7777777777777778,
              "#fb9f3a"
             ],
             [
              0.8888888888888888,
              "#fdca26"
             ],
             [
              1,
              "#f0f921"
             ]
            ],
            "type": "histogram2d"
           }
          ],
          "histogram2dcontour": [
           {
            "colorbar": {
             "outlinewidth": 0,
             "ticks": ""
            },
            "colorscale": [
             [
              0,
              "#0d0887"
             ],
             [
              0.1111111111111111,
              "#46039f"
             ],
             [
              0.2222222222222222,
              "#7201a8"
             ],
             [
              0.3333333333333333,
              "#9c179e"
             ],
             [
              0.4444444444444444,
              "#bd3786"
             ],
             [
              0.5555555555555556,
              "#d8576b"
             ],
             [
              0.6666666666666666,
              "#ed7953"
             ],
             [
              0.7777777777777778,
              "#fb9f3a"
             ],
             [
              0.8888888888888888,
              "#fdca26"
             ],
             [
              1,
              "#f0f921"
             ]
            ],
            "type": "histogram2dcontour"
           }
          ],
          "mesh3d": [
           {
            "colorbar": {
             "outlinewidth": 0,
             "ticks": ""
            },
            "type": "mesh3d"
           }
          ],
          "parcoords": [
           {
            "line": {
             "colorbar": {
              "outlinewidth": 0,
              "ticks": ""
             }
            },
            "type": "parcoords"
           }
          ],
          "pie": [
           {
            "automargin": true,
            "type": "pie"
           }
          ],
          "scatter": [
           {
            "marker": {
             "colorbar": {
              "outlinewidth": 0,
              "ticks": ""
             }
            },
            "type": "scatter"
           }
          ],
          "scatter3d": [
           {
            "line": {
             "colorbar": {
              "outlinewidth": 0,
              "ticks": ""
             }
            },
            "marker": {
             "colorbar": {
              "outlinewidth": 0,
              "ticks": ""
             }
            },
            "type": "scatter3d"
           }
          ],
          "scattercarpet": [
           {
            "marker": {
             "colorbar": {
              "outlinewidth": 0,
              "ticks": ""
             }
            },
            "type": "scattercarpet"
           }
          ],
          "scattergeo": [
           {
            "marker": {
             "colorbar": {
              "outlinewidth": 0,
              "ticks": ""
             }
            },
            "type": "scattergeo"
           }
          ],
          "scattergl": [
           {
            "marker": {
             "colorbar": {
              "outlinewidth": 0,
              "ticks": ""
             }
            },
            "type": "scattergl"
           }
          ],
          "scattermapbox": [
           {
            "marker": {
             "colorbar": {
              "outlinewidth": 0,
              "ticks": ""
             }
            },
            "type": "scattermapbox"
           }
          ],
          "scatterpolar": [
           {
            "marker": {
             "colorbar": {
              "outlinewidth": 0,
              "ticks": ""
             }
            },
            "type": "scatterpolar"
           }
          ],
          "scatterpolargl": [
           {
            "marker": {
             "colorbar": {
              "outlinewidth": 0,
              "ticks": ""
             }
            },
            "type": "scatterpolargl"
           }
          ],
          "scatterternary": [
           {
            "marker": {
             "colorbar": {
              "outlinewidth": 0,
              "ticks": ""
             }
            },
            "type": "scatterternary"
           }
          ],
          "surface": [
           {
            "colorbar": {
             "outlinewidth": 0,
             "ticks": ""
            },
            "colorscale": [
             [
              0,
              "#0d0887"
             ],
             [
              0.1111111111111111,
              "#46039f"
             ],
             [
              0.2222222222222222,
              "#7201a8"
             ],
             [
              0.3333333333333333,
              "#9c179e"
             ],
             [
              0.4444444444444444,
              "#bd3786"
             ],
             [
              0.5555555555555556,
              "#d8576b"
             ],
             [
              0.6666666666666666,
              "#ed7953"
             ],
             [
              0.7777777777777778,
              "#fb9f3a"
             ],
             [
              0.8888888888888888,
              "#fdca26"
             ],
             [
              1,
              "#f0f921"
             ]
            ],
            "type": "surface"
           }
          ],
          "table": [
           {
            "cells": {
             "fill": {
              "color": "#EBF0F8"
             },
             "line": {
              "color": "white"
             }
            },
            "header": {
             "fill": {
              "color": "#C8D4E3"
             },
             "line": {
              "color": "white"
             }
            },
            "type": "table"
           }
          ]
         },
         "layout": {
          "annotationdefaults": {
           "arrowcolor": "#2a3f5f",
           "arrowhead": 0,
           "arrowwidth": 1
          },
          "autotypenumbers": "strict",
          "coloraxis": {
           "colorbar": {
            "outlinewidth": 0,
            "ticks": ""
           }
          },
          "colorscale": {
           "diverging": [
            [
             0,
             "#8e0152"
            ],
            [
             0.1,
             "#c51b7d"
            ],
            [
             0.2,
             "#de77ae"
            ],
            [
             0.3,
             "#f1b6da"
            ],
            [
             0.4,
             "#fde0ef"
            ],
            [
             0.5,
             "#f7f7f7"
            ],
            [
             0.6,
             "#e6f5d0"
            ],
            [
             0.7,
             "#b8e186"
            ],
            [
             0.8,
             "#7fbc41"
            ],
            [
             0.9,
             "#4d9221"
            ],
            [
             1,
             "#276419"
            ]
           ],
           "sequential": [
            [
             0,
             "#0d0887"
            ],
            [
             0.1111111111111111,
             "#46039f"
            ],
            [
             0.2222222222222222,
             "#7201a8"
            ],
            [
             0.3333333333333333,
             "#9c179e"
            ],
            [
             0.4444444444444444,
             "#bd3786"
            ],
            [
             0.5555555555555556,
             "#d8576b"
            ],
            [
             0.6666666666666666,
             "#ed7953"
            ],
            [
             0.7777777777777778,
             "#fb9f3a"
            ],
            [
             0.8888888888888888,
             "#fdca26"
            ],
            [
             1,
             "#f0f921"
            ]
           ],
           "sequentialminus": [
            [
             0,
             "#0d0887"
            ],
            [
             0.1111111111111111,
             "#46039f"
            ],
            [
             0.2222222222222222,
             "#7201a8"
            ],
            [
             0.3333333333333333,
             "#9c179e"
            ],
            [
             0.4444444444444444,
             "#bd3786"
            ],
            [
             0.5555555555555556,
             "#d8576b"
            ],
            [
             0.6666666666666666,
             "#ed7953"
            ],
            [
             0.7777777777777778,
             "#fb9f3a"
            ],
            [
             0.8888888888888888,
             "#fdca26"
            ],
            [
             1,
             "#f0f921"
            ]
           ]
          },
          "colorway": [
           "#636efa",
           "#EF553B",
           "#00cc96",
           "#ab63fa",
           "#FFA15A",
           "#19d3f3",
           "#FF6692",
           "#B6E880",
           "#FF97FF",
           "#FECB52"
          ],
          "font": {
           "color": "#2a3f5f"
          },
          "geo": {
           "bgcolor": "white",
           "lakecolor": "white",
           "landcolor": "#E5ECF6",
           "showlakes": true,
           "showland": true,
           "subunitcolor": "white"
          },
          "hoverlabel": {
           "align": "left"
          },
          "hovermode": "closest",
          "mapbox": {
           "style": "light"
          },
          "paper_bgcolor": "white",
          "plot_bgcolor": "#E5ECF6",
          "polar": {
           "angularaxis": {
            "gridcolor": "white",
            "linecolor": "white",
            "ticks": ""
           },
           "bgcolor": "#E5ECF6",
           "radialaxis": {
            "gridcolor": "white",
            "linecolor": "white",
            "ticks": ""
           }
          },
          "scene": {
           "xaxis": {
            "backgroundcolor": "#E5ECF6",
            "gridcolor": "white",
            "gridwidth": 2,
            "linecolor": "white",
            "showbackground": true,
            "ticks": "",
            "zerolinecolor": "white"
           },
           "yaxis": {
            "backgroundcolor": "#E5ECF6",
            "gridcolor": "white",
            "gridwidth": 2,
            "linecolor": "white",
            "showbackground": true,
            "ticks": "",
            "zerolinecolor": "white"
           },
           "zaxis": {
            "backgroundcolor": "#E5ECF6",
            "gridcolor": "white",
            "gridwidth": 2,
            "linecolor": "white",
            "showbackground": true,
            "ticks": "",
            "zerolinecolor": "white"
           }
          },
          "shapedefaults": {
           "line": {
            "color": "#2a3f5f"
           }
          },
          "ternary": {
           "aaxis": {
            "gridcolor": "white",
            "linecolor": "white",
            "ticks": ""
           },
           "baxis": {
            "gridcolor": "white",
            "linecolor": "white",
            "ticks": ""
           },
           "bgcolor": "#E5ECF6",
           "caxis": {
            "gridcolor": "white",
            "linecolor": "white",
            "ticks": ""
           }
          },
          "title": {
           "x": 0.05
          },
          "xaxis": {
           "automargin": true,
           "gridcolor": "white",
           "linecolor": "white",
           "ticks": "",
           "title": {
            "standoff": 15
           },
           "zerolinecolor": "white",
           "zerolinewidth": 2
          },
          "yaxis": {
           "automargin": true,
           "gridcolor": "white",
           "linecolor": "white",
           "ticks": "",
           "title": {
            "standoff": 15
           },
           "zerolinecolor": "white",
           "zerolinewidth": 2
          }
         }
        }
       }
      }
     },
     "metadata": {},
     "output_type": "display_data"
    }
   ],
   "source": [
    "import plotly.express as px\n",
    "import geopandas as gpd\n",
    "# import geoplot as gplt\n",
    "# ADVANC.BK\n",
    "gdf = gpd.GeoDataFrame(\n",
    "    df, geometry=gpd.points_from_xy(df.Longitude, df.Latitude))\n",
    "\n",
    "\n",
    "px.set_mapbox_access_token(gdf)\n",
    "fig = px.scatter_geo(gdf,\n",
    "                    lat=gdf.geometry.y,\n",
    "                    lon=gdf.geometry.x,\n",
    "                    hover_name=\"Lname\")\n",
    "fig.show()"
   ]
  },
  {
   "cell_type": "code",
   "execution_count": 10,
   "metadata": {},
   "outputs": [
    {
     "data": {
      "application/vnd.plotly.v1+json": {
       "config": {
        "plotlyServerURL": "https://plot.ly"
       },
       "data": [
        {
         "geo": "geo",
         "hovertemplate": "<b>%{hovertext}</b><br><br>size=%{marker.size}<br>lat=%{lat}<br>lon=%{lon}<extra></extra>",
         "hovertext": [
          "AI + IoT",
          "ASPS",
          "American",
          "BC",
          "Beauty Company",
          "CBD",
          "CNS",
          "COVID-19",
          "CW",
          "Cannabis",
          "Cannabiz",
          "China",
          "Chinese",
          "Company",
          "DOD",
          "EMA",
          "European",
          "Food Grade",
          "GBS",
          "Groups",
          "Gui Hai Day",
          "Happiness",
          "IFA",
          "IP",
          "JP",
          "JUTHA",
          "K.W. Lew",
          "KWM",
          "Lamphun Province",
          "Medical Grade",
          "Monica",
          "NP",
          "NR",
          "Noo",
          "Opening",
          "Performance",
          "Reporters",
          "Research Division",
          "SEC",
          "Saraburi Province",
          "Saraburi province",
          "Southeast Asia",
          "Subsidiary",
          "Support 0.67",
          "THC",
          "TMC",
          "Thai",
          "Thailand",
          "UPA",
          "Valley",
          "Way Valley",
          "Wihan Daeng District",
          "XO"
         ],
         "lat": [
          51.8467621,
          38.0014958,
          31.9510266,
          55.001251,
          48.1902006,
          9.156225,
          -16.877789200000002,
          43.8587408,
          -6.2424394,
          46.5604565,
          43.8114512,
          35.000074,
          -8.4305889,
          12.372517250000001,
          30.4705741,
          52.3372479,
          -37.810937,
          51.0376078,
          33.7765032,
          22.29030195,
          35.009714,
          14.7353718,
          5.383333,
          -6.8699697,
          36.5748441,
          -23.9889259,
          2.5994626,
          38.1461356,
          18.2661422,
          40.3575362,
          -11.3121972,
          28.1083929,
          -0.5252306,
          58.274251199999995,
          38.51225825,
          31.8666738,
          37.3435336,
          24.9454161,
          49.8473534,
          14.6240563,
          14.6240563,
          1.33645505,
          22.4598815,
          6.62575505,
          49.5910074,
          41.1739499,
          30.018988,
          14.8971921,
          54.7261409,
          41.5595723,
          2.759268,
          14.3661458,
          18.3167587
         ],
         "legendgroup": "",
         "lon": [
          -8.4714723,
          46.1197671,
          -102.16763,
          -125.002441,
          16.3377487,
          92.8215167,
          145.75154952736838,
          19.8400917,
          106.8586843,
          15.6544045,
          -91.2520161,
          104.999927,
          115.23368569206687,
          99.88375680264068,
          75.0153941,
          4.8862188,
          144.972543,
          3.7421693,
          9.793062965576159,
          114.20804070459482,
          135.7631493,
          121.0352773,
          7.65,
          -75.0458515,
          139.2394179,
          -47.2354849,
          30.8897488,
          44.5068619,
          98.96749,
          -80.12491490132254,
          -40.9615134,
          84.0917139,
          166.9324426,
          26.536279847414058,
          -122.10490144272069,
          -102.3266274,
          -121.929723,
          67.1378956,
          15.6571108,
          100.8601022,
          100.8601022,
          103.86742112020298,
          114.26056778957098,
          -58.204976424926315,
          -125.019324,
          -7.0526159,
          79.6460662,
          100.83273,
          55.947499,
          -98.9805484,
          32.2239411,
          100.5685802,
          102.1082886
         ],
         "marker": {
          "color": "#636efa",
          "size": [
           2,
           2,
           2,
           2,
           2,
           2,
           2,
           2,
           2,
           2,
           4,
           2,
           2,
           6,
           2,
           2,
           2,
           2,
           2,
           2,
           2,
           2,
           2,
           2,
           2,
           2,
           2,
           4,
           2,
           2,
           4,
           2,
           2,
           2,
           2,
           2,
           2,
           2,
           4,
           4,
           2,
           2,
           2,
           2,
           4,
           2,
           4,
           10,
           2,
           2,
           2,
           2,
           2
          ],
          "sizemode": "area",
          "sizeref": 0.025,
          "symbol": "circle"
         },
         "mode": "markers",
         "name": "",
         "showlegend": false,
         "type": "scattergeo"
        }
       ],
       "layout": {
        "geo": {
         "center": {},
         "domain": {
          "x": [
           0,
           1
          ],
          "y": [
           0,
           1
          ]
         },
         "projection": {
          "type": "natural earth"
         }
        },
        "legend": {
         "itemsizing": "constant",
         "tracegroupgap": 0
        },
        "margin": {
         "t": 60
        },
        "template": {
         "data": {
          "bar": [
           {
            "error_x": {
             "color": "#2a3f5f"
            },
            "error_y": {
             "color": "#2a3f5f"
            },
            "marker": {
             "line": {
              "color": "#E5ECF6",
              "width": 0.5
             },
             "pattern": {
              "fillmode": "overlay",
              "size": 10,
              "solidity": 0.2
             }
            },
            "type": "bar"
           }
          ],
          "barpolar": [
           {
            "marker": {
             "line": {
              "color": "#E5ECF6",
              "width": 0.5
             },
             "pattern": {
              "fillmode": "overlay",
              "size": 10,
              "solidity": 0.2
             }
            },
            "type": "barpolar"
           }
          ],
          "carpet": [
           {
            "aaxis": {
             "endlinecolor": "#2a3f5f",
             "gridcolor": "white",
             "linecolor": "white",
             "minorgridcolor": "white",
             "startlinecolor": "#2a3f5f"
            },
            "baxis": {
             "endlinecolor": "#2a3f5f",
             "gridcolor": "white",
             "linecolor": "white",
             "minorgridcolor": "white",
             "startlinecolor": "#2a3f5f"
            },
            "type": "carpet"
           }
          ],
          "choropleth": [
           {
            "colorbar": {
             "outlinewidth": 0,
             "ticks": ""
            },
            "type": "choropleth"
           }
          ],
          "contour": [
           {
            "colorbar": {
             "outlinewidth": 0,
             "ticks": ""
            },
            "colorscale": [
             [
              0,
              "#0d0887"
             ],
             [
              0.1111111111111111,
              "#46039f"
             ],
             [
              0.2222222222222222,
              "#7201a8"
             ],
             [
              0.3333333333333333,
              "#9c179e"
             ],
             [
              0.4444444444444444,
              "#bd3786"
             ],
             [
              0.5555555555555556,
              "#d8576b"
             ],
             [
              0.6666666666666666,
              "#ed7953"
             ],
             [
              0.7777777777777778,
              "#fb9f3a"
             ],
             [
              0.8888888888888888,
              "#fdca26"
             ],
             [
              1,
              "#f0f921"
             ]
            ],
            "type": "contour"
           }
          ],
          "contourcarpet": [
           {
            "colorbar": {
             "outlinewidth": 0,
             "ticks": ""
            },
            "type": "contourcarpet"
           }
          ],
          "heatmap": [
           {
            "colorbar": {
             "outlinewidth": 0,
             "ticks": ""
            },
            "colorscale": [
             [
              0,
              "#0d0887"
             ],
             [
              0.1111111111111111,
              "#46039f"
             ],
             [
              0.2222222222222222,
              "#7201a8"
             ],
             [
              0.3333333333333333,
              "#9c179e"
             ],
             [
              0.4444444444444444,
              "#bd3786"
             ],
             [
              0.5555555555555556,
              "#d8576b"
             ],
             [
              0.6666666666666666,
              "#ed7953"
             ],
             [
              0.7777777777777778,
              "#fb9f3a"
             ],
             [
              0.8888888888888888,
              "#fdca26"
             ],
             [
              1,
              "#f0f921"
             ]
            ],
            "type": "heatmap"
           }
          ],
          "heatmapgl": [
           {
            "colorbar": {
             "outlinewidth": 0,
             "ticks": ""
            },
            "colorscale": [
             [
              0,
              "#0d0887"
             ],
             [
              0.1111111111111111,
              "#46039f"
             ],
             [
              0.2222222222222222,
              "#7201a8"
             ],
             [
              0.3333333333333333,
              "#9c179e"
             ],
             [
              0.4444444444444444,
              "#bd3786"
             ],
             [
              0.5555555555555556,
              "#d8576b"
             ],
             [
              0.6666666666666666,
              "#ed7953"
             ],
             [
              0.7777777777777778,
              "#fb9f3a"
             ],
             [
              0.8888888888888888,
              "#fdca26"
             ],
             [
              1,
              "#f0f921"
             ]
            ],
            "type": "heatmapgl"
           }
          ],
          "histogram": [
           {
            "marker": {
             "pattern": {
              "fillmode": "overlay",
              "size": 10,
              "solidity": 0.2
             }
            },
            "type": "histogram"
           }
          ],
          "histogram2d": [
           {
            "colorbar": {
             "outlinewidth": 0,
             "ticks": ""
            },
            "colorscale": [
             [
              0,
              "#0d0887"
             ],
             [
              0.1111111111111111,
              "#46039f"
             ],
             [
              0.2222222222222222,
              "#7201a8"
             ],
             [
              0.3333333333333333,
              "#9c179e"
             ],
             [
              0.4444444444444444,
              "#bd3786"
             ],
             [
              0.5555555555555556,
              "#d8576b"
             ],
             [
              0.6666666666666666,
              "#ed7953"
             ],
             [
              0.7777777777777778,
              "#fb9f3a"
             ],
             [
              0.8888888888888888,
              "#fdca26"
             ],
             [
              1,
              "#f0f921"
             ]
            ],
            "type": "histogram2d"
           }
          ],
          "histogram2dcontour": [
           {
            "colorbar": {
             "outlinewidth": 0,
             "ticks": ""
            },
            "colorscale": [
             [
              0,
              "#0d0887"
             ],
             [
              0.1111111111111111,
              "#46039f"
             ],
             [
              0.2222222222222222,
              "#7201a8"
             ],
             [
              0.3333333333333333,
              "#9c179e"
             ],
             [
              0.4444444444444444,
              "#bd3786"
             ],
             [
              0.5555555555555556,
              "#d8576b"
             ],
             [
              0.6666666666666666,
              "#ed7953"
             ],
             [
              0.7777777777777778,
              "#fb9f3a"
             ],
             [
              0.8888888888888888,
              "#fdca26"
             ],
             [
              1,
              "#f0f921"
             ]
            ],
            "type": "histogram2dcontour"
           }
          ],
          "mesh3d": [
           {
            "colorbar": {
             "outlinewidth": 0,
             "ticks": ""
            },
            "type": "mesh3d"
           }
          ],
          "parcoords": [
           {
            "line": {
             "colorbar": {
              "outlinewidth": 0,
              "ticks": ""
             }
            },
            "type": "parcoords"
           }
          ],
          "pie": [
           {
            "automargin": true,
            "type": "pie"
           }
          ],
          "scatter": [
           {
            "marker": {
             "colorbar": {
              "outlinewidth": 0,
              "ticks": ""
             }
            },
            "type": "scatter"
           }
          ],
          "scatter3d": [
           {
            "line": {
             "colorbar": {
              "outlinewidth": 0,
              "ticks": ""
             }
            },
            "marker": {
             "colorbar": {
              "outlinewidth": 0,
              "ticks": ""
             }
            },
            "type": "scatter3d"
           }
          ],
          "scattercarpet": [
           {
            "marker": {
             "colorbar": {
              "outlinewidth": 0,
              "ticks": ""
             }
            },
            "type": "scattercarpet"
           }
          ],
          "scattergeo": [
           {
            "marker": {
             "colorbar": {
              "outlinewidth": 0,
              "ticks": ""
             }
            },
            "type": "scattergeo"
           }
          ],
          "scattergl": [
           {
            "marker": {
             "colorbar": {
              "outlinewidth": 0,
              "ticks": ""
             }
            },
            "type": "scattergl"
           }
          ],
          "scattermapbox": [
           {
            "marker": {
             "colorbar": {
              "outlinewidth": 0,
              "ticks": ""
             }
            },
            "type": "scattermapbox"
           }
          ],
          "scatterpolar": [
           {
            "marker": {
             "colorbar": {
              "outlinewidth": 0,
              "ticks": ""
             }
            },
            "type": "scatterpolar"
           }
          ],
          "scatterpolargl": [
           {
            "marker": {
             "colorbar": {
              "outlinewidth": 0,
              "ticks": ""
             }
            },
            "type": "scatterpolargl"
           }
          ],
          "scatterternary": [
           {
            "marker": {
             "colorbar": {
              "outlinewidth": 0,
              "ticks": ""
             }
            },
            "type": "scatterternary"
           }
          ],
          "surface": [
           {
            "colorbar": {
             "outlinewidth": 0,
             "ticks": ""
            },
            "colorscale": [
             [
              0,
              "#0d0887"
             ],
             [
              0.1111111111111111,
              "#46039f"
             ],
             [
              0.2222222222222222,
              "#7201a8"
             ],
             [
              0.3333333333333333,
              "#9c179e"
             ],
             [
              0.4444444444444444,
              "#bd3786"
             ],
             [
              0.5555555555555556,
              "#d8576b"
             ],
             [
              0.6666666666666666,
              "#ed7953"
             ],
             [
              0.7777777777777778,
              "#fb9f3a"
             ],
             [
              0.8888888888888888,
              "#fdca26"
             ],
             [
              1,
              "#f0f921"
             ]
            ],
            "type": "surface"
           }
          ],
          "table": [
           {
            "cells": {
             "fill": {
              "color": "#EBF0F8"
             },
             "line": {
              "color": "white"
             }
            },
            "header": {
             "fill": {
              "color": "#C8D4E3"
             },
             "line": {
              "color": "white"
             }
            },
            "type": "table"
           }
          ]
         },
         "layout": {
          "annotationdefaults": {
           "arrowcolor": "#2a3f5f",
           "arrowhead": 0,
           "arrowwidth": 1
          },
          "autotypenumbers": "strict",
          "coloraxis": {
           "colorbar": {
            "outlinewidth": 0,
            "ticks": ""
           }
          },
          "colorscale": {
           "diverging": [
            [
             0,
             "#8e0152"
            ],
            [
             0.1,
             "#c51b7d"
            ],
            [
             0.2,
             "#de77ae"
            ],
            [
             0.3,
             "#f1b6da"
            ],
            [
             0.4,
             "#fde0ef"
            ],
            [
             0.5,
             "#f7f7f7"
            ],
            [
             0.6,
             "#e6f5d0"
            ],
            [
             0.7,
             "#b8e186"
            ],
            [
             0.8,
             "#7fbc41"
            ],
            [
             0.9,
             "#4d9221"
            ],
            [
             1,
             "#276419"
            ]
           ],
           "sequential": [
            [
             0,
             "#0d0887"
            ],
            [
             0.1111111111111111,
             "#46039f"
            ],
            [
             0.2222222222222222,
             "#7201a8"
            ],
            [
             0.3333333333333333,
             "#9c179e"
            ],
            [
             0.4444444444444444,
             "#bd3786"
            ],
            [
             0.5555555555555556,
             "#d8576b"
            ],
            [
             0.6666666666666666,
             "#ed7953"
            ],
            [
             0.7777777777777778,
             "#fb9f3a"
            ],
            [
             0.8888888888888888,
             "#fdca26"
            ],
            [
             1,
             "#f0f921"
            ]
           ],
           "sequentialminus": [
            [
             0,
             "#0d0887"
            ],
            [
             0.1111111111111111,
             "#46039f"
            ],
            [
             0.2222222222222222,
             "#7201a8"
            ],
            [
             0.3333333333333333,
             "#9c179e"
            ],
            [
             0.4444444444444444,
             "#bd3786"
            ],
            [
             0.5555555555555556,
             "#d8576b"
            ],
            [
             0.6666666666666666,
             "#ed7953"
            ],
            [
             0.7777777777777778,
             "#fb9f3a"
            ],
            [
             0.8888888888888888,
             "#fdca26"
            ],
            [
             1,
             "#f0f921"
            ]
           ]
          },
          "colorway": [
           "#636efa",
           "#EF553B",
           "#00cc96",
           "#ab63fa",
           "#FFA15A",
           "#19d3f3",
           "#FF6692",
           "#B6E880",
           "#FF97FF",
           "#FECB52"
          ],
          "font": {
           "color": "#2a3f5f"
          },
          "geo": {
           "bgcolor": "white",
           "lakecolor": "white",
           "landcolor": "#E5ECF6",
           "showlakes": true,
           "showland": true,
           "subunitcolor": "white"
          },
          "hoverlabel": {
           "align": "left"
          },
          "hovermode": "closest",
          "mapbox": {
           "style": "light"
          },
          "paper_bgcolor": "white",
          "plot_bgcolor": "#E5ECF6",
          "polar": {
           "angularaxis": {
            "gridcolor": "white",
            "linecolor": "white",
            "ticks": ""
           },
           "bgcolor": "#E5ECF6",
           "radialaxis": {
            "gridcolor": "white",
            "linecolor": "white",
            "ticks": ""
           }
          },
          "scene": {
           "xaxis": {
            "backgroundcolor": "#E5ECF6",
            "gridcolor": "white",
            "gridwidth": 2,
            "linecolor": "white",
            "showbackground": true,
            "ticks": "",
            "zerolinecolor": "white"
           },
           "yaxis": {
            "backgroundcolor": "#E5ECF6",
            "gridcolor": "white",
            "gridwidth": 2,
            "linecolor": "white",
            "showbackground": true,
            "ticks": "",
            "zerolinecolor": "white"
           },
           "zaxis": {
            "backgroundcolor": "#E5ECF6",
            "gridcolor": "white",
            "gridwidth": 2,
            "linecolor": "white",
            "showbackground": true,
            "ticks": "",
            "zerolinecolor": "white"
           }
          },
          "shapedefaults": {
           "line": {
            "color": "#2a3f5f"
           }
          },
          "ternary": {
           "aaxis": {
            "gridcolor": "white",
            "linecolor": "white",
            "ticks": ""
           },
           "baxis": {
            "gridcolor": "white",
            "linecolor": "white",
            "ticks": ""
           },
           "bgcolor": "#E5ECF6",
           "caxis": {
            "gridcolor": "white",
            "linecolor": "white",
            "ticks": ""
           }
          },
          "title": {
           "x": 0.05
          },
          "xaxis": {
           "automargin": true,
           "gridcolor": "white",
           "linecolor": "white",
           "ticks": "",
           "title": {
            "standoff": 15
           },
           "zerolinecolor": "white",
           "zerolinewidth": 2
          },
          "yaxis": {
           "automargin": true,
           "gridcolor": "white",
           "linecolor": "white",
           "ticks": "",
           "title": {
            "standoff": 15
           },
           "zerolinecolor": "white",
           "zerolinewidth": 2
          }
         }
        }
       }
      }
     },
     "metadata": {},
     "output_type": "display_data"
    }
   ],
   "source": [
    "import plotly.express as px\n",
    "# df = px.data.gapminder()\n",
    "# color=\"Country\", ADVANC.BK,animation_frame=\"Date\",\n",
    "fig = px.scatter_geo(gdf,\n",
    "                    lat=gdf.geometry.y,\n",
    "                    lon=gdf.geometry.x,\n",
    "                    hover_name=\"Lname\",\n",
    "                    size=\"size\",\n",
    "                    \n",
    "                     projection=\"natural earth\")\n",
    "fig.show()\n"
   ]
  },
  {
   "cell_type": "code",
   "execution_count": null,
   "metadata": {},
   "outputs": [],
   "source": []
  },
  {
   "cell_type": "markdown",
   "metadata": {},
   "source": []
  },
  {
   "cell_type": "code",
   "execution_count": 14,
   "metadata": {},
   "outputs": [
    {
     "data": {
      "text/plain": [
       "<function Connection.close>"
      ]
     },
     "execution_count": 14,
     "metadata": {},
     "output_type": "execute_result"
    }
   ],
   "source": [
    "import sqlite3\n",
    "import pandas as pd\n",
    "sql = \"\"\" SELECT *\n",
    "From Location_in_News\n",
    "\"\"\"\n",
    "con = sqlite3.connect(r'C:\\Users\\JourneyQ\\OneDrive - kmutnb.ac.th\\Desktop\\Quick_file\\year_2-S_2\\Project_sofedev_2\\Manage_Share\\Database_convert\\share_V3.sqlite')\n",
    "cur = con.cursor()    \n",
    "df = pd.read_sql(sql, con)\n",
    "con.commit()\n",
    "con.close"
   ]
  },
  {
   "cell_type": "code",
   "execution_count": null,
   "metadata": {},
   "outputs": [],
   "source": []
  },
  {
   "cell_type": "code",
   "execution_count": 19,
   "metadata": {},
   "outputs": [],
   "source": [
    "df = df.sort_values(by=['Lname'])"
   ]
  },
  {
   "cell_type": "code",
   "execution_count": 20,
   "metadata": {},
   "outputs": [],
   "source": [
    "data = list(df.itertuples(index=False, name=None))"
   ]
  },
  {
   "cell_type": "code",
   "execution_count": null,
   "metadata": {},
   "outputs": [],
   "source": []
  },
  {
   "cell_type": "code",
   "execution_count": 36,
   "metadata": {},
   "outputs": [],
   "source": [
    "j = 0\n",
    "l = []\n",
    "for i in data:\n",
    "\n",
    "    l.append(i[0])\n",
    "    j+=1"
   ]
  },
  {
   "cell_type": "code",
   "execution_count": 39,
   "metadata": {},
   "outputs": [],
   "source": [
    "def filter_special_2(words):\n",
    "    # Define regular expression pattern to match words\n",
    "    word_filter = []\n",
    "\n",
    "    # Find all matches of the pattern in the text\n",
    "    for word in words :\n",
    "        s = 0\n",
    "        for ch in word:\n",
    "\n",
    "            if isinstance(ch , str) and ch.isnumeric(): s = 1\n",
    "\n",
    "        if s == 0: word_filter.append(word)\n",
    "                \n",
    "    return list(numpy.unique(word_filter))"
   ]
  },
  {
   "cell_type": "code",
   "execution_count": 40,
   "metadata": {},
   "outputs": [
    {
     "name": "stdout",
     "output_type": "stream",
     "text": [
      "['(The Independent', '-Dr', 'A', 'A.O. Smith', 'ABBV', 'ABBV', 'ABR', 'ABT', 'ACP', 'ADAS', 'ADM', 'ADR', 'AEGEAN', 'AEGEAN', 'AEON', 'AEON', 'AEON', 'AEON', 'AEON', 'AEON', 'AEON', 'AEON', 'AEON', 'AFL', 'AGCO', 'AGCO Corporation AGCO', 'AGM', 'AI', 'AI', 'AI', 'AI', 'AI', 'AI', 'AI', 'AI', 'AI', 'AI', 'AI', 'AI', 'AI', 'AI', 'AI', 'AI', 'AI', 'AI', 'AI', 'AI + IoT', 'AIS', 'AIS', 'AIS', 'AIS', 'AIS', 'AIS Business', 'AIS Fiber', 'AIS Fiber', 'AIS Insurance Service', 'ALK', 'ALS', 'AMSTERDAM', 'AMSTERDAM', 'ANET', 'ANET', 'ANI', 'AOS', 'AOV', 'AP', 'APA Corporation', 'APD', 'AQR Capital Management', 'AQR Capital Management', 'ARK Investment Management', 'ARR', 'ASEAN', 'ASIC', 'ASML Holding', 'ASML Holding N.V.', 'ASML.AS', 'ASML.AS', 'ASML.AS', 'ASML.AS', 'ASP', 'ASP', 'ASPS', 'AT&T', 'AT&T', 'AT&T', 'AT&T Inc.', 'AT&T Inc.', 'AT&T Inc.', 'ATL', 'ATLANTA', 'ATLANTA', 'ATM', 'AUM', 'AUM', 'AUM of', 'AWS', 'AWS', 'AWS', 'AXA Singapore', 'AXA Singapore', 'AXP', 'AXP', 'AYX', 'AZ', 'AZN.L', 'AZN.L', 'AZN.L', 'AbbVie', 'Abbott', 'Abbott Laboratories', 'Abu Dhabi Investment Authority', 'Academy', 'Academy Awards', 'Academy of Motion Picture Arts', 'Acceleron Pharma', 'Acrobat', 'Activision Blizzard', 'Adeva', 'Adobe', 'Adobe', 'Adobe', 'Adobe Inc.', 'Adobe Inc.', 'Adobe Inc.', 'Adobe Inc.', 'Adobe, Inc.', 'Adobe’s', 'Advanced Micro Devices', 'Advanced Micro Devices', 'Advanced Micro Devices', 'Advanced Micro Devices', 'Advanced Micro Devices', 'Advanced Micro Devices', 'Advanced Micro Devices', 'Advanced Micro Devices', 'Advise', 'Advise', 'Advocacy', 'Advocacy', 'Adyen', 'Aeon Thana Sinsap', 'Aeon Thana Sinsap', 'Aeon Thana Sinsap', 'AeroWorld', 'Aerospace', 'Aflac Incorporated', 'Africa', 'Africa', 'Africa', 'Africa', 'Agarwal', 'Agoda', 'AgriTech', 'Air Products & Chemicals, Inc.', 'Airbnb', 'Airbnb', 'Airdrop', 'Al Gore’s', 'Alaska Native', 'Alberto', 'Alberto Sessa', 'Alcon', 'Alexandria', 'Alexion', 'Alexion', 'Alger Capital', 'Alibaba', 'Alibaba', 'Alibaba', 'Align Technology Inc.', 'Allegro MicroSystems', 'Allen', 'Allergan', 'Alpha', 'Alphabet', 'Alphabet', 'Alphabet', 'Alphabet', 'Alphabet', 'Alphabet', 'Alphabet', 'Alphabet\\nAlphabet', 'Amata', 'Amata', 'Amata City', 'Amata City', 'Amata City Chonburi Industrial Estate', 'Amata City Industrial Estate', 'Amata Group', 'Amazon', 'Amazon', 'Amazon', 'Amazon', 'Amazon', 'Amazon', 'Amazon', 'Amazon', 'Amazon', 'Amazon', 'Amazon', 'Amazon', 'Amazon', 'Amazon', 'Amazon', 'Amazon', 'Amazon', 'Amazon', 'Amazon', 'Amazon', 'Amazon', 'Amazon', 'Amazon', 'Amazon', 'Amazon Web Services', 'Amazon Web Services', 'Amazon Web Services', 'Amazon.com', 'Amdocs', 'America', 'America', 'America', 'America', 'America', 'American', 'American', 'American', 'American', 'American', 'American', 'American', 'American', 'American', 'American', 'American', 'American', 'American', 'American', 'American', 'American', 'American', 'American', 'American', 'American', 'American', 'American', 'American', 'American', 'American', 'American', 'American', 'American', 'American', 'American Express', 'Americans', 'Americans', 'Americans', 'Americans', 'Americans', 'Americas', 'Americas', 'Americas', 'Americas', 'Amgen', 'Amgen', 'Amgen', 'Amgen', 'Amgen', 'Amgen', 'Amgen', 'Amgen', 'Amgen', 'Amgen', 'Amgen\\xa0Amgen', 'Amperex Technology Limited', 'Amsterdam', 'Amsterdam', 'Amsterdam', 'An Chen', 'Analog', 'Analog', 'Analog', 'Analog Devices', 'Analog Devices', 'Analog Devices', 'Analog Devices', 'Analog Devices', 'Analog Devices', 'Analog Devices', 'Analog Devices', \"Analog Devices'\", \"Analog Devices''s\", 'Analyst', 'Anat', 'Anderson', 'Anderson Cancer Center', 'Andre Chang', 'Andrew Lisa', 'Android', 'Android', 'Apellis', 'Appalachian', 'Apple', 'Apple', 'Apple', 'Apple', 'Apple', 'Apple', 'Apple', 'Apple', 'Apple', 'Apple', 'Apple', 'Apple', 'Apple', 'Apple', 'Apple', 'Apple', 'Apple', 'Apple Inc.', 'Apple Inc.', 'Apple Inc.', 'Apple Inc.', 'Apple Original', 'Apple Pay', 'Apple TV', 'Applied', 'Applied Materials', 'Applied Materials', 'Applied Materials', 'Applied Materials', 'Applied Materials', 'Applied Materials', 'Applied Materials', 'Applied Materials', 'Applied Materials Inc.', 'Applied Materials Inc.', \"Applied Materials'\", 'ArcBest Corp', 'ArcBest Corp.', 'Archer-Daniels-Midland Company', 'Argentina', 'Argus', 'Arista', 'Arista Networks', 'Arista Networks', 'Aristotle Capital Management', 'Armstrong World Industries', 'Array Technologies', 'Arriver', 'Asia', 'Asia', 'Asia', 'Asia', 'Asia', 'Asia', 'Asia', 'Asia', 'Asia', 'Asia', 'Asia', 'Asia', 'Asia', 'Asia', 'Asia', 'Asia', 'Asia', 'Asia', 'Asia', 'Asia Pacific', 'Asia Pacific', 'Asia Pacific', 'Asia Pacific Region', 'Asia-Pacific', 'Asian', 'Asian', 'Asiatique', 'Asiatique The Riverfront', 'Assess', 'Astra Agro Lestari', 'AstraZeneca', 'AstraZeneca', 'AstraZeneca', 'AstraZeneca', 'AstraZeneca', 'AstraZeneca', 'AstraZeneca', 'AstraZeneca', 'Atlanta', 'Audi', 'Aurora', 'Aurora', 'Austin', 'Austin', 'Australia', 'Australia', 'Australia', 'Australia', 'Australia', 'Australian', 'Australian', 'Australian', 'AutoNation', 'Automotive', 'Automotive', 'Automotive', 'Aéropostale', 'B.', 'B. Grimm Power', 'B. Riley', 'B. Riley', 'B.Grimm', \"B.Grimm Power's\", 'BA', 'BABA', 'BABA', 'BABA', 'BABA', 'BABA', 'BAFTA', 'BB', 'BB', 'BBB', 'BBC', 'BBC', 'BBQ', 'BC', 'BELLEVUE', 'BEV', 'BG', 'BGI', 'BIG DATA', 'BILL', 'BILL', 'BILL', 'BKK', 'BLK', 'BMO Capital', 'BMO Capital', 'BMO Capital', 'BMS', 'BMY', 'BOJ', 'BOJ', 'BOT', 'BOT', 'BOX', 'BREIT', 'BREIT', 'BRK-A', 'BRK-A', 'BTS Udomsuk', 'BTS Udomsuk', 'BTU', 'BUY', 'BUY', 'BUY', 'BUY', 'BUY', 'BX', 'BX', 'BX', 'Backyard', 'Bad', 'Bain Capital', 'Baird', 'Baltics', 'Bang', 'Bang Khun Non Station', 'Bang Khun Non Station', 'Bangchak', 'Bangkok', 'Bangkok', 'Bangkok', 'Bangkok', 'Bangkok', 'Bangkok', 'Bangkok Bank', 'Bangkok Bank Public Company Limited', 'Bangkok Bank Public Company Limited', 'Bangkok Bank Public Company Limited', 'Bangkok Bank Public Company Limited', 'Bangkok Bank Public Company Limited', 'Bangkok Bank Public Company Limited', 'Bangkok Bank Public Company Limited', 'Bangkok Bank Public Company Limited', 'Bangkok Bank Public Company Limited', 'Bangkok Bank Public Company Limited', \"Bangkok Bank's\", 'Bangkok Commercial Public Company Limited', 'Bangkok Commercial Public Company Limited', 'Bangkok Commercial Public Company Limited', 'Bangkok Commercial Public Company Limited', 'Bangkok Commercial Public Company Limited', 'Bangkok Commercial Public Company Limited', 'Bangkok Commercial Public Company Limited', 'Bania', 'Bania Company', 'Bank', 'Bank', 'Bank', 'Bank Public Company Limited', 'Bank Public Company Limited', 'Bank Public Company Limited', 'Bank of America', 'Bank of Ayudhya Public Company Limited', 'Banpu', 'Banpu', 'Banyan Tree Krabi', 'Barclays', 'Barclays', \"Barron's\", \"Barron's\", 'Basketball League', 'Battery Energy Storage System', 'Battery Technology', 'Bear Stearns', 'Beauty Company', 'Became', 'Behr', 'Beijing', 'Beijing', 'Beijing', 'Beijing', 'Beijing', 'Beijing', 'Beijing', 'Beijing', 'Beijing', 'Belarus', 'Belarus', 'Belgian', 'Belgium', 'Bellevue', 'Bellevue', 'Bengaluru', 'Bengaluru', 'Bengaluru', 'Bengaluru', 'Bengaluru', 'Bengaluru', 'Benzinga', 'Benzinga', 'Benzinga', 'Benzinga', 'Berger', 'Berkshire', 'Berkshire Hathaway', 'Berkshire Hathaway', 'Berlin', 'Bermuda', 'Bernie Sanders', 'Best Picture', 'Better Planet', 'Biden', 'Biden', 'Biden', 'Biden', 'Biden', 'Biden', 'Biden', 'Biden', 'Bielany Wroclawskie', 'Big Blue', 'Big C', 'Big C Big Point', 'Big C Call', 'Big Care', 'Big Data', 'Bill', 'Bill & Melinda Gates Foundation', 'Bill Gates', 'Billboard', 'Bing', 'Bing', 'Bio-Rad', \"Bio-Rad's\", 'BioMarin', 'BioPharmaceuticals', 'BioPharmaceuticals', 'Biotech', 'Bitcoins', 'Black', 'Black Hawk Down', 'Black/African American', 'BlackBerry', 'Blackbaud', 'Blackstone', 'Blackstone', 'Blackstone Inc.', 'Blackstone Inc.', 'Blackstone Inc.', 'Block, Inc.', 'Blockchain', 'Bloomberg', 'Bloomberg', 'Bloomberg', 'Bloomberg', 'Bloomberg', 'Bloomberg', 'Bloomberg', 'Bloomberg', 'Bloomberg', 'Bloomberg', 'Board', 'Board', 'Board', 'Boeing', 'BofA', 'BofA', 'Booking', 'Booking', 'Booking.com', 'Booking.com', 'Booking.com', 'Boston', 'Bot Service', 'Bottom', 'Bottom Line', 'Bottom Line', 'Bottom Line', 'Bottom Line', 'Bottom Line', 'Bottom Line', 'Bottom Line', 'Bottom Line', 'Bowman', 'Box, Inc.', 'Bozeman', 'Brainport', 'Brainport Industries', 'Brazil', 'Brazil', 'Brazil', 'Brazil', 'Bristol Myers Squibb', 'Bristol Myers Squibb Company', 'Bristol-Myers', 'Bristol-Myers Squibb Company', 'British', 'British', 'British', 'British', 'British Columbia', 'British Columbia', 'Broadcom', 'Broadcom', 'Broadcom', 'Broadcom', 'Broadcom', 'Broadcom', 'Broadcom \\nBroadcom', 'Broadridge Financial Solutions', 'Brookfield', 'Brown & Brown', 'Bruce Clarke', 'Bualuang', 'Buffalo', 'Buffalo', 'Buffett', 'Buffett', 'Bundit', 'Bundit', 'Bunge', 'Burger King', 'Buriram', 'Business Services', 'Buy', 'Buy', 'Buy', 'Buy', 'Buy', 'Buy', 'Buy', 'Buy', 'Buy', 'Buy', 'Buy', 'Buy', 'Buy', 'Buyer', 'Buyer', 'Buyer', 'Buyer', 'Buyouts', 'Buys', 'Byju’s', 'C.\\nADI', 'CA', 'CAD', 'CASPIAN', 'CAT', 'CB', 'CBD', 'CCI', 'CDA', 'CFO', 'CFO', 'CFO', 'CFO', 'CHD', 'CHPT', 'CIM-PB', 'CIO', 'CIR', 'CL', 'CLSS', 'CLX', 'CMC', 'CMG', 'CMV', 'CNBC', 'CNBC', 'CNBC', 'CNBC', 'CNH', 'CNH Industrial', 'CNHI', 'CNN', 'CNN', 'CNS', 'CNS', 'CO', 'COD', 'COMP', 'COMP', 'COMP', 'COMP', 'COVID', 'COVID', 'COVID', 'COVID', 'COVID', 'CPB', 'CR', 'CRL', 'CRM', 'CRM', 'CRM', 'CRM', 'CRM', 'CRM', 'CSL', 'CTO', 'CTO', 'CTO', 'CVS', 'CVX', 'CVX', 'CW', 'Cabinet', 'Cabinet', 'Cabinet', 'Cadbury', 'Cadence', 'Cadence Design Systems', 'Cagle P', 'Calif.', 'Calif.', 'Calif.', 'Calif.', 'Calif.', 'California', 'California', 'California', 'California', 'California', 'California', 'California', 'California', 'California', 'California', 'California', 'California', 'Callon', 'Cambodia', 'Cambodia', 'Cambodian', 'Cambridge', 'Cambridge', 'Cambridge', 'Cambridge', 'Cambridge', 'Campbell', 'Campbell Soup Company', 'Canada', 'Canada', 'Canada', 'Canada', 'Canada', 'Canada', 'Canada', 'Canada', 'Canada', 'Canada', 'Canada', 'Canada', 'Canada', 'Canadian', 'Canadian', 'Canadian', 'Canadian', 'Canadian', 'Canadian', 'Canadian', 'Canadian National Railway', 'Canadians', 'Canadians', 'Canadians', 'Cannabis', 'Cannabiz', 'Cannabiz', 'Cap', 'Cap', 'Cap', 'Capital', 'Capital Group', 'Capital Management', 'CarMax', 'CarMax', 'Cardiac', 'Cardiovascular', 'Cardiovascular', 'Carlisle', 'Caroline', 'Caroline Dong', 'Carr', 'Carrier', \"Carrier's\", 'Cary', 'Case IH', 'Caterpillar', 'Caterpillar Inc.', 'Cathie Wood', 'Causing', 'Causing', 'Central Plaza Ladprao', 'Central Texas', 'Ceva', 'Chang Klan Road', 'Chang Klan Road', 'Change the World', 'Chanut', 'Charan - Pinklao', 'Charles River', 'Charlie', 'Charlotte', 'Charoen Krung Square', 'Cheetos', 'Chelsea', 'Chen', 'Chengdu', 'Cher', 'Cher', 'Chevron', 'Chevron Corporation', 'Chiang Mai', 'Chiang Mai Night Bazaar', 'Chiang Mai Night Bazaar', \"Chiang Mai's\", 'Chicago', 'Chicago', 'Chicago', 'Chicago', 'Chicago', 'Chicago', 'Chicago', 'Chicken Bites', 'Chile', 'China', 'China', 'China', 'China', 'China', 'China', 'China', 'China', 'China', 'China', 'China', 'China', 'China', 'China', 'China', 'China', 'China', 'China', 'China', 'China', 'China', 'China', 'China', 'China', 'China', 'China', 'China', 'China', 'China', 'China', 'China', 'China', 'China', 'China', 'China', 'China', 'China', 'China', 'China', 'China', 'China', 'China', 'China', 'China', 'China', 'China', 'China', 'China', 'China Equity', 'Chinese', 'Chinese', 'Chinese', 'Chinese', 'Chinese', 'Chinese', 'Chinese', 'Chinese', 'Chinese', 'Chinese', 'Chinese', 'Chinese', 'Chinese', 'Chinese', 'Chinese', 'Chinese', 'Chinese', 'Chinese', 'Chinese', 'Chinese', 'Chinese', 'Chinese', 'Chinese', 'Chinese', 'Chipotle Mexican Grill', 'Chonburi', 'Chonburi', 'Chonburi', 'Chris Snyder', 'Chubb', 'Chubb Limited', 'Chuck', 'Cincinnati', 'Cintas Corporation', 'Cisco', 'Cisco', 'Cisco', 'Cisco', 'Cisco', 'Cisco', 'Cisco', 'Cisco Systems', 'Cisco Systems', 'Cisco Systems', 'Cisco Systems Inc.', 'Cisco Systems Inc.', 'Cisco Systems Inc.', \"Cisco Systems'\", 'Citi', 'Citigroup', 'Citigroup', 'Citigroup', 'Citigroup Inc.', 'ClearBridge', 'Cleve Jones', 'Click', 'Click', 'Clock Tower', 'Clothing', 'Cloud', 'Cloud AI', 'Cloudflare', 'Cloudflare', 'Co-Founder', 'Co-Living', 'Co-Living Space', 'Co., Ltd.', 'Coca-Cola', 'Coca-Cola', 'Coca-Cola', 'Colgate', 'Colgate-Palmolive Company', 'Colorado', 'Comcast', 'Comcast', 'Comcast', 'Comcast', 'Comcast', 'Comcast', 'Comcast Business', 'Comcast Business', 'Comcast Cable', 'Commerce', 'Commerce', 'Company', 'Company', 'Company', 'Company', 'Company', 'Company', 'Company', 'Company', 'Company', 'Company', 'Company', 'Company', 'Company', 'Company', 'Company', 'Company', 'Company', 'Company', 'Competition', 'Competition', 'Complex Fund', 'Complex Fund', 'Component', 'Compugen', 'Computer and Technology', 'Computer and Technology', 'Concert Orchestra', 'Concord', 'Condo', 'Condor Dental', 'Congress', 'Congress', 'Congress', 'Congress', 'Congress Ave', 'Connected', 'Connecticut', 'Consensus', 'Consensus', 'Consumer', 'Contemporary Amperex Technology Co.', 'Cordiz', 'Cordiz', 'Cordiz', 'Cornel West', 'Corporate Development', 'Costco', 'Costco', 'Costco', 'Costco', 'Costco', 'Costco', 'Court', 'Covid', 'Covid', 'Covid', 'Covid', 'Covid', 'Cowen', 'Cowen', 'Craig Ellis', 'Creative Cloud', 'Creative Cloud', 'Credit', 'Criteo', 'D.', 'D.', 'D.', 'D.', 'D.', 'D.', 'DA Davidson', 'DAF', 'DAF', 'DAL', 'DALLAS', 'DAU', 'DCF', 'DCF', 'DCF', 'DCF', 'DD', 'DD', 'DE', 'DE', 'DE', 'DE', 'DE\\nDeere', 'DECK', 'DGG', 'DINAMO', 'DINO', 'DIS', 'DIS', 'DIS', 'DIS', 'DIS\\n', 'DNAM', 'DOC', 'DOD', 'DQ', 'DRAM', 'DRAM', 'DRD', 'DUV', 'DUV', 'DUV', 'DVN', 'Dada', 'Dada Group', 'Daiichi Sankyo', 'Daiichi Sankyo', 'Daikin Industries', 'Dan Dennis', 'Dan Dolev', 'Daniel Morgan', 'Dao Securities', 'Dark', 'Data Analytics', 'Data Center', 'Data Center', 'Data Center', 'Datacenter', 'Dave', 'David Barden', 'David Blood', 'David Brown’s', 'David Marquis', 'David Stephenson', 'Deaf', 'Debby Wu', 'Debby Wu', 'Deel', 'Del.', 'Del.', 'Delaware', 'Delicje', 'Deloitte', 'Delta', 'Delta', 'Delta', 'Democratic', 'Democratic', 'Denmark', 'Deposits', 'Deppon', 'Derek', 'Detroit', 'Detroit', 'Detroit', 'Deutsche Bank', 'Deutsche Bank', 'Deutsche Bank', 'Deutsche Bank AG', \"Deutsche Bank's\", 'Devon', 'Diamond Hill Capital', 'Diamond Hill Capital', 'Diamond Hill Capital', 'Diamond Hill Capital', 'Digital', 'Digital', 'Digital Media', 'Digital Transformation', 'Disney', 'Disney', 'Disney+', 'Display', 'Display', 'District Court', 'Diversey', 'Dividend', 'Dividend', 'Dividend', 'Dividend', 'DocuSign', 'Don Mueang', 'Don Mueang Airport', 'Don Mueang Airport', 'Doritos', 'Doritos', 'Dow', 'Dow', 'Dow', 'Dow', 'Dow', 'Dow', 'Dow', 'Dow', 'Dow', 'Dow', 'Dow', 'Dow', 'Dow', 'Dow', 'Dow', 'Dow', 'Dow', 'Dow', 'Dow Jones', 'Drive Policy', 'DuPont', 'DuPont de Nemours', 'DuPont de Nemours', 'Dubai', 'Duff & Phelps', 'Duplex', 'Dutch', 'Dutch', 'Dutch', 'Dutch', 'Dutch', 'Dutch', 'Dutch', 'Dutch', 'Dutch', 'EA Rooftop', 'EBIT', 'EDGAR', 'EEC', 'EEC', 'EFS', 'EFX', 'ELV', 'EM', 'EM', 'EMA', 'EMM', 'EO', 'EPM', 'EPR', 'EPS', 'EPS', 'EPS', 'EPS', 'EPS', 'EPS', 'EPS', 'EPS', 'EPS', 'EPS', 'EPS', 'EPS', 'EPS', 'EPS', 'EPS', 'EPS', 'EPS', 'EPS', 'EPS', 'EPS', 'EPS', 'EPS', 'EPS', 'EPS', 'EPS', 'EPS', 'EPS', 'EPS', 'EPS', 'EPS', 'EPS', 'EPS', 'EPS', 'EPS', 'EPS', 'EPS', 'EPS', 'EPS', 'EPS', 'EPS', 'ESG', 'ESG', 'ESG', 'ESG', 'ESG', 'ESG', 'ESG', 'ESG', 'ESG', 'ESG', 'ESG', 'ESG', 'ESG', 'ESG', 'ESG', 'ESPN', 'ESTE', 'ET', 'ET', 'ET&I', 'EU', 'EU', 'EU', 'EU', 'EU Nod', 'EUV', 'EV', 'EV', 'EV', 'EV', 'EV', 'EV', 'EV', 'EV', 'EV', 'EV', 'EV', 'EV', 'EVP', 'EY', 'Earnings', 'Earth', 'East Palestine', 'East South Central', 'Easter', 'Eat This', 'Eco', 'Eddie Bauer', 'Edgewood', 'Editor', 'Education', 'Edward Jones', 'Efficient', 'Eindhoven', 'Electronic Arts Inc.', 'Eli Lilly and Company', 'Eli Lilly and Company', 'Eli Lilly’s', 'Ellis', 'Embedded Processing', 'Embedded Processing', 'Emerson', 'Empire', 'Engineering', 'Engineering Progress', 'England', 'Enhance', 'Enjoy', 'Envision', 'Envision Energy', 'Envision Group', 'Equifax', 'Erich Maria Remarque', 'Etsy', 'Euphoria', 'Europe', 'Europe', 'Europe', 'Europe', 'Europe', 'Europe', 'Europe', 'Europe', 'Europe', 'Europe', 'Europe', 'Europe', 'Europe', 'Europe', 'Europe', 'Europe', 'Europe', 'Europe', 'Europe', 'Europe', 'Europe', 'Europe', 'Europe', 'Europe', 'Europe', 'Europe', 'Europe', 'European', 'European', 'European', 'European', 'European', 'European', 'European', 'European Union', 'Evolution', 'Exclusive', 'Executive', 'Expedia', 'Expedia', 'Expedia Group', 'Expedia Group', 'Expedia Group’s', 'Expeditors International', 'F', 'F', 'F', 'F', 'F', 'F', 'F', 'F', 'F', 'F', 'F', 'F', 'FCF', 'FCF', 'FCF', 'FCF', 'FDA', 'FDA', 'FDA', 'FDA', 'FDA', 'FDA', 'FDI', 'FDI', 'FDIC', 'FDIC', 'FDX', 'FERG', 'FHN', 'FIDF', 'FIRST', 'FIS', 'FIT', 'FL', 'FMC', 'FMCG', 'FMCG', 'FMV', 'FP Movement', 'FSM', 'FTX', 'FX', 'Facebook', 'Facebook', 'FactSet', 'Fairlife', 'Family', 'Fastenal Co.', 'Fc', 'Fearnley', 'Feature', 'Fed', 'Fed', 'Fed', 'Fed', 'Fed', 'Fed', 'Fed', 'Fed', 'Fed', 'Fed', 'Fed', 'FedEx Corporation', 'Federal Reserve', 'Federal Reserve', 'Federal Reserve', 'Federal Reserve Bank', 'Fellow', 'Fidelity', 'Fidelity', 'Fidelity', 'Finance', 'Finance', 'Finance', 'Finance', 'Financially', 'Fintech', 'Fire,', 'First', 'First', 'First', 'First', 'First', 'First', 'First', 'First Horizon', 'First Phase III', 'First UL', 'Flamin', 'Flash', 'Flavor', 'Flipboard', 'Float', 'Florida', 'Florida', 'Florida Power & Light', 'Flower Labs', 'Focus', 'Fogel', 'Food & Beverage', 'Food Grade', 'Forbes', 'Forbes', 'Forbes', 'Ford', 'Foreign Ministry', 'Forfeit', 'FormFactor', 'Fort Mill', 'Fortune', 'Fortune', 'Fortune.com', 'Fortune.com', 'Foster City', 'Foster City', 'Foster City', 'Found', 'Foundation', 'Fox', 'France', 'France', 'Francesco Guarascio', 'French', 'French', 'French', 'French', 'French', 'French', 'French', 'FrieslandCampina', 'FrieslandCampina N.V.', 'Friso', 'Frito-Lay', 'Frito-Lay North America', 'Front-end', 'Fujian', 'Fujin', 'Fundamentally', 'G PON', 'G&A', 'G&A', 'G-CAG', \"GBR's\", \"GBR's\", \"GBR's\", \"GBR's\", 'GBS', 'GHG', 'GHG', 'GI', 'GLP', 'GLP-PB', 'GM', 'GM', 'GMSL', 'GMV', 'GMV', 'GMV', 'GMV', 'GMV.So', 'GPM', 'GPM', 'GPS', 'GRMN', 'GSAT', 'GSB', 'GSK', 'Galanti', 'Galaxy', 'Gao Yuan', 'Garmin', 'Gartner Inc.', 'Gates', 'Gatorade', 'Gen Z', 'Gender', 'General Motors Co', 'Genetics', 'Genetics', 'Genetics', 'Genius Lab', 'Geniuses', 'George Washington University', 'Georgia', 'German', 'German', 'Germany', 'Germany', 'Germany', 'Germany', 'Gift', 'Gift', 'Gift', 'Gift', 'Gift', 'Gift', 'Gift', 'Gift', 'Gift', 'Gift', 'Gift', 'Gift', 'Gift', 'Gift', 'Gift', 'Gift', 'Gift', 'Gilead', 'Gilead', 'Gilead', 'Gilead Sciences', 'Gilead Sciences', 'Gilead Sciences', 'Gilead Sciences', 'Gilead Sciences', 'Gilead Sciences', 'Gilead Sciences', 'Gilead Sciences', \"Gilead Sciences'\", \"Gilead Sciences'\", 'Gilford', 'GitHub', 'Glad', 'Glass Lewis', 'Global Marketing', 'Global Payments', 'Global Standard', 'Global Standard', 'Globalstar', 'Gold Star', 'Goldberg', 'Goldfish', 'Goldman Sachs', 'Goldman Sachs', 'Goldman Sachs', 'Goldman Sachs', 'Goldman Sachs', 'Goldstraw P', 'Goldstraw P', 'Google', 'Google', 'Google', 'Google', 'Google', 'Google', 'Google', 'Google', 'Google Cloud', 'Grade', 'Gramuglia', 'Greater Boston', 'Greenhaven Associates', 'Gregory Williams', 'Groups', 'Guan Yin Shrine', 'Guangdong', 'Gucci', 'Gucci', 'Gui Hai Day', 'Guidehouse', 'Guidehouse', 'Guidehouse', 'Gurus', 'H&M', 'HAGUE', 'HAL', 'HANOI', 'HBO', 'HD', 'HD', 'HD', 'HF Sinclair', 'HPC', 'HQ Group', 'HRL', 'HSBC', 'HSBC', 'HSCT', 'HSY', 'HUBS', 'HUBS', 'Hague', 'Haibo', 'Haipeng Chen', 'Haliburton', 'Halliburton', 'Hammock', 'Hanoi', 'Hanoi', 'Hanover', 'Happiness', 'Harris Associates', 'Harvard', 'Harvard', 'Harvard', 'Harvard', 'Harvard University', 'Hathaway', 'Hathaway', 'Hathaway', 'Hathaway', 'Hawk Ridge Management', 'He', 'Headache', 'Health Care', 'Health Care', 'Health Care', 'Health Care', 'Healthcare', 'Heating', 'Helix', 'Hemophilia', 'Henry A. Fernandez', \"Henry Schein's\", 'Hershey Trust Company', 'Highline', 'Hmm', 'Hmmm', 'Hodgkin', 'Holds', 'Hollywood', 'Honda', 'Honda', 'Honeywell', 'Honeywell', 'Honeywell', 'Honeywell', 'Honeywell', 'Honeywell', 'Honeywell International', 'Hong Kong', 'Hong Kong', 'Hong Kong', 'Hong Kong Special Administrative Region of China', 'Hopper', 'Horse', 'Hostess', 'Hostess Brands', 'Hot Honey', 'House', 'House', 'House', 'House of Commons', 'House of Commons', 'Houston', 'Huawei', 'Huawei', 'Huawei Technologies Co.', 'Hudson County', 'Hug', 'Hulu', 'Hunter', 'Hurt', 'Hyperscale', 'IBM', 'IBM', 'IBM', 'IBM', 'IBM', 'IDMC', 'IFA', 'IFA', 'IHS Markit', 'IIIA', 'IIIA', 'IIIA', 'IIIA', 'IL', 'IL', 'IL', 'IL', 'IL', 'ILD', 'INDICATIONS', 'ING', 'INGA.AS', 'IP', 'IP', 'IP', 'IPO', 'IPO', 'IPO', 'IPO', 'IPO', 'IR', 'IR', 'IR', 'IR', 'IRL', 'ISI', 'ITW', 'IVF', 'Ian King', 'Ian King', 'Ibrahim Haddad', 'Icera', 'Ichi Company', 'Iger', 'Illinois', 'Illinois', 'Illinois Tool Works Inc.', 'ImmunoGen', 'InDesign', 'Inc.', 'Including', 'Increase', 'Increase', 'Independent', 'India', 'India', 'India', 'India', 'India', 'India', 'India', 'Indian', 'Indiana', 'Indiana', 'Indiana', 'Indians', 'Indonesia', 'Indonesia', 'Indonesia', 'Indonesia', 'Industrial IoT', 'Information', 'Information', 'Infrastructure', 'Ingersoll Rand', 'Ingersoll Rand', 'Ingersoll Rand', 'Ingersoll Rand’s', 'Inspur', 'Instagram', 'Instagram', 'Instagram', 'Instagram', 'Intel', 'Intel', 'Intel', 'Intel', 'Intel', 'Intel', 'Intel', 'Intel', 'Intel', 'Intel', 'Intel Corporation', 'Intel Corporation', 'Intel Corporation', 'Intel Corporation', 'Intel Corporation', 'Intel Corporation', 'Intelligent Network', 'Interestingly', 'International Agency for Research on Cancer', 'International Agency for Research on Cancer', 'International Truck of', 'International Truck of', 'Intuit', 'Intuit', 'Intuit', 'Intuit', 'Intuit\\nIntuit', 'Intuit Inc.', 'Intuit Inc.', 'Intuit Inc.', 'Intuit Inc.', 'Intuit Inc.', 'Intuit Inc.', 'Intuitive Surgical', 'Intuitive Surgical', 'Intuitive Surgical', 'Investment Research', 'Investors', 'Investors', 'IoT', 'IoT', 'IoT', 'IoT', 'IoT', 'IoT', 'Ireland', 'Islam', 'It', 'Italian', 'J&J', 'J&J', 'J.D. Keller', 'J.J. Abrams', 'JBGS', 'JD\\nView', 'JD Grocery', 'JD Group', 'JD Industrial', 'JD Logistics', 'JD Logistics', 'JD Property', 'JD Retail', \"JD Retail's\", 'JD.com', 'JD.com', 'JD.com', 'JD.com', 'JD.com', 'JD.com', 'JD.com', 'JDL', 'JNJ', 'JNJ', 'JNJ', 'JNJ', 'JNJ', 'JNJ', 'JP', 'JP Morgan', 'JPM', 'JPM', 'JPM', 'JPMorgan', 'JPMorgan', 'JPMorgan', 'JPMorgan Chase', 'JPMorgan Chase & Co.', 'JUTHA', 'Jackson', 'Jakarta', 'Jane Zhang', 'Jankowice', 'Japan', 'Japan', 'Japan', 'Japan', 'Japan', 'Japan', 'Japan', 'Japan', 'Japan', 'Japan', 'Japan', 'Japan', 'Japan', 'Japan', 'Japanese', 'Japanese', 'Japanese', 'Japanese', 'Japanese', 'Japanese', 'Japanese American', 'Japanese Americans', 'Jaroslaw', 'Jay Monroe', 'Jay Powell', 'Jeff', 'Jefferies', 'Jefferies', 'Jennifer', 'Jerome', 'Jerome Powell', 'Jerome Powell', 'Jerome Powell', 'Jerry Jia', 'Jim Davidson', 'Jing Zao', 'Jingxi', 'Joe Biden', \"John Campbell's\", 'John Deere', 'Johnson & Johnson', 'Johnson & Johnson', 'Johnson & Johnson', 'Johnson & Johnson', 'Jony', 'Jorgensen', 'Joseph White', 'Journeys', 'Jun Yang', 'Juniper Networks', 'K.W. Lew', 'KFC', 'KGI Securities', 'KMB', 'KO', 'KO', 'KO', 'KO', 'KO', 'KO,', 'KPI', 'KR', 'KR', 'KRAS', 'KWM', 'KWM', 'Kalton', 'Kansas City', 'Karma', 'Kate', 'Kayak', 'Kazakhstan', 'Kelly', 'Kelly Services', 'Ken Griffin', 'Ken Lin', 'Kenneth Bacon', 'Kenneth Lin', 'Kenworth', 'Kenworth', 'Kevin Johnson', 'Kevin Johnson', 'Khayon', 'Kikuchi', 'Kimberly-Clark Corporation', \"King Mongkut's University of Technology Thonburi\", \"King Mongkut's University of Technology Thonburi\", 'Kings With', 'Kirati', 'Klook', 'Ko Nishimura', 'Kor', 'Korea', 'Krabi', 'Kroger', 'Kroger', 'Kroger', 'Krueger', 'Krungsri', 'Kumar', 'Kyle', 'Kymera', 'L/C', 'LCD', 'LEED', 'LEED', 'LG', 'LIFE Sathorn', 'LLY', 'LLY', 'LLY', 'LLaMA', 'LMT', 'LMT', 'LOS ANGELES', 'LOS ANGELES', 'LOW', 'LPG', 'LTM', 'LUXEMBOURG', 'LW', 'LW', 'LW', 'LW', 'Labor', 'Laconia', 'Lactation', 'Lake Street', 'Lakeside School', 'Lamb Weston', 'Lamb Weston', 'Lamb Weston', 'Lamb Weston', 'Lamphun Province', 'Lao PDR', 'Laos', 'Laos', 'Laos', 'Large Cap', 'Larry McDonald', 'Lastminute.com', 'Latina', 'Latinx', 'Lattice', 'Lay', \"Lay's\", 'Le Chevalier T', 'Learn', 'Learn', 'Learn', 'Lehman', 'Lei', 'Lei Xu', 'Leigh Jones', 'Leisure', 'Leslie Oliver', 'Level', 'Life Sciences', 'Lift Zone', 'Lilly', 'Lilly', 'Limited (CATL', 'LinkedIn', 'LinkedIn', 'LinkedIn', 'LinkedIn', 'LinkedIn', 'LinkedIn', 'LinkedIn', 'Lisa Pierce', 'Littler Mendelson', 'Liu', 'Liu Jun', 'Liven', 'Lockheed', 'Logistics', 'London', 'Lone Pine Capital', 'Long Island Avenue', 'Loop Capital', 'Lopez Research', 'Los Angeles', 'Los Angeles', 'Los Angeles Times', 'Luckin Coffee', 'Luckin Coffee', 'Lucy Liu', 'Ludwig Burger', 'Lufthansa', 'Lufthansa Service', 'Lung', 'Lung', 'Lung Cancer', 'Lung Cancer', 'Lyndeborough', 'M Tower', 'MA', 'MA', 'MA', 'MANCHESTER', 'MAS', 'MBA', 'MCD', 'MCD', 'MCD', 'MCD', 'MCO', 'MD', 'MD', 'MD & Head', 'MEMS', 'MET', 'MET', 'MG', 'MINT', 'MIT', 'MKC', 'MKC-V', 'ML', 'ML/AI', 'MLR', 'MMF', 'MO', 'MOU', 'MOU', 'MOU', 'MOUNTAIN VIEW', 'MPC', 'MRK', 'MRR', 'MS', 'MS-DOS', 'MSCI', 'MSCI', 'MSCI', 'MSCI', 'MSCI Inc.', 'MSS', 'MSS', 'MTX', 'MW', 'MX', 'Mac', 'Mackesy', 'Madison Funds', 'MagnaChip', 'Mai Province', 'Mai Province', 'Main Street’s', 'Malaysia', 'Malaysia', 'Managed Solutions', 'Management', 'Mandalorian', 'Manhattan', 'Manor ISD', 'Manor Independent School District', 'Manufacturing International Corp.', 'Mao Ning', 'Mao Ning', 'Marabou', 'Marathon', 'Maribel Lopez', 'Marija', 'Marinara', 'Mark Tanner', 'Mark Zuckerberg', 'Mark Zuckerberg', 'Market', 'Marriott', 'Marriott', 'Marriott International', 'Marriott International', 'Mary Daly', 'Masco', 'Masco Corporation', 'Mass. & BEIJING', 'Mass. & NUREMBERG', 'Massachusetts', 'Massachusetts', 'Massachusetts', 'Massachusetts', 'Mastercard', 'Mastercard', 'Matthew Lewis', 'Maurice McDonald', 'Max Huang', 'Maybank Securities', 'Maybank Securities (Thailand', 'Maybank Securities (Thailand', 'Maybank Securities (Thailand', 'Maybank Securities (Thailand) Public Company Limited', 'McCormick', 'McCormick & Company', 'McDonald', 'McDonald', \"McDonald's\", \"McDonald's Corporation\", \"McDonald's Corporation\", \"McDonald's Corporation\", 'McDonald’s', 'McDonald’s Corporation', 'McDonald’s Corporation', 'McKinsey', 'McKinsey', 'McTernan', 'MedTech', 'MedTech', 'Medical', 'Medical', 'Medical', 'Medical', 'Medical', 'Medical', 'Medical', 'Medical Grade', 'Melinda', 'Memphis', 'Mercadolibre', 'Mercedes-Benz', 'Merck', 'Merck', 'Meridian', 'Met Park', 'Meta', 'Meta', 'Meta', 'Meta', 'Meta', 'Meta', 'Meta', 'Metro', 'Mexican', 'Mexican', 'Mexico', 'Michael Platt', 'Michael Rosas', 'Michigan', 'Michigan', 'Microchip', 'Microchip Technology Inc.', 'Microchip Technology Incorporated', 'Micron', 'Microsoft', 'Microsoft', 'Microsoft', 'Microsoft', 'Microsoft', 'Microsoft', 'Microsoft', 'Microsoft', 'Microsoft', 'Microsoft Cloud', 'Microsoft Corp', 'Microsoft Corporation', 'Microsoft Corporation', 'Microsoft Corporation', 'Microsoft Corporation', 'Microsoft Corporation', 'Middle Atlantic', 'Midland', 'Midway Dental', 'Miguel Rato', 'Mike', 'Milka', 'Miller', 'Milpitas', 'Mind the Gap:', 'Ministry of Science and Technology', 'Minneapolis', 'Minneapolis', 'Minnesota', 'Minnesota', 'Minnesota', 'Mint', 'Missouri', 'Missouri', 'Mixed', 'Mizuho', 'Mizuho', 'Mobile', 'Moderna', 'Moelo', 'Mohit Bansal', 'Mohsenian', 'Mole', 'Momentum', 'Momentum', 'Momentum', 'Momentum', 'Mondelez', 'Mondelez', 'Mondelez', 'Mondelez', 'Mondelez', 'Mondelez', 'Mondelez International', 'Mondelez International', 'Mondelez International', 'Mondelez International', 'Mondelez International', 'Mondelez Polska Production', 'Mondelēz International', 'Mondelēz International', 'Mongolia', 'Monica', 'Monica', 'Monkey', 'Monkey', 'Monkey', 'Monkey', 'Monkey', 'Monkey', 'Monkey', 'Monkey', 'Monkey', 'Monkey', 'Monkey', 'Monkey', 'Monkey', 'Monkey', 'Monkey', 'Monkey', 'Monkey', 'Monkey', 'Monkey', 'Monolithic Power Systems', 'Monolithic Power Systems', 'Montana', \"Moody's\", \"Moody's\", \"Moody's\", 'Morgan', 'Morgan', 'Morgan Stanley', 'Morgan Stanley', 'Morgan Stanley', 'Morgan Stanley', 'Morgan Stanley', \"Morgan Stanley's\", 'Morgan Stanley’s', 'Morningstar', 'Motley', 'Motley Fool', 'Motley Fool', 'Mountain', 'Mountain Dew', 'Mountain West Region', 'Movella', 'Muang Thai Capital Public Company Limited', 'Musculoskeletal', 'Muslim', 'MyMo', 'Myanmar', 'Myanmar', 'Myanmar', 'Myositis', 'Méridien Chiang Mai', 'N.H.', 'N.J.', 'N.J.', 'N.Y.', 'N.Y.', 'NAND', 'NAND', 'NAV', 'NB', 'NB', 'NB', 'NB', 'NBA', 'NBC', 'NBC', 'NBC Sports', 'NBC Sports', 'NBTC', 'NDRC', 'NEE', 'NEE', 'NEE', 'NEE-PR', 'NEE-PR', 'NEE-PR', 'NEER', 'NESDB', 'NET', 'NET', 'NET', 'NEW YORK', 'NEW YORK', 'NFG', 'NFL', 'NFT', 'NFT', 'NGO', 'NHP', 'NII', 'NII', 'NII', 'NIM', 'NIM', 'NIM', 'NKY', 'NOC', 'NOKIA', 'NOMD', 'NORTHAMPTON', 'NORTHAMPTON', 'NORTHAMPTON', 'NORTHAMPTON', 'NORTHAMPTON', 'NORTHAMPTON', 'NORTHAMPTON', 'NORTHAMPTON', 'NORTHAMPTON', 'NORTHAMPTON', 'NORTHAMPTON', 'NORTHAMPTON', 'NOTIFIER', 'NOVO-B.CO', 'NOVO-B.CO', 'NOW', 'NOW', 'NP', 'NPA', 'NPA', 'NPA', 'NPA', 'NPAs', 'NPL', 'NPL', 'NPL', 'NPL', 'NPLs', 'NR', 'NSC', 'NTN', 'NVIDIA', 'NVIDIA Corporation', 'NVIDIA Corporation', 'NVIDIA Corporation', 'NVIDIA Corporation', 'NVO', 'NVO', 'NVO', 'NVO', 'NVS', 'NVS', 'NVS', 'NY', 'NYSE', 'NYSE', 'NYSE', 'NYSE', 'NYSE', 'NYSE', 'NYSE', 'NYSE', 'NYSE', 'NYSE', 'NYSE', 'NYSE', 'NYSE', 'NYSE', 'NYSE', 'NYSE', 'NYSE', 'NYSE', 'NYSE', 'NYSE', 'NYSE', 'NYSE', 'NYSE', 'NYSE', 'NYSE', 'NYSE', 'NYSE', 'NYSE', 'NYSE', 'NYSE', 'NYSE', 'Namar', 'Nap Lounge', 'Narasimhan', 'Nasdaq', 'Nasdaq', 'Nasdaq', 'Nasdaq', 'Nasdaq', 'Nasdaq', 'Nasdaq', 'Nasdaq', 'Nasdaq', 'Nasdaq', 'Nasdaq', 'Nasdaq', 'Nasdaq', 'Nasdaq', 'National Chain', 'National Chain', \"National Fuel Gas'\", 'National Landing', 'Native American', 'Nearby', 'Nebraska', 'Nescafe', 'Nestle SA', 'Net Worth', 'Neta', 'Netflix', 'Netflix', 'Netflix', 'Netherlands', 'Netherlands', 'Netherlands', 'Netherlands', 'Netherlands', 'Netherlands', 'Neumann', 'Neumanns', 'Neutral', 'Neutral', 'Neutral', 'Neutral', 'Nevertheless,', 'New England', 'New Hampshire', 'New Hampshire', 'New Hampshire Magazine', 'New Haven', 'New Jersey', 'New Jersey', 'New Orleans', 'New S Curve', 'New S Curve', 'New S Curve', 'New S-Curve', 'New South Wales', 'New South Wales', 'New Upgrades', \"New Year's\", 'New York', 'New York', 'New York', 'New York', 'New York', 'New York', 'New York', 'New York', 'New York', 'New York', 'New York', 'New York', 'New York Times', 'New York Times', 'New Zealand', 'Neways', 'Newcastle', 'Newsletter', 'Next', 'Next', 'NextEra', 'Ngamwongwan', 'Ninai', 'Ning', 'Niwat', 'Nobu Restaurant', 'Nomad', 'Nomad Foods', 'Nomura', 'Nomura', 'Nomura', 'Nomura', 'Nomura Securities', 'Nomura Securities', 'Nomura Securities', 'Nomura Securities', 'Nomura Securities', 'Nomura Securities', 'Nomura Securities', 'Nomura Securities', 'Noo', 'Norfolk Southern', 'North', 'North America', 'North America', 'North America', 'North America', 'North America', 'North America', 'North America', 'North American', 'North American', 'North Carolina', 'North Carolina', 'North College Street', 'North Texas', 'Northeast', 'Northrop Grumman Corporation', 'Norway', 'Notes', 'Notes', 'Novartis', 'Novartis', 'Novartis', 'Novartis', 'Novartis AG', 'Novartis AG', 'Novartis AG', 'Novo Nordisk', 'Novo Nordisk', 'Novo Nordisk', 'Novo Nordisk', 'Novo Nordisk A/S', 'NuStar Energy', \"NuStar Energy's\", 'Nuremberg', 'Nuveen', 'Nvidia', 'Nvidia', 'Nvidia', 'Nvidia', 'Nvidia', 'Nvidia', 'Nvidia', 'Nvidia', 'Nvidia', 'Nvidia', 'Nvidia', 'OAKLAND', 'ONTOP', 'ORA', 'ORCHARD Phase II', 'OXY', 'OXY', 'Oakland', 'Oakmark', 'Occidental Petroleum Corporation', 'Oceanian', 'Odyssey', 'Ohio', 'Ohio', 'Ohio', 'Oklahoma', 'Oklahoma', 'Oklahoma City', 'Oliver Chen', 'Oliver Gray', 'Omaha', 'Omaha', 'Omega', 'Omicron', 'Omicron', 'Omicron', 'OpenAI', 'OpenAI', 'OpenAI', 'OpenAI', 'OpenSea', 'OpenTable', 'Opening', 'Operation', 'Oppenheimer', 'Oppenheimer', 'Oracle', 'Oracle Corporation', 'Oracle Corporation', 'Oscar', 'Oscar', 'Oscar Best', 'Oslo', 'Ottawa', 'Ottawa', 'Outsourcing', 'Overweight', 'Overweight', 'Overweight', 'Overweight', 'Overweight', 'Ownership', 'Oxford Brookes University', 'P&G', 'P/BV', 'P/BV', 'P/BV', 'P/CF', 'P/CF', 'P/CF', 'P/CF', 'P/CF', 'P/CF', 'P/CF', 'P/S', 'P/S', 'P/S', 'P/S', 'P/S', 'P/S', 'P/S', 'P/S', 'P/S', 'PACCAR', 'PACCAR', 'PACCAR', 'PACCAR', 'PACCAR Parts', 'PACCAR Parts', 'PACIFIC', 'PAR', 'PBR', 'PBR', 'PBR-A', 'PBR-A', 'PBV', 'PBV', 'PBV', 'PDF', 'PE', 'PEG', 'PEG', 'PEG', 'PEG', 'PEG', 'PEG', 'PEG', 'PEG', 'PEG', 'PEG', 'PEG', 'PEG', 'PEG', 'PEG', 'PEG', 'PEG', 'PEG', 'PEG', 'PEG', 'PEG', 'PEG', 'PEG', 'PEG', 'PEG', 'PET', 'PFE', 'PG', 'PG', 'PG', 'PG', 'PG', 'PG', 'PH', 'PH', 'PHEV', 'PHILADELPHIA', 'PLANO', 'PLM', 'PLTR', 'PM', 'PMV', 'PNC', 'PNC', 'POST', 'POST', 'POST', 'PPD', 'PPG', 'PPG Industries', 'PPoP', 'PS', 'PS', 'PSA', 'PSA-PM', 'PTC Inc.', 'PURPOSE', 'Pablo Rodriguez', 'Pablo Rodriguez', 'Paccar', 'Paccar', 'Paccar', 'Paccar', 'Paccar', 'Paccar', 'Pacific', 'Paddington', 'Paint Point', 'Palo Alto', 'Palo Alto Networks', 'Parker-Hannifin', 'Parker-Hannifin', 'Parker-Hannifin Corporation', 'Parker-Hannifin Corporation', 'Parliament', 'Pascal', 'Paul Allen', 'Paul Marshall', 'Paul Marshall', 'PayPal', 'PayPal', 'PayPal', 'Paypal', 'Paypal', 'Payroll', 'Peacock', 'Peacock', 'Pedro Pascal', 'Penn Medicine', 'Pentagon', 'Pepperidge Farm', 'Pepsi', 'Pepsi-Cola', 'PepsiCo', 'PepsiCo', 'PepsiCo', 'PepsiCo', 'PepsiCo', 'PepsiCo', 'PepsiCo Inc', 'Performance', 'Permian', 'Personal Butler', 'Peru', 'Peter H. Griffith', 'Peter Krueger', 'Peterbilt', 'Peterbilt', 'Petróleo Brasileiro S.A. - Petrobras', 'Petróleo Brasileiro S.A. - Petrobras', 'Pfizer', 'Pfizer', 'Pfizer Inc.', 'Ph.D.', 'PhD', 'Pharma', 'Pharma', 'Phoebe', 'Photoshop', 'Phuket', 'Phuket', 'Phuket', 'Phuket', 'Phutthabucha', 'Phutthabucha', 'Pichet', 'Pignon JP', 'Pitchbook', 'Pizza Hut', 'Platinum', 'PlayStation', 'Pleasanton', 'Pleasanton', 'Plonsk', 'Point of Sale', 'Pol', 'Poland', 'Poland', 'Polaris', 'Polen Capital', 'Polish', 'Portland Trail Blazers', 'Post Holdings', 'Post Holdings', 'Post Holdings', 'Powell', 'Powell', 'Power', 'Power', 'Prego', 'Price/Sales', 'Priceline', 'Procter & Gamble', 'Procter & Gamble', 'Procter & Gamble Co', 'Product Head', 'Profitable', 'Project UP', 'Project UP', 'Proscia', 'Public Company Limited', 'Public Company Limited', 'Public Company Limited', 'Pueblo', 'Pueblo County', 'Pueblo County’s', 'Pueblo West', 'Pueblo communities', 'Purchase', 'QT', 'QTL', 'QoQ', 'QoQ', 'Quaker', 'Qualcomm', 'Qualcomm', 'Qualcomm', 'Qualcomm', 'Qualcomm', 'Qualcomm', 'Qualcomm', 'Qualcomm Inc', 'Qualcomm Inc.', 'Qualcomm Technologies', \"Qualcomm Technologies'\", 'Quartz', 'Queensland', 'Queensland', 'QuickBooks', 'QuickBooks', 'Quilt', 'RBA', 'RBC Capital', 'RBC Capital', 'RBS', 'RGI', 'RMD', 'RMF', 'ROE', 'ROE', 'ROE', 'ROE', 'ROE', 'ROE', 'ROE', 'ROP', 'ROSELAND', 'RTX', 'Rajiv Jain', 'Rajiv Menon', 'Rare Diseases', 'Rato', 'Raymond James', 'Raymond James', 'Rayong', 'Raytheon', 'Raytheon Intelligence & Space', 'Ready', 'Realgood', 'Reasons', 'Rebecca', 'Reduce', 'Regeneron', 'Regeneron', 'Regeneron', 'Related', 'Related', 'Related', 'Renaissance Technologies', 'Renovate', 'Reporters', 'Reporters', 'Republican', 'Republican', 'Republican', 'Republican', 'Research Daily', 'Research Daily', 'Research Daily', 'Research Daily', 'Research Daily', 'Research Division', 'Research Division', 'Research Division', 'Research Division', 'Reset', 'Resolution', 'Resorts', 'Resorts', 'Retail & Commercial', 'Reuters', 'Reuters', 'Reuters', 'Reuters', 'Reuters', 'Reuters', 'Reuters', 'Reuters', 'Reuters', 'Reuters', 'Reuters', 'Reuters', 'Reuters', 'Reuters', 'Reuters', 'Reuters', 'Reuters', 'Reuters', 'Reuters', 'Reuters', 'Reuters', 'Reuters', 'Revenues', 'Rich', 'Richard', 'Richard Liu', 'Richmond', 'Ritchie', 'Ritchie Bros Auctioneers', 'Ritz', 'Ritz-Carlton', 'Rivian', 'Rivian Automotive', 'Roblox', 'Roche', 'Rochester', 'Roku', 'Romklao Road', 'Ron Baron', 'Ron Baron', 'Ronald', 'Rory', 'Rosas', 'Rosewood City', 'Rowan Street Capital', 'Rowan Street Capital', 'Ruffles', 'Russia', 'Russia', 'Russia', 'Russia', 'Russia', 'Russia', 'Russia', 'Russian', 'Rutte', 'Ryan Meyers', 'Ryanair', 'S', 'S&P', 'S&P', 'S&P', 'S&P', 'S&P', 'S&P', 'S&P', 'S.A.', 'SAL', 'SAN.PA', 'SAN.PA', 'SAN.PA', 'SAN.PA', 'SAN.PA', 'SAN.PA', 'SAN.PA', 'SAN.PA', 'SANTA CLARA', 'SAP', 'SAP SE', 'SAVANNAH', 'SAWASDEE', 'SCAP', 'SCAP', 'SCLC', 'SEC', 'SEC', 'SEC', 'SEC', 'SEC', 'SF', 'SHOP', 'SINGAPORE', 'SJS', 'SJS', 'SKU', 'SMB', 'SME', 'SME', 'SME', 'SMIC', 'SMIC', 'SNA', 'SNOW', 'SNOW', 'SONY', 'SOS', 'SPAC', 'SPGI', 'SPOT', 'SQ', 'STOCKHOLM', 'SUCCESS', 'SVB', 'SVB', 'SVB', 'SXSW', 'SYK', 'SYY', 'SYY', 'SaaS', 'Safe Harbor', 'Sage Payroll', 'Saia', 'Said', 'Salesforce', \"Sam's Club\", 'Samsung', 'Samsung', 'Samsung', 'Samsung', 'Samsung Electronics Co.', 'Samsung Electronics Co.', 'San', 'San Diego', 'San Francisco', 'San Francisco', 'San Francisco', 'San Francisco', 'San Francisco', 'San Francisco', 'San Francisco Bay-area', 'San Jose', 'San Jose', 'San Jose', 'San Jose', 'San Jose', 'San Mateo', 'San Rafael', 'Sanders', 'Sandoz', 'Sandoz', 'Sandoz', 'Sandy', 'Sandy Xu', 'Sanofi', 'Sanofi', 'Sanofi', 'Sanofi', 'Sanofi', 'Sanofi', 'Sanofi SA', \"Sanofi's\", \"Sanofi's\", 'Santa Clara', 'Saraburi Province', 'Saraburi Province', 'Saraburi province', 'Schaumburg', 'Schiraldi', 'Schulman', 'Schultz', 'Schultz', 'Scope', 'Scotiabank', 'Scott Miller', 'Scottsdale', 'Sean Zhang', 'Seattle', 'Seattle', 'Seattle', 'Seattle Seahawks', 'Second', 'Second', 'Second', 'Secondly', 'Secondly', 'Secondly', 'Self-Test', 'Semafor', 'Semiconductor', 'Senate', 'Sensei', 'Seoul', 'Sert', 'ServiceNow', 'Sethi S', 'Sethi S', 'Shanghai', 'Shanghai', 'Shanghai', 'Shanghai', 'Shein', 'Shein', 'Shenzhen', 'Shenzhen', 'Sheraz', 'Sheraz', 'Sheraz', 'Shop Now', 'Shop Now', 'SiC', 'Sierra', 'Sigh', 'Sight & Sound', 'Signature Bank', 'Silicon Valley', 'Silicon Valley Bank', 'Silicon Valley Bank', 'Silicon Valley Bank', \"Silicon Valley Bank's\", 'Simonetti', 'Singapore', 'Singapore', 'Singapore', 'Singapore', 'Sioux Falls', 'Siren', 'Skift', 'Skinny', 'Sky', 'Sky', 'Sky News', 'Sky News', 'Sky Sports', 'Sky Sports', 'Sky Studios', 'Sky Studios', 'Skyscanner', 'Small Cap', 'Smart Cities', 'Smart City', 'Smart City & Building', 'Smart Retail', 'Snap', 'Snapdragon', 'Snapdragon', 'Snapdragon', 'Snapdragon', 'Snyder', 'SodaStream', 'SoftBank', 'SoftBank', 'Software', 'Solid', 'Solveig', 'Somchai', 'Son Co., Ltd.', 'Sony', 'Sony Electronics', 'Sony Electronics', 'Sony Electronics', 'South Africa', 'South Africa', 'South Africa', 'South African', 'South America', 'South America', 'South America', 'South Atlantic', 'South Carolina', 'South Korea', 'South Korea', 'South Korean', 'Southeast Asia', 'Southeast Asia', 'Southeast Asia', 'Southeast Asia', 'Southeast Asia', 'Southeast Asian', 'Southern Company', 'Southern District', 'Spain', 'Specializing', 'Specialty Care', 'Specialty Care', 'Splunk Inc.', 'Spokesperson', 'Spokesperson', 'Spokesperson', 'Sprint', 'Sprint', 'Sprint', 'Sprint', 'Spruce', 'Stacy', 'Stage IB', 'Stage II', 'Stage III', 'Stamps', \"Standard & Poor's\", \"Standard & Poor's\", 'Stanford', 'Starbucks', 'Starbucks', 'Starbucks', 'Starbucks', 'Starbucks', 'Starbucks', 'Starbucks', 'Starbucks', 'Starbucks Corporation', 'Starbucks Corporation', 'Starbucks Siren', 'Starbucks Union', 'Statista', 'Stelara', 'Stelara', 'Stephenson', 'Stevens-Johnson', 'Stifel', 'Stockholm', 'Stockholm', 'Stockholm', 'Street Wrap', 'Strength', 'Strength', 'Strip AI', 'Strong Buy', 'Strong Buy', 'Strong Buy', 'Strong Buy', 'Strong Buy', 'Strong Buy', 'Strong Buy', 'Strong Buy', 'Strong Buy', 'Strong Buy', 'Strong Buy', 'Stryker', 'Subsidiary', 'Suggested', 'Suggested', 'Suggested', 'Suggested', 'Suggested', 'Suggested', 'Suggested', 'Suksawat', 'Sun Life', 'Sunee', 'Sunnyvale', 'Super Bowl', 'SuperRare', 'Suvarnabhumi', 'Suvarnabhumi Airport', 'Suvarnabhumi Airport', 'Suvarnabhumi Airport', 'Suvarnabhumi Airport', 'Suzhou', 'Sweden', 'Sweden', 'Sweden & Finland', 'Swedish', 'Swiss', 'Swiss', 'Swiss', 'Swiss', 'Synovus Trust Co.', 'Syria', 'Sysco Corporation', 'Sysco Corporation', 'Systems', 'T', 'T-Mobile US Inc', 'T-Mobile US Inc', 'T-Mobile US Inc', 'T-Mobile US Inc.', 'T-Mobile and', \"T-Mobile's\", 'T-PC', 'T-PC', 'T-PC', 'T-PC', 'T-PC', 'TAT', 'TBR', 'TCL', 'TCR', 'TD', 'TDR', 'TEE', 'TGT', 'TGT', 'TGT', 'THC', 'THC', 'THE CITY', 'TI', 'TIGIT', 'TKI', 'TMC', 'TME', 'TMO', 'TOR', 'TORONTO', 'TRI', 'TRP', 'TRP', 'TSM', 'TSM', 'TSM', 'TSM', 'TSMC', 'TSMC', 'TSMC', 'TT', 'TTM', 'TTM', 'TUI', 'TUI Tours', 'TVI', 'Tableau', 'Taco Bell', 'Tainan City', 'Taiwan', 'Taiwan', 'Taiwan', 'Taiwan', 'Taiwan', 'Taiwan Semiconductor', 'Taiwan Semiconductor Manufacturing', 'Taiwan Semiconductor Manufacturing Company', 'Takeover', 'Tan Group Public Company Limited', 'Tan San Su', 'Taobao', 'Target', 'Target Corporation', 'Tax', 'Tax', 'Team', 'Tech', 'Tech', 'Tech', 'Telecommunication', 'Telemundo', 'Telemundo', 'Temu', 'Temu', 'Tennessee', 'Terminal Value', 'Terminal Value', 'Terry Smith', 'Tesla', 'Tesla', 'Tesla', 'Tesla', 'Tesla', 'Tesla', 'Tesla', 'Tesla', 'Tesla Inc.', 'Tesla, Inc.', 'Texas', 'Texas', 'Texas', 'Texas', 'Texas', 'Texas', 'Texas', 'Texas Instruments', 'Texas Instruments', 'Texas Instruments', 'Texas Instruments', 'Texas Instruments', 'Texas Instruments', 'Texas Instruments', 'Texas Instruments Inc.', 'Texas Instruments Incorporated', 'Texas Instruments Incorporated', 'Texas Instruments Incorporated', 'Texas Instruments Incorporated', 'Texas Instruments Incorporated', 'Texas Instruments Incorporated', 'Texas Instruments Incorporated', 'Thai', 'Thai', 'Thai', 'Thai', 'Thai', 'Thai', 'Thai', 'Thai', 'Thai', 'Thai', 'Thai', 'Thai', 'Thai', 'Thai', 'Thai', 'Thai', 'Thai', 'Thai', 'Thai', 'Thai', 'Thai', 'Thai', 'Thai', 'Thai', 'Thailand', 'Thailand', 'Thailand', 'Thailand', 'Thailand', 'Thailand', 'Thailand', 'Thailand', 'Thailand', 'Thailand', 'Thailand', 'Thailand', 'Thailand', 'Thailand', 'Thailand', 'Thailand', 'Thailand', 'Thailand', 'Thailand', 'Thailand', 'Thailand', 'Thailand', 'Thailand', 'Thailand', 'Thailand', 'Thailand', 'Thailand', 'Thailand', 'Thailand', 'Thailand', 'Thailand', 'Thailand', 'Thailand', 'Thailand', 'Thailand', 'Thailand Co., Ltd.', 'Thailand Co., Ltd.', 'Thailand Co., Ltd.', 'Thailand Public Company Limited', 'Thailand Public Company Limited', 'Thailand Public Company Limited', 'Thailand Public Company Limited', 'Thailand Public Company Limited', 'Thailand Public Company Limited', 'Thailand Public Company Limited', 'Thailand Public Company Limited', 'Thais', 'Thana Sinsap', 'Thana Sinsap', 'Thana Sinsap', 'Thana Sinsap', 'Thana Sinsap', 'Thana Sinsap', 'Thana Sinsap', 'Thana Sinsap', 'Thana Sinsap', 'Thatcher', 'The ', 'The ', 'The Academy of Motion Picture Arts', 'The Bancorp Bank', 'The Boy', 'The Clorox Company', 'The Coca-Cola Company', 'The Coca-Cola Company', 'The Coca-Cola Company', 'The European Commission', 'The Financial Times', 'The Gates Foundation', 'The Hershey Company', 'The Kroger Co.', 'The Mall Ngamwongwan', 'The New York Times', 'The Retail - Restaurants', 'The Retail - Restaurants', 'The Ritz-Carlton', 'The Sage Group plc', 'The Seattle Times', 'The United States', 'The University of Texas', 'The Wall Street Journal', 'The Walt Disney', 'The Walt Disney Company', 'The Woodlands', 'Thermo Fisher Scientific Inc.', 'Third', 'Third Point', 'Thomas', 'Thomas Chong', 'Thomas Chong', 'Thomas Roth', 'Thomson Reuters', 'Thousand Oaks', 'Tide', 'TikTok', 'TikTok', 'TikTok', 'TikTok', 'Tim', 'Tim Anderson', 'Tim Cook', 'Tim Taylor', 'Tmall', 'Tokyo', 'Tokyo Electron Ltd.', 'Tokyo Electron Ltd.', 'Tomaszow Mazowiecki', 'Toronto', 'Toronto-Dominion Bank', 'Tostitos', 'Toyota', 'Toyota', 'Toyota', 'Toyota', 'Trades', 'Trairat', 'Trident', 'Tripadvisor', 'True Black', 'True Group', 'Truist', 'Truist', 'Trump', 'Trump', 'Trần Mỹ', 'Twilio Inc.', 'Twinkies', 'Twitter', 'Twitter', 'Twitter', 'Twitter', 'Twitter', 'Twitter', 'Twitter', 'Twitter', 'Twitter', 'Twitter', 'Twitter', 'Twitter', 'Tyler', 'Tyme', 'Türkiye', 'U.K.', 'U.K.', 'U.K.', 'U.S', 'U.S', 'U.S.', 'U.S.', 'U.S.', 'U.S.', 'U.S.', 'U.S.', 'U.S.', 'U.S.', 'U.S.', 'U.S.', 'U.S.', 'U.S.', 'U.S.', 'U.S.', 'U.S.', 'U.S.', 'U.S.', 'U.S.', 'U.S.', 'U.S.', 'U.S.', 'U.S.', 'U.S.', 'U.S.', 'U.S.', 'U.S.', 'U.S.', 'U.S.', 'U.S.', 'U.S.', 'U.S.', 'U.S.', 'U.S.', 'U.S.', 'U.S.', 'U.S.', 'U.S.', 'U.S.', 'U.S.', 'U.S.', 'U.S.', 'U.S.', 'U.S.', 'U.S.', 'U.S.', 'U.S.', 'U.S. State', 'U.S. Treasury', 'U.S. Treasury', 'U.S.-China', 'UBS', 'UBS', 'UBS', 'UBS', 'UBS', 'UBS', 'UE', 'UEFA', 'ULA', 'UNESCO', 'UNFI', 'UNH', 'UNH', 'UNP', 'UOP', 'UPA', 'UPS', 'URM', 'US', 'US', 'US', 'US', 'US', 'US', 'US', 'US', 'US', 'US', 'US', 'US', 'US', 'US', 'US', 'US', 'US', 'US', 'US', 'US', 'US', 'US', 'US', 'US', 'US', 'US', 'US', 'US', 'US', 'US', 'US', 'US', 'US', 'US', 'US', 'US', 'US', 'USA', 'USA', 'UTC', 'Uber', 'Udomsuk', 'Udomsuk', 'Udomsuk', 'Udomsuk', 'Uganda', 'Ukraine', 'Ukraine', 'Ukraine', 'Ukraine', 'Ukraine', 'Un', 'Unilever', 'Union Pacific', 'United Natural Foods', 'United States', 'United States', 'United States', 'United States', 'United Way', 'Universal Parks', 'Universal Parks', 'Upfield', \"Urban Outfitters'\", 'Us', 'Utah', 'VAT', 'VDL ETG', 'VDL Groep', 'VEEV', 'VEEV', 'VIETNAM', 'VIZIO', 'VLN', 'VLO', 'VMW', 'VMware', 'VND', 'VZ', 'VZ', 'VZ', 'VZ', 'VZ', 'Valero', 'Valero Energy', 'Valley', 'Value', 'Value', 'Value', 'Value', 'Value', 'Value', 'Value', 'Veldhoven', 'Veldhoven', 'Veldhoven', 'Ventilating', 'Veoneer', 'Verify', 'Verizon', 'Verizon', 'Verizon', 'Vermont', 'Veterans', 'Viator', 'Viavi', 'Vichit', 'Vietnam', 'Vietnam', 'Vietnam', 'Vietnam', 'Vietnam', 'Vietnam', 'Vietnam', 'Vietnam', 'Vietnam', 'Vincent Powell', 'Virginia', 'Visa', 'Visa Inc.', 'Visma', 'Vitamix', 'Volvo', 'W', 'WA', 'WACC', 'WACC', 'WELL', 'WFH', 'WIGBY', 'WILMINGTON', 'WILMINGTON', 'WILMINGTON', 'WILMINGTON', 'WMT', 'WMT', 'WMT', 'WMT', 'WMT', 'Wallapa', 'Walmart', 'Walmart', 'Walmart Inc.', 'Walmart Inc.', 'Walmart Inc.', 'Walt Disney', 'Walt Disney Co.', 'Wang Xing', 'Warren', 'Warren Buffet', 'Warren Buffett', 'Warren Buffett', 'Warren Buffett', 'Warren Buffett', 'Warren Buffett', 'Wash.', 'Washington', 'Washington', 'Washington', 'Washington', 'Washington', 'Washington', 'Washington', 'Washington DC', 'Washington, DC', 'Watcharapol', 'Watcharapol', 'Waterloo Park', 'Watts', 'Way Valley', 'WeWork', 'Wedbush', 'Weibo', 'Wells Fargo', 'Wells Fargo', 'Wells Fargo & Company', 'West', 'West South Central', 'Whalen', 'WhatsApp', 'WhatsApp', 'White House', 'Whole Earth', 'WiFi', 'WiFi', 'Wiboon', 'Wihan Daeng District', 'Wilai', 'William Mallard', 'William McDermott', 'Win', 'Windows', 'Wireless Reach', 'Wisconsin', 'Woodland Hills', 'World', 'World', 'World', 'World', 'World', 'World Bank', 'World War II', 'World War One', 'World of Women', 'Worldwide', 'XD', 'XG', 'XG', 'XO', 'XOM', 'XOM', 'XOM', 'XR', 'Xbox', 'Xfinity', 'Xfinity', 'Xfinity Mobile', 'Xi Jinping', 'Xiaoshigou', 'Xu', 'Xu', 'Xu Lei', 'Xu Lei', 'YUM', 'Yana Gaur', 'Yang Beach', 'Yang Yang', 'Yankee Publishing Inc.', 'Yield', 'YoY', 'YoY', 'YoY', 'YoY', 'Yonghui', 'YouTube', 'YouTube', 'YouTube', 'YouTube', 'Yousef', 'Yum!', 'Yvette', 'Yvonne', 'ZUMZ', 'Zacks', 'Zacks', 'Zacks', 'Zacks', 'Zacks', 'Zacks', 'Zacks', 'Zacks', 'Zacks', 'Zacks', 'Zacks', 'Zacks', 'Zacks', 'Zacks', 'Zacks', 'Zacks', 'Zahid Khan', 'Zara', 'Zoom', 'Zoom Video Communications', 'Zuckerberg', 'Zuken', 'Zukin', 'Zumiez', '^DJI', '^DJI', '^DJI', '^GSPC', '^GSPC', '^GSPC', '^GSPC', '^GSPC', '^GSPC', '^GSPC', '^GSPC', '^GSPC', '^GSPC', '^GSPC', '^RUT', 'a last mile', 'billion-dollar', 'christian', 'congress', 'contract.in', 'democratic', 'eCommerce', 'eighth', 'fifth', 'fifth', 'fourth', 'fourth', 'fourth', 'fourth', 'fourth', 'iPad', 'iPhone', 'iPhone', 'iPhone', 'iPhone', 'iPhones', 'iPhones', 'iPod', 'jargon', 'last-mile', 'marijuana', 'marijuana', 'marijuana', 'million-dollar', 'modem', 'ninth', 'non-Swedish', 'n’t', 'n’t', 'p.a.', 'sean', 'secondary', 'secondary', 'secondly', 'seventh', 'seventh', 'seventh', 'seventh', 'sixth', 'tenth', 'texas', 'texas united states', 'the ', 'the ', 'the ', 'the ', 'the ', 'the ', 'the ', 'the ', 'the Academy of Motion Picture Arts', 'the Air Force', 'the App Store', 'the Asia Pacific', 'the Asiatique', 'the Bangkok Marriott Hotel', 'the Bank', 'the Bay Area', 'the Bear of the Day', 'the Black Sea', 'the Blue Line', 'the Blue Line', 'the Cabinet (Cabinet', 'the Chonburi Industrial Estate', 'the Commerce Department', 'the Commerce Department', 'the Communist Party of China', 'the Department of Highways\\n', 'the Digital Media', 'the Eastern Cape', 'the European Commission', 'the Federal Reserve', 'the Federal Reserve', 'the Federal Reserve', 'the Federal Reserve', 'the Federal Reserve', 'the Federal Reserve', 'the Federal Reserve', 'the Federal Reserve', 'the Federal Trade Commission', 'the General Court', 'the Global Education Program', 'the Government Savings Bank', 'the Granite State', 'the House of Representatives', 'the Hudson County Executive', 'the Independent Financial Advisor', 'the International Finance Corporation', 'the L/C', 'the Lakes Region', 'the M-Rate', 'the Middle East', 'the Middle East', 'the Middle East', 'the Middle East', 'the Middle East', 'the Ministry of Public Health', 'the National Security Council', 'the Office of Kor', 'the P/S', \"the People's Republic of China\", 'the Phuket Marriott Resort', 'the Rest of World', 'the Retail-Wholesale', 'the Retail-Wholesale', 'the Retail-Wholesale', 'the Safe Harbor', 'the Safe Harbor', 'the Second Time', 'the Securities and Exchange Commission', 'the Securities and Exchange Commission', 'the Silicon Valley Bank', 'the Socialist Republic of Vietnam', 'the Southern District', 'the Stock Exchange of Thailand', 'the Stock Exchange of Thailand', 'the Stock Exchange of Thailand', 'the Stock Exchange of Thailand', 'the Stock Exchange of Thailand', 'the Stock Exchange of Thailand', 'the Stock Exchange of Thailand', 'the Stock Exchange of Thailand', 'the Stock Exchange of Thailand', 'the The Last', 'the US Federal Reserve', 'the United Kingdom', 'the United States', 'the United States', 'the United States', 'the United States', 'the United States', 'the United States', 'the United States', 'the United States', 'the United States', 'the United States', 'the United States', 'the United States', 'the United States', 'the United States', 'the United States', 'the United States', 'the United States', 'the United States', 'the United States', 'the United States', 'the United States', 'the United States', 'the United States', 'the United States', 'the United States', 'the United States', 'the United States', 'the United States', 'the University of California', 'the White House', 'the White House', 'the Women’s Day', 'the World Wildlife Fund', 'the Zacks ', 'thirteenth', 'way)Mr', '\\u200b\\u200bAmata City Chonburi Industrial Estate', '’s']\n"
     ]
    }
   ],
   "source": [
    "print(filter_special_2(l))"
   ]
  },
  {
   "cell_type": "code",
   "execution_count": 26,
   "metadata": {},
   "outputs": [],
   "source": [
    "\n",
    "df = pd.DataFrame(l, columns=['Lname', 'Country', 'Latitude','Longitude','NewsId'])\n"
   ]
  },
  {
   "cell_type": "code",
   "execution_count": 27,
   "metadata": {},
   "outputs": [
    {
     "data": {
      "text/html": [
       "<div>\n",
       "<style scoped>\n",
       "    .dataframe tbody tr th:only-of-type {\n",
       "        vertical-align: middle;\n",
       "    }\n",
       "\n",
       "    .dataframe tbody tr th {\n",
       "        vertical-align: top;\n",
       "    }\n",
       "\n",
       "    .dataframe thead th {\n",
       "        text-align: right;\n",
       "    }\n",
       "</style>\n",
       "<table border=\"1\" class=\"dataframe\">\n",
       "  <thead>\n",
       "    <tr style=\"text-align: right;\">\n",
       "      <th></th>\n",
       "      <th>Lname</th>\n",
       "      <th>Country</th>\n",
       "      <th>Latitude</th>\n",
       "      <th>Longitude</th>\n",
       "      <th>NewsId</th>\n",
       "    </tr>\n",
       "  </thead>\n",
       "  <tbody>\n",
       "    <tr>\n",
       "      <th>0</th>\n",
       "      <td>ABBV</td>\n",
       "      <td>Belgium</td>\n",
       "      <td>50.859575</td>\n",
       "      <td>4.368629</td>\n",
       "      <td>261</td>\n",
       "    </tr>\n",
       "    <tr>\n",
       "      <th>1</th>\n",
       "      <td>ABBV</td>\n",
       "      <td>Belgium</td>\n",
       "      <td>50.859575</td>\n",
       "      <td>4.368629</td>\n",
       "      <td>335</td>\n",
       "    </tr>\n",
       "    <tr>\n",
       "      <th>2</th>\n",
       "      <td>ABR</td>\n",
       "      <td>Italy</td>\n",
       "      <td>42.227681</td>\n",
       "      <td>13.854983</td>\n",
       "      <td>166</td>\n",
       "    </tr>\n",
       "    <tr>\n",
       "      <th>3</th>\n",
       "      <td>ABT</td>\n",
       "      <td>Portugal</td>\n",
       "      <td>39.463191</td>\n",
       "      <td>-8.197362</td>\n",
       "      <td>150</td>\n",
       "    </tr>\n",
       "    <tr>\n",
       "      <th>4</th>\n",
       "      <td>ACP</td>\n",
       "      <td>Armenia</td>\n",
       "      <td>41.096083</td>\n",
       "      <td>44.679106</td>\n",
       "      <td>222</td>\n",
       "    </tr>\n",
       "    <tr>\n",
       "      <th>...</th>\n",
       "      <td>...</td>\n",
       "      <td>...</td>\n",
       "      <td>...</td>\n",
       "      <td>...</td>\n",
       "      <td>...</td>\n",
       "    </tr>\n",
       "    <tr>\n",
       "      <th>4065</th>\n",
       "      <td>christian</td>\n",
       "      <td>United States</td>\n",
       "      <td>39.521260</td>\n",
       "      <td>-89.282978</td>\n",
       "      <td>178</td>\n",
       "    </tr>\n",
       "    <tr>\n",
       "      <th>4066</th>\n",
       "      <td>congress</td>\n",
       "      <td>United States</td>\n",
       "      <td>34.153848</td>\n",
       "      <td>-112.854919</td>\n",
       "      <td>355</td>\n",
       "    </tr>\n",
       "    <tr>\n",
       "      <th>4067</th>\n",
       "      <td>contract.in</td>\n",
       "      <td>United States</td>\n",
       "      <td>38.386398</td>\n",
       "      <td>-85.669325</td>\n",
       "      <td>56</td>\n",
       "    </tr>\n",
       "    <tr>\n",
       "      <th>4068</th>\n",
       "      <td>democratic</td>\n",
       "      <td>Democratic Republic of the Congo</td>\n",
       "      <td>-2.981434</td>\n",
       "      <td>23.822264</td>\n",
       "      <td>355</td>\n",
       "    </tr>\n",
       "    <tr>\n",
       "      <th>4069</th>\n",
       "      <td>eCommerce</td>\n",
       "      <td>China</td>\n",
       "      <td>22.290344</td>\n",
       "      <td>114.272864</td>\n",
       "      <td>308</td>\n",
       "    </tr>\n",
       "  </tbody>\n",
       "</table>\n",
       "<p>4070 rows × 5 columns</p>\n",
       "</div>"
      ],
      "text/plain": [
       "            Lname                           Country   Latitude   Longitude  \\\n",
       "0            ABBV                           Belgium  50.859575    4.368629   \n",
       "1            ABBV                           Belgium  50.859575    4.368629   \n",
       "2             ABR                             Italy  42.227681   13.854983   \n",
       "3             ABT                          Portugal  39.463191   -8.197362   \n",
       "4             ACP                           Armenia  41.096083   44.679106   \n",
       "...           ...                               ...        ...         ...   \n",
       "4065    christian                     United States  39.521260  -89.282978   \n",
       "4066     congress                     United States  34.153848 -112.854919   \n",
       "4067  contract.in                     United States  38.386398  -85.669325   \n",
       "4068   democratic  Democratic Republic of the Congo  -2.981434   23.822264   \n",
       "4069    eCommerce                             China  22.290344  114.272864   \n",
       "\n",
       "     NewsId  \n",
       "0       261  \n",
       "1       335  \n",
       "2       166  \n",
       "3       150  \n",
       "4       222  \n",
       "...     ...  \n",
       "4065    178  \n",
       "4066    355  \n",
       "4067     56  \n",
       "4068    355  \n",
       "4069    308  \n",
       "\n",
       "[4070 rows x 5 columns]"
      ]
     },
     "execution_count": 27,
     "metadata": {},
     "output_type": "execute_result"
    }
   ],
   "source": [
    "df"
   ]
  },
  {
   "cell_type": "code",
   "execution_count": 29,
   "metadata": {},
   "outputs": [
    {
     "data": {
      "text/plain": [
       "<function Connection.close>"
      ]
     },
     "execution_count": 29,
     "metadata": {},
     "output_type": "execute_result"
    }
   ],
   "source": [
    "con = sqlite3.connect(r'C:\\Users\\JourneyQ\\OneDrive - kmutnb.ac.th\\Desktop\\Quick_file\\year_2-S_2\\Project_sofedev_2\\Manage_Share\\Database_convert\\share_V3.sqlite')\n",
    "cur = con.cursor()    \n",
    "newshare = df.to_sql('Location_in_News',con,if_exists='append', index=False)\n",
    "con.commit()\n",
    "con.close"
   ]
  },
  {
   "cell_type": "code",
   "execution_count": null,
   "metadata": {},
   "outputs": [],
   "source": []
  }
 ],
 "metadata": {
  "kernelspec": {
   "display_name": "Python 3",
   "language": "python",
   "name": "python3"
  },
  "language_info": {
   "codemirror_mode": {
    "name": "ipython",
    "version": 3
   },
   "file_extension": ".py",
   "mimetype": "text/x-python",
   "name": "python",
   "nbconvert_exporter": "python",
   "pygments_lexer": "ipython3",
   "version": "3.9.12"
  },
  "orig_nbformat": 4
 },
 "nbformat": 4,
 "nbformat_minor": 2
}
