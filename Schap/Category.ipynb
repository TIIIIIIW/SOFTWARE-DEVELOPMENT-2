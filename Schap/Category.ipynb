{
 "cells": [
  {
   "cell_type": "code",
   "execution_count": 1,
   "id": "f4dfd793",
   "metadata": {},
   "outputs": [],
   "source": [
    "from selenium import webdriver\n",
    "import pandas as pd\n",
    "import html5lib\n",
    "import mplfinance as mpf\n",
    "import matplotlib.pyplot as plt\n",
    "import yfinance as yf"
   ]
  },
  {
   "cell_type": "code",
   "execution_count": 16,
   "id": "25302c33",
   "metadata": {},
   "outputs": [],
   "source": [
    "def save_csv(df,name):\n",
    "\n",
    "    name += \".csv\"\n",
    "    df.to_csv(name,index=False)\n",
    "    \n",
    "    return \"succes\""
   ]
  },
  {
   "cell_type": "code",
   "execution_count": 2,
   "id": "83fb1aee",
   "metadata": {},
   "outputs": [],
   "source": [
    "table_info = pd.read_csv('Symbol_info_en_V2.csv')"
   ]
  },
  {
   "cell_type": "markdown",
   "id": "a4df4b33",
   "metadata": {},
   "source": [
    "# Sector table"
   ]
  },
  {
   "cell_type": "code",
   "execution_count": 38,
   "id": "75b9f7a1",
   "metadata": {},
   "outputs": [
    {
     "name": "stdout",
     "output_type": "stream",
     "text": [
      "['Energy & Utilities' 'Information & Communication Technology'\n",
      " 'Finance & Securities' 'Property Development'\n",
      " 'Transportation & Logistics' 'Banking' 'Health Care Services'\n",
      " 'Media & Publishing' 'Insurance' 'Food & Beverage' 'Tourism & Leisure'\n",
      " 'Construction Services' 'Commerce' 'Construction Materials'\n",
      " 'Electronic Components' 'Petrochemicals & Chemicals' 'Packaging'\n",
      " 'Agribusiness' 'Industrial Materials & Machinery'\n",
      " 'Personal Products & Pharmaceuticals']\n"
     ]
    }
   ],
   "source": [
    "sector = table_info.Sector.unique()\n",
    "print(sector)"
   ]
  },
  {
   "cell_type": "code",
   "execution_count": 39,
   "id": "d9c1cd38",
   "metadata": {},
   "outputs": [],
   "source": [
    "Sector_table = {\"Sector\":sector}"
   ]
  },
  {
   "cell_type": "code",
   "execution_count": 40,
   "id": "72cfa04a",
   "metadata": {},
   "outputs": [],
   "source": [
    "Sector_table = pd.DataFrame(data=Sector_table)"
   ]
  },
  {
   "cell_type": "code",
   "execution_count": 41,
   "id": "ae122880",
   "metadata": {
    "scrolled": true
   },
   "outputs": [
    {
     "data": {
      "text/html": [
       "<div>\n",
       "<style scoped>\n",
       "    .dataframe tbody tr th:only-of-type {\n",
       "        vertical-align: middle;\n",
       "    }\n",
       "\n",
       "    .dataframe tbody tr th {\n",
       "        vertical-align: top;\n",
       "    }\n",
       "\n",
       "    .dataframe thead th {\n",
       "        text-align: right;\n",
       "    }\n",
       "</style>\n",
       "<table border=\"1\" class=\"dataframe\">\n",
       "  <thead>\n",
       "    <tr style=\"text-align: right;\">\n",
       "      <th></th>\n",
       "      <th>Sector</th>\n",
       "    </tr>\n",
       "  </thead>\n",
       "  <tbody>\n",
       "    <tr>\n",
       "      <th>0</th>\n",
       "      <td>Energy &amp; Utilities</td>\n",
       "    </tr>\n",
       "    <tr>\n",
       "      <th>1</th>\n",
       "      <td>Information &amp; Communication Technology</td>\n",
       "    </tr>\n",
       "    <tr>\n",
       "      <th>2</th>\n",
       "      <td>Finance &amp; Securities</td>\n",
       "    </tr>\n",
       "    <tr>\n",
       "      <th>3</th>\n",
       "      <td>Property Development</td>\n",
       "    </tr>\n",
       "    <tr>\n",
       "      <th>4</th>\n",
       "      <td>Transportation &amp; Logistics</td>\n",
       "    </tr>\n",
       "    <tr>\n",
       "      <th>5</th>\n",
       "      <td>Banking</td>\n",
       "    </tr>\n",
       "    <tr>\n",
       "      <th>6</th>\n",
       "      <td>Health Care Services</td>\n",
       "    </tr>\n",
       "    <tr>\n",
       "      <th>7</th>\n",
       "      <td>Media &amp; Publishing</td>\n",
       "    </tr>\n",
       "    <tr>\n",
       "      <th>8</th>\n",
       "      <td>Insurance</td>\n",
       "    </tr>\n",
       "    <tr>\n",
       "      <th>9</th>\n",
       "      <td>Food &amp; Beverage</td>\n",
       "    </tr>\n",
       "    <tr>\n",
       "      <th>10</th>\n",
       "      <td>Tourism &amp; Leisure</td>\n",
       "    </tr>\n",
       "    <tr>\n",
       "      <th>11</th>\n",
       "      <td>Construction Services</td>\n",
       "    </tr>\n",
       "    <tr>\n",
       "      <th>12</th>\n",
       "      <td>Commerce</td>\n",
       "    </tr>\n",
       "    <tr>\n",
       "      <th>13</th>\n",
       "      <td>Construction Materials</td>\n",
       "    </tr>\n",
       "    <tr>\n",
       "      <th>14</th>\n",
       "      <td>Electronic Components</td>\n",
       "    </tr>\n",
       "    <tr>\n",
       "      <th>15</th>\n",
       "      <td>Petrochemicals &amp; Chemicals</td>\n",
       "    </tr>\n",
       "    <tr>\n",
       "      <th>16</th>\n",
       "      <td>Packaging</td>\n",
       "    </tr>\n",
       "    <tr>\n",
       "      <th>17</th>\n",
       "      <td>Agribusiness</td>\n",
       "    </tr>\n",
       "    <tr>\n",
       "      <th>18</th>\n",
       "      <td>Industrial Materials &amp; Machinery</td>\n",
       "    </tr>\n",
       "    <tr>\n",
       "      <th>19</th>\n",
       "      <td>Personal Products &amp; Pharmaceuticals</td>\n",
       "    </tr>\n",
       "  </tbody>\n",
       "</table>\n",
       "</div>"
      ],
      "text/plain": [
       "                                    Sector\n",
       "0                       Energy & Utilities\n",
       "1   Information & Communication Technology\n",
       "2                     Finance & Securities\n",
       "3                     Property Development\n",
       "4               Transportation & Logistics\n",
       "5                                  Banking\n",
       "6                     Health Care Services\n",
       "7                       Media & Publishing\n",
       "8                                Insurance\n",
       "9                          Food & Beverage\n",
       "10                       Tourism & Leisure\n",
       "11                   Construction Services\n",
       "12                                Commerce\n",
       "13                  Construction Materials\n",
       "14                   Electronic Components\n",
       "15              Petrochemicals & Chemicals\n",
       "16                               Packaging\n",
       "17                            Agribusiness\n",
       "18        Industrial Materials & Machinery\n",
       "19     Personal Products & Pharmaceuticals"
      ]
     },
     "execution_count": 41,
     "metadata": {},
     "output_type": "execute_result"
    }
   ],
   "source": [
    "Sector_table"
   ]
  },
  {
   "cell_type": "code",
   "execution_count": 42,
   "id": "aeb9babf",
   "metadata": {},
   "outputs": [],
   "source": [
    "Sector_table[\"SectorId\"] = Sector_table.index + 1"
   ]
  },
  {
   "cell_type": "code",
   "execution_count": 43,
   "id": "430be3cb",
   "metadata": {},
   "outputs": [
    {
     "data": {
      "text/plain": [
       "'succes'"
      ]
     },
     "execution_count": 43,
     "metadata": {},
     "output_type": "execute_result"
    }
   ],
   "source": [
    "save_csv(Sector_table,\"Sector\")"
   ]
  },
  {
   "cell_type": "code",
   "execution_count": 44,
   "id": "b80d6bb2",
   "metadata": {
    "scrolled": true
   },
   "outputs": [
    {
     "data": {
      "text/html": [
       "<div>\n",
       "<style scoped>\n",
       "    .dataframe tbody tr th:only-of-type {\n",
       "        vertical-align: middle;\n",
       "    }\n",
       "\n",
       "    .dataframe tbody tr th {\n",
       "        vertical-align: top;\n",
       "    }\n",
       "\n",
       "    .dataframe thead th {\n",
       "        text-align: right;\n",
       "    }\n",
       "</style>\n",
       "<table border=\"1\" class=\"dataframe\">\n",
       "  <thead>\n",
       "    <tr style=\"text-align: right;\">\n",
       "      <th></th>\n",
       "      <th>Sector</th>\n",
       "      <th>SectorId</th>\n",
       "    </tr>\n",
       "  </thead>\n",
       "  <tbody>\n",
       "    <tr>\n",
       "      <th>0</th>\n",
       "      <td>Energy &amp; Utilities</td>\n",
       "      <td>1</td>\n",
       "    </tr>\n",
       "    <tr>\n",
       "      <th>1</th>\n",
       "      <td>Information &amp; Communication Technology</td>\n",
       "      <td>2</td>\n",
       "    </tr>\n",
       "    <tr>\n",
       "      <th>2</th>\n",
       "      <td>Finance &amp; Securities</td>\n",
       "      <td>3</td>\n",
       "    </tr>\n",
       "    <tr>\n",
       "      <th>3</th>\n",
       "      <td>Property Development</td>\n",
       "      <td>4</td>\n",
       "    </tr>\n",
       "    <tr>\n",
       "      <th>4</th>\n",
       "      <td>Transportation &amp; Logistics</td>\n",
       "      <td>5</td>\n",
       "    </tr>\n",
       "    <tr>\n",
       "      <th>5</th>\n",
       "      <td>Banking</td>\n",
       "      <td>6</td>\n",
       "    </tr>\n",
       "    <tr>\n",
       "      <th>6</th>\n",
       "      <td>Health Care Services</td>\n",
       "      <td>7</td>\n",
       "    </tr>\n",
       "    <tr>\n",
       "      <th>7</th>\n",
       "      <td>Media &amp; Publishing</td>\n",
       "      <td>8</td>\n",
       "    </tr>\n",
       "    <tr>\n",
       "      <th>8</th>\n",
       "      <td>Insurance</td>\n",
       "      <td>9</td>\n",
       "    </tr>\n",
       "    <tr>\n",
       "      <th>9</th>\n",
       "      <td>Food &amp; Beverage</td>\n",
       "      <td>10</td>\n",
       "    </tr>\n",
       "    <tr>\n",
       "      <th>10</th>\n",
       "      <td>Tourism &amp; Leisure</td>\n",
       "      <td>11</td>\n",
       "    </tr>\n",
       "    <tr>\n",
       "      <th>11</th>\n",
       "      <td>Construction Services</td>\n",
       "      <td>12</td>\n",
       "    </tr>\n",
       "    <tr>\n",
       "      <th>12</th>\n",
       "      <td>Commerce</td>\n",
       "      <td>13</td>\n",
       "    </tr>\n",
       "    <tr>\n",
       "      <th>13</th>\n",
       "      <td>Construction Materials</td>\n",
       "      <td>14</td>\n",
       "    </tr>\n",
       "    <tr>\n",
       "      <th>14</th>\n",
       "      <td>Electronic Components</td>\n",
       "      <td>15</td>\n",
       "    </tr>\n",
       "    <tr>\n",
       "      <th>15</th>\n",
       "      <td>Petrochemicals &amp; Chemicals</td>\n",
       "      <td>16</td>\n",
       "    </tr>\n",
       "    <tr>\n",
       "      <th>16</th>\n",
       "      <td>Packaging</td>\n",
       "      <td>17</td>\n",
       "    </tr>\n",
       "    <tr>\n",
       "      <th>17</th>\n",
       "      <td>Agribusiness</td>\n",
       "      <td>18</td>\n",
       "    </tr>\n",
       "    <tr>\n",
       "      <th>18</th>\n",
       "      <td>Industrial Materials &amp; Machinery</td>\n",
       "      <td>19</td>\n",
       "    </tr>\n",
       "    <tr>\n",
       "      <th>19</th>\n",
       "      <td>Personal Products &amp; Pharmaceuticals</td>\n",
       "      <td>20</td>\n",
       "    </tr>\n",
       "  </tbody>\n",
       "</table>\n",
       "</div>"
      ],
      "text/plain": [
       "                                    Sector  SectorId\n",
       "0                       Energy & Utilities         1\n",
       "1   Information & Communication Technology         2\n",
       "2                     Finance & Securities         3\n",
       "3                     Property Development         4\n",
       "4               Transportation & Logistics         5\n",
       "5                                  Banking         6\n",
       "6                     Health Care Services         7\n",
       "7                       Media & Publishing         8\n",
       "8                                Insurance         9\n",
       "9                          Food & Beverage        10\n",
       "10                       Tourism & Leisure        11\n",
       "11                   Construction Services        12\n",
       "12                                Commerce        13\n",
       "13                  Construction Materials        14\n",
       "14                   Electronic Components        15\n",
       "15              Petrochemicals & Chemicals        16\n",
       "16                               Packaging        17\n",
       "17                            Agribusiness        18\n",
       "18        Industrial Materials & Machinery        19\n",
       "19     Personal Products & Pharmaceuticals        20"
      ]
     },
     "execution_count": 44,
     "metadata": {},
     "output_type": "execute_result"
    }
   ],
   "source": [
    "pd.read_csv('Sector.csv')"
   ]
  },
  {
   "cell_type": "markdown",
   "id": "c76e1384",
   "metadata": {},
   "source": [
    "# Industry"
   ]
  },
  {
   "cell_type": "code",
   "execution_count": 45,
   "id": "c93d88d7",
   "metadata": {},
   "outputs": [
    {
     "name": "stdout",
     "output_type": "stream",
     "text": [
      "['Resources' 'Technology' 'Financials' 'Property & Construction'\n",
      " 'Services' 'Agro & Food Industry' 'Industrials' 'Consumer Products']\n"
     ]
    }
   ],
   "source": [
    "Industry = table_info.Industry.unique()\n",
    "print(Industry)"
   ]
  },
  {
   "cell_type": "code",
   "execution_count": 46,
   "id": "989d06e9",
   "metadata": {},
   "outputs": [],
   "source": [
    "Industry_table = {\"Industry\":Industry}"
   ]
  },
  {
   "cell_type": "code",
   "execution_count": 47,
   "id": "76111530",
   "metadata": {},
   "outputs": [],
   "source": [
    "Industry_table = pd.DataFrame(data=Industry_table)"
   ]
  },
  {
   "cell_type": "code",
   "execution_count": 48,
   "id": "43bef0c0",
   "metadata": {},
   "outputs": [
    {
     "data": {
      "text/html": [
       "<div>\n",
       "<style scoped>\n",
       "    .dataframe tbody tr th:only-of-type {\n",
       "        vertical-align: middle;\n",
       "    }\n",
       "\n",
       "    .dataframe tbody tr th {\n",
       "        vertical-align: top;\n",
       "    }\n",
       "\n",
       "    .dataframe thead th {\n",
       "        text-align: right;\n",
       "    }\n",
       "</style>\n",
       "<table border=\"1\" class=\"dataframe\">\n",
       "  <thead>\n",
       "    <tr style=\"text-align: right;\">\n",
       "      <th></th>\n",
       "      <th>Industry</th>\n",
       "    </tr>\n",
       "  </thead>\n",
       "  <tbody>\n",
       "    <tr>\n",
       "      <th>0</th>\n",
       "      <td>Resources</td>\n",
       "    </tr>\n",
       "    <tr>\n",
       "      <th>1</th>\n",
       "      <td>Technology</td>\n",
       "    </tr>\n",
       "    <tr>\n",
       "      <th>2</th>\n",
       "      <td>Financials</td>\n",
       "    </tr>\n",
       "    <tr>\n",
       "      <th>3</th>\n",
       "      <td>Property &amp; Construction</td>\n",
       "    </tr>\n",
       "    <tr>\n",
       "      <th>4</th>\n",
       "      <td>Services</td>\n",
       "    </tr>\n",
       "    <tr>\n",
       "      <th>5</th>\n",
       "      <td>Agro &amp; Food Industry</td>\n",
       "    </tr>\n",
       "    <tr>\n",
       "      <th>6</th>\n",
       "      <td>Industrials</td>\n",
       "    </tr>\n",
       "    <tr>\n",
       "      <th>7</th>\n",
       "      <td>Consumer Products</td>\n",
       "    </tr>\n",
       "  </tbody>\n",
       "</table>\n",
       "</div>"
      ],
      "text/plain": [
       "                  Industry\n",
       "0                Resources\n",
       "1               Technology\n",
       "2               Financials\n",
       "3  Property & Construction\n",
       "4                 Services\n",
       "5     Agro & Food Industry\n",
       "6              Industrials\n",
       "7        Consumer Products"
      ]
     },
     "execution_count": 48,
     "metadata": {},
     "output_type": "execute_result"
    }
   ],
   "source": [
    "Industry_table"
   ]
  },
  {
   "cell_type": "code",
   "execution_count": 49,
   "id": "2c9a0018",
   "metadata": {},
   "outputs": [],
   "source": [
    "Industry_table[\"IndustryId\"] = Industry_table.index + 1"
   ]
  },
  {
   "cell_type": "code",
   "execution_count": 50,
   "id": "38ea8a9b",
   "metadata": {
    "scrolled": true
   },
   "outputs": [
    {
     "data": {
      "text/html": [
       "<div>\n",
       "<style scoped>\n",
       "    .dataframe tbody tr th:only-of-type {\n",
       "        vertical-align: middle;\n",
       "    }\n",
       "\n",
       "    .dataframe tbody tr th {\n",
       "        vertical-align: top;\n",
       "    }\n",
       "\n",
       "    .dataframe thead th {\n",
       "        text-align: right;\n",
       "    }\n",
       "</style>\n",
       "<table border=\"1\" class=\"dataframe\">\n",
       "  <thead>\n",
       "    <tr style=\"text-align: right;\">\n",
       "      <th></th>\n",
       "      <th>Industry</th>\n",
       "      <th>IndustryId</th>\n",
       "    </tr>\n",
       "  </thead>\n",
       "  <tbody>\n",
       "    <tr>\n",
       "      <th>0</th>\n",
       "      <td>Resources</td>\n",
       "      <td>1</td>\n",
       "    </tr>\n",
       "    <tr>\n",
       "      <th>1</th>\n",
       "      <td>Technology</td>\n",
       "      <td>2</td>\n",
       "    </tr>\n",
       "    <tr>\n",
       "      <th>2</th>\n",
       "      <td>Financials</td>\n",
       "      <td>3</td>\n",
       "    </tr>\n",
       "    <tr>\n",
       "      <th>3</th>\n",
       "      <td>Property &amp; Construction</td>\n",
       "      <td>4</td>\n",
       "    </tr>\n",
       "    <tr>\n",
       "      <th>4</th>\n",
       "      <td>Services</td>\n",
       "      <td>5</td>\n",
       "    </tr>\n",
       "    <tr>\n",
       "      <th>5</th>\n",
       "      <td>Agro &amp; Food Industry</td>\n",
       "      <td>6</td>\n",
       "    </tr>\n",
       "    <tr>\n",
       "      <th>6</th>\n",
       "      <td>Industrials</td>\n",
       "      <td>7</td>\n",
       "    </tr>\n",
       "    <tr>\n",
       "      <th>7</th>\n",
       "      <td>Consumer Products</td>\n",
       "      <td>8</td>\n",
       "    </tr>\n",
       "  </tbody>\n",
       "</table>\n",
       "</div>"
      ],
      "text/plain": [
       "                  Industry  IndustryId\n",
       "0                Resources           1\n",
       "1               Technology           2\n",
       "2               Financials           3\n",
       "3  Property & Construction           4\n",
       "4                 Services           5\n",
       "5     Agro & Food Industry           6\n",
       "6              Industrials           7\n",
       "7        Consumer Products           8"
      ]
     },
     "execution_count": 50,
     "metadata": {},
     "output_type": "execute_result"
    }
   ],
   "source": [
    "Industry_table"
   ]
  },
  {
   "cell_type": "code",
   "execution_count": 51,
   "id": "1fe7cae1",
   "metadata": {},
   "outputs": [
    {
     "data": {
      "text/plain": [
       "'succes'"
      ]
     },
     "execution_count": 51,
     "metadata": {},
     "output_type": "execute_result"
    }
   ],
   "source": [
    "save_csv(Industry_table,\"Industry\")"
   ]
  },
  {
   "cell_type": "code",
   "execution_count": 52,
   "id": "0e2970c6",
   "metadata": {
    "scrolled": true
   },
   "outputs": [
    {
     "data": {
      "text/html": [
       "<div>\n",
       "<style scoped>\n",
       "    .dataframe tbody tr th:only-of-type {\n",
       "        vertical-align: middle;\n",
       "    }\n",
       "\n",
       "    .dataframe tbody tr th {\n",
       "        vertical-align: top;\n",
       "    }\n",
       "\n",
       "    .dataframe thead th {\n",
       "        text-align: right;\n",
       "    }\n",
       "</style>\n",
       "<table border=\"1\" class=\"dataframe\">\n",
       "  <thead>\n",
       "    <tr style=\"text-align: right;\">\n",
       "      <th></th>\n",
       "      <th>Industry</th>\n",
       "      <th>IndustryId</th>\n",
       "    </tr>\n",
       "  </thead>\n",
       "  <tbody>\n",
       "    <tr>\n",
       "      <th>0</th>\n",
       "      <td>Resources</td>\n",
       "      <td>1</td>\n",
       "    </tr>\n",
       "    <tr>\n",
       "      <th>1</th>\n",
       "      <td>Technology</td>\n",
       "      <td>2</td>\n",
       "    </tr>\n",
       "    <tr>\n",
       "      <th>2</th>\n",
       "      <td>Financials</td>\n",
       "      <td>3</td>\n",
       "    </tr>\n",
       "    <tr>\n",
       "      <th>3</th>\n",
       "      <td>Property &amp; Construction</td>\n",
       "      <td>4</td>\n",
       "    </tr>\n",
       "    <tr>\n",
       "      <th>4</th>\n",
       "      <td>Services</td>\n",
       "      <td>5</td>\n",
       "    </tr>\n",
       "    <tr>\n",
       "      <th>5</th>\n",
       "      <td>Agro &amp; Food Industry</td>\n",
       "      <td>6</td>\n",
       "    </tr>\n",
       "    <tr>\n",
       "      <th>6</th>\n",
       "      <td>Industrials</td>\n",
       "      <td>7</td>\n",
       "    </tr>\n",
       "    <tr>\n",
       "      <th>7</th>\n",
       "      <td>Consumer Products</td>\n",
       "      <td>8</td>\n",
       "    </tr>\n",
       "  </tbody>\n",
       "</table>\n",
       "</div>"
      ],
      "text/plain": [
       "                  Industry  IndustryId\n",
       "0                Resources           1\n",
       "1               Technology           2\n",
       "2               Financials           3\n",
       "3  Property & Construction           4\n",
       "4                 Services           5\n",
       "5     Agro & Food Industry           6\n",
       "6              Industrials           7\n",
       "7        Consumer Products           8"
      ]
     },
     "execution_count": 52,
     "metadata": {},
     "output_type": "execute_result"
    }
   ],
   "source": [
    "pd.read_csv('Industry.csv')"
   ]
  },
  {
   "cell_type": "code",
   "execution_count": null,
   "id": "70c7493b",
   "metadata": {},
   "outputs": [],
   "source": []
  }
 ],
 "metadata": {
  "kernelspec": {
   "display_name": "Python 3 (ipykernel)",
   "language": "python",
   "name": "python3"
  },
  "language_info": {
   "codemirror_mode": {
    "name": "ipython",
    "version": 3
   },
   "file_extension": ".py",
   "mimetype": "text/x-python",
   "name": "python",
   "nbconvert_exporter": "python",
   "pygments_lexer": "ipython3",
   "version": "3.9.12"
  }
 },
 "nbformat": 4,
 "nbformat_minor": 5
}
