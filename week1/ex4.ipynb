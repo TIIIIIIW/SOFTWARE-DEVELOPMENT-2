{
 "cells": [
  {
   "cell_type": "code",
   "execution_count": 15,
   "metadata": {},
   "outputs": [],
   "source": [
    "def checkDuplicate(alist, counter) :\n",
    "    if len(alist) <= 1 :\n",
    "        return 'This array has no duplicate elements'\n",
    "\n",
    "    if counter < len(alist) :\n",
    "        if alist[0] == alist[counter] :\n",
    "            return 'This array has duplicate elements'\n",
    "\n",
    "        if alist[0] != alist[counter] :\n",
    "            return checkDuplicate(alist, counter+1)\n",
    "\n",
    "    return checkDuplicate(alist[1:], 1)"
   ]
  },
  {
   "cell_type": "code",
   "execution_count": 16,
   "metadata": {},
   "outputs": [
    {
     "name": "stdout",
     "output_type": "stream",
     "text": [
      "This array has no duplicate elements\n"
     ]
    }
   ],
   "source": [
    "num_list = [1,2,3,4,5,6,7,8,9]\n",
    "print(checkDuplicate(num_list, 1))"
   ]
  }
 ],
 "metadata": {
  "kernelspec": {
   "display_name": "Python 3",
   "language": "python",
   "name": "python3"
  },
  "language_info": {
   "codemirror_mode": {
    "name": "ipython",
    "version": 3
   },
   "file_extension": ".py",
   "mimetype": "text/x-python",
   "name": "python",
   "nbconvert_exporter": "python",
   "pygments_lexer": "ipython3",
   "version": "3.10.6"
  },
  "orig_nbformat": 4,
  "vscode": {
   "interpreter": {
    "hash": "a42ccb73e7d9bfdf27e036f1d2b8b681e55fc0743cc5586bc2474d4a60f4b886"
   }
  }
 },
 "nbformat": 4,
 "nbformat_minor": 2
}
