{
 "cells": [
  {
   "cell_type": "code",
   "execution_count": 7,
   "metadata": {},
   "outputs": [],
   "source": [
    "def findSumZero(alist) :\n",
    "    result = []\n",
    "    alist.sort()\n",
    "    for index in range(len(alist)):\n",
    "        left_num = index + 1\n",
    "        right_num = len(alist) - 1\n",
    "        req_num = 0 - alist[index]\n",
    "        while left_num < right_num :\n",
    "            sum_num = alist[left_num] + alist[right_num]\n",
    "            if sum_num == req_num :\n",
    "                result_element = tuple((alist[index],alist[left_num],alist[right_num]))\n",
    "                if result_element not in result :\n",
    "                    result.append(result_element)\n",
    "                    left_num += 1\n",
    "                else :\n",
    "                    break\n",
    "            elif sum_num < req_num :\n",
    "                left_num += 1\n",
    "            else :\n",
    "                right_num -= 1\n",
    "    return result"
   ]
  },
  {
   "cell_type": "code",
   "execution_count": 8,
   "metadata": {},
   "outputs": [
    {
     "name": "stdout",
     "output_type": "stream",
     "text": [
      "[(-4, -1, 5), (-3, -2, 5), (-2, -1, 3)]\n"
     ]
    }
   ],
   "source": [
    "list_a = [0,-1,2,-3,1,-2]\n",
    "list_b = [-3,4,0,-1,2,-2,3,1]\n",
    "list_c = [-1,5,-4,3,2,-2,-3]\n",
    "print(findSumZero(list_c))"
   ]
  }
 ],
 "metadata": {
  "kernelspec": {
   "display_name": "Python 3",
   "language": "python",
   "name": "python3"
  },
  "language_info": {
   "codemirror_mode": {
    "name": "ipython",
    "version": 3
   },
   "file_extension": ".py",
   "mimetype": "text/x-python",
   "name": "python",
   "nbconvert_exporter": "python",
   "pygments_lexer": "ipython3",
   "version": "3.10.6 (tags/v3.10.6:9c7b4bd, Aug  1 2022, 21:53:49) [MSC v.1932 64 bit (AMD64)]"
  },
  "orig_nbformat": 4,
  "vscode": {
   "interpreter": {
    "hash": "a42ccb73e7d9bfdf27e036f1d2b8b681e55fc0743cc5586bc2474d4a60f4b886"
   }
  }
 },
 "nbformat": 4,
 "nbformat_minor": 2
}
