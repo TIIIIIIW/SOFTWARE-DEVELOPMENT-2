{
 "cells": [
  {
   "cell_type": "code",
   "execution_count": 19,
   "metadata": {},
   "outputs": [],
   "source": [
    "def findSumZero(alist) :\n",
    "    result = []\n",
    "    if len(alist) < 3 or type(alist) != type([]): return 'Can not find answer'\n",
    "    alist.sort()\n",
    "    for index in range(len(alist)):\n",
    "        left_num = index + 1\n",
    "        right_num = len(alist) - 1\n",
    "        req_num = 0 - alist[index]\n",
    "        last_append = [0]\n",
    "        if index > 0 and alist[index] == alist[index-1]: break\n",
    "        else :\n",
    "            while left_num < right_num :\n",
    "                sum_num = alist[left_num] + alist[right_num]\n",
    "                if sum_num == req_num :\n",
    "                    result_element = tuple((alist[index],alist[left_num],alist[right_num]))\n",
    "                    if result_element == last_append[0] :\n",
    "                        left_num += 1\n",
    "                    else :\n",
    "                        last_append[0] = result_element\n",
    "                        result.append(result_element)\n",
    "                        left_num += 1\n",
    "                elif sum_num < req_num :\n",
    "                    left_num += 1\n",
    "                else :\n",
    "                    right_num -= 1\n",
    "    if len(result) == 0 : return 'No answer'\n",
    "    else: return result"
   ]
  },
  {
   "cell_type": "code",
   "execution_count": 20,
   "metadata": {},
   "outputs": [
    {
     "name": "stdout",
     "output_type": "stream",
     "text": [
      "[(-3, 1, 2), (-2, 0, 2), (-1, 0, 1)]\n"
     ]
    }
   ],
   "source": [
    "list_a = [0,-1,2,-3,1,-2]\n",
    "list_b = [-3,4,0,-1,2,-2,3,1]\n",
    "list_c = [-1,5,-4,-1,3,2,-2,-3]\n",
    "list_d = [-1,1,-1,-1,1,2,-2,-3,0,0]\n",
    "print(findSumZero(list_a))"
   ]
  }
 ],
 "metadata": {
  "kernelspec": {
   "display_name": "Python 3",
   "language": "python",
   "name": "python3"
  },
  "language_info": {
   "codemirror_mode": {
    "name": "ipython",
    "version": 3
   },
   "file_extension": ".py",
   "mimetype": "text/x-python",
   "name": "python",
   "nbconvert_exporter": "python",
   "pygments_lexer": "ipython3",
   "version": "3.10.6"
  },
  "orig_nbformat": 4,
  "vscode": {
   "interpreter": {
    "hash": "a42ccb73e7d9bfdf27e036f1d2b8b681e55fc0743cc5586bc2474d4a60f4b886"
   }
  }
 },
 "nbformat": 4,
 "nbformat_minor": 2
}
