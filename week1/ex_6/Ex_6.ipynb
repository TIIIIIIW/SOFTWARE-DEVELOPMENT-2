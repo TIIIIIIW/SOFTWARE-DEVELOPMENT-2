{
 "cells": [
  {
   "cell_type": "markdown",
   "id": "d66caa04",
   "metadata": {},
   "source": [
    "# Ex 6 "
   ]
  },
  {
   "cell_type": "code",
   "execution_count": 16,
   "id": "c99ca18e",
   "metadata": {},
   "outputs": [],
   "source": [
    "def cal_total(data):\n",
    "    \n",
    "    if len(data) == 1 :\n",
    "\n",
    "        return int(data[0])\n",
    "    \n",
    "    return int(data[0]) + cal_total(data[1:])"
   ]
  },
  {
   "cell_type": "code",
   "execution_count": 49,
   "id": "6e8bf0e9",
   "metadata": {},
   "outputs": [
    {
     "data": {
      "text/plain": [
       "1"
      ]
     },
     "execution_count": 49,
     "metadata": {},
     "output_type": "execute_result"
    }
   ],
   "source": [
    "size = 4\n",
    "data = [\"2\",\"4\",\"6\",\"8\"]\n",
    "\n",
    "def check_ten(size,data):\n",
    "    c = 0\n",
    "    for start in range(size-1):\n",
    "        length = start+2\n",
    "        for l in range(size-start-1) :\n",
    "            total = cal_total(data[start:length])\n",
    "\n",
    "            if total >= 10 :\n",
    "                if total == 10 :\n",
    "                    c += 1\n",
    "                break\n",
    "            length += 1\n",
    "    return c\n",
    "\n",
    "check_ten(size,data)"
   ]
  },
  {
   "cell_type": "code",
   "execution_count": 46,
   "id": "a6edcbf6",
   "metadata": {},
   "outputs": [
    {
     "data": {
      "text/plain": [
       "[[1]]"
      ]
     },
     "execution_count": 46,
     "metadata": {},
     "output_type": "execute_result"
    }
   ],
   "source": [
    "size = 1\n",
    "data = [['1']]\n",
    "\n",
    "def set_up_data_colum(size,data):\n",
    "    \n",
    "    new_data = []\n",
    "    for col in range(size):\n",
    "        \n",
    "        new_one = []\n",
    "        \n",
    "        for row in range(size):\n",
    "            new_one.append(int(data[row][col]))\n",
    "            \n",
    "        new_data.append(new_one)\n",
    "            \n",
    "    return new_data\n",
    "        \n",
    "set_up_data_colum(size,data)"
   ]
  },
  {
   "cell_type": "code",
   "execution_count": 35,
   "id": "60b6f112",
   "metadata": {},
   "outputs": [
    {
     "data": {
      "text/plain": [
       "[]"
      ]
     },
     "execution_count": 35,
     "metadata": {},
     "output_type": "execute_result"
    }
   ],
   "source": [
    "def mixed_answer_ten(total_number,All_size_of_metrix,data_set):\n",
    "    \n",
    "    index = 0\n",
    "    Ans = 0\n",
    "    All_Ans = []\n",
    "    \n",
    "    if total_number != len(All_size_of_metrix):\n",
    "        \n",
    "        return \"The number of data sets and the actual number of data do not match.\"\n",
    "    \n",
    "    for section in range(total_number):\n",
    "\n",
    "        size = All_size_of_metrix[section]\n",
    "        data = data_set[index:index+size]\n",
    "        \n",
    "        if size != len(data):\n",
    "\n",
    "            return \"Matrix size and matrix size are not the same.\"\n",
    "        \n",
    "        data_convert_column_to_row = set_up_data_colum(size,data)\n",
    "        \n",
    "        for i in range(size):\n",
    "            \n",
    "            Ans += check_ten(size,data[i]) + check_ten(size,data_convert_column_to_row[i])\n",
    "            \n",
    "        index += size\n",
    "        All_Ans.append(Ans)\n",
    "\n",
    "        Ans = 0\n",
    "        \n",
    "    return All_Ans\n",
    "\n",
    "mixed_answer_ten(0,[],[])"
   ]
  },
  {
   "cell_type": "code",
   "execution_count": 47,
   "id": "3ebefa8b",
   "metadata": {},
   "outputs": [
    {
     "name": "stdout",
     "output_type": "stream",
     "text": [
      "[]\n"
     ]
    }
   ],
   "source": [
    "def find_Ten(filename):\n",
    "    \n",
    "    All_size_of_metrix,data_set = [],[]\n",
    "    stack,total_number = 0,0\n",
    "    \n",
    "    file = open(str(filename))\n",
    "    \n",
    "    try :\n",
    "        \n",
    "        for line in file:\n",
    "\n",
    "            if str(line) != '\\n' :\n",
    "\n",
    "                if total_number == 0 :\n",
    "\n",
    "                        total_number = int(line)\n",
    "\n",
    "                else :\n",
    "\n",
    "                    target = line.split(' ')\n",
    "\n",
    "                    if stack == 0 :\n",
    "\n",
    "                        All_size_of_metrix.append(int(target[0]))\n",
    "                        stack = int(target[0])\n",
    "\n",
    "                    else :\n",
    "\n",
    "                        stack -= 1\n",
    "                        data_set.append(target)\n",
    "        file.close()\n",
    "\n",
    "    except :\n",
    "                    \n",
    "        return \"Invalid input\"\n",
    "\n",
    "    return total_number,All_size_of_metrix,data_set\n",
    "\n",
    "total_number,All_size_of_metrix,data_set = find_Ten('input.txt')\n",
    "\n",
    "# print(total_number)\n",
    "# print(All_size_of_metrix)\n",
    "# print(data_set)\n",
    "\n",
    "print(mixed_answer_ten(total_number,All_size_of_metrix,data_set))"
   ]
  },
  {
   "cell_type": "code",
   "execution_count": null,
   "id": "b35cbf29",
   "metadata": {},
   "outputs": [],
   "source": []
  }
 ],
 "metadata": {
  "kernelspec": {
   "display_name": "Python 3 (ipykernel)",
   "language": "python",
   "name": "python3"
  },
  "language_info": {
   "codemirror_mode": {
    "name": "ipython",
    "version": 3
   },
   "file_extension": ".py",
   "mimetype": "text/x-python",
   "name": "python",
   "nbconvert_exporter": "python",
   "pygments_lexer": "ipython3",
   "version": "3.10.6 (tags/v3.10.6:9c7b4bd, Aug  1 2022, 21:53:49) [MSC v.1932 64 bit (AMD64)]"
  },
  "vscode": {
   "interpreter": {
    "hash": "c5123357163155fb3f0b825ea9c8bc568ac9255bb6bee5e146f32055a2802b5d"
   }
  }
 },
 "nbformat": 4,
 "nbformat_minor": 5
}
