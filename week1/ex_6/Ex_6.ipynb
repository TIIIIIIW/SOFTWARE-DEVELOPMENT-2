{
 "cells": [
  {
   "cell_type": "markdown",
   "id": "d66caa04",
   "metadata": {},
   "source": [
    "# Ex 6 "
   ]
  },
  {
   "cell_type": "code",
   "execution_count": 8,
   "id": "c99ca18e",
   "metadata": {},
   "outputs": [],
   "source": [
    "def cal_total(data):\n",
    "    \n",
    "    if len(data) == 1 :\n",
    "        \n",
    "        return int(data[0])\n",
    "    \n",
    "    return int(data[0]) + cal_total(data[1:])"
   ]
  },
  {
   "cell_type": "code",
   "execution_count": 9,
   "id": "6e8bf0e9",
   "metadata": {},
   "outputs": [
    {
     "data": {
      "text/plain": [
       "1"
      ]
     },
     "execution_count": 9,
     "metadata": {},
     "output_type": "execute_result"
    }
   ],
   "source": [
    "size = 4\n",
    "data = [\"2\",\"4\",\"6\",\"8\"]\n",
    "def check_ten(size,data):\n",
    "    c = 0\n",
    "    for start in range(size-1):\n",
    "        length = start+2\n",
    "        for l in range(size-start-1) :\n",
    "            total = cal_total(data[start:length])\n",
    "            \n",
    "            if total >= 10 :\n",
    "                if total == 10 :\n",
    "                    c += 1\n",
    "                break\n",
    "            length += 1\n",
    "    return c\n",
    "    \n",
    "check_ten(size,data)"
   ]
  },
  {
   "cell_type": "code",
   "execution_count": 10,
   "id": "a6edcbf6",
   "metadata": {},
   "outputs": [],
   "source": [
    "# size = 4\n",
    "# data = [['1', '3', '5', '7\\n'], ['2', '4', '6', '8\\n'], ['2', '2', '2', '2\\n'], ['2', '2', '2', '2\\n']]\n",
    "\n",
    "def set_up_data_colum(size,data):\n",
    "    \n",
    "    new_data = []\n",
    "    for col in range(size):\n",
    "        \n",
    "        new_one = []\n",
    "        \n",
    "        for row in range(size):\n",
    "            new_one.append(int(data[row][col]))\n",
    "            \n",
    "        new_data.append(new_one)\n",
    "            \n",
    "    return new_data\n",
    "        \n",
    "# set_up_data_colum(size,data)"
   ]
  },
  {
   "cell_type": "code",
   "execution_count": 11,
   "id": "60b6f112",
   "metadata": {},
   "outputs": [],
   "source": [
    "def mixed_answer_ten(total_number,All_size_of_metrix,data_set):\n",
    "    \n",
    "    index = 0\n",
    "    Ans = 0\n",
    "    for section in range(total_number):\n",
    "\n",
    "        size = All_size_of_metrix[section]\n",
    "        data = data_set[index:index+size]\n",
    "\n",
    "        print(size ,\" : \", data)\n",
    "        data_convert_column_to_row = set_up_data_colum(size,data)\n",
    "        \n",
    "        for i in range(size):\n",
    "            \n",
    "            Ans += check_ten(size,data[i]) + check_ten(size,data_convert_column_to_row[i])\n",
    " \n",
    "        index += size\n",
    "        \n",
    "        print(\"จำนวนชุดที่ได้ 10 : \",Ans)\n",
    "        Ans = 0"
   ]
  },
  {
   "cell_type": "code",
   "execution_count": 12,
   "id": "7c9765b9",
   "metadata": {},
   "outputs": [
    {
     "name": "stdout",
     "output_type": "stream",
     "text": [
      "1  :  [['1\\n']]\n",
      "จำนวนชุดที่ได้ 10 :  0\n",
      "2  :  [['5', '5\\n'], ['5', '5\\n']]\n",
      "จำนวนชุดที่ได้ 10 :  4\n",
      "4  :  [['1', '3', '5', '7\\n'], ['2', '4', '8', '2\\n'], ['6', '3', '1', '1\\n'], ['2', '3', '5', '6\\n']]\n",
      "จำนวนชุดที่ได้ 10 :  7\n",
      "4  :  [['1', '3', '5', '7\\n'], ['2', '4', '6', '8\\n'], ['2', '2', '2', '2\\n'], ['2', '2', '2', '2\\n']]\n",
      "จำนวนชุดที่ได้ 10 :  3\n",
      "5  :  [['2', '2', '2', '2', '2\\n'], ['2', '2', '2', '2', '2\\n'], ['2', '2', '2', '2', '2\\n'], ['2', '2', '2', '2', '2\\n'], ['2', '2', '2', '2', '2\\n']]\n",
      "จำนวนชุดที่ได้ 10 :  10\n",
      "4  :  [['1', '2', '3', '4\\n'], ['1', '2', '3', '4\\n'], ['1', '2', '3', '4\\n'], ['1', '2', '3', '4\\n']]\n",
      "จำนวนชุดที่ได้ 10 :  4\n",
      "10  :  [['5', '5', '5', '5', '5', '5', '5', '5', '5', '5\\n'], ['5', '5', '5', '5', '5', '5', '5', '5', '5', '5\\n'], ['5', '5', '5', '5', '5', '5', '5', '5', '5', '5\\n'], ['5', '5', '5', '5', '5', '5', '5', '5', '5', '5\\n'], ['5', '5', '5', '5', '5', '5', '5', '5', '5', '5\\n'], ['5', '5', '5', '5', '5', '5', '5', '5', '5', '5\\n'], ['5', '5', '5', '5', '5', '5', '5', '5', '5', '5\\n'], ['5', '5', '5', '5', '5', '5', '5', '5', '5', '5\\n'], ['5', '5', '5', '5', '5', '5', '5', '5', '5', '5\\n'], ['5', '5', '5', '5', '5', '5', '5', '5', '5', '5\\n']]\n",
      "จำนวนชุดที่ได้ 10 :  180\n"
     ]
    }
   ],
   "source": [
    "All_size_of_metrix = []\n",
    "data_set = []\n",
    "stack = 0\n",
    "total_number = 0\n",
    "\n",
    "file = open('input.txt')\n",
    "\n",
    "for line in file:\n",
    "    \n",
    "    if str(line) != '\\n' :\n",
    "        \n",
    "        if total_number == 0 :\n",
    "            \n",
    "            total_number = int(line)\n",
    "            \n",
    "        else :\n",
    "            \n",
    "            target = line.split(' ')\n",
    "\n",
    "            if stack == 0 :\n",
    "                \n",
    "                size_of_metrix = int(target[0])\n",
    "                All_size_of_metrix.append(size_of_metrix)\n",
    "                stack = size_of_metrix\n",
    "                \n",
    "            else :\n",
    "                \n",
    "                stack -= 1\n",
    "                data_set.append(target)\n",
    "file.close()\n",
    "\n",
    "mixed_answer_ten(total_number,All_size_of_metrix,data_set)"
   ]
  },
  {
   "cell_type": "code",
   "execution_count": null,
   "id": "bfc750b4",
   "metadata": {},
   "outputs": [],
   "source": []
  }
 ],
 "metadata": {
  "kernelspec": {
   "display_name": "Python 3 (ipykernel)",
   "language": "python",
   "name": "python3"
  },
  "language_info": {
   "codemirror_mode": {
    "name": "ipython",
    "version": 3
   },
   "file_extension": ".py",
   "mimetype": "text/x-python",
   "name": "python",
   "nbconvert_exporter": "python",
   "pygments_lexer": "ipython3",
   "version": "3.9.12"
  }
 },
 "nbformat": 4,
 "nbformat_minor": 5
}
