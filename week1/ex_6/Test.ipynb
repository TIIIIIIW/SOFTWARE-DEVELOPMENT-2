{
 "cells": [
  {
   "cell_type": "code",
   "execution_count": 28,
   "id": "c5122b82",
   "metadata": {},
   "outputs": [
    {
     "name": "stderr",
     "output_type": "stream",
     "text": [
      "test_unit (__main__.MyTest) ... ok\n",
      "testMultiply (__main__.TestNumber) ... ok\n",
      "test_add (__main__.TestNumber) ... ok\n",
      "\n",
      "----------------------------------------------------------------------\n",
      "Ran 3 tests in 0.002s\n",
      "\n",
      "OK\n"
     ]
    },
    {
     "name": "stdout",
     "output_type": "stream",
     "text": [
      "6\n",
      "12\n",
      "10\n",
      "14\n"
     ]
    },
    {
     "data": {
      "text/plain": [
       "<unittest.main.TestProgram at 0x1ea82b88c40>"
      ]
     },
     "execution_count": 28,
     "metadata": {},
     "output_type": "execute_result"
    }
   ],
   "source": [
    "import unittest\n",
    "\n",
    "class Test_game_find_ten():\n",
    "    \n",
    "    def test_cal_total(self,data):\n",
    "\n",
    "        if len(data) == 1 :\n",
    "\n",
    "            return int(data[0])\n",
    "\n",
    "        return int(data[0]) + self.test_cal_total(data[1:])\n",
    "\n",
    "    def check_ten(self,size,data):\n",
    "        c = 0\n",
    "        for start in range(size-1):\n",
    "            length = start+2\n",
    "            for l in range(size-start-1) :\n",
    "                total = self.test_cal_total(data[start:length])\n",
    "                print(total)\n",
    "                if total >= 10 :\n",
    "                    if total == 10 :\n",
    "                        c += 1\n",
    "                    break\n",
    "                length += 1\n",
    "        return c\n",
    "\n",
    "    def set_up_data_colum(size,data):\n",
    "\n",
    "        new_data = []\n",
    "        for col in range(size):\n",
    "\n",
    "            new_one = []\n",
    "\n",
    "            for row in range(size):\n",
    "                new_one.append(int(data[row][col]))\n",
    "\n",
    "            new_data.append(new_one)\n",
    "\n",
    "        return new_data\n",
    "    \n",
    "class MyTest(unittest.TestCase):\n",
    "    \n",
    "    def test_unit(self):\n",
    "        myTest = Test_game_find_ten();\n",
    "        self.assertEqual(myTest.test_cal_total([\"2\",\"4\",\"6\",\"8\"]), 20)\n",
    "        self.assertEqual(myTest.check_ten(4,[\"2\",\"4\",\"6\",\"8\"]), 1)\n",
    "        \n",
    "unittest.main(argv=[''], verbosity=2, exit=False)"
   ]
  },
  {
   "cell_type": "code",
   "execution_count": null,
   "id": "46af4188",
   "metadata": {},
   "outputs": [],
   "source": []
  }
 ],
 "metadata": {
  "kernelspec": {
   "display_name": "Python 3 (ipykernel)",
   "language": "python",
   "name": "python3"
  },
  "language_info": {
   "codemirror_mode": {
    "name": "ipython",
    "version": 3
   },
   "file_extension": ".py",
   "mimetype": "text/x-python",
   "name": "python",
   "nbconvert_exporter": "python",
   "pygments_lexer": "ipython3",
   "version": "3.9.12"
  }
 },
 "nbformat": 4,
 "nbformat_minor": 5
}
