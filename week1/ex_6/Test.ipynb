{
 "cells": [
  {
   "cell_type": "code",
   "execution_count": 28,
   "id": "c5122b82",
   "metadata": {},
   "outputs": [
    {
     "name": "stderr",
     "output_type": "stream",
     "text": [
      "test_unit (__main__.MyTest) ... ok\n",
      "testMultiply (__main__.TestNumber) ... ok\n",
      "test_add (__main__.TestNumber) ... ok\n",
      "\n",
      "----------------------------------------------------------------------\n",
      "Ran 3 tests in 0.002s\n",
      "\n",
      "OK\n"
     ]
    },
    {
     "name": "stdout",
     "output_type": "stream",
     "text": [
      "6\n",
      "12\n",
      "10\n",
      "14\n"
     ]
    },
    {
     "data": {
      "text/plain": [
       "<unittest.main.TestProgram at 0x1ea82b88c40>"
      ]
     },
     "execution_count": 28,
     "metadata": {},
     "output_type": "execute_result"
    }
   ],
   "source": [
    "import unittest\n",
    "\n",
    "class Test_game_find_ten():\n",
    "    \n",
    "    def test_cal_total(self,data):\n",
    "\n",
    "        if len(data) == 1 :\n",
    "\n",
    "            return int(data[0])\n",
    "\n",
    "        return int(data[0]) + self.test_cal_total(data[1:])\n",
    "\n",
    "    def check_ten(self,size,data):\n",
    "        c = 0\n",
    "        for start in range(size-1):\n",
    "            length = start+2\n",
    "            for l in range(size-start-1) :\n",
    "                total = self.test_cal_total(data[start:length])\n",
    "                print(total)\n",
    "                if total >= 10 :\n",
    "                    if total == 10 :\n",
    "                        c += 1\n",
    "                    break\n",
    "                length += 1\n",
    "        return c\n",
    "\n",
    "    def set_up_data_colum(size,data):\n",
    "\n",
    "        new_data = []\n",
    "        for col in range(size):\n",
    "\n",
    "            new_one = []\n",
    "\n",
    "            for row in range(size):\n",
    "                new_one.append(int(data[row][col]))\n",
    "\n",
    "            new_data.append(new_one)\n",
    "\n",
    "        return new_data\n",
    "    \n",
    "class MyTest(unittest.TestCase):\n",
    "    \n",
    "    def test_unit(self):\n",
    "        myTest = Test_game_find_ten();\n",
    "        self.assertEqual(myTest.test_cal_total([\"2\",\"4\",\"6\",\"8\"]), 20)\n",
    "        self.assertEqual(myTest.check_ten(4,[\"2\",\"4\",\"6\",\"8\"]), 1)\n",
    "        \n",
    "unittest.main(argv=[''], verbosity=2, exit=False)"
   ]
  },
  {
   "cell_type": "code",
   "execution_count": 2,
   "id": "46af4188",
   "metadata": {},
   "outputs": [
    {
     "name": "stderr",
     "output_type": "stream",
     "text": [
      "test_main (__main__.AdditionTestCase) ... FAIL\n",
      "\n",
      "======================================================================\n",
      "FAIL: test_main (__main__.AdditionTestCase)\n",
      "----------------------------------------------------------------------\n",
      "Traceback (most recent call last):\n",
      "  File \"C:\\Users\\JourneyQ\\AppData\\Local\\Temp\\ipykernel_3660\\3655934444.py\", line 8, in test_main\n",
      "    assert result == [0, 0, 4, 7, 3, 10, 4, 180]\n",
      "AssertionError\n",
      "\n",
      "----------------------------------------------------------------------\n",
      "Ran 1 test in 0.004s\n",
      "\n",
      "FAILED (failures=1)\n"
     ]
    },
    {
     "name": "stdout",
     "output_type": "stream",
     "text": [
      "None\n"
     ]
    },
    {
     "data": {
      "text/plain": [
       "<unittest.main.TestProgram at 0x15be038a940>"
      ]
     },
     "execution_count": 2,
     "metadata": {},
     "output_type": "execute_result"
    }
   ],
   "source": [
    "import unittest\n",
    "\n",
    "class AdditionTestCase(unittest.TestCase):\n",
    "    \n",
    "    def test_main(self):\n",
    "        result = find_Ten('input.txt')\n",
    "        print(result)\n",
    "        assert result == [0, 0, 4, 7, 3, 10, 4, 180]\n",
    "\n",
    "    # def test_threeargs(self):\n",
    "    #     result = addition(3, 2, 1)\n",
    "    #     assert result == 6\n",
    "\n",
    "    # def test_noargs(self):\n",
    "    #     result = addition()\n",
    "    #     assert result == 0\n",
    "\n",
    "\n",
    "def cal_total(data):\n",
    "    \n",
    "    if len(data) == 1 :\n",
    "        \n",
    "        return int(data[0])\n",
    "    \n",
    "    return int(data[0]) + cal_total(data[1:])\n",
    "\n",
    "def check_ten(size,data):\n",
    "    c = 0\n",
    "    for start in range(size-1):\n",
    "        length = start+2\n",
    "        for l in range(size-start-1) :\n",
    "            total = cal_total(data[start:length])\n",
    "\n",
    "            if total >= 10 :\n",
    "                if total == 10 :\n",
    "                    c += 1\n",
    "                break\n",
    "            length += 1\n",
    "    return c\n",
    "\n",
    "def set_up_data_colum(size,data):\n",
    "    \n",
    "    new_data = []\n",
    "    for col in range(size):\n",
    "        \n",
    "        new_one = []\n",
    "        \n",
    "        for row in range(size):\n",
    "            new_one.append(int(data[row][col]))\n",
    "            \n",
    "        new_data.append(new_one)\n",
    "            \n",
    "    return new_data\n",
    "\n",
    "def mixed_answer_ten(total_number,All_size_of_metrix,data_set):\n",
    "    \n",
    "    index = 0\n",
    "    Ans = 0\n",
    "    for section in range(total_number):\n",
    "\n",
    "        size = All_size_of_metrix[section]\n",
    "        data = data_set[index:index+size]\n",
    "\n",
    "        data_convert_column_to_row = set_up_data_colum(size,data)\n",
    "        \n",
    "        for i in range(size):\n",
    "            \n",
    "            Ans += check_ten(size,data[i]) + check_ten(size,data_convert_column_to_row[i])\n",
    "            \n",
    "        index += size\n",
    "        \n",
    "        Ans = 0\n",
    "\n",
    "def find_Ten(filename):\n",
    "    \n",
    "    All_size_of_metrix = []\n",
    "    data_set = []\n",
    "    stack = 0\n",
    "    total_number = 0\n",
    "    \n",
    "    file = open(str(filename))\n",
    "\n",
    "    for line in file:\n",
    "\n",
    "        if str(line) != '\\n' :\n",
    "\n",
    "            if total_number == 0 :\n",
    "\n",
    "                total_number = int(line)\n",
    "\n",
    "            else :\n",
    "\n",
    "                target = line.split(' ')\n",
    "\n",
    "                if stack == 0 :\n",
    "\n",
    "                    size_of_metrix = int(target[0])\n",
    "                    All_size_of_metrix.append(size_of_metrix)\n",
    "                    stack = size_of_metrix\n",
    "\n",
    "                else :\n",
    "\n",
    "                    stack -= 1\n",
    "                    data_set.append(target)\n",
    "    file.close()\n",
    "\n",
    "    return mixed_answer_ten(total_number,All_size_of_metrix,data_set)\n",
    "\n",
    "unittest.main(argv=[''], verbosity=2, exit=False)"
   ]
  },
  {
   "cell_type": "code",
   "execution_count": null,
   "id": "32ec13ef",
   "metadata": {},
   "outputs": [],
   "source": []
  }
 ],
 "metadata": {
  "kernelspec": {
   "display_name": "Python 3",
   "language": "python",
   "name": "python3"
  },
  "language_info": {
   "codemirror_mode": {
    "name": "ipython",
    "version": 3
   },
   "file_extension": ".py",
   "mimetype": "text/x-python",
   "name": "python",
   "nbconvert_exporter": "python",
   "pygments_lexer": "ipython3",
   "version": "3.10.6 (tags/v3.10.6:9c7b4bd, Aug  1 2022, 21:53:49) [MSC v.1932 64 bit (AMD64)]"
  },
  "vscode": {
   "interpreter": {
    "hash": "c5123357163155fb3f0b825ea9c8bc568ac9255bb6bee5e146f32055a2802b5d"
   }
  }
 },
 "nbformat": 4,
 "nbformat_minor": 5
}
