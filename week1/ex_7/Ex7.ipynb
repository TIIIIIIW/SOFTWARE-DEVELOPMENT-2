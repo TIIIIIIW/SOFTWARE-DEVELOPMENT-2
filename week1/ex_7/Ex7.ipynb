{
 "cells": [
  {
   "cell_type": "code",
   "execution_count": 33,
   "id": "45583123",
   "metadata": {},
   "outputs": [
    {
     "name": "stdout",
     "output_type": "stream",
     "text": [
      "['16', '200', '-10\\n']\n",
      "[1, 12, 20, 30, 40, 50, 70, 90, 130, 140, 150, 200, 300, 900, 999, 1000]  :  16\n"
     ]
    }
   ],
   "source": [
    "def read_file() :\n",
    "    \n",
    "    data_A,c = [],[]\n",
    "    \n",
    "\n",
    "    file = open('input_file.txt')\n",
    "\n",
    "    for line in file:\n",
    "\n",
    "        if str(line) != '\\n' :\n",
    "\n",
    "            if len(c) == 0 :\n",
    "\n",
    "                c = line.split(' ')\n",
    "\n",
    "            else :\n",
    "\n",
    "                data_A.append(int(line))\n",
    "\n",
    "    data_A.sort()\n",
    "    file.close()\n",
    "    \n",
    "    return c,data_A\n",
    "\n",
    "c,data_A = read_file()\n",
    "\n",
    "print(c)\n",
    "print(data_A,\" : \",len(data_A))"
   ]
  },
  {
   "cell_type": "code",
   "execution_count": 26,
   "id": "a40001c7",
   "metadata": {
    "scrolled": true
   },
   "outputs": [
    {
     "name": "stdout",
     "output_type": "stream",
     "text": [
      "[[5, 10], [6, 8], [8, 6], [10, 5]]\n"
     ]
    }
   ],
   "source": [
    "# หา X_1 X_2\n",
    "\n",
    "def find_x_1_2(data,conditions):\n",
    "    \n",
    "    x_1_2_find_index = []\n",
    "\n",
    "    for start in range(len(data)):\n",
    "\n",
    "        for target in range(len(data)):\n",
    "\n",
    "            if target == start :\n",
    "\n",
    "                continue\n",
    "\n",
    "            if conditions == data[start] + data[target]:\n",
    "\n",
    "                x_1_2_find_index.append([start,target])\n",
    "\n",
    "    return x_1_2_find_index          \n",
    "          \n",
    "conditions_1 = find_x_1_2(data_A,int(c[1]))\n",
    "print(conditions_1)"
   ]
  },
  {
   "cell_type": "code",
   "execution_count": 44,
   "id": "79287a5f",
   "metadata": {},
   "outputs": [
    {
     "name": "stdout",
     "output_type": "stream",
     "text": [
      "[[5, 10, 2, 6], [5, 10, 4, 7], [5, 10, 7, 9], [6, 8, 2, 7], [8, 6, 2, 10]]\n"
     ]
    }
   ],
   "source": [
    "def find_x1_to_4(conditions,data_A):\n",
    "    \n",
    "    Ans_1 = []\n",
    "\n",
    "    for condition in conditions :\n",
    "\n",
    "        for start in range(len(data_A)):\n",
    "\n",
    "            if start == condition[0] or  start == condition[1]:\n",
    "\n",
    "                continue        \n",
    "\n",
    "            for target in range(len(data_A)):\n",
    "\n",
    "                if target == start or target == condition[0] or  target == condition[1] :\n",
    "\n",
    "                    continue\n",
    "\n",
    "                if data_A[target] == data_A[start] + data_A[condition[0]] :\n",
    "                    \n",
    "                    Ans_1.append([condition[0],condition[1],start,target])\n",
    "\n",
    "    return Ans_1\n",
    "\n",
    "Ans_1 = find_x1_to_4(conditions_1,data_A)\n",
    "print(Ans_1)"
   ]
  },
  {
   "cell_type": "code",
   "execution_count": 35,
   "id": "ac369a01",
   "metadata": {},
   "outputs": [
    {
     "name": "stdout",
     "output_type": "stream",
     "text": [
      "[[3, 2], [4, 3], [5, 4], [9, 8], [10, 9]]\n"
     ]
    }
   ],
   "source": [
    "# หา x_6 x_8 ใช้\n",
    "\n",
    "def find_x_6_8(data,conditions):\n",
    "    \n",
    "    x_6_8_find_index = []\n",
    "    \n",
    "    for start in range(len(data)):\n",
    "\n",
    "        for target in range(len(data)):\n",
    "\n",
    "            if target == start :\n",
    "\n",
    "                continue\n",
    "\n",
    "            if data[target] == data[start] + conditions :\n",
    "\n",
    "                x_6_8_find_index.append([start,target])\n",
    "\n",
    "    return x_6_8_find_index\n",
    "            \n",
    "condition_2 = find_x_6_8(data_A,int(c[2]))\n",
    "print(condition_2)"
   ]
  },
  {
   "cell_type": "code",
   "execution_count": 41,
   "id": "ad24a1dc",
   "metadata": {},
   "outputs": [
    {
     "name": "stdout",
     "output_type": "stream",
     "text": [
      "[[4, 3, 6, 2], [5, 4, 7, 3], [7, 4, 8, 3], [2, 5, 6, 4], [7, 5, 9, 4], [10, 5, 11, 4], [5, 10, 11, 9]]\n"
     ]
    }
   ],
   "source": [
    "def find_x5_to_8(conditions,data_A):\n",
    "    \n",
    "    Ans_1 = []\n",
    "\n",
    "    for condition in conditions :\n",
    "\n",
    "        for start in range(len(data_A)):\n",
    "\n",
    "            if start == condition[0] or  start == condition[1]:\n",
    "\n",
    "                continue        \n",
    "\n",
    "            for target in range(start+1,len(data_A)):\n",
    "\n",
    "                if target == start or target == condition[0] or  target == condition[1] :\n",
    "\n",
    "                    continue\n",
    "\n",
    "                if data_A[target] == data_A[start] + data_A[condition[0]] :\n",
    "                    \n",
    "                    Ans_1.append([start,condition[0],target,condition[1]])\n",
    "\n",
    "    return Ans_1\n",
    "\n",
    "print(find_x5_to_8(condition_2,data_A))"
   ]
  },
  {
   "cell_type": "code",
   "execution_count": 30,
   "id": "e5bcf239",
   "metadata": {
    "scrolled": true
   },
   "outputs": [],
   "source": [
    "def combine_setA_setB(set_A,set_B):\n",
    "\n",
    "    Ans = []\n",
    "    for A_1 in set_A :\n",
    "\n",
    "        for A_2 in set_B:\n",
    "\n",
    "            A = 4\n",
    "\n",
    "            for member_2 in A_2 :\n",
    "        \n",
    "                if member_2 in A_1 :\n",
    "\n",
    "                    A-=1\n",
    "                \n",
    "            if A == 4 :\n",
    "                \n",
    "                return A_1+A_2\n",
    "\n",
    "    return []    "
   ]
  },
  {
   "cell_type": "code",
   "execution_count": 47,
   "id": "5b29722e",
   "metadata": {},
   "outputs": [
    {
     "name": "stdout",
     "output_type": "stream",
     "text": [
      "[5, 10, 2, 6, 7, 4, 8, 3]\n",
      "x 1  :  50\n",
      "x 2  :  150\n",
      "x 3  :  20\n",
      "x 4  :  70\n",
      "x 5  :  90\n",
      "x 6  :  40\n",
      "x 7  :  130\n",
      "x 8  :  30\n"
     ]
    }
   ],
   "source": [
    "c,data_A = read_file()\n",
    "\n",
    "condition_1 = find_x_1_2(data_A,int(c[1]))\n",
    "\n",
    "Ans_1 = find_x1_to_4(condition_1,data_A)\n",
    "\n",
    "\n",
    "condition_2 = find_x_6_8(data_A,int(c[2]))\n",
    "\n",
    "Ans_2 = find_x5_to_8(condition_2,data_A)\n",
    "\n",
    "Ans = combine_setA_setB(Ans_1,Ans_2)\n",
    "\n",
    "if Ans != [] :\n",
    "    for i in range(len(Ans)) :\n",
    "        print(\"x\",i+1,\" : \",data_A[Ans[i]])\n",
    "else : \n",
    "    print(\"ไม่มีคำตอบที่สอดคล้องกับสมการ\")"
   ]
  },
  {
   "cell_type": "code",
   "execution_count": null,
   "id": "a73915de",
   "metadata": {},
   "outputs": [],
   "source": []
  }
 ],
 "metadata": {
  "kernelspec": {
   "display_name": "Python 3 (ipykernel)",
   "language": "python",
   "name": "python3"
  },
  "language_info": {
   "codemirror_mode": {
    "name": "ipython",
    "version": 3
   },
   "file_extension": ".py",
   "mimetype": "text/x-python",
   "name": "python",
   "nbconvert_exporter": "python",
   "pygments_lexer": "ipython3",
   "version": "3.9.12"
  }
 },
 "nbformat": 4,
 "nbformat_minor": 5
}
