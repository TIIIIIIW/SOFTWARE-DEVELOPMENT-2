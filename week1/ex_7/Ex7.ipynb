{
 "cells": [
  {
   "cell_type": "code",
   "execution_count": 2,
   "id": "45583123",
   "metadata": {},
   "outputs": [
    {
     "name": "stdout",
     "output_type": "stream",
     "text": [
      "(['13', '100', '100\\n'], [1, 12, 20, 30, 40, 50, 70, 90, 130, 140, 150, 200, 300])\n",
      "['13', '100', '100\\n']\n",
      "[1, 12, 20, 30, 40, 50, 70, 90, 130, 140, 150, 200, 300]  :  13\n"
     ]
    }
   ],
   "source": [
    "def read_file(name) :\n",
    "    \n",
    "    data_A,c = [],[]\n",
    "    \n",
    "    file = open(name)\n",
    "\n",
    "    for line in file:\n",
    "\n",
    "        if str(line) != '\\n' :\n",
    "\n",
    "            if len(c) == 0 :\n",
    "\n",
    "                c = line.split(' ')\n",
    "                \n",
    "            else :\n",
    "                \n",
    "                try :\n",
    "                    \n",
    "                    data_A.append(int(line))\n",
    "                    \n",
    "                except :\n",
    "                    \n",
    "                    return \"Set members must be numbers.\",[]\n",
    "\n",
    "    file.close()\n",
    "    if len(c) != 3 :\n",
    "                    \n",
    "        return \"Please fill in this format. Number of members in the set c1 c2 ex 16 200 -10\",[]\n",
    "\n",
    "    if int(c[0]) != len(data_A):\n",
    "        \n",
    "        return \"The specified number of answer sets does not match the actual number of data. :\"+str(c[0])+\" But get \"+str(len(data_A)),[]\n",
    "    \n",
    "    if len(data_A) < 8 :\n",
    "        \n",
    "        return \"The number of answers in the set must be more than 8 characters\",[]\n",
    "    \n",
    "    data_A.sort()\n",
    "    return c,data_A\n",
    "\n",
    "print(read_file('input_file_2.txt'))\n",
    "c,data_A = read_file('input_file_2.txt')\n",
    "\n",
    "print(c)\n",
    "print(data_A,\" : \",len(data_A))"
   ]
  },
  {
   "cell_type": "code",
   "execution_count": 3,
   "id": "a40001c7",
   "metadata": {
    "scrolled": true
   },
   "outputs": [
    {
     "name": "stdout",
     "output_type": "stream",
     "text": [
      "[]\n",
      "[]\n",
      "[[3, 6], [6, 3]]\n"
     ]
    }
   ],
   "source": [
    "# หา X_1 X_2\n",
    "\n",
    "def find_x_1_2(data,conditions):\n",
    "    \n",
    "    x_1_2_find_index = []\n",
    "\n",
    "    # หาตำแหน่งของ x1 และ x2 ที่แทนในสมการ c1 = x1 + x2 เป็นจริง โดยที่ start เป็น x1 target เป็น x2\n",
    "    for start in range(len(data)):\n",
    "\n",
    "        for target in range(len(data)):\n",
    "\n",
    "            if target == start :\n",
    "\n",
    "                continue\n",
    "\n",
    "            if conditions == data[start] + data[target]:\n",
    "\n",
    "                x_1_2_find_index.append([start,target])\n",
    "\n",
    "    return x_1_2_find_index          \n",
    "          \n",
    "print(find_x_1_2([],int(c[1])))\n",
    "print(find_x_1_2([],0))\n",
    "conditions_1 = find_x_1_2(data_A,int(c[1]))\n",
    "print(conditions_1)"
   ]
  },
  {
   "cell_type": "code",
   "execution_count": 4,
   "id": "79287a5f",
   "metadata": {},
   "outputs": [
    {
     "name": "stdout",
     "output_type": "stream",
     "text": [
      "[]\n",
      "[[3, 6, 2, 5], [6, 3, 2, 7], [6, 3, 8, 11]]\n"
     ]
    }
   ],
   "source": [
    "def find_x1_to_4(conditions,data_A):\n",
    "    \n",
    "    Ans_1 = []\n",
    "    \n",
    "    \"\"\"หาตำแหน่งของ x3 และ x4 ที่แทนในสมการ x4 = x3 + x1 เป็นจริง \n",
    "    โดยที่ start เป็น x3 target เป็น x4 condition คือ คู่ของ x1 และ x2 ที่ได้จาก function find_x_1_2\"\"\" \n",
    "    for condition in conditions :\n",
    "\n",
    "        for start in range(len(data_A)):\n",
    "\n",
    "            if start == condition[0] or  start == condition[1]:\n",
    "\n",
    "                continue        \n",
    "\n",
    "            for target in range(len(data_A)):\n",
    "\n",
    "                if target == start or target == condition[0] or  target == condition[1] :\n",
    "\n",
    "                    continue\n",
    "\n",
    "                if data_A[target] == data_A[start] + data_A[condition[0]] :\n",
    "                    \n",
    "                    Ans_1.append([condition[0],condition[1],start,target])\n",
    "\n",
    "    return Ans_1\n",
    "\n",
    "print(find_x1_to_4([],data_A))\n",
    "Ans_1 = find_x1_to_4(conditions_1,data_A)\n",
    "print(Ans_1)"
   ]
  },
  {
   "cell_type": "code",
   "execution_count": 5,
   "id": "ac369a01",
   "metadata": {},
   "outputs": [
    {
     "name": "stdout",
     "output_type": "stream",
     "text": [
      "[[3, 8], [4, 9], [5, 10], [11, 12]]\n"
     ]
    }
   ],
   "source": [
    "# หา x_6 x_8 ใช้\n",
    "\n",
    "def find_x_6_8(data,conditions):\n",
    "    \n",
    "    x_6_8_find_index = []\n",
    "    \n",
    "    # หาตำแหน่งของ x6 และ x8 ที่แทนในสมการ x8 = x6 + c2 เป็นจริง โดยที่ start เป็น x6 target เป็น x8\n",
    "    for start in range(len(data)):\n",
    "\n",
    "        for target in range(len(data)):\n",
    "\n",
    "            if target == start :\n",
    "\n",
    "                continue\n",
    "\n",
    "            if data[target] == data[start] + conditions :\n",
    "\n",
    "                x_6_8_find_index.append([start,target])\n",
    "\n",
    "    return x_6_8_find_index\n",
    "            \n",
    "condition_2 = find_x_6_8(data_A,int(c[2]))\n",
    "print(condition_2)"
   ]
  },
  {
   "cell_type": "code",
   "execution_count": 6,
   "id": "ad24a1dc",
   "metadata": {},
   "outputs": [
    {
     "name": "stdout",
     "output_type": "stream",
     "text": [
      "[[2, 3, 5, 8], [4, 3, 6, 8], [3, 4, 6, 9], [5, 4, 7, 9], [7, 4, 8, 9], [2, 5, 6, 10], [4, 5, 7, 10], [7, 5, 9, 10]]\n"
     ]
    }
   ],
   "source": [
    "def find_x5_to_8(conditions,data_A):\n",
    "    \n",
    "    Ans_1 = []\n",
    "    \n",
    "    \"\"\"หาตำแหน่งของ x5 และ x7 ที่แทนในสมการ x7 = x5 + x6 เป็นจริง \n",
    "    โดยที่ start เป็น x5 target เป็น x7 condition คือ คู่ของ x5 และ x7 ที่ได้จาก function find_x_6_8\"\"\" \n",
    "    for condition in conditions :\n",
    "\n",
    "        for start in range(len(data_A)):\n",
    "\n",
    "            if start == condition[0] or  start == condition[1]:\n",
    "\n",
    "                continue        \n",
    "\n",
    "            for target in range(start+1,len(data_A)):\n",
    "\n",
    "                if target == start or target == condition[0] or  target == condition[1] :\n",
    "\n",
    "                    continue\n",
    "\n",
    "                if data_A[target] == data_A[start] + data_A[condition[0]] :\n",
    "                    \n",
    "                    Ans_1.append([start,condition[0],target,condition[1]])\n",
    "\n",
    "    return Ans_1\n",
    "\n",
    "print(find_x5_to_8(condition_2,data_A))"
   ]
  },
  {
   "cell_type": "code",
   "execution_count": 6,
   "id": "e5bcf239",
   "metadata": {
    "scrolled": true
   },
   "outputs": [],
   "source": [
    "def combine_setA_setB(set_A,set_B):\n",
    "\n",
    "    Ans = []\n",
    "    #หา ตำแหน่งของ x1-x4 กับ x5-x8 ที่ไม่ตรงกันเลย โดยจะให้ return ตัวแรกที่หาเจอ\n",
    "    for A_1 in set_A :\n",
    "\n",
    "        for A_2 in set_B:\n",
    "\n",
    "            A = 4\n",
    "\n",
    "            for member_2 in A_2 :\n",
    "        \n",
    "                if member_2 in A_1 :\n",
    "\n",
    "                    A-=1\n",
    "                \n",
    "            if A == 4 :\n",
    "                \n",
    "                return A_1+A_2\n",
    "\n",
    "    return []    "
   ]
  },
  {
   "cell_type": "code",
   "execution_count": 7,
   "id": "d30133cb",
   "metadata": {},
   "outputs": [],
   "source": [
    "def display_Ans(Ans,data_A):\n",
    "    \n",
    "    A = ''\n",
    "    if Ans != [] :\n",
    "        for i in range(len(Ans)) :\n",
    "            A += str(data_A[Ans[i]])  +\"\\n\"\n",
    "        \n",
    "        return A\n",
    "    else : \n",
    "        return \"There is no answer that satisfies the equation.\""
   ]
  },
  {
   "cell_type": "code",
   "execution_count": 26,
   "id": "5b29722e",
   "metadata": {
    "scrolled": true
   },
   "outputs": [
    {
     "name": "stdout",
     "output_type": "stream",
     "text": [
      "[3, 6, 2, 5, 7, 4, 8, 9]\n",
      "30\n",
      "70\n",
      "20\n",
      "50\n",
      "90\n",
      "40\n",
      "130\n",
      "140\n",
      "\n",
      "x 1  :  30\n",
      "x 2  :  70\n",
      "x 3  :  20\n",
      "x 4  :  50\n",
      "x 5  :  90\n",
      "x 6  :  40\n",
      "x 7  :  130\n",
      "x 8  :  140\n"
     ]
    }
   ],
   "source": [
    "c,data_A = read_file('input_file_2.txt')\n",
    "\n",
    "condition_1 = find_x_1_2(data_A,int(c[1]))\n",
    "\n",
    "Ans_1 = find_x1_to_4(condition_1,data_A)\n",
    "\n",
    "\n",
    "condition_2 = find_x_6_8(data_A,int(c[2]))\n",
    "\n",
    "Ans_2 = find_x5_to_8(condition_2,data_A)\n",
    "\n",
    "Ans = combine_setA_setB(Ans_1,Ans_2)\n",
    "print(Ans)\n",
    "print(display_Ans(Ans,data_A))\n",
    "\n",
    "if Ans != [] :\n",
    "    for i in range(len(Ans)) :\n",
    "        print(\"x\",i+1,\" : \",data_A[Ans[i]])\n",
    "else : \n",
    "    print(\"There is no answer that satisfies the equation.\")"
   ]
  },
  {
   "cell_type": "code",
   "execution_count": null,
   "id": "6f42d80c",
   "metadata": {},
   "outputs": [],
   "source": []
  }
 ],
 "metadata": {
  "kernelspec": {
   "display_name": "Python 3 (ipykernel)",
   "language": "python",
   "name": "python3"
  },
  "language_info": {
   "codemirror_mode": {
    "name": "ipython",
    "version": 3
   },
   "file_extension": ".py",
   "mimetype": "text/x-python",
   "name": "python",
   "nbconvert_exporter": "python",
   "pygments_lexer": "ipython3",
   "version": "3.9.12"
  }
 },
 "nbformat": 4,
 "nbformat_minor": 5
}
